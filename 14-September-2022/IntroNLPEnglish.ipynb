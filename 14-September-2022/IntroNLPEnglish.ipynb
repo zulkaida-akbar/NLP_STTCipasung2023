





<!DOCTYPE html>
<html lang="en" data-color-mode="auto" data-light-theme="light" data-dark-theme="dark"  data-a11y-animated-images="system" data-a11y-link-underlines="false">


  <head>
    <meta charset="utf-8">
  <link rel="dns-prefetch" href="https://github.githubassets.com">
  <link rel="dns-prefetch" href="https://avatars.githubusercontent.com">
  <link rel="dns-prefetch" href="https://github-cloud.s3.amazonaws.com">
  <link rel="dns-prefetch" href="https://user-images.githubusercontent.com/">
  <link rel="preconnect" href="https://github.githubassets.com" crossorigin>
  <link rel="preconnect" href="https://avatars.githubusercontent.com">

  


  <link crossorigin="anonymous" media="all" rel="stylesheet" href="https://github.githubassets.com/assets/light-a09cef873428.css" /><link crossorigin="anonymous" media="all" rel="stylesheet" href="https://github.githubassets.com/assets/dark-5d486a4ede8e.css" /><link data-color-theme="dark_dimmed" crossorigin="anonymous" media="all" rel="stylesheet" data-href="https://github.githubassets.com/assets/dark_dimmed-27c8d635e4e5.css" /><link data-color-theme="dark_high_contrast" crossorigin="anonymous" media="all" rel="stylesheet" data-href="https://github.githubassets.com/assets/dark_high_contrast-8438e75afd36.css" /><link data-color-theme="dark_colorblind" crossorigin="anonymous" media="all" rel="stylesheet" data-href="https://github.githubassets.com/assets/dark_colorblind-bf5665b96628.css" /><link data-color-theme="light_colorblind" crossorigin="anonymous" media="all" rel="stylesheet" data-href="https://github.githubassets.com/assets/light_colorblind-c414b5ba1dce.css" /><link data-color-theme="light_high_contrast" crossorigin="anonymous" media="all" rel="stylesheet" data-href="https://github.githubassets.com/assets/light_high_contrast-e5868b7374db.css" /><link data-color-theme="light_tritanopia" crossorigin="anonymous" media="all" rel="stylesheet" data-href="https://github.githubassets.com/assets/light_tritanopia-299ac9c64ec0.css" /><link data-color-theme="dark_tritanopia" crossorigin="anonymous" media="all" rel="stylesheet" data-href="https://github.githubassets.com/assets/dark_tritanopia-3a26e78ad0ff.css" />
  
    <link crossorigin="anonymous" media="all" rel="stylesheet" href="https://github.githubassets.com/assets/primer-primitives-6143c8f97ed1.css" />
    <link crossorigin="anonymous" media="all" rel="stylesheet" href="https://github.githubassets.com/assets/primer-903aefe99058.css" />
    <link crossorigin="anonymous" media="all" rel="stylesheet" href="https://github.githubassets.com/assets/global-173da82a737b.css" />
    <link crossorigin="anonymous" media="all" rel="stylesheet" href="https://github.githubassets.com/assets/github-5636d019c151.css" />
  <link crossorigin="anonymous" media="all" rel="stylesheet" href="https://github.githubassets.com/assets/code-f68e2653d00d.css" />

  

  <script type="application/json" id="client-env">{"locale":"en","featureFlags":["failbot_handle_non_errors","fix_react_title","geojson_azure_maps","image_metric_tracking","turbo_experiment_risky","use_scroll_restoration","sample_network_conn_type"]}</script>
<script crossorigin="anonymous" defer="defer" type="application/javascript" src="https://github.githubassets.com/assets/wp-runtime-0f5a597610ec.js"></script>
<script crossorigin="anonymous" defer="defer" type="application/javascript" src="https://github.githubassets.com/assets/vendors-node_modules_dompurify_dist_purify_js-64d590970fa6.js"></script>
<script crossorigin="anonymous" defer="defer" type="application/javascript" src="https://github.githubassets.com/assets/vendors-node_modules_stacktrace-parser_dist_stack-trace-parser_esm_js-node_modules_github_bro-a4c183-18bf85b8e9f4.js"></script>
<script crossorigin="anonymous" defer="defer" type="application/javascript" src="https://github.githubassets.com/assets/ui_packages_soft-nav_soft-nav_ts-df17d5597d8f.js"></script>
<script crossorigin="anonymous" defer="defer" type="application/javascript" src="https://github.githubassets.com/assets/environment-509b58e05b9f.js"></script>
<script crossorigin="anonymous" defer="defer" type="application/javascript" src="https://github.githubassets.com/assets/vendors-node_modules_github_selector-observer_dist_index_esm_js-2646a2c533e3.js"></script>
<script crossorigin="anonymous" defer="defer" type="application/javascript" src="https://github.githubassets.com/assets/vendors-node_modules_primer_behaviors_dist_esm_focus-zone_js-d55308df5023.js"></script>
<script crossorigin="anonymous" defer="defer" type="application/javascript" src="https://github.githubassets.com/assets/vendors-node_modules_github_relative-time-element_dist_index_js-99e288659d4f.js"></script>
<script crossorigin="anonymous" defer="defer" type="application/javascript" src="https://github.githubassets.com/assets/vendors-node_modules_github_markdown-toolbar-element_dist_index_js-691f92ed710c.js"></script>
<script crossorigin="anonymous" defer="defer" type="application/javascript" src="https://github.githubassets.com/assets/vendors-node_modules_delegated-events_dist_index_js-node_modules_github_auto-complete-element-5b3870-9b38c0812424.js"></script>
<script crossorigin="anonymous" defer="defer" type="application/javascript" src="https://github.githubassets.com/assets/vendors-node_modules_github_filter-input-element_dist_index_js-node_modules_github_remote-inp-d1569f-eb0e0c1e5438.js"></script>
<script crossorigin="anonymous" defer="defer" type="application/javascript" src="https://github.githubassets.com/assets/vendors-node_modules_github_file-attachment-element_dist_index_js-node_modules_primer_view-co-bdc901-81f1e189072b.js"></script>
<script crossorigin="anonymous" defer="defer" type="application/javascript" src="https://github.githubassets.com/assets/github-elements-44d96edd9c30.js"></script>
<script crossorigin="anonymous" defer="defer" type="application/javascript" src="https://github.githubassets.com/assets/element-registry-631c5146145f.js"></script>
<script crossorigin="anonymous" defer="defer" type="application/javascript" src="https://github.githubassets.com/assets/vendors-node_modules_lit-html_lit-html_js-9d9fe1859ce5.js"></script>
<script crossorigin="anonymous" defer="defer" type="application/javascript" src="https://github.githubassets.com/assets/vendors-node_modules_github_hydro-analytics-client_dist_analytics-client_js-node_modules_gith-f3aee1-fd3c22610e40.js"></script>
<script crossorigin="anonymous" defer="defer" type="application/javascript" src="https://github.githubassets.com/assets/vendors-node_modules_morphdom_dist_morphdom-esm_js-b1fdd7158cf0.js"></script>
<script crossorigin="anonymous" defer="defer" type="application/javascript" src="https://github.githubassets.com/assets/vendors-node_modules_github_mini-throttle_dist_index_js-node_modules_github_alive-client_dist-bf5aa2-4aefce0fc3c8.js"></script>
<script crossorigin="anonymous" defer="defer" type="application/javascript" src="https://github.githubassets.com/assets/vendors-node_modules_github_turbo_dist_turbo_es2017-esm_js-1f4793023fcd.js"></script>
<script crossorigin="anonymous" defer="defer" type="application/javascript" src="https://github.githubassets.com/assets/vendors-node_modules_github_remote-form_dist_index_js-node_modules_scroll-anchoring_dist_scro-52dc4b-e1e33bfc0b7e.js"></script>
<script crossorigin="anonymous" defer="defer" type="application/javascript" src="https://github.githubassets.com/assets/vendors-node_modules_color-convert_index_js-35b3ae68c408.js"></script>
<script crossorigin="anonymous" defer="defer" type="application/javascript" src="https://github.githubassets.com/assets/vendors-node_modules_github_paste-markdown_dist_index_esm_js-node_modules_github_quote-select-426751-0153d059d677.js"></script>
<script crossorigin="anonymous" defer="defer" type="application/javascript" src="https://github.githubassets.com/assets/app_assets_modules_github_details-dialog_ts-app_assets_modules_github_fetch_ts-9ca164041015.js"></script>
<script crossorigin="anonymous" defer="defer" type="application/javascript" src="https://github.githubassets.com/assets/app_assets_modules_github_updatable-content_ts-ui_packages_hydro-analytics_hydro-analytics_ts-e4da304b75e7.js"></script>
<script crossorigin="anonymous" defer="defer" type="application/javascript" src="https://github.githubassets.com/assets/app_assets_modules_github_onfocus_ts-app_assets_modules_github_sticky-scroll-into-view_ts-b88dcdb1ae32.js"></script>
<script crossorigin="anonymous" defer="defer" type="application/javascript" src="https://github.githubassets.com/assets/app_assets_modules_github_behaviors_task-list_ts-app_assets_modules_github_sso_ts-ui_packages-7d50ad-9491f2be61ee.js"></script>
<script crossorigin="anonymous" defer="defer" type="application/javascript" src="https://github.githubassets.com/assets/app_assets_modules_github_behaviors_ajax-error_ts-app_assets_modules_github_behaviors_include-2e2258-f7b8ad0ef997.js"></script>
<script crossorigin="anonymous" defer="defer" type="application/javascript" src="https://github.githubassets.com/assets/app_assets_modules_github_behaviors_commenting_edit_ts-app_assets_modules_github_behaviors_ht-83c235-f22ac6b94445.js"></script>
<script crossorigin="anonymous" defer="defer" type="application/javascript" src="https://github.githubassets.com/assets/app_assets_modules_github_blob-anchor_ts-app_assets_modules_github_filter-sort_ts-app_assets_-c96432-b9f980134541.js"></script>
<script crossorigin="anonymous" defer="defer" type="application/javascript" src="https://github.githubassets.com/assets/behaviors-aee176930752.js"></script>
<script crossorigin="anonymous" defer="defer" type="application/javascript" src="https://github.githubassets.com/assets/vendors-node_modules_delegated-events_dist_index_js-node_modules_github_catalyst_lib_index_js-06ff531-fe0b8ccc90a5.js"></script>
<script crossorigin="anonymous" defer="defer" type="application/javascript" src="https://github.githubassets.com/assets/notifications-global-f57687007bfc.js"></script>
<script crossorigin="anonymous" defer="defer" type="application/javascript" src="https://github.githubassets.com/assets/code-menu-c743a13234fc.js"></script>
  
  <script crossorigin="anonymous" defer="defer" type="application/javascript" src="https://github.githubassets.com/assets/react-lib-210c4b5934c3.js"></script>
<script crossorigin="anonymous" defer="defer" type="application/javascript" src="https://github.githubassets.com/assets/vendors-node_modules_primer_octicons-react_dist_index_esm_js-node_modules_primer_react_lib-es-14a089-38d45acba361.js"></script>
<script crossorigin="anonymous" defer="defer" type="application/javascript" src="https://github.githubassets.com/assets/vendors-node_modules_primer_react_lib-esm_Box_Box_js-8d2713f90c9a.js"></script>
<script crossorigin="anonymous" defer="defer" type="application/javascript" src="https://github.githubassets.com/assets/vendors-node_modules_primer_react_lib-esm_Button_Button_js-node_modules_primer_react_lib-esm_-c2022e-70aff6ca05a9.js"></script>
<script crossorigin="anonymous" defer="defer" type="application/javascript" src="https://github.githubassets.com/assets/vendors-node_modules_primer_react_lib-esm_ActionList_index_js-7bad8659e7bd.js"></script>
<script crossorigin="anonymous" defer="defer" type="application/javascript" src="https://github.githubassets.com/assets/vendors-node_modules_primer_react_lib-esm_Button_index_js-node_modules_primer_react_lib-esm_O-133b0c-6f42d36f1de7.js"></script>
<script crossorigin="anonymous" defer="defer" type="application/javascript" src="https://github.githubassets.com/assets/vendors-node_modules_primer_react_lib-esm_TextInput_TextInput_js-47fe5c8a888d.js"></script>
<script crossorigin="anonymous" defer="defer" type="application/javascript" src="https://github.githubassets.com/assets/vendors-node_modules_primer_behaviors_dist_esm_scroll-into-view_js-node_modules_primer_react_-04bb1b-f1945840d2c2.js"></script>
<script crossorigin="anonymous" defer="defer" type="application/javascript" src="https://github.githubassets.com/assets/vendors-node_modules_primer_react_lib-esm_FormControl_FormControl_js-eadb97e299c8.js"></script>
<script crossorigin="anonymous" defer="defer" type="application/javascript" src="https://github.githubassets.com/assets/vendors-node_modules_primer_react_lib-esm_ActionMenu_js-f0cd24c33676.js"></script>
<script crossorigin="anonymous" defer="defer" type="application/javascript" src="https://github.githubassets.com/assets/vendors-node_modules_react-router-dom_dist_index_js-4a785319b497.js"></script>
<script crossorigin="anonymous" defer="defer" type="application/javascript" src="https://github.githubassets.com/assets/vendors-node_modules_primer_react_lib-esm_Heading_Heading_js-node_modules_primer_react_lib-es-20c766-83991b288f66.js"></script>
<script crossorigin="anonymous" defer="defer" type="application/javascript" src="https://github.githubassets.com/assets/vendors-node_modules_primer_react_lib-esm_Dialog_js-node_modules_primer_react_lib-esm_Flash_F-54f402-24f69910f932.js"></script>
<script crossorigin="anonymous" defer="defer" type="application/javascript" src="https://github.githubassets.com/assets/vendors-node_modules_primer_react_lib-esm_UnderlineNav2_index_js-f81b8e23600f.js"></script>
<script crossorigin="anonymous" defer="defer" type="application/javascript" src="https://github.githubassets.com/assets/vendors-node_modules_primer_react_lib-esm_TreeView_TreeView_js-d86950fa1004.js"></script>
<script crossorigin="anonymous" defer="defer" type="application/javascript" src="https://github.githubassets.com/assets/vendors-node_modules_primer_react_lib-esm_Avatar_Avatar_js-node_modules_primer_react_lib-esm_-82f032-5e0980cb7854.js"></script>
<script crossorigin="anonymous" defer="defer" type="application/javascript" src="https://github.githubassets.com/assets/vendors-node_modules_primer_react_lib-esm_AvatarStack_AvatarStack_js-node_modules_primer_reac-f992ce-dce1b34d3765.js"></script>
<script crossorigin="anonymous" defer="defer" type="application/javascript" src="https://github.githubassets.com/assets/ui_packages_react-core_create-browser-history_ts-ui_packages_react-core_deferred-registry_ts--ebbb92-6b5332bffa1d.js"></script>
<script crossorigin="anonymous" defer="defer" type="application/javascript" src="https://github.githubassets.com/assets/ui_packages_react-core_register-app_ts-3f96a0d371d8.js"></script>
<script crossorigin="anonymous" defer="defer" type="application/javascript" src="https://github.githubassets.com/assets/ui_packages_ref-selector_RefSelector_tsx-8f23b321a246.js"></script>
<script crossorigin="anonymous" defer="defer" type="application/javascript" src="https://github.githubassets.com/assets/app_assets_modules_react-shared_hooks_use-virtual-dynamic_ts-app_assets_modules_react-shared_-70720f-4f06c25f9a81.js"></script>
<script crossorigin="anonymous" defer="defer" type="application/javascript" src="https://github.githubassets.com/assets/ui_packages_commit-attribution_index_ts-ui_packages_copy-to-clipboard_index_ts-ui_packages_us-2ad097-bd8109374378.js"></script>
<script crossorigin="anonymous" defer="defer" type="application/javascript" src="https://github.githubassets.com/assets/ui_packages_alive_alive_ts-ui_packages_alive_connect-alive-subscription_ts-app_assets_modules-face4e-f27dc2e09803.js"></script>
<script crossorigin="anonymous" defer="defer" type="application/javascript" src="https://github.githubassets.com/assets/react-code-view-a8b07fad9e24.js"></script>


  <title>NLP-STTCipasung2022/20-September-2022/IntroNLPEnglish.ipynb at main · zulkaidaakbar/NLP-STTCipasung2022</title>



  <meta name="route-pattern" content="/:user_id/:repository/blob/*name(/*path)">

    
  <meta name="current-catalog-service-hash" content="82c569b93da5c18ed649ebd4c2c79437db4611a6a1373e805a3cb001c64130b7">


  <meta name="request-id" content="DC85:334D:3FBF1D3:436B738:650237F4" data-turbo-transient="true" /><meta name="html-safe-nonce" content="e32cbc4876c8c5539797f93109cc194054cb18e3d58fae6448a6e3a8135d422f" data-turbo-transient="true" /><meta name="visitor-payload" content="eyJyZWZlcnJlciI6Imh0dHBzOi8vZ2l0aHViLmNvbS96dWxrYWlkYWFrYmFyL05MUC1TVFRDaXBhc3VuZzIwMjIvdHJlZS9tYWluLzIwLVNlcHRlbWJlci0yMDIyIiwicmVxdWVzdF9pZCI6IkRDODU6MzM0RDozRkJGMUQzOjQzNkI3Mzg6NjUwMjM3RjQiLCJ2aXNpdG9yX2lkIjoiNDM4MjcyNjcyOTUyNjAzMTE4MSIsInJlZ2lvbl9lZGdlIjoic291dGhlYXN0YXNpYSIsInJlZ2lvbl9yZW5kZXIiOiJpYWQifQ==" data-turbo-transient="true" /><meta name="visitor-hmac" content="bc863d0df4542b7fa7e9405d2a7be797e40712cfbf900b82963f531f586b1556" data-turbo-transient="true" />


    <meta name="hovercard-subject-tag" content="repository:538342963" data-turbo-transient>


  <meta name="github-keyboard-shortcuts" content="repository,source-code,file-tree" data-turbo-transient="true" />
  

  <meta name="selected-link" value="repo_source" data-turbo-transient>
  <link rel="assets" href="https://github.githubassets.com/">

    <meta name="google-site-verification" content="c1kuD-K2HIVF635lypcsWPoD4kilo5-jA_wBFyT4uMY">
  <meta name="google-site-verification" content="KT5gs8h0wvaagLKAVWq8bbeNwnZZK1r1XQysX3xurLU">
  <meta name="google-site-verification" content="ZzhVyEFwb7w3e0-uOTltm8Jsck2F5StVihD0exw2fsA">
  <meta name="google-site-verification" content="GXs5KoUUkNCoaAZn7wPN-t01Pywp9M3sEjnt_3_ZWPc">
  <meta name="google-site-verification" content="Apib7-x98H0j5cPqHWwSMm6dNU4GmODRoqxLiDzdx9I">

<meta name="octolytics-url" content="https://collector.github.com/github/collect" /><meta name="octolytics-actor-id" content="68297438" /><meta name="octolytics-actor-login" content="zulkaidaakbar" /><meta name="octolytics-actor-hash" content="4a273a69bc4641fa6eb468a5251d34f14a0eb26113b5da023753aaa2d7b42a96" />

  <meta name="analytics-location" content="/&lt;user-name&gt;/&lt;repo-name&gt;/blob/show" data-turbo-transient="true" />

  




  

    <meta name="user-login" content="zulkaidaakbar">

  <link rel="sudo-modal" href="/sessions/sudo_modal">

    <meta name="viewport" content="width=device-width">
    
      <meta name="description" content="Contribute to zulkaidaakbar/NLP-STTCipasung2022 development by creating an account on GitHub.">
      <link rel="search" type="application/opensearchdescription+xml" href="/opensearch.xml" title="GitHub">
    <link rel="fluid-icon" href="https://github.com/fluidicon.png" title="GitHub">
    <meta property="fb:app_id" content="1401488693436528">
    <meta name="apple-itunes-app" content="app-id=1477376905, app-argument=https://github.com/zulkaidaakbar/NLP-STTCipasung2022/blob/main/20-September-2022/IntroNLPEnglish.ipynb" />
      <meta name="twitter:image:src" content="https://opengraph.githubassets.com/cb6cf9f719cbc3c26a7d7fc1847d33c1d236189593b1f2a29df9f96bcc31f6fd/zulkaidaakbar/NLP-STTCipasung2022" /><meta name="twitter:site" content="@github" /><meta name="twitter:card" content="summary_large_image" /><meta name="twitter:title" content="NLP-STTCipasung2022/20-September-2022/IntroNLPEnglish.ipynb at main · zulkaidaakbar/NLP-STTCipasung2022" /><meta name="twitter:description" content="Contribute to zulkaidaakbar/NLP-STTCipasung2022 development by creating an account on GitHub." />
      <meta property="og:image" content="https://opengraph.githubassets.com/cb6cf9f719cbc3c26a7d7fc1847d33c1d236189593b1f2a29df9f96bcc31f6fd/zulkaidaakbar/NLP-STTCipasung2022" /><meta property="og:image:alt" content="Contribute to zulkaidaakbar/NLP-STTCipasung2022 development by creating an account on GitHub." /><meta property="og:image:width" content="1200" /><meta property="og:image:height" content="600" /><meta property="og:site_name" content="GitHub" /><meta property="og:type" content="object" /><meta property="og:title" content="NLP-STTCipasung2022/20-September-2022/IntroNLPEnglish.ipynb at main · zulkaidaakbar/NLP-STTCipasung2022" /><meta property="og:url" content="https://github.com/zulkaidaakbar/NLP-STTCipasung2022/blob/main/20-September-2022/IntroNLPEnglish.ipynb" /><meta property="og:description" content="Contribute to zulkaidaakbar/NLP-STTCipasung2022 development by creating an account on GitHub." />
      

      <link rel="shared-web-socket" href="wss://alive.github.com/_sockets/u/68297438/ws?session=eyJ2IjoiVjMiLCJ1Ijo2ODI5NzQzOCwicyI6MTE5MzgyMjE1OCwiYyI6MTU4ODI1NzI1MywidCI6MTY5NDY0NDIxN30=--f76229b7c6cecf417c4785fd5c53431e9ca4d724c67ddf1c4378458ae62ff6d8" data-refresh-url="/_alive" data-session-id="94cda27f4cf564854d0ccdf4605ea146dedfef42d7cc3694ff76e3bc7215a291">
      <link rel="shared-web-socket-src" href="/assets-cdn/worker/socket-worker-71e98f781d79.js">


        <meta name="hostname" content="github.com">


      <meta name="keyboard-shortcuts-preference" content="all">

        <meta name="expected-hostname" content="github.com">


  <meta http-equiv="x-pjax-version" content="433ba0ab563602a33688cd0d2cf1ef5bb8729af57c4cf1fcd9ace238235e842b" data-turbo-track="reload">
  <meta http-equiv="x-pjax-csp-version" content="892c9b6e6279a06cccd6d1ca216dbd09218b81db6cf120890eda9982f4c21270" data-turbo-track="reload">
  <meta http-equiv="x-pjax-css-version" content="621d2fd40b3b7575700712a7a6b727800e538d82dc3e7148f775054e7c4d9d59" data-turbo-track="reload">
  <meta http-equiv="x-pjax-js-version" content="f5273cd1fbf297a021957e1ba9a7168455ec9f36faed69c10110170fa9f8a8b5" data-turbo-track="reload">

  <meta name="turbo-cache-control" content="no-preview" data-turbo-transient="">

      <meta name="turbo-cache-control" content="no-cache" data-turbo-transient>
    <meta data-hydrostats="publish">

  <meta name="go-import" content="github.com/zulkaidaakbar/NLP-STTCipasung2022 git https://github.com/zulkaidaakbar/NLP-STTCipasung2022.git">

  <meta name="octolytics-dimension-user_id" content="68297438" /><meta name="octolytics-dimension-user_login" content="zulkaidaakbar" /><meta name="octolytics-dimension-repository_id" content="538342963" /><meta name="octolytics-dimension-repository_nwo" content="zulkaidaakbar/NLP-STTCipasung2022" /><meta name="octolytics-dimension-repository_public" content="true" /><meta name="octolytics-dimension-repository_is_fork" content="false" /><meta name="octolytics-dimension-repository_network_root_id" content="538342963" /><meta name="octolytics-dimension-repository_network_root_nwo" content="zulkaidaakbar/NLP-STTCipasung2022" />



  <meta name="turbo-body-classes" content="logged-in env-production page-responsive">


  <meta name="browser-stats-url" content="https://api.github.com/_private/browser/stats">

  <meta name="browser-errors-url" content="https://api.github.com/_private/browser/errors">

  <meta name="browser-optimizely-client-errors-url" content="https://api.github.com/_private/browser/optimizely_client/errors">

  <link rel="mask-icon" href="https://github.githubassets.com/pinned-octocat.svg" color="#000000">
  <link rel="alternate icon" class="js-site-favicon" type="image/png" href="https://github.githubassets.com/favicons/favicon.png">
  <link rel="icon" class="js-site-favicon" type="image/svg+xml" href="https://github.githubassets.com/favicons/favicon.svg">

<meta name="theme-color" content="#1e2327">
<meta name="color-scheme" content="light dark" />


  <link rel="manifest" href="/manifest.json" crossOrigin="use-credentials">

  </head>

  <body class="logged-in env-production page-responsive" style="word-wrap: break-word;">
    <div data-turbo-body class="logged-in env-production page-responsive" style="word-wrap: break-word;">
      


    <div class="position-relative js-header-wrapper ">
      <a href="#start-of-content" class="p-3 color-bg-accent-emphasis color-fg-on-emphasis show-on-focus js-skip-to-content">Skip to content</a>
      <span data-view-component="true" class="progress-pjax-loader Progress position-fixed width-full">
    <span style="width: 0%;" data-view-component="true" class="Progress-item progress-pjax-loader-bar left-0 top-0 color-bg-accent-emphasis"></span>
</span>      
      


      

        <script crossorigin="anonymous" defer="defer" type="application/javascript" src="https://github.githubassets.com/assets/vendors-node_modules_allex_crc32_lib_crc32_esm_js-node_modules_github_clipboard-copy-element_-2da1d5-ca2e742c29fb.js"></script>
<script crossorigin="anonymous" defer="defer" type="application/javascript" src="https://github.githubassets.com/assets/app_assets_modules_github_command-palette_items_help-item_ts-app_assets_modules_github_comman-48ad9d-b83fa12e3a83.js"></script>
<script crossorigin="anonymous" defer="defer" type="application/javascript" src="https://github.githubassets.com/assets/command-palette-0ae4aa129961.js"></script>

            <header class="AppHeader">
    

    <div class="AppHeader-globalBar pb-2 js-global-bar">
      <div class="AppHeader-globalBar-start">
          <deferred-side-panel data-url="/_side-panels/global">
  <include-fragment data-target="deferred-side-panel.fragment">
      
  <button aria-label="Open global navigation menu" data-action="click:deferred-side-panel#loadPanel click:deferred-side-panel#panelOpened" data-show-dialog-id="dialog-1b759f09-99a5-4c49-875f-9ac592473ed8" id="dialog-show-dialog-1b759f09-99a5-4c49-875f-9ac592473ed8" type="button" data-view-component="true" class="Button Button--iconOnly Button--secondary Button--medium AppHeader-button color-bg-transparent p-0 color-fg-muted">    <svg aria-hidden="true" height="16" viewBox="0 0 16 16" version="1.1" width="16" data-view-component="true" class="octicon octicon-three-bars Button-visual">
    <path d="M1 2.75A.75.75 0 0 1 1.75 2h12.5a.75.75 0 0 1 0 1.5H1.75A.75.75 0 0 1 1 2.75Zm0 5A.75.75 0 0 1 1.75 7h12.5a.75.75 0 0 1 0 1.5H1.75A.75.75 0 0 1 1 7.75ZM1.75 12h12.5a.75.75 0 0 1 0 1.5H1.75a.75.75 0 0 1 0-1.5Z"></path>
</svg>
</button>  

<div class="Overlay--hidden Overlay-backdrop--side Overlay-backdrop--placement-left" data-modal-dialog-overlay>
  <modal-dialog data-target="deferred-side-panel.panel" role="dialog" id="dialog-1b759f09-99a5-4c49-875f-9ac592473ed8" aria-modal="true" aria-disabled="true" aria-labelledby="dialog-1b759f09-99a5-4c49-875f-9ac592473ed8-title" aria-describedby="dialog-1b759f09-99a5-4c49-875f-9ac592473ed8-description" data-view-component="true" class="Overlay Overlay-whenNarrow Overlay--size-small-portrait Overlay--motion-scaleFade SidePanel">
    <div styles="flex-direction: row;" data-view-component="true" class="Overlay-header">
  <div class="Overlay-headerContentWrap">
    <div class="Overlay-titleWrap">
      <h1 class="Overlay-title sr-only" id="dialog-1b759f09-99a5-4c49-875f-9ac592473ed8-title">
        Global navigation
      </h1>
            <div data-view-component="true" class="d-flex">
      <div data-view-component="true" class="AppHeader-logo position-relative">
        <svg aria-hidden="true" height="24" viewBox="0 0 16 16" version="1.1" width="24" data-view-component="true" class="octicon octicon-mark-github">
    <path d="M8 0c4.42 0 8 3.58 8 8a8.013 8.013 0 0 1-5.45 7.59c-.4.08-.55-.17-.55-.38 0-.27.01-1.13.01-2.2 0-.75-.25-1.23-.54-1.48 1.78-.2 3.65-.88 3.65-3.95 0-.88-.31-1.59-.82-2.15.08-.2.36-1.02-.08-2.12 0 0-.67-.22-2.2.82-.64-.18-1.32-.27-2-.27-.68 0-1.36.09-2 .27-1.53-1.03-2.2-.82-2.2-.82-.44 1.1-.16 1.92-.08 2.12-.51.56-.82 1.28-.82 2.15 0 3.06 1.86 3.75 3.64 3.95-.23.2-.44.55-.51 1.07-.46.21-1.61.55-2.33-.66-.15-.24-.6-.83-1.23-.82-.67.01-.27.38.01.53.34.19.73.9.82 1.13.16.45.68 1.31 2.69.94 0 .67.01 1.3.01 1.49 0 .21-.15.45-.55.38A7.995 7.995 0 0 1 0 8c0-4.42 3.58-8 8-8Z"></path>
</svg>
</div></div>
    </div>
    <div class="Overlay-actionWrap">
      <button data-close-dialog-id="dialog-1b759f09-99a5-4c49-875f-9ac592473ed8" aria-label="Close" type="button" data-view-component="true" class="close-button Overlay-closeButton"><svg aria-hidden="true" height="16" viewBox="0 0 16 16" version="1.1" width="16" data-view-component="true" class="octicon octicon-x">
    <path d="M3.72 3.72a.75.75 0 0 1 1.06 0L8 6.94l3.22-3.22a.749.749 0 0 1 1.275.326.749.749 0 0 1-.215.734L9.06 8l3.22 3.22a.749.749 0 0 1-.326 1.275.749.749 0 0 1-.734-.215L8 9.06l-3.22 3.22a.751.751 0 0 1-1.042-.018.751.751 0 0 1-.018-1.042L6.94 8 3.72 4.78a.75.75 0 0 1 0-1.06Z"></path>
</svg></button>
    </div>
  </div>
</div>
      <div data-view-component="true" class="Overlay-body d-flex flex-column height-full px-2">      <nav aria-label="Site navigation" data-view-component="true" class="ActionList">
  
  <nav-list>
    <ul data-view-component="true" class="ActionListWrap">
        
          
<li item_id="general" data-item-id="" data-targets="nav-list.items" data-view-component="true" class="ActionListItem">
    
    <a data-hotkey="g d" data-analytics-event="{&quot;category&quot;:&quot;Global navigation&quot;,&quot;action&quot;:&quot;HOME&quot;,&quot;label&quot;:null}" id="item-4575ca37-0a29-4bf9-a046-bdcf787ff934" href="/dashboard" data-view-component="true" class="ActionListContent ActionListContent--visual16">
        <span class="ActionListItem-visual ActionListItem-visual--leading">
          <svg aria-hidden="true" height="16" viewBox="0 0 16 16" version="1.1" width="16" data-view-component="true" class="octicon octicon-home">
    <path d="M6.906.664a1.749 1.749 0 0 1 2.187 0l5.25 4.2c.415.332.657.835.657 1.367v7.019A1.75 1.75 0 0 1 13.25 15h-3.5a.75.75 0 0 1-.75-.75V9H7v5.25a.75.75 0 0 1-.75.75h-3.5A1.75 1.75 0 0 1 1 13.25V6.23c0-.531.242-1.034.657-1.366l5.25-4.2Zm1.25 1.171a.25.25 0 0 0-.312 0l-5.25 4.2a.25.25 0 0 0-.094.196v7.019c0 .138.112.25.25.25H5.5V8.25a.75.75 0 0 1 .75-.75h3.5a.75.75 0 0 1 .75.75v5.25h2.75a.25.25 0 0 0 .25-.25V6.23a.25.25 0 0 0-.094-.195Z"></path>
</svg>
        </span>
      
        <span data-view-component="true" class="ActionListItem-label">
          Home
</span></a>
  
  
</li>

        
          
<li item_id="personal_info" data-item-id="" data-targets="nav-list.items" data-view-component="true" class="ActionListItem">
    
    <a data-hotkey="g i" data-analytics-event="{&quot;category&quot;:&quot;Global navigation&quot;,&quot;action&quot;:&quot;ISSUES&quot;,&quot;label&quot;:null}" id="item-c949541e-872c-48b0-b8ef-677ef57d545d" href="/issues" data-view-component="true" class="ActionListContent ActionListContent--visual16">
        <span class="ActionListItem-visual ActionListItem-visual--leading">
          <svg aria-hidden="true" height="16" viewBox="0 0 16 16" version="1.1" width="16" data-view-component="true" class="octicon octicon-issue-opened">
    <path d="M8 9.5a1.5 1.5 0 1 0 0-3 1.5 1.5 0 0 0 0 3Z"></path><path d="M8 0a8 8 0 1 1 0 16A8 8 0 0 1 8 0ZM1.5 8a6.5 6.5 0 1 0 13 0 6.5 6.5 0 0 0-13 0Z"></path>
</svg>
        </span>
      
        <span data-view-component="true" class="ActionListItem-label">
          Issues
</span></a>
  
  
</li>

        
          
<li item_id="password" data-item-id="" data-targets="nav-list.items" data-view-component="true" class="ActionListItem">
    
    <a data-hotkey="g p" data-analytics-event="{&quot;category&quot;:&quot;Global navigation&quot;,&quot;action&quot;:&quot;PULL_REQUESTS&quot;,&quot;label&quot;:null}" id="item-5693cef3-7f55-4cbc-af24-f40257d79a23" href="/pulls" data-view-component="true" class="ActionListContent ActionListContent--visual16">
        <span class="ActionListItem-visual ActionListItem-visual--leading">
          <svg aria-hidden="true" height="16" viewBox="0 0 16 16" version="1.1" width="16" data-view-component="true" class="octicon octicon-git-pull-request">
    <path d="M1.5 3.25a2.25 2.25 0 1 1 3 2.122v5.256a2.251 2.251 0 1 1-1.5 0V5.372A2.25 2.25 0 0 1 1.5 3.25Zm5.677-.177L9.573.677A.25.25 0 0 1 10 .854V2.5h1A2.5 2.5 0 0 1 13.5 5v5.628a2.251 2.251 0 1 1-1.5 0V5a1 1 0 0 0-1-1h-1v1.646a.25.25 0 0 1-.427.177L7.177 3.427a.25.25 0 0 1 0-.354ZM3.75 2.5a.75.75 0 1 0 0 1.5.75.75 0 0 0 0-1.5Zm0 9.5a.75.75 0 1 0 0 1.5.75.75 0 0 0 0-1.5Zm8.25.75a.75.75 0 1 0 1.5 0 .75.75 0 0 0-1.5 0Z"></path>
</svg>
        </span>
      
        <span data-view-component="true" class="ActionListItem-label">
          Pull requests
</span></a>
  
  
</li>

        
          
<li item_id="billing" data-item-id="" data-targets="nav-list.items" data-view-component="true" class="ActionListItem">
    
    <a data-analytics-event="{&quot;category&quot;:&quot;Global navigation&quot;,&quot;action&quot;:&quot;DISCUSSIONS&quot;,&quot;label&quot;:null}" id="item-bb0181b4-83f3-4bce-89fd-32d58c94681b" href="/discussions" data-view-component="true" class="ActionListContent ActionListContent--visual16">
        <span class="ActionListItem-visual ActionListItem-visual--leading">
          <svg aria-hidden="true" height="16" viewBox="0 0 16 16" version="1.1" width="16" data-view-component="true" class="octicon octicon-comment-discussion">
    <path d="M1.75 1h8.5c.966 0 1.75.784 1.75 1.75v5.5A1.75 1.75 0 0 1 10.25 10H7.061l-2.574 2.573A1.458 1.458 0 0 1 2 11.543V10h-.25A1.75 1.75 0 0 1 0 8.25v-5.5C0 1.784.784 1 1.75 1ZM1.5 2.75v5.5c0 .138.112.25.25.25h1a.75.75 0 0 1 .75.75v2.19l2.72-2.72a.749.749 0 0 1 .53-.22h3.5a.25.25 0 0 0 .25-.25v-5.5a.25.25 0 0 0-.25-.25h-8.5a.25.25 0 0 0-.25.25Zm13 2a.25.25 0 0 0-.25-.25h-.5a.75.75 0 0 1 0-1.5h.5c.966 0 1.75.784 1.75 1.75v5.5A1.75 1.75 0 0 1 14.25 12H14v1.543a1.458 1.458 0 0 1-2.487 1.03L9.22 12.28a.749.749 0 0 1 .326-1.275.749.749 0 0 1 .734.215l2.22 2.22v-2.19a.75.75 0 0 1 .75-.75h1a.25.25 0 0 0 .25-.25Z"></path>
</svg>
        </span>
      
        <span data-view-component="true" class="ActionListItem-label">
          Discussions
</span></a>
  
  
</li>

</ul>  </nav-list>
</nav>

      <div data-view-component="true" class="my-3 d-flex flex-justify-center height-full">
        <svg style="box-sizing: content-box; color: var(--color-icon-primary);" width="16" height="16" viewBox="0 0 16 16" fill="none" data-view-component="true" class="anim-rotate">
  <circle cx="8" cy="8" r="7" stroke="currentColor" stroke-opacity="0.25" stroke-width="2" vector-effect="non-scaling-stroke" />
  <path d="M15 8a7.002 7.002 0 00-7-7" stroke="currentColor" stroke-width="2" stroke-linecap="round" vector-effect="non-scaling-stroke" />
</svg>
</div>
</div>
      <div data-view-component="true" class="Overlay-footer Overlay-footer--alignEnd d-block pt-0">      <li role="presentation" aria-hidden="true" data-view-component="true" class="ActionList-sectionDivider mt-0 mb-1"></li>

        <nav aria-label="Additional navigation" data-view-component="true" class="ActionList px-0 flex-1">
  
  <nav-list>
    <ul data-view-component="true" class="ActionListWrap">
        
          
<li item_id="general" data-item-id="" data-targets="nav-list.items" data-view-component="true" class="ActionListItem">
    
    <a data-analytics-event="{&quot;category&quot;:&quot;Global navigation&quot;,&quot;action&quot;:&quot;EXPLORE&quot;,&quot;label&quot;:null}" id="item-619610ec-0c58-4f2e-8349-210902c19789" href="/explore" data-view-component="true" class="ActionListContent ActionListContent--visual16">
        <span class="ActionListItem-visual ActionListItem-visual--leading">
          <svg aria-hidden="true" height="16" viewBox="0 0 16 16" version="1.1" width="16" data-view-component="true" class="octicon octicon-telescope">
    <path d="M14.184 1.143v-.001l1.422 2.464a1.75 1.75 0 0 1-.757 2.451L3.104 11.713a1.75 1.75 0 0 1-2.275-.702l-.447-.775a1.75 1.75 0 0 1 .53-2.32L11.682.573a1.748 1.748 0 0 1 2.502.57Zm-4.709 9.32h-.001l2.644 3.863a.75.75 0 1 1-1.238.848l-1.881-2.75v2.826a.75.75 0 0 1-1.5 0v-2.826l-1.881 2.75a.75.75 0 1 1-1.238-.848l2.049-2.992a.746.746 0 0 1 .293-.253l1.809-.87a.749.749 0 0 1 .944.252ZM9.436 3.92h-.001l-4.97 3.39.942 1.63 5.42-2.61Zm3.091-2.108h.001l-1.85 1.26 1.505 2.605 2.016-.97a.247.247 0 0 0 .13-.151.247.247 0 0 0-.022-.199l-1.422-2.464a.253.253 0 0 0-.161-.119.254.254 0 0 0-.197.038ZM1.756 9.157a.25.25 0 0 0-.075.33l.447.775a.25.25 0 0 0 .325.1l1.598-.769-.83-1.436-1.465 1Z"></path>
</svg>
        </span>
      
        <span data-view-component="true" class="ActionListItem-label">
          Explore
</span></a>
  
  
</li>

        
          
<li item_id="general" data-item-id="" data-targets="nav-list.items" data-view-component="true" class="ActionListItem">
    
    <a data-analytics-event="{&quot;category&quot;:&quot;Global navigation&quot;,&quot;action&quot;:&quot;MARKETPLACE&quot;,&quot;label&quot;:null}" id="item-5f875215-d54c-4168-9a51-665b2115e94e" href="/marketplace" data-view-component="true" class="ActionListContent ActionListContent--visual16">
        <span class="ActionListItem-visual ActionListItem-visual--leading">
          <svg aria-hidden="true" height="16" viewBox="0 0 16 16" version="1.1" width="16" data-view-component="true" class="octicon octicon-gift">
    <path d="M2 2.75A2.75 2.75 0 0 1 4.75 0c.983 0 1.873.42 2.57 1.232.268.318.497.668.68 1.042.183-.375.411-.725.68-1.044C9.376.42 10.266 0 11.25 0a2.75 2.75 0 0 1 2.45 4h.55c.966 0 1.75.784 1.75 1.75v2c0 .698-.409 1.301-1 1.582v4.918A1.75 1.75 0 0 1 13.25 16H2.75A1.75 1.75 0 0 1 1 14.25V9.332C.409 9.05 0 8.448 0 7.75v-2C0 4.784.784 4 1.75 4h.55c-.192-.375-.3-.8-.3-1.25ZM7.25 9.5H2.5v4.75c0 .138.112.25.25.25h4.5Zm1.5 0v5h4.5a.25.25 0 0 0 .25-.25V9.5Zm0-4V8h5.5a.25.25 0 0 0 .25-.25v-2a.25.25 0 0 0-.25-.25Zm-7 0a.25.25 0 0 0-.25.25v2c0 .138.112.25.25.25h5.5V5.5h-5.5Zm3-4a1.25 1.25 0 0 0 0 2.5h2.309c-.233-.818-.542-1.401-.878-1.793-.43-.502-.915-.707-1.431-.707ZM8.941 4h2.309a1.25 1.25 0 0 0 0-2.5c-.516 0-1 .205-1.43.707-.337.392-.646.975-.879 1.793Z"></path>
</svg>
        </span>
      
        <span data-view-component="true" class="ActionListItem-label">
          Marketplace
</span></a>
  
  
</li>

        
          
<li item_id="feedback" data-item-id="" data-targets="nav-list.items" data-view-component="true" class="ActionListItem">
    
    <a data-analytics-event="{&quot;category&quot;:&quot;Global navigation&quot;,&quot;action&quot;:&quot;FEEDBACK&quot;,&quot;label&quot;:null}" id="item-bc4dc64c-7ee3-4d60-a348-20b961d1dc15" href="https://gh.io/navigation-update" data-view-component="true" class="ActionListContent ActionListContent--visual16">
        <span class="ActionListItem-visual ActionListItem-visual--leading">
          <svg aria-hidden="true" height="16" viewBox="0 0 16 16" version="1.1" width="16" data-view-component="true" class="octicon octicon-comment-discussion">
    <path d="M1.75 1h8.5c.966 0 1.75.784 1.75 1.75v5.5A1.75 1.75 0 0 1 10.25 10H7.061l-2.574 2.573A1.458 1.458 0 0 1 2 11.543V10h-.25A1.75 1.75 0 0 1 0 8.25v-5.5C0 1.784.784 1 1.75 1ZM1.5 2.75v5.5c0 .138.112.25.25.25h1a.75.75 0 0 1 .75.75v2.19l2.72-2.72a.749.749 0 0 1 .53-.22h3.5a.25.25 0 0 0 .25-.25v-5.5a.25.25 0 0 0-.25-.25h-8.5a.25.25 0 0 0-.25.25Zm13 2a.25.25 0 0 0-.25-.25h-.5a.75.75 0 0 1 0-1.5h.5c.966 0 1.75.784 1.75 1.75v5.5A1.75 1.75 0 0 1 14.25 12H14v1.543a1.458 1.458 0 0 1-2.487 1.03L9.22 12.28a.749.749 0 0 1 .326-1.275.749.749 0 0 1 .734.215l2.22 2.22v-2.19a.75.75 0 0 1 .75-.75h1a.25.25 0 0 0 .25-.25Z"></path>
</svg>
        </span>
      
        <span data-view-component="true" class="ActionListItem-label">
          Give new navigation feedback
</span>        <span class="ActionListItem-visual ActionListItem-visual--trailing">
          <span title="Beta" data-view-component="true" class="Counter color-bg-default color-border-success-emphasis color-fg-success">Beta</span>
        </span>
</a>
  
  
</li>

</ul>  </nav-list>
</nav>

      <div data-view-component="true" class="px-2">      <p class="color-fg-subtle text-small text-light">&copy; 2023 GitHub, Inc.</p>

      <div data-view-component="true" class="d-flex text-small text-light">
          <a target="_blank" href="/about" data-view-component="true" class="Link no-underline mr-2">About</a>
          <a target="_blank" href="https://github.blog" data-view-component="true" class="Link no-underline mr-2">Blog</a>
          <a target="_blank" href="https://docs.github.com/site-policy/github-terms/github-terms-of-service" data-view-component="true" class="Link no-underline mr-2">Terms</a>
          <a target="_blank" href="https://docs.github.com/site-policy/privacy-policies/github-privacy-statement" data-view-component="true" class="Link no-underline mr-2">Privacy</a>
          <a target="_blank" href="/security" data-view-component="true" class="Link no-underline mr-2">Security</a>
        <a target="_blank" href="https://www.githubstatus.com/" data-view-component="true" class="Link no-underline mr-3">Status</a>
</div></div>
</div>
</modal-dialog></div>

  </include-fragment>
</deferred-side-panel>

        <a
          class="AppHeader-logo ml-2"
          href="https://github.com/"
          data-hotkey="g d"
          aria-label="Homepage "
          data-turbo="false"
          data-analytics-event="{&quot;category&quot;:&quot;Header&quot;,&quot;action&quot;:&quot;go to dashboard&quot;,&quot;label&quot;:&quot;icon:logo&quot;}"
        >
          <svg height="32" aria-hidden="true" viewBox="0 0 16 16" version="1.1" width="32" data-view-component="true" class="octicon octicon-mark-github v-align-middle color-fg-default">
    <path d="M8 0c4.42 0 8 3.58 8 8a8.013 8.013 0 0 1-5.45 7.59c-.4.08-.55-.17-.55-.38 0-.27.01-1.13.01-2.2 0-.75-.25-1.23-.54-1.48 1.78-.2 3.65-.88 3.65-3.95 0-.88-.31-1.59-.82-2.15.08-.2.36-1.02-.08-2.12 0 0-.67-.22-2.2.82-.64-.18-1.32-.27-2-.27-.68 0-1.36.09-2 .27-1.53-1.03-2.2-.82-2.2-.82-.44 1.1-.16 1.92-.08 2.12-.51.56-.82 1.28-.82 2.15 0 3.06 1.86 3.75 3.64 3.95-.23.2-.44.55-.51 1.07-.46.21-1.61.55-2.33-.66-.15-.24-.6-.83-1.23-.82-.67.01-.27.38.01.53.34.19.73.9.82 1.13.16.45.68 1.31 2.69.94 0 .67.01 1.3.01 1.49 0 .21-.15.45-.55.38A7.995 7.995 0 0 1 0 8c0-4.42 3.58-8 8-8Z"></path>
</svg>
        </a>

          <div class="AppHeader-context" >
  <div class="AppHeader-context-compact">
        <button aria-expanded="false" aria-haspopup="dialog" aria-label="Page context: zulkaidaakbar / NLP-STTCipasung2022" id="dialog-show-context-region-dialog" data-show-dialog-id="context-region-dialog" type="button" data-view-component="true" class="AppHeader-context-compact-trigger Truncate Button--secondary Button--medium Button box-shadow-none">    <span class="Button-content">
      <span class="Button-label"><span class="AppHeader-context-compact-lead">
                <span class="AppHeader-context-compact-parentItem">zulkaidaakbar</span>
                <span class="AppHeader-context-compact-separator">&nbsp;/</span>

            </span>

            <strong class="AppHeader-context-compact-mainItem d-flex flex-items-center Truncate" >
  <span class="Truncate-text ">NLP-STTCipasung2022</span>

</strong></span>
    </span>
</button>  

<div class="Overlay--hidden Overlay-backdrop--center" data-modal-dialog-overlay>
  <modal-dialog role="dialog" id="context-region-dialog" aria-modal="true" aria-disabled="true" aria-labelledby="context-region-dialog-title" aria-describedby="context-region-dialog-description" data-view-component="true" class="Overlay Overlay-whenNarrow Overlay--size-medium Overlay--motion-scaleFade">
    <div data-view-component="true" class="Overlay-header">
  <div class="Overlay-headerContentWrap">
    <div class="Overlay-titleWrap">
      <h1 class="Overlay-title " id="context-region-dialog-title">
        Navigate back to
      </h1>
    </div>
    <div class="Overlay-actionWrap">
      <button data-close-dialog-id="context-region-dialog" aria-label="Close" type="button" data-view-component="true" class="close-button Overlay-closeButton"><svg aria-hidden="true" height="16" viewBox="0 0 16 16" version="1.1" width="16" data-view-component="true" class="octicon octicon-x">
    <path d="M3.72 3.72a.75.75 0 0 1 1.06 0L8 6.94l3.22-3.22a.749.749 0 0 1 1.275.326.749.749 0 0 1-.215.734L9.06 8l3.22 3.22a.749.749 0 0 1-.326 1.275.749.749 0 0 1-.734-.215L8 9.06l-3.22 3.22a.751.751 0 0 1-1.042-.018.751.751 0 0 1-.018-1.042L6.94 8 3.72 4.78a.75.75 0 0 1 0-1.06Z"></path>
</svg></button>
    </div>
  </div>
</div>
      <div data-view-component="true" class="Overlay-body">          <ul role="list" class="list-style-none" >
    <li>
      <a data-analytics-event="{&quot;category&quot;:&quot;SiteHeaderComponent&quot;,&quot;action&quot;:&quot;context_region_crumb&quot;,&quot;label&quot;:&quot;zulkaidaakbar&quot;,&quot;screen_size&quot;:&quot;compact&quot;}" href="/zulkaidaakbar" data-view-component="true" class="Link--primary Truncate d-flex flex-items-center py-1">
        <span class="AppHeader-context-item-label Truncate-text ">
            <svg aria-hidden="true" height="12" viewBox="0 0 16 16" version="1.1" width="12" data-view-component="true" class="octicon octicon-person mr-1">
    <path d="M10.561 8.073a6.005 6.005 0 0 1 3.432 5.142.75.75 0 1 1-1.498.07 4.5 4.5 0 0 0-8.99 0 .75.75 0 0 1-1.498-.07 6.004 6.004 0 0 1 3.431-5.142 3.999 3.999 0 1 1 5.123 0ZM10.5 5a2.5 2.5 0 1 0-5 0 2.5 2.5 0 0 0 5 0Z"></path>
</svg>

          zulkaidaakbar
        </span>

</a>
    </li>
    <li>
      <a data-analytics-event="{&quot;category&quot;:&quot;SiteHeaderComponent&quot;,&quot;action&quot;:&quot;context_region_crumb&quot;,&quot;label&quot;:&quot;NLP-STTCipasung2022&quot;,&quot;screen_size&quot;:&quot;compact&quot;}" href="/zulkaidaakbar/NLP-STTCipasung2022" data-view-component="true" class="Link--primary Truncate d-flex flex-items-center py-1">
        <span class="AppHeader-context-item-label Truncate-text ">
            <svg aria-hidden="true" height="12" viewBox="0 0 16 16" version="1.1" width="12" data-view-component="true" class="octicon octicon-repo mr-1">
    <path d="M2 2.5A2.5 2.5 0 0 1 4.5 0h8.75a.75.75 0 0 1 .75.75v12.5a.75.75 0 0 1-.75.75h-2.5a.75.75 0 0 1 0-1.5h1.75v-2h-8a1 1 0 0 0-.714 1.7.75.75 0 1 1-1.072 1.05A2.495 2.495 0 0 1 2 11.5Zm10.5-1h-8a1 1 0 0 0-1 1v6.708A2.486 2.486 0 0 1 4.5 9h8ZM5 12.25a.25.25 0 0 1 .25-.25h3.5a.25.25 0 0 1 .25.25v3.25a.25.25 0 0 1-.4.2l-1.45-1.087a.249.249 0 0 0-.3 0L5.4 15.7a.25.25 0 0 1-.4-.2Z"></path>
</svg>

          NLP-STTCipasung2022
        </span>

</a>
    </li>
</ul>

</div>
      
</modal-dialog></div>
  </div>

  <div class="AppHeader-context-full">
    <nav role="navigation" aria-label="Page context">
      <ul role="list" class="list-style-none" >
    <li>
      <a data-analytics-event="{&quot;category&quot;:&quot;SiteHeaderComponent&quot;,&quot;action&quot;:&quot;context_region_crumb&quot;,&quot;label&quot;:&quot;zulkaidaakbar&quot;,&quot;screen_size&quot;:&quot;full&quot;}" data-hovercard-type="user" data-hovercard-url="/users/zulkaidaakbar/hovercard" data-octo-click="hovercard-link-click" data-octo-dimensions="link_type:self" href="/zulkaidaakbar" data-view-component="true" class="AppHeader-context-item">
        <span class="AppHeader-context-item-label  ">

          zulkaidaakbar
        </span>

</a>
        <span class="AppHeader-context-item-separator">/</span>
    </li>
    <li>
      <a data-analytics-event="{&quot;category&quot;:&quot;SiteHeaderComponent&quot;,&quot;action&quot;:&quot;context_region_crumb&quot;,&quot;label&quot;:&quot;NLP-STTCipasung2022&quot;,&quot;screen_size&quot;:&quot;full&quot;}" href="/zulkaidaakbar/NLP-STTCipasung2022" data-view-component="true" class="AppHeader-context-item">
        <span class="AppHeader-context-item-label  ">

          NLP-STTCipasung2022
        </span>

</a>
    </li>
</ul>

    </nav>
  </div>
</div>

      </div>
      <div class="AppHeader-globalBar-end">
          <div class="AppHeader-search" >
              


<qbsearch-input class="search-input" data-scope="repo:zulkaidaakbar/NLP-STTCipasung2022" data-custom-scopes-path="/search/custom_scopes" data-delete-custom-scopes-csrf="xDNz_KMwxyIGYiW1M_-okeKG1HAiOSQGkqOZqNzqSPhpo2jaaspssB2nqyvLrR0b6ZX0JS3yOBdWKIOcsgYHAA" data-max-custom-scopes="10" data-header-redesign-enabled="true" data-initial-value="" data-blackbird-suggestions-path="/search/suggestions" data-jump-to-suggestions-path="/_graphql/GetSuggestedNavigationDestinations" data-current-repository="zulkaidaakbar/NLP-STTCipasung2022" data-current-org="" data-current-owner="zulkaidaakbar" data-logged-in="true">
  <div
    class="search-input-container search-with-dialog position-relative d-flex flex-row flex-items-center height-auto color-bg-transparent border-0 color-fg-subtle mx-0"
    data-action="click:qbsearch-input#searchInputContainerClicked"
  >
      
            <button type="button" data-action="click:qbsearch-input#handleExpand" class="AppHeader-button AppHeader-search-whenNarrow" aria-label="Search or jump to…" aria-expanded="false" aria-haspopup="dialog">
            <svg aria-hidden="true" height="16" viewBox="0 0 16 16" version="1.1" width="16" data-view-component="true" class="octicon octicon-search">
    <path d="M10.68 11.74a6 6 0 0 1-7.922-8.982 6 6 0 0 1 8.982 7.922l3.04 3.04a.749.749 0 0 1-.326 1.275.749.749 0 0 1-.734-.215ZM11.5 7a4.499 4.499 0 1 0-8.997 0A4.499 4.499 0 0 0 11.5 7Z"></path>
</svg>
          </button>


<div class="AppHeader-search-whenRegular">
  <div class="AppHeader-search-wrap AppHeader-search-wrap--hasTrailing">
    <div class="AppHeader-search-control">
      <label
        for="AppHeader-searchInput"
        aria-label="Search or jump to…"
        class="AppHeader-search-visual--leading"
      >
        <svg aria-hidden="true" height="16" viewBox="0 0 16 16" version="1.1" width="16" data-view-component="true" class="octicon octicon-search">
    <path d="M10.68 11.74a6 6 0 0 1-7.922-8.982 6 6 0 0 1 8.982 7.922l3.04 3.04a.749.749 0 0 1-.326 1.275.749.749 0 0 1-.734-.215ZM11.5 7a4.499 4.499 0 1 0-8.997 0A4.499 4.499 0 0 0 11.5 7Z"></path>
</svg>
      </label>

                <button
            type="button"
            data-target="qbsearch-input.inputButton"
            data-action="click:qbsearch-input#handleExpand"
            class="AppHeader-searchButton form-control input-contrast text-left color-fg-subtle no-wrap"
            data-hotkey="s,/"
            data-analytics-event="{&quot;category&quot;:&quot;Global navigation&quot;,&quot;action&quot;:&quot;SEARCH&quot;,&quot;label&quot;:null}"
          >
            <div class="overflow-hidden">
              <span id="qb-input-query" data-target="qbsearch-input.inputButtonText">
                  Type <kbd class="AppHeader-search-kbd">/</kbd> to search
              </span>
            </div>
          </button>

    </div>


      <button type="button" id="AppHeader-commandPalette-button" class="AppHeader-search-action--trailing js-activate-command-palette" data-analytics-event="{&quot;category&quot;:&quot;SiteHeaderComponent&quot;,&quot;action&quot;:&quot;command_palette&quot;,&quot;label&quot;:&quot;open command palette&quot;}">
        <svg aria-hidden="true" height="16" viewBox="0 0 16 16" version="1.1" width="16" data-view-component="true" class="octicon octicon-command-palette">
    <path d="m6.354 8.04-4.773 4.773a.75.75 0 1 0 1.061 1.06L7.945 8.57a.75.75 0 0 0 0-1.06L2.642 2.206a.75.75 0 0 0-1.06 1.061L6.353 8.04ZM8.75 11.5a.75.75 0 0 0 0 1.5h5.5a.75.75 0 0 0 0-1.5h-5.5Z"></path>
</svg>
      </button>

      <tool-tip id="tooltip-2530aca1-b20e-4291-98c7-0ba22a7aed1b" for="AppHeader-commandPalette-button" popover="manual" data-direction="s" data-type="label" data-view-component="true" class="sr-only position-absolute">Command palette</tool-tip>
  </div>
</div>

    <input type="hidden" name="type" class="js-site-search-type-field">

    
<div class="Overlay--hidden " data-modal-dialog-overlay>
  <modal-dialog data-action="close:qbsearch-input#handleClose cancel:qbsearch-input#handleClose" data-target="qbsearch-input.searchSuggestionsDialog" role="dialog" id="search-suggestions-dialog" aria-modal="true" aria-labelledby="search-suggestions-dialog-header" data-view-component="true" class="Overlay Overlay--width-medium Overlay--height-auto">
      <h1 id="search-suggestions-dialog-header" class="sr-only">Search code, repositories, users, issues, pull requests...</h1>
    <div class="Overlay-body Overlay-body--paddingNone">
      
          <div data-view-component="true">        <div class="search-suggestions position-absolute width-full color-shadow-large border color-fg-default color-bg-default overflow-hidden d-flex flex-column query-builder-container"
          style="border-radius: 12px;"
          data-target="qbsearch-input.queryBuilderContainer"
          hidden
        >
          <!-- '"` --><!-- </textarea></xmp> --></option></form><form id="query-builder-test-form" action="" accept-charset="UTF-8" method="get">
  <query-builder data-target="qbsearch-input.queryBuilder" id="query-builder-query-builder-test" data-filter-key=":" data-view-component="true" class="QueryBuilder search-query-builder">
    <div class="FormControl FormControl--fullWidth">
      <label id="query-builder-test-label" for="query-builder-test" class="FormControl-label sr-only">
        Search
      </label>
      <div
        class="QueryBuilder-StyledInput width-fit "
        data-target="query-builder.styledInput"
      >
          <span id="query-builder-test-leadingvisual-wrap" class="FormControl-input-leadingVisualWrap QueryBuilder-leadingVisualWrap">
            <svg aria-hidden="true" height="16" viewBox="0 0 16 16" version="1.1" width="16" data-view-component="true" class="octicon octicon-search FormControl-input-leadingVisual">
    <path d="M10.68 11.74a6 6 0 0 1-7.922-8.982 6 6 0 0 1 8.982 7.922l3.04 3.04a.749.749 0 0 1-.326 1.275.749.749 0 0 1-.734-.215ZM11.5 7a4.499 4.499 0 1 0-8.997 0A4.499 4.499 0 0 0 11.5 7Z"></path>
</svg>
          </span>
        <div data-target="query-builder.styledInputContainer" class="QueryBuilder-StyledInputContainer">
          <div
            aria-hidden="true"
            class="QueryBuilder-StyledInputContent"
            data-target="query-builder.styledInputContent"
          ></div>
          <div class="QueryBuilder-InputWrapper">
            <div aria-hidden="true" class="QueryBuilder-Sizer" data-target="query-builder.sizer"></div>
            <input id="query-builder-test" name="query-builder-test" value="" autocomplete="off" type="text" role="combobox" spellcheck="false" aria-expanded="false" aria-describedby="validation-2bdb7218-2ffa-4e2c-a372-52414eee039b" data-target="query-builder.input" data-action="
          input:query-builder#inputChange
          blur:query-builder#inputBlur
          keydown:query-builder#inputKeydown
          focus:query-builder#inputFocus
        " data-view-component="true" class="FormControl-input QueryBuilder-Input FormControl-medium" />
          </div>
        </div>
          <span class="sr-only" id="query-builder-test-clear">Clear</span>
          
  <button role="button" id="query-builder-test-clear-button" aria-labelledby="query-builder-test-clear query-builder-test-label" data-target="query-builder.clearButton" data-action="
                click:query-builder#clear
                focus:query-builder#clearButtonFocus
                blur:query-builder#clearButtonBlur
              " variant="small" hidden="hidden" type="button" data-view-component="true" class="Button Button--iconOnly Button--invisible Button--medium mr-1 px-2 py-0 d-flex flex-items-center rounded-1 color-fg-muted">    <svg aria-hidden="true" height="16" viewBox="0 0 16 16" version="1.1" width="16" data-view-component="true" class="octicon octicon-x-circle-fill Button-visual">
    <path d="M2.343 13.657A8 8 0 1 1 13.658 2.343 8 8 0 0 1 2.343 13.657ZM6.03 4.97a.751.751 0 0 0-1.042.018.751.751 0 0 0-.018 1.042L6.94 8 4.97 9.97a.749.749 0 0 0 .326 1.275.749.749 0 0 0 .734-.215L8 9.06l1.97 1.97a.749.749 0 0 0 1.275-.326.749.749 0 0 0-.215-.734L9.06 8l1.97-1.97a.749.749 0 0 0-.326-1.275.749.749 0 0 0-.734.215L8 6.94Z"></path>
</svg>
</button>  

      </div>
      <template id="search-icon">
  <svg aria-hidden="true" height="16" viewBox="0 0 16 16" version="1.1" width="16" data-view-component="true" class="octicon octicon-search">
    <path d="M10.68 11.74a6 6 0 0 1-7.922-8.982 6 6 0 0 1 8.982 7.922l3.04 3.04a.749.749 0 0 1-.326 1.275.749.749 0 0 1-.734-.215ZM11.5 7a4.499 4.499 0 1 0-8.997 0A4.499 4.499 0 0 0 11.5 7Z"></path>
</svg>
</template>

<template id="code-icon">
  <svg aria-hidden="true" height="16" viewBox="0 0 16 16" version="1.1" width="16" data-view-component="true" class="octicon octicon-code">
    <path d="m11.28 3.22 4.25 4.25a.75.75 0 0 1 0 1.06l-4.25 4.25a.749.749 0 0 1-1.275-.326.749.749 0 0 1 .215-.734L13.94 8l-3.72-3.72a.749.749 0 0 1 .326-1.275.749.749 0 0 1 .734.215Zm-6.56 0a.751.751 0 0 1 1.042.018.751.751 0 0 1 .018 1.042L2.06 8l3.72 3.72a.749.749 0 0 1-.326 1.275.749.749 0 0 1-.734-.215L.47 8.53a.75.75 0 0 1 0-1.06Z"></path>
</svg>
</template>

<template id="file-code-icon">
  <svg aria-hidden="true" height="16" viewBox="0 0 16 16" version="1.1" width="16" data-view-component="true" class="octicon octicon-file-code">
    <path d="M4 1.75C4 .784 4.784 0 5.75 0h5.586c.464 0 .909.184 1.237.513l2.914 2.914c.329.328.513.773.513 1.237v8.586A1.75 1.75 0 0 1 14.25 15h-9a.75.75 0 0 1 0-1.5h9a.25.25 0 0 0 .25-.25V6h-2.75A1.75 1.75 0 0 1 10 4.25V1.5H5.75a.25.25 0 0 0-.25.25v2.5a.75.75 0 0 1-1.5 0Zm1.72 4.97a.75.75 0 0 1 1.06 0l2 2a.75.75 0 0 1 0 1.06l-2 2a.749.749 0 0 1-1.275-.326.749.749 0 0 1 .215-.734l1.47-1.47-1.47-1.47a.75.75 0 0 1 0-1.06ZM3.28 7.78 1.81 9.25l1.47 1.47a.751.751 0 0 1-.018 1.042.751.751 0 0 1-1.042.018l-2-2a.75.75 0 0 1 0-1.06l2-2a.751.751 0 0 1 1.042.018.751.751 0 0 1 .018 1.042Zm8.22-6.218V4.25c0 .138.112.25.25.25h2.688l-.011-.013-2.914-2.914-.013-.011Z"></path>
</svg>
</template>

<template id="history-icon">
  <svg aria-hidden="true" height="16" viewBox="0 0 16 16" version="1.1" width="16" data-view-component="true" class="octicon octicon-history">
    <path d="m.427 1.927 1.215 1.215a8.002 8.002 0 1 1-1.6 5.685.75.75 0 1 1 1.493-.154 6.5 6.5 0 1 0 1.18-4.458l1.358 1.358A.25.25 0 0 1 3.896 6H.25A.25.25 0 0 1 0 5.75V2.104a.25.25 0 0 1 .427-.177ZM7.75 4a.75.75 0 0 1 .75.75v2.992l2.028.812a.75.75 0 0 1-.557 1.392l-2.5-1A.751.751 0 0 1 7 8.25v-3.5A.75.75 0 0 1 7.75 4Z"></path>
</svg>
</template>

<template id="repo-icon">
  <svg aria-hidden="true" height="16" viewBox="0 0 16 16" version="1.1" width="16" data-view-component="true" class="octicon octicon-repo">
    <path d="M2 2.5A2.5 2.5 0 0 1 4.5 0h8.75a.75.75 0 0 1 .75.75v12.5a.75.75 0 0 1-.75.75h-2.5a.75.75 0 0 1 0-1.5h1.75v-2h-8a1 1 0 0 0-.714 1.7.75.75 0 1 1-1.072 1.05A2.495 2.495 0 0 1 2 11.5Zm10.5-1h-8a1 1 0 0 0-1 1v6.708A2.486 2.486 0 0 1 4.5 9h8ZM5 12.25a.25.25 0 0 1 .25-.25h3.5a.25.25 0 0 1 .25.25v3.25a.25.25 0 0 1-.4.2l-1.45-1.087a.249.249 0 0 0-.3 0L5.4 15.7a.25.25 0 0 1-.4-.2Z"></path>
</svg>
</template>

<template id="bookmark-icon">
  <svg aria-hidden="true" height="16" viewBox="0 0 16 16" version="1.1" width="16" data-view-component="true" class="octicon octicon-bookmark">
    <path d="M3 2.75C3 1.784 3.784 1 4.75 1h6.5c.966 0 1.75.784 1.75 1.75v11.5a.75.75 0 0 1-1.227.579L8 11.722l-3.773 3.107A.751.751 0 0 1 3 14.25Zm1.75-.25a.25.25 0 0 0-.25.25v9.91l3.023-2.489a.75.75 0 0 1 .954 0l3.023 2.49V2.75a.25.25 0 0 0-.25-.25Z"></path>
</svg>
</template>

<template id="plus-circle-icon">
  <svg aria-hidden="true" height="16" viewBox="0 0 16 16" version="1.1" width="16" data-view-component="true" class="octicon octicon-plus-circle">
    <path d="M8 0a8 8 0 1 1 0 16A8 8 0 0 1 8 0ZM1.5 8a6.5 6.5 0 1 0 13 0 6.5 6.5 0 0 0-13 0Zm7.25-3.25v2.5h2.5a.75.75 0 0 1 0 1.5h-2.5v2.5a.75.75 0 0 1-1.5 0v-2.5h-2.5a.75.75 0 0 1 0-1.5h2.5v-2.5a.75.75 0 0 1 1.5 0Z"></path>
</svg>
</template>

<template id="circle-icon">
  <svg aria-hidden="true" height="16" viewBox="0 0 16 16" version="1.1" width="16" data-view-component="true" class="octicon octicon-dot-fill">
    <path d="M8 4a4 4 0 1 1 0 8 4 4 0 0 1 0-8Z"></path>
</svg>
</template>

<template id="trash-icon">
  <svg aria-hidden="true" height="16" viewBox="0 0 16 16" version="1.1" width="16" data-view-component="true" class="octicon octicon-trash">
    <path d="M11 1.75V3h2.25a.75.75 0 0 1 0 1.5H2.75a.75.75 0 0 1 0-1.5H5V1.75C5 .784 5.784 0 6.75 0h2.5C10.216 0 11 .784 11 1.75ZM4.496 6.675l.66 6.6a.25.25 0 0 0 .249.225h5.19a.25.25 0 0 0 .249-.225l.66-6.6a.75.75 0 0 1 1.492.149l-.66 6.6A1.748 1.748 0 0 1 10.595 15h-5.19a1.75 1.75 0 0 1-1.741-1.575l-.66-6.6a.75.75 0 1 1 1.492-.15ZM6.5 1.75V3h3V1.75a.25.25 0 0 0-.25-.25h-2.5a.25.25 0 0 0-.25.25Z"></path>
</svg>
</template>

<template id="team-icon">
  <svg aria-hidden="true" height="16" viewBox="0 0 16 16" version="1.1" width="16" data-view-component="true" class="octicon octicon-people">
    <path d="M2 5.5a3.5 3.5 0 1 1 5.898 2.549 5.508 5.508 0 0 1 3.034 4.084.75.75 0 1 1-1.482.235 4 4 0 0 0-7.9 0 .75.75 0 0 1-1.482-.236A5.507 5.507 0 0 1 3.102 8.05 3.493 3.493 0 0 1 2 5.5ZM11 4a3.001 3.001 0 0 1 2.22 5.018 5.01 5.01 0 0 1 2.56 3.012.749.749 0 0 1-.885.954.752.752 0 0 1-.549-.514 3.507 3.507 0 0 0-2.522-2.372.75.75 0 0 1-.574-.73v-.352a.75.75 0 0 1 .416-.672A1.5 1.5 0 0 0 11 5.5.75.75 0 0 1 11 4Zm-5.5-.5a2 2 0 1 0-.001 3.999A2 2 0 0 0 5.5 3.5Z"></path>
</svg>
</template>

<template id="project-icon">
  <svg aria-hidden="true" height="16" viewBox="0 0 16 16" version="1.1" width="16" data-view-component="true" class="octicon octicon-project">
    <path d="M1.75 0h12.5C15.216 0 16 .784 16 1.75v12.5A1.75 1.75 0 0 1 14.25 16H1.75A1.75 1.75 0 0 1 0 14.25V1.75C0 .784.784 0 1.75 0ZM1.5 1.75v12.5c0 .138.112.25.25.25h12.5a.25.25 0 0 0 .25-.25V1.75a.25.25 0 0 0-.25-.25H1.75a.25.25 0 0 0-.25.25ZM11.75 3a.75.75 0 0 1 .75.75v7.5a.75.75 0 0 1-1.5 0v-7.5a.75.75 0 0 1 .75-.75Zm-8.25.75a.75.75 0 0 1 1.5 0v5.5a.75.75 0 0 1-1.5 0ZM8 3a.75.75 0 0 1 .75.75v3.5a.75.75 0 0 1-1.5 0v-3.5A.75.75 0 0 1 8 3Z"></path>
</svg>
</template>

<template id="pencil-icon">
  <svg aria-hidden="true" height="16" viewBox="0 0 16 16" version="1.1" width="16" data-view-component="true" class="octicon octicon-pencil">
    <path d="M11.013 1.427a1.75 1.75 0 0 1 2.474 0l1.086 1.086a1.75 1.75 0 0 1 0 2.474l-8.61 8.61c-.21.21-.47.364-.756.445l-3.251.93a.75.75 0 0 1-.927-.928l.929-3.25c.081-.286.235-.547.445-.758l8.61-8.61Zm.176 4.823L9.75 4.81l-6.286 6.287a.253.253 0 0 0-.064.108l-.558 1.953 1.953-.558a.253.253 0 0 0 .108-.064Zm1.238-3.763a.25.25 0 0 0-.354 0L10.811 3.75l1.439 1.44 1.263-1.263a.25.25 0 0 0 0-.354Z"></path>
</svg>
</template>

        <div class="position-relative">
                <ul
                  role="listbox"
                  class="ActionListWrap QueryBuilder-ListWrap"
                  aria-label="Suggestions"
                  data-action="
                    combobox-commit:query-builder#comboboxCommit
                    mousedown:query-builder#resultsMousedown
                  "
                  data-target="query-builder.resultsList"
                  data-persist-list=false
                  id="query-builder-test-results"
                ></ul>
        </div>
      <div class="FormControl-inlineValidation" id="validation-2bdb7218-2ffa-4e2c-a372-52414eee039b" hidden="hidden">
        <span class="FormControl-inlineValidation--visual">
          <svg aria-hidden="true" height="12" viewBox="0 0 12 12" version="1.1" width="12" data-view-component="true" class="octicon octicon-alert-fill">
    <path d="M4.855.708c.5-.896 1.79-.896 2.29 0l4.675 8.351a1.312 1.312 0 0 1-1.146 1.954H1.33A1.313 1.313 0 0 1 .183 9.058ZM7 7V3H5v4Zm-1 3a1 1 0 1 0 0-2 1 1 0 0 0 0 2Z"></path>
</svg>
        </span>
        <span></span>
</div>    </div>
    <div data-target="query-builder.screenReaderFeedback" aria-live="polite" aria-atomic="true" class="sr-only"></div>
</query-builder></form>
          <div class="d-flex flex-row color-fg-muted px-3 text-small color-bg-default search-feedback-prompt">
            <a target="_blank" href="https://docs.github.com/en/search-github/github-code-search/understanding-github-code-search-syntax" data-view-component="true" class="Link color-fg-accent text-normal ml-2">
              Search syntax tips
</a>            <div class="d-flex flex-1"></div>
                <button data-action="click:qbsearch-input#showFeedbackDialog" type="button" data-view-component="true" class="Button--link Button--medium Button color-fg-accent text-normal ml-2">    <span class="Button-content">
      <span class="Button-label">Give feedback</span>
    </span>
</button>  
          </div>
        </div>
</div>

    </div>
</modal-dialog></div>
  </div>
  <div data-action="click:qbsearch-input#retract" class="dark-backdrop position-fixed" hidden data-target="qbsearch-input.darkBackdrop"></div>
  <div class="color-fg-default">
    
<div class="Overlay--hidden Overlay-backdrop--center" data-modal-dialog-overlay>
  <modal-dialog data-target="qbsearch-input.feedbackDialog" data-action="close:qbsearch-input#handleDialogClose cancel:qbsearch-input#handleDialogClose" role="dialog" id="feedback-dialog" aria-modal="true" aria-disabled="true" aria-labelledby="feedback-dialog-title" aria-describedby="feedback-dialog-description" data-view-component="true" class="Overlay Overlay-whenNarrow Overlay--size-medium Overlay--motion-scaleFade">
    <div data-view-component="true" class="Overlay-header">
  <div class="Overlay-headerContentWrap">
    <div class="Overlay-titleWrap">
      <h1 class="Overlay-title " id="feedback-dialog-title">
        Provide feedback
      </h1>
    </div>
    <div class="Overlay-actionWrap">
      <button data-close-dialog-id="feedback-dialog" aria-label="Close" type="button" data-view-component="true" class="close-button Overlay-closeButton"><svg aria-hidden="true" height="16" viewBox="0 0 16 16" version="1.1" width="16" data-view-component="true" class="octicon octicon-x">
    <path d="M3.72 3.72a.75.75 0 0 1 1.06 0L8 6.94l3.22-3.22a.749.749 0 0 1 1.275.326.749.749 0 0 1-.215.734L9.06 8l3.22 3.22a.749.749 0 0 1-.326 1.275.749.749 0 0 1-.734-.215L8 9.06l-3.22 3.22a.751.751 0 0 1-1.042-.018.751.751 0 0 1-.018-1.042L6.94 8 3.72 4.78a.75.75 0 0 1 0-1.06Z"></path>
</svg></button>
    </div>
  </div>
</div>
      <div data-view-component="true" class="Overlay-body">        <!-- '"` --><!-- </textarea></xmp> --></option></form><form id="code-search-feedback-form" data-turbo="false" action="/search/feedback" accept-charset="UTF-8" method="post"><input type="hidden" name="authenticity_token" value="gBabnHPXxF4u58z3IdeWTvbNRW7ljE2gBW5Tsew6pJaVJ-h7JHieBJcangzj0-LsyFuPD4COpoQ16akSOBJXqw" />
          <p>We read every piece of feedback, and take your input very seriously.</p>
          <textarea name="feedback" class="form-control width-full mb-2" style="height: 120px" id="feedback"></textarea>
          <input name="include_email" id="include_email" aria-label="Include my email address so I can be contacted" class="form-control mr-2" type="checkbox">
          <label for="include_email" style="font-weight: normal">Include my email address so I can be contacted</label>
</form></div>
      <div data-view-component="true" class="Overlay-footer Overlay-footer--alignEnd">          <button data-close-dialog-id="feedback-dialog" type="button" data-view-component="true" class="btn">    Cancel
</button>
          <button form="code-search-feedback-form" data-action="click:qbsearch-input#submitFeedback" type="submit" data-view-component="true" class="btn-primary btn">    Submit feedback
</button>
</div>
</modal-dialog></div>

    <custom-scopes data-target="qbsearch-input.customScopesManager">
    
<div class="Overlay--hidden Overlay-backdrop--center" data-modal-dialog-overlay>
  <modal-dialog data-target="custom-scopes.customScopesModalDialog" data-action="close:qbsearch-input#handleDialogClose cancel:qbsearch-input#handleDialogClose" role="dialog" id="custom-scopes-dialog" aria-modal="true" aria-disabled="true" aria-labelledby="custom-scopes-dialog-title" aria-describedby="custom-scopes-dialog-description" data-view-component="true" class="Overlay Overlay-whenNarrow Overlay--size-medium Overlay--motion-scaleFade">
    <div data-view-component="true" class="Overlay-header Overlay-header--divided">
  <div class="Overlay-headerContentWrap">
    <div class="Overlay-titleWrap">
      <h1 class="Overlay-title " id="custom-scopes-dialog-title">
        Saved searches
      </h1>
        <h2 id="custom-scopes-dialog-description" class="Overlay-description">Use saved searches to filter your results more quickly</h2>
    </div>
    <div class="Overlay-actionWrap">
      <button data-close-dialog-id="custom-scopes-dialog" aria-label="Close" type="button" data-view-component="true" class="close-button Overlay-closeButton"><svg aria-hidden="true" height="16" viewBox="0 0 16 16" version="1.1" width="16" data-view-component="true" class="octicon octicon-x">
    <path d="M3.72 3.72a.75.75 0 0 1 1.06 0L8 6.94l3.22-3.22a.749.749 0 0 1 1.275.326.749.749 0 0 1-.215.734L9.06 8l3.22 3.22a.749.749 0 0 1-.326 1.275.749.749 0 0 1-.734-.215L8 9.06l-3.22 3.22a.751.751 0 0 1-1.042-.018.751.751 0 0 1-.018-1.042L6.94 8 3.72 4.78a.75.75 0 0 1 0-1.06Z"></path>
</svg></button>
    </div>
  </div>
</div>
      <div data-view-component="true" class="Overlay-body">        <div data-target="custom-scopes.customScopesModalDialogFlash"></div>

        <div hidden class="create-custom-scope-form" data-target="custom-scopes.createCustomScopeForm">
        <!-- '"` --><!-- </textarea></xmp> --></option></form><form id="custom-scopes-dialog-form" data-turbo="false" action="/search/custom_scopes" accept-charset="UTF-8" method="post"><input type="hidden" name="authenticity_token" value="jcwEfUskK3fg4gFV499guwSMdT8SMha80IkKRCC0zeL7tfkFTXfxIwyoBuPWL4oBLaN5xvgpV4MlH-KKt3a2Vg" />
          <div data-target="custom-scopes.customScopesModalDialogFlash"></div>

          <input type="hidden" id="custom_scope_id" name="custom_scope_id" data-target="custom-scopes.customScopesIdField">

          <div class="form-group">
            <label for="custom_scope_name">Name</label>
            <auto-check src="/search/custom_scopes/check_name" required>
              <input
                type="text"
                name="custom_scope_name"
                id="custom_scope_name"
                data-target="custom-scopes.customScopesNameField"
                class="form-control"
                autocomplete="off"
                placeholder="github-ruby"
                required
                maxlength="50">
              <input type="hidden" value="-hdpt8o1XRhcXdZWWQ6LHpxGlDk06vSsC3V1VdBZN2N1j52XE8ntK99-Y9fH77fLPzqPV8U4tF3y6GbJK-aPAg" data-csrf="true" />
            </auto-check>
          </div>

          <div class="form-group">
            <label for="custom_scope_query">Query</label>
            <input
              type="text"
              name="custom_scope_query"
              id="custom_scope_query"
              data-target="custom-scopes.customScopesQueryField"
              class="form-control"
              autocomplete="off"
              placeholder="(repo:mona/a OR repo:mona/b) AND lang:python"
              required
              maxlength="500">
          </div>

          <p class="text-small color-fg-muted">
            To see all available qualifiers, see our <a class="Link--inTextBlock" href="https://docs.github.com/en/search-github/github-code-search/understanding-github-code-search-syntax">documentation</a>.
          </p>
</form>        </div>

        <div data-target="custom-scopes.manageCustomScopesForm">
          <div data-target="custom-scopes.list"></div>
        </div>

</div>
      <div data-view-component="true" class="Overlay-footer Overlay-footer--alignEnd Overlay-footer--divided">          <button data-action="click:custom-scopes#customScopesCancel" type="button" data-view-component="true" class="btn">    Cancel
</button>
          <button form="custom-scopes-dialog-form" data-action="click:custom-scopes#customScopesSubmit" data-target="custom-scopes.customScopesSubmitButton" type="submit" data-view-component="true" class="btn-primary btn">    Create saved search
</button>
</div>
</modal-dialog></div>
    </custom-scopes>
  </div>
</qbsearch-input><input type="hidden" value="s8CbT3tr51J9AGLHu9TEn3csWJ8I9XUEkgG6NV67ZQUdW8Bc9acpH2A2MUe-_GiWJ9ZoCpCcNzUmZFXr7iJg-Q" data-csrf="true" class="js-data-jump-to-suggestions-path-csrf" />

          </div>

        <div class="AppHeader-actions">
          <action-menu data-select-variant="none" data-view-component="true">
  <focus-group direction="vertical" mnemonics retain>
    <div data-view-component="true" class="Button-withTooltip">  <button id="global-create-menu-button" popovertarget="global-create-menu-overlay" aria-label="Create something new" aria-controls="global-create-menu-list" aria-haspopup="true" type="button" data-view-component="true" class="AppHeader-button Button--secondary Button--small Button width-auto color-fg-muted">    <span class="Button-content">
        <span class="Button-visual Button-leadingVisual">
          <svg aria-hidden="true" height="16" viewBox="0 0 16 16" version="1.1" width="16" data-view-component="true" class="octicon octicon-plus">
    <path d="M7.75 2a.75.75 0 0 1 .75.75V7h4.25a.75.75 0 0 1 0 1.5H8.5v4.25a.75.75 0 0 1-1.5 0V8.5H2.75a.75.75 0 0 1 0-1.5H7V2.75A.75.75 0 0 1 7.75 2Z"></path>
</svg>
        </span>
      <span class="Button-label"><svg aria-hidden="true" height="16" viewBox="0 0 16 16" version="1.1" width="16" data-view-component="true" class="octicon octicon-triangle-down">
    <path d="m4.427 7.427 3.396 3.396a.25.25 0 0 0 .354 0l3.396-3.396A.25.25 0 0 0 11.396 7H4.604a.25.25 0 0 0-.177.427Z"></path>
</svg></span>
    </span>
</button>  <tool-tip id="tooltip-22ed5eba-ae0c-466d-8764-cf703d9ee7ad" for="global-create-menu-button" popover="manual" data-direction="s" data-type="description" data-view-component="true" class="sr-only position-absolute">Create new...</tool-tip>
</div>

<anchored-position id="global-create-menu-overlay" anchor="global-create-menu-button" align="end" side="outside-bottom" anchor-offset="normal" popover="auto" aria-label="Menu" data-view-component="true">
  <div data-view-component="true" class="Overlay Overlay--size-auto">
    
      
        <div data-view-component="true">
  <ul aria-labelledby="global-create-menu-button" id="global-create-menu-list" role="menu" data-view-component="true" class="ActionListWrap--inset ActionListWrap">
      <li data-analytics-event="{&quot;category&quot;:&quot;SiteHeaderComponent&quot;,&quot;action&quot;:&quot;add_dropdown&quot;,&quot;label&quot;:&quot;new repository&quot;}" data-targets="action-list.items" role="none" data-view-component="true" class="ActionListItem">
    
    <a href="/new" tabindex="-1" id="item-4285a3ec-860e-4c44-876e-af13bd76b7e9" role="menuitem" data-view-component="true" class="ActionListContent ActionListContent--visual16">
        <span class="ActionListItem-visual ActionListItem-visual--leading">
          <svg aria-hidden="true" height="16" viewBox="0 0 16 16" version="1.1" width="16" data-view-component="true" class="octicon octicon-repo">
    <path d="M2 2.5A2.5 2.5 0 0 1 4.5 0h8.75a.75.75 0 0 1 .75.75v12.5a.75.75 0 0 1-.75.75h-2.5a.75.75 0 0 1 0-1.5h1.75v-2h-8a1 1 0 0 0-.714 1.7.75.75 0 1 1-1.072 1.05A2.495 2.495 0 0 1 2 11.5Zm10.5-1h-8a1 1 0 0 0-1 1v6.708A2.486 2.486 0 0 1 4.5 9h8ZM5 12.25a.25.25 0 0 1 .25-.25h3.5a.25.25 0 0 1 .25.25v3.25a.25.25 0 0 1-.4.2l-1.45-1.087a.249.249 0 0 0-.3 0L5.4 15.7a.25.25 0 0 1-.4-.2Z"></path>
</svg>
        </span>
      
        <span data-view-component="true" class="ActionListItem-label">
              New repository

</span></a>
  
  
</li>
      <li data-analytics-event="{&quot;category&quot;:&quot;SiteHeaderComponent&quot;,&quot;action&quot;:&quot;add_dropdown&quot;,&quot;label&quot;:&quot;import repository&quot;}" data-targets="action-list.items" role="none" data-view-component="true" class="ActionListItem">
    
    <a href="/new/import" tabindex="-1" id="item-6a5fe76a-332a-4696-ae6e-63f371757b98" role="menuitem" data-view-component="true" class="ActionListContent ActionListContent--visual16">
        <span class="ActionListItem-visual ActionListItem-visual--leading">
          <svg aria-hidden="true" height="16" viewBox="0 0 16 16" version="1.1" width="16" data-view-component="true" class="octicon octicon-repo-push">
    <path d="M1 2.5A2.5 2.5 0 0 1 3.5 0h8.75a.75.75 0 0 1 .75.75v3.5a.75.75 0 0 1-1.5 0V1.5h-8a1 1 0 0 0-1 1v6.708A2.493 2.493 0 0 1 3.5 9h3.25a.75.75 0 0 1 0 1.5H3.5a1 1 0 0 0 0 2h5.75a.75.75 0 0 1 0 1.5H3.5A2.5 2.5 0 0 1 1 11.5Zm13.23 7.79h-.001l-1.224-1.224v6.184a.75.75 0 0 1-1.5 0V9.066L10.28 10.29a.75.75 0 0 1-1.06-1.061l2.505-2.504a.75.75 0 0 1 1.06 0L15.29 9.23a.751.751 0 0 1-.018 1.042.751.751 0 0 1-1.042.018Z"></path>
</svg>
        </span>
      
        <span data-view-component="true" class="ActionListItem-label">
                Import repository

</span></a>
  
  
</li>
      <li role="presentation" aria-hidden="true" data-view-component="true" class="ActionList-sectionDivider"></li>
      <li data-analytics-event="{&quot;category&quot;:&quot;SiteHeaderComponent&quot;,&quot;action&quot;:&quot;add_dropdown&quot;,&quot;label&quot;:&quot;new codespace&quot;}" data-targets="action-list.items" role="none" data-view-component="true" class="ActionListItem">
    
    <a href="/codespaces/new" tabindex="-1" id="item-bedaaa09-67f5-454d-804c-a8848d0fcc0b" role="menuitem" data-view-component="true" class="ActionListContent ActionListContent--visual16">
        <span class="ActionListItem-visual ActionListItem-visual--leading">
          <svg aria-hidden="true" height="16" viewBox="0 0 16 16" version="1.1" width="16" data-view-component="true" class="octicon octicon-codespaces">
    <path d="M0 11.25c0-.966.784-1.75 1.75-1.75h12.5c.966 0 1.75.784 1.75 1.75v3A1.75 1.75 0 0 1 14.25 16H1.75A1.75 1.75 0 0 1 0 14.25Zm2-9.5C2 .784 2.784 0 3.75 0h8.5C13.216 0 14 .784 14 1.75v5a1.75 1.75 0 0 1-1.75 1.75h-8.5A1.75 1.75 0 0 1 2 6.75Zm1.75-.25a.25.25 0 0 0-.25.25v5c0 .138.112.25.25.25h8.5a.25.25 0 0 0 .25-.25v-5a.25.25 0 0 0-.25-.25Zm-2 9.5a.25.25 0 0 0-.25.25v3c0 .138.112.25.25.25h12.5a.25.25 0 0 0 .25-.25v-3a.25.25 0 0 0-.25-.25Z"></path><path d="M7 12.75a.75.75 0 0 1 .75-.75h4.5a.75.75 0 0 1 0 1.5h-4.5a.75.75 0 0 1-.75-.75Zm-4 0a.75.75 0 0 1 .75-.75h.5a.75.75 0 0 1 0 1.5h-.5a.75.75 0 0 1-.75-.75Z"></path>
</svg>
        </span>
      
        <span data-view-component="true" class="ActionListItem-label">
                New codespace

</span></a>
  
  
</li>
      <li data-analytics-event="{&quot;category&quot;:&quot;SiteHeaderComponent&quot;,&quot;action&quot;:&quot;add_dropdown&quot;,&quot;label&quot;:&quot;new gist&quot;}" data-targets="action-list.items" role="none" data-view-component="true" class="ActionListItem">
    
    <a href="https://gist.github.com/" tabindex="-1" id="item-2fa9ee6d-1d1f-4998-8057-1d3d56656244" role="menuitem" data-view-component="true" class="ActionListContent ActionListContent--visual16">
        <span class="ActionListItem-visual ActionListItem-visual--leading">
          <svg aria-hidden="true" height="16" viewBox="0 0 16 16" version="1.1" width="16" data-view-component="true" class="octicon octicon-code">
    <path d="m11.28 3.22 4.25 4.25a.75.75 0 0 1 0 1.06l-4.25 4.25a.749.749 0 0 1-1.275-.326.749.749 0 0 1 .215-.734L13.94 8l-3.72-3.72a.749.749 0 0 1 .326-1.275.749.749 0 0 1 .734.215Zm-6.56 0a.751.751 0 0 1 1.042.018.751.751 0 0 1 .018 1.042L2.06 8l3.72 3.72a.749.749 0 0 1-.326 1.275.749.749 0 0 1-.734-.215L.47 8.53a.75.75 0 0 1 0-1.06Z"></path>
</svg>
        </span>
      
        <span data-view-component="true" class="ActionListItem-label">
              New gist

</span></a>
  
  
</li>
      <li role="presentation" aria-hidden="true" data-view-component="true" class="ActionList-sectionDivider"></li>
      <li data-analytics-event="{&quot;category&quot;:&quot;SiteHeaderComponent&quot;,&quot;action&quot;:&quot;add_dropdown&quot;,&quot;label&quot;:&quot;new organization&quot;}" data-targets="action-list.items" role="none" data-view-component="true" class="ActionListItem">
    
    <a href="/account/organizations/new" tabindex="-1" id="item-a91c524a-b01a-4c45-87ed-520f77c5a2d5" role="menuitem" data-view-component="true" class="ActionListContent ActionListContent--visual16">
        <span class="ActionListItem-visual ActionListItem-visual--leading">
          <svg aria-hidden="true" height="16" viewBox="0 0 16 16" version="1.1" width="16" data-view-component="true" class="octicon octicon-organization">
    <path d="M1.75 16A1.75 1.75 0 0 1 0 14.25V1.75C0 .784.784 0 1.75 0h8.5C11.216 0 12 .784 12 1.75v12.5c0 .085-.006.168-.018.25h2.268a.25.25 0 0 0 .25-.25V8.285a.25.25 0 0 0-.111-.208l-1.055-.703a.749.749 0 1 1 .832-1.248l1.055.703c.487.325.779.871.779 1.456v5.965A1.75 1.75 0 0 1 14.25 16h-3.5a.766.766 0 0 1-.197-.026c-.099.017-.2.026-.303.026h-3a.75.75 0 0 1-.75-.75V14h-1v1.25a.75.75 0 0 1-.75.75Zm-.25-1.75c0 .138.112.25.25.25H4v-1.25a.75.75 0 0 1 .75-.75h2.5a.75.75 0 0 1 .75.75v1.25h2.25a.25.25 0 0 0 .25-.25V1.75a.25.25 0 0 0-.25-.25h-8.5a.25.25 0 0 0-.25.25ZM3.75 6h.5a.75.75 0 0 1 0 1.5h-.5a.75.75 0 0 1 0-1.5ZM3 3.75A.75.75 0 0 1 3.75 3h.5a.75.75 0 0 1 0 1.5h-.5A.75.75 0 0 1 3 3.75Zm4 3A.75.75 0 0 1 7.75 6h.5a.75.75 0 0 1 0 1.5h-.5A.75.75 0 0 1 7 6.75ZM7.75 3h.5a.75.75 0 0 1 0 1.5h-.5a.75.75 0 0 1 0-1.5ZM3 9.75A.75.75 0 0 1 3.75 9h.5a.75.75 0 0 1 0 1.5h-.5A.75.75 0 0 1 3 9.75ZM7.75 9h.5a.75.75 0 0 1 0 1.5h-.5a.75.75 0 0 1 0-1.5Z"></path>
</svg>
        </span>
      
        <span data-view-component="true" class="ActionListItem-label">
                New organization

</span></a>
  
  
</li>
</ul>  
</div>

</div></anchored-position>  </focus-group>
</action-menu>

            <div data-view-component="true" class="Button-withTooltip">
  <a href="/issues" data-analytics-event="{&quot;category&quot;:&quot;Global navigation&quot;,&quot;action&quot;:&quot;ISSUES_HEADER&quot;,&quot;label&quot;:null}" id="icon-button-6be044e4-9826-4fb4-80f3-68886e19c844" data-view-component="true" class="Button Button--iconOnly Button--secondary Button--medium AppHeader-button color-fg-muted">    <svg aria-hidden="true" height="16" viewBox="0 0 16 16" version="1.1" width="16" data-view-component="true" class="octicon octicon-issue-opened Button-visual">
    <path d="M8 9.5a1.5 1.5 0 1 0 0-3 1.5 1.5 0 0 0 0 3Z"></path><path d="M8 0a8 8 0 1 1 0 16A8 8 0 0 1 8 0ZM1.5 8a6.5 6.5 0 1 0 13 0 6.5 6.5 0 0 0-13 0Z"></path>
</svg>
</a>  <tool-tip id="tooltip-a946eb9b-26d8-4210-a9e1-123737727a6d" for="icon-button-6be044e4-9826-4fb4-80f3-68886e19c844" popover="manual" data-direction="s" data-type="label" data-view-component="true" class="sr-only position-absolute">Issues</tool-tip>
</div>
            <div data-view-component="true" class="Button-withTooltip">
  <a href="/pulls" data-analytics-event="{&quot;category&quot;:&quot;Global navigation&quot;,&quot;action&quot;:&quot;PULL_REQUESTS_HEADER&quot;,&quot;label&quot;:null}" id="icon-button-5ac1bd55-2b11-4ef3-99f9-72952bee43a3" data-view-component="true" class="Button Button--iconOnly Button--secondary Button--medium AppHeader-button color-fg-muted">    <svg aria-hidden="true" height="16" viewBox="0 0 16 16" version="1.1" width="16" data-view-component="true" class="octicon octicon-git-pull-request Button-visual">
    <path d="M1.5 3.25a2.25 2.25 0 1 1 3 2.122v5.256a2.251 2.251 0 1 1-1.5 0V5.372A2.25 2.25 0 0 1 1.5 3.25Zm5.677-.177L9.573.677A.25.25 0 0 1 10 .854V2.5h1A2.5 2.5 0 0 1 13.5 5v5.628a2.251 2.251 0 1 1-1.5 0V5a1 1 0 0 0-1-1h-1v1.646a.25.25 0 0 1-.427.177L7.177 3.427a.25.25 0 0 1 0-.354ZM3.75 2.5a.75.75 0 1 0 0 1.5.75.75 0 0 0 0-1.5Zm0 9.5a.75.75 0 1 0 0 1.5.75.75 0 0 0 0-1.5Zm8.25.75a.75.75 0 1 0 1.5 0 .75.75 0 0 0-1.5 0Z"></path>
</svg>
</a>  <tool-tip id="tooltip-fcedd679-341e-403e-9c03-7cd53a37c869" for="icon-button-5ac1bd55-2b11-4ef3-99f9-72952bee43a3" popover="manual" data-direction="s" data-type="label" data-view-component="true" class="sr-only position-absolute">Pull requests</tool-tip>
</div>
        </div>

        

<notification-indicator data-channel="eyJjIjoibm90aWZpY2F0aW9uLWNoYW5nZWQ6NjgyOTc0MzgiLCJ0IjoxNjk0NjQ0MjE3fQ==--422a56c18b06869975acd1db27b675f4a1a59d9c27a8503fd6806607279c5e3a" data-indicator-mode="none" data-tooltip-global="You have unread notifications" data-tooltip-unavailable="Notifications are unavailable at the moment." data-tooltip-none="You have no unread notifications" data-header-redesign-enabled="true" data-fetch-indicator-src="/notifications/indicator" data-fetch-indicator-enabled="true" data-view-component="true" class="js-socket-channel">
  <a id="AppHeader-notifications-button" href="/notifications"
    class="AppHeader-button Button--secondary"

    style="width:32px;height:32px;"

    data-hotkey="g n"
    data-target="notification-indicator.link"
    aria-label="Notifications"

      data-analytics-event="{&quot;category&quot;:&quot;SiteHeaderComponent&quot;,&quot;action&quot;:&quot;notifications&quot;,&quot;label&quot;:null}"
  >

    <span
      data-target="notification-indicator.badge"
      class="mail-status unread d-none" hidden>
    </span>

      <svg aria-hidden="true" height="16" viewBox="0 0 16 16" version="1.1" width="16" data-view-component="true" class="octicon octicon-inbox color-fg-muted mr-0">
    <path d="M2.8 2.06A1.75 1.75 0 0 1 4.41 1h7.18c.7 0 1.333.417 1.61 1.06l2.74 6.395c.04.093.06.194.06.295v4.5A1.75 1.75 0 0 1 14.25 15H1.75A1.75 1.75 0 0 1 0 13.25v-4.5c0-.101.02-.202.06-.295Zm1.61.44a.25.25 0 0 0-.23.152L1.887 8H4.75a.75.75 0 0 1 .6.3L6.625 10h2.75l1.275-1.7a.75.75 0 0 1 .6-.3h2.863L11.82 2.652a.25.25 0 0 0-.23-.152Zm10.09 7h-2.875l-1.275 1.7a.75.75 0 0 1-.6.3h-3.5a.75.75 0 0 1-.6-.3L4.375 9.5H1.5v3.75c0 .138.112.25.25.25h12.5a.25.25 0 0 0 .25-.25Z"></path>
</svg>
  </a>

    <tool-tip data-target="notification-indicator.tooltip" id="tooltip-90c5d362-ea8b-4c3e-947a-9c24018c4027" for="AppHeader-notifications-button" popover="manual" data-direction="s" data-type="description" data-view-component="true" class="sr-only position-absolute">Notifications</tool-tip>
</notification-indicator>

        

        <div class="AppHeader-user">
          <deferred-side-panel data-url="/_side-panels/user?memex_enabled=true&amp;repository=NLP-STTCipasung2022&amp;user=zulkaidaakbar&amp;user_can_create_organizations=true&amp;user_id=68297438">
  <include-fragment data-target="deferred-side-panel.fragment">
      <user-drawer-side-panel>
      <button aria-label="Open user account menu" data-action="click:deferred-side-panel#loadPanel click:deferred-side-panel#panelOpened" data-show-dialog-id="dialog-1ea76eff-7336-4e4e-afab-1b960748df50" id="dialog-show-dialog-1ea76eff-7336-4e4e-afab-1b960748df50" type="button" data-view-component="true" class="AppHeader-logo Button--invisible Button--medium Button Button--invisible-noVisuals color-bg-transparent p-0">    <span class="Button-content">
      <span class="Button-label"><img src="https://avatars.githubusercontent.com/u/68297438?v=4" alt="" size="32" height="32" width="32" data-view-component="true" class="avatar circle" /></span>
    </span>
</button>  

<div class="Overlay--hidden Overlay-backdrop--side Overlay-backdrop--placement-right" data-modal-dialog-overlay>
  <modal-dialog data-target="deferred-side-panel.panel" role="dialog" id="dialog-1ea76eff-7336-4e4e-afab-1b960748df50" aria-modal="true" aria-disabled="true" aria-labelledby="dialog-1ea76eff-7336-4e4e-afab-1b960748df50-title" aria-describedby="dialog-1ea76eff-7336-4e4e-afab-1b960748df50-description" data-view-component="true" class="Overlay Overlay-whenNarrow Overlay--size-small-portrait Overlay--motion-scaleFade SidePanel">
    <div styles="flex-direction: row;" data-view-component="true" class="Overlay-header">
  <div class="Overlay-headerContentWrap">
    <div class="Overlay-titleWrap">
      <h1 class="Overlay-title sr-only" id="dialog-1ea76eff-7336-4e4e-afab-1b960748df50-title">
        Account menu
      </h1>
            <div data-view-component="true" class="d-flex">
      <div data-view-component="true" class="AppHeader-logo position-relative">
        <img src="https://avatars.githubusercontent.com/u/68297438?v=4" alt="" size="32" height="32" width="32" data-view-component="true" class="avatar circle" />
</div>        <div data-view-component="true" class="overflow-hidden d-flex width-full">        <div data-view-component="true" class="lh-condensed overflow-hidden d-flex flex-column flex-justify-center ml-2 f5 mr-auto width-full">
          <span data-view-component="true" class="Truncate text-bold">
    <span data-view-component="true" class="Truncate-text">
            zulkaidaakbar
</span>
</span>          </div>
</div>
</div>
    </div>
    <div class="Overlay-actionWrap">
      <button data-close-dialog-id="dialog-1ea76eff-7336-4e4e-afab-1b960748df50" aria-label="Close" type="button" data-view-component="true" class="close-button Overlay-closeButton"><svg aria-hidden="true" height="16" viewBox="0 0 16 16" version="1.1" width="16" data-view-component="true" class="octicon octicon-x">
    <path d="M3.72 3.72a.75.75 0 0 1 1.06 0L8 6.94l3.22-3.22a.749.749 0 0 1 1.275.326.749.749 0 0 1-.215.734L9.06 8l3.22 3.22a.749.749 0 0 1-.326 1.275.749.749 0 0 1-.734-.215L8 9.06l-3.22 3.22a.751.751 0 0 1-1.042-.018.751.751 0 0 1-.018-1.042L6.94 8 3.72 4.78a.75.75 0 0 1 0-1.06Z"></path>
</svg></button>
    </div>
  </div>
</div>
      <div data-view-component="true" class="Overlay-body d-flex flex-column height-full px-2">      <nav aria-label="User navigation" data-view-component="true" class="ActionList">
  
  <nav-list>
    <ul data-view-component="true" class="ActionListWrap">
        
          
<li data-item-id="" data-targets="nav-list.items" data-view-component="true" class="ActionListItem">
    
    <button id="item-c9bbbf92-4d30-4805-8ee8-baca745df2b4" type="button" data-view-component="true" class="ActionListContent ActionListContent--visual16">
        <span class="ActionListItem-visual ActionListItem-visual--leading">
          <span data-view-component="true" class="d-flex flex-items-center">    <svg style="box-sizing: content-box; color: var(--color-icon-primary);" width="16" height="16" viewBox="0 0 16 16" fill="none" data-view-component="true" class="anim-rotate">
  <circle cx="8" cy="8" r="7" stroke="currentColor" stroke-opacity="0.25" stroke-width="2" vector-effect="non-scaling-stroke" />
  <path d="M15 8a7.002 7.002 0 00-7-7" stroke="currentColor" stroke-width="2" stroke-linecap="round" vector-effect="non-scaling-stroke" />
</svg>
</span>
        </span>
      
        <span data-view-component="true" class="ActionListItem-label">
          

  <span class="color-fg-muted">
    Loading...
  </span>

</span></button>
  
  
</li>

        
          <li role="presentation" aria-hidden="true" data-view-component="true" class="ActionList-sectionDivider"></li>
        
          
<li data-item-id="" data-targets="nav-list.items" data-view-component="true" class="ActionListItem">
    
    <a data-analytics-event="{&quot;category&quot;:&quot;Global navigation&quot;,&quot;action&quot;:&quot;PROFILE&quot;,&quot;label&quot;:null}" id="item-af7f4c18-9fce-40d4-85f9-3a1d8f018573" href="https://github.com/zulkaidaakbar" data-view-component="true" class="ActionListContent ActionListContent--visual16">
        <span class="ActionListItem-visual ActionListItem-visual--leading">
          <svg aria-hidden="true" height="16" viewBox="0 0 16 16" version="1.1" width="16" data-view-component="true" class="octicon octicon-person">
    <path d="M10.561 8.073a6.005 6.005 0 0 1 3.432 5.142.75.75 0 1 1-1.498.07 4.5 4.5 0 0 0-8.99 0 .75.75 0 0 1-1.498-.07 6.004 6.004 0 0 1 3.431-5.142 3.999 3.999 0 1 1 5.123 0ZM10.5 5a2.5 2.5 0 1 0-5 0 2.5 2.5 0 0 0 5 0Z"></path>
</svg>
        </span>
      
        <span data-view-component="true" class="ActionListItem-label">
          Your profile
</span></a>
  
  
</li>

        
          <li role="presentation" aria-hidden="true" data-view-component="true" class="ActionList-sectionDivider"></li>
        
          
<li data-item-id="" data-targets="nav-list.items" data-view-component="true" class="ActionListItem">
    
    <a data-analytics-event="{&quot;category&quot;:&quot;Global navigation&quot;,&quot;action&quot;:&quot;YOUR_REPOSITORIES&quot;,&quot;label&quot;:null}" id="item-1604ce6b-2dfd-49ea-a54f-36e5c84d9b4f" href="/zulkaidaakbar?tab=repositories" data-view-component="true" class="ActionListContent ActionListContent--visual16">
        <span class="ActionListItem-visual ActionListItem-visual--leading">
          <svg aria-hidden="true" height="16" viewBox="0 0 16 16" version="1.1" width="16" data-view-component="true" class="octicon octicon-repo">
    <path d="M2 2.5A2.5 2.5 0 0 1 4.5 0h8.75a.75.75 0 0 1 .75.75v12.5a.75.75 0 0 1-.75.75h-2.5a.75.75 0 0 1 0-1.5h1.75v-2h-8a1 1 0 0 0-.714 1.7.75.75 0 1 1-1.072 1.05A2.495 2.495 0 0 1 2 11.5Zm10.5-1h-8a1 1 0 0 0-1 1v6.708A2.486 2.486 0 0 1 4.5 9h8ZM5 12.25a.25.25 0 0 1 .25-.25h3.5a.25.25 0 0 1 .25.25v3.25a.25.25 0 0 1-.4.2l-1.45-1.087a.249.249 0 0 0-.3 0L5.4 15.7a.25.25 0 0 1-.4-.2Z"></path>
</svg>
        </span>
      
        <span data-view-component="true" class="ActionListItem-label">
          Your repositories
</span></a>
  
  
</li>

        
          
<li data-item-id="" data-targets="nav-list.items" data-view-component="true" class="ActionListItem">
    
    <a data-analytics-event="{&quot;category&quot;:&quot;Global navigation&quot;,&quot;action&quot;:&quot;YOUR_PROJECTS&quot;,&quot;label&quot;:null}" id="item-497d419b-870b-4c06-b19d-c9506a4c4713" href="/zulkaidaakbar?tab=projects" data-view-component="true" class="ActionListContent ActionListContent--visual16">
        <span class="ActionListItem-visual ActionListItem-visual--leading">
          <svg aria-hidden="true" height="16" viewBox="0 0 16 16" version="1.1" width="16" data-view-component="true" class="octicon octicon-project">
    <path d="M1.75 0h12.5C15.216 0 16 .784 16 1.75v12.5A1.75 1.75 0 0 1 14.25 16H1.75A1.75 1.75 0 0 1 0 14.25V1.75C0 .784.784 0 1.75 0ZM1.5 1.75v12.5c0 .138.112.25.25.25h12.5a.25.25 0 0 0 .25-.25V1.75a.25.25 0 0 0-.25-.25H1.75a.25.25 0 0 0-.25.25ZM11.75 3a.75.75 0 0 1 .75.75v7.5a.75.75 0 0 1-1.5 0v-7.5a.75.75 0 0 1 .75-.75Zm-8.25.75a.75.75 0 0 1 1.5 0v5.5a.75.75 0 0 1-1.5 0ZM8 3a.75.75 0 0 1 .75.75v3.5a.75.75 0 0 1-1.5 0v-3.5A.75.75 0 0 1 8 3Z"></path>
</svg>
        </span>
      
        <span data-view-component="true" class="ActionListItem-label">
          Your projects
</span></a>
  
  
</li>

        
          
<li data-item-id="" data-targets="nav-list.items" data-view-component="true" class="ActionListItem">
    
    <a data-analytics-event="{&quot;category&quot;:&quot;Global navigation&quot;,&quot;action&quot;:&quot;YOUR_CODESPACES&quot;,&quot;label&quot;:null}" id="item-d0aff383-2403-45b1-b72b-7d168c557155" href="/codespaces" data-view-component="true" class="ActionListContent ActionListContent--visual16">
        <span class="ActionListItem-visual ActionListItem-visual--leading">
          <svg aria-hidden="true" height="16" viewBox="0 0 16 16" version="1.1" width="16" data-view-component="true" class="octicon octicon-codespaces">
    <path d="M0 11.25c0-.966.784-1.75 1.75-1.75h12.5c.966 0 1.75.784 1.75 1.75v3A1.75 1.75 0 0 1 14.25 16H1.75A1.75 1.75 0 0 1 0 14.25Zm2-9.5C2 .784 2.784 0 3.75 0h8.5C13.216 0 14 .784 14 1.75v5a1.75 1.75 0 0 1-1.75 1.75h-8.5A1.75 1.75 0 0 1 2 6.75Zm1.75-.25a.25.25 0 0 0-.25.25v5c0 .138.112.25.25.25h8.5a.25.25 0 0 0 .25-.25v-5a.25.25 0 0 0-.25-.25Zm-2 9.5a.25.25 0 0 0-.25.25v3c0 .138.112.25.25.25h12.5a.25.25 0 0 0 .25-.25v-3a.25.25 0 0 0-.25-.25Z"></path><path d="M7 12.75a.75.75 0 0 1 .75-.75h4.5a.75.75 0 0 1 0 1.5h-4.5a.75.75 0 0 1-.75-.75Zm-4 0a.75.75 0 0 1 .75-.75h.5a.75.75 0 0 1 0 1.5h-.5a.75.75 0 0 1-.75-.75Z"></path>
</svg>
        </span>
      
        <span data-view-component="true" class="ActionListItem-label">
          Your codespaces
</span></a>
  
  
</li>

        
          
<li data-item-id="" data-targets="nav-list.items" data-view-component="true" class="ActionListItem">
    
    <button id="item-82505139-1e39-48d7-aaca-f5845b116ead" type="button" data-view-component="true" class="ActionListContent ActionListContent--visual16">
        <span class="ActionListItem-visual ActionListItem-visual--leading">
          <span data-view-component="true" class="d-flex flex-items-center">    <svg style="box-sizing: content-box; color: var(--color-icon-primary);" width="16" height="16" viewBox="0 0 16 16" fill="none" data-view-component="true" class="anim-rotate">
  <circle cx="8" cy="8" r="7" stroke="currentColor" stroke-opacity="0.25" stroke-width="2" vector-effect="non-scaling-stroke" />
  <path d="M15 8a7.002 7.002 0 00-7-7" stroke="currentColor" stroke-width="2" stroke-linecap="round" vector-effect="non-scaling-stroke" />
</svg>
</span>
        </span>
      
        <span data-view-component="true" class="ActionListItem-label">
          

  <span class="color-fg-muted">
    Loading...
  </span>

</span></button>
  
  
</li>

        
          
<li data-item-id="" data-targets="nav-list.items" data-view-component="true" class="ActionListItem">
    
    <a data-analytics-event="{&quot;category&quot;:&quot;Global navigation&quot;,&quot;action&quot;:&quot;YOUR_STARS&quot;,&quot;label&quot;:null}" id="item-96240b93-ac8c-4da7-8dae-142eafdca780" href="/zulkaidaakbar?tab=stars" data-view-component="true" class="ActionListContent ActionListContent--visual16">
        <span class="ActionListItem-visual ActionListItem-visual--leading">
          <svg aria-hidden="true" height="16" viewBox="0 0 16 16" version="1.1" width="16" data-view-component="true" class="octicon octicon-star">
    <path d="M8 .25a.75.75 0 0 1 .673.418l1.882 3.815 4.21.612a.75.75 0 0 1 .416 1.279l-3.046 2.97.719 4.192a.751.751 0 0 1-1.088.791L8 12.347l-3.766 1.98a.75.75 0 0 1-1.088-.79l.72-4.194L.818 6.374a.75.75 0 0 1 .416-1.28l4.21-.611L7.327.668A.75.75 0 0 1 8 .25Zm0 2.445L6.615 5.5a.75.75 0 0 1-.564.41l-3.097.45 2.24 2.184a.75.75 0 0 1 .216.664l-.528 3.084 2.769-1.456a.75.75 0 0 1 .698 0l2.77 1.456-.53-3.084a.75.75 0 0 1 .216-.664l2.24-2.183-3.096-.45a.75.75 0 0 1-.564-.41L8 2.694Z"></path>
</svg>
        </span>
      
        <span data-view-component="true" class="ActionListItem-label">
          Your stars
</span></a>
  
  
</li>

        
          
<li data-item-id="" data-targets="nav-list.items" data-view-component="true" class="ActionListItem">
    
    <a data-analytics-event="{&quot;category&quot;:&quot;Global navigation&quot;,&quot;action&quot;:&quot;SPONSORS&quot;,&quot;label&quot;:null}" id="item-14c7a642-516a-4752-a636-c1e16a04d6be" href="/sponsors/accounts" data-view-component="true" class="ActionListContent ActionListContent--visual16">
        <span class="ActionListItem-visual ActionListItem-visual--leading">
          <svg aria-hidden="true" height="16" viewBox="0 0 16 16" version="1.1" width="16" data-view-component="true" class="octicon octicon-heart">
    <path d="m8 14.25.345.666a.75.75 0 0 1-.69 0l-.008-.004-.018-.01a7.152 7.152 0 0 1-.31-.17 22.055 22.055 0 0 1-3.434-2.414C2.045 10.731 0 8.35 0 5.5 0 2.836 2.086 1 4.25 1 5.797 1 7.153 1.802 8 3.02 8.847 1.802 10.203 1 11.75 1 13.914 1 16 2.836 16 5.5c0 2.85-2.045 5.231-3.885 6.818a22.066 22.066 0 0 1-3.744 2.584l-.018.01-.006.003h-.002ZM4.25 2.5c-1.336 0-2.75 1.164-2.75 3 0 2.15 1.58 4.144 3.365 5.682A20.58 20.58 0 0 0 8 13.393a20.58 20.58 0 0 0 3.135-2.211C12.92 9.644 14.5 7.65 14.5 5.5c0-1.836-1.414-3-2.75-3-1.373 0-2.609.986-3.029 2.456a.749.749 0 0 1-1.442 0C6.859 3.486 5.623 2.5 4.25 2.5Z"></path>
</svg>
        </span>
      
        <span data-view-component="true" class="ActionListItem-label">
          Your sponsors
</span></a>
  
  
</li>

        
          
<li data-item-id="" data-targets="nav-list.items" data-view-component="true" class="ActionListItem">
    
    <a data-analytics-event="{&quot;category&quot;:&quot;Global navigation&quot;,&quot;action&quot;:&quot;YOUR_GISTS&quot;,&quot;label&quot;:null}" id="item-d01a4716-490e-4eae-9d4c-178bcdb87777" href="https://gist.github.com/mine" data-view-component="true" class="ActionListContent ActionListContent--visual16">
        <span class="ActionListItem-visual ActionListItem-visual--leading">
          <svg aria-hidden="true" height="16" viewBox="0 0 16 16" version="1.1" width="16" data-view-component="true" class="octicon octicon-code-square">
    <path d="M0 1.75C0 .784.784 0 1.75 0h12.5C15.216 0 16 .784 16 1.75v12.5A1.75 1.75 0 0 1 14.25 16H1.75A1.75 1.75 0 0 1 0 14.25Zm1.75-.25a.25.25 0 0 0-.25.25v12.5c0 .138.112.25.25.25h12.5a.25.25 0 0 0 .25-.25V1.75a.25.25 0 0 0-.25-.25Zm7.47 3.97a.75.75 0 0 1 1.06 0l2 2a.75.75 0 0 1 0 1.06l-2 2a.749.749 0 0 1-1.275-.326.749.749 0 0 1 .215-.734L10.69 8 9.22 6.53a.75.75 0 0 1 0-1.06ZM6.78 6.53 5.31 8l1.47 1.47a.749.749 0 0 1-.326 1.275.749.749 0 0 1-.734-.215l-2-2a.75.75 0 0 1 0-1.06l2-2a.751.751 0 0 1 1.042.018.751.751 0 0 1 .018 1.042Z"></path>
</svg>
        </span>
      
        <span data-view-component="true" class="ActionListItem-label">
          Your gists
</span></a>
  
  
</li>

        
          <li role="presentation" aria-hidden="true" data-view-component="true" class="ActionList-sectionDivider"></li>
        
          
<li data-item-id="" data-targets="nav-list.items" data-view-component="true" class="ActionListItem">
    
    <button id="item-eda44597-d835-448a-989b-c7bf297609fd" type="button" data-view-component="true" class="ActionListContent ActionListContent--visual16">
        <span class="ActionListItem-visual ActionListItem-visual--leading">
          <span data-view-component="true" class="d-flex flex-items-center">    <svg style="box-sizing: content-box; color: var(--color-icon-primary);" width="16" height="16" viewBox="0 0 16 16" fill="none" data-view-component="true" class="anim-rotate">
  <circle cx="8" cy="8" r="7" stroke="currentColor" stroke-opacity="0.25" stroke-width="2" vector-effect="non-scaling-stroke" />
  <path d="M15 8a7.002 7.002 0 00-7-7" stroke="currentColor" stroke-width="2" stroke-linecap="round" vector-effect="non-scaling-stroke" />
</svg>
</span>
        </span>
      
        <span data-view-component="true" class="ActionListItem-label">
          

  <span class="color-fg-muted">
    Loading...
  </span>

</span></button>
  
  
</li>

        
          
<li data-item-id="" data-targets="nav-list.items" data-view-component="true" class="ActionListItem">
    
    <button id="item-bae601fd-cc77-4906-838a-b57b81032426" type="button" data-view-component="true" class="ActionListContent ActionListContent--visual16">
        <span class="ActionListItem-visual ActionListItem-visual--leading">
          <span data-view-component="true" class="d-flex flex-items-center">    <svg style="box-sizing: content-box; color: var(--color-icon-primary);" width="16" height="16" viewBox="0 0 16 16" fill="none" data-view-component="true" class="anim-rotate">
  <circle cx="8" cy="8" r="7" stroke="currentColor" stroke-opacity="0.25" stroke-width="2" vector-effect="non-scaling-stroke" />
  <path d="M15 8a7.002 7.002 0 00-7-7" stroke="currentColor" stroke-width="2" stroke-linecap="round" vector-effect="non-scaling-stroke" />
</svg>
</span>
        </span>
      
        <span data-view-component="true" class="ActionListItem-label">
          

  <span class="color-fg-muted">
    Loading...
  </span>

</span></button>
  
  
</li>

        
          
<li data-item-id="" data-targets="nav-list.items" data-view-component="true" class="ActionListItem">
    
    <button id="item-1a95931a-cb9f-46d0-9eab-b82dd4ab6744" type="button" data-view-component="true" class="ActionListContent ActionListContent--visual16">
        <span class="ActionListItem-visual ActionListItem-visual--leading">
          <span data-view-component="true" class="d-flex flex-items-center">    <svg style="box-sizing: content-box; color: var(--color-icon-primary);" width="16" height="16" viewBox="0 0 16 16" fill="none" data-view-component="true" class="anim-rotate">
  <circle cx="8" cy="8" r="7" stroke="currentColor" stroke-opacity="0.25" stroke-width="2" vector-effect="non-scaling-stroke" />
  <path d="M15 8a7.002 7.002 0 00-7-7" stroke="currentColor" stroke-width="2" stroke-linecap="round" vector-effect="non-scaling-stroke" />
</svg>
</span>
        </span>
      
        <span data-view-component="true" class="ActionListItem-label">
          

  <span class="color-fg-muted">
    Loading...
  </span>

</span></button>
  
  
</li>

        
          
<li data-item-id="" data-targets="nav-list.items" data-view-component="true" class="ActionListItem">
    
    <a data-analytics-event="{&quot;category&quot;:&quot;Global navigation&quot;,&quot;action&quot;:&quot;SETTINGS&quot;,&quot;label&quot;:null}" id="item-3c8ac005-1de8-4afb-9906-f94290b005f4" href="/settings/profile" data-view-component="true" class="ActionListContent ActionListContent--visual16">
        <span class="ActionListItem-visual ActionListItem-visual--leading">
          <svg aria-hidden="true" height="16" viewBox="0 0 16 16" version="1.1" width="16" data-view-component="true" class="octicon octicon-gear">
    <path d="M8 0a8.2 8.2 0 0 1 .701.031C9.444.095 9.99.645 10.16 1.29l.288 1.107c.018.066.079.158.212.224.231.114.454.243.668.386.123.082.233.09.299.071l1.103-.303c.644-.176 1.392.021 1.82.63.27.385.506.792.704 1.218.315.675.111 1.422-.364 1.891l-.814.806c-.049.048-.098.147-.088.294.016.257.016.515 0 .772-.01.147.038.246.088.294l.814.806c.475.469.679 1.216.364 1.891a7.977 7.977 0 0 1-.704 1.217c-.428.61-1.176.807-1.82.63l-1.102-.302c-.067-.019-.177-.011-.3.071a5.909 5.909 0 0 1-.668.386c-.133.066-.194.158-.211.224l-.29 1.106c-.168.646-.715 1.196-1.458 1.26a8.006 8.006 0 0 1-1.402 0c-.743-.064-1.289-.614-1.458-1.26l-.289-1.106c-.018-.066-.079-.158-.212-.224a5.738 5.738 0 0 1-.668-.386c-.123-.082-.233-.09-.299-.071l-1.103.303c-.644.176-1.392-.021-1.82-.63a8.12 8.12 0 0 1-.704-1.218c-.315-.675-.111-1.422.363-1.891l.815-.806c.05-.048.098-.147.088-.294a6.214 6.214 0 0 1 0-.772c.01-.147-.038-.246-.088-.294l-.815-.806C.635 6.045.431 5.298.746 4.623a7.92 7.92 0 0 1 .704-1.217c.428-.61 1.176-.807 1.82-.63l1.102.302c.067.019.177.011.3-.071.214-.143.437-.272.668-.386.133-.066.194-.158.211-.224l.29-1.106C6.009.645 6.556.095 7.299.03 7.53.01 7.764 0 8 0Zm-.571 1.525c-.036.003-.108.036-.137.146l-.289 1.105c-.147.561-.549.967-.998 1.189-.173.086-.34.183-.5.29-.417.278-.97.423-1.529.27l-1.103-.303c-.109-.03-.175.016-.195.045-.22.312-.412.644-.573.99-.014.031-.021.11.059.19l.815.806c.411.406.562.957.53 1.456a4.709 4.709 0 0 0 0 .582c.032.499-.119 1.05-.53 1.456l-.815.806c-.081.08-.073.159-.059.19.162.346.353.677.573.989.02.03.085.076.195.046l1.102-.303c.56-.153 1.113-.008 1.53.27.161.107.328.204.501.29.447.222.85.629.997 1.189l.289 1.105c.029.109.101.143.137.146a6.6 6.6 0 0 0 1.142 0c.036-.003.108-.036.137-.146l.289-1.105c.147-.561.549-.967.998-1.189.173-.086.34-.183.5-.29.417-.278.97-.423 1.529-.27l1.103.303c.109.029.175-.016.195-.045.22-.313.411-.644.573-.99.014-.031.021-.11-.059-.19l-.815-.806c-.411-.406-.562-.957-.53-1.456a4.709 4.709 0 0 0 0-.582c-.032-.499.119-1.05.53-1.456l.815-.806c.081-.08.073-.159.059-.19a6.464 6.464 0 0 0-.573-.989c-.02-.03-.085-.076-.195-.046l-1.102.303c-.56.153-1.113.008-1.53-.27a4.44 4.44 0 0 0-.501-.29c-.447-.222-.85-.629-.997-1.189l-.289-1.105c-.029-.11-.101-.143-.137-.146a6.6 6.6 0 0 0-1.142 0ZM11 8a3 3 0 1 1-6 0 3 3 0 0 1 6 0ZM9.5 8a1.5 1.5 0 1 0-3.001.001A1.5 1.5 0 0 0 9.5 8Z"></path>
</svg>
        </span>
      
        <span data-view-component="true" class="ActionListItem-label">
          Settings
</span></a>
  
  
</li>

        
          <li role="presentation" aria-hidden="true" data-view-component="true" class="ActionList-sectionDivider"></li>
        
          
<li data-item-id="" data-targets="nav-list.items" data-view-component="true" class="ActionListItem">
    
    <a data-analytics-event="{&quot;category&quot;:&quot;Global navigation&quot;,&quot;action&quot;:&quot;DOCS&quot;,&quot;label&quot;:null}" id="item-9b21e36a-9660-4f60-82bf-0ce1381268a4" href="https://docs.github.com" data-view-component="true" class="ActionListContent ActionListContent--visual16">
        <span class="ActionListItem-visual ActionListItem-visual--leading">
          <svg aria-hidden="true" height="16" viewBox="0 0 16 16" version="1.1" width="16" data-view-component="true" class="octicon octicon-book">
    <path d="M0 1.75A.75.75 0 0 1 .75 1h4.253c1.227 0 2.317.59 3 1.501A3.743 3.743 0 0 1 11.006 1h4.245a.75.75 0 0 1 .75.75v10.5a.75.75 0 0 1-.75.75h-4.507a2.25 2.25 0 0 0-1.591.659l-.622.621a.75.75 0 0 1-1.06 0l-.622-.621A2.25 2.25 0 0 0 5.258 13H.75a.75.75 0 0 1-.75-.75Zm7.251 10.324.004-5.073-.002-2.253A2.25 2.25 0 0 0 5.003 2.5H1.5v9h3.757a3.75 3.75 0 0 1 1.994.574ZM8.755 4.75l-.004 7.322a3.752 3.752 0 0 1 1.992-.572H14.5v-9h-3.495a2.25 2.25 0 0 0-2.25 2.25Z"></path>
</svg>
        </span>
      
        <span data-view-component="true" class="ActionListItem-label">
          GitHub Docs
</span></a>
  
  
</li>

        
          
<li data-item-id="" data-targets="nav-list.items" data-view-component="true" class="ActionListItem">
    
    <a data-analytics-event="{&quot;category&quot;:&quot;Global navigation&quot;,&quot;action&quot;:&quot;SUPPORT&quot;,&quot;label&quot;:null}" id="item-c8651e1b-be0f-418d-83d4-7dc8faf5c108" href="https://support.github.com" data-view-component="true" class="ActionListContent ActionListContent--visual16">
        <span class="ActionListItem-visual ActionListItem-visual--leading">
          <svg aria-hidden="true" height="16" viewBox="0 0 16 16" version="1.1" width="16" data-view-component="true" class="octicon octicon-people">
    <path d="M2 5.5a3.5 3.5 0 1 1 5.898 2.549 5.508 5.508 0 0 1 3.034 4.084.75.75 0 1 1-1.482.235 4 4 0 0 0-7.9 0 .75.75 0 0 1-1.482-.236A5.507 5.507 0 0 1 3.102 8.05 3.493 3.493 0 0 1 2 5.5ZM11 4a3.001 3.001 0 0 1 2.22 5.018 5.01 5.01 0 0 1 2.56 3.012.749.749 0 0 1-.885.954.752.752 0 0 1-.549-.514 3.507 3.507 0 0 0-2.522-2.372.75.75 0 0 1-.574-.73v-.352a.75.75 0 0 1 .416-.672A1.5 1.5 0 0 0 11 5.5.75.75 0 0 1 11 4Zm-5.5-.5a2 2 0 1 0-.001 3.999A2 2 0 0 0 5.5 3.5Z"></path>
</svg>
        </span>
      
        <span data-view-component="true" class="ActionListItem-label">
          GitHub Support
</span></a>
  
  
</li>

        
          <li role="presentation" aria-hidden="true" data-view-component="true" class="ActionList-sectionDivider"></li>
        
          
<li data-item-id="" data-targets="nav-list.items" data-view-component="true" class="ActionListItem">
    
    <a data-analytics-event="{&quot;category&quot;:&quot;Global navigation&quot;,&quot;action&quot;:&quot;LOGOUT&quot;,&quot;label&quot;:null}" id="item-549f7aa7-efba-4e7e-a1f8-9649c9e85588" href="/logout" data-view-component="true" class="ActionListContent">
      
        <span data-view-component="true" class="ActionListItem-label">
          Sign out
</span></a>
  
  
</li>

</ul>  </nav-list>
</nav>


</div>
      
</modal-dialog></div>
  </user-drawer-side-panel>

  </include-fragment>
</deferred-side-panel>
        </div>

        <div class="position-absolute mt-2">
            
<site-header-logged-in-user-menu>

</site-header-logged-in-user-menu>

        </div>
      </div>
    </div>


      <div class="AppHeader-localBar" >
        <nav data-pjax="#js-repo-pjax-container" aria-label="Repository" data-view-component="true" class="js-repo-nav js-sidenav-container-pjax js-responsive-underlinenav overflow-hidden UnderlineNav">

  <ul data-view-component="true" class="UnderlineNav-body list-style-none">
      <li data-view-component="true" class="d-inline-flex">
  <a id="code-tab" href="/zulkaidaakbar/NLP-STTCipasung2022" data-tab-item="i0code-tab" data-selected-links="repo_source repo_downloads repo_commits repo_releases repo_tags repo_branches repo_packages repo_deployments /zulkaidaakbar/NLP-STTCipasung2022" data-pjax="#repo-content-pjax-container" data-turbo-frame="repo-content-turbo-frame" data-hotkey="g c" data-analytics-event="{&quot;category&quot;:&quot;Underline navbar&quot;,&quot;action&quot;:&quot;Click tab&quot;,&quot;label&quot;:&quot;Code&quot;,&quot;target&quot;:&quot;UNDERLINE_NAV.TAB&quot;}" data-view-component="true" class="UnderlineNav-item no-wrap js-responsive-underlinenav-item js-selected-navigation-item">
    
              <svg aria-hidden="true" height="16" viewBox="0 0 16 16" version="1.1" width="16" data-view-component="true" class="octicon octicon-code UnderlineNav-octicon d-none d-sm-inline">
    <path d="m11.28 3.22 4.25 4.25a.75.75 0 0 1 0 1.06l-4.25 4.25a.749.749 0 0 1-1.275-.326.749.749 0 0 1 .215-.734L13.94 8l-3.72-3.72a.749.749 0 0 1 .326-1.275.749.749 0 0 1 .734.215Zm-6.56 0a.751.751 0 0 1 1.042.018.751.751 0 0 1 .018 1.042L2.06 8l3.72 3.72a.749.749 0 0 1-.326 1.275.749.749 0 0 1-.734-.215L.47 8.53a.75.75 0 0 1 0-1.06Z"></path>
</svg>
        <span data-content="Code">Code</span>
          <span id="code-repo-tab-count" data-pjax-replace="" data-turbo-replace="" title="Not available" data-view-component="true" class="Counter"></span>


    
</a></li>
      <li data-view-component="true" class="d-inline-flex">
  <a id="issues-tab" href="/zulkaidaakbar/NLP-STTCipasung2022/issues" data-tab-item="i1issues-tab" data-selected-links="repo_issues repo_labels repo_milestones /zulkaidaakbar/NLP-STTCipasung2022/issues" data-pjax="#repo-content-pjax-container" data-turbo-frame="repo-content-turbo-frame" data-hotkey="g i" data-analytics-event="{&quot;category&quot;:&quot;Underline navbar&quot;,&quot;action&quot;:&quot;Click tab&quot;,&quot;label&quot;:&quot;Issues&quot;,&quot;target&quot;:&quot;UNDERLINE_NAV.TAB&quot;}" data-view-component="true" class="UnderlineNav-item no-wrap js-responsive-underlinenav-item js-selected-navigation-item">
    
              <svg aria-hidden="true" height="16" viewBox="0 0 16 16" version="1.1" width="16" data-view-component="true" class="octicon octicon-issue-opened UnderlineNav-octicon d-none d-sm-inline">
    <path d="M8 9.5a1.5 1.5 0 1 0 0-3 1.5 1.5 0 0 0 0 3Z"></path><path d="M8 0a8 8 0 1 1 0 16A8 8 0 0 1 8 0ZM1.5 8a6.5 6.5 0 1 0 13 0 6.5 6.5 0 0 0-13 0Z"></path>
</svg>
        <span data-content="Issues">Issues</span>
          <span id="issues-repo-tab-count" data-pjax-replace="" data-turbo-replace="" title="0" hidden="hidden" data-view-component="true" class="Counter">0</span>


    
</a></li>
      <li data-view-component="true" class="d-inline-flex">
  <a id="pull-requests-tab" href="/zulkaidaakbar/NLP-STTCipasung2022/pulls" data-tab-item="i2pull-requests-tab" data-selected-links="repo_pulls checks /zulkaidaakbar/NLP-STTCipasung2022/pulls" data-pjax="#repo-content-pjax-container" data-turbo-frame="repo-content-turbo-frame" data-hotkey="g p" data-analytics-event="{&quot;category&quot;:&quot;Underline navbar&quot;,&quot;action&quot;:&quot;Click tab&quot;,&quot;label&quot;:&quot;Pull requests&quot;,&quot;target&quot;:&quot;UNDERLINE_NAV.TAB&quot;}" data-view-component="true" class="UnderlineNav-item no-wrap js-responsive-underlinenav-item js-selected-navigation-item">
    
              <svg aria-hidden="true" height="16" viewBox="0 0 16 16" version="1.1" width="16" data-view-component="true" class="octicon octicon-git-pull-request UnderlineNav-octicon d-none d-sm-inline">
    <path d="M1.5 3.25a2.25 2.25 0 1 1 3 2.122v5.256a2.251 2.251 0 1 1-1.5 0V5.372A2.25 2.25 0 0 1 1.5 3.25Zm5.677-.177L9.573.677A.25.25 0 0 1 10 .854V2.5h1A2.5 2.5 0 0 1 13.5 5v5.628a2.251 2.251 0 1 1-1.5 0V5a1 1 0 0 0-1-1h-1v1.646a.25.25 0 0 1-.427.177L7.177 3.427a.25.25 0 0 1 0-.354ZM3.75 2.5a.75.75 0 1 0 0 1.5.75.75 0 0 0 0-1.5Zm0 9.5a.75.75 0 1 0 0 1.5.75.75 0 0 0 0-1.5Zm8.25.75a.75.75 0 1 0 1.5 0 .75.75 0 0 0-1.5 0Z"></path>
</svg>
        <span data-content="Pull requests">Pull requests</span>
          <span id="pull-requests-repo-tab-count" data-pjax-replace="" data-turbo-replace="" title="0" hidden="hidden" data-view-component="true" class="Counter">0</span>


    
</a></li>
      <li data-view-component="true" class="d-inline-flex">
  <a id="actions-tab" href="/zulkaidaakbar/NLP-STTCipasung2022/actions" data-tab-item="i3actions-tab" data-selected-links="repo_actions /zulkaidaakbar/NLP-STTCipasung2022/actions" data-pjax="#repo-content-pjax-container" data-turbo-frame="repo-content-turbo-frame" data-hotkey="g a" data-analytics-event="{&quot;category&quot;:&quot;Underline navbar&quot;,&quot;action&quot;:&quot;Click tab&quot;,&quot;label&quot;:&quot;Actions&quot;,&quot;target&quot;:&quot;UNDERLINE_NAV.TAB&quot;}" data-view-component="true" class="UnderlineNav-item no-wrap js-responsive-underlinenav-item js-selected-navigation-item">
    
              <svg aria-hidden="true" height="16" viewBox="0 0 16 16" version="1.1" width="16" data-view-component="true" class="octicon octicon-play UnderlineNav-octicon d-none d-sm-inline">
    <path d="M8 0a8 8 0 1 1 0 16A8 8 0 0 1 8 0ZM1.5 8a6.5 6.5 0 1 0 13 0 6.5 6.5 0 0 0-13 0Zm4.879-2.773 4.264 2.559a.25.25 0 0 1 0 .428l-4.264 2.559A.25.25 0 0 1 6 10.559V5.442a.25.25 0 0 1 .379-.215Z"></path>
</svg>
        <span data-content="Actions">Actions</span>
          <span id="actions-repo-tab-count" data-pjax-replace="" data-turbo-replace="" title="Not available" data-view-component="true" class="Counter"></span>


    
</a></li>
      <li data-view-component="true" class="d-inline-flex">
  <a id="projects-tab" href="/zulkaidaakbar/NLP-STTCipasung2022/projects" data-tab-item="i4projects-tab" data-selected-links="repo_projects new_repo_project repo_project /zulkaidaakbar/NLP-STTCipasung2022/projects" data-pjax="#repo-content-pjax-container" data-turbo-frame="repo-content-turbo-frame" data-hotkey="g b" data-analytics-event="{&quot;category&quot;:&quot;Underline navbar&quot;,&quot;action&quot;:&quot;Click tab&quot;,&quot;label&quot;:&quot;Projects&quot;,&quot;target&quot;:&quot;UNDERLINE_NAV.TAB&quot;}" data-view-component="true" class="UnderlineNav-item no-wrap js-responsive-underlinenav-item js-selected-navigation-item">
    
              <svg aria-hidden="true" height="16" viewBox="0 0 16 16" version="1.1" width="16" data-view-component="true" class="octicon octicon-table UnderlineNav-octicon d-none d-sm-inline">
    <path d="M0 1.75C0 .784.784 0 1.75 0h12.5C15.216 0 16 .784 16 1.75v12.5A1.75 1.75 0 0 1 14.25 16H1.75A1.75 1.75 0 0 1 0 14.25ZM6.5 6.5v8h7.75a.25.25 0 0 0 .25-.25V6.5Zm8-1.5V1.75a.25.25 0 0 0-.25-.25H6.5V5Zm-13 1.5v7.75c0 .138.112.25.25.25H5v-8ZM5 5V1.5H1.75a.25.25 0 0 0-.25.25V5Z"></path>
</svg>
        <span data-content="Projects">Projects</span>
          <span id="projects-repo-tab-count" data-pjax-replace="" data-turbo-replace="" title="0" hidden="hidden" data-view-component="true" class="Counter">0</span>


    
</a></li>
      <li data-view-component="true" class="d-inline-flex">
  <a id="wiki-tab" href="/zulkaidaakbar/NLP-STTCipasung2022/wiki" data-tab-item="i5wiki-tab" data-selected-links="repo_wiki /zulkaidaakbar/NLP-STTCipasung2022/wiki" data-pjax="#repo-content-pjax-container" data-turbo-frame="repo-content-turbo-frame" data-hotkey="g w" data-analytics-event="{&quot;category&quot;:&quot;Underline navbar&quot;,&quot;action&quot;:&quot;Click tab&quot;,&quot;label&quot;:&quot;Wiki&quot;,&quot;target&quot;:&quot;UNDERLINE_NAV.TAB&quot;}" data-view-component="true" class="UnderlineNav-item no-wrap js-responsive-underlinenav-item js-selected-navigation-item">
    
              <svg aria-hidden="true" height="16" viewBox="0 0 16 16" version="1.1" width="16" data-view-component="true" class="octicon octicon-book UnderlineNav-octicon d-none d-sm-inline">
    <path d="M0 1.75A.75.75 0 0 1 .75 1h4.253c1.227 0 2.317.59 3 1.501A3.743 3.743 0 0 1 11.006 1h4.245a.75.75 0 0 1 .75.75v10.5a.75.75 0 0 1-.75.75h-4.507a2.25 2.25 0 0 0-1.591.659l-.622.621a.75.75 0 0 1-1.06 0l-.622-.621A2.25 2.25 0 0 0 5.258 13H.75a.75.75 0 0 1-.75-.75Zm7.251 10.324.004-5.073-.002-2.253A2.25 2.25 0 0 0 5.003 2.5H1.5v9h3.757a3.75 3.75 0 0 1 1.994.574ZM8.755 4.75l-.004 7.322a3.752 3.752 0 0 1 1.992-.572H14.5v-9h-3.495a2.25 2.25 0 0 0-2.25 2.25Z"></path>
</svg>
        <span data-content="Wiki">Wiki</span>
          <span id="wiki-repo-tab-count" data-pjax-replace="" data-turbo-replace="" title="Not available" data-view-component="true" class="Counter"></span>


    
</a></li>
      <li data-view-component="true" class="d-inline-flex">
  <a id="security-tab" href="/zulkaidaakbar/NLP-STTCipasung2022/security" data-tab-item="i6security-tab" data-selected-links="security overview alerts policy token_scanning code_scanning /zulkaidaakbar/NLP-STTCipasung2022/security" data-pjax="#repo-content-pjax-container" data-turbo-frame="repo-content-turbo-frame" data-hotkey="g s" data-analytics-event="{&quot;category&quot;:&quot;Underline navbar&quot;,&quot;action&quot;:&quot;Click tab&quot;,&quot;label&quot;:&quot;Security&quot;,&quot;target&quot;:&quot;UNDERLINE_NAV.TAB&quot;}" data-view-component="true" class="UnderlineNav-item no-wrap js-responsive-underlinenav-item js-selected-navigation-item">
    
              <svg aria-hidden="true" height="16" viewBox="0 0 16 16" version="1.1" width="16" data-view-component="true" class="octicon octicon-shield UnderlineNav-octicon d-none d-sm-inline">
    <path d="M7.467.133a1.748 1.748 0 0 1 1.066 0l5.25 1.68A1.75 1.75 0 0 1 15 3.48V7c0 1.566-.32 3.182-1.303 4.682-.983 1.498-2.585 2.813-5.032 3.855a1.697 1.697 0 0 1-1.33 0c-2.447-1.042-4.049-2.357-5.032-3.855C1.32 10.182 1 8.566 1 7V3.48a1.75 1.75 0 0 1 1.217-1.667Zm.61 1.429a.25.25 0 0 0-.153 0l-5.25 1.68a.25.25 0 0 0-.174.238V7c0 1.358.275 2.666 1.057 3.86.784 1.194 2.121 2.34 4.366 3.297a.196.196 0 0 0 .154 0c2.245-.956 3.582-2.104 4.366-3.298C13.225 9.666 13.5 8.36 13.5 7V3.48a.251.251 0 0 0-.174-.237l-5.25-1.68ZM8.75 4.75v3a.75.75 0 0 1-1.5 0v-3a.75.75 0 0 1 1.5 0ZM9 10.5a1 1 0 1 1-2 0 1 1 0 0 1 2 0Z"></path>
</svg>
        <span data-content="Security">Security</span>
          <include-fragment src="/zulkaidaakbar/NLP-STTCipasung2022/security/overall-count" accept="text/fragment+html"></include-fragment>

    
</a></li>
      <li data-view-component="true" class="d-inline-flex">
  <a id="insights-tab" href="/zulkaidaakbar/NLP-STTCipasung2022/pulse" data-tab-item="i7insights-tab" data-selected-links="repo_graphs repo_contributors dependency_graph dependabot_updates pulse people community /zulkaidaakbar/NLP-STTCipasung2022/pulse" data-pjax="#repo-content-pjax-container" data-turbo-frame="repo-content-turbo-frame" data-analytics-event="{&quot;category&quot;:&quot;Underline navbar&quot;,&quot;action&quot;:&quot;Click tab&quot;,&quot;label&quot;:&quot;Insights&quot;,&quot;target&quot;:&quot;UNDERLINE_NAV.TAB&quot;}" data-view-component="true" class="UnderlineNav-item no-wrap js-responsive-underlinenav-item js-selected-navigation-item">
    
              <svg aria-hidden="true" height="16" viewBox="0 0 16 16" version="1.1" width="16" data-view-component="true" class="octicon octicon-graph UnderlineNav-octicon d-none d-sm-inline">
    <path d="M1.5 1.75V13.5h13.75a.75.75 0 0 1 0 1.5H.75a.75.75 0 0 1-.75-.75V1.75a.75.75 0 0 1 1.5 0Zm14.28 2.53-5.25 5.25a.75.75 0 0 1-1.06 0L7 7.06 4.28 9.78a.751.751 0 0 1-1.042-.018.751.751 0 0 1-.018-1.042l3.25-3.25a.75.75 0 0 1 1.06 0L10 7.94l4.72-4.72a.751.751 0 0 1 1.042.018.751.751 0 0 1 .018 1.042Z"></path>
</svg>
        <span data-content="Insights">Insights</span>
          <span id="insights-repo-tab-count" data-pjax-replace="" data-turbo-replace="" title="Not available" data-view-component="true" class="Counter"></span>


    
</a></li>
      <li data-view-component="true" class="d-inline-flex">
  <a id="settings-tab" href="/zulkaidaakbar/NLP-STTCipasung2022/settings" data-tab-item="i8settings-tab" data-selected-links="code_review_limits codespaces_repository_settings collaborators custom_tabs hooks integration_installations interaction_limits issue_template_editor key_links_settings notifications repo_actions_settings repo_announcements repo_branch_settings repo_keys_settings repo_pages_settings repo_issue_types repo_rule_insights repo_rulesets repo_protected_tags_settings repo_settings reported_content repo_custom_properties repository_actions_settings_add_new_runner repository_actions_settings_general repository_actions_settings_runners repository_environments role_details secrets secrets_settings_actions secrets_settings_codespaces secrets_settings_dependabot security_analysis /zulkaidaakbar/NLP-STTCipasung2022/settings" data-pjax="#repo-content-pjax-container" data-turbo-frame="repo-content-turbo-frame" data-analytics-event="{&quot;category&quot;:&quot;Underline navbar&quot;,&quot;action&quot;:&quot;Click tab&quot;,&quot;label&quot;:&quot;Settings&quot;,&quot;target&quot;:&quot;UNDERLINE_NAV.TAB&quot;}" data-view-component="true" class="UnderlineNav-item no-wrap js-responsive-underlinenav-item js-selected-navigation-item">
    
              <svg aria-hidden="true" height="16" viewBox="0 0 16 16" version="1.1" width="16" data-view-component="true" class="octicon octicon-gear UnderlineNav-octicon d-none d-sm-inline">
    <path d="M8 0a8.2 8.2 0 0 1 .701.031C9.444.095 9.99.645 10.16 1.29l.288 1.107c.018.066.079.158.212.224.231.114.454.243.668.386.123.082.233.09.299.071l1.103-.303c.644-.176 1.392.021 1.82.63.27.385.506.792.704 1.218.315.675.111 1.422-.364 1.891l-.814.806c-.049.048-.098.147-.088.294.016.257.016.515 0 .772-.01.147.038.246.088.294l.814.806c.475.469.679 1.216.364 1.891a7.977 7.977 0 0 1-.704 1.217c-.428.61-1.176.807-1.82.63l-1.102-.302c-.067-.019-.177-.011-.3.071a5.909 5.909 0 0 1-.668.386c-.133.066-.194.158-.211.224l-.29 1.106c-.168.646-.715 1.196-1.458 1.26a8.006 8.006 0 0 1-1.402 0c-.743-.064-1.289-.614-1.458-1.26l-.289-1.106c-.018-.066-.079-.158-.212-.224a5.738 5.738 0 0 1-.668-.386c-.123-.082-.233-.09-.299-.071l-1.103.303c-.644.176-1.392-.021-1.82-.63a8.12 8.12 0 0 1-.704-1.218c-.315-.675-.111-1.422.363-1.891l.815-.806c.05-.048.098-.147.088-.294a6.214 6.214 0 0 1 0-.772c.01-.147-.038-.246-.088-.294l-.815-.806C.635 6.045.431 5.298.746 4.623a7.92 7.92 0 0 1 .704-1.217c.428-.61 1.176-.807 1.82-.63l1.102.302c.067.019.177.011.3-.071.214-.143.437-.272.668-.386.133-.066.194-.158.211-.224l.29-1.106C6.009.645 6.556.095 7.299.03 7.53.01 7.764 0 8 0Zm-.571 1.525c-.036.003-.108.036-.137.146l-.289 1.105c-.147.561-.549.967-.998 1.189-.173.086-.34.183-.5.29-.417.278-.97.423-1.529.27l-1.103-.303c-.109-.03-.175.016-.195.045-.22.312-.412.644-.573.99-.014.031-.021.11.059.19l.815.806c.411.406.562.957.53 1.456a4.709 4.709 0 0 0 0 .582c.032.499-.119 1.05-.53 1.456l-.815.806c-.081.08-.073.159-.059.19.162.346.353.677.573.989.02.03.085.076.195.046l1.102-.303c.56-.153 1.113-.008 1.53.27.161.107.328.204.501.29.447.222.85.629.997 1.189l.289 1.105c.029.109.101.143.137.146a6.6 6.6 0 0 0 1.142 0c.036-.003.108-.036.137-.146l.289-1.105c.147-.561.549-.967.998-1.189.173-.086.34-.183.5-.29.417-.278.97-.423 1.529-.27l1.103.303c.109.029.175-.016.195-.045.22-.313.411-.644.573-.99.014-.031.021-.11-.059-.19l-.815-.806c-.411-.406-.562-.957-.53-1.456a4.709 4.709 0 0 0 0-.582c-.032-.499.119-1.05.53-1.456l.815-.806c.081-.08.073-.159.059-.19a6.464 6.464 0 0 0-.573-.989c-.02-.03-.085-.076-.195-.046l-1.102.303c-.56.153-1.113.008-1.53-.27a4.44 4.44 0 0 0-.501-.29c-.447-.222-.85-.629-.997-1.189l-.289-1.105c-.029-.11-.101-.143-.137-.146a6.6 6.6 0 0 0-1.142 0ZM11 8a3 3 0 1 1-6 0 3 3 0 0 1 6 0ZM9.5 8a1.5 1.5 0 1 0-3.001.001A1.5 1.5 0 0 0 9.5 8Z"></path>
</svg>
        <span data-content="Settings">Settings</span>
          <span id="settings-repo-tab-count" data-pjax-replace="" data-turbo-replace="" title="Not available" data-view-component="true" class="Counter"></span>


    
</a></li>
</ul>
    <div style="visibility:hidden;" data-view-component="true" class="UnderlineNav-actions js-responsive-underlinenav-overflow position-absolute pr-3 pr-md-4 pr-lg-5 right-0">        <details data-view-component="true" class="details-overlay details-reset position-relative">
    <summary role="button" data-view-component="true">          <div class="UnderlineNav-item mr-0 border-0">
            <svg aria-hidden="true" height="16" viewBox="0 0 16 16" version="1.1" width="16" data-view-component="true" class="octicon octicon-kebab-horizontal">
    <path d="M8 9a1.5 1.5 0 1 0 0-3 1.5 1.5 0 0 0 0 3ZM1.5 9a1.5 1.5 0 1 0 0-3 1.5 1.5 0 0 0 0 3Zm13 0a1.5 1.5 0 1 0 0-3 1.5 1.5 0 0 0 0 3Z"></path>
</svg>
            <span class="sr-only">More</span>
          </div>
</summary>
    <details-menu role="menu" data-view-component="true" class="dropdown-menu dropdown-menu-sw">
          <ul>
              <li data-menu-item="i0code-tab" hidden>
                <a role="menuitem" class="js-selected-navigation-item dropdown-item" data-selected-links="repo_source repo_downloads repo_commits repo_releases repo_tags repo_branches repo_packages repo_deployments /zulkaidaakbar/NLP-STTCipasung2022" href="/zulkaidaakbar/NLP-STTCipasung2022">
                  Code
</a>              </li>
              <li data-menu-item="i1issues-tab" hidden>
                <a role="menuitem" class="js-selected-navigation-item dropdown-item" data-selected-links="repo_issues repo_labels repo_milestones /zulkaidaakbar/NLP-STTCipasung2022/issues" href="/zulkaidaakbar/NLP-STTCipasung2022/issues">
                  Issues
</a>              </li>
              <li data-menu-item="i2pull-requests-tab" hidden>
                <a role="menuitem" class="js-selected-navigation-item dropdown-item" data-selected-links="repo_pulls checks /zulkaidaakbar/NLP-STTCipasung2022/pulls" href="/zulkaidaakbar/NLP-STTCipasung2022/pulls">
                  Pull requests
</a>              </li>
              <li data-menu-item="i3actions-tab" hidden>
                <a role="menuitem" class="js-selected-navigation-item dropdown-item" data-selected-links="repo_actions /zulkaidaakbar/NLP-STTCipasung2022/actions" href="/zulkaidaakbar/NLP-STTCipasung2022/actions">
                  Actions
</a>              </li>
              <li data-menu-item="i4projects-tab" hidden>
                <a role="menuitem" class="js-selected-navigation-item dropdown-item" data-selected-links="repo_projects new_repo_project repo_project /zulkaidaakbar/NLP-STTCipasung2022/projects" href="/zulkaidaakbar/NLP-STTCipasung2022/projects">
                  Projects
</a>              </li>
              <li data-menu-item="i5wiki-tab" hidden>
                <a role="menuitem" class="js-selected-navigation-item dropdown-item" data-selected-links="repo_wiki /zulkaidaakbar/NLP-STTCipasung2022/wiki" href="/zulkaidaakbar/NLP-STTCipasung2022/wiki">
                  Wiki
</a>              </li>
              <li data-menu-item="i6security-tab" hidden>
                <a role="menuitem" class="js-selected-navigation-item dropdown-item" data-selected-links="security overview alerts policy token_scanning code_scanning /zulkaidaakbar/NLP-STTCipasung2022/security" href="/zulkaidaakbar/NLP-STTCipasung2022/security">
                  Security
</a>              </li>
              <li data-menu-item="i7insights-tab" hidden>
                <a role="menuitem" class="js-selected-navigation-item dropdown-item" data-selected-links="repo_graphs repo_contributors dependency_graph dependabot_updates pulse people community /zulkaidaakbar/NLP-STTCipasung2022/pulse" href="/zulkaidaakbar/NLP-STTCipasung2022/pulse">
                  Insights
</a>              </li>
              <li data-menu-item="i8settings-tab" hidden>
                <a role="menuitem" class="js-selected-navigation-item dropdown-item" data-selected-links="code_review_limits codespaces_repository_settings collaborators custom_tabs hooks integration_installations interaction_limits issue_template_editor key_links_settings notifications repo_actions_settings repo_announcements repo_branch_settings repo_keys_settings repo_pages_settings repo_issue_types repo_rule_insights repo_rulesets repo_protected_tags_settings repo_settings reported_content repo_custom_properties repository_actions_settings_add_new_runner repository_actions_settings_general repository_actions_settings_runners repository_environments role_details secrets secrets_settings_actions secrets_settings_codespaces secrets_settings_dependabot security_analysis /zulkaidaakbar/NLP-STTCipasung2022/settings" href="/zulkaidaakbar/NLP-STTCipasung2022/settings">
                  Settings
</a>              </li>
          </ul>
</details-menu>
</details></div>
</nav>
      </div>
</header>


      <div hidden="hidden" data-view-component="true" class="js-stale-session-flash flash flash-warn mb-3">
  
        <svg aria-hidden="true" height="16" viewBox="0 0 16 16" version="1.1" width="16" data-view-component="true" class="octicon octicon-alert">
    <path d="M6.457 1.047c.659-1.234 2.427-1.234 3.086 0l6.082 11.378A1.75 1.75 0 0 1 14.082 15H1.918a1.75 1.75 0 0 1-1.543-2.575Zm1.763.707a.25.25 0 0 0-.44 0L1.698 13.132a.25.25 0 0 0 .22.368h12.164a.25.25 0 0 0 .22-.368Zm.53 3.996v2.5a.75.75 0 0 1-1.5 0v-2.5a.75.75 0 0 1 1.5 0ZM9 11a1 1 0 1 1-2 0 1 1 0 0 1 2 0Z"></path>
</svg>
        <span class="js-stale-session-flash-signed-in" hidden>You signed in with another tab or window. <a class="Link--inTextBlock" href="">Reload</a> to refresh your session.</span>
        <span class="js-stale-session-flash-signed-out" hidden>You signed out in another tab or window. <a class="Link--inTextBlock" href="">Reload</a> to refresh your session.</span>
        <span class="js-stale-session-flash-switched" hidden>You switched accounts on another tab or window. <a class="Link--inTextBlock" href="">Reload</a> to refresh your session.</span>

    <div data-view-component="true" class="flash-close">
  <button id="icon-button-b3c633c5-6711-4810-9d41-f8855272ee4c" type="button" data-view-component="true" class="Button Button--iconOnly Button--invisible Button--medium js-flash-close">    <svg aria-hidden="true" height="16" viewBox="0 0 16 16" version="1.1" width="16" data-view-component="true" class="octicon octicon-x Button-visual">
    <path d="M3.72 3.72a.75.75 0 0 1 1.06 0L8 6.94l3.22-3.22a.749.749 0 0 1 1.275.326.749.749 0 0 1-.215.734L9.06 8l3.22 3.22a.749.749 0 0 1-.326 1.275.749.749 0 0 1-.734-.215L8 9.06l-3.22 3.22a.751.751 0 0 1-1.042-.018.751.751 0 0 1-.018-1.042L6.94 8 3.72 4.78a.75.75 0 0 1 0-1.06Z"></path>
</svg>
</button>  <tool-tip id="tooltip-c3957779-4bc3-4ddb-86a9-18ad9e61d955" for="icon-button-b3c633c5-6711-4810-9d41-f8855272ee4c" popover="manual" data-direction="s" data-type="label" data-view-component="true" class="sr-only position-absolute">Dismiss alert</tool-tip>
</div>

  
</div>
          
    </div>

  <div id="start-of-content" class="show-on-focus"></div>








    <div id="js-flash-container" data-turbo-replace>





  <template class="js-flash-template">
    
<div class="flash flash-full   {{ className }}">
  <div class="px-2" >
    <button autofocus class="flash-close js-flash-close" type="button" aria-label="Dismiss this message">
      <svg aria-hidden="true" height="16" viewBox="0 0 16 16" version="1.1" width="16" data-view-component="true" class="octicon octicon-x">
    <path d="M3.72 3.72a.75.75 0 0 1 1.06 0L8 6.94l3.22-3.22a.749.749 0 0 1 1.275.326.749.749 0 0 1-.215.734L9.06 8l3.22 3.22a.749.749 0 0 1-.326 1.275.749.749 0 0 1-.734-.215L8 9.06l-3.22 3.22a.751.751 0 0 1-1.042-.018.751.751 0 0 1-.018-1.042L6.94 8 3.72 4.78a.75.75 0 0 1 0-1.06Z"></path>
</svg>
    </button>
    <div aria-atomic="true" role="alert" class="js-flash-alert">
      
      <div>{{ message }}</div>

    </div>
  </div>
</div>
  </template>
</div>


    
    <notification-shelf-watcher data-base-url="https://github.com/notifications/beta/shelf" data-channel="eyJjIjoibm90aWZpY2F0aW9uLWNoYW5nZWQ6NjgyOTc0MzgiLCJ0IjoxNjk0NjQ0MjE3fQ==--422a56c18b06869975acd1db27b675f4a1a59d9c27a8503fd6806607279c5e3a" data-view-component="true" class="js-socket-channel"></notification-shelf-watcher>
  <div hidden data-initial data-target="notification-shelf-watcher.placeholder"></div>






      <details
  class="details-reset details-overlay details-overlay-dark js-command-palette-dialog"
  id="command-palette-pjax-container"
  data-turbo-replace
>
  <summary aria-label="command palette trigger" tabindex="-1"></summary>
  <details-dialog class="command-palette-details-dialog d-flex flex-column flex-justify-center height-fit" aria-label="command palette">
    <command-palette
      class="command-palette color-bg-default rounded-3 border color-shadow-small"
      return-to=/zulkaidaakbar/NLP-STTCipasung2022/blob/main/20-September-2022/IntroNLPEnglish.ipynb
      user-id="68297438"
      activation-hotkey="Mod+k,Mod+Alt+k"
      command-mode-hotkey="Mod+Shift+k"
      data-action="
        command-palette-input-ready:command-palette#inputReady
        command-palette-page-stack-updated:command-palette#updateInputScope
        itemsUpdated:command-palette#itemsUpdated
        keydown:command-palette#onKeydown
        loadingStateChanged:command-palette#loadingStateChanged
        selectedItemChanged:command-palette#selectedItemChanged
        pageFetchError:command-palette#pageFetchError
      ">

        <command-palette-mode
          data-char="#"
            data-scope-types="[&quot;&quot;]"
            data-placeholder="Search issues and pull requests"
        ></command-palette-mode>
        <command-palette-mode
          data-char="#"
            data-scope-types="[&quot;owner&quot;,&quot;repository&quot;]"
            data-placeholder="Search issues, pull requests, discussions, and projects"
        ></command-palette-mode>
        <command-palette-mode
          data-char="!"
            data-scope-types="[&quot;owner&quot;,&quot;repository&quot;]"
            data-placeholder="Search projects"
        ></command-palette-mode>
        <command-palette-mode
          data-char="@"
            data-scope-types="[&quot;&quot;]"
            data-placeholder="Search or jump to a user, organization, or repository"
        ></command-palette-mode>
        <command-palette-mode
          data-char="@"
            data-scope-types="[&quot;owner&quot;]"
            data-placeholder="Search or jump to a repository"
        ></command-palette-mode>
        <command-palette-mode
          data-char="/"
            data-scope-types="[&quot;repository&quot;]"
            data-placeholder="Search files"
        ></command-palette-mode>
        <command-palette-mode
          data-char="?"
        ></command-palette-mode>
        <command-palette-mode
          data-char="&gt;"
            data-placeholder="Run a command"
        ></command-palette-mode>
        <command-palette-mode
          data-char=""
            data-scope-types="[&quot;&quot;]"
            data-placeholder="Search or jump to..."
        ></command-palette-mode>
        <command-palette-mode
          data-char=""
            data-scope-types="[&quot;owner&quot;]"
            data-placeholder="Search or jump to..."
        ></command-palette-mode>
      <command-palette-mode
        class="js-command-palette-default-mode"
        data-char=""
        data-placeholder="Search or jump to..."
      ></command-palette-mode>

      <command-palette-input placeholder="Search or jump to..."

        data-action="
          command-palette-input:command-palette#onInput
          command-palette-select:command-palette#onSelect
          command-palette-descope:command-palette#onDescope
          command-palette-cleared:command-palette#onInputClear
        "
      >
        <div class="js-search-icon d-flex flex-items-center mr-2" style="height: 26px">
          <svg aria-hidden="true" height="16" viewBox="0 0 16 16" version="1.1" width="16" data-view-component="true" class="octicon octicon-search color-fg-muted">
    <path d="M10.68 11.74a6 6 0 0 1-7.922-8.982 6 6 0 0 1 8.982 7.922l3.04 3.04a.749.749 0 0 1-.326 1.275.749.749 0 0 1-.734-.215ZM11.5 7a4.499 4.499 0 1 0-8.997 0A4.499 4.499 0 0 0 11.5 7Z"></path>
</svg>
        </div>
        <div class="js-spinner d-flex flex-items-center mr-2 color-fg-muted" hidden>
          <svg aria-label="Loading" class="anim-rotate" viewBox="0 0 16 16" fill="none" width="16" height="16">
            <circle
              cx="8"
              cy="8"
              r="7"
              stroke="currentColor"
              stroke-opacity="0.25"
              stroke-width="2"
              vector-effect="non-scaling-stroke"
            ></circle>
            <path
              d="M15 8a7.002 7.002 0 00-7-7"
              stroke="currentColor"
              stroke-width="2"
              stroke-linecap="round"
              vector-effect="non-scaling-stroke"
            ></path>
          </svg>
        </div>
        <command-palette-scope >
          <div data-target="command-palette-scope.placeholder" hidden class="color-fg-subtle">/&nbsp;&nbsp;<span class="text-semibold color-fg-default">...</span>&nbsp;&nbsp;/&nbsp;&nbsp;</div>
              <command-palette-token
                data-text="zulkaidaakbar"
                data-id="MDQ6VXNlcjY4Mjk3NDM4"
                data-type="owner"
                data-value="zulkaidaakbar"
                data-targets="command-palette-scope.tokens"
                class="color-fg-default text-semibold"
                style="white-space:nowrap;line-height:20px;"
                >zulkaidaakbar<span class="color-fg-subtle text-normal">&nbsp;&nbsp;/&nbsp;&nbsp;</span></command-palette-token>
              <command-palette-token
                data-text="NLP-STTCipasung2022"
                data-id="R_kgDOIBZ2Mw"
                data-type="repository"
                data-value="NLP-STTCipasung2022"
                data-targets="command-palette-scope.tokens"
                class="color-fg-default text-semibold"
                style="white-space:nowrap;line-height:20px;"
                >NLP-STTCipasung2022<span class="color-fg-subtle text-normal">&nbsp;&nbsp;/&nbsp;&nbsp;</span></command-palette-token>
        </command-palette-scope>
        <div class="command-palette-input-group flex-1 form-control border-0 box-shadow-none" style="z-index: 0">
          <div class="command-palette-typeahead position-absolute d-flex flex-items-center Truncate">
            <span class="typeahead-segment input-mirror" data-target="command-palette-input.mirror"></span>
            <span class="Truncate-text" data-target="command-palette-input.typeaheadText"></span>
            <span class="typeahead-segment" data-target="command-palette-input.typeaheadPlaceholder"></span>
          </div>
          <input
            class="js-overlay-input typeahead-input d-none"
            disabled
            tabindex="-1"
            aria-label="Hidden input for typeahead"
          >
          <input
            type="text"
            autocomplete="off"
            autocorrect="off"
            autocapitalize="off"
            spellcheck="false"
            class="js-input typeahead-input form-control border-0 box-shadow-none input-block width-full no-focus-indicator"
            aria-label="Command palette input"
            aria-haspopup="listbox"
            aria-expanded="false"
            aria-autocomplete="list"
            aria-controls="command-palette-page-stack"
            role="combobox"
            data-action="
              input:command-palette-input#onInput
              keydown:command-palette-input#onKeydown
            "
          >
        </div>
          <div data-view-component="true" class="position-relative d-inline-block">
    <button aria-keyshortcuts="Control+Backspace" data-action="click:command-palette-input#onClear keypress:command-palette-input#onClear" data-target="command-palette-input.clearButton" id="command-palette-clear-button" hidden="hidden" type="button" data-view-component="true" class="btn-octicon command-palette-input-clear-button">      <svg aria-hidden="true" height="16" viewBox="0 0 16 16" version="1.1" width="16" data-view-component="true" class="octicon octicon-x-circle-fill">
    <path d="M2.343 13.657A8 8 0 1 1 13.658 2.343 8 8 0 0 1 2.343 13.657ZM6.03 4.97a.751.751 0 0 0-1.042.018.751.751 0 0 0-.018 1.042L6.94 8 4.97 9.97a.749.749 0 0 0 .326 1.275.749.749 0 0 0 .734-.215L8 9.06l1.97 1.97a.749.749 0 0 0 1.275-.326.749.749 0 0 0-.215-.734L9.06 8l1.97-1.97a.749.749 0 0 0-.326-1.275.749.749 0 0 0-.734.215L8 6.94Z"></path>
</svg>
</button>    <tool-tip id="tooltip-4dcaebac-6308-4e57-8da1-63a03d775d0e" for="command-palette-clear-button" popover="manual" data-direction="w" data-type="label" data-view-component="true" class="sr-only position-absolute">Clear Command Palette</tool-tip>
</div>
      </command-palette-input>

      <command-palette-page-stack
        data-default-scope-id="R_kgDOIBZ2Mw"
        data-default-scope-type="Repository"
        data-action="command-palette-page-octicons-cached:command-palette-page-stack#cacheOcticons"
      >
          <command-palette-tip
            class="color-fg-muted f6 px-3 py-1 my-2"
              data-scope-types="[&quot;&quot;,&quot;owner&quot;,&quot;repository&quot;]"
            data-mode=""
            data-value="">
            <div class="d-flex flex-items-start flex-justify-between">
              <div>
                <span class="text-bold">Tip:</span>
                  Type <kbd class="hx_kbd">#</kbd> to search pull requests
              </div>
              <div class="ml-2 flex-shrink-0">
                Type <kbd class="hx_kbd">?</kbd> for help and tips
              </div>
            </div>
          </command-palette-tip>
          <command-palette-tip
            class="color-fg-muted f6 px-3 py-1 my-2"
              data-scope-types="[&quot;&quot;,&quot;owner&quot;,&quot;repository&quot;]"
            data-mode=""
            data-value="">
            <div class="d-flex flex-items-start flex-justify-between">
              <div>
                <span class="text-bold">Tip:</span>
                  Type <kbd class="hx_kbd">#</kbd> to search issues
              </div>
              <div class="ml-2 flex-shrink-0">
                Type <kbd class="hx_kbd">?</kbd> for help and tips
              </div>
            </div>
          </command-palette-tip>
          <command-palette-tip
            class="color-fg-muted f6 px-3 py-1 my-2"
              data-scope-types="[&quot;owner&quot;,&quot;repository&quot;]"
            data-mode=""
            data-value="">
            <div class="d-flex flex-items-start flex-justify-between">
              <div>
                <span class="text-bold">Tip:</span>
                  Type <kbd class="hx_kbd">#</kbd> to search discussions
              </div>
              <div class="ml-2 flex-shrink-0">
                Type <kbd class="hx_kbd">?</kbd> for help and tips
              </div>
            </div>
          </command-palette-tip>
          <command-palette-tip
            class="color-fg-muted f6 px-3 py-1 my-2"
              data-scope-types="[&quot;owner&quot;,&quot;repository&quot;]"
            data-mode=""
            data-value="">
            <div class="d-flex flex-items-start flex-justify-between">
              <div>
                <span class="text-bold">Tip:</span>
                  Type <kbd class="hx_kbd">!</kbd> to search projects
              </div>
              <div class="ml-2 flex-shrink-0">
                Type <kbd class="hx_kbd">?</kbd> for help and tips
              </div>
            </div>
          </command-palette-tip>
          <command-palette-tip
            class="color-fg-muted f6 px-3 py-1 my-2"
              data-scope-types="[&quot;owner&quot;]"
            data-mode=""
            data-value="">
            <div class="d-flex flex-items-start flex-justify-between">
              <div>
                <span class="text-bold">Tip:</span>
                  Type <kbd class="hx_kbd">@</kbd> to search teams
              </div>
              <div class="ml-2 flex-shrink-0">
                Type <kbd class="hx_kbd">?</kbd> for help and tips
              </div>
            </div>
          </command-palette-tip>
          <command-palette-tip
            class="color-fg-muted f6 px-3 py-1 my-2"
              data-scope-types="[&quot;&quot;]"
            data-mode=""
            data-value="">
            <div class="d-flex flex-items-start flex-justify-between">
              <div>
                <span class="text-bold">Tip:</span>
                  Type <kbd class="hx_kbd">@</kbd> to search people and organizations
              </div>
              <div class="ml-2 flex-shrink-0">
                Type <kbd class="hx_kbd">?</kbd> for help and tips
              </div>
            </div>
          </command-palette-tip>
          <command-palette-tip
            class="color-fg-muted f6 px-3 py-1 my-2"
              data-scope-types="[&quot;&quot;,&quot;owner&quot;,&quot;repository&quot;]"
            data-mode=""
            data-value="">
            <div class="d-flex flex-items-start flex-justify-between">
              <div>
                <span class="text-bold">Tip:</span>
                  Type <kbd class="hx_kbd">&gt;</kbd> to activate command mode
              </div>
              <div class="ml-2 flex-shrink-0">
                Type <kbd class="hx_kbd">?</kbd> for help and tips
              </div>
            </div>
          </command-palette-tip>
          <command-palette-tip
            class="color-fg-muted f6 px-3 py-1 my-2"
              data-scope-types="[&quot;&quot;,&quot;owner&quot;,&quot;repository&quot;]"
            data-mode=""
            data-value="">
            <div class="d-flex flex-items-start flex-justify-between">
              <div>
                <span class="text-bold">Tip:</span>
                  Go to your accessibility settings to change your keyboard shortcuts
              </div>
              <div class="ml-2 flex-shrink-0">
                Type <kbd class="hx_kbd">?</kbd> for help and tips
              </div>
            </div>
          </command-palette-tip>
          <command-palette-tip
            class="color-fg-muted f6 px-3 py-1 my-2"
              data-scope-types="[&quot;&quot;,&quot;owner&quot;,&quot;repository&quot;]"
            data-mode="#"
            data-value="">
            <div class="d-flex flex-items-start flex-justify-between">
              <div>
                <span class="text-bold">Tip:</span>
                  Type author:@me to search your content
              </div>
              <div class="ml-2 flex-shrink-0">
                Type <kbd class="hx_kbd">?</kbd> for help and tips
              </div>
            </div>
          </command-palette-tip>
          <command-palette-tip
            class="color-fg-muted f6 px-3 py-1 my-2"
              data-scope-types="[&quot;&quot;,&quot;owner&quot;,&quot;repository&quot;]"
            data-mode="#"
            data-value="">
            <div class="d-flex flex-items-start flex-justify-between">
              <div>
                <span class="text-bold">Tip:</span>
                  Type is:pr to filter to pull requests
              </div>
              <div class="ml-2 flex-shrink-0">
                Type <kbd class="hx_kbd">?</kbd> for help and tips
              </div>
            </div>
          </command-palette-tip>
          <command-palette-tip
            class="color-fg-muted f6 px-3 py-1 my-2"
              data-scope-types="[&quot;&quot;,&quot;owner&quot;,&quot;repository&quot;]"
            data-mode="#"
            data-value="">
            <div class="d-flex flex-items-start flex-justify-between">
              <div>
                <span class="text-bold">Tip:</span>
                  Type is:issue to filter to issues
              </div>
              <div class="ml-2 flex-shrink-0">
                Type <kbd class="hx_kbd">?</kbd> for help and tips
              </div>
            </div>
          </command-palette-tip>
          <command-palette-tip
            class="color-fg-muted f6 px-3 py-1 my-2"
              data-scope-types="[&quot;owner&quot;,&quot;repository&quot;]"
            data-mode="#"
            data-value="">
            <div class="d-flex flex-items-start flex-justify-between">
              <div>
                <span class="text-bold">Tip:</span>
                  Type is:project to filter to projects
              </div>
              <div class="ml-2 flex-shrink-0">
                Type <kbd class="hx_kbd">?</kbd> for help and tips
              </div>
            </div>
          </command-palette-tip>
          <command-palette-tip
            class="color-fg-muted f6 px-3 py-1 my-2"
              data-scope-types="[&quot;&quot;,&quot;owner&quot;,&quot;repository&quot;]"
            data-mode="#"
            data-value="">
            <div class="d-flex flex-items-start flex-justify-between">
              <div>
                <span class="text-bold">Tip:</span>
                  Type is:open to filter to open content
              </div>
              <div class="ml-2 flex-shrink-0">
                Type <kbd class="hx_kbd">?</kbd> for help and tips
              </div>
            </div>
          </command-palette-tip>
        <command-palette-tip class="mx-3 my-2 flash flash-error d-flex flex-items-center" data-scope-types="*" data-on-error>
          <div>
            <svg aria-hidden="true" height="16" viewBox="0 0 16 16" version="1.1" width="16" data-view-component="true" class="octicon octicon-alert">
    <path d="M6.457 1.047c.659-1.234 2.427-1.234 3.086 0l6.082 11.378A1.75 1.75 0 0 1 14.082 15H1.918a1.75 1.75 0 0 1-1.543-2.575Zm1.763.707a.25.25 0 0 0-.44 0L1.698 13.132a.25.25 0 0 0 .22.368h12.164a.25.25 0 0 0 .22-.368Zm.53 3.996v2.5a.75.75 0 0 1-1.5 0v-2.5a.75.75 0 0 1 1.5 0ZM9 11a1 1 0 1 1-2 0 1 1 0 0 1 2 0Z"></path>
</svg>
          </div>
          <div class="px-2">
            We’ve encountered an error and some results aren't available at this time. Type a new search or try again later.
          </div>
        </command-palette-tip>
        <command-palette-tip class="h4 color-fg-default pl-3 pb-2 pt-3" data-on-empty data-scope-types="*" data-match-mode="[^?]|^$">
          No results matched your search
        </command-palette-tip>

        <div hidden>

            <div data-targets="command-palette-page-stack.localOcticons" data-octicon-id="arrow-right-color-fg-muted">
              <svg height="16" class="octicon octicon-arrow-right color-fg-muted" viewBox="0 0 16 16" version="1.1" width="16" aria-hidden="true"><path d="M8.22 2.97a.75.75 0 0 1 1.06 0l4.25 4.25a.75.75 0 0 1 0 1.06l-4.25 4.25a.751.751 0 0 1-1.042-.018.751.751 0 0 1-.018-1.042l2.97-2.97H3.75a.75.75 0 0 1 0-1.5h7.44L8.22 4.03a.75.75 0 0 1 0-1.06Z"></path></svg>
            </div>
            <div data-targets="command-palette-page-stack.localOcticons" data-octicon-id="arrow-right-color-fg-default">
              <svg height="16" class="octicon octicon-arrow-right color-fg-default" viewBox="0 0 16 16" version="1.1" width="16" aria-hidden="true"><path d="M8.22 2.97a.75.75 0 0 1 1.06 0l4.25 4.25a.75.75 0 0 1 0 1.06l-4.25 4.25a.751.751 0 0 1-1.042-.018.751.751 0 0 1-.018-1.042l2.97-2.97H3.75a.75.75 0 0 1 0-1.5h7.44L8.22 4.03a.75.75 0 0 1 0-1.06Z"></path></svg>
            </div>
            <div data-targets="command-palette-page-stack.localOcticons" data-octicon-id="codespaces-color-fg-muted">
              <svg height="16" class="octicon octicon-codespaces color-fg-muted" viewBox="0 0 16 16" version="1.1" width="16" aria-hidden="true"><path d="M0 11.25c0-.966.784-1.75 1.75-1.75h12.5c.966 0 1.75.784 1.75 1.75v3A1.75 1.75 0 0 1 14.25 16H1.75A1.75 1.75 0 0 1 0 14.25Zm2-9.5C2 .784 2.784 0 3.75 0h8.5C13.216 0 14 .784 14 1.75v5a1.75 1.75 0 0 1-1.75 1.75h-8.5A1.75 1.75 0 0 1 2 6.75Zm1.75-.25a.25.25 0 0 0-.25.25v5c0 .138.112.25.25.25h8.5a.25.25 0 0 0 .25-.25v-5a.25.25 0 0 0-.25-.25Zm-2 9.5a.25.25 0 0 0-.25.25v3c0 .138.112.25.25.25h12.5a.25.25 0 0 0 .25-.25v-3a.25.25 0 0 0-.25-.25Z"></path><path d="M7 12.75a.75.75 0 0 1 .75-.75h4.5a.75.75 0 0 1 0 1.5h-4.5a.75.75 0 0 1-.75-.75Zm-4 0a.75.75 0 0 1 .75-.75h.5a.75.75 0 0 1 0 1.5h-.5a.75.75 0 0 1-.75-.75Z"></path></svg>
            </div>
            <div data-targets="command-palette-page-stack.localOcticons" data-octicon-id="copy-color-fg-muted">
              <svg height="16" class="octicon octicon-copy color-fg-muted" viewBox="0 0 16 16" version="1.1" width="16" aria-hidden="true"><path d="M0 6.75C0 5.784.784 5 1.75 5h1.5a.75.75 0 0 1 0 1.5h-1.5a.25.25 0 0 0-.25.25v7.5c0 .138.112.25.25.25h7.5a.25.25 0 0 0 .25-.25v-1.5a.75.75 0 0 1 1.5 0v1.5A1.75 1.75 0 0 1 9.25 16h-7.5A1.75 1.75 0 0 1 0 14.25Z"></path><path d="M5 1.75C5 .784 5.784 0 6.75 0h7.5C15.216 0 16 .784 16 1.75v7.5A1.75 1.75 0 0 1 14.25 11h-7.5A1.75 1.75 0 0 1 5 9.25Zm1.75-.25a.25.25 0 0 0-.25.25v7.5c0 .138.112.25.25.25h7.5a.25.25 0 0 0 .25-.25v-7.5a.25.25 0 0 0-.25-.25Z"></path></svg>
            </div>
            <div data-targets="command-palette-page-stack.localOcticons" data-octicon-id="dash-color-fg-muted">
              <svg height="16" class="octicon octicon-dash color-fg-muted" viewBox="0 0 16 16" version="1.1" width="16" aria-hidden="true"><path d="M2 7.75A.75.75 0 0 1 2.75 7h10a.75.75 0 0 1 0 1.5h-10A.75.75 0 0 1 2 7.75Z"></path></svg>
            </div>
            <div data-targets="command-palette-page-stack.localOcticons" data-octicon-id="file-color-fg-muted">
              <svg height="16" class="octicon octicon-file color-fg-muted" viewBox="0 0 16 16" version="1.1" width="16" aria-hidden="true"><path d="M2 1.75C2 .784 2.784 0 3.75 0h6.586c.464 0 .909.184 1.237.513l2.914 2.914c.329.328.513.773.513 1.237v9.586A1.75 1.75 0 0 1 13.25 16h-9.5A1.75 1.75 0 0 1 2 14.25Zm1.75-.25a.25.25 0 0 0-.25.25v12.5c0 .138.112.25.25.25h9.5a.25.25 0 0 0 .25-.25V6h-2.75A1.75 1.75 0 0 1 9 4.25V1.5Zm6.75.062V4.25c0 .138.112.25.25.25h2.688l-.011-.013-2.914-2.914-.013-.011Z"></path></svg>
            </div>
            <div data-targets="command-palette-page-stack.localOcticons" data-octicon-id="gear-color-fg-muted">
              <svg height="16" class="octicon octicon-gear color-fg-muted" viewBox="0 0 16 16" version="1.1" width="16" aria-hidden="true"><path d="M8 0a8.2 8.2 0 0 1 .701.031C9.444.095 9.99.645 10.16 1.29l.288 1.107c.018.066.079.158.212.224.231.114.454.243.668.386.123.082.233.09.299.071l1.103-.303c.644-.176 1.392.021 1.82.63.27.385.506.792.704 1.218.315.675.111 1.422-.364 1.891l-.814.806c-.049.048-.098.147-.088.294.016.257.016.515 0 .772-.01.147.038.246.088.294l.814.806c.475.469.679 1.216.364 1.891a7.977 7.977 0 0 1-.704 1.217c-.428.61-1.176.807-1.82.63l-1.102-.302c-.067-.019-.177-.011-.3.071a5.909 5.909 0 0 1-.668.386c-.133.066-.194.158-.211.224l-.29 1.106c-.168.646-.715 1.196-1.458 1.26a8.006 8.006 0 0 1-1.402 0c-.743-.064-1.289-.614-1.458-1.26l-.289-1.106c-.018-.066-.079-.158-.212-.224a5.738 5.738 0 0 1-.668-.386c-.123-.082-.233-.09-.299-.071l-1.103.303c-.644.176-1.392-.021-1.82-.63a8.12 8.12 0 0 1-.704-1.218c-.315-.675-.111-1.422.363-1.891l.815-.806c.05-.048.098-.147.088-.294a6.214 6.214 0 0 1 0-.772c.01-.147-.038-.246-.088-.294l-.815-.806C.635 6.045.431 5.298.746 4.623a7.92 7.92 0 0 1 .704-1.217c.428-.61 1.176-.807 1.82-.63l1.102.302c.067.019.177.011.3-.071.214-.143.437-.272.668-.386.133-.066.194-.158.211-.224l.29-1.106C6.009.645 6.556.095 7.299.03 7.53.01 7.764 0 8 0Zm-.571 1.525c-.036.003-.108.036-.137.146l-.289 1.105c-.147.561-.549.967-.998 1.189-.173.086-.34.183-.5.29-.417.278-.97.423-1.529.27l-1.103-.303c-.109-.03-.175.016-.195.045-.22.312-.412.644-.573.99-.014.031-.021.11.059.19l.815.806c.411.406.562.957.53 1.456a4.709 4.709 0 0 0 0 .582c.032.499-.119 1.05-.53 1.456l-.815.806c-.081.08-.073.159-.059.19.162.346.353.677.573.989.02.03.085.076.195.046l1.102-.303c.56-.153 1.113-.008 1.53.27.161.107.328.204.501.29.447.222.85.629.997 1.189l.289 1.105c.029.109.101.143.137.146a6.6 6.6 0 0 0 1.142 0c.036-.003.108-.036.137-.146l.289-1.105c.147-.561.549-.967.998-1.189.173-.086.34-.183.5-.29.417-.278.97-.423 1.529-.27l1.103.303c.109.029.175-.016.195-.045.22-.313.411-.644.573-.99.014-.031.021-.11-.059-.19l-.815-.806c-.411-.406-.562-.957-.53-1.456a4.709 4.709 0 0 0 0-.582c-.032-.499.119-1.05.53-1.456l.815-.806c.081-.08.073-.159.059-.19a6.464 6.464 0 0 0-.573-.989c-.02-.03-.085-.076-.195-.046l-1.102.303c-.56.153-1.113.008-1.53-.27a4.44 4.44 0 0 0-.501-.29c-.447-.222-.85-.629-.997-1.189l-.289-1.105c-.029-.11-.101-.143-.137-.146a6.6 6.6 0 0 0-1.142 0ZM11 8a3 3 0 1 1-6 0 3 3 0 0 1 6 0ZM9.5 8a1.5 1.5 0 1 0-3.001.001A1.5 1.5 0 0 0 9.5 8Z"></path></svg>
            </div>
            <div data-targets="command-palette-page-stack.localOcticons" data-octicon-id="lock-color-fg-muted">
              <svg height="16" class="octicon octicon-lock color-fg-muted" viewBox="0 0 16 16" version="1.1" width="16" aria-hidden="true"><path d="M4 4a4 4 0 0 1 8 0v2h.25c.966 0 1.75.784 1.75 1.75v5.5A1.75 1.75 0 0 1 12.25 15h-8.5A1.75 1.75 0 0 1 2 13.25v-5.5C2 6.784 2.784 6 3.75 6H4Zm8.25 3.5h-8.5a.25.25 0 0 0-.25.25v5.5c0 .138.112.25.25.25h8.5a.25.25 0 0 0 .25-.25v-5.5a.25.25 0 0 0-.25-.25ZM10.5 6V4a2.5 2.5 0 1 0-5 0v2Z"></path></svg>
            </div>
            <div data-targets="command-palette-page-stack.localOcticons" data-octicon-id="moon-color-fg-muted">
              <svg height="16" class="octicon octicon-moon color-fg-muted" viewBox="0 0 16 16" version="1.1" width="16" aria-hidden="true"><path d="M9.598 1.591a.749.749 0 0 1 .785-.175 7.001 7.001 0 1 1-8.967 8.967.75.75 0 0 1 .961-.96 5.5 5.5 0 0 0 7.046-7.046.75.75 0 0 1 .175-.786Zm1.616 1.945a7 7 0 0 1-7.678 7.678 5.499 5.499 0 1 0 7.678-7.678Z"></path></svg>
            </div>
            <div data-targets="command-palette-page-stack.localOcticons" data-octicon-id="person-color-fg-muted">
              <svg height="16" class="octicon octicon-person color-fg-muted" viewBox="0 0 16 16" version="1.1" width="16" aria-hidden="true"><path d="M10.561 8.073a6.005 6.005 0 0 1 3.432 5.142.75.75 0 1 1-1.498.07 4.5 4.5 0 0 0-8.99 0 .75.75 0 0 1-1.498-.07 6.004 6.004 0 0 1 3.431-5.142 3.999 3.999 0 1 1 5.123 0ZM10.5 5a2.5 2.5 0 1 0-5 0 2.5 2.5 0 0 0 5 0Z"></path></svg>
            </div>
            <div data-targets="command-palette-page-stack.localOcticons" data-octicon-id="pencil-color-fg-muted">
              <svg height="16" class="octicon octicon-pencil color-fg-muted" viewBox="0 0 16 16" version="1.1" width="16" aria-hidden="true"><path d="M11.013 1.427a1.75 1.75 0 0 1 2.474 0l1.086 1.086a1.75 1.75 0 0 1 0 2.474l-8.61 8.61c-.21.21-.47.364-.756.445l-3.251.93a.75.75 0 0 1-.927-.928l.929-3.25c.081-.286.235-.547.445-.758l8.61-8.61Zm.176 4.823L9.75 4.81l-6.286 6.287a.253.253 0 0 0-.064.108l-.558 1.953 1.953-.558a.253.253 0 0 0 .108-.064Zm1.238-3.763a.25.25 0 0 0-.354 0L10.811 3.75l1.439 1.44 1.263-1.263a.25.25 0 0 0 0-.354Z"></path></svg>
            </div>
            <div data-targets="command-palette-page-stack.localOcticons" data-octicon-id="issue-opened-open">
              <svg height="16" class="octicon octicon-issue-opened open" viewBox="0 0 16 16" version="1.1" width="16" aria-hidden="true"><path d="M8 9.5a1.5 1.5 0 1 0 0-3 1.5 1.5 0 0 0 0 3Z"></path><path d="M8 0a8 8 0 1 1 0 16A8 8 0 0 1 8 0ZM1.5 8a6.5 6.5 0 1 0 13 0 6.5 6.5 0 0 0-13 0Z"></path></svg>
            </div>
            <div data-targets="command-palette-page-stack.localOcticons" data-octicon-id="git-pull-request-draft-color-fg-muted">
              <svg height="16" class="octicon octicon-git-pull-request-draft color-fg-muted" viewBox="0 0 16 16" version="1.1" width="16" aria-hidden="true"><path d="M3.25 1A2.25 2.25 0 0 1 4 5.372v5.256a2.251 2.251 0 1 1-1.5 0V5.372A2.251 2.251 0 0 1 3.25 1Zm9.5 14a2.25 2.25 0 1 1 0-4.5 2.25 2.25 0 0 1 0 4.5ZM2.5 3.25a.75.75 0 1 0 1.5 0 .75.75 0 0 0-1.5 0ZM3.25 12a.75.75 0 1 0 0 1.5.75.75 0 0 0 0-1.5Zm9.5 0a.75.75 0 1 0 0 1.5.75.75 0 0 0 0-1.5ZM14 7.5a1.25 1.25 0 1 1-2.5 0 1.25 1.25 0 0 1 2.5 0Zm0-4.25a1.25 1.25 0 1 1-2.5 0 1.25 1.25 0 0 1 2.5 0Z"></path></svg>
            </div>
            <div data-targets="command-palette-page-stack.localOcticons" data-octicon-id="search-color-fg-muted">
              <svg height="16" class="octicon octicon-search color-fg-muted" viewBox="0 0 16 16" version="1.1" width="16" aria-hidden="true"><path d="M10.68 11.74a6 6 0 0 1-7.922-8.982 6 6 0 0 1 8.982 7.922l3.04 3.04a.749.749 0 0 1-.326 1.275.749.749 0 0 1-.734-.215ZM11.5 7a4.499 4.499 0 1 0-8.997 0A4.499 4.499 0 0 0 11.5 7Z"></path></svg>
            </div>
            <div data-targets="command-palette-page-stack.localOcticons" data-octicon-id="sun-color-fg-muted">
              <svg height="16" class="octicon octicon-sun color-fg-muted" viewBox="0 0 16 16" version="1.1" width="16" aria-hidden="true"><path d="M8 12a4 4 0 1 1 0-8 4 4 0 0 1 0 8Zm0-1.5a2.5 2.5 0 1 0 0-5 2.5 2.5 0 0 0 0 5Zm5.657-8.157a.75.75 0 0 1 0 1.061l-1.061 1.06a.749.749 0 0 1-1.275-.326.749.749 0 0 1 .215-.734l1.06-1.06a.75.75 0 0 1 1.06 0Zm-9.193 9.193a.75.75 0 0 1 0 1.06l-1.06 1.061a.75.75 0 1 1-1.061-1.06l1.06-1.061a.75.75 0 0 1 1.061 0ZM8 0a.75.75 0 0 1 .75.75v1.5a.75.75 0 0 1-1.5 0V.75A.75.75 0 0 1 8 0ZM3 8a.75.75 0 0 1-.75.75H.75a.75.75 0 0 1 0-1.5h1.5A.75.75 0 0 1 3 8Zm13 0a.75.75 0 0 1-.75.75h-1.5a.75.75 0 0 1 0-1.5h1.5A.75.75 0 0 1 16 8Zm-8 5a.75.75 0 0 1 .75.75v1.5a.75.75 0 0 1-1.5 0v-1.5A.75.75 0 0 1 8 13Zm3.536-1.464a.75.75 0 0 1 1.06 0l1.061 1.06a.75.75 0 0 1-1.06 1.061l-1.061-1.06a.75.75 0 0 1 0-1.061ZM2.343 2.343a.75.75 0 0 1 1.061 0l1.06 1.061a.751.751 0 0 1-.018 1.042.751.751 0 0 1-1.042.018l-1.06-1.06a.75.75 0 0 1 0-1.06Z"></path></svg>
            </div>
            <div data-targets="command-palette-page-stack.localOcticons" data-octicon-id="sync-color-fg-muted">
              <svg height="16" class="octicon octicon-sync color-fg-muted" viewBox="0 0 16 16" version="1.1" width="16" aria-hidden="true"><path d="M1.705 8.005a.75.75 0 0 1 .834.656 5.5 5.5 0 0 0 9.592 2.97l-1.204-1.204a.25.25 0 0 1 .177-.427h3.646a.25.25 0 0 1 .25.25v3.646a.25.25 0 0 1-.427.177l-1.38-1.38A7.002 7.002 0 0 1 1.05 8.84a.75.75 0 0 1 .656-.834ZM8 2.5a5.487 5.487 0 0 0-4.131 1.869l1.204 1.204A.25.25 0 0 1 4.896 6H1.25A.25.25 0 0 1 1 5.75V2.104a.25.25 0 0 1 .427-.177l1.38 1.38A7.002 7.002 0 0 1 14.95 7.16a.75.75 0 0 1-1.49.178A5.5 5.5 0 0 0 8 2.5Z"></path></svg>
            </div>
            <div data-targets="command-palette-page-stack.localOcticons" data-octicon-id="trash-color-fg-muted">
              <svg height="16" class="octicon octicon-trash color-fg-muted" viewBox="0 0 16 16" version="1.1" width="16" aria-hidden="true"><path d="M11 1.75V3h2.25a.75.75 0 0 1 0 1.5H2.75a.75.75 0 0 1 0-1.5H5V1.75C5 .784 5.784 0 6.75 0h2.5C10.216 0 11 .784 11 1.75ZM4.496 6.675l.66 6.6a.25.25 0 0 0 .249.225h5.19a.25.25 0 0 0 .249-.225l.66-6.6a.75.75 0 0 1 1.492.149l-.66 6.6A1.748 1.748 0 0 1 10.595 15h-5.19a1.75 1.75 0 0 1-1.741-1.575l-.66-6.6a.75.75 0 1 1 1.492-.15ZM6.5 1.75V3h3V1.75a.25.25 0 0 0-.25-.25h-2.5a.25.25 0 0 0-.25.25Z"></path></svg>
            </div>
            <div data-targets="command-palette-page-stack.localOcticons" data-octicon-id="key-color-fg-muted">
              <svg height="16" class="octicon octicon-key color-fg-muted" viewBox="0 0 16 16" version="1.1" width="16" aria-hidden="true"><path d="M10.5 0a5.499 5.499 0 1 1-1.288 10.848l-.932.932a.749.749 0 0 1-.53.22H7v.75a.749.749 0 0 1-.22.53l-.5.5a.749.749 0 0 1-.53.22H5v.75a.749.749 0 0 1-.22.53l-.5.5a.749.749 0 0 1-.53.22h-2A1.75 1.75 0 0 1 0 14.25v-2c0-.199.079-.389.22-.53l4.932-4.932A5.5 5.5 0 0 1 10.5 0Zm-4 5.5c-.001.431.069.86.205 1.269a.75.75 0 0 1-.181.768L1.5 12.56v1.69c0 .138.112.25.25.25h1.69l.06-.06v-1.19a.75.75 0 0 1 .75-.75h1.19l.06-.06v-1.19a.75.75 0 0 1 .75-.75h1.19l1.023-1.025a.75.75 0 0 1 .768-.18A4 4 0 1 0 6.5 5.5ZM11 6a1 1 0 1 1 0-2 1 1 0 0 1 0 2Z"></path></svg>
            </div>
            <div data-targets="command-palette-page-stack.localOcticons" data-octicon-id="comment-discussion-color-fg-muted">
              <svg height="16" class="octicon octicon-comment-discussion color-fg-muted" viewBox="0 0 16 16" version="1.1" width="16" aria-hidden="true"><path d="M1.75 1h8.5c.966 0 1.75.784 1.75 1.75v5.5A1.75 1.75 0 0 1 10.25 10H7.061l-2.574 2.573A1.458 1.458 0 0 1 2 11.543V10h-.25A1.75 1.75 0 0 1 0 8.25v-5.5C0 1.784.784 1 1.75 1ZM1.5 2.75v5.5c0 .138.112.25.25.25h1a.75.75 0 0 1 .75.75v2.19l2.72-2.72a.749.749 0 0 1 .53-.22h3.5a.25.25 0 0 0 .25-.25v-5.5a.25.25 0 0 0-.25-.25h-8.5a.25.25 0 0 0-.25.25Zm13 2a.25.25 0 0 0-.25-.25h-.5a.75.75 0 0 1 0-1.5h.5c.966 0 1.75.784 1.75 1.75v5.5A1.75 1.75 0 0 1 14.25 12H14v1.543a1.458 1.458 0 0 1-2.487 1.03L9.22 12.28a.749.749 0 0 1 .326-1.275.749.749 0 0 1 .734.215l2.22 2.22v-2.19a.75.75 0 0 1 .75-.75h1a.25.25 0 0 0 .25-.25Z"></path></svg>
            </div>
            <div data-targets="command-palette-page-stack.localOcticons" data-octicon-id="bell-color-fg-muted">
              <svg height="16" class="octicon octicon-bell color-fg-muted" viewBox="0 0 16 16" version="1.1" width="16" aria-hidden="true"><path d="M8 16a2 2 0 0 0 1.985-1.75c.017-.137-.097-.25-.235-.25h-3.5c-.138 0-.252.113-.235.25A2 2 0 0 0 8 16ZM3 5a5 5 0 0 1 10 0v2.947c0 .05.015.098.042.139l1.703 2.555A1.519 1.519 0 0 1 13.482 13H2.518a1.516 1.516 0 0 1-1.263-2.36l1.703-2.554A.255.255 0 0 0 3 7.947Zm5-3.5A3.5 3.5 0 0 0 4.5 5v2.947c0 .346-.102.683-.294.97l-1.703 2.556a.017.017 0 0 0-.003.01l.001.006c0 .002.002.004.004.006l.006.004.007.001h10.964l.007-.001.006-.004.004-.006.001-.007a.017.017 0 0 0-.003-.01l-1.703-2.554a1.745 1.745 0 0 1-.294-.97V5A3.5 3.5 0 0 0 8 1.5Z"></path></svg>
            </div>
            <div data-targets="command-palette-page-stack.localOcticons" data-octicon-id="bell-slash-color-fg-muted">
              <svg height="16" class="octicon octicon-bell-slash color-fg-muted" viewBox="0 0 16 16" version="1.1" width="16" aria-hidden="true"><path d="m4.182 4.31.016.011 10.104 7.316.013.01 1.375.996a.75.75 0 1 1-.88 1.214L13.626 13H2.518a1.516 1.516 0 0 1-1.263-2.36l1.703-2.554A.255.255 0 0 0 3 7.947V5.305L.31 3.357a.75.75 0 1 1 .88-1.214Zm7.373 7.19L4.5 6.391v1.556c0 .346-.102.683-.294.97l-1.703 2.556a.017.017 0 0 0-.003.01c0 .005.002.009.005.012l.006.004.007.001ZM8 1.5c-.997 0-1.895.416-2.534 1.086A.75.75 0 1 1 4.38 1.55 5 5 0 0 1 13 5v2.373a.75.75 0 0 1-1.5 0V5A3.5 3.5 0 0 0 8 1.5ZM8 16a2 2 0 0 1-1.985-1.75c-.017-.137.097-.25.235-.25h3.5c.138 0 .252.113.235.25A2 2 0 0 1 8 16Z"></path></svg>
            </div>
            <div data-targets="command-palette-page-stack.localOcticons" data-octicon-id="paintbrush-color-fg-muted">
              <svg height="16" class="octicon octicon-paintbrush color-fg-muted" viewBox="0 0 16 16" version="1.1" width="16" aria-hidden="true"><path d="M11.134 1.535c.7-.509 1.416-.942 2.076-1.155.649-.21 1.463-.267 2.069.34.603.601.568 1.411.368 2.07-.202.668-.624 1.39-1.125 2.096-1.011 1.424-2.496 2.987-3.775 4.249-1.098 1.084-2.132 1.839-3.04 2.3a3.744 3.744 0 0 1-1.055 3.217c-.431.431-1.065.691-1.657.861-.614.177-1.294.287-1.914.357A21.151 21.151 0 0 1 .797 16H.743l.007-.75H.749L.742 16a.75.75 0 0 1-.743-.742l.743-.008-.742.007v-.054a21.25 21.25 0 0 1 .13-2.284c.067-.647.187-1.287.358-1.914.17-.591.43-1.226.86-1.657a3.746 3.746 0 0 1 3.227-1.054c.466-.893 1.225-1.907 2.314-2.982 1.271-1.255 2.833-2.75 4.245-3.777ZM1.62 13.089c-.051.464-.086.929-.104 1.395.466-.018.932-.053 1.396-.104a10.511 10.511 0 0 0 1.668-.309c.526-.151.856-.325 1.011-.48a2.25 2.25 0 1 0-3.182-3.182c-.155.155-.329.485-.48 1.01a10.515 10.515 0 0 0-.309 1.67Zm10.396-10.34c-1.224.89-2.605 2.189-3.822 3.384l1.718 1.718c1.21-1.205 2.51-2.597 3.387-3.833.47-.662.78-1.227.912-1.662.134-.444.032-.551.009-.575h-.001V1.78c-.014-.014-.113-.113-.548.027-.432.14-.995.462-1.655.942Zm-4.832 7.266-.001.001a9.859 9.859 0 0 0 1.63-1.142L7.155 7.216a9.7 9.7 0 0 0-1.161 1.607c.482.302.889.71 1.19 1.192Z"></path></svg>
            </div>

            <command-palette-item-group
              data-group-id="top"
              data-group-title="Top result"
              data-group-hint=""
              data-group-limits="{}"
              data-default-priority="0"
            >
            </command-palette-item-group>
            <command-palette-item-group
              data-group-id="commands"
              data-group-title="Commands"
              data-group-hint="Type &gt; to filter"
              data-group-limits="{&quot;static_items_page&quot;:50,&quot;issue&quot;:50,&quot;pull_request&quot;:50,&quot;discussion&quot;:50}"
              data-default-priority="1"
            >
            </command-palette-item-group>
            <command-palette-item-group
              data-group-id="global_commands"
              data-group-title="Global Commands"
              data-group-hint="Type &gt; to filter"
              data-group-limits="{&quot;issue&quot;:0,&quot;pull_request&quot;:0,&quot;discussion&quot;:0}"
              data-default-priority="2"
            >
            </command-palette-item-group>
            <command-palette-item-group
              data-group-id="this_page"
              data-group-title="This Page"
              data-group-hint=""
              data-group-limits="{}"
              data-default-priority="3"
            >
            </command-palette-item-group>
            <command-palette-item-group
              data-group-id="files"
              data-group-title="Files"
              data-group-hint=""
              data-group-limits="{}"
              data-default-priority="4"
            >
            </command-palette-item-group>
            <command-palette-item-group
              data-group-id="default"
              data-group-title="Default"
              data-group-hint=""
              data-group-limits="{&quot;static_items_page&quot;:50}"
              data-default-priority="5"
            >
            </command-palette-item-group>
            <command-palette-item-group
              data-group-id="pages"
              data-group-title="Pages"
              data-group-hint=""
              data-group-limits="{&quot;repository&quot;:10}"
              data-default-priority="6"
            >
            </command-palette-item-group>
            <command-palette-item-group
              data-group-id="access_policies"
              data-group-title="Access Policies"
              data-group-hint=""
              data-group-limits="{}"
              data-default-priority="7"
            >
            </command-palette-item-group>
            <command-palette-item-group
              data-group-id="organizations"
              data-group-title="Organizations"
              data-group-hint=""
              data-group-limits="{}"
              data-default-priority="8"
            >
            </command-palette-item-group>
            <command-palette-item-group
              data-group-id="repositories"
              data-group-title="Repositories"
              data-group-hint=""
              data-group-limits="{}"
              data-default-priority="9"
            >
            </command-palette-item-group>
            <command-palette-item-group
              data-group-id="references"
              data-group-title="Issues, pull requests, and discussions"
              data-group-hint="Type # to filter"
              data-group-limits="{}"
              data-default-priority="10"
            >
            </command-palette-item-group>
            <command-palette-item-group
              data-group-id="teams"
              data-group-title="Teams"
              data-group-hint=""
              data-group-limits="{}"
              data-default-priority="11"
            >
            </command-palette-item-group>
            <command-palette-item-group
              data-group-id="users"
              data-group-title="Users"
              data-group-hint=""
              data-group-limits="{}"
              data-default-priority="12"
            >
            </command-palette-item-group>
            <command-palette-item-group
              data-group-id="memex_projects"
              data-group-title="Projects"
              data-group-hint=""
              data-group-limits="{}"
              data-default-priority="13"
            >
            </command-palette-item-group>
            <command-palette-item-group
              data-group-id="projects"
              data-group-title="Projects (classic)"
              data-group-hint=""
              data-group-limits="{}"
              data-default-priority="14"
            >
            </command-palette-item-group>
            <command-palette-item-group
              data-group-id="footer"
              data-group-title="Footer"
              data-group-hint=""
              data-group-limits="{}"
              data-default-priority="15"
            >
            </command-palette-item-group>
            <command-palette-item-group
              data-group-id="modes_help"
              data-group-title="Modes"
              data-group-hint=""
              data-group-limits="{}"
              data-default-priority="16"
            >
            </command-palette-item-group>
            <command-palette-item-group
              data-group-id="filters_help"
              data-group-title="Use filters in issues, pull requests, discussions, and projects"
              data-group-hint=""
              data-group-limits="{}"
              data-default-priority="17"
            >
            </command-palette-item-group>

            <command-palette-page
              data-page-title="zulkaidaakbar"
              data-scope-id="MDQ6VXNlcjY4Mjk3NDM4"
              data-scope-type="owner"
              data-targets="command-palette-page-stack.defaultPages"
              hidden
            >
            </command-palette-page>
            <command-palette-page
              data-page-title="NLP-STTCipasung2022"
              data-scope-id="R_kgDOIBZ2Mw"
              data-scope-type="repository"
              data-targets="command-palette-page-stack.defaultPages"
              hidden
            >
            </command-palette-page>
        </div>

        <command-palette-page data-is-root>
        </command-palette-page>
          <command-palette-page
            data-page-title="zulkaidaakbar"
            data-scope-id="MDQ6VXNlcjY4Mjk3NDM4"
            data-scope-type="owner"
          >
          </command-palette-page>
          <command-palette-page
            data-page-title="NLP-STTCipasung2022"
            data-scope-id="R_kgDOIBZ2Mw"
            data-scope-type="repository"
          >
          </command-palette-page>
      </command-palette-page-stack>

      <server-defined-provider data-type="search-links" data-targets="command-palette.serverDefinedProviderElements"></server-defined-provider>
      <server-defined-provider data-type="help" data-targets="command-palette.serverDefinedProviderElements">
          <command-palette-help
            data-group="modes_help"
              data-prefix="#"
              data-scope-types="[&quot;&quot;]"
          >
            <span data-target="command-palette-help.titleElement">Search for <strong>issues</strong> and <strong>pull requests</strong></span>
              <span data-target="command-palette-help.hintElement">
                <kbd class="hx_kbd">#</kbd>
              </span>
          </command-palette-help>
          <command-palette-help
            data-group="modes_help"
              data-prefix="#"
              data-scope-types="[&quot;owner&quot;,&quot;repository&quot;]"
          >
            <span data-target="command-palette-help.titleElement">Search for <strong>issues, pull requests, discussions,</strong> and <strong>projects</strong></span>
              <span data-target="command-palette-help.hintElement">
                <kbd class="hx_kbd">#</kbd>
              </span>
          </command-palette-help>
          <command-palette-help
            data-group="modes_help"
              data-prefix="@"
              data-scope-types="[&quot;&quot;]"
          >
            <span data-target="command-palette-help.titleElement">Search for <strong>organizations, repositories,</strong> and <strong>users</strong></span>
              <span data-target="command-palette-help.hintElement">
                <kbd class="hx_kbd">@</kbd>
              </span>
          </command-palette-help>
          <command-palette-help
            data-group="modes_help"
              data-prefix="!"
              data-scope-types="[&quot;owner&quot;,&quot;repository&quot;]"
          >
            <span data-target="command-palette-help.titleElement">Search for <strong>projects</strong></span>
              <span data-target="command-palette-help.hintElement">
                <kbd class="hx_kbd">!</kbd>
              </span>
          </command-palette-help>
          <command-palette-help
            data-group="modes_help"
              data-prefix="/"
              data-scope-types="[&quot;repository&quot;]"
          >
            <span data-target="command-palette-help.titleElement">Search for <strong>files</strong></span>
              <span data-target="command-palette-help.hintElement">
                <kbd class="hx_kbd">/</kbd>
              </span>
          </command-palette-help>
          <command-palette-help
            data-group="modes_help"
              data-prefix="&gt;"
          >
            <span data-target="command-palette-help.titleElement">Activate <strong>command mode</strong></span>
              <span data-target="command-palette-help.hintElement">
                <kbd class="hx_kbd">&gt;</kbd>
              </span>
          </command-palette-help>
          <command-palette-help
            data-group="filters_help"
              data-prefix="# author:@me"
          >
            <span data-target="command-palette-help.titleElement">Search your issues, pull requests, and discussions</span>
              <span data-target="command-palette-help.hintElement">
                <kbd class="hx_kbd"># author:@me</kbd>
              </span>
          </command-palette-help>
          <command-palette-help
            data-group="filters_help"
              data-prefix="# author:@me"
          >
            <span data-target="command-palette-help.titleElement">Search your issues, pull requests, and discussions</span>
              <span data-target="command-palette-help.hintElement">
                <kbd class="hx_kbd"># author:@me</kbd>
              </span>
          </command-palette-help>
          <command-palette-help
            data-group="filters_help"
              data-prefix="# is:pr"
          >
            <span data-target="command-palette-help.titleElement">Filter to pull requests</span>
              <span data-target="command-palette-help.hintElement">
                <kbd class="hx_kbd"># is:pr</kbd>
              </span>
          </command-palette-help>
          <command-palette-help
            data-group="filters_help"
              data-prefix="# is:issue"
          >
            <span data-target="command-palette-help.titleElement">Filter to issues</span>
              <span data-target="command-palette-help.hintElement">
                <kbd class="hx_kbd"># is:issue</kbd>
              </span>
          </command-palette-help>
          <command-palette-help
            data-group="filters_help"
              data-prefix="# is:discussion"
              data-scope-types="[&quot;owner&quot;,&quot;repository&quot;]"
          >
            <span data-target="command-palette-help.titleElement">Filter to discussions</span>
              <span data-target="command-palette-help.hintElement">
                <kbd class="hx_kbd"># is:discussion</kbd>
              </span>
          </command-palette-help>
          <command-palette-help
            data-group="filters_help"
              data-prefix="# is:project"
              data-scope-types="[&quot;owner&quot;,&quot;repository&quot;]"
          >
            <span data-target="command-palette-help.titleElement">Filter to projects</span>
              <span data-target="command-palette-help.hintElement">
                <kbd class="hx_kbd"># is:project</kbd>
              </span>
          </command-palette-help>
          <command-palette-help
            data-group="filters_help"
              data-prefix="# is:open"
          >
            <span data-target="command-palette-help.titleElement">Filter to open issues, pull requests, and discussions</span>
              <span data-target="command-palette-help.hintElement">
                <kbd class="hx_kbd"># is:open</kbd>
              </span>
          </command-palette-help>
      </server-defined-provider>

        <server-defined-provider
          data-type="commands"
          data-fetch-debounce="0"
            data-src="/command_palette/commands"
          data-supported-modes="[]"
            data-supports-commands
          
          data-targets="command-palette.serverDefinedProviderElements"
          ></server-defined-provider>
        <server-defined-provider
          data-type="prefetched"
          data-fetch-debounce="0"
            data-src="/command_palette/jump_to_page_navigation"
          data-supported-modes="[&quot;&quot;]"
            data-supported-scope-types="[&quot;&quot;,&quot;owner&quot;,&quot;repository&quot;]"
          
          data-targets="command-palette.serverDefinedProviderElements"
          ></server-defined-provider>
        <server-defined-provider
          data-type="remote"
          data-fetch-debounce="200"
            data-src="/command_palette/issues"
          data-supported-modes="[&quot;#&quot;,&quot;#&quot;]"
            data-supported-scope-types="[&quot;owner&quot;,&quot;repository&quot;,&quot;&quot;]"
          
          data-targets="command-palette.serverDefinedProviderElements"
          ></server-defined-provider>
        <server-defined-provider
          data-type="remote"
          data-fetch-debounce="200"
            data-src="/command_palette/jump_to"
          data-supported-modes="[&quot;@&quot;,&quot;@&quot;]"
            data-supported-scope-types="[&quot;&quot;,&quot;owner&quot;]"
          
          data-targets="command-palette.serverDefinedProviderElements"
          ></server-defined-provider>
        <server-defined-provider
          data-type="remote"
          data-fetch-debounce="200"
            data-src="/command_palette/jump_to_members_only"
          data-supported-modes="[&quot;@&quot;,&quot;@&quot;,&quot;&quot;,&quot;&quot;]"
            data-supported-scope-types="[&quot;&quot;,&quot;owner&quot;]"
          
          data-targets="command-palette.serverDefinedProviderElements"
          ></server-defined-provider>
        <server-defined-provider
          data-type="prefetched"
          data-fetch-debounce="0"
            data-src="/command_palette/jump_to_members_only_prefetched"
          data-supported-modes="[&quot;@&quot;,&quot;@&quot;,&quot;&quot;,&quot;&quot;]"
            data-supported-scope-types="[&quot;&quot;,&quot;owner&quot;]"
          
          data-targets="command-palette.serverDefinedProviderElements"
          ></server-defined-provider>
        <server-defined-provider
          data-type="files"
          data-fetch-debounce="0"
            data-src="/command_palette/files"
          data-supported-modes="[&quot;/&quot;]"
            data-supported-scope-types="[&quot;repository&quot;]"
          
          data-targets="command-palette.serverDefinedProviderElements"
          ></server-defined-provider>
        <server-defined-provider
          data-type="remote"
          data-fetch-debounce="200"
            data-src="/command_palette/discussions"
          data-supported-modes="[&quot;#&quot;]"
            data-supported-scope-types="[&quot;owner&quot;,&quot;repository&quot;]"
          
          data-targets="command-palette.serverDefinedProviderElements"
          ></server-defined-provider>
        <server-defined-provider
          data-type="remote"
          data-fetch-debounce="200"
            data-src="/command_palette/projects"
          data-supported-modes="[&quot;#&quot;,&quot;!&quot;]"
            data-supported-scope-types="[&quot;owner&quot;,&quot;repository&quot;]"
          
          data-targets="command-palette.serverDefinedProviderElements"
          ></server-defined-provider>
        <server-defined-provider
          data-type="prefetched"
          data-fetch-debounce="0"
            data-src="/command_palette/recent_issues"
          data-supported-modes="[&quot;#&quot;,&quot;#&quot;]"
            data-supported-scope-types="[&quot;owner&quot;,&quot;repository&quot;,&quot;&quot;]"
          
          data-targets="command-palette.serverDefinedProviderElements"
          ></server-defined-provider>
        <server-defined-provider
          data-type="remote"
          data-fetch-debounce="200"
            data-src="/command_palette/teams"
          data-supported-modes="[&quot;@&quot;,&quot;&quot;]"
            data-supported-scope-types="[&quot;owner&quot;]"
          
          data-targets="command-palette.serverDefinedProviderElements"
          ></server-defined-provider>
        <server-defined-provider
          data-type="remote"
          data-fetch-debounce="200"
            data-src="/command_palette/name_with_owner_repository"
          data-supported-modes="[&quot;@&quot;,&quot;@&quot;,&quot;&quot;,&quot;&quot;]"
            data-supported-scope-types="[&quot;&quot;,&quot;owner&quot;]"
          
          data-targets="command-palette.serverDefinedProviderElements"
          ></server-defined-provider>
    </command-palette>
  </details-dialog>
</details>

<div class="position-fixed bottom-0 left-0 ml-5 mb-5 js-command-palette-toasts" style="z-index: 1000">
  <div hidden class="Toast Toast--loading">
    <span class="Toast-icon">
      <svg class="Toast--spinner" viewBox="0 0 32 32" width="18" height="18" aria-hidden="true">
        <path
          fill="#959da5"
          d="M16 0 A16 16 0 0 0 16 32 A16 16 0 0 0 16 0 M16 4 A12 12 0 0 1 16 28 A12 12 0 0 1 16 4"
        />
        <path fill="#ffffff" d="M16 0 A16 16 0 0 1 32 16 L28 16 A12 12 0 0 0 16 4z"></path>
      </svg>
    </span>
    <span class="Toast-content"></span>
  </div>

  <div hidden class="anim-fade-in fast Toast Toast--error">
    <span class="Toast-icon">
      <svg aria-hidden="true" height="16" viewBox="0 0 16 16" version="1.1" width="16" data-view-component="true" class="octicon octicon-stop">
    <path d="M4.47.22A.749.749 0 0 1 5 0h6c.199 0 .389.079.53.22l4.25 4.25c.141.14.22.331.22.53v6a.749.749 0 0 1-.22.53l-4.25 4.25A.749.749 0 0 1 11 16H5a.749.749 0 0 1-.53-.22L.22 11.53A.749.749 0 0 1 0 11V5c0-.199.079-.389.22-.53Zm.84 1.28L1.5 5.31v5.38l3.81 3.81h5.38l3.81-3.81V5.31L10.69 1.5ZM8 4a.75.75 0 0 1 .75.75v3.5a.75.75 0 0 1-1.5 0v-3.5A.75.75 0 0 1 8 4Zm0 8a1 1 0 1 1 0-2 1 1 0 0 1 0 2Z"></path>
</svg>
    </span>
    <span class="Toast-content"></span>
  </div>

  <div hidden class="anim-fade-in fast Toast Toast--warning">
    <span class="Toast-icon">
      <svg aria-hidden="true" height="16" viewBox="0 0 16 16" version="1.1" width="16" data-view-component="true" class="octicon octicon-alert">
    <path d="M6.457 1.047c.659-1.234 2.427-1.234 3.086 0l6.082 11.378A1.75 1.75 0 0 1 14.082 15H1.918a1.75 1.75 0 0 1-1.543-2.575Zm1.763.707a.25.25 0 0 0-.44 0L1.698 13.132a.25.25 0 0 0 .22.368h12.164a.25.25 0 0 0 .22-.368Zm.53 3.996v2.5a.75.75 0 0 1-1.5 0v-2.5a.75.75 0 0 1 1.5 0ZM9 11a1 1 0 1 1-2 0 1 1 0 0 1 2 0Z"></path>
</svg>
    </span>
    <span class="Toast-content"></span>
  </div>


  <div hidden class="anim-fade-in fast Toast Toast--success">
    <span class="Toast-icon">
      <svg aria-hidden="true" height="16" viewBox="0 0 16 16" version="1.1" width="16" data-view-component="true" class="octicon octicon-check">
    <path d="M13.78 4.22a.75.75 0 0 1 0 1.06l-7.25 7.25a.75.75 0 0 1-1.06 0L2.22 9.28a.751.751 0 0 1 .018-1.042.751.751 0 0 1 1.042-.018L6 10.94l6.72-6.72a.75.75 0 0 1 1.06 0Z"></path>
</svg>
    </span>
    <span class="Toast-content"></span>
  </div>

  <div hidden class="anim-fade-in fast Toast">
    <span class="Toast-icon">
      <svg aria-hidden="true" height="16" viewBox="0 0 16 16" version="1.1" width="16" data-view-component="true" class="octicon octicon-info">
    <path d="M0 8a8 8 0 1 1 16 0A8 8 0 0 1 0 8Zm8-6.5a6.5 6.5 0 1 0 0 13 6.5 6.5 0 0 0 0-13ZM6.5 7.75A.75.75 0 0 1 7.25 7h1a.75.75 0 0 1 .75.75v2.75h.25a.75.75 0 0 1 0 1.5h-2a.75.75 0 0 1 0-1.5h.25v-2h-.25a.75.75 0 0 1-.75-.75ZM8 6a1 1 0 1 1 0-2 1 1 0 0 1 0 2Z"></path>
</svg>
    </span>
    <span class="Toast-content"></span>
  </div>
</div>


  <div
    class="application-main "
    data-commit-hovercards-enabled
    data-discussion-hovercards-enabled
    data-issue-and-pr-hovercards-enabled
  >
        <div itemscope itemtype="http://schema.org/SoftwareSourceCode" class="">
    <main id="js-repo-pjax-container" >
      
      
      






    
  <div id="repository-container-header" data-turbo-replace hidden></div>




<turbo-frame id="repo-content-turbo-frame" target="_top" data-turbo-action="advance" class="">
    <div id="repo-content-pjax-container" class="repository-content " >
      <a href="https://github.dev/" class="d-none js-github-dev-shortcut" data-hotkey=".,Alt+Meta+≥,Control+Alt+.">Open in github.dev</a>
  <a href="https://github.dev/" class="d-none js-github-dev-new-tab-shortcut" data-hotkey="Shift+.,Shift+&gt;,&gt;" target="_blank" rel="noopener noreferrer">Open in a new github.dev tab</a>
    <a class="d-none" data-hotkey=",,Alt+Meta+≤,Control+Alt+," target="_blank" href="/codespaces/new/zulkaidaakbar/NLP-STTCipasung2022/tree/main?resume=1">Open in codespace</a>



    
      
    





<react-app
  app-name="react-code-view"
  initial-path="/zulkaidaakbar/NLP-STTCipasung2022/blob/main/20-September-2022/IntroNLPEnglish.ipynb"
  style="min-height: calc(100vh - 62px)"
  data-ssr="false"
  data-lazy="false"
  data-alternate="false"
>
  
  <script type="application/json" data-target="react-app.embeddedData">{"payload":{"allShortcutsEnabled":true,"fileTree":{"20-September-2022":{"items":[{"name":"IntroNLPEnglish.ipynb","path":"20-September-2022/IntroNLPEnglish.ipynb","contentType":"file"},{"name":"JupyterNotebookTutorial.ipynb","path":"20-September-2022/JupyterNotebookTutorial.ipynb","contentType":"file"},{"name":"NLP-BahasaIndonesia.ipynb","path":"20-September-2022/NLP-BahasaIndonesia.ipynb","contentType":"file"},{"name":"NLP-Kuliah-1.pdf","path":"20-September-2022/NLP-Kuliah-1.pdf","contentType":"file"},{"name":"README.md","path":"20-September-2022/README.md","contentType":"file"},{"name":"SentimentAnalysisVader.ipynb","path":"20-September-2022/SentimentAnalysisVader.ipynb","contentType":"file"},{"name":"berita_feb_unpad.txt","path":"20-September-2022/berita_feb_unpad.txt","contentType":"file"},{"name":"fortune500.csv","path":"20-September-2022/fortune500.csv","contentType":"file"}],"totalCount":8},"":{"items":[{"name":"1-November-2022","path":"1-November-2022","contentType":"directory"},{"name":"15-November-2022","path":"15-November-2022","contentType":"directory"},{"name":"16-Desember-2022","path":"16-Desember-2022","contentType":"directory"},{"name":"18-Oktober-2022","path":"18-Oktober-2022","contentType":"directory"},{"name":"20-Desember-2022","path":"20-Desember-2022","contentType":"directory"},{"name":"20-September-2022","path":"20-September-2022","contentType":"directory"},{"name":"27-September-2022","path":"27-September-2022","contentType":"directory"},{"name":"29-November-2022","path":"29-November-2022","contentType":"directory"},{"name":"4-Oktober-2022","path":"4-Oktober-2022","contentType":"directory"},{"name":"8-Desember-2022","path":"8-Desember-2022","contentType":"directory"},{"name":"UAS","path":"UAS","contentType":"directory"},{"name":"UTS","path":"UTS","contentType":"directory"},{"name":"README.md","path":"README.md","contentType":"file"}],"totalCount":13}},"fileTreeProcessingTime":6.8581270000000005,"foldersToFetch":[],"reducedMotionEnabled":"system","repo":{"id":538342963,"defaultBranch":"main","name":"NLP-STTCipasung2022","ownerLogin":"zulkaidaakbar","currentUserCanPush":true,"isFork":false,"isEmpty":false,"createdAt":"2022-09-19T12:12:56.000+07:00","ownerAvatar":"https://avatars.githubusercontent.com/u/68297438?v=4","public":true,"private":false,"isOrgOwned":false},"symbolsExpanded":true,"treeExpanded":true,"refInfo":{"name":"main","listCacheKey":"v0:1671502701.1233861","canEdit":true,"refType":"branch","currentOid":"610dd6af4315c5f184d6ce161078b45e59b85433"},"path":"20-September-2022/IntroNLPEnglish.ipynb","currentUser":{"id":68297438,"login":"zulkaidaakbar","userEmail":"za2hd@virginia.edu"},"blob":{"rawLines":["{"," \"cells\": [","  {","   \"cell_type\": \"code\",","   \"execution_count\": 7,","   \"id\": \"a27e4ca0\",","   \"metadata\": {},","   \"outputs\": [","    {","     \"name\": \"stderr\",","     \"output_type\": \"stream\",","     \"text\": [","      \"[nltk_data] Downloading collection 'popular'\\n\",","      \"[nltk_data]    | \\n\",","      \"[nltk_data]    | Downloading package cmudict to\\n\",","      \"[nltk_data]    |     C:\\\\Users\\\\akbar\\\\AppData\\\\Roaming\\\\nltk_data...\\n\",","      \"[nltk_data]    |   Package cmudict is already up-to-date!\\n\",","      \"[nltk_data]    | Downloading package gazetteers to\\n\",","      \"[nltk_data]    |     C:\\\\Users\\\\akbar\\\\AppData\\\\Roaming\\\\nltk_data...\\n\",","      \"[nltk_data]    |   Package gazetteers is already up-to-date!\\n\",","      \"[nltk_data]    | Downloading package genesis to\\n\",","      \"[nltk_data]    |     C:\\\\Users\\\\akbar\\\\AppData\\\\Roaming\\\\nltk_data...\\n\",","      \"[nltk_data]    |   Package genesis is already up-to-date!\\n\",","      \"[nltk_data]    | Downloading package gutenberg to\\n\",","      \"[nltk_data]    |     C:\\\\Users\\\\akbar\\\\AppData\\\\Roaming\\\\nltk_data...\\n\",","      \"[nltk_data]    |   Package gutenberg is already up-to-date!\\n\",","      \"[nltk_data]    | Downloading package inaugural to\\n\",","      \"[nltk_data]    |     C:\\\\Users\\\\akbar\\\\AppData\\\\Roaming\\\\nltk_data...\\n\",","      \"[nltk_data]    |   Package inaugural is already up-to-date!\\n\",","      \"[nltk_data]    | Downloading package movie_reviews to\\n\",","      \"[nltk_data]    |     C:\\\\Users\\\\akbar\\\\AppData\\\\Roaming\\\\nltk_data...\\n\",","      \"[nltk_data]    |   Package movie_reviews is already up-to-date!\\n\",","      \"[nltk_data]    | Downloading package names to\\n\",","      \"[nltk_data]    |     C:\\\\Users\\\\akbar\\\\AppData\\\\Roaming\\\\nltk_data...\\n\",","      \"[nltk_data]    |   Package names is already up-to-date!\\n\",","      \"[nltk_data]    | Downloading package shakespeare to\\n\",","      \"[nltk_data]    |     C:\\\\Users\\\\akbar\\\\AppData\\\\Roaming\\\\nltk_data...\\n\",","      \"[nltk_data]    |   Package shakespeare is already up-to-date!\\n\",","      \"[nltk_data]    | Downloading package stopwords to\\n\",","      \"[nltk_data]    |     C:\\\\Users\\\\akbar\\\\AppData\\\\Roaming\\\\nltk_data...\\n\",","      \"[nltk_data]    |   Package stopwords is already up-to-date!\\n\",","      \"[nltk_data]    | Downloading package treebank to\\n\",","      \"[nltk_data]    |     C:\\\\Users\\\\akbar\\\\AppData\\\\Roaming\\\\nltk_data...\\n\",","      \"[nltk_data]    |   Package treebank is already up-to-date!\\n\",","      \"[nltk_data]    | Downloading package twitter_samples to\\n\",","      \"[nltk_data]    |     C:\\\\Users\\\\akbar\\\\AppData\\\\Roaming\\\\nltk_data...\\n\",","      \"[nltk_data]    |   Package twitter_samples is already up-to-date!\\n\",","      \"[nltk_data]    | Downloading package omw to\\n\",","      \"[nltk_data]    |     C:\\\\Users\\\\akbar\\\\AppData\\\\Roaming\\\\nltk_data...\\n\",","      \"[nltk_data]    |   Package omw is already up-to-date!\\n\",","      \"[nltk_data]    | Downloading package omw-1.4 to\\n\",","      \"[nltk_data]    |     C:\\\\Users\\\\akbar\\\\AppData\\\\Roaming\\\\nltk_data...\\n\",","      \"[nltk_data]    |   Package omw-1.4 is already up-to-date!\\n\",","      \"[nltk_data]    | Downloading package wordnet to\\n\",","      \"[nltk_data]    |     C:\\\\Users\\\\akbar\\\\AppData\\\\Roaming\\\\nltk_data...\\n\",","      \"[nltk_data]    |   Package wordnet is already up-to-date!\\n\",","      \"[nltk_data]    | Downloading package wordnet2021 to\\n\",","      \"[nltk_data]    |     C:\\\\Users\\\\akbar\\\\AppData\\\\Roaming\\\\nltk_data...\\n\",","      \"[nltk_data]    |   Package wordnet2021 is already up-to-date!\\n\",","      \"[nltk_data]    | Downloading package wordnet31 to\\n\",","      \"[nltk_data]    |     C:\\\\Users\\\\akbar\\\\AppData\\\\Roaming\\\\nltk_data...\\n\",","      \"[nltk_data]    |   Package wordnet31 is already up-to-date!\\n\",","      \"[nltk_data]    | Downloading package wordnet_ic to\\n\",","      \"[nltk_data]    |     C:\\\\Users\\\\akbar\\\\AppData\\\\Roaming\\\\nltk_data...\\n\",","      \"[nltk_data]    |   Package wordnet_ic is already up-to-date!\\n\",","      \"[nltk_data]    | Downloading package words to\\n\",","      \"[nltk_data]    |     C:\\\\Users\\\\akbar\\\\AppData\\\\Roaming\\\\nltk_data...\\n\",","      \"[nltk_data]    |   Package words is already up-to-date!\\n\",","      \"[nltk_data]    | Downloading package maxent_ne_chunker to\\n\",","      \"[nltk_data]    |     C:\\\\Users\\\\akbar\\\\AppData\\\\Roaming\\\\nltk_data...\\n\",","      \"[nltk_data]    |   Package maxent_ne_chunker is already up-to-date!\\n\",","      \"[nltk_data]    | Downloading package punkt to\\n\",","      \"[nltk_data]    |     C:\\\\Users\\\\akbar\\\\AppData\\\\Roaming\\\\nltk_data...\\n\",","      \"[nltk_data]    |   Package punkt is already up-to-date!\\n\",","      \"[nltk_data]    | Downloading package snowball_data to\\n\",","      \"[nltk_data]    |     C:\\\\Users\\\\akbar\\\\AppData\\\\Roaming\\\\nltk_data...\\n\",","      \"[nltk_data]    |   Package snowball_data is already up-to-date!\\n\",","      \"[nltk_data]    | Downloading package averaged_perceptron_tagger to\\n\",","      \"[nltk_data]    |     C:\\\\Users\\\\akbar\\\\AppData\\\\Roaming\\\\nltk_data...\\n\",","      \"[nltk_data]    |   Package averaged_perceptron_tagger is already up-\\n\",","      \"[nltk_data]    |       to-date!\\n\",","      \"[nltk_data]    | \\n\",","      \"[nltk_data]  Done downloading collection popular\\n\"","     ]","    },","    {","     \"data\": {","      \"text/plain\": [","       \"True\"","      ]","     },","     \"execution_count\": 7,","     \"metadata\": {},","     \"output_type\": \"execute_result\"","    }","   ],","   \"source\": [","    \"import nltk\\n\",","    \"nltk.download('popular')\"","   ]","  },","  {","   \"cell_type\": \"code\",","   \"execution_count\": 18,","   \"id\": \"93bfe16a\",","   \"metadata\": {},","   \"outputs\": [","    {","     \"name\": \"stdout\",","     \"output_type\": \"stream\",","     \"text\": [","      \"b'\u003c!DOCTYPE html\u003e\\\\n\u003c!--[if IEMobile 7]\u003e\u003chtml class=\\\"iem7\\\"  lang=\\\"en\\\" dir=\\\"ltr\\\"\u003e\u003c![endif]--\u003e\\\\n\u003c!--[if lte IE 6]\u003e\u003chtml class=\\\"lt-ie9 lt-ie8 lt-ie7\\\"  lang=\\\"en\\\" dir=\\\"ltr\\\"\u003e\u003c![endif]--\u003e\\\\n\u003c!--[if (IE 7)\u0026(!IEMobile)]\u003e\u003chtml class=\\\"lt-ie9 lt-ie8\\\"  lang=\\\"en\\\" dir=\\\"ltr\\\"\u003e\u003c![endif]--\u003e\\\\n\u003c!--[if IE 8]\u003e\u003chtml class=\\\"lt-ie9\\\"  lang=\\\"en\\\" dir=\\\"ltr\\\"\u003e\u003c![endif]--\u003e\\\\n\u003c!--[if (gte IE 9)|(gt IEMobile 7)]\u003e\u003c!--\u003e\u003chtml  lang=\\\"en\\\" dir=\\\"ltr\\\" prefix=\\\"og: http://ogp.me/ns# content: http://purl.org/rss/1.0/modules/content/ dc: http://purl.org/dc/terms/ foaf: http://xmlns.com/foaf/0.1/ rdfs: http://www.w3.org/2000/01/rdf-schema# sioc: http://rdfs.org/sioc/ns# sioct: http://rdfs.org/sioc/types# skos: http://www.w3.org/2004/02/skos/core# xsd: http://www.w3.org/2001/XMLSchema#\\\"\u003e\u003c!--\u003c![endif]--\u003e\\\\n\\\\n\u003chead\u003e\\\\n\\\\n\u003c!-- Google Tag Manager --\u003e\\\\n\u003cscript\u003e(function(w,d,s,l,i){w[l]=w[l]||[];w[l].push({\\\\'gtm.start\\\\':\\\\nnew Date().getTime(),event:\\\\'gtm.js\\\\'});var f=d.getElementsByTagName(s)[0],\\\\nj=d.createElement(s),dl=l!=\\\\'dataLayer\\\\'?\\\\'\u0026l=\\\\'+l:\\\\'\\\\';j.async=true;j.src=\\\\n\\\\'https://www.googletagmanager.com/gtm.js?id=\\\\'+i+dl;f.parentNode.insertBefore(j,f);\\\\n})(window,document,\\\\'script\\\\',\\\\'dataLayer\\\\',\\\\'GTM-WLMC86\\\\');\u003c/script\u003e\\\\n\u003c!-- End Google Tag Manager --\u003e\\\\n\\\\n\\\\n  \u003c!--[if IE]\u003e\u003c![endif]--\u003e\\\\n\u003clink rel=\\\"dns-prefetch\\\" href=\\\"//platform.twitter.com\\\" /\u003e\\\\n\u003cmeta charset=\\\"utf-8\\\" /\u003e\\\\n\u003clink rel=\\\"shortcut icon\\\" href=\\\"https://obamawhitehouse.archives.gov/sites/obamawhitehouse.archives.gov/themes/custom/fortyfour/favicon.ico\\\" type=\\\"image/vnd.microsoft.icon\\\" /\u003e\\\\n\u003clink rel=\\\"apple-touch-icon-precomposed\\\" sizes=\\\"152x152\\\" href=\\\"https://obamawhitehouse.archives.gov/sites/obamawhitehouse.archives.gov/themes/custom/fortyfour/images/fortyfour/favicons/apple-touch-icon-152x152-precomposed.png\\\" /\u003e\\\\n\u003clink rel=\\\"apple-touch-icon-precomposed\\\" sizes=\\\"144x144\\\" href=\\\"https://obamawhitehouse.archives.gov/sites/obamawhitehouse.archives.gov/themes/custom/fortyfour/images/fortyfour/favicons/apple-touch-icon-144x144-precomposed.png\\\" /\u003e\\\\n\u003clink rel=\\\"apple-touch-icon-precomposed\\\" sizes=\\\"120x120\\\" href=\\\"https://obamawhitehouse.archives.gov/sites/obamawhitehouse.archives.gov/themes/custom/fortyfour/images/fortyfour/favicons/apple-touch-icon-120x120-precomposed.png\\\" /\u003e\\\\n\u003clink rel=\\\"apple-touch-icon-precomposed\\\" sizes=\\\"114x114\\\" href=\\\"https://obamawhitehouse.archives.gov/sites/obamawhitehouse.archives.gov/themes/custom/fortyfour/images/fortyfour/favicons/apple-touch-icon-114x114-precomposed.png\\\" /\u003e\\\\n\u003clink rel=\\\"apple-touch-icon-precomposed\\\" sizes=\\\"76x76\\\" href=\\\"https://obamawhitehouse.archives.gov/sites/obamawhitehouse.archives.gov/themes/custom/fortyfour/images/fortyfour/favicons/apple-touch-icon-76x76-precomposed.png\\\" /\u003e\\\\n\u003clink rel=\\\"apple-touch-icon-precomposed\\\" sizes=\\\"72x72\\\" href=\\\"https://obamawhitehouse.archives.gov/sites/obamawhitehouse.archives.gov/themes/custom/fortyfour/images/fortyfour/favicons/apple-touch-icon-72x72-precomposed.png\\\" /\u003e\\\\n\u003clink rel=\\\"apple-touch-icon-precomposed\\\" sizes=\\\"60x60\\\" href=\\\"https://obamawhitehouse.archives.gov/sites/obamawhitehouse.archives.gov/themes/custom/fortyfour/images/fortyfour/favicons/apple-touch-icon-60x60-precomposed.png\\\" /\u003e\\\\n\u003clink rel=\\\"apple-touch-icon-precomposed\\\" sizes=\\\"57x57\\\" href=\\\"https://obamawhitehouse.archives.gov/sites/obamawhitehouse.archives.gov/themes/custom/fortyfour/images/fortyfour/favicons/apple-touch-icon-57x57-precomposed.png\\\" /\u003e\\\\n\u003clink rel=\\\"apple-touch-icon-precomposed\\\" href=\\\"https://obamawhitehouse.archives.gov/sites/obamawhitehouse.archives.gov/themes/custom/fortyfour/images/fortyfour/favicons/apple-touch-icon-60x60-precomposed.png\\\" /\u003e\\\\n\u003clink rel=\\\"apple-touch-icon\\\" sizes=\\\"180x180\\\" href=\\\"https://obamawhitehouse.archives.gov/sites/obamawhitehouse.archives.gov/themes/custom/fortyfour/images/fortyfour/favicons/iOS_180x180.png\\\" /\u003e\\\\n\u003clink rel=\\\"apple-touch-icon\\\" sizes=\\\"167x167\\\" href=\\\"https://obamawhitehouse.archives.gov/sites/obamawhitehouse.archives.gov/themes/custom/fortyfour/images/fortyfour/favicons/iOS_167x167.png\\\" /\u003e\\\\n\u003clink rel=\\\"apple-touch-icon\\\" sizes=\\\"152x152\\\" href=\\\"https://obamawhitehouse.archives.gov/sites/obamawhitehouse.archives.gov/themes/custom/fortyfour/images/fortyfour/favicons/iOS_152x152.png\\\" /\u003e\\\\n\u003clink rel=\\\"apple-touch-icon\\\" sizes=\\\"120x120\\\" href=\\\"https://obamawhitehouse.archives.gov/sites/obamawhitehouse.archives.gov/themes/custom/fortyfour/images/fortyfour/favicons/iOS_120x120.png\\\" /\u003e\\\\n\u003clink rel=\\\"apple-touch-icon\\\" sizes=\\\"76x76\\\" href=\\\"https://obamawhitehouse.archives.gov/sites/obamawhitehouse.archives.gov/themes/custom/fortyfour/images/fortyfour/favicons/iOS_76x76.png\\\" /\u003e\\\\n\u003clink rel=\\\"apple-touch-icon\\\" href=\\\"https://obamawhitehouse.archives.gov/sites/obamawhitehouse.archives.gov/themes/custom/fortyfour/images/fortyfour/favicons/iOS_76x76.png\\\" /\u003e\\\\n\u003clink rel=\\\"icon\\\" type=\\\"image/png\\\" sizes=\\\"16x16\\\" href=\\\"https://obamawhitehouse.archives.gov/sites/obamawhitehouse.archives.gov/themes/custom/fortyfour/images/fortyfour/favicons/favicon-16x16.png\\\" /\u003e\\\\n\u003clink rel=\\\"icon\\\" type=\\\"image/png\\\" sizes=\\\"32x32\\\" href=\\\"https://obamawhitehouse.archives.gov/sites/obamawhitehouse.archives.gov/themes/custom/fortyfour/images/fortyfour/favicons/favicon-32x32.png\\\" /\u003e\\\\n\u003clink rel=\\\"icon\\\" type=\\\"image/png\\\" sizes=\\\"96x96\\\" href=\\\"https://obamawhitehouse.archives.gov/sites/obamawhitehouse.archives.gov/themes/custom/fortyfour/images/fortyfour/favicons/favicon-96x96.png\\\" /\u003e\\\\n\u003clink rel=\\\"icon\\\" type=\\\"image/png\\\" sizes=\\\"128x128\\\" href=\\\"https://obamawhitehouse.archives.gov/sites/obamawhitehouse.archives.gov/themes/custom/fortyfour/images/fortyfour/favicons/favicon-128.png\\\" /\u003e\\\\n\u003clink rel=\\\"icon\\\" type=\\\"image/png\\\" sizes=\\\"196x196\\\" href=\\\"https://obamawhitehouse.archives.gov/sites/obamawhitehouse.archives.gov/themes/custom/fortyfour/images/fortyfour/favicons/favicon-196x196.png\\\" /\u003e\\\\n\u003cmeta name=\\\"msapplication-config\\\" content=\\\"https://obamawhitehouse.archives.gov/sites/obamawhitehouse.archives.gov/themes/custom/fortyfour/browserconfig.xml\\\" /\u003e\\\\n\u003cmeta name=\\\"application-name\\\" content=\\\"Whitehouse\\\" /\u003e\\\\n\u003cmeta name=\\\"msapplication-TileColor\\\" content=\\\"#003C80\\\" /\u003e\\\\n\u003cmeta name=\\\"msapplication-TileImage\\\" content=\\\"https://obamawhitehouse.archives.gov/sites/obamawhitehouse.archives.gov/themes/custom/fortyfour/images/fortyfour/favicons/mstile-70x70.png\\\" /\u003e\\\\n\u003cmeta name=\\\"msapplication-square70x70logo\\\" content=\\\"https://obamawhitehouse.archives.gov/sites/obamawhitehouse.archives.gov/themes/custom/fortyfour/images/fortyfour/favicons/mstile-70x70.png\\\" /\u003e\\\\n\u003cmeta name=\\\"msapplication-square150x150logo\\\" content=\\\"https://obamawhitehouse.archives.gov/sites/obamawhitehouse.archives.gov/themes/custom/fortyfour/images/fortyfour/favicons/mstile-150x150.png\\\" /\u003e\\\\n\u003cmeta name=\\\"msapplication-wide310x150logo\\\" content=\\\"https://obamawhitehouse.archives.gov/sites/obamawhitehouse.archives.gov/themes/custom/fortyfour/images/fortyfour/favicons/mstile-310x150.png\\\" /\u003e\\\\n\u003cmeta name=\\\"msapplication-square310x310logo\\\" content=\\\"https://obamawhitehouse.archives.gov/sites/obamawhitehouse.archives.gov/themes/custom/fortyfour/images/fortyfour/favicons/mstile-310x310.png\\\" /\u003e\\\\n\u003clink rel=\\\"shortcut icon\\\" href=\\\"https://obamawhitehouse.archives.gov/sites/obamawhitehouse.archives.gov/themes/custom/fortyfour/favicon.ico\\\" type=\\\"image/vnd.microsoft.icon\\\" /\u003e\\\\n\u003cmeta name=\\\"generator\\\" content=\\\"Drupal 7 (http://drupal.org)\\\" /\u003e\\\\n\u003clink rel=\\\"canonical\\\" href=\\\"https://obamawhitehouse.archives.gov/the-press-office/2013/01/21/inaugural-address-president-barack-obama\\\" /\u003e\\\\n\u003clink rel=\\\"shortlink\\\" href=\\\"https://obamawhitehouse.archives.gov/the-press-office/2013/01/21/inaugural-address-president-barack-obama\\\" /\u003e\\\\n\u003cmeta property=\\\"og:site_name\\\" content=\\\"whitehouse.gov\\\" /\u003e\\\\n\u003cmeta property=\\\"og:type\\\" content=\\\"article\\\" /\u003e\\\\n\u003cmeta property=\\\"og:title\\\" content=\\\"Inaugural Address by President Barack Obama\\\" /\u003e\\\\n\u003cmeta property=\\\"og:url\\\" content=\\\"https://obamawhitehouse.archives.gov/the-press-office/2013/01/21/inaugural-address-president-barack-obama\\\" /\u003e\\\\n\u003cmeta property=\\\"og:description\\\" content=\\\"\\\\xc2\\\\xa0\\\" /\u003e\\\\n\u003cmeta property=\\\"og:updated_time\\\" content=\\\"2013-01-21T13:12:00-05:00\\\" /\u003e\\\\n\u003cmeta property=\\\"og:image\\\" content=\\\"https://obamawhitehouse.archives.gov/sites/whitehouse.gov/files/images/twitter_cards_default.jpg\\\" /\u003e\\\\n\u003cmeta property=\\\"og:image:secure_url\\\" content=\\\"https://obamawhitehouse.archives.gov/sites/whitehouse.gov/files/images/twitter_cards_default.jpg\\\" /\u003e\\\\n\u003cmeta property=\\\"og:image:type\\\" content=\\\"image/jpeg\\\" /\u003e\\\\n\u003cmeta name=\\\"twitter:card\\\" content=\\\"summary\\\" /\u003e\\\\n\u003cmeta name=\\\"twitter:site\\\" content=\\\"@WhiteHouse\\\" /\u003e\\\\n\u003cmeta name=\\\"twitter:creator\\\" content=\\\"@WhiteHouse\\\" /\u003e\\\\n\u003cmeta name=\\\"twitter:url\\\" content=\\\"https://obamawhitehouse.archives.gov/the-press-office/2013/01/21/inaugural-address-president-barack-obama\\\" /\u003e\\\\n\u003cmeta name=\\\"twitter:title\\\" content=\\\"Inaugural Address by President Barack Obama\\\" /\u003e\\\\n\u003cmeta name=\\\"twitter:image\\\" content=\\\"https://obamawhitehouse.archives.gov/sites/whitehouse.gov/files/images/twitter_cards_default.jpg\\\" /\u003e\\\\n\u003cmeta property=\\\"article:published_time\\\" content=\\\"2013-01-21T13:05:00-05:00\\\" /\u003e\\\\n\u003cmeta property=\\\"article:modified_time\\\" content=\\\"2013-01-21T13:12:00-05:00\\\" /\u003e\\\\n  \u003ctitle\u003eInaugural Address by President Barack Obama | whitehouse.gov\u003c/title\u003e\\\\n\\\\n\\\\n      \u003cmeta name=\\\"MobileOptimized\\\" content=\\\"width\\\"\u003e\\\\n    \u003cmeta name=\\\"HandheldFriendly\\\" content=\\\"true\\\"\u003e\\\\n    \u003cmeta name=\\\"viewport\\\" content=\\\"width=device-width\\\"\u003e\\\\n    \u003cmeta http-equiv=\\\"cleartype\\\" content=\\\"on\\\"\u003e\\\\n\\\\n  \u003clink type=\\\"text/css\\\" rel=\\\"stylesheet\\\" href=\\\"https://obamawhitehouse.archives.gov/sites/obamawhitehouse.archives.gov/files/advagg_css/css__E4tCfsc4jQCKiIuRNFYecPFB1_BUuhzQYfS72tGo8-Y__lM7sT5FSky8CE5sy-LCRs0eJXW6G1PY6bgDG4-7-zXQ__6yT-PiSODBbX6oNLwaJ-vBDwvHNA3ftWqKDmjK35hsQ.css\\\" media=\\\"all\\\" /\u003e\\\\n\\\\n\u003c!--[if lte IE 9]\u003e\\\\n\u003clink type=\\\"text/css\\\" rel=\\\"stylesheet\\\" href=\\\"https://obamawhitehouse.archives.gov/sites/obamawhitehouse.archives.gov/files/advagg_css/css__373-y8KH-KtZjNu3Mt66HoAZ9PzjZ4iuXqSomuCYsI4___E4EQJEb6c3Adl1X2-5IUKFxtRLRPzRfaZjBukfFzEQ__6yT-PiSODBbX6oNLwaJ-vBDwvHNA3ftWqKDmjK35hsQ.css\\\" media=\\\"all\\\" /\u003e\\\\n\u003c![endif]--\u003e\\\\n  \u003c!--[if lte IE 9]\u003e\\\\n    \u003clink href=\\\"/sites/obamawhitehouse.archives.gov/themes/custom/fortyfour/css/ie9.css\\\" rel=\\\"stylesheet\\\" type=\\\"text/css\\\"\u003e\\\\n  \u003c![endif]--\u003e\\\\n  \u003cscript src=\\\"https://obamawhitehouse.archives.gov/sites/obamawhitehouse.archives.gov/files/advagg_js/js__fJec7kBpZlB3-NFahw7UEDdaxFOnfDtQGZSR-lR0ZP8__g6xANM1OcRgSwG8dd6XBT2RqAaTWe5urP58rrnRJpWM__6yT-PiSODBbX6oNLwaJ-vBDwvHNA3ftWqKDmjK35hsQ.js\\\" defer=\\\"defer\\\"\u003e\u003c/script\u003e\\\\n\u003cscript async=\\\"async\\\" src=\\\"//platform.twitter.com/widgets.js\\\"\u003e\u003c/script\u003e\\\\n\u003cscript src=\\\"https://obamawhitehouse.archives.gov/sites/obamawhitehouse.archives.gov/files/advagg_js/js__NtZ86vWUiid-en5wt8RSAYwII7gtjgAEm2ru-npNCT0__qAl84FcCv2jyN22yFGS5Oc85cjd9zKX6p_cFNLGhe-M__6yT-PiSODBbX6oNLwaJ-vBDwvHNA3ftWqKDmjK35hsQ.js\\\" defer=\\\"defer\\\" async=\\\"async\\\"\u003e\u003c/script\u003e\\\\n      \u003c!--[if lt IE 9]\u003e\\\\n    \u003cscript src=\\\"/sites/obamawhitehouse.archives.gov/themes/contrib/zen/js/html5-respond.js\\\"\u003e\u003c/script\u003e\\\\n    \u003c![endif]--\u003e\\\\n  \u003c/head\u003e\\\\n\u003cbody class=\\\"html not-front not-logged-in no-sidebars page-node page-node- page-node-56851 node-type-press-article section-the-press-office page-panels\\\" \u003e\\\\n\u003c!-- Google Tag Manager (noscript) --\u003e\\\\n\u003cnoscript\u003e\u003ciframe src=\\\"https://www.googletagmanager.com/ns.html?id=GTM-WLMC86\\\"\\\\nheight=\\\"0\\\" width=\\\"0\\\" style=\\\"display:none;visibility:hidden\\\"\u003e\u003c/iframe\u003e\u003c/noscript\u003e\\\\n\\\\n      \u003cp class=\\\"skip-link\\\"\u003e\\\\n      \u003ca href=\\\"#content-start\\\" class=\\\"element-invisible element-focusable\\\"\u003eJump to main content\u003c/a\u003e\\\\n    \u003c/p\u003e\\\\n        \u003cp id=\\\"skip-link\\\"\u003e\\\\n      \u003ca href=\\\"#block-menu-block-sixteenhundrednav-main\\\" class=\\\"element-invisible element-focusable\\\"\u003eJump to navigation\u003c/a\u003e\\\\n    \u003c/p\u003e\\\\n      \\\\n\u003c!-- !$page_manager_control: Only show these things if the page isn\\\\'t a node under the control of page manager. --\u003e\\\\n\u003c!-- /!$page_manager_control --\u003e\\\\n\\\\n\u003c!-- Main page content --\u003e\\\\n\u003csection id=\\\"page\\\"\u003e\\\\n  \\\\n\\\\n\\\\n\\\\n\u003cdiv class=\\\"panelizer-view-mode node node-full node-press-article node-56851\\\"\u003e\\\\n        \u003cdiv class=\\\"panel-display panel-basic-single-content-col\\\" \u003e\\\\n  \u003cheader class=\\\"panel-panel panel-header\\\"\u003e\\\\n   \u003cdiv class=\\\"panel-pane pane-panels-mini pane-default-header clearfix\\\"  \u003e\\\\n  \\\\n  \u003cdiv class=\\\"whr-takeover\\\" id=\\\"whr-takeover\\\" style=\\\"display:none;\\\"\u003e\u003c/div\u003e\\\\n\\\\n\u003cdiv class=\\\"whr-header-bg\\\"\u003e\\\\n  \u003cdiv class=\\\"whr-wrapper\\\"\u003e\\\\n    \u003cdiv class=\\\"whr-contact-slogan\\\"\u003e\\\\n      \u003cdiv class=\\\"panel-pane pane-page-slogan\\\"  \u003e\\\\n  \\\\n      \\\\n  \\\\n  This is historical material \\\\xe2\\\\x80\\\\x9cfrozen in time\\\\xe2\\\\x80\\\\x9d. The website is no longer updated and links to external websites and some internal pages may not work.\\\\n  \\\\n  \u003c/div\u003e\\\\n    \u003c/div\u003e\\\\n  \u003c/div\u003e\\\\n  \u003cdiv class=\\\"whr-navbar\\\"\u003e\\\\n    \u003cdiv class=\\\"whr-wrapper\\\"\u003e\\\\n      \u003cdiv class=\\\"panel-pane pane-page-logo\\\"  \u003e\\\\n  \\\\n      \\\\n  \\\\n  \u003ca href=\\\"/\\\" rel=\\\"home\\\" id=\\\"logo\\\" title=\\\"Home\\\"\u003e\u003cimg typeof=\\\"foaf:Image\\\" src=\\\"https://obamawhitehouse.archives.gov/profiles/forall/modules/custom/gov_whitehouse_www/images/icons/wh_logo_seal.png\\\" alt=\\\"Home\\\" /\u003e\u003c/a\u003e\\\\n  \\\\n  \u003c/div\u003e\\\\n\u003cdiv id=\\\"block-menu-block-sixteenhundrednav-main\\\"\\\\n     class=\\\"\\\" tabindex=\\\"-1\\\"\u003e\\\\n  \u003cdiv id=\\\"main-menu-header\\\" class=\\\"clearfix\\\"\u003e\\\\n    \u003cdiv id=\\\"icon-wrapper\\\"\u003e\\\\n      \u003ca href=\\\"#\\\" role=\\\\'tab\\\\' id=\\\"main-menu-toggle\\\"\u003e\u003ci class=\\\"fa fa-bars\\\"\u003e\u003c/i\u003e\u003c/a\u003e\\\\n    \u003c/div\u003e\\\\n  \u003c/div\u003e\\\\n  \u003cdiv id=\\\"main-menu-content\\\"\u003e\\\\n    \u003cdiv class=\\\"menu-block-wrapper menu-block-ctools-sixteenhundred-main-nav-2 menu-name-sixteenhundred-main-nav parent-mlid-0 menu-level-1\\\"\u003e\\\\n  \u003cul class=\\\"menu\\\"\u003e\u003cli class=\\\"first leaf menu-mlid-5816 main-nav--menu-item --main-nav--menu-item odd depth-1 no-children\\\" data-position=\\\"1\\\"\u003e\u003ca href=\\\"https://obamawhitehouse.archives.gov\\\" class=\\\"no-header\\\"\u003eHome\u003ci class=\\\\'fa fa-angle-down\\\\'\u003e\u003c/i\u003e\u003c/a\u003e\u003c/li\u003e\\\\n\u003cli class=\\\"expanded menu-mlid-5821 main-nav--menu-item --main-nav--menu-item even depth-1 children children-2\\\" data-position=\\\"2\\\"\u003e\u003ca href=\\\"https://obamawhitehouse.archives.gov/briefing-room\\\"\u003eBriefing Room\u003ci class=\\\\'fa fa-angle-down\\\\'\u003e\u003c/i\u003e\u003c/a\u003e\u003cul class=\\\"menu\\\"\u003e\u003cdiv class=\\\"depth-2-wrapper\\\"\u003e\u003cli class=\\\"first expanded menu-mlid-5846 main-nav--menu-item --main-nav--menu-item odd depth-2 children children-6 menu-featured menu-featured-descs\\\" data-position=\\\"1\\\"\u003e\u003cspan class=\\\"nolink\\\" tabindex=\\\"0\\\"\u003eFrom the News Room\u003c/span\u003e\u003cul class=\\\"menu-featured__column\\\"\u003e\u003cli class=\\\"first leaf menu-mlid-5856 main-nav--menu-item --main-nav--menu-item odd depth-3 no-children\\\" data-position=\\\"1\\\"\u003e\u003cdiv class=\\\"menu-featured__item\\\"\u003e\u003ca href=\\\"https://obamawhitehouse.archives.gov/blog\\\" title=\\\"Read the latest blog posts from 1600 Pennsylvania Ave\\\" class=\\\"menu-featured__link\\\"\u003eLatest News\u003c/a\u003e\u003cspan class=\\\"menu-featured__description\\\"\u003eRead the latest blog posts from 1600 Pennsylvania Ave\u003c/span\u003e\u003c/div\u003e\u003c/li\u003e\\\\n\u003cli class=\\\"leaf menu-mlid-5861 main-nav--menu-item --main-nav--menu-item even depth-3 no-children\\\" data-position=\\\"2\\\"\u003e\u003cdiv class=\\\"menu-featured__item\\\"\u003e\u003ca href=\\\"https://obamawhitehouse.archives.gov/share\\\" title=\\\"Check out the most popular infographics and videos\\\" class=\\\"menu-featured__link\\\"\u003eShare-Worthy\u003c/a\u003e\u003cspan class=\\\"menu-featured__description\\\"\u003eCheck out the most popular infographics and videos\u003c/span\u003e\u003c/div\u003e\u003c/li\u003e\\\\n\u003cli class=\\\"leaf menu-mlid-5866 main-nav--menu-item --main-nav--menu-item odd depth-3 no-children\\\" data-position=\\\"3\\\"\u003e\u003cdiv class=\\\"menu-featured__item\\\"\u003e\u003ca href=\\\"https://obamawhitehouse.archives.gov/photos\\\" title=\\\"View the photo of the day and other galleries\\\" class=\\\"menu-featured__link\\\"\u003ePhotos\u003c/a\u003e\u003cspan class=\\\"menu-featured__description\\\"\u003eView the photo of the day and other galleries\u003c/span\u003e\u003c/div\u003e\u003c/li\u003e\\\\n\u003c/ul\u003e\u003cul class=\\\"menu-featured__column\\\"\u003e\u003cli class=\\\"leaf menu-mlid-5871 main-nav--menu-item --main-nav--menu-item even depth-3 no-children\\\" data-position=\\\"4\\\"\u003e\u003cdiv class=\\\"menu-featured__item\\\"\u003e\u003ca href=\\\"https://obamawhitehouse.archives.gov/video\\\" title=\\\"Watch behind-the-scenes videos and more\\\" class=\\\"menu-featured__link\\\"\u003eVideo Gallery\u003c/a\u003e\u003cspan class=\\\"menu-featured__description\\\"\u003eWatch behind-the-scenes videos and more\u003c/span\u003e\u003c/div\u003e\u003c/li\u003e\\\\n\u003cli class=\\\"leaf menu-mlid-7071 main-nav--menu-item --main-nav--menu-item odd depth-3 no-children\\\" data-position=\\\"5\\\"\u003e\u003cdiv class=\\\"menu-featured__item\\\"\u003e\u003ca href=\\\"/live\\\" title=\\\"Tune in to White House events and statements as they happen\\\" class=\\\"menu-featured__link\\\"\u003eLive Events\u003c/a\u003e\u003cspan class=\\\"menu-featured__description\\\"\u003eTune in to White House events and statements as they happen\u003c/span\u003e\u003c/div\u003e\u003c/li\u003e\\\\n\u003cli class=\\\"last leaf menu-mlid-5881 main-nav--menu-item --main-nav--menu-item even depth-3 no-children\\\" data-position=\\\"6\\\"\u003e\u003cdiv class=\\\"menu-featured__item\\\"\u003e\u003ca href=\\\"https://obamawhitehouse.archives.gov/performances\\\" title=\\\"See the lineup of artists and performers at the White House\\\" class=\\\"menu-featured__link\\\"\u003eMusic \u0026amp; Arts Performances\u003c/a\u003e\u003cspan class=\\\"menu-featured__description\\\"\u003eSee the lineup of artists and performers at the White House\u003c/span\u003e\u003c/div\u003e\u003c/li\u003e\\\\n\u003c/ul\u003e\u003c/li\u003e\\\\n\u003cli class=\\\"menu__item is-expanded last expanded menu-mlid-77741 main-nav--menu-item --main-nav--menu-item even depth-2 children children-9\\\" data-position=\\\"2\\\"\u003e\u003cspan class=\\\"menu__link nolink\\\" tabindex=\\\"0\\\"\u003eFrom the Press Office\u003c/span\u003e\u003cul class=\\\"menu\\\"\u003e\u003cli class=\\\"menu__item is-leaf first leaf menu-mlid-5886 main-nav--menu-item --main-nav--menu-item odd depth-3 no-children\\\" data-position=\\\"1\\\"\u003e\u003ca href=\\\"/briefing-room/weekly-address\\\" class=\\\"menu__link\\\"\u003eYour Weekly Address\u003c/a\u003e\u003c/li\u003e\\\\n\u003cli class=\\\"menu__item is-leaf leaf menu-mlid-5891 main-nav--menu-item --main-nav--menu-item even depth-3 no-children\\\" data-position=\\\"2\\\"\u003e\u003ca href=\\\"/briefing-room/speeches-and-remarks\\\" class=\\\"menu__link\\\"\u003eSpeeches \u0026amp; Remarks\u003c/a\u003e\u003c/li\u003e\\\\n\u003cli class=\\\"menu__item is-leaf leaf menu-mlid-5896 main-nav--menu-item --main-nav--menu-item odd depth-3 no-children\\\" data-position=\\\"3\\\"\u003e\u003ca href=\\\"/briefing-room/press-briefings\\\" class=\\\"menu__link\\\"\u003ePress Briefings\u003c/a\u003e\u003c/li\u003e\\\\n\u003cli class=\\\"menu__item is-leaf leaf menu-mlid-5901 main-nav--menu-item --main-nav--menu-item even depth-3 no-children\\\" data-position=\\\"4\\\"\u003e\u003ca href=\\\"/briefing-room/statements-and-releases\\\" class=\\\"menu__link\\\"\u003eStatements \u0026amp; Releases\u003c/a\u003e\u003c/li\u003e\\\\n\u003cli class=\\\"menu__item is-leaf leaf menu-mlid-5906 main-nav--menu-item --main-nav--menu-item odd depth-3 no-children\\\" data-position=\\\"5\\\"\u003e\u003ca href=\\\"https://obamawhitehouse.archives.gov/blog#today\\\" class=\\\"menu__link\\\"\u003eWhite House Schedule\u003c/a\u003e\u003c/li\u003e\\\\n\u003cli class=\\\"menu__item is-leaf is-parent leaf has-children menu-mlid-5911 main-nav--menu-item --main-nav--menu-item even depth-3 no-children\\\" data-position=\\\"6\\\"\u003e\u003ca href=\\\"/briefing-room/presidential-actions\\\" class=\\\"menu__link\\\"\u003ePresidential Actions\u003c/a\u003e\u003c/li\u003e\\\\n\u003cli class=\\\"menu__item is-leaf leaf menu-mlid-5916 main-nav--menu-item --main-nav--menu-item odd depth-3 no-children\\\" data-position=\\\"7\\\"\u003e\u003ca href=\\\"/briefing-room/legislation\\\" class=\\\"menu__link\\\"\u003eLegislation\u003c/a\u003e\u003c/li\u003e\\\\n\u003cli class=\\\"menu__item is-leaf leaf menu-mlid-142711 main-nav--menu-item --main-nav--menu-item even depth-3 no-children\\\" data-position=\\\"8\\\"\u003e\u003ca href=\\\"/briefing-room/nominations-and-appointments\\\" class=\\\"menu__link\\\"\u003eNominations \u0026amp; Appointments\u003c/a\u003e\u003c/li\u003e\\\\n\u003cli class=\\\"menu__item is-leaf last leaf menu-mlid-142716 main-nav--menu-item --main-nav--menu-item odd depth-3 no-children\\\" data-position=\\\"9\\\"\u003e\u003ca href=\\\"/briefing-room/disclosures\\\" class=\\\"menu__link\\\"\u003eDisclosures\u003c/a\u003e\u003c/li\u003e\\\\n\u003c/ul\u003e\u003c/li\u003e\\\\n\u003c/div\u003e\u003c/ul\u003e\u003c/li\u003e\\\\n\u003cli class=\\\"expanded menu-mlid-5826 main-nav--menu-item --main-nav--menu-item odd depth-1 children children-4\\\" data-position=\\\"3\\\"\u003e\u003ca href=\\\"https://obamawhitehouse.archives.gov/issues\\\"\u003eIssues\u003ci class=\\\\'fa fa-angle-down\\\\'\u003e\u003c/i\u003e\u003c/a\u003e\u003cul class=\\\"menu\\\"\u003e\u003cdiv class=\\\"depth-2-wrapper\\\"\u003e\u003cli class=\\\"menu__item is-expanded first expanded menu-mlid-5931 main-nav--menu-item --main-nav--menu-item odd depth-2 children children-5 menu-featured\\\" data-position=\\\"1\\\"\u003e\u003cspan class=\\\"menu__link nolink\\\" tabindex=\\\"0\\\"\u003ePopular Topics\u003c/span\u003e\u003cul class=\\\"menu\\\"\u003e\u003cli class=\\\"menu__item is-leaf first leaf menu-mlid-763306 main-nav--menu-item --main-nav--menu-item odd depth-3 no-children\\\" data-position=\\\"1\\\"\u003e\u003ca href=\\\"/the-record\\\" class=\\\"menu__link\\\"\u003eThe Record\u003c/a\u003e\u003c/li\u003e\\\\n\u003cli class=\\\"menu__item is-leaf leaf menu-mlid-766791 main-nav--menu-item --main-nav--menu-item even depth-3 no-children\\\" data-position=\\\"2\\\"\u003e\u003ca href=\\\"https://obamawhitehouse.archives.gov/administration/cabinet/exit-memos\\\" class=\\\"menu__link\\\"\u003eCabinet Exit Memos\u003c/a\u003e\u003c/li\u003e\\\\n\u003cli class=\\\"menu__item is-leaf leaf menu-mlid-1044606 main-nav--menu-item --main-nav--menu-item odd depth-3 no-children\\\" data-position=\\\"3\\\"\u003e\u003ca href=\\\"https://obamawhitehouse.archives.gov/issues/criminal-justice-reform\\\" class=\\\"menu__link\\\"\u003eCriminal Justice Reform\u003c/a\u003e\u003c/li\u003e\\\\n\u003cli class=\\\"menu__item is-leaf leaf menu-mlid-905166 main-nav--menu-item --main-nav--menu-item even depth-3 no-children\\\" data-position=\\\"4\\\"\u003e\u003ca href=\\\"https://obamawhitehouse.archives.gov/issues/foreign-policy/cuba\\\" class=\\\"menu__link\\\"\u003eCuba\u003c/a\u003e\u003c/li\u003e\\\\n\u003cli class=\\\"menu__item is-leaf last leaf menu-mlid-5966 main-nav--menu-item --main-nav--menu-item odd depth-3 no-children\\\" data-position=\\\"5\\\"\u003e\u003ca href=\\\"https://obamawhitehouse.archives.gov/issues\\\" class=\\\"menu__link\\\"\u003eSee All\u003c/a\u003e\u003c/li\u003e\\\\n\u003c/ul\u003e\u003c/li\u003e\\\\n\u003cli class=\\\"menu__item is-expanded expanded menu-mlid-5936 main-nav--menu-item --main-nav--menu-item even depth-2 children children-8\\\" data-position=\\\"2\\\"\u003e\u003cspan class=\\\"menu__link nolink\\\" tabindex=\\\"0\\\"\u003eTop Issues\u003c/span\u003e\u003cul class=\\\"menu\\\"\u003e\u003cli class=\\\"menu__item is-leaf first leaf menu-mlid-5996 main-nav--menu-item --main-nav--menu-item odd depth-3 no-children\\\" data-position=\\\"1\\\"\u003e\u003ca href=\\\"https://obamawhitehouse.archives.gov/issues/civil-rights\\\" class=\\\"menu__link\\\"\u003eCivil Rights\u003c/a\u003e\u003c/li\u003e\\\\n\u003cli class=\\\"menu__item is-leaf leaf menu-mlid-5951 main-nav--menu-item --main-nav--menu-item even depth-3 no-children\\\" data-position=\\\"2\\\"\u003e\u003ca href=\\\"https://obamawhitehouse.archives.gov/climate-change\\\" class=\\\"menu__link\\\"\u003eClimate Change\u003c/a\u003e\u003c/li\u003e\\\\n\u003cli class=\\\"menu__item is-leaf leaf menu-mlid-5971 main-nav--menu-item --main-nav--menu-item odd depth-3 no-children\\\" data-position=\\\"3\\\"\u003e\u003ca href=\\\"https://obamawhitehouse.archives.gov/economy\\\" class=\\\"menu__link\\\"\u003eEconomy\u003c/a\u003e\u003c/li\u003e\\\\n\u003cli class=\\\"menu__item is-leaf leaf menu-mlid-5976 main-nav--menu-item --main-nav--menu-item even depth-3 no-children\\\" data-position=\\\"4\\\"\u003e\u003ca href=\\\"https://obamawhitehouse.archives.gov/education\\\" class=\\\"menu__link\\\"\u003eEducation\u003c/a\u003e\u003c/li\u003e\\\\n\u003cli class=\\\"menu__item is-leaf leaf menu-mlid-5981 main-nav--menu-item --main-nav--menu-item odd depth-3 no-children\\\" data-position=\\\"5\\\"\u003e\u003ca href=\\\"https://obamawhitehouse.archives.gov/issues/foreign-policy\\\" class=\\\"menu__link\\\"\u003eForeign Policy\u003c/a\u003e\u003c/li\u003e\\\\n\u003cli class=\\\"menu__item is-leaf is-parent leaf has-children menu-mlid-5986 main-nav--menu-item --main-nav--menu-item even depth-3 no-children\\\" data-position=\\\"6\\\"\u003e\u003ca href=\\\"https://obamawhitehouse.archives.gov/the-record/health-care\\\" class=\\\"menu__link\\\"\u003eHealth Care\u003c/a\u003e\u003c/li\u003e\\\\n\u003cli class=\\\"menu__item is-leaf leaf menu-mlid-627051 main-nav--menu-item --main-nav--menu-item odd depth-3 no-children\\\" data-position=\\\"7\\\"\u003e\u003ca href=\\\"https://obamawhitehouse.archives.gov/issues/foreign-policy/iran-deal\\\" class=\\\"menu__link\\\"\u003eIran Deal\u003c/a\u003e\u003c/li\u003e\\\\n\u003cli class=\\\"menu__item is-leaf last leaf menu-mlid-35246 main-nav--menu-item --main-nav--menu-item even depth-3 no-children\\\" data-position=\\\"8\\\"\u003e\u003ca href=\\\"https://obamawhitehouse.archives.gov/issues/immigration/immigration-action\\\" class=\\\"menu__link\\\"\u003eImmigration Action\u003c/a\u003e\u003c/li\u003e\\\\n\u003c/ul\u003e\u003c/li\u003e\\\\n\u003cli class=\\\"menu__item is-expanded expanded menu-mlid-7321 main-nav--menu-item --main-nav--menu-item odd depth-2 children children-8\\\" data-position=\\\"3\\\"\u003e\u003cspan class=\\\"menu__link nolink\\\" tabindex=\\\"0\\\"\u003eMore\u003c/span\u003e\u003cul class=\\\"menu\\\"\u003e\u003cli class=\\\"menu__item is-leaf first leaf menu-mlid-131696 main-nav--menu-item --main-nav--menu-item odd depth-3 no-children\\\" data-position=\\\"1\\\"\u003e\u003ca href=\\\"/issues/defense\\\" class=\\\"menu__link\\\"\u003eDefense\u003c/a\u003e\u003c/li\u003e\\\\n\u003cli class=\\\"menu__item is-leaf leaf menu-mlid-91131 main-nav--menu-item --main-nav--menu-item even depth-3 no-children\\\" data-position=\\\"2\\\"\u003e\u003ca href=\\\"/issues/disabilities\\\" class=\\\"menu__link\\\"\u003eDisabilities\u003c/a\u003e\u003c/li\u003e\\\\n\u003cli class=\\\"menu__item is-leaf leaf menu-mlid-6011 main-nav--menu-item --main-nav--menu-item odd depth-3 no-children\\\" data-position=\\\"3\\\"\u003e\u003ca href=\\\"https://obamawhitehouse.archives.gov/21stcenturygov\\\" class=\\\"menu__link\\\"\u003eEthics\u003c/a\u003e\u003c/li\u003e\\\\n\u003cli class=\\\"menu__item is-leaf leaf menu-mlid-6016 main-nav--menu-item --main-nav--menu-item even depth-3 no-children\\\" data-position=\\\"4\\\"\u003e\u003ca href=\\\"https://obamawhitehouse.archives.gov/issues/equal-pay\\\" class=\\\"menu__link\\\"\u003eEqual Pay\u003c/a\u003e\u003c/li\u003e\\\\n\u003cli class=\\\"menu__item is-leaf leaf menu-mlid-131731 main-nav--menu-item --main-nav--menu-item odd depth-3 no-children\\\" data-position=\\\"5\\\"\u003e\u003ca href=\\\"/issues/homeland-security\\\" class=\\\"menu__link\\\"\u003eHomeland Security\u003c/a\u003e\u003c/li\u003e\\\\n\u003cli class=\\\"menu__item is-leaf leaf menu-mlid-6066 main-nav--menu-item --main-nav--menu-item even depth-3 no-children\\\" data-position=\\\"6\\\"\u003e\u003ca href=\\\"https://obamawhitehouse.archives.gov/blog/2016/01/04/live-updates-what-president-doing-keep-guns-out-wrong-hands\\\" class=\\\"menu__link\\\"\u003eReducing Gun Violence\u003c/a\u003e\u003c/li\u003e\\\\n\u003cli class=\\\"menu__item is-leaf leaf menu-mlid-6031 main-nav--menu-item --main-nav--menu-item odd depth-3 no-children\\\" data-position=\\\"7\\\"\u003e\u003ca href=\\\"https://obamawhitehouse.archives.gov/administration/eop/rural-council\\\" class=\\\"menu__link\\\"\u003eRural\u003c/a\u003e\u003c/li\u003e\\\\n\u003cli class=\\\"menu__item is-leaf last leaf menu-mlid-145746 main-nav--menu-item --main-nav--menu-item even depth-3 no-children\\\" data-position=\\\"8\\\"\u003e\u003ca href=\\\"/issues/service\\\" class=\\\"menu__link\\\"\u003eService\u003c/a\u003e\u003c/li\u003e\\\\n\u003c/ul\u003e\u003c/li\u003e\\\\n\u003cli class=\\\"menu__item is-expanded last expanded menu-mlid-5941 main-nav--menu-item --main-nav--menu-item even depth-2 children children-7\\\" data-position=\\\"4\\\"\u003e\u003cspan class=\\\"menu__link nolink\\\" tabindex=\\\"0\\\"\u003eMore\u003c/span\u003e\u003cul class=\\\"menu\\\"\u003e\u003cli class=\\\"menu__item is-leaf first leaf menu-mlid-132791 main-nav--menu-item --main-nav--menu-item odd depth-3 no-children\\\" data-position=\\\"1\\\"\u003e\u003ca href=\\\"/issues/seniors-and-social-security\\\" class=\\\"menu__link\\\"\u003eSeniors \u0026amp; Social Security\u003c/a\u003e\u003c/li\u003e\\\\n\u003cli class=\\\"menu__item is-leaf leaf menu-mlid-127311 main-nav--menu-item --main-nav--menu-item even depth-3 no-children\\\" data-position=\\\"2\\\"\u003e\u003ca href=\\\"/issues/taxes\\\" class=\\\"menu__link\\\"\u003eTaxes\u003c/a\u003e\u003c/li\u003e\\\\n\u003cli class=\\\"menu__item is-leaf leaf menu-mlid-123561 main-nav--menu-item --main-nav--menu-item odd depth-3 no-children\\\" data-position=\\\"3\\\"\u003e\u003ca href=\\\"/issues/technology\\\" class=\\\"menu__link\\\"\u003eTechnology\u003c/a\u003e\u003c/li\u003e\\\\n\u003cli class=\\\"menu__item is-leaf leaf menu-mlid-93756 main-nav--menu-item --main-nav--menu-item even depth-3 no-children\\\" data-position=\\\"4\\\"\u003e\u003ca href=\\\"https://obamawhitehouse.archives.gov/trade\\\" class=\\\"menu__link\\\"\u003eTrade\u003c/a\u003e\u003c/li\u003e\\\\n\u003cli class=\\\"menu__item is-leaf leaf menu-mlid-6056 main-nav--menu-item --main-nav--menu-item odd depth-3 no-children\\\" data-position=\\\"5\\\"\u003e\u003ca href=\\\"https://obamawhitehouse.archives.gov/issues/urban-and-economic-mobility\\\" class=\\\"menu__link\\\"\u003eUrban and Economic Mobility\u003c/a\u003e\u003c/li\u003e\\\\n\u003cli class=\\\"menu__item is-leaf leaf menu-mlid-6061 main-nav--menu-item --main-nav--menu-item even depth-3 no-children\\\" data-position=\\\"6\\\"\u003e\u003ca href=\\\"https://obamawhitehouse.archives.gov/issues/veterans\\\" class=\\\"menu__link\\\"\u003eVeterans\u003c/a\u003e\u003c/li\u003e\\\\n\u003cli class=\\\"menu__item is-leaf last leaf menu-mlid-6071 main-nav--menu-item --main-nav--menu-item odd depth-3 no-children\\\" data-position=\\\"7\\\"\u003e\u003ca href=\\\"https://obamawhitehouse.archives.gov/issues/women\\\" class=\\\"menu__link\\\"\u003eWomen\u003c/a\u003e\u003c/li\u003e\\\\n\u003c/ul\u003e\u003c/li\u003e\\\\n\u003c/div\u003e\u003c/ul\u003e\u003c/li\u003e\\\\n\u003cli class=\\\"expanded menu-mlid-5831 main-nav--menu-item --main-nav--menu-item even depth-1 children children-4\\\" data-position=\\\"4\\\"\u003e\u003ca href=\\\"https://obamawhitehouse.archives.gov/administration\\\"\u003eThe Administration\u003ci class=\\\\'fa fa-angle-down\\\\'\u003e\u003c/i\u003e\u003c/a\u003e\u003cul class=\\\"menu\\\"\u003e\u003cdiv class=\\\"depth-2-wrapper\\\"\u003e\u003cli class=\\\"menu__item is-expanded first expanded menu-mlid-6076 main-nav--menu-item --main-nav--menu-item odd depth-2 children children-8\\\" data-position=\\\"1\\\"\u003e\u003cspan class=\\\"menu__link nolink\\\" tabindex=\\\"0\\\"\u003ePeople\u003c/span\u003e\u003cul class=\\\"menu\\\"\u003e\u003cli class=\\\"menu__item is-leaf first leaf menu-mlid-45996 main-nav--menu-item --main-nav--menu-item odd depth-3 no-children\\\" data-position=\\\"1\\\"\u003e\u003ca href=\\\"/administration/president-obama\\\" class=\\\"menu__link\\\"\u003ePresident Barack Obama\u003c/a\u003e\u003c/li\u003e\\\\n\u003cli class=\\\"menu__item is-leaf leaf menu-mlid-6106 main-nav--menu-item --main-nav--menu-item even depth-3 no-children\\\" data-position=\\\"2\\\"\u003e\u003ca href=\\\"http://obamawhitehouse.archives.gov/vp\\\" class=\\\"menu__link\\\"\u003eVice President Joe Biden\u003c/a\u003e\u003c/li\u003e\\\\n\u003cli class=\\\"menu__item is-leaf leaf menu-mlid-45356 main-nav--menu-item --main-nav--menu-item odd depth-3 no-children\\\" data-position=\\\"3\\\"\u003e\u003ca href=\\\"/administration/first-lady-michelle-obama\\\" class=\\\"menu__link\\\"\u003eFirst Lady Michelle Obama\u003c/a\u003e\u003c/li\u003e\\\\n\u003cli class=\\\"menu__item is-leaf leaf menu-mlid-45961 main-nav--menu-item --main-nav--menu-item even depth-3 no-children\\\" data-position=\\\"4\\\"\u003e\u003ca href=\\\"/administration/jill-biden\\\" class=\\\"menu__link\\\"\u003eDr. Jill Biden\u003c/a\u003e\u003c/li\u003e\\\\n\u003cli class=\\\"menu__item is-leaf leaf menu-mlid-35121 main-nav--menu-item --main-nav--menu-item odd depth-3 no-children\\\" data-position=\\\"5\\\"\u003e\u003ca href=\\\"/administration/cabinet\\\" class=\\\"menu__link\\\"\u003eThe Cabinet\u003c/a\u003e\u003c/li\u003e\\\\n\u003cli class=\\\"menu__item is-leaf leaf menu-mlid-89106 main-nav--menu-item --main-nav--menu-item even depth-3 no-children\\\" data-position=\\\"6\\\"\u003e\u003ca href=\\\"/administration/eop\\\" class=\\\"menu__link\\\"\u003eExecutive Office of the President\u003c/a\u003e\u003c/li\u003e\\\\n\u003cli class=\\\"menu__item is-leaf leaf menu-mlid-89236 main-nav--menu-item --main-nav--menu-item odd depth-3 no-children\\\" data-position=\\\"7\\\"\u003e\u003ca href=\\\"/administration/senior-leadership\\\" class=\\\"menu__link\\\"\u003eSenior White House Leadership\u003c/a\u003e\u003c/li\u003e\\\\n\u003cli class=\\\"menu__item is-leaf last leaf menu-mlid-46031 main-nav--menu-item --main-nav--menu-item even depth-3 no-children\\\" data-position=\\\"8\\\"\u003e\u003ca href=\\\"/administration/other-advisory-boards\\\" class=\\\"menu__link\\\"\u003eOther Advisory Boards\u003c/a\u003e\u003c/li\u003e\\\\n\u003c/ul\u003e\u003c/li\u003e\\\\n\u003cli class=\\\"menu__item is-expanded expanded menu-mlid-6081 main-nav--menu-item --main-nav--menu-item even depth-2 children children-6\\\" data-position=\\\"2\\\"\u003e\u003cspan class=\\\"menu__link nolink\\\" tabindex=\\\"0\\\"\u003eExecutive Offices\u003c/span\u003e\u003cul class=\\\"menu\\\"\u003e\u003cli class=\\\"menu__item is-leaf is-parent first leaf has-children menu-mlid-6126 main-nav--menu-item --main-nav--menu-item odd depth-3 no-children\\\" data-position=\\\"1\\\"\u003e\u003ca href=\\\"https://obamawhitehouse.archives.gov/omb\\\" class=\\\"menu__link\\\"\u003eOffice of Management and Budget\u003c/a\u003e\u003c/li\u003e\\\\n\u003cli class=\\\"menu__item is-leaf is-parent leaf has-children menu-mlid-6136 main-nav--menu-item --main-nav--menu-item even depth-3 no-children\\\" data-position=\\\"2\\\"\u003e\u003ca href=\\\"https://obamawhitehouse.archives.gov/administration/eop/ostp\\\" class=\\\"menu__link\\\"\u003eOffice of Science and Technology Policy\u003c/a\u003e\u003c/li\u003e\\\\n\u003cli class=\\\"menu__item is-leaf leaf menu-mlid-6141 main-nav--menu-item --main-nav--menu-item odd depth-3 no-children\\\" data-position=\\\"3\\\"\u003e\u003ca href=\\\"https://obamawhitehouse.archives.gov/administration/eop/cea\\\" class=\\\"menu__link\\\"\u003eCouncil of Economic Advisers\u003c/a\u003e\u003c/li\u003e\\\\n\u003cli class=\\\"menu__item is-leaf is-parent leaf has-children menu-mlid-6146 main-nav--menu-item --main-nav--menu-item even depth-3 no-children\\\" data-position=\\\"4\\\"\u003e\u003ca href=\\\"https://obamawhitehouse.archives.gov/administration/eop/ceq\\\" class=\\\"menu__link\\\"\u003eCouncil on Environmental Quality\u003c/a\u003e\u003c/li\u003e\\\\n\u003cli class=\\\"menu__item is-leaf is-parent leaf has-children menu-mlid-204286 main-nav--menu-item --main-nav--menu-item odd depth-3 no-children\\\" data-position=\\\"5\\\"\u003e\u003ca href=\\\"https://obamawhitehouse.archives.gov/administration/eop/nsc/\\\" class=\\\"menu__link\\\"\u003eNational Security Council\u003c/a\u003e\u003c/li\u003e\\\\n\u003cli class=\\\"menu__item is-leaf last leaf menu-mlid-6151 main-nav--menu-item --main-nav--menu-item even depth-3 no-children\\\" data-position=\\\"6\\\"\u003e\u003ca href=\\\"https://obamawhitehouse.archives.gov/administration/eop\\\" class=\\\"menu__link\\\"\u003eSee All\u003c/a\u003e\u003c/li\u003e\\\\n\u003c/ul\u003e\u003c/li\u003e\\\\n\u003cli class=\\\"menu__item is-expanded expanded menu-mlid-6086 main-nav--menu-item --main-nav--menu-item odd depth-2 children children-5\\\" data-position=\\\"3\\\"\u003e\u003cspan class=\\\"menu__link nolink\\\" tabindex=\\\"0\\\"\u003eInitiatives\u003c/span\u003e\u003cul class=\\\"menu\\\"\u003e\u003cli class=\\\"menu__item is-leaf first leaf menu-mlid-6156 main-nav--menu-item --main-nav--menu-item odd depth-3 no-children\\\" data-position=\\\"1\\\"\u003e\u003ca href=\\\"http://letsmove.obamawhitehouse.archives.gov\\\" class=\\\"menu__link\\\"\u003eLets Move\u003c/a\u003e\u003c/li\u003e\\\\n\u003cli class=\\\"menu__item is-leaf leaf menu-mlid-6161 main-nav--menu-item --main-nav--menu-item even depth-3 no-children\\\" data-position=\\\"2\\\"\u003e\u003ca href=\\\"https://obamawhitehouse.archives.gov/joiningforces\\\" class=\\\"menu__link\\\"\u003eJoining Forces\u003c/a\u003e\u003c/li\u003e\\\\n\u003cli class=\\\"menu__item is-leaf leaf menu-mlid-233951 main-nav--menu-item --main-nav--menu-item odd depth-3 no-children\\\" data-position=\\\"3\\\"\u003e\u003ca href=\\\"https://obamawhitehouse.archives.gov/reach-higher\\\" class=\\\"menu__link\\\"\u003eReach Higher\u003c/a\u003e\u003c/li\u003e\\\\n\u003cli class=\\\"menu__item is-leaf leaf menu-mlid-433701 main-nav--menu-item --main-nav--menu-item even depth-3 no-children\\\" data-position=\\\"4\\\"\u003e\u003ca href=\\\"https://obamawhitehouse.archives.gov/my-brothers-keeper\\\" class=\\\"menu__link\\\"\u003eMy Brother\u0026#039;s Keeper\u003c/a\u003e\u003c/li\u003e\\\\n\u003cli class=\\\"menu__item is-leaf last leaf menu-mlid-1179601 main-nav--menu-item --main-nav--menu-item odd depth-3 no-children\\\" data-position=\\\"5\\\"\u003e\u003ca href=\\\"https://obamawhitehouse.archives.gov/precision-medicine\\\" class=\\\"menu__link\\\"\u003ePrecision Medicine\u003c/a\u003e\u003c/li\u003e\\\\n\u003c/ul\u003e\u003c/li\u003e\\\\n\u003cli class=\\\"menu__item is-expanded last expanded menu-mlid-6091 main-nav--menu-item --main-nav--menu-item even depth-2 children children-3\\\" data-position=\\\"4\\\"\u003e\u003cspan class=\\\"menu__link nolink\\\" tabindex=\\\"0\\\"\u003eSpecial Events\u003c/span\u003e\u003cul class=\\\"menu\\\"\u003e\u003cli class=\\\"menu__item is-leaf first leaf menu-mlid-6176 main-nav--menu-item --main-nav--menu-item odd depth-3 no-children\\\" data-position=\\\"1\\\"\u003e\u003ca href=\\\"https://obamawhitehouse.archives.gov/sotu\\\" class=\\\"menu__link\\\"\u003eState of the Union\u003c/a\u003e\u003c/li\u003e\\\\n\u003cli class=\\\"menu__item is-leaf leaf menu-mlid-6181 main-nav--menu-item --main-nav--menu-item even depth-3 no-children\\\" data-position=\\\"2\\\"\u003e\u003ca href=\\\"https://obamawhitehouse.archives.gov/inauguration-2013\\\" class=\\\"menu__link\\\"\u003eInauguration\u003c/a\u003e\u003c/li\u003e\\\\n\u003cli class=\\\"menu__item is-leaf last leaf menu-mlid-6186 main-nav--menu-item --main-nav--menu-item odd depth-3 no-children\\\" data-position=\\\"3\\\"\u003e\u003ca href=\\\"https://obamawhitehouse.archives.gov/medal-of-freedom\\\" class=\\\"menu__link\\\"\u003eMedal of Freedom\u003c/a\u003e\u003c/li\u003e\\\\n\u003c/ul\u003e\u003c/li\u003e\\\\n\u003c/div\u003e\u003c/ul\u003e\u003c/li\u003e\\\\n\u003cli class=\\\"expanded menu-mlid-5836 main-nav--menu-item --main-nav--menu-item odd depth-1 children children-3\\\" data-position=\\\"5\\\"\u003e\u003ca href=\\\"https://obamawhitehouse.archives.gov/participate\\\"\u003eParticipate\u003ci class=\\\\'fa fa-angle-down\\\\'\u003e\u003c/i\u003e\u003c/a\u003e\u003cul class=\\\"menu\\\"\u003e\u003cdiv class=\\\"depth-2-wrapper\\\"\u003e\u003cli class=\\\"menu__item is-expanded first expanded menu-mlid-6191 main-nav--menu-item --main-nav--menu-item odd depth-2 children children-5\\\" data-position=\\\"1\\\"\u003e\u003cspan class=\\\"menu__link nolink\\\" tabindex=\\\"0\\\"\u003eDigital\u003c/span\u003e\u003cul class=\\\"menu\\\"\u003e\u003cli class=\\\"menu__item is-leaf first leaf menu-mlid-6206 main-nav--menu-item --main-nav--menu-item odd depth-3 no-children\\\" data-position=\\\"1\\\"\u003e\u003ca href=\\\"https://obamawhitehouse.archives.gov/engage\\\" class=\\\"menu__link\\\"\u003eFollow Us on Social Media\u003c/a\u003e\u003c/li\u003e\\\\n\u003cli class=\\\"menu__item is-leaf leaf menu-mlid-148731 main-nav--menu-item --main-nav--menu-item even depth-3 no-children\\\" data-position=\\\"2\\\"\u003e\u003ca href=\\\"/we-the-geeks\\\" class=\\\"menu__link\\\"\u003eWe the Geeks Hangouts\u003c/a\u003e\u003c/li\u003e\\\\n\u003cli class=\\\"menu__item is-leaf leaf menu-mlid-6226 main-nav--menu-item --main-nav--menu-item odd depth-3 no-children\\\" data-position=\\\"3\\\"\u003e\u003ca href=\\\"https://obamawhitehouse.archives.gov/mobile\\\" class=\\\"menu__link\\\"\u003eMobile Apps\u003c/a\u003e\u003c/li\u003e\\\\n\u003cli class=\\\"menu__item is-leaf is-parent leaf has-children menu-mlid-148766 main-nav--menu-item --main-nav--menu-item even depth-3 no-children\\\" data-position=\\\"4\\\"\u003e\u003ca href=\\\"/developers\\\" class=\\\"menu__link\\\"\u003eDeveloper Tools\u003c/a\u003e\u003c/li\u003e\\\\n\u003cli class=\\\"menu__item is-leaf last leaf menu-mlid-89171 main-nav--menu-item --main-nav--menu-item odd depth-3 no-children\\\" data-position=\\\"5\\\"\u003e\u003ca href=\\\"https://obamawhitehouse.archives.gov/tools\\\" class=\\\"menu__link\\\"\u003eTools You Can Use\u003c/a\u003e\u003c/li\u003e\\\\n\u003c/ul\u003e\u003c/li\u003e\\\\n\u003cli class=\\\"menu__item is-expanded expanded menu-mlid-6196 main-nav--menu-item --main-nav--menu-item even depth-2 children children-7\\\" data-position=\\\"2\\\"\u003e\u003cspan class=\\\"menu__link nolink\\\" tabindex=\\\"0\\\"\u003eJoin Us\u003c/span\u003e\u003cul class=\\\"menu\\\"\u003e\u003cli class=\\\"menu__item is-leaf first leaf menu-mlid-108026 main-nav--menu-item --main-nav--menu-item odd depth-3 no-children\\\" data-position=\\\"1\\\"\u003e\u003ca href=\\\"/participate/tours-and-events\\\" class=\\\"menu__link\\\"\u003eTours \u0026amp; Events\u003c/a\u003e\u003c/li\u003e\\\\n\u003cli class=\\\"menu__item is-leaf leaf menu-mlid-6241 main-nav--menu-item --main-nav--menu-item even depth-3 no-children\\\" data-position=\\\"2\\\"\u003e\u003ca href=\\\"https://apply.whitehouse.gov/\\\" class=\\\"menu__link\\\"\u003eJobs with the Administration\u003c/a\u003e\u003c/li\u003e\\\\n\u003cli class=\\\"menu__item is-leaf is-parent leaf has-children menu-mlid-112596 main-nav--menu-item --main-nav--menu-item odd depth-3 no-children\\\" data-position=\\\"3\\\"\u003e\u003ca href=\\\"/participate/internships\\\" class=\\\"menu__link\\\"\u003eInternships\u003c/a\u003e\u003c/li\u003e\\\\n\u003cli class=\\\"menu__item is-leaf is-parent leaf has-children menu-mlid-207321 main-nav--menu-item --main-nav--menu-item even depth-3 no-children\\\" data-position=\\\"4\\\"\u003e\u003ca href=\\\"/participate/fellows\\\" class=\\\"menu__link\\\"\u003eWhite House Fellows\u003c/a\u003e\u003c/li\u003e\\\\n\u003cli class=\\\"menu__item is-leaf leaf menu-mlid-152651 main-nav--menu-item --main-nav--menu-item odd depth-3 no-children\\\" data-position=\\\"5\\\"\u003e\u003ca href=\\\"/innovationfellows\\\" class=\\\"menu__link\\\"\u003ePresidential Innovation Fellows\u003c/a\u003e\u003c/li\u003e\\\\n\u003cli class=\\\"menu__item is-leaf leaf menu-mlid-1096661 main-nav--menu-item --main-nav--menu-item even depth-3 no-children\\\" data-position=\\\"6\\\"\u003e\u003ca href=\\\"/participate/united-states-digital-service\\\" class=\\\"menu__link\\\"\u003eUnited States Digital Service\u003c/a\u003e\u003c/li\u003e\\\\n\u003cli class=\\\"menu__item is-leaf is-parent last leaf has-children menu-mlid-291136 main-nav--menu-item --main-nav--menu-item odd depth-3 no-children\\\" data-position=\\\"7\\\"\u003e\u003ca href=\\\"/participate/whldp\\\" class=\\\"menu__link\\\"\u003eLeadership Development Program\u003c/a\u003e\u003c/li\u003e\\\\n\u003c/ul\u003e\u003c/li\u003e\\\\n\u003cli class=\\\"menu__item is-expanded last expanded menu-mlid-6201 main-nav--menu-item --main-nav--menu-item odd depth-2 children children-4\\\" data-position=\\\"3\\\"\u003e\u003cspan class=\\\"menu__link nolink\\\" tabindex=\\\"0\\\"\u003eSpeak Out\u003c/span\u003e\u003cul class=\\\"menu\\\"\u003e\u003cli class=\\\"menu__item is-leaf first leaf menu-mlid-6261 main-nav--menu-item --main-nav--menu-item odd depth-3 no-children\\\" data-position=\\\"1\\\"\u003e\u003ca href=\\\"https://petitions.obamawhitehouse.archives.gov\\\" class=\\\"menu__link\\\"\u003eWe the People Petitions\u003c/a\u003e\u003c/li\u003e\\\\n\u003cli class=\\\"menu__item is-leaf leaf menu-mlid-6266 main-nav--menu-item --main-nav--menu-item even depth-3 no-children\\\" data-position=\\\"2\\\"\u003e\u003ca href=\\\"https://obamawhitehouse.archives.gov/contact\\\" class=\\\"menu__link\\\"\u003eContact the White House\u003c/a\u003e\u003c/li\u003e\\\\n\u003cli class=\\\"menu__item is-leaf leaf menu-mlid-6271 main-nav--menu-item --main-nav--menu-item odd depth-3 no-children\\\" data-position=\\\"3\\\"\u003e\u003ca href=\\\"https://obamawhitehouse.archives.gov/citizensmedal/criteria\\\" class=\\\"menu__link\\\"\u003eCitizens Medal\u003c/a\u003e\u003c/li\u003e\\\\n\u003cli class=\\\"menu__item is-leaf last leaf menu-mlid-6281 main-nav--menu-item --main-nav--menu-item even depth-3 no-children\\\" data-position=\\\"4\\\"\u003e\u003ca href=\\\"https://obamawhitehouse.archives.gov/champions\\\" class=\\\"menu__link\\\"\u003eChampions of Change\u003c/a\u003e\u003c/li\u003e\\\\n\u003c/ul\u003e\u003c/li\u003e\\\\n\u003c/div\u003e\u003c/ul\u003e\u003c/li\u003e\\\\n\u003cli class=\\\"last expanded menu-mlid-5841 main-nav--menu-item --main-nav--menu-item even depth-1 children children-3\\\" data-position=\\\"6\\\"\u003e\u003ca href=\\\"https://obamawhitehouse.archives.gov/1600\\\"\u003e1600 Penn\u003ci class=\\\\'fa fa-angle-down\\\\'\u003e\u003c/i\u003e\u003c/a\u003e\u003cul class=\\\"menu\\\"\u003e\u003cdiv class=\\\"depth-2-wrapper\\\"\u003e\u003cli class=\\\"menu__item is-expanded first expanded menu-mlid-6291 main-nav--menu-item --main-nav--menu-item odd depth-2 children children-6\\\" data-position=\\\"1\\\"\u003e\u003cspan class=\\\"menu__link nolink\\\" tabindex=\\\"0\\\"\u003eInside the White House\u003c/span\u003e\u003cul class=\\\"menu\\\"\u003e\u003cli class=\\\"menu__item is-leaf first leaf menu-mlid-6311 main-nav--menu-item --main-nav--menu-item odd depth-3 no-children\\\" data-position=\\\"1\\\"\u003e\u003ca href=\\\"https://obamawhitehouse.archives.gov/about/inside-white-house/west-wing-tour\\\" class=\\\"menu__link\\\"\u003eWest Wing Tour\u003c/a\u003e\u003c/li\u003e\\\\n\u003cli class=\\\"menu__item is-leaf leaf menu-mlid-6306 main-nav--menu-item --main-nav--menu-item even depth-3 no-children\\\" data-position=\\\"2\\\"\u003e\u003ca href=\\\"https://obamawhitehouse.archives.gov/about/inside-white-house/eeob-tour\\\" class=\\\"menu__link\\\"\u003eEisenhower Executive Office Building Tour\u003c/a\u003e\u003c/li\u003e\\\\n\u003cli class=\\\"menu__item is-leaf leaf menu-mlid-6316 main-nav--menu-item --main-nav--menu-item odd depth-3 no-children\\\" data-position=\\\"3\\\"\u003e\u003ca href=\\\"https://obamawhitehouse.archives.gov/about/inside-white-house/video-series\\\" class=\\\"menu__link\\\"\u003eVideo Series\u003c/a\u003e\u003c/li\u003e\\\\n\u003cli class=\\\"menu__item is-leaf leaf menu-mlid-6321 main-nav--menu-item --main-nav--menu-item even depth-3 no-children\\\" data-position=\\\"4\\\"\u003e\u003ca href=\\\"https://obamawhitehouse.archives.gov/about/inside-white-house/art\\\" class=\\\"menu__link\\\"\u003eD\\\\xc3\\\\xa9cor and Art\u003c/a\u003e\u003c/li\u003e\\\\n\u003cli class=\\\"menu__item is-leaf leaf menu-mlid-6326 main-nav--menu-item --main-nav--menu-item odd depth-3 no-children\\\" data-position=\\\"5\\\"\u003e\u003ca href=\\\"https://obamawhitehouse.archives.gov/holidays\\\" class=\\\"menu__link\\\"\u003eHolidays\u003c/a\u003e\u003c/li\u003e\\\\n\u003cli class=\\\"menu__item is-leaf last leaf menu-mlid-6336 main-nav--menu-item --main-nav--menu-item even depth-3 no-children\\\" data-position=\\\"6\\\"\u003e\u003ca href=\\\"https://obamawhitehouse.archives.gov/about/inside-white-house\\\" class=\\\"menu__link\\\"\u003eSee All\u003c/a\u003e\u003c/li\u003e\\\\n\u003c/ul\u003e\u003c/li\u003e\\\\n\u003cli class=\\\"menu__item is-expanded expanded menu-mlid-6296 main-nav--menu-item --main-nav--menu-item even depth-2 children children-6\\\" data-position=\\\"2\\\"\u003e\u003cspan class=\\\"menu__link nolink\\\" tabindex=\\\"0\\\"\u003eHistory \u0026amp; Grounds\u003c/span\u003e\u003cul class=\\\"menu\\\"\u003e\u003cli class=\\\"menu__item is-leaf first leaf menu-mlid-86676 main-nav--menu-item --main-nav--menu-item odd depth-3 no-children\\\" data-position=\\\"1\\\"\u003e\u003ca href=\\\"/1600/Presidents\\\" class=\\\"menu__link\\\"\u003ePresidents\u003c/a\u003e\u003c/li\u003e\\\\n\u003cli class=\\\"menu__item is-leaf leaf menu-mlid-86891 main-nav--menu-item --main-nav--menu-item even depth-3 no-children\\\" data-position=\\\"2\\\"\u003e\u003ca href=\\\"/1600/first-ladies\\\" class=\\\"menu__link\\\"\u003eFirst Ladies\u003c/a\u003e\u003c/li\u003e\\\\n\u003cli class=\\\"menu__item is-leaf leaf menu-mlid-93186 main-nav--menu-item --main-nav--menu-item odd depth-3 no-children\\\" data-position=\\\"3\\\"\u003e\u003ca href=\\\"/1600/vp-residence\\\" class=\\\"menu__link\\\"\u003eThe Vice President\u0026#039;s Residence \u0026amp; Office\u003c/a\u003e\u003c/li\u003e\\\\n\u003cli class=\\\"menu__item is-leaf leaf menu-mlid-93191 main-nav--menu-item --main-nav--menu-item even depth-3 no-children\\\" data-position=\\\"4\\\"\u003e\u003ca href=\\\"/1600/eeob\\\" class=\\\"menu__link\\\"\u003eEisenhower Executive Office Building\u003c/a\u003e\u003c/li\u003e\\\\n\u003cli class=\\\"menu__item is-leaf leaf menu-mlid-93181 main-nav--menu-item --main-nav--menu-item odd depth-3 no-children\\\" data-position=\\\"5\\\"\u003e\u003ca href=\\\"/1600/camp-david\\\" class=\\\"menu__link\\\"\u003eCamp David\u003c/a\u003e\u003c/li\u003e\\\\n\u003cli class=\\\"menu__item is-leaf last leaf menu-mlid-91831 main-nav--menu-item --main-nav--menu-item even depth-3 no-children\\\" data-position=\\\"6\\\"\u003e\u003ca href=\\\"/1600/air-force-one\\\" class=\\\"menu__link\\\"\u003eAir Force One\u003c/a\u003e\u003c/li\u003e\\\\n\u003c/ul\u003e\u003c/li\u003e\\\\n\u003cli class=\\\"menu__item is-expanded last expanded menu-mlid-6301 main-nav--menu-item --main-nav--menu-item odd depth-2 children children-8\\\" data-position=\\\"3\\\"\u003e\u003cspan class=\\\"menu__link nolink\\\" tabindex=\\\"0\\\"\u003eOur Government\u003c/span\u003e\u003cul class=\\\"menu\\\"\u003e\u003cli class=\\\"menu__item is-leaf first leaf menu-mlid-93196 main-nav--menu-item --main-nav--menu-item odd depth-3 no-children\\\" data-position=\\\"1\\\"\u003e\u003ca href=\\\"/1600/executive-branch\\\" class=\\\"menu__link\\\"\u003eThe Executive Branch\u003c/a\u003e\u003c/li\u003e\\\\n\u003cli class=\\\"menu__item is-leaf leaf menu-mlid-93201 main-nav--menu-item --main-nav--menu-item even depth-3 no-children\\\" data-position=\\\"2\\\"\u003e\u003ca href=\\\"/1600/legislative-branch\\\" class=\\\"menu__link\\\"\u003eThe Legislative Branch\u003c/a\u003e\u003c/li\u003e\\\\n\u003cli class=\\\"menu__item is-leaf leaf menu-mlid-93206 main-nav--menu-item --main-nav--menu-item odd depth-3 no-children\\\" data-position=\\\"3\\\"\u003e\u003ca href=\\\"/1600/judicial-branch\\\" class=\\\"menu__link\\\"\u003eThe Judicial Branch\u003c/a\u003e\u003c/li\u003e\\\\n\u003cli class=\\\"menu__item is-leaf leaf menu-mlid-93211 main-nav--menu-item --main-nav--menu-item even depth-3 no-children\\\" data-position=\\\"4\\\"\u003e\u003ca href=\\\"/1600/constitution\\\" class=\\\"menu__link\\\"\u003eThe Constitution\u003c/a\u003e\u003c/li\u003e\\\\n\u003cli class=\\\"menu__item is-leaf leaf menu-mlid-93216 main-nav--menu-item --main-nav--menu-item odd depth-3 no-children\\\" data-position=\\\"5\\\"\u003e\u003ca href=\\\"/1600/federal-agencies-and-commissions\\\" class=\\\"menu__link\\\"\u003eFederal Agencies \u0026amp; Commissions\u003c/a\u003e\u003c/li\u003e\\\\n\u003cli class=\\\"menu__item is-leaf leaf menu-mlid-93231 main-nav--menu-item --main-nav--menu-item even depth-3 no-children\\\" data-position=\\\"6\\\"\u003e\u003ca href=\\\"/1600/elections-and-voting\\\" class=\\\"menu__link\\\"\u003eElections \u0026amp; Voting\u003c/a\u003e\u003c/li\u003e\\\\n\u003cli class=\\\"menu__item is-leaf leaf menu-mlid-93226 main-nav--menu-item --main-nav--menu-item odd depth-3 no-children\\\" data-position=\\\"7\\\"\u003e\u003ca href=\\\"/1600/state-and-local-government\\\" class=\\\"menu__link\\\"\u003eState \u0026amp; Local Government\u003c/a\u003e\u003c/li\u003e\\\\n\u003cli class=\\\"menu__item is-leaf last leaf menu-mlid-93221 main-nav--menu-item --main-nav--menu-item even depth-3 no-children\\\" data-position=\\\"8\\\"\u003e\u003ca href=\\\"/1600/resources\\\" class=\\\"menu__link\\\"\u003eResources\u003c/a\u003e\u003c/li\u003e\\\\n\u003c/ul\u003e\u003c/li\u003e\\\\n\u003c/div\u003e\u003c/ul\u003e\u003c/li\u003e\\\\n\u003c/ul\u003e\u003c/div\u003e\\\\n  \u003c/div\u003e\\\\n\u003c/div\u003e\\\\n\u003cdiv class=\\\"panel-pane pane-block pane-search-form sitewide-header--search-form\\\"  \u003e\\\\n  \\\\n      \\\\n  \\\\n  \u003cform action=\\\"//search.archives.gov/search\\\" method=\\\"get\\\" id=\\\"search-block-form\\\" accept-charset=\\\"UTF-8\\\"\u003e\u003cdiv\u003e\u003cdiv class=\\\"container-inline\\\"\u003e\\\\n      \u003ch2 class=\\\"element-invisible\\\"\u003eSearch form\u003c/h2\u003e\\\\n    \u003cdiv class=\\\"form-item form-type-textfield form-item-query\\\"\u003e\\\\n  \u003clabel class=\\\"element-invisible\\\" for=\\\"edit-search-block-form--2\\\"\u003eSearch \u003c/label\u003e\\\\n \u003cinput title=\\\"Enter the terms you wish to search for.\\\" type=\\\"text\\\" id=\\\"edit-search-block-form--2\\\" name=\\\"query\\\" value=\\\"\\\" size=\\\"15\\\" maxlength=\\\"128\\\" class=\\\"form-text\\\" /\u003e\\\\n\u003c/div\u003e\\\\n\u003cdiv class=\\\"form-actions form-wrapper\\\" id=\\\"edit-actions\\\"\u003e\u003cinput type=\\\"submit\\\" id=\\\"edit-submit\\\" name=\\\"op\\\" value=\\\"Search\\\" class=\\\"form-submit\\\" /\u003e\u003c/div\u003e\u003cinput type=\\\"hidden\\\" name=\\\"affiliate\\\" value=\\\"obamawhitehouse\\\" /\u003e\\\\n\u003c/div\u003e\\\\n\u003c/div\u003e\u003c/form\u003e\\\\n  \\\\n  \u003c/div\u003e\\\\n    \u003c/div\u003e\\\\n  \u003c/div\u003e\\\\n\u003c/div\u003e\\\\n\u003cdiv class=\\\"whr-wrapper\\\"\u003e\\\\n  \u003cdiv class=\\\"panel-pane pane-page-breadcrumb\\\"  \u003e\\\\n  \\\\n      \\\\n  \\\\n  \u003cnav class=\\\"breadcrumb\\\" role=\\\"navigation\\\"\u003e\u003ch2 class=\\\"element-invisible\\\"\u003eYou are here\u003c/h2\u003e\u003col\u003e\u003cli\u003e\u003ca href=\\\"/\\\"\u003eHome\u003c/a\u003e\u003c/li\u003e\u003cli\u003e\u003ca href=\\\"/briefing-room\\\"\u003eBriefing Room\u003c/a\u003e\u003c/li\u003e\u003cli\u003e\u003ca href=\\\"/briefing-room/speeches-and-remarks\\\"\u003eSpeeches \u0026amp; Remarks\u003c/a\u003e\u003c/li\u003e\u003c/ol\u003e\u003c/nav\u003e\\\\n  \\\\n  \u003c/div\u003e\\\\n\u003c/div\u003e\\\\n\\\\n\\\\n\u003c/div\u003e\\\\n  \u003c/header\u003e\\\\n    \u003cdiv class=\\\"panel-panel panel-wrapper panel-col-section-all\\\"\u003e\\\\n\\\\n      \u003cdiv class=\\\"panel-panel panel-col panel-col-section-menu\\\"\u003e\\\\n       \u003cdiv class=\\\"panel-pane pane-block pane-menu-block-forall-secondary-nav\\\"  \u003e\\\\n  \\\\n        \u003ch2 class=\\\"pane-title\\\"\u003e\\\\n      Briefing Room    \u003c/h2\u003e\\\\n    \\\\n  \\\\n  \u003cdiv class=\\\"menu-block-wrapper menu-block-forall_secondary_nav menu-name-sixteenhundred-main-nav parent-mlid-0 menu-level-3\\\"\u003e\\\\n  \u003cul class=\\\"menu\\\"\u003e\u003cli class=\\\"menu__item is-leaf first leaf odd depth-3 no-children\\\" data-position=\\\"1\\\"\u003e\u003ca href=\\\"/briefing-room/weekly-address\\\" class=\\\"menu__link\\\"\u003eYour Weekly Address\u003c/a\u003e\u003c/li\u003e\\\\n\u003cli class=\\\"menu__item is-leaf is-active-trail leaf active-trail even depth-3 no-children\\\" data-position=\\\"2\\\"\u003e\u003ca href=\\\"/briefing-room/speeches-and-remarks\\\" class=\\\"menu__link is-active is-active-trail active active-trail\\\"\u003eSpeeches \u0026amp; Remarks\u003c/a\u003e\u003c/li\u003e\\\\n\u003cli class=\\\"menu__item is-leaf leaf odd depth-3 no-children\\\" data-position=\\\"3\\\"\u003e\u003ca href=\\\"/briefing-room/press-briefings\\\" class=\\\"menu__link\\\"\u003ePress Briefings\u003c/a\u003e\u003c/li\u003e\\\\n\u003cli class=\\\"menu__item is-leaf leaf even depth-3 no-children\\\" data-position=\\\"4\\\"\u003e\u003ca href=\\\"/briefing-room/statements-and-releases\\\" class=\\\"menu__link\\\"\u003eStatements \u0026amp; Releases\u003c/a\u003e\u003c/li\u003e\\\\n\u003cli class=\\\"menu__item is-leaf leaf odd depth-3 no-children\\\" data-position=\\\"5\\\"\u003e\u003ca href=\\\"https://obamawhitehouse.archives.gov/blog#today\\\" class=\\\"menu__link\\\"\u003eWhite House Schedule\u003c/a\u003e\u003c/li\u003e\\\\n\u003cli class=\\\"menu__item is-expanded expanded even depth-3 children children-3\\\" data-position=\\\"6\\\"\u003e\u003ca href=\\\"/briefing-room/presidential-actions\\\" class=\\\"menu__link\\\"\u003ePresidential Actions\u003c/a\u003e\u003cul class=\\\"menu\\\"\u003e\u003cli class=\\\"menu__item is-leaf first leaf odd depth-4 no-children\\\" data-position=\\\"1\\\"\u003e\u003ca href=\\\"/briefing-room/presidential-actions/executive-orders\\\" class=\\\"menu__link\\\"\u003eExecutive Orders\u003c/a\u003e\u003c/li\u003e\\\\n\u003cli class=\\\"menu__item is-leaf leaf even depth-4 no-children\\\" data-position=\\\"2\\\"\u003e\u003ca href=\\\"/briefing-room/presidential-actions/presidential-memoranda\\\" class=\\\"menu__link\\\"\u003ePresidential Memoranda\u003c/a\u003e\u003c/li\u003e\\\\n\u003cli class=\\\"menu__item is-leaf last leaf odd depth-4 no-children\\\" data-position=\\\"3\\\"\u003e\u003ca href=\\\"/briefing-room/presidential-actions/proclamations\\\" class=\\\"menu__link\\\"\u003eProclamations\u003c/a\u003e\u003c/li\u003e\\\\n\u003c/ul\u003e\u003c/li\u003e\\\\n\u003cli class=\\\"menu__item is-leaf leaf odd depth-3 children children-3\\\" data-position=\\\"7\\\"\u003e\u003ca href=\\\"/briefing-room/legislation\\\" class=\\\"menu__link\\\"\u003eLegislation\u003c/a\u003e\u003cul class=\\\"menu\\\"\u003e\u003cli class=\\\"menu__item is-leaf first leaf odd depth-4 no-children\\\" data-position=\\\"1\\\"\u003e\u003ca href=\\\"/briefing-room/pending-legislation\\\" class=\\\"menu__link\\\"\u003ePending Legislation\u003c/a\u003e\u003c/li\u003e\\\\n\u003cli class=\\\"menu__item is-leaf leaf even depth-4 no-children\\\" data-position=\\\"2\\\"\u003e\u003ca href=\\\"/briefing-room/signed-legislation\\\" class=\\\"menu__link\\\"\u003eSigned Legislation\u003c/a\u003e\u003c/li\u003e\\\\n\u003cli class=\\\"menu__item is-leaf last leaf odd depth-4 no-children\\\" data-position=\\\"3\\\"\u003e\u003ca href=\\\"/briefing-room/vetoed-legislation\\\" class=\\\"menu__link\\\"\u003eVetoed Legislation\u003c/a\u003e\u003c/li\u003e\\\\n\u003c/ul\u003e\u003c/li\u003e\\\\n\u003cli class=\\\"menu__item is-leaf leaf even depth-3 no-children\\\" data-position=\\\"8\\\"\u003e\u003ca href=\\\"/briefing-room/nominations-and-appointments\\\" class=\\\"menu__link\\\"\u003eNominations \u0026amp; Appointments\u003c/a\u003e\u003c/li\u003e\\\\n\u003cli class=\\\"menu__item is-leaf last leaf odd depth-3 no-children\\\" data-position=\\\"9\\\"\u003e\u003ca href=\\\"/briefing-room/disclosures\\\" class=\\\"menu__link\\\"\u003eDisclosures\u003c/a\u003e\u003c/li\u003e\\\\n\u003c/ul\u003e\u003c/div\u003e\\\\n\\\\n  \\\\n  \u003c/div\u003e\\\\n      \u003c/div\u003e\\\\n\\\\n      \u003cdiv id=\\\"content-start\\\" class=\\\"panel-panel panel-col panel-col-section-content\\\" tabindex=\\\"-1\\\"\u003e\\\\n       \u003cdiv class=\\\"panel-pane pane-custom pane-1 clearfix\\\" \u003e\\\\n      \u003cdiv class=\\\"videos-intro-field videos-intro-forall-body forall-body\\\"\u003e\\\\n      \u003cdiv class=\\\"whr-read-more-wrapper\\\"\u003e\\\\n        \u003cdiv class=\\\"press-article-header-wrapper\\\"\u003e\\\\n  \u003cdiv id=\\\"press_article_heading\\\" class=\\\"press-article-heading\\\"\u003e\\\\n    \u003cdiv id=\\\"press_article_heading_title\\\" class=\\\"heading-title\\\"\u003eThe White House\u003c/div\u003e\\\\n    \u003cdiv id=\\\"press_article_heading_subtitle\\\" class=\\\"heading-subtitle\\\"\u003eOffice of the Press Secretary\u003c/div\u003e\\\\n  \u003c/div\u003e\\\\n  \u003cdiv id=\\\"press_article_subheading\\\" class=\\\"clearfix press-article-subheading\\\"\u003e\\\\n    \u003cdiv id=\\\"press_article_immediate_release\\\" class=\\\"press-article-release\\\"\u003eFor Immediate Release\u003c/div\u003e\\\\n    \u003cdiv id=\\\"press_article_date_created\\\" class=\\\"press-article-date\\\"\u003eJanuary 21, 2013\u003c/div\u003e\\\\n  \u003c/div\u003e\\\\n\u003c/div\u003e      \u003c/div\u003e\\\\n    \u003c/div\u003e\\\\n  \u003c/div\u003e\\\\n\u003cdiv class=\\\"panel-pane pane-node-title\\\"  \u003e\\\\n  \\\\n      \\\\n  \\\\n  \u003ch1\u003eInaugural Address by President Barack Obama\u003c/h1\u003e\\\\n\\\\n  \\\\n  \u003c/div\u003e\\\\n\u003cdiv class=\\\"panel-pane pane-entity-field pane-node-field-forall-body\\\"  \u003e\\\\n  \\\\n      \\\\n  \\\\n  \\\\n  \u003cdiv class=\\\"field field-name-field-forall-body field-type-text-long field-label-hidden forall-body\\\"\u003e\\\\n        \u003cdiv class=\\\"field-items\\\"\u003e\\\\n              \u003cdiv class=\\\"field-item even\\\"\u003e\u003cp\u003e\u0026nbsp;\u003c/p\u003e\\\\n\u003cdiv class=\\\"rtecenter\\\"\u003e\\\\n\\\\tUnited States Capitol\u003c/div\u003e\\\\n\u003cdiv\u003e\\\\n\\\\t\u0026nbsp;\u003c/div\u003e\\\\n\u003cdiv\u003e\\\\n\\\\t\u0026nbsp;\u003c/div\u003e\\\\n\u003cdiv\u003e\\\\n\\\\t11:55 A.M. EST\u003c/div\u003e\\\\n\u003cdiv\u003e\\\\n\\\\t\u0026nbsp;\u003c/div\u003e\\\\n\u003cdiv\u003e\\\\n\\\\t\u0026nbsp;\u003c/div\u003e\\\\n\u003cdiv\u003e\\\\n\\\\tTHE PRESIDENT: \u0026nbsp;Vice President Biden, Mr. Chief Justice,\u003c/div\u003e\\\\n\u003cdiv\u003e\\\\n\\\\tmembers of the United States Congress, distinguished guests, and fellow citizens: \u0026nbsp;\u003c/div\u003e\\\\n\u003cdiv\u003e\\\\n\\\\t\u0026nbsp;\u003c/div\u003e\\\\n\u003cdiv\u003e\\\\n\\\\tEach time we gather to inaugurate a President we bear witness to the enduring strength of our Constitution. \u0026nbsp;We affirm the promise of our democracy. \u0026nbsp;We recall that what binds this nation together is not the colors of our skin or the tenets of our faith or the origins of our names. \u0026nbsp;What makes us exceptional -- what makes us American -- is our allegiance to an idea articulated in a declaration made more than two centuries ago:\u003c/div\u003e\\\\n\u003cdiv\u003e\\\\n\\\\t\u0026ldquo;We hold these truths to be self-evident, that all men are created equal; that they are endowed by their Creator with certain unalienable rights; that among these are life, liberty, and the pursuit of happiness.\u0026rdquo; \u0026nbsp;\u003c/div\u003e\\\\n\u003cdiv\u003e\\\\n\\\\t\u0026nbsp;\u003c/div\u003e\\\\n\u003cdiv\u003e\\\\n\\\\tToday we continue a never-ending journey to bridge the meaning of those words with the realities of our time. \u0026nbsp;For history tells us that while these truths may be self-evident, they\u0026rsquo;ve never been self-executing; that while freedom is a gift from God, it must be secured by His people here on Earth. \u0026nbsp;(Applause.) \u0026nbsp;The patriots of 1776 did not fight to replace the tyranny of a king with the privileges of a few or the rule of a mob. \u0026nbsp;They gave to us a republic, a government of, and by, and for the people, entrusting each generation to keep safe our founding creed. \u0026nbsp;\u003c/div\u003e\\\\n\u003cdiv\u003e\\\\n\\\\t\u0026nbsp;\u003c/div\u003e\\\\n\u003cdiv\u003e\\\\n\\\\tAnd for more than two hundred years, we have. \u0026nbsp;\u003c/div\u003e\\\\n\u003cdiv\u003e\\\\n\\\\t\u0026nbsp;\u003c/div\u003e\\\\n\u003cdiv\u003e\\\\n\\\\tThrough blood drawn by lash and blood drawn by sword, we learned that no union founded on the principles of liberty and equality could survive half-slave and half-free. \u0026nbsp;We made ourselves anew, and vowed to move forward together. \u0026nbsp;\u003c/div\u003e\\\\n\u003cdiv\u003e\\\\n\\\\t\u0026nbsp;\u003c/div\u003e\\\\n\u003cdiv\u003e\\\\n\\\\tTogether, we determined that a modern economy requires railroads and highways to speed travel and commerce, schools and colleges to train our workers.\u0026nbsp;\u003c/div\u003e\\\\n\u003cdiv\u003e\\\\n\\\\t\u0026nbsp;\u003c/div\u003e\\\\n\u003cdiv\u003e\\\\n\\\\tTogether, we discovered that a free market only thrives when there are rules to ensure competition and fair play. \u0026nbsp;\u003c/div\u003e\\\\n\u003cdiv\u003e\\\\n\\\\t\u0026nbsp;\u003c/div\u003e\\\\n\u003cdiv\u003e\\\\n\\\\tTogether, we resolved that a great nation must care for the vulnerable, and protect its people from life\u0026rsquo;s worst hazards and misfortune.\u0026nbsp;\u003c/div\u003e\\\\n\u003cdiv\u003e\\\\n\\\\t\u0026nbsp;\u003c/div\u003e\\\\n\u003cdiv\u003e\\\\n\\\\tThrough it all, we have never relinquished our skepticism of central authority, nor have we succumbed to the fiction that all society\u0026rsquo;s ills can be cured through government alone. \u0026nbsp;Our celebration of initiative and enterprise, our insistence on hard work and personal responsibility, these are constants in our character.\u003c/div\u003e\\\\n\u003cdiv\u003e\\\\n\\\\t\u0026nbsp;\u003c/div\u003e\\\\n\u003cdiv\u003e\\\\n\\\\tBut we have always understood that when times change, so must we; that fidelity to our founding principles requires new responses to new challenges; that preserving our individual freedoms ultimately requires collective action. \u0026nbsp;For the American people can no more meet the demands of today\u0026rsquo;s world by acting alone than American soldiers could have met the forces of fascism or communism with muskets and militias. \u0026nbsp;No single person can train all the math and science teachers we\u0026rsquo;ll need to equip our children for the future, or build the roads and networks and research labs that will bring new jobs and businesses to our shores. \u0026nbsp;Now, more than ever, we must do these things together, as one nation and one people. \u0026nbsp;(Applause.)\u0026nbsp;\u003c/div\u003e\\\\n\u003cdiv\u003e\\\\n\\\\t\u0026nbsp;\u003c/div\u003e\\\\n\u003cdiv\u003e\\\\n\\\\tThis generation of Americans has been tested by crises that steeled our resolve and proved our resilience. \u0026nbsp;A decade of war is now ending. \u0026nbsp;(Applause.) \u0026nbsp;An economic recovery has begun. \u0026nbsp;(Applause.) \u0026nbsp;America\u0026rsquo;s possibilities are limitless, for we possess all the qualities that this world without boundaries demands: \u0026nbsp;youth and drive; diversity and openness; an endless capacity for risk and a gift for reinvention. \u0026nbsp;My fellow Americans, we are made for this moment, and we will seize it -- so long as we seize it together. \u0026nbsp;(Applause.) \u0026nbsp;\u003c/div\u003e\\\\n\u003cdiv\u003e\\\\n\\\\t\u0026nbsp;\u003c/div\u003e\\\\n\u003cdiv\u003e\\\\n\\\\tFor we, the people, understand that our country cannot succeed when a shrinking few do very well and a growing many barely make it. \u0026nbsp;(Applause.) \u0026nbsp;We believe that America\u0026rsquo;s prosperity must rest upon the broad shoulders of a rising middle class. \u0026nbsp;We know that America thrives when every person can find independence and pride in their work; when the wages of honest labor liberate families from the brink of hardship. \u0026nbsp;We are true to our creed when a little girl born into the bleakest poverty knows that she has the same chance to succeed as anybody else, because she is an American; she is free, and she is equal, not just in the eyes of God but also in our own. \u0026nbsp;(Applause.) \u0026nbsp;\u0026nbsp;\u003c/div\u003e\\\\n\u003cdiv\u003e\\\\n\\\\t\u0026nbsp;\u003c/div\u003e\\\\n\u003cdiv\u003e\\\\n\\\\tWe understand that outworn programs are inadequate to the needs of our time. \u0026nbsp;So we must harness new ideas and technology to remake our government, revamp our tax code, reform our schools, and empower our citizens with the skills they need to work harder, learn more, reach higher. \u0026nbsp;But while the means will change, our purpose endures: \u0026nbsp;a nation that rewards the effort and determination of every single American. \u0026nbsp;That is what this moment requires. \u0026nbsp;That is what will give real meaning to our creed. \u0026nbsp;\u0026nbsp;\u003c/div\u003e\\\\n\u003cdiv\u003e\\\\n\\\\t\u0026nbsp;\u003c/div\u003e\\\\n\u003cdiv\u003e\\\\n\\\\tWe, the people, still believe that every citizen deserves a basic measure of security and dignity. \u0026nbsp;We must make the hard choices to reduce the cost of health care and the size of our deficit. \u0026nbsp;But we reject the belief that America must choose between caring for the generation that built this country and investing in the generation that will build its future. \u0026nbsp;(Applause.) \u0026nbsp;For we remember the lessons of our past, when twilight years were spent in poverty and parents of a child with a disability had nowhere to turn.\u0026nbsp;\u003c/div\u003e\\\\n\u003cdiv\u003e\\\\n\\\\t\u0026nbsp;\u003c/div\u003e\\\\n\u003cdiv\u003e\\\\n\\\\tWe do not believe that in this country freedom is reserved for the lucky, or happiness for the few. \u0026nbsp;We recognize that no matter how responsibly we live our lives, any one of us at any time may face a job loss, or a sudden illness, or a home swept away in a terrible storm. \u0026nbsp;The commitments we make to each other through Medicare and Medicaid and Social Security, these things do not sap our initiative, they strengthen us. \u0026nbsp;(Applause.) \u0026nbsp;They do not make us a nation of takers; they free us to take the risks that make this country great. \u0026nbsp;(Applause.) \u0026nbsp;\u003c/div\u003e\\\\n\u003cdiv\u003e\\\\n\\\\t\u0026nbsp;\u003c/div\u003e\\\\n\u003cdiv\u003e\\\\n\\\\tWe, the people, still believe that our obligations as Americans are not just to ourselves, but to all posterity. \u0026nbsp;We will respond to the threat of climate change, knowing that the failure to do so would betray our children and future generations. \u0026nbsp;(Applause.) \u0026nbsp;Some may still deny the overwhelming judgment of science, but none can avoid the devastating impact of raging fires and crippling drought and more powerful storms. \u0026nbsp;\u003c/div\u003e\\\\n\u003cdiv\u003e\\\\n\\\\t\u0026nbsp;\u003c/div\u003e\\\\n\u003cdiv\u003e\\\\n\\\\tThe path towards sustainable energy sources will be long and sometimes difficult. \u0026nbsp;But America cannot resist this transition, we must lead it. \u0026nbsp;We cannot cede to other nations the technology that will power new jobs and new industries, we must claim its promise. \u0026nbsp;That\u0026rsquo;s how we will maintain our economic vitality and our national treasure -- our forests and waterways, our crop lands and snow-capped peaks. \u0026nbsp;That is how we will preserve our planet, commanded to our care by God. \u0026nbsp;That\u0026rsquo;s what will lend meaning to the creed our fathers once declared.\u003c/div\u003e\\\\n\u003cdiv\u003e\\\\n\\\\t\u0026nbsp;\u003c/div\u003e\\\\n\u003cdiv\u003e\\\\n\\\\tWe, the people, still believe that enduring security and lasting peace do not require perpetual war. \u0026nbsp;(Applause.) \u0026nbsp;Our brave men and women in uniform, tempered by the flames of battle, are unmatched in skill and courage. \u0026nbsp;(Applause.) \u0026nbsp;Our citizens, seared by the memory of those we have lost, know too well the price that is paid for liberty. \u0026nbsp;The knowledge of their sacrifice will keep us forever vigilant against those who would do us harm. But we are also heirs to those who won the peace and not just the war; who turned sworn enemies into the surest of friends -- and we must carry those lessons into this time as well.\u003c/div\u003e\\\\n\u003cdiv\u003e\\\\n\\\\t\u0026nbsp;\u003c/div\u003e\\\\n\u003cdiv\u003e\\\\n\\\\tWe will defend our people and uphold our values through strength of arms and rule of law. \u0026nbsp;We will show the courage to try and resolve our differences with other nations peacefully \u0026ndash;- not because we are na\u0026iuml;ve about the dangers we face, but because engagement can more durably lift suspicion and fear. \u0026nbsp;(Applause.)\u003c/div\u003e\\\\n\u003cdiv\u003e\\\\n\\\\t\u0026nbsp;\u003c/div\u003e\\\\n\u003cdiv\u003e\\\\n\\\\tAmerica will remain the anchor of strong alliances in every corner of the globe. \u0026nbsp;And we will renew those institutions that extend our capacity to manage crisis abroad, for no one has a greater stake in a peaceful world than its most powerful nation. \u0026nbsp;We will support democracy from Asia to Africa, from the Americas to the Middle East, because our interests and our conscience compel us to act on behalf of those who long for freedom. \u0026nbsp;And we must be a source of hope to the poor, the sick, the marginalized, the victims of prejudice \u0026ndash;- not out of mere charity, but because peace in our time requires the constant advance of those principles that our common creed describes: \u0026nbsp;tolerance and opportunity, human dignity and justice. \u0026nbsp;\u003c/div\u003e\\\\n\u003cdiv\u003e\\\\n\\\\t\u0026nbsp;\u003c/div\u003e\\\\n\u003cdiv\u003e\\\\n\\\\tWe, the people, declare today that the most evident of truths \u0026ndash;- that all of us are created equal \u0026ndash;- is the star that guides us still; just as it guided our forebears through Seneca Falls, and Selma, and Stonewall; just as it guided all those men and women, sung and unsung, who left footprints along this great Mall, to hear a preacher say that we cannot walk alone; to hear a King proclaim that our individual freedom is inextricably bound to the freedom of every soul on Earth. \u0026nbsp;(Applause.)\u0026nbsp;\u003c/div\u003e\\\\n\u003cdiv\u003e\\\\n\\\\t\u0026nbsp;\u003c/div\u003e\\\\n\u003cdiv\u003e\\\\n\\\\tIt is now our generation\u0026rsquo;s task to carry on what those pioneers began. \u0026nbsp;For our journey is not complete until our wives, our mothers and daughters can earn a living equal to their efforts. \u0026nbsp;(Applause.) \u0026nbsp;Our journey is not complete until our gay brothers and sisters are treated like anyone else under the law \u0026nbsp;\u0026ndash;- (applause) -- for if we are truly created equal, then surely the love we commit to one another must be equal as well. \u0026nbsp;(Applause.) \u0026nbsp;Our journey is not complete until no citizen is forced to wait for hours to exercise the right to vote. \u0026nbsp;(Applause.) \u0026nbsp;Our journey is not complete until we find a better way to welcome the striving, hopeful immigrants who still see America as a land of opportunity -- (applause) -- until bright young students and engineers are enlisted in our workforce rather than expelled from our country. \u0026nbsp;(Applause.) \u0026nbsp; Our journey is not complete until all our children, from the streets of Detroit to the hills of Appalachia, to the quiet lanes of Newtown, know that they are cared for and cherished and always safe from harm. \u0026nbsp;\u003c/div\u003e\\\\n\u003cdiv\u003e\\\\n\\\\t\u0026nbsp;\u003c/div\u003e\\\\n\u003cdiv\u003e\\\\n\\\\tThat is our generation\u0026rsquo;s task -- to make these words, these rights, these values of life and liberty and the pursuit of happiness real for every American. \u0026nbsp;Being true to our founding documents does not require us to agree on every contour of life. It does not mean we all define liberty in exactly the same way or follow the same precise path to happiness. \u0026nbsp;Progress does not compel us to settle centuries-long debates about the role of government for all time, but it does require us to act in our time. \u0026nbsp;(Applause.) \u0026nbsp;\u003c/div\u003e\\\\n\u003cdiv\u003e\\\\n\\\\t\u0026nbsp;\u003c/div\u003e\\\\n\u003cdiv\u003e\\\\n\\\\tFor now decisions are upon us and we cannot afford delay. \u0026nbsp;We cannot mistake absolutism for principle, or substitute spectacle for politics, or treat name-calling as reasoned debate. \u0026nbsp;(Applause.) \u0026nbsp;We must act, knowing that our work will be imperfect. \u0026nbsp;We must act, knowing that today\u0026rsquo;s victories will be only partial and that it will be up to those who stand here in four years and 40 years and 400 years hence to advance the timeless spirit once conferred to us in a spare Philadelphia hall.\u0026nbsp;\u003c/div\u003e\\\\n\u003cdiv\u003e\\\\n\\\\t\u0026nbsp;\u003c/div\u003e\\\\n\u003cdiv\u003e\\\\n\\\\tMy fellow Americans, the oath I have sworn before you today, like the one recited by others who serve in this Capitol, was an oath to God and country, not party or faction. \u0026nbsp;And we must faithfully execute that pledge during the duration of our service. \u0026nbsp;But the words I spoke today are not so different from the oath that is taken each time a soldier signs up for duty or an immigrant realizes her dream. \u0026nbsp;My oath is not so different from the pledge we all make to the flag that waves above and that fills our hearts with pride. \u0026nbsp;\u003c/div\u003e\\\\n\u003cdiv\u003e\\\\n\\\\t\u0026nbsp;\u003c/div\u003e\\\\n\u003cdiv\u003e\\\\n\\\\tThey are the words of citizens and they represent our greatest hope. \u0026nbsp;You and I, as citizens, have the power to set this country\u0026rsquo;s course. \u0026nbsp;You and I, as citizens, have the obligation to shape the debates of our time -- not only with the votes we cast, but with the voices we lift in defense of our most ancient values and enduring ideals. \u0026nbsp;(Applause.) \u0026nbsp;\u003c/div\u003e\\\\n\u003cdiv\u003e\\\\n\\\\t\u0026nbsp;\u003c/div\u003e\\\\n\u003cdiv\u003e\\\\n\\\\tLet us, each of us, now embrace with solemn duty and awesome joy what is our lasting birthright. \u0026nbsp;With common effort and common purpose, with passion and dedication, let us answer the call of history and carry into an uncertain future that precious light of freedom. \u0026nbsp;\u003c/div\u003e\\\\n\u003cdiv\u003e\\\\n\\\\t\u0026nbsp;\u003c/div\u003e\\\\n\u003cdiv\u003e\\\\n\\\\tThank you. \u0026nbsp;God bless you, and may He forever bless these United States of America. \u0026nbsp;(Applause.) \u0026nbsp;\u003c/div\u003e\\\\n\u003cdiv\u003e\\\\n\\\\t\u0026nbsp;\u003c/div\u003e\\\\n\u003cdiv\u003e\\\\n\\\\t\u0026nbsp;\u003c/div\u003e\\\\n\u003cdiv\u003e\\\\n\\\\tEND\u003c/div\u003e\\\\n\u003cdiv\u003e\\\\n\\\\t12:10 P.M. EST\u003c/div\u003e\\\\n\u003c/div\u003e\\\\n          \u003c/div\u003e\\\\n  \u003c/div\u003e\\\\n\\\\n  \\\\n  \u003c/div\u003e\\\\n      \u003c/div\u003e\\\\n\\\\n      \u003cdiv class=\\\"panel-panel panel-col panel-col-section-share\\\"\u003e\\\\n        \u003cdiv id = \\\"section-share-wrapper\\\"\u003e\\\\n                  \u003c/div\u003e\\\\n      \u003c/div\u003e\\\\n\\\\n    \u003c/div\u003e\\\\n  \u003cfooter class=\\\"panel-panel panel-footer\\\"\u003e\\\\n  \\\\n  \u003cfooter class=\\\"panel-pane pane-panels-mini pane-default-sitewide-footer sitewide-footer\\\" \u003e\\\\n    \u003cdiv class=\\\"sitewide-footer__wrapper\\\"\u003e\\\\n      \\\\n  \u003cnav class=\\\"sitewide-footer--social-nav\\\" \u003e\\\\n    \u003cdiv class=\\\"menu-block-wrapper menu-block-ctools-sixteenhundred-social-nav-1 menu-name-sixteenhundred-social-nav parent-mlid-0 menu-level-1\\\"\u003e\\\\n  \u003cul class=\\\"menu\\\"\u003e\u003cli class=\\\"menu__item is-leaf first leaf menu-mlid-6411 horizontal-social-menu--menu-item sitewide-footer--social-nav--horizontal-social-menu--menu-item odd depth-1 no-children\\\" data-position=\\\"1\\\"\u003e\u003ca href=\\\"http://twitter.com/ObamaWhiteHouse\\\" class=\\\"menu__link\\\" title=\\\"Follow the Whitehouse on Twitter.\\\"\u003e\u003cspan class=\\\"fa fa-twitter\\\"\u003e\u003c/span\u003e\u003cspan class=\\\"element-invisible\\\"\u003eTwitter\u003c/span\u003e\u003c/a\u003e\u003c/li\u003e\\\\n\u003cli class=\\\"menu__item is-leaf leaf menu-mlid-6416 horizontal-social-menu--menu-item sitewide-footer--social-nav--horizontal-social-menu--menu-item even depth-1 no-children\\\" data-position=\\\"2\\\"\u003e\u003ca href=\\\"http://instagram.com/ObamaWhiteHouse\\\" class=\\\"menu__link\\\" title=\\\"See the Whitehouse on Instagram.\\\"\u003e\u003cspan class=\\\"fa fa-instagram\\\"\u003e\u003c/span\u003e\u003cspan class=\\\"element-invisible\\\"\u003eInstagram\u003c/span\u003e\u003c/a\u003e\u003c/li\u003e\\\\n\u003cli class=\\\"menu__item is-leaf leaf menu-mlid-6421 horizontal-social-menu--menu-item sitewide-footer--social-nav--horizontal-social-menu--menu-item odd depth-1 no-children\\\" data-position=\\\"3\\\"\u003e\u003ca href=\\\"http://facebook.com/ObamaWhiteHouse\\\" class=\\\"menu__link\\\" title=\\\"Like the Whitehouse on Facebook.\\\"\u003e\u003cspan class=\\\"fa fa-facebook\\\"\u003e\u003c/span\u003e\u003cspan class=\\\"element-invisible\\\"\u003eFacebook\u003c/span\u003e\u003c/a\u003e\u003c/li\u003e\\\\n\u003cli class=\\\"menu__item is-leaf leaf menu-mlid-6426 horizontal-social-menu--menu-item sitewide-footer--social-nav--horizontal-social-menu--menu-item even depth-1 no-children\\\" data-position=\\\"4\\\"\u003e\u003ca href=\\\"https://plus.google.com/+obamawhitehouse\\\" class=\\\"menu__link\\\" title=\\\"Follow the Whitehouse on Google+.\\\"\u003e\u003cspan class=\\\"fa fa-google-plus-square\\\"\u003e\u003c/span\u003e\u003cspan class=\\\"element-invisible\\\"\u003eGoogle+\u003c/span\u003e\u003c/a\u003e\u003c/li\u003e\\\\n\u003cli class=\\\"menu__item is-leaf leaf menu-mlid-6431 horizontal-social-menu--menu-item sitewide-footer--social-nav--horizontal-social-menu--menu-item odd depth-1 no-children\\\" data-position=\\\"5\\\"\u003e\u003ca href=\\\"http://www.youtube.com/ObamaWhiteHouse\\\" title=\\\"Visit The Whitehouse Channel on Youtube.\\\" class=\\\"menu__link\\\"\u003e\u003cspan class=\\\"fa fa-youtube-play\\\"\u003e\u003c/span\u003e\u003cspan class=\\\"element-invisible\\\"\u003eYoutube\u003c/span\u003e\u003c/a\u003e\u003c/li\u003e\\\\n\u003cli class=\\\"menu__item is-leaf leaf menu-mlid-6436 horizontal-social-menu--menu-item sitewide-footer--social-nav--horizontal-social-menu--menu-item even depth-1 no-children\\\" data-position=\\\"6\\\"\u003e\u003ca href=\\\"http://obamawhitehouse.archives.gov/engage\\\" class=\\\"menu__link\\\" title=\\\"More ways to engage with the Whitehouse.\\\"\u003e\u003cspan class=\\\"fa fa-plus\\\"\u003e\u003c/span\u003e\u003cspan class=\\\"element-invisible\\\"\u003eMore ways to engage\u003c/span\u003e\u003c/a\u003e\u003c/li\u003e\\\\n\u003cli class=\\\"menu__item is-leaf leaf menu-mlid-6441 horizontal-social-menu--menu-item sitewide-footer--social-nav--horizontal-social-menu--menu-item odd depth-1 no-children\\\" data-position=\\\"7\\\"\u003e\u003ca href=\\\"http://obamawhitehouse.archives.gov/contact\\\" class=\\\"menu__link sitewide-footer--social-nav__border sitewide-footer--social-nav__contact-link\\\" title=\\\"Contact the Whitehouse.\\\"\u003e\u003cspan class=\\\"fa fa-comment\\\"\u003e\u003c/span\u003e\u003cspan class=\\\"element-invisible\\\"\u003eContact Us\u003c/span\u003e\u003c/a\u003e\u003c/li\u003e\\\\n\u003cli class=\\\"menu__item is-leaf last leaf menu-mlid-6446 horizontal-social-menu--menu-item sitewide-footer--social-nav--horizontal-social-menu--menu-item even depth-1 no-children\\\" data-position=\\\"8\\\"\u003e\u003ca href=\\\"http://obamawhitehouse.archives.gov/email-updates\\\" class=\\\"menu__link sitewide-footer--social-nav__contact-link\\\" title=\\\"Email the Whitehouse.\\\"\u003e\u003cspan class=\\\"fa fa-envelope\\\"\u003e\u003c/span\u003e\u003cspan class=\\\"element-invisible\\\"\u003eEmail\u003c/span\u003e\u003c/a\u003e\u003c/li\u003e\\\\n\u003c/ul\u003e\u003c/div\u003e\\\\n  \u003c/nav\u003e\\\\n\\\\n  \u003cnav class=\\\"panel-pane pane-menu-tree pane-sixteenhundred-main-nav sitewide-footer--main-nav horizontal-3-level-menu\\\" \u003e\\\\n    \u003cdiv class=\\\"menu-block-wrapper menu-block-ctools-sixteenhundred-main-nav-1 menu-name-sixteenhundred-main-nav parent-mlid-0 menu-level-1\\\"\u003e\\\\n  \u003cul class=\\\"menu\\\"\u003e\u003cli class=\\\"menu__item is-leaf first leaf menu-mlid-5816 horizontal-3-level-menu--menu-item sitewide-footer--main-nav--horizontal-3-level-menu--menu-item sitewide-footer--main-nav--menu-level-1 horizontal-3-level-menu__top-item odd depth-1 no-children\\\" data-position=\\\"1\\\"\u003e\u003ca href=\\\"https://obamawhitehouse.archives.gov\\\" class=\\\"menu__link no-header\\\"\u003eHome\u003c/a\u003e\u003c/li\u003e\\\\n\u003cli class=\\\"menu__item is-expanded expanded menu-mlid-5821 horizontal-3-level-menu--menu-item sitewide-footer--main-nav--horizontal-3-level-menu--menu-item sitewide-footer--main-nav--menu-level-1 even depth-1 children children-2\\\" data-position=\\\"2\\\"\u003e\u003ca href=\\\"https://obamawhitehouse.archives.gov/briefing-room\\\" class=\\\"menu__link\\\"\u003eBriefing Room\u003c/a\u003e\u003cul class=\\\"menu\\\"\u003e\u003cli class=\\\"menu__item is-expanded first expanded menu-mlid-5846 horizontal-3-level-menu--menu-item sitewide-footer--main-nav--horizontal-3-level-menu--menu-item sitewide-footer--main-nav--menu-level-2 odd depth-2 children children-6 menu-featured menu-featured-descs\\\" data-position=\\\"1\\\"\u003e\u003cspan class=\\\"menu__link nolink\\\" tabindex=\\\"0\\\"\u003eFrom the News Room\u003c/span\u003e\u003cul class=\\\"menu\\\"\u003e\u003cli class=\\\"menu__item is-leaf first leaf menu-mlid-5856 horizontal-3-level-menu--menu-item sitewide-footer--main-nav--horizontal-3-level-menu--menu-item sitewide-footer--main-nav--menu-level-3 odd depth-3 no-children\\\" data-position=\\\"1\\\"\u003e\u003ca href=\\\"https://obamawhitehouse.archives.gov/blog\\\" title=\\\"Read the latest blog posts from 1600 Pennsylvania Ave\\\" class=\\\"menu__link\\\"\u003eLatest News\u003c/a\u003e\u003c/li\u003e\\\\n\u003cli class=\\\"menu__item is-leaf leaf menu-mlid-5861 horizontal-3-level-menu--menu-item sitewide-footer--main-nav--horizontal-3-level-menu--menu-item sitewide-footer--main-nav--menu-level-3 even depth-3 no-children\\\" data-position=\\\"2\\\"\u003e\u003ca href=\\\"https://obamawhitehouse.archives.gov/share\\\" title=\\\"Check out the most popular infographics and videos\\\" class=\\\"menu__link\\\"\u003eShare-Worthy\u003c/a\u003e\u003c/li\u003e\\\\n\u003cli class=\\\"menu__item is-leaf leaf menu-mlid-5866 horizontal-3-level-menu--menu-item sitewide-footer--main-nav--horizontal-3-level-menu--menu-item sitewide-footer--main-nav--menu-level-3 odd depth-3 no-children\\\" data-position=\\\"3\\\"\u003e\u003ca href=\\\"https://obamawhitehouse.archives.gov/photos\\\" title=\\\"View the photo of the day and other galleries\\\" class=\\\"menu__link\\\"\u003ePhotos\u003c/a\u003e\u003c/li\u003e\\\\n\u003cli class=\\\"menu__item is-leaf leaf menu-mlid-5871 horizontal-3-level-menu--menu-item sitewide-footer--main-nav--horizontal-3-level-menu--menu-item sitewide-footer--main-nav--menu-level-3 even depth-3 no-children\\\" data-position=\\\"4\\\"\u003e\u003ca href=\\\"https://obamawhitehouse.archives.gov/video\\\" title=\\\"Watch behind-the-scenes videos and more\\\" class=\\\"menu__link\\\"\u003eVideo Gallery\u003c/a\u003e\u003c/li\u003e\\\\n\u003cli class=\\\"menu__item is-leaf leaf menu-mlid-7071 horizontal-3-level-menu--menu-item sitewide-footer--main-nav--horizontal-3-level-menu--menu-item sitewide-footer--main-nav--menu-level-3 odd depth-3 no-children\\\" data-position=\\\"5\\\"\u003e\u003ca href=\\\"/live\\\" title=\\\"Tune in to White House events and statements as they happen\\\" class=\\\"menu__link\\\"\u003eLive Events\u003c/a\u003e\u003c/li\u003e\\\\n\u003cli class=\\\"menu__item is-leaf last leaf menu-mlid-5881 horizontal-3-level-menu--menu-item sitewide-footer--main-nav--horizontal-3-level-menu--menu-item sitewide-footer--main-nav--menu-level-3 even depth-3 no-children\\\" data-position=\\\"6\\\"\u003e\u003ca href=\\\"https://obamawhitehouse.archives.gov/performances\\\" title=\\\"See the lineup of artists and performers at the White House\\\" class=\\\"menu__link\\\"\u003eMusic \u0026amp; Arts Performances\u003c/a\u003e\u003c/li\u003e\\\\n\u003c/ul\u003e\u003c/li\u003e\\\\n\u003cli class=\\\"menu__item is-expanded last expanded menu-mlid-77741 horizontal-3-level-menu--menu-item sitewide-footer--main-nav--horizontal-3-level-menu--menu-item sitewide-footer--main-nav--menu-level-2 even depth-2 children children-9\\\" data-position=\\\"2\\\"\u003e\u003cspan class=\\\"menu__link nolink\\\" tabindex=\\\"0\\\"\u003eFrom the Press Office\u003c/span\u003e\u003cul class=\\\"menu\\\"\u003e\u003cli class=\\\"menu__item is-leaf first leaf menu-mlid-5886 horizontal-3-level-menu--menu-item sitewide-footer--main-nav--horizontal-3-level-menu--menu-item sitewide-footer--main-nav--menu-level-3 odd depth-3 no-children\\\" data-position=\\\"1\\\"\u003e\u003ca href=\\\"/briefing-room/weekly-address\\\" class=\\\"menu__link\\\"\u003eYour Weekly Address\u003c/a\u003e\u003c/li\u003e\\\\n\u003cli class=\\\"menu__item is-leaf leaf menu-mlid-5891 horizontal-3-level-menu--menu-item sitewide-footer--main-nav--horizontal-3-level-menu--menu-item sitewide-footer--main-nav--menu-level-3 even depth-3 no-children\\\" data-position=\\\"2\\\"\u003e\u003ca href=\\\"/briefing-room/speeches-and-remarks\\\" class=\\\"menu__link\\\"\u003eSpeeches \u0026amp; Remarks\u003c/a\u003e\u003c/li\u003e\\\\n\u003cli class=\\\"menu__item is-leaf leaf menu-mlid-5896 horizontal-3-level-menu--menu-item sitewide-footer--main-nav--horizontal-3-level-menu--menu-item sitewide-footer--main-nav--menu-level-3 odd depth-3 no-children\\\" data-position=\\\"3\\\"\u003e\u003ca href=\\\"/briefing-room/press-briefings\\\" class=\\\"menu__link\\\"\u003ePress Briefings\u003c/a\u003e\u003c/li\u003e\\\\n\u003cli class=\\\"menu__item is-leaf leaf menu-mlid-5901 horizontal-3-level-menu--menu-item sitewide-footer--main-nav--horizontal-3-level-menu--menu-item sitewide-footer--main-nav--menu-level-3 even depth-3 no-children\\\" data-position=\\\"4\\\"\u003e\u003ca href=\\\"/briefing-room/statements-and-releases\\\" class=\\\"menu__link\\\"\u003eStatements \u0026amp; Releases\u003c/a\u003e\u003c/li\u003e\\\\n\u003cli class=\\\"menu__item is-leaf leaf menu-mlid-5906 horizontal-3-level-menu--menu-item sitewide-footer--main-nav--horizontal-3-level-menu--menu-item sitewide-footer--main-nav--menu-level-3 odd depth-3 no-children\\\" data-position=\\\"5\\\"\u003e\u003ca href=\\\"https://obamawhitehouse.archives.gov/blog#today\\\" class=\\\"menu__link\\\"\u003eWhite House Schedule\u003c/a\u003e\u003c/li\u003e\\\\n\u003cli class=\\\"menu__item is-leaf is-parent leaf has-children menu-mlid-5911 horizontal-3-level-menu--menu-item sitewide-footer--main-nav--horizontal-3-level-menu--menu-item sitewide-footer--main-nav--menu-level-3 even depth-3 no-children\\\" data-position=\\\"6\\\"\u003e\u003ca href=\\\"/briefing-room/presidential-actions\\\" class=\\\"menu__link\\\"\u003ePresidential Actions\u003c/a\u003e\u003c/li\u003e\\\\n\u003cli class=\\\"menu__item is-leaf leaf menu-mlid-5916 horizontal-3-level-menu--menu-item sitewide-footer--main-nav--horizontal-3-level-menu--menu-item sitewide-footer--main-nav--menu-level-3 odd depth-3 no-children\\\" data-position=\\\"7\\\"\u003e\u003ca href=\\\"/briefing-room/legislation\\\" class=\\\"menu__link\\\"\u003eLegislation\u003c/a\u003e\u003c/li\u003e\\\\n\u003cli class=\\\"menu__item is-leaf leaf menu-mlid-142711 horizontal-3-level-menu--menu-item sitewide-footer--main-nav--horizontal-3-level-menu--menu-item sitewide-footer--main-nav--menu-level-3 even depth-3 no-children\\\" data-position=\\\"8\\\"\u003e\u003ca href=\\\"/briefing-room/nominations-and-appointments\\\" class=\\\"menu__link\\\"\u003eNominations \u0026amp; Appointments\u003c/a\u003e\u003c/li\u003e\\\\n\u003cli class=\\\"menu__item is-leaf last leaf menu-mlid-142716 horizontal-3-level-menu--menu-item sitewide-footer--main-nav--horizontal-3-level-menu--menu-item sitewide-footer--main-nav--menu-level-3 odd depth-3 no-children\\\" data-position=\\\"9\\\"\u003e\u003ca href=\\\"/briefing-room/disclosures\\\" class=\\\"menu__link\\\"\u003eDisclosures\u003c/a\u003e\u003c/li\u003e\\\\n\u003c/ul\u003e\u003c/li\u003e\\\\n\u003c/ul\u003e\u003c/li\u003e\\\\n\u003cli class=\\\"menu__item is-expanded expanded menu-mlid-5826 horizontal-3-level-menu--menu-item sitewide-footer--main-nav--horizontal-3-level-menu--menu-item sitewide-footer--main-nav--menu-level-1 odd depth-1 children children-4\\\" data-position=\\\"3\\\"\u003e\u003ca href=\\\"https://obamawhitehouse.archives.gov/issues\\\" class=\\\"menu__link\\\"\u003eIssues\u003c/a\u003e\u003cul class=\\\"menu\\\"\u003e\u003cli class=\\\"menu__item is-expanded first expanded menu-mlid-5931 horizontal-3-level-menu--menu-item sitewide-footer--main-nav--horizontal-3-level-menu--menu-item sitewide-footer--main-nav--menu-level-2 odd depth-2 children children-5 menu-featured\\\" data-position=\\\"1\\\"\u003e\u003cspan class=\\\"menu__link nolink\\\" tabindex=\\\"0\\\"\u003ePopular Topics\u003c/span\u003e\u003cul class=\\\"menu\\\"\u003e\u003cli class=\\\"menu__item is-leaf first leaf menu-mlid-763306 horizontal-3-level-menu--menu-item sitewide-footer--main-nav--horizontal-3-level-menu--menu-item sitewide-footer--main-nav--menu-level-3 odd depth-3 no-children\\\" data-position=\\\"1\\\"\u003e\u003ca href=\\\"/the-record\\\" class=\\\"menu__link\\\"\u003eThe Record\u003c/a\u003e\u003c/li\u003e\\\\n\u003cli class=\\\"menu__item is-leaf leaf menu-mlid-766791 horizontal-3-level-menu--menu-item sitewide-footer--main-nav--horizontal-3-level-menu--menu-item sitewide-footer--main-nav--menu-level-3 even depth-3 no-children\\\" data-position=\\\"2\\\"\u003e\u003ca href=\\\"https://obamawhitehouse.archives.gov/administration/cabinet/exit-memos\\\" class=\\\"menu__link\\\"\u003eCabinet Exit Memos\u003c/a\u003e\u003c/li\u003e\\\\n\u003cli class=\\\"menu__item is-leaf leaf menu-mlid-1044606 horizontal-3-level-menu--menu-item sitewide-footer--main-nav--horizontal-3-level-menu--menu-item sitewide-footer--main-nav--menu-level-3 odd depth-3 no-children\\\" data-position=\\\"3\\\"\u003e\u003ca href=\\\"https://obamawhitehouse.archives.gov/issues/criminal-justice-reform\\\" class=\\\"menu__link\\\"\u003eCriminal Justice Reform\u003c/a\u003e\u003c/li\u003e\\\\n\u003cli class=\\\"menu__item is-leaf leaf menu-mlid-905166 horizontal-3-level-menu--menu-item sitewide-footer--main-nav--horizontal-3-level-menu--menu-item sitewide-footer--main-nav--menu-level-3 even depth-3 no-children\\\" data-position=\\\"4\\\"\u003e\u003ca href=\\\"https://obamawhitehouse.archives.gov/issues/foreign-policy/cuba\\\" class=\\\"menu__link\\\"\u003eCuba\u003c/a\u003e\u003c/li\u003e\\\\n\u003cli class=\\\"menu__item is-leaf last leaf menu-mlid-5966 horizontal-3-level-menu--menu-item sitewide-footer--main-nav--horizontal-3-level-menu--menu-item sitewide-footer--main-nav--menu-level-3 odd depth-3 no-children\\\" data-position=\\\"5\\\"\u003e\u003ca href=\\\"https://obamawhitehouse.archives.gov/issues\\\" class=\\\"menu__link\\\"\u003eSee All\u003c/a\u003e\u003c/li\u003e\\\\n\u003c/ul\u003e\u003c/li\u003e\\\\n\u003cli class=\\\"menu__item is-expanded expanded menu-mlid-5936 horizontal-3-level-menu--menu-item sitewide-footer--main-nav--horizontal-3-level-menu--menu-item sitewide-footer--main-nav--menu-level-2 even depth-2 children children-8\\\" data-position=\\\"2\\\"\u003e\u003cspan class=\\\"menu__link nolink\\\" tabindex=\\\"0\\\"\u003eTop Issues\u003c/span\u003e\u003cul class=\\\"menu\\\"\u003e\u003cli class=\\\"menu__item is-leaf first leaf menu-mlid-5996 horizontal-3-level-menu--menu-item sitewide-footer--main-nav--horizontal-3-level-menu--menu-item sitewide-footer--main-nav--menu-level-3 odd depth-3 no-children\\\" data-position=\\\"1\\\"\u003e\u003ca href=\\\"https://obamawhitehouse.archives.gov/issues/civil-rights\\\" class=\\\"menu__link\\\"\u003eCivil Rights\u003c/a\u003e\u003c/li\u003e\\\\n\u003cli class=\\\"menu__item is-leaf leaf menu-mlid-5951 horizontal-3-level-menu--menu-item sitewide-footer--main-nav--horizontal-3-level-menu--menu-item sitewide-footer--main-nav--menu-level-3 even depth-3 no-children\\\" data-position=\\\"2\\\"\u003e\u003ca href=\\\"https://obamawhitehouse.archives.gov/climate-change\\\" class=\\\"menu__link\\\"\u003eClimate Change\u003c/a\u003e\u003c/li\u003e\\\\n\u003cli class=\\\"menu__item is-leaf leaf menu-mlid-5971 horizontal-3-level-menu--menu-item sitewide-footer--main-nav--horizontal-3-level-menu--menu-item sitewide-footer--main-nav--menu-level-3 odd depth-3 no-children\\\" data-position=\\\"3\\\"\u003e\u003ca href=\\\"https://obamawhitehouse.archives.gov/economy\\\" class=\\\"menu__link\\\"\u003eEconomy\u003c/a\u003e\u003c/li\u003e\\\\n\u003cli class=\\\"menu__item is-leaf leaf menu-mlid-5976 horizontal-3-level-menu--menu-item sitewide-footer--main-nav--horizontal-3-level-menu--menu-item sitewide-footer--main-nav--menu-level-3 even depth-3 no-children\\\" data-position=\\\"4\\\"\u003e\u003ca href=\\\"https://obamawhitehouse.archives.gov/education\\\" class=\\\"menu__link\\\"\u003eEducation\u003c/a\u003e\u003c/li\u003e\\\\n\u003cli class=\\\"menu__item is-leaf leaf menu-mlid-5981 horizontal-3-level-menu--menu-item sitewide-footer--main-nav--horizontal-3-level-menu--menu-item sitewide-footer--main-nav--menu-level-3 odd depth-3 no-children\\\" data-position=\\\"5\\\"\u003e\u003ca href=\\\"https://obamawhitehouse.archives.gov/issues/foreign-policy\\\" class=\\\"menu__link\\\"\u003eForeign Policy\u003c/a\u003e\u003c/li\u003e\\\\n\u003cli class=\\\"menu__item is-leaf is-parent leaf has-children menu-mlid-5986 horizontal-3-level-menu--menu-item sitewide-footer--main-nav--horizontal-3-level-menu--menu-item sitewide-footer--main-nav--menu-level-3 even depth-3 no-children\\\" data-position=\\\"6\\\"\u003e\u003ca href=\\\"https://obamawhitehouse.archives.gov/the-record/health-care\\\" class=\\\"menu__link\\\"\u003eHealth Care\u003c/a\u003e\u003c/li\u003e\\\\n\u003cli class=\\\"menu__item is-leaf leaf menu-mlid-627051 horizontal-3-level-menu--menu-item sitewide-footer--main-nav--horizontal-3-level-menu--menu-item sitewide-footer--main-nav--menu-level-3 odd depth-3 no-children\\\" data-position=\\\"7\\\"\u003e\u003ca href=\\\"https://obamawhitehouse.archives.gov/issues/foreign-policy/iran-deal\\\" class=\\\"menu__link\\\"\u003eIran Deal\u003c/a\u003e\u003c/li\u003e\\\\n\u003cli class=\\\"menu__item is-leaf last leaf menu-mlid-35246 horizontal-3-level-menu--menu-item sitewide-footer--main-nav--horizontal-3-level-menu--menu-item sitewide-footer--main-nav--menu-level-3 even depth-3 no-children\\\" data-position=\\\"8\\\"\u003e\u003ca href=\\\"https://obamawhitehouse.archives.gov/issues/immigration/immigration-action\\\" class=\\\"menu__link\\\"\u003eImmigration Action\u003c/a\u003e\u003c/li\u003e\\\\n\u003c/ul\u003e\u003c/li\u003e\\\\n\u003cli class=\\\"menu__item is-expanded expanded menu-mlid-7321 horizontal-3-level-menu--menu-item sitewide-footer--main-nav--horizontal-3-level-menu--menu-item sitewide-footer--main-nav--menu-level-2 odd depth-2 children children-8\\\" data-position=\\\"3\\\"\u003e\u003cspan class=\\\"menu__link nolink\\\" tabindex=\\\"0\\\"\u003eMore\u003c/span\u003e\u003cul class=\\\"menu\\\"\u003e\u003cli class=\\\"menu__item is-leaf first leaf menu-mlid-131696 horizontal-3-level-menu--menu-item sitewide-footer--main-nav--horizontal-3-level-menu--menu-item sitewide-footer--main-nav--menu-level-3 odd depth-3 no-children\\\" data-position=\\\"1\\\"\u003e\u003ca href=\\\"/issues/defense\\\" class=\\\"menu__link\\\"\u003eDefense\u003c/a\u003e\u003c/li\u003e\\\\n\u003cli class=\\\"menu__item is-leaf leaf menu-mlid-91131 horizontal-3-level-menu--menu-item sitewide-footer--main-nav--horizontal-3-level-menu--menu-item sitewide-footer--main-nav--menu-level-3 even depth-3 no-children\\\" data-position=\\\"2\\\"\u003e\u003ca href=\\\"/issues/disabilities\\\" class=\\\"menu__link\\\"\u003eDisabilities\u003c/a\u003e\u003c/li\u003e\\\\n\u003cli class=\\\"menu__item is-leaf leaf menu-mlid-6011 horizontal-3-level-menu--menu-item sitewide-footer--main-nav--horizontal-3-level-menu--menu-item sitewide-footer--main-nav--menu-level-3 odd depth-3 no-children\\\" data-position=\\\"3\\\"\u003e\u003ca href=\\\"https://obamawhitehouse.archives.gov/21stcenturygov\\\" class=\\\"menu__link\\\"\u003eEthics\u003c/a\u003e\u003c/li\u003e\\\\n\u003cli class=\\\"menu__item is-leaf leaf menu-mlid-6016 horizontal-3-level-menu--menu-item sitewide-footer--main-nav--horizontal-3-level-menu--menu-item sitewide-footer--main-nav--menu-level-3 even depth-3 no-children\\\" data-position=\\\"4\\\"\u003e\u003ca href=\\\"https://obamawhitehouse.archives.gov/issues/equal-pay\\\" class=\\\"menu__link\\\"\u003eEqual Pay\u003c/a\u003e\u003c/li\u003e\\\\n\u003cli class=\\\"menu__item is-leaf leaf menu-mlid-131731 horizontal-3-level-menu--menu-item sitewide-footer--main-nav--horizontal-3-level-menu--menu-item sitewide-footer--main-nav--menu-level-3 odd depth-3 no-children\\\" data-position=\\\"5\\\"\u003e\u003ca href=\\\"/issues/homeland-security\\\" class=\\\"menu__link\\\"\u003eHomeland Security\u003c/a\u003e\u003c/li\u003e\\\\n\u003cli class=\\\"menu__item is-leaf leaf menu-mlid-6066 horizontal-3-level-menu--menu-item sitewide-footer--main-nav--horizontal-3-level-menu--menu-item sitewide-footer--main-nav--menu-level-3 even depth-3 no-children\\\" data-position=\\\"6\\\"\u003e\u003ca href=\\\"https://obamawhitehouse.archives.gov/blog/2016/01/04/live-updates-what-president-doing-keep-guns-out-wrong-hands\\\" class=\\\"menu__link\\\"\u003eReducing Gun Violence\u003c/a\u003e\u003c/li\u003e\\\\n\u003cli class=\\\"menu__item is-leaf leaf menu-mlid-6031 horizontal-3-level-menu--menu-item sitewide-footer--main-nav--horizontal-3-level-menu--menu-item sitewide-footer--main-nav--menu-level-3 odd depth-3 no-children\\\" data-position=\\\"7\\\"\u003e\u003ca href=\\\"https://obamawhitehouse.archives.gov/administration/eop/rural-council\\\" class=\\\"menu__link\\\"\u003eRural\u003c/a\u003e\u003c/li\u003e\\\\n\u003cli class=\\\"menu__item is-leaf last leaf menu-mlid-145746 horizontal-3-level-menu--menu-item sitewide-footer--main-nav--horizontal-3-level-menu--menu-item sitewide-footer--main-nav--menu-level-3 even depth-3 no-children\\\" data-position=\\\"8\\\"\u003e\u003ca href=\\\"/issues/service\\\" class=\\\"menu__link\\\"\u003eService\u003c/a\u003e\u003c/li\u003e\\\\n\u003c/ul\u003e\u003c/li\u003e\\\\n\u003cli class=\\\"menu__item is-expanded last expanded menu-mlid-5941 horizontal-3-level-menu--menu-item sitewide-footer--main-nav--horizontal-3-level-menu--menu-item sitewide-footer--main-nav--menu-level-2 even depth-2 children children-7\\\" data-position=\\\"4\\\"\u003e\u003cspan class=\\\"menu__link nolink\\\" tabindex=\\\"0\\\"\u003eMore\u003c/span\u003e\u003cul class=\\\"menu\\\"\u003e\u003cli class=\\\"menu__item is-leaf first leaf menu-mlid-132791 horizontal-3-level-menu--menu-item sitewide-footer--main-nav--horizontal-3-level-menu--menu-item sitewide-footer--main-nav--menu-level-3 odd depth-3 no-children\\\" data-position=\\\"1\\\"\u003e\u003ca href=\\\"/issues/seniors-and-social-security\\\" class=\\\"menu__link\\\"\u003eSeniors \u0026amp; Social Security\u003c/a\u003e\u003c/li\u003e\\\\n\u003cli class=\\\"menu__item is-leaf leaf menu-mlid-127311 horizontal-3-level-menu--menu-item sitewide-footer--main-nav--horizontal-3-level-menu--menu-item sitewide-footer--main-nav--menu-level-3 even depth-3 no-children\\\" data-position=\\\"2\\\"\u003e\u003ca href=\\\"/issues/taxes\\\" class=\\\"menu__link\\\"\u003eTaxes\u003c/a\u003e\u003c/li\u003e\\\\n\u003cli class=\\\"menu__item is-leaf leaf menu-mlid-123561 horizontal-3-level-menu--menu-item sitewide-footer--main-nav--horizontal-3-level-menu--menu-item sitewide-footer--main-nav--menu-level-3 odd depth-3 no-children\\\" data-position=\\\"3\\\"\u003e\u003ca href=\\\"/issues/technology\\\" class=\\\"menu__link\\\"\u003eTechnology\u003c/a\u003e\u003c/li\u003e\\\\n\u003cli class=\\\"menu__item is-leaf leaf menu-mlid-93756 horizontal-3-level-menu--menu-item sitewide-footer--main-nav--horizontal-3-level-menu--menu-item sitewide-footer--main-nav--menu-level-3 even depth-3 no-children\\\" data-position=\\\"4\\\"\u003e\u003ca href=\\\"https://obamawhitehouse.archives.gov/trade\\\" class=\\\"menu__link\\\"\u003eTrade\u003c/a\u003e\u003c/li\u003e\\\\n\u003cli class=\\\"menu__item is-leaf leaf menu-mlid-6056 horizontal-3-level-menu--menu-item sitewide-footer--main-nav--horizontal-3-level-menu--menu-item sitewide-footer--main-nav--menu-level-3 odd depth-3 no-children\\\" data-position=\\\"5\\\"\u003e\u003ca href=\\\"https://obamawhitehouse.archives.gov/issues/urban-and-economic-mobility\\\" class=\\\"menu__link\\\"\u003eUrban and Economic Mobility\u003c/a\u003e\u003c/li\u003e\\\\n\u003cli class=\\\"menu__item is-leaf leaf menu-mlid-6061 horizontal-3-level-menu--menu-item sitewide-footer--main-nav--horizontal-3-level-menu--menu-item sitewide-footer--main-nav--menu-level-3 even depth-3 no-children\\\" data-position=\\\"6\\\"\u003e\u003ca href=\\\"https://obamawhitehouse.archives.gov/issues/veterans\\\" class=\\\"menu__link\\\"\u003eVeterans\u003c/a\u003e\u003c/li\u003e\\\\n\u003cli class=\\\"menu__item is-leaf last leaf menu-mlid-6071 horizontal-3-level-menu--menu-item sitewide-footer--main-nav--horizontal-3-level-menu--menu-item sitewide-footer--main-nav--menu-level-3 odd depth-3 no-children\\\" data-position=\\\"7\\\"\u003e\u003ca href=\\\"https://obamawhitehouse.archives.gov/issues/women\\\" class=\\\"menu__link\\\"\u003eWomen\u003c/a\u003e\u003c/li\u003e\\\\n\u003c/ul\u003e\u003c/li\u003e\\\\n\u003c/ul\u003e\u003c/li\u003e\\\\n\u003cli class=\\\"menu__item is-expanded expanded menu-mlid-5831 horizontal-3-level-menu--menu-item sitewide-footer--main-nav--horizontal-3-level-menu--menu-item sitewide-footer--main-nav--menu-level-1 even depth-1 children children-4\\\" data-position=\\\"4\\\"\u003e\u003ca href=\\\"https://obamawhitehouse.archives.gov/administration\\\" class=\\\"menu__link\\\"\u003eThe Administration\u003c/a\u003e\u003cul class=\\\"menu\\\"\u003e\u003cli class=\\\"menu__item is-expanded first expanded menu-mlid-6076 horizontal-3-level-menu--menu-item sitewide-footer--main-nav--horizontal-3-level-menu--menu-item sitewide-footer--main-nav--menu-level-2 odd depth-2 children children-8\\\" data-position=\\\"1\\\"\u003e\u003cspan class=\\\"menu__link nolink\\\" tabindex=\\\"0\\\"\u003ePeople\u003c/span\u003e\u003cul class=\\\"menu\\\"\u003e\u003cli class=\\\"menu__item is-leaf first leaf menu-mlid-45996 horizontal-3-level-menu--menu-item sitewide-footer--main-nav--horizontal-3-level-menu--menu-item sitewide-footer--main-nav--menu-level-3 odd depth-3 no-children\\\" data-position=\\\"1\\\"\u003e\u003ca href=\\\"/administration/president-obama\\\" class=\\\"menu__link\\\"\u003ePresident Barack Obama\u003c/a\u003e\u003c/li\u003e\\\\n\u003cli class=\\\"menu__item is-leaf leaf menu-mlid-6106 horizontal-3-level-menu--menu-item sitewide-footer--main-nav--horizontal-3-level-menu--menu-item sitewide-footer--main-nav--menu-level-3 even depth-3 no-children\\\" data-position=\\\"2\\\"\u003e\u003ca href=\\\"http://obamawhitehouse.archives.gov/vp\\\" class=\\\"menu__link\\\"\u003eVice President Joe Biden\u003c/a\u003e\u003c/li\u003e\\\\n\u003cli class=\\\"menu__item is-leaf leaf menu-mlid-45356 horizontal-3-level-menu--menu-item sitewide-footer--main-nav--horizontal-3-level-menu--menu-item sitewide-footer--main-nav--menu-level-3 odd depth-3 no-children\\\" data-position=\\\"3\\\"\u003e\u003ca href=\\\"/administration/first-lady-michelle-obama\\\" class=\\\"menu__link\\\"\u003eFirst Lady Michelle Obama\u003c/a\u003e\u003c/li\u003e\\\\n\u003cli class=\\\"menu__item is-leaf leaf menu-mlid-45961 horizontal-3-level-menu--menu-item sitewide-footer--main-nav--horizontal-3-level-menu--menu-item sitewide-footer--main-nav--menu-level-3 even depth-3 no-children\\\" data-position=\\\"4\\\"\u003e\u003ca href=\\\"/administration/jill-biden\\\" class=\\\"menu__link\\\"\u003eDr. Jill Biden\u003c/a\u003e\u003c/li\u003e\\\\n\u003cli class=\\\"menu__item is-leaf leaf menu-mlid-35121 horizontal-3-level-menu--menu-item sitewide-footer--main-nav--horizontal-3-level-menu--menu-item sitewide-footer--main-nav--menu-level-3 odd depth-3 no-children\\\" data-position=\\\"5\\\"\u003e\u003ca href=\\\"/administration/cabinet\\\" class=\\\"menu__link\\\"\u003eThe Cabinet\u003c/a\u003e\u003c/li\u003e\\\\n\u003cli class=\\\"menu__item is-leaf leaf menu-mlid-89106 horizontal-3-level-menu--menu-item sitewide-footer--main-nav--horizontal-3-level-menu--menu-item sitewide-footer--main-nav--menu-level-3 even depth-3 no-children\\\" data-position=\\\"6\\\"\u003e\u003ca href=\\\"/administration/eop\\\" class=\\\"menu__link\\\"\u003eExecutive Office of the President\u003c/a\u003e\u003c/li\u003e\\\\n\u003cli class=\\\"menu__item is-leaf leaf menu-mlid-89236 horizontal-3-level-menu--menu-item sitewide-footer--main-nav--horizontal-3-level-menu--menu-item sitewide-footer--main-nav--menu-level-3 odd depth-3 no-children\\\" data-position=\\\"7\\\"\u003e\u003ca href=\\\"/administration/senior-leadership\\\" class=\\\"menu__link\\\"\u003eSenior White House Leadership\u003c/a\u003e\u003c/li\u003e\\\\n\u003cli class=\\\"menu__item is-leaf last leaf menu-mlid-46031 horizontal-3-level-menu--menu-item sitewide-footer--main-nav--horizontal-3-level-menu--menu-item sitewide-footer--main-nav--menu-level-3 even depth-3 no-children\\\" data-position=\\\"8\\\"\u003e\u003ca href=\\\"/administration/other-advisory-boards\\\" class=\\\"menu__link\\\"\u003eOther Advisory Boards\u003c/a\u003e\u003c/li\u003e\\\\n\u003c/ul\u003e\u003c/li\u003e\\\\n\u003cli class=\\\"menu__item is-expanded expanded menu-mlid-6081 horizontal-3-level-menu--menu-item sitewide-footer--main-nav--horizontal-3-level-menu--menu-item sitewide-footer--main-nav--menu-level-2 even depth-2 children children-6\\\" data-position=\\\"2\\\"\u003e\u003cspan class=\\\"menu__link nolink\\\" tabindex=\\\"0\\\"\u003eExecutive Offices\u003c/span\u003e\u003cul class=\\\"menu\\\"\u003e\u003cli class=\\\"menu__item is-leaf is-parent first leaf has-children menu-mlid-6126 horizontal-3-level-menu--menu-item sitewide-footer--main-nav--horizontal-3-level-menu--menu-item sitewide-footer--main-nav--menu-level-3 odd depth-3 no-children\\\" data-position=\\\"1\\\"\u003e\u003ca href=\\\"https://obamawhitehouse.archives.gov/omb\\\" class=\\\"menu__link\\\"\u003eOffice of Management and Budget\u003c/a\u003e\u003c/li\u003e\\\\n\u003cli class=\\\"menu__item is-leaf is-parent leaf has-children menu-mlid-6136 horizontal-3-level-menu--menu-item sitewide-footer--main-nav--horizontal-3-level-menu--menu-item sitewide-footer--main-nav--menu-level-3 even depth-3 no-children\\\" data-position=\\\"2\\\"\u003e\u003ca href=\\\"https://obamawhitehouse.archives.gov/administration/eop/ostp\\\" class=\\\"menu__link\\\"\u003eOffice of Science and Technology Policy\u003c/a\u003e\u003c/li\u003e\\\\n\u003cli class=\\\"menu__item is-leaf leaf menu-mlid-6141 horizontal-3-level-menu--menu-item sitewide-footer--main-nav--horizontal-3-level-menu--menu-item sitewide-footer--main-nav--menu-level-3 odd depth-3 no-children\\\" data-position=\\\"3\\\"\u003e\u003ca href=\\\"https://obamawhitehouse.archives.gov/administration/eop/cea\\\" class=\\\"menu__link\\\"\u003eCouncil of Economic Advisers\u003c/a\u003e\u003c/li\u003e\\\\n\u003cli class=\\\"menu__item is-leaf is-parent leaf has-children menu-mlid-6146 horizontal-3-level-menu--menu-item sitewide-footer--main-nav--horizontal-3-level-menu--menu-item sitewide-footer--main-nav--menu-level-3 even depth-3 no-children\\\" data-position=\\\"4\\\"\u003e\u003ca href=\\\"https://obamawhitehouse.archives.gov/administration/eop/ceq\\\" class=\\\"menu__link\\\"\u003eCouncil on Environmental Quality\u003c/a\u003e\u003c/li\u003e\\\\n\u003cli class=\\\"menu__item is-leaf is-parent leaf has-children menu-mlid-204286 horizontal-3-level-menu--menu-item sitewide-footer--main-nav--horizontal-3-level-menu--menu-item sitewide-footer--main-nav--menu-level-3 odd depth-3 no-children\\\" data-position=\\\"5\\\"\u003e\u003ca href=\\\"https://obamawhitehouse.archives.gov/administration/eop/nsc/\\\" class=\\\"menu__link\\\"\u003eNational Security Council\u003c/a\u003e\u003c/li\u003e\\\\n\u003cli class=\\\"menu__item is-leaf last leaf menu-mlid-6151 horizontal-3-level-menu--menu-item sitewide-footer--main-nav--horizontal-3-level-menu--menu-item sitewide-footer--main-nav--menu-level-3 even depth-3 no-children\\\" data-position=\\\"6\\\"\u003e\u003ca href=\\\"https://obamawhitehouse.archives.gov/administration/eop\\\" class=\\\"menu__link\\\"\u003eSee All\u003c/a\u003e\u003c/li\u003e\\\\n\u003c/ul\u003e\u003c/li\u003e\\\\n\u003cli class=\\\"menu__item is-expanded expanded menu-mlid-6086 horizontal-3-level-menu--menu-item sitewide-footer--main-nav--horizontal-3-level-menu--menu-item sitewide-footer--main-nav--menu-level-2 odd depth-2 children children-5\\\" data-position=\\\"3\\\"\u003e\u003cspan class=\\\"menu__link nolink\\\" tabindex=\\\"0\\\"\u003eInitiatives\u003c/span\u003e\u003cul class=\\\"menu\\\"\u003e\u003cli class=\\\"menu__item is-leaf first leaf menu-mlid-6156 horizontal-3-level-menu--menu-item sitewide-footer--main-nav--horizontal-3-level-menu--menu-item sitewide-footer--main-nav--menu-level-3 odd depth-3 no-children\\\" data-position=\\\"1\\\"\u003e\u003ca href=\\\"http://letsmove.obamawhitehouse.archives.gov\\\" class=\\\"menu__link\\\"\u003eLets Move\u003c/a\u003e\u003c/li\u003e\\\\n\u003cli class=\\\"menu__item is-leaf leaf menu-mlid-6161 horizontal-3-level-menu--menu-item sitewide-footer--main-nav--horizontal-3-level-menu--menu-item sitewide-footer--main-nav--menu-level-3 even depth-3 no-children\\\" data-position=\\\"2\\\"\u003e\u003ca href=\\\"https://obamawhitehouse.archives.gov/joiningforces\\\" class=\\\"menu__link\\\"\u003eJoining Forces\u003c/a\u003e\u003c/li\u003e\\\\n\u003cli class=\\\"menu__item is-leaf leaf menu-mlid-233951 horizontal-3-level-menu--menu-item sitewide-footer--main-nav--horizontal-3-level-menu--menu-item sitewide-footer--main-nav--menu-level-3 odd depth-3 no-children\\\" data-position=\\\"3\\\"\u003e\u003ca href=\\\"https://obamawhitehouse.archives.gov/reach-higher\\\" class=\\\"menu__link\\\"\u003eReach Higher\u003c/a\u003e\u003c/li\u003e\\\\n\u003cli class=\\\"menu__item is-leaf leaf menu-mlid-433701 horizontal-3-level-menu--menu-item sitewide-footer--main-nav--horizontal-3-level-menu--menu-item sitewide-footer--main-nav--menu-level-3 even depth-3 no-children\\\" data-position=\\\"4\\\"\u003e\u003ca href=\\\"https://obamawhitehouse.archives.gov/my-brothers-keeper\\\" class=\\\"menu__link\\\"\u003eMy Brother\u0026#039;s Keeper\u003c/a\u003e\u003c/li\u003e\\\\n\u003cli class=\\\"menu__item is-leaf last leaf menu-mlid-1179601 horizontal-3-level-menu--menu-item sitewide-footer--main-nav--horizontal-3-level-menu--menu-item sitewide-footer--main-nav--menu-level-3 odd depth-3 no-children\\\" data-position=\\\"5\\\"\u003e\u003ca href=\\\"https://obamawhitehouse.archives.gov/precision-medicine\\\" class=\\\"menu__link\\\"\u003ePrecision Medicine\u003c/a\u003e\u003c/li\u003e\\\\n\u003c/ul\u003e\u003c/li\u003e\\\\n\u003cli class=\\\"menu__item is-expanded last expanded menu-mlid-6091 horizontal-3-level-menu--menu-item sitewide-footer--main-nav--horizontal-3-level-menu--menu-item sitewide-footer--main-nav--menu-level-2 even depth-2 children children-3\\\" data-position=\\\"4\\\"\u003e\u003cspan class=\\\"menu__link nolink\\\" tabindex=\\\"0\\\"\u003eSpecial Events\u003c/span\u003e\u003cul class=\\\"menu\\\"\u003e\u003cli class=\\\"menu__item is-leaf first leaf menu-mlid-6176 horizontal-3-level-menu--menu-item sitewide-footer--main-nav--horizontal-3-level-menu--menu-item sitewide-footer--main-nav--menu-level-3 odd depth-3 no-children\\\" data-position=\\\"1\\\"\u003e\u003ca href=\\\"https://obamawhitehouse.archives.gov/sotu\\\" class=\\\"menu__link\\\"\u003eState of the Union\u003c/a\u003e\u003c/li\u003e\\\\n\u003cli class=\\\"menu__item is-leaf leaf menu-mlid-6181 horizontal-3-level-menu--menu-item sitewide-footer--main-nav--horizontal-3-level-menu--menu-item sitewide-footer--main-nav--menu-level-3 even depth-3 no-children\\\" data-position=\\\"2\\\"\u003e\u003ca href=\\\"https://obamawhitehouse.archives.gov/inauguration-2013\\\" class=\\\"menu__link\\\"\u003eInauguration\u003c/a\u003e\u003c/li\u003e\\\\n\u003cli class=\\\"menu__item is-leaf last leaf menu-mlid-6186 horizontal-3-level-menu--menu-item sitewide-footer--main-nav--horizontal-3-level-menu--menu-item sitewide-footer--main-nav--menu-level-3 odd depth-3 no-children\\\" data-position=\\\"3\\\"\u003e\u003ca href=\\\"https://obamawhitehouse.archives.gov/medal-of-freedom\\\" class=\\\"menu__link\\\"\u003eMedal of Freedom\u003c/a\u003e\u003c/li\u003e\\\\n\u003c/ul\u003e\u003c/li\u003e\\\\n\u003c/ul\u003e\u003c/li\u003e\\\\n\u003cli class=\\\"menu__item is-expanded expanded menu-mlid-5836 horizontal-3-level-menu--menu-item sitewide-footer--main-nav--horizontal-3-level-menu--menu-item sitewide-footer--main-nav--menu-level-1 odd depth-1 children children-3\\\" data-position=\\\"5\\\"\u003e\u003ca href=\\\"https://obamawhitehouse.archives.gov/participate\\\" class=\\\"menu__link\\\"\u003eParticipate\u003c/a\u003e\u003cul class=\\\"menu\\\"\u003e\u003cli class=\\\"menu__item is-expanded first expanded menu-mlid-6191 horizontal-3-level-menu--menu-item sitewide-footer--main-nav--horizontal-3-level-menu--menu-item sitewide-footer--main-nav--menu-level-2 odd depth-2 children children-5\\\" data-position=\\\"1\\\"\u003e\u003cspan class=\\\"menu__link nolink\\\" tabindex=\\\"0\\\"\u003eDigital\u003c/span\u003e\u003cul class=\\\"menu\\\"\u003e\u003cli class=\\\"menu__item is-leaf first leaf menu-mlid-6206 horizontal-3-level-menu--menu-item sitewide-footer--main-nav--horizontal-3-level-menu--menu-item sitewide-footer--main-nav--menu-level-3 odd depth-3 no-children\\\" data-position=\\\"1\\\"\u003e\u003ca href=\\\"https://obamawhitehouse.archives.gov/engage\\\" class=\\\"menu__link\\\"\u003eFollow Us on Social Media\u003c/a\u003e\u003c/li\u003e\\\\n\u003cli class=\\\"menu__item is-leaf leaf menu-mlid-148731 horizontal-3-level-menu--menu-item sitewide-footer--main-nav--horizontal-3-level-menu--menu-item sitewide-footer--main-nav--menu-level-3 even depth-3 no-children\\\" data-position=\\\"2\\\"\u003e\u003ca href=\\\"/we-the-geeks\\\" class=\\\"menu__link\\\"\u003eWe the Geeks Hangouts\u003c/a\u003e\u003c/li\u003e\\\\n\u003cli class=\\\"menu__item is-leaf leaf menu-mlid-6226 horizontal-3-level-menu--menu-item sitewide-footer--main-nav--horizontal-3-level-menu--menu-item sitewide-footer--main-nav--menu-level-3 odd depth-3 no-children\\\" data-position=\\\"3\\\"\u003e\u003ca href=\\\"https://obamawhitehouse.archives.gov/mobile\\\" class=\\\"menu__link\\\"\u003eMobile Apps\u003c/a\u003e\u003c/li\u003e\\\\n\u003cli class=\\\"menu__item is-leaf is-parent leaf has-children menu-mlid-148766 horizontal-3-level-menu--menu-item sitewide-footer--main-nav--horizontal-3-level-menu--menu-item sitewide-footer--main-nav--menu-level-3 even depth-3 no-children\\\" data-position=\\\"4\\\"\u003e\u003ca href=\\\"/developers\\\" class=\\\"menu__link\\\"\u003eDeveloper Tools\u003c/a\u003e\u003c/li\u003e\\\\n\u003cli class=\\\"menu__item is-leaf last leaf menu-mlid-89171 horizontal-3-level-menu--menu-item sitewide-footer--main-nav--horizontal-3-level-menu--menu-item sitewide-footer--main-nav--menu-level-3 odd depth-3 no-children\\\" data-position=\\\"5\\\"\u003e\u003ca href=\\\"https://obamawhitehouse.archives.gov/tools\\\" class=\\\"menu__link\\\"\u003eTools You Can Use\u003c/a\u003e\u003c/li\u003e\\\\n\u003c/ul\u003e\u003c/li\u003e\\\\n\u003cli class=\\\"menu__item is-expanded expanded menu-mlid-6196 horizontal-3-level-menu--menu-item sitewide-footer--main-nav--horizontal-3-level-menu--menu-item sitewide-footer--main-nav--menu-level-2 even depth-2 children children-7\\\" data-position=\\\"2\\\"\u003e\u003cspan class=\\\"menu__link nolink\\\" tabindex=\\\"0\\\"\u003eJoin Us\u003c/span\u003e\u003cul class=\\\"menu\\\"\u003e\u003cli class=\\\"menu__item is-leaf first leaf menu-mlid-108026 horizontal-3-level-menu--menu-item sitewide-footer--main-nav--horizontal-3-level-menu--menu-item sitewide-footer--main-nav--menu-level-3 odd depth-3 no-children\\\" data-position=\\\"1\\\"\u003e\u003ca href=\\\"/participate/tours-and-events\\\" class=\\\"menu__link\\\"\u003eTours \u0026amp; Events\u003c/a\u003e\u003c/li\u003e\\\\n\u003cli class=\\\"menu__item is-leaf leaf menu-mlid-6241 horizontal-3-level-menu--menu-item sitewide-footer--main-nav--horizontal-3-level-menu--menu-item sitewide-footer--main-nav--menu-level-3 even depth-3 no-children\\\" data-position=\\\"2\\\"\u003e\u003ca href=\\\"https://apply.whitehouse.gov/\\\" class=\\\"menu__link\\\"\u003eJobs with the Administration\u003c/a\u003e\u003c/li\u003e\\\\n\u003cli class=\\\"menu__item is-leaf is-parent leaf has-children menu-mlid-112596 horizontal-3-level-menu--menu-item sitewide-footer--main-nav--horizontal-3-level-menu--menu-item sitewide-footer--main-nav--menu-level-3 odd depth-3 no-children\\\" data-position=\\\"3\\\"\u003e\u003ca href=\\\"/participate/internships\\\" class=\\\"menu__link\\\"\u003eInternships\u003c/a\u003e\u003c/li\u003e\\\\n\u003cli class=\\\"menu__item is-leaf is-parent leaf has-children menu-mlid-207321 horizontal-3-level-menu--menu-item sitewide-footer--main-nav--horizontal-3-level-menu--menu-item sitewide-footer--main-nav--menu-level-3 even depth-3 no-children\\\" data-position=\\\"4\\\"\u003e\u003ca href=\\\"/participate/fellows\\\" class=\\\"menu__link\\\"\u003eWhite House Fellows\u003c/a\u003e\u003c/li\u003e\\\\n\u003cli class=\\\"menu__item is-leaf leaf menu-mlid-152651 horizontal-3-level-menu--menu-item sitewide-footer--main-nav--horizontal-3-level-menu--menu-item sitewide-footer--main-nav--menu-level-3 odd depth-3 no-children\\\" data-position=\\\"5\\\"\u003e\u003ca href=\\\"/innovationfellows\\\" class=\\\"menu__link\\\"\u003ePresidential Innovation Fellows\u003c/a\u003e\u003c/li\u003e\\\\n\u003cli class=\\\"menu__item is-leaf leaf menu-mlid-1096661 horizontal-3-level-menu--menu-item sitewide-footer--main-nav--horizontal-3-level-menu--menu-item sitewide-footer--main-nav--menu-level-3 even depth-3 no-children\\\" data-position=\\\"6\\\"\u003e\u003ca href=\\\"/participate/united-states-digital-service\\\" class=\\\"menu__link\\\"\u003eUnited States Digital Service\u003c/a\u003e\u003c/li\u003e\\\\n\u003cli class=\\\"menu__item is-leaf is-parent last leaf has-children menu-mlid-291136 horizontal-3-level-menu--menu-item sitewide-footer--main-nav--horizontal-3-level-menu--menu-item sitewide-footer--main-nav--menu-level-3 odd depth-3 no-children\\\" data-position=\\\"7\\\"\u003e\u003ca href=\\\"/participate/whldp\\\" class=\\\"menu__link\\\"\u003eLeadership Development Program\u003c/a\u003e\u003c/li\u003e\\\\n\u003c/ul\u003e\u003c/li\u003e\\\\n\u003cli class=\\\"menu__item is-expanded last expanded menu-mlid-6201 horizontal-3-level-menu--menu-item sitewide-footer--main-nav--horizontal-3-level-menu--menu-item sitewide-footer--main-nav--menu-level-2 odd depth-2 children children-4\\\" data-position=\\\"3\\\"\u003e\u003cspan class=\\\"menu__link nolink\\\" tabindex=\\\"0\\\"\u003eSpeak Out\u003c/span\u003e\u003cul class=\\\"menu\\\"\u003e\u003cli class=\\\"menu__item is-leaf first leaf menu-mlid-6261 horizontal-3-level-menu--menu-item sitewide-footer--main-nav--horizontal-3-level-menu--menu-item sitewide-footer--main-nav--menu-level-3 odd depth-3 no-children\\\" data-position=\\\"1\\\"\u003e\u003ca href=\\\"https://petitions.obamawhitehouse.archives.gov\\\" class=\\\"menu__link\\\"\u003eWe the People Petitions\u003c/a\u003e\u003c/li\u003e\\\\n\u003cli class=\\\"menu__item is-leaf leaf menu-mlid-6266 horizontal-3-level-menu--menu-item sitewide-footer--main-nav--horizontal-3-level-menu--menu-item sitewide-footer--main-nav--menu-level-3 even depth-3 no-children\\\" data-position=\\\"2\\\"\u003e\u003ca href=\\\"https://obamawhitehouse.archives.gov/contact\\\" class=\\\"menu__link\\\"\u003eContact the White House\u003c/a\u003e\u003c/li\u003e\\\\n\u003cli class=\\\"menu__item is-leaf leaf menu-mlid-6271 horizontal-3-level-menu--menu-item sitewide-footer--main-nav--horizontal-3-level-menu--menu-item sitewide-footer--main-nav--menu-level-3 odd depth-3 no-children\\\" data-position=\\\"3\\\"\u003e\u003ca href=\\\"https://obamawhitehouse.archives.gov/citizensmedal/criteria\\\" class=\\\"menu__link\\\"\u003eCitizens Medal\u003c/a\u003e\u003c/li\u003e\\\\n\u003cli class=\\\"menu__item is-leaf last leaf menu-mlid-6281 horizontal-3-level-menu--menu-item sitewide-footer--main-nav--horizontal-3-level-menu--menu-item sitewide-footer--main-nav--menu-level-3 even depth-3 no-children\\\" data-position=\\\"4\\\"\u003e\u003ca href=\\\"https://obamawhitehouse.archives.gov/champions\\\" class=\\\"menu__link\\\"\u003eChampions of Change\u003c/a\u003e\u003c/li\u003e\\\\n\u003c/ul\u003e\u003c/li\u003e\\\\n\u003c/ul\u003e\u003c/li\u003e\\\\n\u003cli class=\\\"menu__item is-expanded last expanded menu-mlid-5841 horizontal-3-level-menu--menu-item sitewide-footer--main-nav--horizontal-3-level-menu--menu-item sitewide-footer--main-nav--menu-level-1 even depth-1 children children-3\\\" data-position=\\\"6\\\"\u003e\u003ca href=\\\"https://obamawhitehouse.archives.gov/1600\\\" class=\\\"menu__link\\\"\u003e1600 Penn\u003c/a\u003e\u003cul class=\\\"menu\\\"\u003e\u003cli class=\\\"menu__item is-expanded first expanded menu-mlid-6291 horizontal-3-level-menu--menu-item sitewide-footer--main-nav--horizontal-3-level-menu--menu-item sitewide-footer--main-nav--menu-level-2 odd depth-2 children children-6\\\" data-position=\\\"1\\\"\u003e\u003cspan class=\\\"menu__link nolink\\\" tabindex=\\\"0\\\"\u003eInside the White House\u003c/span\u003e\u003cul class=\\\"menu\\\"\u003e\u003cli class=\\\"menu__item is-leaf first leaf menu-mlid-6311 horizontal-3-level-menu--menu-item sitewide-footer--main-nav--horizontal-3-level-menu--menu-item sitewide-footer--main-nav--menu-level-3 odd depth-3 no-children\\\" data-position=\\\"1\\\"\u003e\u003ca href=\\\"https://obamawhitehouse.archives.gov/about/inside-white-house/west-wing-tour\\\" class=\\\"menu__link\\\"\u003eWest Wing Tour\u003c/a\u003e\u003c/li\u003e\\\\n\u003cli class=\\\"menu__item is-leaf leaf menu-mlid-6306 horizontal-3-level-menu--menu-item sitewide-footer--main-nav--horizontal-3-level-menu--menu-item sitewide-footer--main-nav--menu-level-3 even depth-3 no-children\\\" data-position=\\\"2\\\"\u003e\u003ca href=\\\"https://obamawhitehouse.archives.gov/about/inside-white-house/eeob-tour\\\" class=\\\"menu__link\\\"\u003eEisenhower Executive Office Building Tour\u003c/a\u003e\u003c/li\u003e\\\\n\u003cli class=\\\"menu__item is-leaf leaf menu-mlid-6316 horizontal-3-level-menu--menu-item sitewide-footer--main-nav--horizontal-3-level-menu--menu-item sitewide-footer--main-nav--menu-level-3 odd depth-3 no-children\\\" data-position=\\\"3\\\"\u003e\u003ca href=\\\"https://obamawhitehouse.archives.gov/about/inside-white-house/video-series\\\" class=\\\"menu__link\\\"\u003eVideo Series\u003c/a\u003e\u003c/li\u003e\\\\n\u003cli class=\\\"menu__item is-leaf leaf menu-mlid-6321 horizontal-3-level-menu--menu-item sitewide-footer--main-nav--horizontal-3-level-menu--menu-item sitewide-footer--main-nav--menu-level-3 even depth-3 no-children\\\" data-position=\\\"4\\\"\u003e\u003ca href=\\\"https://obamawhitehouse.archives.gov/about/inside-white-house/art\\\" class=\\\"menu__link\\\"\u003eD\\\\xc3\\\\xa9cor and Art\u003c/a\u003e\u003c/li\u003e\\\\n\u003cli class=\\\"menu__item is-leaf leaf menu-mlid-6326 horizontal-3-level-menu--menu-item sitewide-footer--main-nav--horizontal-3-level-menu--menu-item sitewide-footer--main-nav--menu-level-3 odd depth-3 no-children\\\" data-position=\\\"5\\\"\u003e\u003ca href=\\\"https://obamawhitehouse.archives.gov/holidays\\\" class=\\\"menu__link\\\"\u003eHolidays\u003c/a\u003e\u003c/li\u003e\\\\n\u003cli class=\\\"menu__item is-leaf last leaf menu-mlid-6336 horizontal-3-level-menu--menu-item sitewide-footer--main-nav--horizontal-3-level-menu--menu-item sitewide-footer--main-nav--menu-level-3 even depth-3 no-children\\\" data-position=\\\"6\\\"\u003e\u003ca href=\\\"https://obamawhitehouse.archives.gov/about/inside-white-house\\\" class=\\\"menu__link\\\"\u003eSee All\u003c/a\u003e\u003c/li\u003e\\\\n\u003c/ul\u003e\u003c/li\u003e\\\\n\u003cli class=\\\"menu__item is-expanded expanded menu-mlid-6296 horizontal-3-level-menu--menu-item sitewide-footer--main-nav--horizontal-3-level-menu--menu-item sitewide-footer--main-nav--menu-level-2 even depth-2 children children-6\\\" data-position=\\\"2\\\"\u003e\u003cspan class=\\\"menu__link nolink\\\" tabindex=\\\"0\\\"\u003eHistory \u0026amp; Grounds\u003c/span\u003e\u003cul class=\\\"menu\\\"\u003e\u003cli class=\\\"menu__item is-leaf first leaf menu-mlid-86676 horizontal-3-level-menu--menu-item sitewide-footer--main-nav--horizontal-3-level-menu--menu-item sitewide-footer--main-nav--menu-level-3 odd depth-3 no-children\\\" data-position=\\\"1\\\"\u003e\u003ca href=\\\"/1600/Presidents\\\" class=\\\"menu__link\\\"\u003ePresidents\u003c/a\u003e\u003c/li\u003e\\\\n\u003cli class=\\\"menu__item is-leaf leaf menu-mlid-86891 horizontal-3-level-menu--menu-item sitewide-footer--main-nav--horizontal-3-level-menu--menu-item sitewide-footer--main-nav--menu-level-3 even depth-3 no-children\\\" data-position=\\\"2\\\"\u003e\u003ca href=\\\"/1600/first-ladies\\\" class=\\\"menu__link\\\"\u003eFirst Ladies\u003c/a\u003e\u003c/li\u003e\\\\n\u003cli class=\\\"menu__item is-leaf leaf menu-mlid-93186 horizontal-3-level-menu--menu-item sitewide-footer--main-nav--horizontal-3-level-menu--menu-item sitewide-footer--main-nav--menu-level-3 odd depth-3 no-children\\\" data-position=\\\"3\\\"\u003e\u003ca href=\\\"/1600/vp-residence\\\" class=\\\"menu__link\\\"\u003eThe Vice President\u0026#039;s Residence \u0026amp; Office\u003c/a\u003e\u003c/li\u003e\\\\n\u003cli class=\\\"menu__item is-leaf leaf menu-mlid-93191 horizontal-3-level-menu--menu-item sitewide-footer--main-nav--horizontal-3-level-menu--menu-item sitewide-footer--main-nav--menu-level-3 even depth-3 no-children\\\" data-position=\\\"4\\\"\u003e\u003ca href=\\\"/1600/eeob\\\" class=\\\"menu__link\\\"\u003eEisenhower Executive Office Building\u003c/a\u003e\u003c/li\u003e\\\\n\u003cli class=\\\"menu__item is-leaf leaf menu-mlid-93181 horizontal-3-level-menu--menu-item sitewide-footer--main-nav--horizontal-3-level-menu--menu-item sitewide-footer--main-nav--menu-level-3 odd depth-3 no-children\\\" data-position=\\\"5\\\"\u003e\u003ca href=\\\"/1600/camp-david\\\" class=\\\"menu__link\\\"\u003eCamp David\u003c/a\u003e\u003c/li\u003e\\\\n\u003cli class=\\\"menu__item is-leaf last leaf menu-mlid-91831 horizontal-3-level-menu--menu-item sitewide-footer--main-nav--horizontal-3-level-menu--menu-item sitewide-footer--main-nav--menu-level-3 even depth-3 no-children\\\" data-position=\\\"6\\\"\u003e\u003ca href=\\\"/1600/air-force-one\\\" class=\\\"menu__link\\\"\u003eAir Force One\u003c/a\u003e\u003c/li\u003e\\\\n\u003c/ul\u003e\u003c/li\u003e\\\\n\u003cli class=\\\"menu__item is-expanded last expanded menu-mlid-6301 horizontal-3-level-menu--menu-item sitewide-footer--main-nav--horizontal-3-level-menu--menu-item sitewide-footer--main-nav--menu-level-2 odd depth-2 children children-8\\\" data-position=\\\"3\\\"\u003e\u003cspan class=\\\"menu__link nolink\\\" tabindex=\\\"0\\\"\u003eOur Government\u003c/span\u003e\u003cul class=\\\"menu\\\"\u003e\u003cli class=\\\"menu__item is-leaf first leaf menu-mlid-93196 horizontal-3-level-menu--menu-item sitewide-footer--main-nav--horizontal-3-level-menu--menu-item sitewide-footer--main-nav--menu-level-3 odd depth-3 no-children\\\" data-position=\\\"1\\\"\u003e\u003ca href=\\\"/1600/executive-branch\\\" class=\\\"menu__link\\\"\u003eThe Executive Branch\u003c/a\u003e\u003c/li\u003e\\\\n\u003cli class=\\\"menu__item is-leaf leaf menu-mlid-93201 horizontal-3-level-menu--menu-item sitewide-footer--main-nav--horizontal-3-level-menu--menu-item sitewide-footer--main-nav--menu-level-3 even depth-3 no-children\\\" data-position=\\\"2\\\"\u003e\u003ca href=\\\"/1600/legislative-branch\\\" class=\\\"menu__link\\\"\u003eThe Legislative Branch\u003c/a\u003e\u003c/li\u003e\\\\n\u003cli class=\\\"menu__item is-leaf leaf menu-mlid-93206 horizontal-3-level-menu--menu-item sitewide-footer--main-nav--horizontal-3-level-menu--menu-item sitewide-footer--main-nav--menu-level-3 odd depth-3 no-children\\\" data-position=\\\"3\\\"\u003e\u003ca href=\\\"/1600/judicial-branch\\\" class=\\\"menu__link\\\"\u003eThe Judicial Branch\u003c/a\u003e\u003c/li\u003e\\\\n\u003cli class=\\\"menu__item is-leaf leaf menu-mlid-93211 horizontal-3-level-menu--menu-item sitewide-footer--main-nav--horizontal-3-level-menu--menu-item sitewide-footer--main-nav--menu-level-3 even depth-3 no-children\\\" data-position=\\\"4\\\"\u003e\u003ca href=\\\"/1600/constitution\\\" class=\\\"menu__link\\\"\u003eThe Constitution\u003c/a\u003e\u003c/li\u003e\\\\n\u003cli class=\\\"menu__item is-leaf leaf menu-mlid-93216 horizontal-3-level-menu--menu-item sitewide-footer--main-nav--horizontal-3-level-menu--menu-item sitewide-footer--main-nav--menu-level-3 odd depth-3 no-children\\\" data-position=\\\"5\\\"\u003e\u003ca href=\\\"/1600/federal-agencies-and-commissions\\\" class=\\\"menu__link\\\"\u003eFederal Agencies \u0026amp; Commissions\u003c/a\u003e\u003c/li\u003e\\\\n\u003cli class=\\\"menu__item is-leaf leaf menu-mlid-93231 horizontal-3-level-menu--menu-item sitewide-footer--main-nav--horizontal-3-level-menu--menu-item sitewide-footer--main-nav--menu-level-3 even depth-3 no-children\\\" data-position=\\\"6\\\"\u003e\u003ca href=\\\"/1600/elections-and-voting\\\" class=\\\"menu__link\\\"\u003eElections \u0026amp; Voting\u003c/a\u003e\u003c/li\u003e\\\\n\u003cli class=\\\"menu__item is-leaf leaf menu-mlid-93226 horizontal-3-level-menu--menu-item sitewide-footer--main-nav--horizontal-3-level-menu--menu-item sitewide-footer--main-nav--menu-level-3 odd depth-3 no-children\\\" data-position=\\\"7\\\"\u003e\u003ca href=\\\"/1600/state-and-local-government\\\" class=\\\"menu__link\\\"\u003eState \u0026amp; Local Government\u003c/a\u003e\u003c/li\u003e\\\\n\u003cli class=\\\"menu__item is-leaf last leaf menu-mlid-93221 horizontal-3-level-menu--menu-item sitewide-footer--main-nav--horizontal-3-level-menu--menu-item sitewide-footer--main-nav--menu-level-3 even depth-3 no-children\\\" data-position=\\\"8\\\"\u003e\u003ca href=\\\"/1600/resources\\\" class=\\\"menu__link\\\"\u003eResources\u003c/a\u003e\u003c/li\u003e\\\\n\u003c/ul\u003e\u003c/li\u003e\\\\n\u003c/ul\u003e\u003c/li\u003e\\\\n\u003c/ul\u003e\u003c/div\u003e\\\\n  \u003c/nav\u003e\\\\n\\\\n  \u003cnav class=\\\"sitewide-footer--utility-nav\\\" \u003e\\\\n    \u003cdiv class=\\\"menu-block-wrapper menu-block-ctools-sixteenhundred-nav-utility-1 menu-name-sixteenhundred-nav-utility parent-mlid-0 menu-level-1\\\"\u003e\\\\n  \u003cul class=\\\"menu\\\"\u003e\u003cli class=\\\"menu__item is-leaf first leaf menu-mlid-6451 horizontal-1-level-menu--menu-item sitewide-footer--utility-nav--horizontal-1-level-menu--menu-item odd depth-1 no-children\\\" data-position=\\\"1\\\"\u003e\u003ca href=\\\"http://obamawhitehouse.archives.gov/espanol\\\" title=\\\"Switch language to Spanish.\\\" class=\\\"menu__link\\\"\u003eEn Espa\\\\xc3\\\\xb1ol\u003c/a\u003e\u003c/li\u003e\\\\n\u003cli class=\\\"menu__item is-leaf leaf menu-mlid-6456 horizontal-1-level-menu--menu-item sitewide-footer--utility-nav--horizontal-1-level-menu--menu-item even depth-1 no-children\\\" data-position=\\\"2\\\"\u003e\u003ca href=\\\"http://obamawhitehouse.archives.gov/accessibility\\\" title=\\\"Information about accessibility.\\\" class=\\\"menu__link\\\"\u003eAccessibility\u003c/a\u003e\u003c/li\u003e\\\\n\u003cli class=\\\"menu__item is-leaf leaf menu-mlid-6461 horizontal-1-level-menu--menu-item sitewide-footer--utility-nav--horizontal-1-level-menu--menu-item odd depth-1 no-children\\\" data-position=\\\"3\\\"\u003e\u003ca href=\\\"http://obamawhitehouse.archives.gov/copyright\\\" title=\\\"Details about our copyright information.\\\" class=\\\"menu__link\\\"\u003eCopyright Information\u003c/a\u003e\u003c/li\u003e\\\\n\u003cli class=\\\"menu__item is-leaf leaf menu-mlid-6466 horizontal-1-level-menu--menu-item sitewide-footer--utility-nav--horizontal-1-level-menu--menu-item even depth-1 no-children\\\" data-position=\\\"4\\\"\u003e\u003ca href=\\\"http://obamawhitehouse.archives.gov/privacy\\\" title=\\\"Our private policy.\\\" class=\\\"menu__link\\\"\u003ePrivacy Policy\u003c/a\u003e\u003c/li\u003e\\\\n\u003cli class=\\\"menu__item is-leaf last leaf menu-mlid-6471 horizontal-1-level-menu--menu-item sitewide-footer--utility-nav--horizontal-1-level-menu--menu-item odd depth-1 no-children\\\" data-position=\\\"5\\\"\u003e\u003ca href=\\\"http://www.usa.gov\\\" title=\\\"More information about the government.\\\" class=\\\"menu__link\\\"\u003eUSA.gov\u003c/a\u003e\u003c/li\u003e\\\\n\u003c/ul\u003e\u003c/div\u003e\\\\n  \u003c/nav\u003e\\\\n    \u003c/div\u003e\\\\n  \u003c/footer\u003e\\\\n  \u003c/footer\u003e\\\\n\u003c/div\u003e\\\\n\u003c/div\u003e\\\\n\u003c/section\u003e\\\\n\u003c!-- /Main page content --\u003e\\\\n  \\\\n\u003c!--[if lte IE 9]\u003e\\\\n\u003cscript src=\\\"https://obamawhitehouse.archives.gov/sites/obamawhitehouse.archives.gov/files/advagg_js/js__Jscpl6WILNj2f-QSNUDNIcjTGrxOvQbfCYTVkBwUOs0__ByJv_v3vizJuyYQYCtSDrZt78Ti1tm0kEI0Xa4G_mLs__6yT-PiSODBbX6oNLwaJ-vBDwvHNA3ftWqKDmjK35hsQ.js#ie9-\\\" onload=\\\"if(jQuery.isFunction(jQuery.holdReady)){jQuery.holdReady(true);};\\\\nfunction advagg_mod_1() {\\\\n  // Count how many times this function is called.\\\\n  advagg_mod_1.count = ++advagg_mod_1.count || 1;\\\\n  try {\\\\n    if (advagg_mod_1.count \u003c= 40) {\\\\n      init_drupal_core_settings();\\\\n\\\\n      // Set this to 100 so that this function only runs once.\\\\n      advagg_mod_1.count = 100;\\\\n    }\\\\n  }\\\\n  catch(e) {\\\\n    if (advagg_mod_1.count \u003e= 40) {\\\\n      // Throw the exception if this still fails after running 40 times.\\\\n      throw e;\\\\n    }\\\\n    else {\\\\n      // Try again in 1 ms.\\\\n      window.setTimeout(advagg_mod_1, 1);\\\\n    }\\\\n  }\\\\n}\\\\nfunction advagg_mod_1_check() {\\\\n  if (window.init_drupal_core_settings \u0026\u0026 window.jQuery \u0026\u0026 window.Drupal) {\\\\n    advagg_mod_1();\\\\n  }\\\\n  else {\\\\n    window.setTimeout(advagg_mod_1_check, 1);\\\\n  }\\\\n}\\\\nadvagg_mod_1_check();\\\"\u003e\u003c/script\u003e\\\\n\u003c![endif]--\u003e\\\\n\\\\n\u003c!--[if gt IE 9]\u003e\\\\n\u003cscript src=\\\"https://obamawhitehouse.archives.gov/sites/obamawhitehouse.archives.gov/files/advagg_js/js__Jscpl6WILNj2f-QSNUDNIcjTGrxOvQbfCYTVkBwUOs0__ByJv_v3vizJuyYQYCtSDrZt78Ti1tm0kEI0Xa4G_mLs__6yT-PiSODBbX6oNLwaJ-vBDwvHNA3ftWqKDmjK35hsQ.js#ie10+\\\" defer=\\\"defer\\\" onload=\\\"if(jQuery.isFunction(jQuery.holdReady)){jQuery.holdReady(true);};\\\\nfunction advagg_mod_1() {\\\\n  // Count how many times this function is called.\\\\n  advagg_mod_1.count = ++advagg_mod_1.count || 1;\\\\n  try {\\\\n    if (advagg_mod_1.count \u003c= 40) {\\\\n      init_drupal_core_settings();\\\\n\\\\n      // Set this to 100 so that this function only runs once.\\\\n      advagg_mod_1.count = 100;\\\\n    }\\\\n  }\\\\n  catch(e) {\\\\n    if (advagg_mod_1.count \u003e= 40) {\\\\n      // Throw the exception if this still fails after running 40 times.\\\\n      throw e;\\\\n    }\\\\n    else {\\\\n      // Try again in 1 ms.\\\\n      window.setTimeout(advagg_mod_1, 1);\\\\n    }\\\\n  }\\\\n}\\\\nfunction advagg_mod_1_check() {\\\\n  if (window.init_drupal_core_settings \u0026\u0026 window.jQuery \u0026\u0026 window.Drupal) {\\\\n    advagg_mod_1();\\\\n  }\\\\n  else {\\\\n    window.setTimeout(advagg_mod_1_check, 1);\\\\n  }\\\\n}\\\\nadvagg_mod_1_check();\\\"\u003e\u003c/script\u003e\\\\n\u003c![endif]--\u003e\\\\n\\\\n\u003c!--[if !IE]\u003e\u003c!--\u003e\\\\n\u003cscript src=\\\"https://obamawhitehouse.archives.gov/sites/obamawhitehouse.archives.gov/files/advagg_js/js__Jscpl6WILNj2f-QSNUDNIcjTGrxOvQbfCYTVkBwUOs0__ByJv_v3vizJuyYQYCtSDrZt78Ti1tm0kEI0Xa4G_mLs__6yT-PiSODBbX6oNLwaJ-vBDwvHNA3ftWqKDmjK35hsQ.js\\\" defer=\\\"defer\\\" onload=\\\"if(jQuery.isFunction(jQuery.holdReady)){jQuery.holdReady(true);};\\\\nfunction advagg_mod_1() {\\\\n  // Count how many times this function is called.\\\\n  advagg_mod_1.count = ++advagg_mod_1.count || 1;\\\\n  try {\\\\n    if (advagg_mod_1.count \u003c= 40) {\\\\n      init_drupal_core_settings();\\\\n\\\\n      // Set this to 100 so that this function only runs once.\\\\n      advagg_mod_1.count = 100;\\\\n    }\\\\n  }\\\\n  catch(e) {\\\\n    if (advagg_mod_1.count \u003e= 40) {\\\\n      // Throw the exception if this still fails after running 40 times.\\\\n      throw e;\\\\n    }\\\\n    else {\\\\n      // Try again in 1 ms.\\\\n      window.setTimeout(advagg_mod_1, 1);\\\\n    }\\\\n  }\\\\n}\\\\nfunction advagg_mod_1_check() {\\\\n  if (window.init_drupal_core_settings \u0026\u0026 window.jQuery \u0026\u0026 window.Drupal) {\\\\n    advagg_mod_1();\\\\n  }\\\\n  else {\\\\n    window.setTimeout(advagg_mod_1_check, 1);\\\\n  }\\\\n}\\\\nadvagg_mod_1_check();\\\"\u003e\u003c/script\u003e\\\\n\u003c!--\u003c![endif]--\u003e\\\\n\u003cscript src=\\\"https://obamawhitehouse.archives.gov/sites/obamawhitehouse.archives.gov/files/advagg_js/js__gk5yuVKsEydKVxv7nln1iIc4iTXLXQep3InsPGSyIK8__tp46ZZoNKAgRGbT7ftEbwXoTr966Vpqi_5j2B4B1H8k__6yT-PiSODBbX6oNLwaJ-vBDwvHNA3ftWqKDmjK35hsQ.js\\\" defer=\\\"defer\\\"\u003e\u003c/script\u003e\\\\n\u003cscript src=\\\"https://obamawhitehouse.archives.gov/sites/obamawhitehouse.archives.gov/files/advagg_js/js__7L61orRhSjJZxBlgc7qJlnUqkzrwk5VPMzbSCX8wdX8__nKCkyzVMS2hhyY8isDLESUmNaYJXf_TVlzdnCBxvCW8__6yT-PiSODBbX6oNLwaJ-vBDwvHNA3ftWqKDmjK35hsQ.js\\\" defer=\\\"defer\\\"\u003e\u003c/script\u003e\\\\n\u003cscript src=\\\"https://obamawhitehouse.archives.gov/sites/obamawhitehouse.archives.gov/files/advagg_js/js__pADrhZo8PEJcWic0lutlH_3V0R-cVv-wMVdrPkdPOP4__1_q7xoQ36FJ6PH-UREmimKmcq3GdmSnAGz5-dSVBrXw__6yT-PiSODBbX6oNLwaJ-vBDwvHNA3ftWqKDmjK35hsQ.js\\\" defer=\\\"defer\\\"\u003e\u003c/script\u003e\\\\n\u003cscript\u003e\\\\nfunction advagg_mod_2() {\\\\n  // Count how many times this function is called.\\\\n  advagg_mod_2.count = ++advagg_mod_2.count || 1;\\\\n  try {\\\\n    if (advagg_mod_2.count \u003c= 40) {\\\\n      document.createElement( \\\"picture\\\" );\\\\n\\\\n      // Set this to 100 so that this function only runs once.\\\\n      advagg_mod_2.count = 100;\\\\n    }\\\\n  }\\\\n  catch(e) {\\\\n    if (advagg_mod_2.count \u003e= 40) {\\\\n      // Throw the exception if this still fails after running 40 times.\\\\n      throw e;\\\\n    }\\\\n    else {\\\\n      // Try again in 250 ms.\\\\n      window.setTimeout(advagg_mod_2, 250);\\\\n    }\\\\n  }\\\\n}\\\\nfunction advagg_mod_2_check() {\\\\n  if (window.jQuery \u0026\u0026 window.Drupal \u0026\u0026 window.Drupal.settings) {\\\\n    advagg_mod_2();\\\\n  }\\\\n  else {\\\\n    window.setTimeout(advagg_mod_2_check, 250);\\\\n  }\\\\n}\\\\nadvagg_mod_2_check();\u003c/script\u003e\\\\n\u003cscript\u003efunction init_drupal_core_settings() {jQuery.extend(Drupal.settings, {\\\"basePath\\\":\\\"\\\\\\\\/\\\",\\\"pathPrefix\\\":\\\"\\\",\\\"setHasJsCookie\\\":0,\\\"ajaxPageState\\\":{\\\"theme\\\":\\\"fortyfour\\\",\\\"theme_token\\\":\\\"_QTPi4KpM60qNqsLFV9Wvf3LqXwsk-h5rdqkKFZ-tls\\\",\\\"js\\\":{\\\"sites\\\\\\\\/obamawhitehouse.archives.gov\\\\\\\\/modules\\\\\\\\/contrib\\\\\\\\/jquery_update\\\\\\\\/replace\\\\\\\\/jquery\\\\\\\\/1.10\\\\\\\\/jquery.min.js\\\":1,\\\"misc\\\\\\\\/jquery-extend-3.4.0.js\\\":1,\\\"misc\\\\\\\\/jquery-html-prefilter-3.5.0-backport.js\\\":1,\\\"misc\\\\\\\\/jquery.once.js\\\":1,\\\"misc\\\\\\\\/drupal.js\\\":1,\\\"sites\\\\\\\\/obamawhitehouse.archives.gov\\\\\\\\/modules\\\\\\\\/contrib\\\\\\\\/jquery_update\\\\\\\\/replace\\\\\\\\/ui\\\\\\\\/ui\\\\\\\\/minified\\\\\\\\/jquery.ui.core.min.js\\\":1,\\\"sites\\\\\\\\/obamawhitehouse.archives.gov\\\\\\\\/modules\\\\\\\\/contrib\\\\\\\\/jquery_update\\\\\\\\/replace\\\\\\\\/ui\\\\\\\\/ui\\\\\\\\/minified\\\\\\\\/jquery.ui.widget.min.js\\\":1,\\\"sites\\\\\\\\/obamawhitehouse.archives.gov\\\\\\\\/modules\\\\\\\\/contrib\\\\\\\\/jquery_update\\\\\\\\/replace\\\\\\\\/ui\\\\\\\\/ui\\\\\\\\/minified\\\\\\\\/jquery.ui.mouse.min.js\\\":1,\\\"sites\\\\\\\\/obamawhitehouse.archives.gov\\\\\\\\/modules\\\\\\\\/contrib\\\\\\\\/jquery_update\\\\\\\\/replace\\\\\\\\/ui\\\\\\\\/ui\\\\\\\\/minified\\\\\\\\/jquery.ui.slider.min.js\\\":1,\\\"sites\\\\\\\\/obamawhitehouse.archives.gov\\\\\\\\/modules\\\\\\\\/contrib\\\\\\\\/jquery_update\\\\\\\\/replace\\\\\\\\/ui\\\\\\\\/ui\\\\\\\\/minified\\\\\\\\/jquery.ui.tabs.min.js\\\":1,\\\"sites\\\\\\\\/obamawhitehouse.archives.gov\\\\\\\\/modules\\\\\\\\/contrib\\\\\\\\/jquery_update\\\\\\\\/replace\\\\\\\\/ui\\\\\\\\/ui\\\\\\\\/minified\\\\\\\\/jquery.ui.accordion.min.js\\\":1,\\\"sites\\\\\\\\/obamawhitehouse.archives.gov\\\\\\\\/modules\\\\\\\\/custom\\\\\\\\/fb_instant_articles\\\\\\\\/modules\\\\\\\\/fb_instant_articles_display\\\\\\\\/js\\\\\\\\/admin.js\\\":1,\\\"profiles\\\\\\\\/forall\\\\\\\\/modules\\\\\\\\/custom\\\\\\\\/keyboard_navigation\\\\\\\\/js\\\\\\\\/keyboard_navigation.js\\\":1,\\\"sites\\\\\\\\/obamawhitehouse.archives.gov\\\\\\\\/modules\\\\\\\\/contrib\\\\\\\\/media_preview_slider\\\\\\\\/js\\\\\\\\/slider.js\\\":1,\\\"sites\\\\\\\\/obamawhitehouse.archives.gov\\\\\\\\/modules\\\\\\\\/contrib\\\\\\\\/panopoly_magic\\\\\\\\/panopoly-magic.js\\\":1,\\\"sites\\\\\\\\/obamawhitehouse.archives.gov\\\\\\\\/modules\\\\\\\\/contrib\\\\\\\\/panopoly_theme\\\\\\\\/js\\\\\\\\/panopoly-accordion.js\\\":1,\\\"sites\\\\\\\\/obamawhitehouse.archives.gov\\\\\\\\/libraries\\\\\\\\/superfish\\\\\\\\/src\\\\\\\\/js\\\\\\\\/superfish.js\\\":1,\\\"profiles\\\\\\\\/forall\\\\\\\\/modules\\\\\\\\/custom\\\\\\\\/sixteenhundrednav\\\\\\\\/sixteenhundrednav.js\\\":1,\\\"sites\\\\\\\\/obamawhitehouse.archives.gov\\\\\\\\/libraries\\\\\\\\/colorbox\\\\\\\\/jquery.colorbox-min.js\\\":1,\\\"sites\\\\\\\\/obamawhitehouse.archives.gov\\\\\\\\/modules\\\\\\\\/contrib\\\\\\\\/colorbox\\\\\\\\/js\\\\\\\\/colorbox.js\\\":1,\\\"profiles\\\\\\\\/forall\\\\\\\\/modules\\\\\\\\/custom\\\\\\\\/forall_checklist_fieldable_panels_pane\\\\\\\\/js\\\\\\\\/forall_checklist_fieldable_panels_pane.js\\\":1,\\\"profiles\\\\\\\\/forall\\\\\\\\/modules\\\\\\\\/custom\\\\\\\\/shareables\\\\\\\\/shareables.js\\\":1,\\\"sites\\\\\\\\/obamawhitehouse.archives.gov\\\\\\\\/modules\\\\\\\\/custom\\\\\\\\/whr_blog_listings\\\\\\\\/whr_blog_listings.js\\\":1,\\\"sites\\\\\\\\/obamawhitehouse.archives.gov\\\\\\\\/modules\\\\\\\\/custom\\\\\\\\/whr_briefing_room_listings\\\\\\\\/whr_briefing_room_listings.js\\\":1,\\\"sites\\\\\\\\/obamawhitehouse.archives.gov\\\\\\\\/libraries\\\\\\\\/slick\\\\\\\\/slick\\\\\\\\/slick.min.js\\\":1,\\\"sites\\\\\\\\/obamawhitehouse.archives.gov\\\\\\\\/modules\\\\\\\\/contrib\\\\\\\\/social_share\\\\\\\\/js\\\\\\\\/social_share_facebook_sdk.js\\\":1,\\\"sites\\\\\\\\/obamawhitehouse.archives.gov\\\\\\\\/modules\\\\\\\\/custom\\\\\\\\/whr_takeover\\\\\\\\/whr_takeover.js\\\":1,\\\"misc\\\\\\\\/jquery.cookie.js\\\":1,\\\"profiles\\\\\\\\/forall\\\\\\\\/modules\\\\\\\\/custom\\\\\\\\/forall_webforms\\\\\\\\/forall_webforms.js\\\":1,\\\"sites\\\\\\\\/obamawhitehouse.archives.gov\\\\\\\\/themes\\\\\\\\/custom\\\\\\\\/fortyfour\\\\\\\\/js\\\\\\\\/html5shiv.js\\\":1,\\\"sites\\\\\\\\/obamawhitehouse.archives.gov\\\\\\\\/themes\\\\\\\\/custom\\\\\\\\/fortyfour\\\\\\\\/js\\\\\\\\/theme.js\\\":1,\\\"\\\\\\\\/\\\\\\\\/platform.twitter.com\\\\\\\\/widgets.js\\\":1,\\\"sites\\\\\\\\/obamawhitehouse.archives.gov\\\\\\\\/modules\\\\\\\\/contrib\\\\\\\\/picture\\\\\\\\/picturefill2\\\\\\\\/picturefill.min.js\\\":1,\\\"sites\\\\\\\\/obamawhitehouse.archives.gov\\\\\\\\/modules\\\\\\\\/contrib\\\\\\\\/picture\\\\\\\\/picture.min.js\\\":1},\\\"css\\\":{\\\"https:\\\\\\\\/\\\\\\\\/obamawhitehouse.archives.gov\\\\\\\\/sites\\\\\\\\/obamawhitehouse.archives.gov\\\\\\\\/themes\\\\\\\\/custom\\\\\\\\/fortyfour\\\\\\\\/fonts\\\\\\\\/HCo_fonts.css\\\":1,\\\"modules\\\\\\\\/system\\\\\\\\/system.base.css\\\":1,\\\"modules\\\\\\\\/system\\\\\\\\/system.menus.css\\\":1,\\\"modules\\\\\\\\/system\\\\\\\\/system.messages.css\\\":1,\\\"modules\\\\\\\\/system\\\\\\\\/system.theme.css\\\":1,\\\"misc\\\\\\\\/ui\\\\\\\\/jquery.ui.core.css\\\":1,\\\"misc\\\\\\\\/ui\\\\\\\\/jquery.ui.theme.css\\\":1,\\\"misc\\\\\\\\/ui\\\\\\\\/jquery.ui.slider.css\\\":1,\\\"misc\\\\\\\\/ui\\\\\\\\/jquery.ui.tabs.css\\\":1,\\\"misc\\\\\\\\/ui\\\\\\\\/jquery.ui.accordion.css\\\":1,\\\"modules\\\\\\\\/comment\\\\\\\\/comment.css\\\":1,\\\"modules\\\\\\\\/field\\\\\\\\/theme\\\\\\\\/field.css\\\":1,\\\"profiles\\\\\\\\/forall\\\\\\\\/modules\\\\\\\\/custom\\\\\\\\/forall_river_of_content\\\\\\\\/stylesheets\\\\\\\\/forall_river_of_content.css\\\":1,\\\"profiles\\\\\\\\/forall\\\\\\\\/modules\\\\\\\\/custom\\\\\\\\/forall_secondary_nav\\\\\\\\/stylesheets\\\\\\\\/secondary_nav.css\\\":1,\\\"sites\\\\\\\\/obamawhitehouse.archives.gov\\\\\\\\/modules\\\\\\\\/contrib\\\\\\\\/iib\\\\\\\\/css\\\\\\\\/iib.css\\\":1,\\\"sites\\\\\\\\/obamawhitehouse.archives.gov\\\\\\\\/modules\\\\\\\\/contrib\\\\\\\\/media_preview_slider\\\\\\\\/css\\\\\\\\/slider-styles.css\\\":1,\\\"modules\\\\\\\\/node\\\\\\\\/node.css\\\":1,\\\"sites\\\\\\\\/obamawhitehouse.archives.gov\\\\\\\\/modules\\\\\\\\/contrib\\\\\\\\/panopoly_magic\\\\\\\\/css\\\\\\\\/panopoly-magic.css\\\":1,\\\"sites\\\\\\\\/obamawhitehouse.archives.gov\\\\\\\\/modules\\\\\\\\/contrib\\\\\\\\/panopoly_magic\\\\\\\\/css\\\\\\\\/panopoly-modal.css\\\":1,\\\"sites\\\\\\\\/obamawhitehouse.archives.gov\\\\\\\\/modules\\\\\\\\/contrib\\\\\\\\/panopoly_theme\\\\\\\\/css\\\\\\\\/panopoly-featured.css\\\":1,\\\"sites\\\\\\\\/obamawhitehouse.archives.gov\\\\\\\\/modules\\\\\\\\/contrib\\\\\\\\/panopoly_theme\\\\\\\\/css\\\\\\\\/panopoly-accordian.css\\\":1,\\\"sites\\\\\\\\/obamawhitehouse.archives.gov\\\\\\\\/modules\\\\\\\\/contrib\\\\\\\\/panopoly_theme\\\\\\\\/css\\\\\\\\/panopoly-layouts.css\\\":1,\\\"sites\\\\\\\\/obamawhitehouse.archives.gov\\\\\\\\/modules\\\\\\\\/contrib\\\\\\\\/picture\\\\\\\\/picture_wysiwyg.css\\\":1,\\\"sites\\\\\\\\/obamawhitehouse.archives.gov\\\\\\\\/modules\\\\\\\\/contrib\\\\\\\\/radix_layouts\\\\\\\\/radix_layouts.css\\\":1,\\\"modules\\\\\\\\/search\\\\\\\\/search.css\\\":1,\\\"profiles\\\\\\\\/forall\\\\\\\\/modules\\\\\\\\/custom\\\\\\\\/shareables\\\\\\\\/stylesheets\\\\\\\\/shareables.css\\\":1,\\\"profiles\\\\\\\\/forall\\\\\\\\/modules\\\\\\\\/custom\\\\\\\\/shareables\\\\\\\\/shareable_colorbar_divider\\\\\\\\/stylesheets\\\\\\\\/shareable-colorbar-divider.css\\\":1,\\\"profiles\\\\\\\\/forall\\\\\\\\/modules\\\\\\\\/custom\\\\\\\\/shareables\\\\\\\\/shareable_custom_text\\\\\\\\/stylesheets\\\\\\\\/shareable_custom_text.css\\\":1,\\\"profiles\\\\\\\\/forall\\\\\\\\/modules\\\\\\\\/custom\\\\\\\\/shareables\\\\\\\\/shareable_divider\\\\\\\\/stylesheets\\\\\\\\/shareable-divider.css\\\":1,\\\"profiles\\\\\\\\/forall\\\\\\\\/modules\\\\\\\\/custom\\\\\\\\/shareables\\\\\\\\/shareable_full_width\\\\\\\\/stylesheets\\\\\\\\/shareable_full_width.css\\\":1,\\\"profiles\\\\\\\\/forall\\\\\\\\/modules\\\\\\\\/custom\\\\\\\\/shareables\\\\\\\\/shareable_survey_poll\\\\\\\\/stylesheets\\\\\\\\/shareable_survey_poll.css\\\":1,\\\"profiles\\\\\\\\/forall\\\\\\\\/modules\\\\\\\\/custom\\\\\\\\/shareables\\\\\\\\/shareable_tweet\\\\\\\\/stylesheets\\\\\\\\/shareable_tweet.css\\\":1,\\\"profiles\\\\\\\\/forall\\\\\\\\/modules\\\\\\\\/custom\\\\\\\\/shareables\\\\\\\\/shareable_video\\\\\\\\/stylesheets\\\\\\\\/shareable_video.css\\\":1,\\\"sites\\\\\\\\/obamawhitehouse.archives.gov\\\\\\\\/modules\\\\\\\\/custom\\\\\\\\/shortcodeapiiframe\\\\\\\\/css\\\\\\\\/shortcodeapiiframe.css\\\":1,\\\"sites\\\\\\\\/obamawhitehouse.archives.gov\\\\\\\\/modules\\\\\\\\/custom\\\\\\\\/shortcodeapislideshare\\\\\\\\/css\\\\\\\\/shortcodeapislideshare.css\\\":1,\\\"sites\\\\\\\\/obamawhitehouse.archives.gov\\\\\\\\/modules\\\\\\\\/custom\\\\\\\\/shortcodeapisocrata\\\\\\\\/css\\\\\\\\/shortcodeapisocrata.css\\\":1,\\\"sites\\\\\\\\/obamawhitehouse.archives.gov\\\\\\\\/modules\\\\\\\\/custom\\\\\\\\/shortcodeapitweet\\\\\\\\/css\\\\\\\\/shortcodeapitweet.css\\\":1,\\\"profiles\\\\\\\\/forall\\\\\\\\/modules\\\\\\\\/custom\\\\\\\\/shortcodeapiyoutube\\\\\\\\/stylesheets\\\\\\\\/shortcodeapiyoutube.css\\\":1,\\\"profiles\\\\\\\\/forall\\\\\\\\/modules\\\\\\\\/custom\\\\\\\\/sixteenhundredpanels\\\\\\\\/stylesheets\\\\\\\\/sixteen_hundred_panels.css\\\":1,\\\"modules\\\\\\\\/user\\\\\\\\/user.css\\\":1,\\\"profiles\\\\\\\\/forall\\\\\\\\/modules\\\\\\\\/custom\\\\\\\\/gov_whitehouse_www\\\\\\\\/modules\\\\\\\\/whitehouse_sotu2015\\\\\\\\/stylesheets\\\\\\\\/whitehouse_sotu2015.css\\\":1,\\\"sites\\\\\\\\/obamawhitehouse.archives.gov\\\\\\\\/modules\\\\\\\\/contrib\\\\\\\\/youtube\\\\\\\\/css\\\\\\\\/youtube.css\\\":1,\\\"profiles\\\\\\\\/forall\\\\\\\\/modules\\\\\\\\/custom\\\\\\\\/youtube_livestream_listings\\\\\\\\/stylesheets\\\\\\\\/youtubelivestreamlistings.css\\\":1,\\\"profiles\\\\\\\\/forall\\\\\\\\/modules\\\\\\\\/custom\\\\\\\\/youtube_livestream_multi\\\\\\\\/stylesheets\\\\\\\\/youtube_livestream_multi.css\\\":1,\\\"sites\\\\\\\\/obamawhitehouse.archives.gov\\\\\\\\/modules\\\\\\\\/contrib\\\\\\\\/views\\\\\\\\/css\\\\\\\\/views.css\\\":1,\\\"profiles\\\\\\\\/forall\\\\\\\\/modules\\\\\\\\/custom\\\\\\\\/sixteenhundrednav\\\\\\\\/stylesheets\\\\\\\\/screen.css\\\":1,\\\"profiles\\\\\\\\/forall\\\\\\\\/modules\\\\\\\\/custom\\\\\\\\/sixteenhundrednav\\\\\\\\/stylesheets\\\\\\\\/ie.css\\\":1,\\\"profiles\\\\\\\\/forall\\\\\\\\/modules\\\\\\\\/custom\\\\\\\\/sixteenhundrednav\\\\\\\\/stylesheets\\\\\\\\/print.css\\\":1,\\\"sites\\\\\\\\/obamawhitehouse.archives.gov\\\\\\\\/modules\\\\\\\\/contrib\\\\\\\\/ckeditor\\\\\\\\/css\\\\\\\\/ckeditor.css\\\":1,\\\"sites\\\\\\\\/obamawhitehouse.archives.gov\\\\\\\\/modules\\\\\\\\/contrib\\\\\\\\/ctools\\\\\\\\/css\\\\\\\\/ctools.css\\\":1,\\\"sites\\\\\\\\/obamawhitehouse.archives.gov\\\\\\\\/modules\\\\\\\\/contrib\\\\\\\\/panels\\\\\\\\/css\\\\\\\\/panels.css\\\":1,\\\"sites\\\\\\\\/obamawhitehouse.archives.gov\\\\\\\\/libraries\\\\\\\\/slick\\\\\\\\/slick\\\\\\\\/slick-theme.css\\\":1,\\\"profiles\\\\\\\\/forall\\\\\\\\/modules\\\\\\\\/custom\\\\\\\\/gov_whitehouse_www\\\\\\\\/modules\\\\\\\\/whitehouse_nav\\\\\\\\/css\\\\\\\\/whitehouse_nav_search.css\\\":1,\\\"sites\\\\\\\\/obamawhitehouse.archives.gov\\\\\\\\/libraries\\\\\\\\/fontawesome\\\\\\\\/css\\\\\\\\/font-awesome.css\\\":1,\\\"profiles\\\\\\\\/forall\\\\\\\\/modules\\\\\\\\/custom\\\\\\\\/sixteenhundredfooter\\\\\\\\/stylesheets\\\\\\\\/sixteenhundredfooter.css\\\":1,\\\"profiles\\\\\\\\/forall\\\\\\\\/modules\\\\\\\\/custom\\\\\\\\/sixteenhundredfooter\\\\\\\\/system.menus.css\\\":1,\\\"profiles\\\\\\\\/forall\\\\\\\\/modules\\\\\\\\/custom\\\\\\\\/sixteenhundredfooter\\\\\\\\/system.messages.css\\\":1,\\\"profiles\\\\\\\\/forall\\\\\\\\/modules\\\\\\\\/custom\\\\\\\\/sixteenhundredfooter\\\\\\\\/system.theme.css\\\":1,\\\"sites\\\\\\\\/obamawhitehouse.archives.gov\\\\\\\\/themes\\\\\\\\/custom\\\\\\\\/fortyfour\\\\\\\\/system.menus.css\\\":1,\\\"sites\\\\\\\\/obamawhitehouse.archives.gov\\\\\\\\/themes\\\\\\\\/custom\\\\\\\\/fortyfour\\\\\\\\/system.messages.css\\\":1,\\\"sites\\\\\\\\/obamawhitehouse.archives.gov\\\\\\\\/themes\\\\\\\\/custom\\\\\\\\/fortyfour\\\\\\\\/system.theme.css\\\":1,\\\"sites\\\\\\\\/obamawhitehouse.archives.gov\\\\\\\\/themes\\\\\\\\/custom\\\\\\\\/fortyfour\\\\\\\\/css\\\\\\\\/styles.css\\\":1,\\\"profiles\\\\\\\\/forall\\\\\\\\/modules\\\\\\\\/custom\\\\\\\\/gov_whitehouse_www\\\\\\\\/modules\\\\\\\\/whitehouse_nav\\\\\\\\/css\\\\\\\\/whitehouse_nav_search_ie9.css\\\":1}},\\\"colorbox\\\":{\\\"opacity\\\":\\\"0.85\\\",\\\"current\\\":\\\"{current} of {total}\\\",\\\"previous\\\":\\\"\\\\\\\\u00ab Prev\\\",\\\"next\\\":\\\"Next \\\\\\\\u00bb\\\",\\\"close\\\":\\\"Close\\\",\\\"maxWidth\\\":\\\"98%\\\",\\\"maxHeight\\\":\\\"98%\\\",\\\"fixed\\\":true,\\\"mobiledetect\\\":true,\\\"mobiledevicewidth\\\":\\\"480px\\\",\\\"specificPagesDefaultValue\\\":\\\"admin*\\\\\\\\nimagebrowser*\\\\\\\\nimg_assist*\\\\\\\\nimce*\\\\\\\\nnode\\\\\\\\/add\\\\\\\\/*\\\\\\\\nnode\\\\\\\\/*\\\\\\\\/edit\\\\\\\\nprint\\\\\\\\/*\\\\\\\\nprintpdf\\\\\\\\/*\\\\\\\\nsystem\\\\\\\\/ajax\\\\\\\\nsystem\\\\\\\\/ajax\\\\\\\\/*\\\"},\\\"CToolsModal\\\":{\\\"modalSize\\\":{\\\"type\\\":\\\"scale\\\",\\\"width\\\":\\\".9\\\",\\\"height\\\":\\\".9\\\",\\\"addWidth\\\":0,\\\"addHeight\\\":0,\\\"contentRight\\\":25,\\\"contentBottom\\\":75},\\\"modalOptions\\\":{\\\"opacity\\\":\\\".55\\\",\\\"background-color\\\":\\\"#FFF\\\"},\\\"animationSpeed\\\":\\\"fast\\\",\\\"modalTheme\\\":\\\"CToolsModalDialog\\\",\\\"throbberTheme\\\":\\\"CToolsModalThrobber\\\"},\\\"panopoly_magic\\\":{\\\"pane_add_preview_mode\\\":\\\"automatic\\\"},\\\"urlIsAjaxTrusted\\\":{\\\"\\\\\\\\/\\\\\\\\/search.archives.gov\\\\\\\\/search\\\":true},\\\"better_exposed_filters\\\":{\\\"views\\\":{\\\"press_office_listings\\\":{\\\"displays\\\":{\\\"panel_pane_6\\\":{\\\"filters\\\":[]}}}}},\\\"currentPath\\\":\\\"node\\\\\\\\/56851\\\",\\\"currentPathIsAdmin\\\":false,\\\"socialShare\\\":{\\\"appID\\\":\\\"100929903392\\\"}}); \\\\nif(jQuery.isFunction(jQuery.holdReady)){jQuery.holdReady(false);}} if(window.jQuery \u0026\u0026 window.Drupal){init_drupal_core_settings();}\u003c/script\u003e\\\\n\u003c/body\u003e\\\\n\u003c/html\u003e\\\\n'\\n\"","     ]","    }","   ],","   \"source\": [","    \"import requests\\n\",","    \"import urllib.request\\n\",","    \"#response =  urllib.request.urlopen('https://en.wikipedia.org/wiki/SpaceX')\\n\",","    \"response =  urllib.request.urlopen('https://obamawhitehouse.archives.gov/the-press-office/2013/01/21/inaugural-address-president-barack-obama')\\n\",","    \"html = response.read()\\n\",","    \"print(html)\"","   ]","  },","  {","   \"cell_type\": \"code\",","   \"execution_count\": 19,","   \"id\": \"b4948749\",","   \"metadata\": {},","   \"outputs\": [","    {","     \"name\": \"stdout\",","     \"output_type\": \"stream\",","     \"text\": [","      \"Inaugural Address by President Barack Obama | whitehouse.govJump to main contentJump to navigationThis is historical material “frozen in time”. The website is no longer updated and links to external websites and some internal pages may not work.HomeBriefing RoomFrom the News RoomLatest NewsRead the latest blog posts from 1600 Pennsylvania AveShare-WorthyCheck out the most popular infographics and videosPhotosView the photo of the day and other galleriesVideo GalleryWatch behind-the-scenes videos and moreLive EventsTune in to White House events and statements as they happenMusic \u0026 Arts PerformancesSee the lineup of artists and performers at the White HouseFrom the Press OfficeYour Weekly AddressSpeeches \u0026 RemarksPress BriefingsStatements \u0026 ReleasesWhite House SchedulePresidential ActionsLegislationNominations \u0026 AppointmentsDisclosuresIssuesPopular TopicsThe RecordCabinet Exit MemosCriminal Justice ReformCubaSee AllTop IssuesCivil RightsClimate ChangeEconomyEducationForeign PolicyHealth CareIran DealImmigration ActionMoreDefenseDisabilitiesEthicsEqual PayHomeland SecurityReducing Gun ViolenceRuralServiceMoreSeniors \u0026 Social SecurityTaxesTechnologyTradeUrban and Economic MobilityVeteransWomenThe AdministrationPeoplePresident Barack ObamaVice President Joe BidenFirst Lady Michelle ObamaDr. Jill BidenThe CabinetExecutive Office of the PresidentSenior White House LeadershipOther Advisory BoardsExecutive OfficesOffice of Management and BudgetOffice of Science and Technology PolicyCouncil of Economic AdvisersCouncil on Environmental QualityNational Security CouncilSee AllInitiativesLets MoveJoining ForcesReach HigherMy Brother's KeeperPrecision MedicineSpecial EventsState of the UnionInaugurationMedal of FreedomParticipateDigitalFollow Us on Social MediaWe the Geeks HangoutsMobile AppsDeveloper ToolsTools You Can UseJoin UsTours \u0026 EventsJobs with the AdministrationInternshipsWhite House FellowsPresidential Innovation FellowsUnited States Digital ServiceLeadership Development ProgramSpeak OutWe the People PetitionsContact the White HouseCitizens MedalChampions of Change1600 PennInside the White HouseWest Wing TourEisenhower Executive Office Building TourVideo SeriesDécor and ArtHolidaysSee AllHistory \u0026 GroundsPresidentsFirst LadiesThe Vice President's Residence \u0026 OfficeEisenhower Executive Office BuildingCamp DavidAir Force OneOur GovernmentThe Executive BranchThe Legislative BranchThe Judicial BranchThe ConstitutionFederal Agencies \u0026 CommissionsElections \u0026 VotingState \u0026 Local GovernmentResourcesSearch formSearchYou are hereHomeBriefing RoomSpeeches \u0026 RemarksBriefing RoomYour Weekly AddressSpeeches \u0026 RemarksPress BriefingsStatements \u0026 ReleasesWhite House SchedulePresidential ActionsExecutive OrdersPresidential MemorandaProclamationsLegislationPending LegislationSigned LegislationVetoed LegislationNominations \u0026 AppointmentsDisclosuresThe White HouseOffice of the Press SecretaryFor Immediate ReleaseJanuary 21, 2013Inaugural Address by President Barack ObamaUnited States Capitol11:55 A.M. ESTTHE PRESIDENT:  Vice President Biden, Mr. Chief Justice,members of the United States Congress, distinguished guests, and fellow citizens:Each time we gather to inaugurate a President we bear witness to the enduring strength of our Constitution.  We affirm the promise of our democracy.  We recall that what binds this nation together is not the colors of our skin or the tenets of our faith or the origins of our names.  What makes us exceptional -- what makes us American -- is our allegiance to an idea articulated in a declaration made more than two centuries ago:“We hold these truths to be self-evident, that all men are created equal; that they are endowed by their Creator with certain unalienable rights; that among these are life, liberty, and the pursuit of happiness.”Today we continue a never-ending journey to bridge the meaning of those words with the realities of our time.  For history tells us that while these truths may be self-evident, they’ve never been self-executing; that while freedom is a gift from God, it must be secured by His people here on Earth.  (Applause.)  The patriots of 1776 did not fight to replace the tyranny of a king with the privileges of a few or the rule of a mob.  They gave to us a republic, a government of, and by, and for the people, entrusting each generation to keep safe our founding creed.And for more than two hundred years, we have.Through blood drawn by lash and blood drawn by sword, we learned that no union founded on the principles of liberty and equality could survive half-slave and half-free.  We made ourselves anew, and vowed to move forward together.Together, we determined that a modern economy requires railroads and highways to speed travel and commerce, schools and colleges to train our workers.Together, we discovered that a free market only thrives when there are rules to ensure competition and fair play.Together, we resolved that a great nation must care for the vulnerable, and protect its people from life’s worst hazards and misfortune.Through it all, we have never relinquished our skepticism of central authority, nor have we succumbed to the fiction that all society’s ills can be cured through government alone.  Our celebration of initiative and enterprise, our insistence on hard work and personal responsibility, these are constants in our character.But we have always understood that when times change, so must we; that fidelity to our founding principles requires new responses to new challenges; that preserving our individual freedoms ultimately requires collective action.  For the American people can no more meet the demands of today’s world by acting alone than American soldiers could have met the forces of fascism or communism with muskets and militias.  No single person can train all the math and science teachers we’ll need to equip our children for the future, or build the roads and networks and research labs that will bring new jobs and businesses to our shores.  Now, more than ever, we must do these things together, as one nation and one people.  (Applause.)This generation of Americans has been tested by crises that steeled our resolve and proved our resilience.  A decade of war is now ending.  (Applause.)  An economic recovery has begun.  (Applause.)  America’s possibilities are limitless, for we possess all the qualities that this world without boundaries demands:  youth and drive; diversity and openness; an endless capacity for risk and a gift for reinvention.  My fellow Americans, we are made for this moment, and we will seize it -- so long as we seize it together.  (Applause.)For we, the people, understand that our country cannot succeed when a shrinking few do very well and a growing many barely make it.  (Applause.)  We believe that America’s prosperity must rest upon the broad shoulders of a rising middle class.  We know that America thrives when every person can find independence and pride in their work; when the wages of honest labor liberate families from the brink of hardship.  We are true to our creed when a little girl born into the bleakest poverty knows that she has the same chance to succeed as anybody else, because she is an American; she is free, and she is equal, not just in the eyes of God but also in our own.  (Applause.)We understand that outworn programs are inadequate to the needs of our time.  So we must harness new ideas and technology to remake our government, revamp our tax code, reform our schools, and empower our citizens with the skills they need to work harder, learn more, reach higher.  But while the means will change, our purpose endures:  a nation that rewards the effort and determination of every single American.  That is what this moment requires.  That is what will give real meaning to our creed.We, the people, still believe that every citizen deserves a basic measure of security and dignity.  We must make the hard choices to reduce the cost of health care and the size of our deficit.  But we reject the belief that America must choose between caring for the generation that built this country and investing in the generation that will build its future.  (Applause.)  For we remember the lessons of our past, when twilight years were spent in poverty and parents of a child with a disability had nowhere to turn.We do not believe that in this country freedom is reserved for the lucky, or happiness for the few.  We recognize that no matter how responsibly we live our lives, any one of us at any time may face a job loss, or a sudden illness, or a home swept away in a terrible storm.  The commitments we make to each other through Medicare and Medicaid and Social Security, these things do not sap our initiative, they strengthen us.  (Applause.)  They do not make us a nation of takers; they free us to take the risks that make this country great.  (Applause.)We, the people, still believe that our obligations as Americans are not just to ourselves, but to all posterity.  We will respond to the threat of climate change, knowing that the failure to do so would betray our children and future generations.  (Applause.)  Some may still deny the overwhelming judgment of science, but none can avoid the devastating impact of raging fires and crippling drought and more powerful storms.The path towards sustainable energy sources will be long and sometimes difficult.  But America cannot resist this transition, we must lead it.  We cannot cede to other nations the technology that will power new jobs and new industries, we must claim its promise.  That’s how we will maintain our economic vitality and our national treasure -- our forests and waterways, our crop lands and snow-capped peaks.  That is how we will preserve our planet, commanded to our care by God.  That’s what will lend meaning to the creed our fathers once declared.We, the people, still believe that enduring security and lasting peace do not require perpetual war.  (Applause.)  Our brave men and women in uniform, tempered by the flames of battle, are unmatched in skill and courage.  (Applause.)  Our citizens, seared by the memory of those we have lost, know too well the price that is paid for liberty.  The knowledge of their sacrifice will keep us forever vigilant against those who would do us harm. But we are also heirs to those who won the peace and not just the war; who turned sworn enemies into the surest of friends -- and we must carry those lessons into this time as well.We will defend our people and uphold our values through strength of arms and rule of law.  We will show the courage to try and resolve our differences with other nations peacefully –- not because we are naïve about the dangers we face, but because engagement can more durably lift suspicion and fear.  (Applause.)America will remain the anchor of strong alliances in every corner of the globe.  And we will renew those institutions that extend our capacity to manage crisis abroad, for no one has a greater stake in a peaceful world than its most powerful nation.  We will support democracy from Asia to Africa, from the Americas to the Middle East, because our interests and our conscience compel us to act on behalf of those who long for freedom.  And we must be a source of hope to the poor, the sick, the marginalized, the victims of prejudice –- not out of mere charity, but because peace in our time requires the constant advance of those principles that our common creed describes:  tolerance and opportunity, human dignity and justice.We, the people, declare today that the most evident of truths –- that all of us are created equal –- is the star that guides us still; just as it guided our forebears through Seneca Falls, and Selma, and Stonewall; just as it guided all those men and women, sung and unsung, who left footprints along this great Mall, to hear a preacher say that we cannot walk alone; to hear a King proclaim that our individual freedom is inextricably bound to the freedom of every soul on Earth.  (Applause.)It is now our generation’s task to carry on what those pioneers began.  For our journey is not complete until our wives, our mothers and daughters can earn a living equal to their efforts.  (Applause.)  Our journey is not complete until our gay brothers and sisters are treated like anyone else under the law  –- (applause) -- for if we are truly created equal, then surely the love we commit to one another must be equal as well.  (Applause.)  Our journey is not complete until no citizen is forced to wait for hours to exercise the right to vote.  (Applause.)  Our journey is not complete until we find a better way to welcome the striving, hopeful immigrants who still see America as a land of opportunity -- (applause) -- until bright young students and engineers are enlisted in our workforce rather than expelled from our country.  (Applause.)   Our journey is not complete until all our children, from the streets of Detroit to the hills of Appalachia, to the quiet lanes of Newtown, know that they are cared for and cherished and always safe from harm.That is our generation’s task -- to make these words, these rights, these values of life and liberty and the pursuit of happiness real for every American.  Being true to our founding documents does not require us to agree on every contour of life. It does not mean we all define liberty in exactly the same way or follow the same precise path to happiness.  Progress does not compel us to settle centuries-long debates about the role of government for all time, but it does require us to act in our time.  (Applause.)For now decisions are upon us and we cannot afford delay.  We cannot mistake absolutism for principle, or substitute spectacle for politics, or treat name-calling as reasoned debate.  (Applause.)  We must act, knowing that our work will be imperfect.  We must act, knowing that today’s victories will be only partial and that it will be up to those who stand here in four years and 40 years and 400 years hence to advance the timeless spirit once conferred to us in a spare Philadelphia hall.My fellow Americans, the oath I have sworn before you today, like the one recited by others who serve in this Capitol, was an oath to God and country, not party or faction.  And we must faithfully execute that pledge during the duration of our service.  But the words I spoke today are not so different from the oath that is taken each time a soldier signs up for duty or an immigrant realizes her dream.  My oath is not so different from the pledge we all make to the flag that waves above and that fills our hearts with pride.They are the words of citizens and they represent our greatest hope.  You and I, as citizens, have the power to set this country’s course.  You and I, as citizens, have the obligation to shape the debates of our time -- not only with the votes we cast, but with the voices we lift in defense of our most ancient values and enduring ideals.  (Applause.)Let us, each of us, now embrace with solemn duty and awesome joy what is our lasting birthright.  With common effort and common purpose, with passion and dedication, let us answer the call of history and carry into an uncertain future that precious light of freedom.Thank you.  God bless you, and may He forever bless these United States of America.  (Applause.)END12:10 P.M. ESTTwitterInstagramFacebookGoogle+YoutubeMore ways to engageContact UsEmailHomeBriefing RoomFrom the News RoomLatest NewsShare-WorthyPhotosVideo GalleryLive EventsMusic \u0026 Arts PerformancesFrom the Press OfficeYour Weekly AddressSpeeches \u0026 RemarksPress BriefingsStatements \u0026 ReleasesWhite House SchedulePresidential ActionsLegislationNominations \u0026 AppointmentsDisclosuresIssuesPopular TopicsThe RecordCabinet Exit MemosCriminal Justice ReformCubaSee AllTop IssuesCivil RightsClimate ChangeEconomyEducationForeign PolicyHealth CareIran DealImmigration ActionMoreDefenseDisabilitiesEthicsEqual PayHomeland SecurityReducing Gun ViolenceRuralServiceMoreSeniors \u0026 Social SecurityTaxesTechnologyTradeUrban and Economic MobilityVeteransWomenThe AdministrationPeoplePresident Barack ObamaVice President Joe BidenFirst Lady Michelle ObamaDr. Jill BidenThe CabinetExecutive Office of the PresidentSenior White House LeadershipOther Advisory BoardsExecutive OfficesOffice of Management and BudgetOffice of Science and Technology PolicyCouncil of Economic AdvisersCouncil on Environmental QualityNational Security CouncilSee AllInitiativesLets MoveJoining ForcesReach HigherMy Brother's KeeperPrecision MedicineSpecial EventsState of the UnionInaugurationMedal of FreedomParticipateDigitalFollow Us on Social MediaWe the Geeks HangoutsMobile AppsDeveloper ToolsTools You Can UseJoin UsTours \u0026 EventsJobs with the AdministrationInternshipsWhite House FellowsPresidential Innovation FellowsUnited States Digital ServiceLeadership Development ProgramSpeak OutWe the People PetitionsContact the White HouseCitizens MedalChampions of Change1600 PennInside the White HouseWest Wing TourEisenhower Executive Office Building TourVideo SeriesDécor and ArtHolidaysSee AllHistory \u0026 GroundsPresidentsFirst LadiesThe Vice President's Residence \u0026 OfficeEisenhower Executive Office BuildingCamp DavidAir Force OneOur GovernmentThe Executive BranchThe Legislative BranchThe Judicial BranchThe ConstitutionFederal Agencies \u0026 CommissionsElections \u0026 VotingState \u0026 Local GovernmentResourcesEn EspañolAccessibilityCopyright InformationPrivacy PolicyUSA.gov\\n\"","     ]","    }","   ],","   \"source\": [","    \"from bs4 import BeautifulSoup\\n\",","    \"soup = BeautifulSoup(html,'html.parser')\\n\",","    \"text = soup.get_text(strip = True)\\n\",","    \"print(text)\"","   ]","  },","  {","   \"cell_type\": \"code\",","   \"execution_count\": 20,","   \"id\": \"842bdfd3\",","   \"metadata\": {},","   \"outputs\": [","    {","     \"name\": \"stdout\",","     \"output_type\": \"stream\",","     \"text\": [","      \"['Inaugural', 'Address', 'by', 'President', 'Barack', 'Obama', '|', 'whitehouse.govJump', 'to', 'main', 'contentJump', 'to', 'navigationThis', 'is', 'historical', 'material', '“frozen', 'in', 'time”.', 'The', 'website', 'is', 'no', 'longer', 'updated', 'and', 'links', 'to', 'external', 'websites', 'and', 'some', 'internal', 'pages', 'may', 'not', 'work.HomeBriefing', 'RoomFrom', 'the', 'News', 'RoomLatest', 'NewsRead', 'the', 'latest', 'blog', 'posts', 'from', '1600', 'Pennsylvania', 'AveShare-WorthyCheck', 'out', 'the', 'most', 'popular', 'infographics', 'and', 'videosPhotosView', 'the', 'photo', 'of', 'the', 'day', 'and', 'other', 'galleriesVideo', 'GalleryWatch', 'behind-the-scenes', 'videos', 'and', 'moreLive', 'EventsTune', 'in', 'to', 'White', 'House', 'events', 'and', 'statements', 'as', 'they', 'happenMusic', '\u0026', 'Arts', 'PerformancesSee', 'the', 'lineup', 'of', 'artists', 'and', 'performers', 'at', 'the', 'White', 'HouseFrom', 'the', 'Press', 'OfficeYour', 'Weekly', 'AddressSpeeches', '\u0026', 'RemarksPress', 'BriefingsStatements', '\u0026', 'ReleasesWhite', 'House', 'SchedulePresidential', 'ActionsLegislationNominations', '\u0026', 'AppointmentsDisclosuresIssuesPopular', 'TopicsThe', 'RecordCabinet', 'Exit', 'MemosCriminal', 'Justice', 'ReformCubaSee', 'AllTop', 'IssuesCivil', 'RightsClimate', 'ChangeEconomyEducationForeign', 'PolicyHealth', 'CareIran', 'DealImmigration', 'ActionMoreDefenseDisabilitiesEthicsEqual', 'PayHomeland', 'SecurityReducing', 'Gun', 'ViolenceRuralServiceMoreSeniors', '\u0026', 'Social', 'SecurityTaxesTechnologyTradeUrban', 'and', 'Economic', 'MobilityVeteransWomenThe', 'AdministrationPeoplePresident', 'Barack', 'ObamaVice', 'President', 'Joe', 'BidenFirst', 'Lady', 'Michelle', 'ObamaDr.', 'Jill', 'BidenThe', 'CabinetExecutive', 'Office', 'of', 'the', 'PresidentSenior', 'White', 'House', 'LeadershipOther', 'Advisory', 'BoardsExecutive', 'OfficesOffice', 'of', 'Management', 'and', 'BudgetOffice', 'of', 'Science', 'and', 'Technology', 'PolicyCouncil', 'of', 'Economic', 'AdvisersCouncil', 'on', 'Environmental', 'QualityNational', 'Security', 'CouncilSee', 'AllInitiativesLets', 'MoveJoining', 'ForcesReach', 'HigherMy', \\\"Brother's\\\", 'KeeperPrecision', 'MedicineSpecial', 'EventsState', 'of', 'the', 'UnionInaugurationMedal', 'of', 'FreedomParticipateDigitalFollow', 'Us', 'on', 'Social', 'MediaWe', 'the', 'Geeks', 'HangoutsMobile', 'AppsDeveloper', 'ToolsTools', 'You', 'Can', 'UseJoin', 'UsTours', '\u0026', 'EventsJobs', 'with', 'the', 'AdministrationInternshipsWhite', 'House', 'FellowsPresidential', 'Innovation', 'FellowsUnited', 'States', 'Digital', 'ServiceLeadership', 'Development', 'ProgramSpeak', 'OutWe', 'the', 'People', 'PetitionsContact', 'the', 'White', 'HouseCitizens', 'MedalChampions', 'of', 'Change1600', 'PennInside', 'the', 'White', 'HouseWest', 'Wing', 'TourEisenhower', 'Executive', 'Office', 'Building', 'TourVideo', 'SeriesDécor', 'and', 'ArtHolidaysSee', 'AllHistory', '\u0026', 'GroundsPresidentsFirst', 'LadiesThe', 'Vice', \\\"President's\\\", 'Residence', '\u0026', 'OfficeEisenhower', 'Executive', 'Office', 'BuildingCamp', 'DavidAir', 'Force', 'OneOur', 'GovernmentThe', 'Executive', 'BranchThe', 'Legislative', 'BranchThe', 'Judicial', 'BranchThe', 'ConstitutionFederal', 'Agencies', '\u0026', 'CommissionsElections', '\u0026', 'VotingState', '\u0026', 'Local', 'GovernmentResourcesSearch', 'formSearchYou', 'are', 'hereHomeBriefing', 'RoomSpeeches', '\u0026', 'RemarksBriefing', 'RoomYour', 'Weekly', 'AddressSpeeches', '\u0026', 'RemarksPress', 'BriefingsStatements', '\u0026', 'ReleasesWhite', 'House', 'SchedulePresidential', 'ActionsExecutive', 'OrdersPresidential', 'MemorandaProclamationsLegislationPending', 'LegislationSigned', 'LegislationVetoed', 'LegislationNominations', '\u0026', 'AppointmentsDisclosuresThe', 'White', 'HouseOffice', 'of', 'the', 'Press', 'SecretaryFor', 'Immediate', 'ReleaseJanuary', '21,', '2013Inaugural', 'Address', 'by', 'President', 'Barack', 'ObamaUnited', 'States', 'Capitol11:55', 'A.M.', 'ESTTHE', 'PRESIDENT:', 'Vice', 'President', 'Biden,', 'Mr.', 'Chief', 'Justice,members', 'of', 'the', 'United', 'States', 'Congress,', 'distinguished', 'guests,', 'and', 'fellow', 'citizens:Each', 'time', 'we', 'gather', 'to', 'inaugurate', 'a', 'President', 'we', 'bear', 'witness', 'to', 'the', 'enduring', 'strength', 'of', 'our', 'Constitution.', 'We', 'affirm', 'the', 'promise', 'of', 'our', 'democracy.', 'We', 'recall', 'that', 'what', 'binds', 'this', 'nation', 'together', 'is', 'not', 'the', 'colors', 'of', 'our', 'skin', 'or', 'the', 'tenets', 'of', 'our', 'faith', 'or', 'the', 'origins', 'of', 'our', 'names.', 'What', 'makes', 'us', 'exceptional', '--', 'what', 'makes', 'us', 'American', '--', 'is', 'our', 'allegiance', 'to', 'an', 'idea', 'articulated', 'in', 'a', 'declaration', 'made', 'more', 'than', 'two', 'centuries', 'ago:“We', 'hold', 'these', 'truths', 'to', 'be', 'self-evident,', 'that', 'all', 'men', 'are', 'created', 'equal;', 'that', 'they', 'are', 'endowed', 'by', 'their', 'Creator', 'with', 'certain', 'unalienable', 'rights;', 'that', 'among', 'these', 'are', 'life,', 'liberty,', 'and', 'the', 'pursuit', 'of', 'happiness.”Today', 'we', 'continue', 'a', 'never-ending', 'journey', 'to', 'bridge', 'the', 'meaning', 'of', 'those', 'words', 'with', 'the', 'realities', 'of', 'our', 'time.', 'For', 'history', 'tells', 'us', 'that', 'while', 'these', 'truths', 'may', 'be', 'self-evident,', 'they’ve', 'never', 'been', 'self-executing;', 'that', 'while', 'freedom', 'is', 'a', 'gift', 'from', 'God,', 'it', 'must', 'be', 'secured', 'by', 'His', 'people', 'here', 'on', 'Earth.', '(Applause.)', 'The', 'patriots', 'of', '1776', 'did', 'not', 'fight', 'to', 'replace', 'the', 'tyranny', 'of', 'a', 'king', 'with', 'the', 'privileges', 'of', 'a', 'few', 'or', 'the', 'rule', 'of', 'a', 'mob.', 'They', 'gave', 'to', 'us', 'a', 'republic,', 'a', 'government', 'of,', 'and', 'by,', 'and', 'for', 'the', 'people,', 'entrusting', 'each', 'generation', 'to', 'keep', 'safe', 'our', 'founding', 'creed.And', 'for', 'more', 'than', 'two', 'hundred', 'years,', 'we', 'have.Through', 'blood', 'drawn', 'by', 'lash', 'and', 'blood', 'drawn', 'by', 'sword,', 'we', 'learned', 'that', 'no', 'union', 'founded', 'on', 'the', 'principles', 'of', 'liberty', 'and', 'equality', 'could', 'survive', 'half-slave', 'and', 'half-free.', 'We', 'made', 'ourselves', 'anew,', 'and', 'vowed', 'to', 'move', 'forward', 'together.Together,', 'we', 'determined', 'that', 'a', 'modern', 'economy', 'requires', 'railroads', 'and', 'highways', 'to', 'speed', 'travel', 'and', 'commerce,', 'schools', 'and', 'colleges', 'to', 'train', 'our', 'workers.Together,', 'we', 'discovered', 'that', 'a', 'free', 'market', 'only', 'thrives', 'when', 'there', 'are', 'rules', 'to', 'ensure', 'competition', 'and', 'fair', 'play.Together,', 'we', 'resolved', 'that', 'a', 'great', 'nation', 'must', 'care', 'for', 'the', 'vulnerable,', 'and', 'protect', 'its', 'people', 'from', 'life’s', 'worst', 'hazards', 'and', 'misfortune.Through', 'it', 'all,', 'we', 'have', 'never', 'relinquished', 'our', 'skepticism', 'of', 'central', 'authority,', 'nor', 'have', 'we', 'succumbed', 'to', 'the', 'fiction', 'that', 'all', 'society’s', 'ills', 'can', 'be', 'cured', 'through', 'government', 'alone.', 'Our', 'celebration', 'of', 'initiative', 'and', 'enterprise,', 'our', 'insistence', 'on', 'hard', 'work', 'and', 'personal', 'responsibility,', 'these', 'are', 'constants', 'in', 'our', 'character.But', 'we', 'have', 'always', 'understood', 'that', 'when', 'times', 'change,', 'so', 'must', 'we;', 'that', 'fidelity', 'to', 'our', 'founding', 'principles', 'requires', 'new', 'responses', 'to', 'new', 'challenges;', 'that', 'preserving', 'our', 'individual', 'freedoms', 'ultimately', 'requires', 'collective', 'action.', 'For', 'the', 'American', 'people', 'can', 'no', 'more', 'meet', 'the', 'demands', 'of', 'today’s', 'world', 'by', 'acting', 'alone', 'than', 'American', 'soldiers', 'could', 'have', 'met', 'the', 'forces', 'of', 'fascism', 'or', 'communism', 'with', 'muskets', 'and', 'militias.', 'No', 'single', 'person', 'can', 'train', 'all', 'the', 'math', 'and', 'science', 'teachers', 'we’ll', 'need', 'to', 'equip', 'our', 'children', 'for', 'the', 'future,', 'or', 'build', 'the', 'roads', 'and', 'networks', 'and', 'research', 'labs', 'that', 'will', 'bring', 'new', 'jobs', 'and', 'businesses', 'to', 'our', 'shores.', 'Now,', 'more', 'than', 'ever,', 'we', 'must', 'do', 'these', 'things', 'together,', 'as', 'one', 'nation', 'and', 'one', 'people.', '(Applause.)This', 'generation', 'of', 'Americans', 'has', 'been', 'tested', 'by', 'crises', 'that', 'steeled', 'our', 'resolve', 'and', 'proved', 'our', 'resilience.', 'A', 'decade', 'of', 'war', 'is', 'now', 'ending.', '(Applause.)', 'An', 'economic', 'recovery', 'has', 'begun.', '(Applause.)', 'America’s', 'possibilities', 'are', 'limitless,', 'for', 'we', 'possess', 'all', 'the', 'qualities', 'that', 'this', 'world', 'without', 'boundaries', 'demands:', 'youth', 'and', 'drive;', 'diversity', 'and', 'openness;', 'an', 'endless', 'capacity', 'for', 'risk', 'and', 'a', 'gift', 'for', 'reinvention.', 'My', 'fellow', 'Americans,', 'we', 'are', 'made', 'for', 'this', 'moment,', 'and', 'we', 'will', 'seize', 'it', '--', 'so', 'long', 'as', 'we', 'seize', 'it', 'together.', '(Applause.)For', 'we,', 'the', 'people,', 'understand', 'that', 'our', 'country', 'cannot', 'succeed', 'when', 'a', 'shrinking', 'few', 'do', 'very', 'well', 'and', 'a', 'growing', 'many', 'barely', 'make', 'it.', '(Applause.)', 'We', 'believe', 'that', 'America’s', 'prosperity', 'must', 'rest', 'upon', 'the', 'broad', 'shoulders', 'of', 'a', 'rising', 'middle', 'class.', 'We', 'know', 'that', 'America', 'thrives', 'when', 'every', 'person', 'can', 'find', 'independence', 'and', 'pride', 'in', 'their', 'work;', 'when', 'the', 'wages', 'of', 'honest', 'labor', 'liberate', 'families', 'from', 'the', 'brink', 'of', 'hardship.', 'We', 'are', 'true', 'to', 'our', 'creed', 'when', 'a', 'little', 'girl', 'born', 'into', 'the', 'bleakest', 'poverty', 'knows', 'that', 'she', 'has', 'the', 'same', 'chance', 'to', 'succeed', 'as', 'anybody', 'else,', 'because', 'she', 'is', 'an', 'American;', 'she', 'is', 'free,', 'and', 'she', 'is', 'equal,', 'not', 'just', 'in', 'the', 'eyes', 'of', 'God', 'but', 'also', 'in', 'our', 'own.', '(Applause.)We', 'understand', 'that', 'outworn', 'programs', 'are', 'inadequate', 'to', 'the', 'needs', 'of', 'our', 'time.', 'So', 'we', 'must', 'harness', 'new', 'ideas', 'and', 'technology', 'to', 'remake', 'our', 'government,', 'revamp', 'our', 'tax', 'code,', 'reform', 'our', 'schools,', 'and', 'empower', 'our', 'citizens', 'with', 'the', 'skills', 'they', 'need', 'to', 'work', 'harder,', 'learn', 'more,', 'reach', 'higher.', 'But', 'while', 'the', 'means', 'will', 'change,', 'our', 'purpose', 'endures:', 'a', 'nation', 'that', 'rewards', 'the', 'effort', 'and', 'determination', 'of', 'every', 'single', 'American.', 'That', 'is', 'what', 'this', 'moment', 'requires.', 'That', 'is', 'what', 'will', 'give', 'real', 'meaning', 'to', 'our', 'creed.We,', 'the', 'people,', 'still', 'believe', 'that', 'every', 'citizen', 'deserves', 'a', 'basic', 'measure', 'of', 'security', 'and', 'dignity.', 'We', 'must', 'make', 'the', 'hard', 'choices', 'to', 'reduce', 'the', 'cost', 'of', 'health', 'care', 'and', 'the', 'size', 'of', 'our', 'deficit.', 'But', 'we', 'reject', 'the', 'belief', 'that', 'America', 'must', 'choose', 'between', 'caring', 'for', 'the', 'generation', 'that', 'built', 'this', 'country', 'and', 'investing', 'in', 'the', 'generation', 'that', 'will', 'build', 'its', 'future.', '(Applause.)', 'For', 'we', 'remember', 'the', 'lessons', 'of', 'our', 'past,', 'when', 'twilight', 'years', 'were', 'spent', 'in', 'poverty', 'and', 'parents', 'of', 'a', 'child', 'with', 'a', 'disability', 'had', 'nowhere', 'to', 'turn.We', 'do', 'not', 'believe', 'that', 'in', 'this', 'country', 'freedom', 'is', 'reserved', 'for', 'the', 'lucky,', 'or', 'happiness', 'for', 'the', 'few.', 'We', 'recognize', 'that', 'no', 'matter', 'how', 'responsibly', 'we', 'live', 'our', 'lives,', 'any', 'one', 'of', 'us', 'at', 'any', 'time', 'may', 'face', 'a', 'job', 'loss,', 'or', 'a', 'sudden', 'illness,', 'or', 'a', 'home', 'swept', 'away', 'in', 'a', 'terrible', 'storm.', 'The', 'commitments', 'we', 'make', 'to', 'each', 'other', 'through', 'Medicare', 'and', 'Medicaid', 'and', 'Social', 'Security,', 'these', 'things', 'do', 'not', 'sap', 'our', 'initiative,', 'they', 'strengthen', 'us.', '(Applause.)', 'They', 'do', 'not', 'make', 'us', 'a', 'nation', 'of', 'takers;', 'they', 'free', 'us', 'to', 'take', 'the', 'risks', 'that', 'make', 'this', 'country', 'great.', '(Applause.)We,', 'the', 'people,', 'still', 'believe', 'that', 'our', 'obligations', 'as', 'Americans', 'are', 'not', 'just', 'to', 'ourselves,', 'but', 'to', 'all', 'posterity.', 'We', 'will', 'respond', 'to', 'the', 'threat', 'of', 'climate', 'change,', 'knowing', 'that', 'the', 'failure', 'to', 'do', 'so', 'would', 'betray', 'our', 'children', 'and', 'future', 'generations.', '(Applause.)', 'Some', 'may', 'still', 'deny', 'the', 'overwhelming', 'judgment', 'of', 'science,', 'but', 'none', 'can', 'avoid', 'the', 'devastating', 'impact', 'of', 'raging', 'fires', 'and', 'crippling', 'drought', 'and', 'more', 'powerful', 'storms.The', 'path', 'towards', 'sustainable', 'energy', 'sources', 'will', 'be', 'long', 'and', 'sometimes', 'difficult.', 'But', 'America', 'cannot', 'resist', 'this', 'transition,', 'we', 'must', 'lead', 'it.', 'We', 'cannot', 'cede', 'to', 'other', 'nations', 'the', 'technology', 'that', 'will', 'power', 'new', 'jobs', 'and', 'new', 'industries,', 'we', 'must', 'claim', 'its', 'promise.', 'That’s', 'how', 'we', 'will', 'maintain', 'our', 'economic', 'vitality', 'and', 'our', 'national', 'treasure', '--', 'our', 'forests', 'and', 'waterways,', 'our', 'crop', 'lands', 'and', 'snow-capped', 'peaks.', 'That', 'is', 'how', 'we', 'will', 'preserve', 'our', 'planet,', 'commanded', 'to', 'our', 'care', 'by', 'God.', 'That’s', 'what', 'will', 'lend', 'meaning', 'to', 'the', 'creed', 'our', 'fathers', 'once', 'declared.We,', 'the', 'people,', 'still', 'believe', 'that', 'enduring', 'security', 'and', 'lasting', 'peace', 'do', 'not', 'require', 'perpetual', 'war.', '(Applause.)', 'Our', 'brave', 'men', 'and', 'women', 'in', 'uniform,', 'tempered', 'by', 'the', 'flames', 'of', 'battle,', 'are', 'unmatched', 'in', 'skill', 'and', 'courage.', '(Applause.)', 'Our', 'citizens,', 'seared', 'by', 'the', 'memory', 'of', 'those', 'we', 'have', 'lost,', 'know', 'too', 'well', 'the', 'price', 'that', 'is', 'paid', 'for', 'liberty.', 'The', 'knowledge', 'of', 'their', 'sacrifice', 'will', 'keep', 'us', 'forever', 'vigilant', 'against', 'those', 'who', 'would', 'do', 'us', 'harm.', 'But', 'we', 'are', 'also', 'heirs', 'to', 'those', 'who', 'won', 'the', 'peace', 'and', 'not', 'just', 'the', 'war;', 'who', 'turned', 'sworn', 'enemies', 'into', 'the', 'surest', 'of', 'friends', '--', 'and', 'we', 'must', 'carry', 'those', 'lessons', 'into', 'this', 'time', 'as', 'well.We', 'will', 'defend', 'our', 'people', 'and', 'uphold', 'our', 'values', 'through', 'strength', 'of', 'arms', 'and', 'rule', 'of', 'law.', 'We', 'will', 'show', 'the', 'courage', 'to', 'try', 'and', 'resolve', 'our', 'differences', 'with', 'other', 'nations', 'peacefully', '–-', 'not', 'because', 'we', 'are', 'naïve', 'about', 'the', 'dangers', 'we', 'face,', 'but', 'because', 'engagement', 'can', 'more', 'durably', 'lift', 'suspicion', 'and', 'fear.', '(Applause.)America', 'will', 'remain', 'the', 'anchor', 'of', 'strong', 'alliances', 'in', 'every', 'corner', 'of', 'the', 'globe.', 'And', 'we', 'will', 'renew', 'those', 'institutions', 'that', 'extend', 'our', 'capacity', 'to', 'manage', 'crisis', 'abroad,', 'for', 'no', 'one', 'has', 'a', 'greater', 'stake', 'in', 'a', 'peaceful', 'world', 'than', 'its', 'most', 'powerful', 'nation.', 'We', 'will', 'support', 'democracy', 'from', 'Asia', 'to', 'Africa,', 'from', 'the', 'Americas', 'to', 'the', 'Middle', 'East,', 'because', 'our', 'interests', 'and', 'our', 'conscience', 'compel', 'us', 'to', 'act', 'on', 'behalf', 'of', 'those', 'who', 'long', 'for', 'freedom.', 'And', 'we', 'must', 'be', 'a', 'source', 'of', 'hope', 'to', 'the', 'poor,', 'the', 'sick,', 'the', 'marginalized,', 'the', 'victims', 'of', 'prejudice', '–-', 'not', 'out', 'of', 'mere', 'charity,', 'but', 'because', 'peace', 'in', 'our', 'time', 'requires', 'the', 'constant', 'advance', 'of', 'those', 'principles', 'that', 'our', 'common', 'creed', 'describes:', 'tolerance', 'and', 'opportunity,', 'human', 'dignity', 'and', 'justice.We,', 'the', 'people,', 'declare', 'today', 'that', 'the', 'most', 'evident', 'of', 'truths', '–-', 'that', 'all', 'of', 'us', 'are', 'created', 'equal', '–-', 'is', 'the', 'star', 'that', 'guides', 'us', 'still;', 'just', 'as', 'it', 'guided', 'our', 'forebears', 'through', 'Seneca', 'Falls,', 'and', 'Selma,', 'and', 'Stonewall;', 'just', 'as', 'it', 'guided', 'all', 'those', 'men', 'and', 'women,', 'sung', 'and', 'unsung,', 'who', 'left', 'footprints', 'along', 'this', 'great', 'Mall,', 'to', 'hear', 'a', 'preacher', 'say', 'that', 'we', 'cannot', 'walk', 'alone;', 'to', 'hear', 'a', 'King', 'proclaim', 'that', 'our', 'individual', 'freedom', 'is', 'inextricably', 'bound', 'to', 'the', 'freedom', 'of', 'every', 'soul', 'on', 'Earth.', '(Applause.)It', 'is', 'now', 'our', 'generation’s', 'task', 'to', 'carry', 'on', 'what', 'those', 'pioneers', 'began.', 'For', 'our', 'journey', 'is', 'not', 'complete', 'until', 'our', 'wives,', 'our', 'mothers', 'and', 'daughters', 'can', 'earn', 'a', 'living', 'equal', 'to', 'their', 'efforts.', '(Applause.)', 'Our', 'journey', 'is', 'not', 'complete', 'until', 'our', 'gay', 'brothers', 'and', 'sisters', 'are', 'treated', 'like', 'anyone', 'else', 'under', 'the', 'law', '–-', '(applause)', '--', 'for', 'if', 'we', 'are', 'truly', 'created', 'equal,', 'then', 'surely', 'the', 'love', 'we', 'commit', 'to', 'one', 'another', 'must', 'be', 'equal', 'as', 'well.', '(Applause.)', 'Our', 'journey', 'is', 'not', 'complete', 'until', 'no', 'citizen', 'is', 'forced', 'to', 'wait', 'for', 'hours', 'to', 'exercise', 'the', 'right', 'to', 'vote.', '(Applause.)', 'Our', 'journey', 'is', 'not', 'complete', 'until', 'we', 'find', 'a', 'better', 'way', 'to', 'welcome', 'the', 'striving,', 'hopeful', 'immigrants', 'who', 'still', 'see', 'America', 'as', 'a', 'land', 'of', 'opportunity', '--', '(applause)', '--', 'until', 'bright', 'young', 'students', 'and', 'engineers', 'are', 'enlisted', 'in', 'our', 'workforce', 'rather', 'than', 'expelled', 'from', 'our', 'country.', '(Applause.)', 'Our', 'journey', 'is', 'not', 'complete', 'until', 'all', 'our', 'children,', 'from', 'the', 'streets', 'of', 'Detroit', 'to', 'the', 'hills', 'of', 'Appalachia,', 'to', 'the', 'quiet', 'lanes', 'of', 'Newtown,', 'know', 'that', 'they', 'are', 'cared', 'for', 'and', 'cherished', 'and', 'always', 'safe', 'from', 'harm.That', 'is', 'our', 'generation’s', 'task', '--', 'to', 'make', 'these', 'words,', 'these', 'rights,', 'these', 'values', 'of', 'life', 'and', 'liberty', 'and', 'the', 'pursuit', 'of', 'happiness', 'real', 'for', 'every', 'American.', 'Being', 'true', 'to', 'our', 'founding', 'documents', 'does', 'not', 'require', 'us', 'to', 'agree', 'on', 'every', 'contour', 'of', 'life.', 'It', 'does', 'not', 'mean', 'we', 'all', 'define', 'liberty', 'in', 'exactly', 'the', 'same', 'way', 'or', 'follow', 'the', 'same', 'precise', 'path', 'to', 'happiness.', 'Progress', 'does', 'not', 'compel', 'us', 'to', 'settle', 'centuries-long', 'debates', 'about', 'the', 'role', 'of', 'government', 'for', 'all', 'time,', 'but', 'it', 'does', 'require', 'us', 'to', 'act', 'in', 'our', 'time.', '(Applause.)For', 'now', 'decisions', 'are', 'upon', 'us', 'and', 'we', 'cannot', 'afford', 'delay.', 'We', 'cannot', 'mistake', 'absolutism', 'for', 'principle,', 'or', 'substitute', 'spectacle', 'for', 'politics,', 'or', 'treat', 'name-calling', 'as', 'reasoned', 'debate.', '(Applause.)', 'We', 'must', 'act,', 'knowing', 'that', 'our', 'work', 'will', 'be', 'imperfect.', 'We', 'must', 'act,', 'knowing', 'that', 'today’s', 'victories', 'will', 'be', 'only', 'partial', 'and', 'that', 'it', 'will', 'be', 'up', 'to', 'those', 'who', 'stand', 'here', 'in', 'four', 'years', 'and', '40', 'years', 'and', '400', 'years', 'hence', 'to', 'advance', 'the', 'timeless', 'spirit', 'once', 'conferred', 'to', 'us', 'in', 'a', 'spare', 'Philadelphia', 'hall.My', 'fellow', 'Americans,', 'the', 'oath', 'I', 'have', 'sworn', 'before', 'you', 'today,', 'like', 'the', 'one', 'recited', 'by', 'others', 'who', 'serve', 'in', 'this', 'Capitol,', 'was', 'an', 'oath', 'to', 'God', 'and', 'country,', 'not', 'party', 'or', 'faction.', 'And', 'we', 'must', 'faithfully', 'execute', 'that', 'pledge', 'during', 'the', 'duration', 'of', 'our', 'service.', 'But', 'the', 'words', 'I', 'spoke', 'today', 'are', 'not', 'so', 'different', 'from', 'the', 'oath', 'that', 'is', 'taken', 'each', 'time', 'a', 'soldier', 'signs', 'up', 'for', 'duty', 'or', 'an', 'immigrant', 'realizes', 'her', 'dream.', 'My', 'oath', 'is', 'not', 'so', 'different', 'from', 'the', 'pledge', 'we', 'all', 'make', 'to', 'the', 'flag', 'that', 'waves', 'above', 'and', 'that', 'fills', 'our', 'hearts', 'with', 'pride.They', 'are', 'the', 'words', 'of', 'citizens', 'and', 'they', 'represent', 'our', 'greatest', 'hope.', 'You', 'and', 'I,', 'as', 'citizens,', 'have', 'the', 'power', 'to', 'set', 'this', 'country’s', 'course.', 'You', 'and', 'I,', 'as', 'citizens,', 'have', 'the', 'obligation', 'to', 'shape', 'the', 'debates', 'of', 'our', 'time', '--', 'not', 'only', 'with', 'the', 'votes', 'we', 'cast,', 'but', 'with', 'the', 'voices', 'we', 'lift', 'in', 'defense', 'of', 'our', 'most', 'ancient', 'values', 'and', 'enduring', 'ideals.', '(Applause.)Let', 'us,', 'each', 'of', 'us,', 'now', 'embrace', 'with', 'solemn', 'duty', 'and', 'awesome', 'joy', 'what', 'is', 'our', 'lasting', 'birthright.', 'With', 'common', 'effort', 'and', 'common', 'purpose,', 'with', 'passion', 'and', 'dedication,', 'let', 'us', 'answer', 'the', 'call', 'of', 'history', 'and', 'carry', 'into', 'an', 'uncertain', 'future', 'that', 'precious', 'light', 'of', 'freedom.Thank', 'you.', 'God', 'bless', 'you,', 'and', 'may', 'He', 'forever', 'bless', 'these', 'United', 'States', 'of', 'America.', '(Applause.)END12:10', 'P.M.', 'ESTTwitterInstagramFacebookGoogle+YoutubeMore', 'ways', 'to', 'engageContact', 'UsEmailHomeBriefing', 'RoomFrom', 'the', 'News', 'RoomLatest', 'NewsShare-WorthyPhotosVideo', 'GalleryLive', 'EventsMusic', '\u0026', 'Arts', 'PerformancesFrom', 'the', 'Press', 'OfficeYour', 'Weekly', 'AddressSpeeches', '\u0026', 'RemarksPress', 'BriefingsStatements', '\u0026', 'ReleasesWhite', 'House', 'SchedulePresidential', 'ActionsLegislationNominations', '\u0026', 'AppointmentsDisclosuresIssuesPopular', 'TopicsThe', 'RecordCabinet', 'Exit', 'MemosCriminal', 'Justice', 'ReformCubaSee', 'AllTop', 'IssuesCivil', 'RightsClimate', 'ChangeEconomyEducationForeign', 'PolicyHealth', 'CareIran', 'DealImmigration', 'ActionMoreDefenseDisabilitiesEthicsEqual', 'PayHomeland', 'SecurityReducing', 'Gun', 'ViolenceRuralServiceMoreSeniors', '\u0026', 'Social', 'SecurityTaxesTechnologyTradeUrban', 'and', 'Economic', 'MobilityVeteransWomenThe', 'AdministrationPeoplePresident', 'Barack', 'ObamaVice', 'President', 'Joe', 'BidenFirst', 'Lady', 'Michelle', 'ObamaDr.', 'Jill', 'BidenThe', 'CabinetExecutive', 'Office', 'of', 'the', 'PresidentSenior', 'White', 'House', 'LeadershipOther', 'Advisory', 'BoardsExecutive', 'OfficesOffice', 'of', 'Management', 'and', 'BudgetOffice', 'of', 'Science', 'and', 'Technology', 'PolicyCouncil', 'of', 'Economic', 'AdvisersCouncil', 'on', 'Environmental', 'QualityNational', 'Security', 'CouncilSee', 'AllInitiativesLets', 'MoveJoining', 'ForcesReach', 'HigherMy', \\\"Brother's\\\", 'KeeperPrecision', 'MedicineSpecial', 'EventsState', 'of', 'the', 'UnionInaugurationMedal', 'of', 'FreedomParticipateDigitalFollow', 'Us', 'on', 'Social', 'MediaWe', 'the', 'Geeks', 'HangoutsMobile', 'AppsDeveloper', 'ToolsTools', 'You', 'Can', 'UseJoin', 'UsTours', '\u0026', 'EventsJobs', 'with', 'the', 'AdministrationInternshipsWhite', 'House', 'FellowsPresidential', 'Innovation', 'FellowsUnited', 'States', 'Digital', 'ServiceLeadership', 'Development', 'ProgramSpeak', 'OutWe', 'the', 'People', 'PetitionsContact', 'the', 'White', 'HouseCitizens', 'MedalChampions', 'of', 'Change1600', 'PennInside', 'the', 'White', 'HouseWest', 'Wing', 'TourEisenhower', 'Executive', 'Office', 'Building', 'TourVideo', 'SeriesDécor', 'and', 'ArtHolidaysSee', 'AllHistory', '\u0026', 'GroundsPresidentsFirst', 'LadiesThe', 'Vice', \\\"President's\\\", 'Residence', '\u0026', 'OfficeEisenhower', 'Executive', 'Office', 'BuildingCamp', 'DavidAir', 'Force', 'OneOur', 'GovernmentThe', 'Executive', 'BranchThe', 'Legislative', 'BranchThe', 'Judicial', 'BranchThe', 'ConstitutionFederal', 'Agencies', '\u0026', 'CommissionsElections', '\u0026', 'VotingState', '\u0026', 'Local', 'GovernmentResourcesEn', 'EspañolAccessibilityCopyright', 'InformationPrivacy', 'PolicyUSA.gov']\\n\"","     ]","    }","   ],","   \"source\": [","    \"tokens = [t for t in text.split()]\\n\",","    \"print(tokens)\"","   ]","  },","  {","   \"cell_type\": \"code\",","   \"execution_count\": 21,","   \"id\": \"5951a1a4\",","   \"metadata\": {},","   \"outputs\": [],","   \"source\": [","    \"from nltk.corpus import stopwords\\n\",","    \"sr= stopwords.words('english')\\n\",","    \"clean_tokens = tokens[:]\\n\",","    \"for token in tokens:\\n\",","    \"    if token in stopwords.words('english'):\\n\",","    \"        \\n\",","    \"        clean_tokens.remove(token)\\n\"","   ]","  },","  {","   \"cell_type\": \"code\",","   \"execution_count\": 22,","   \"id\": \"588263ec\",","   \"metadata\": {},","   \"outputs\": [","    {","     \"name\": \"stdout\",","     \"output_type\": \"stream\",","     \"text\": [","      \"Inaugural:1\\n\",","      \"Address:2\\n\",","      \"President:6\\n\",","      \"Barack:4\\n\",","      \"Obama:1\\n\",","      \"|:1\\n\",","      \"whitehouse.govJump:1\\n\",","      \"main:1\\n\",","      \"contentJump:1\\n\",","      \"navigationThis:1\\n\",","      \"historical:1\\n\",","      \"material:1\\n\",","      \"“frozen:1\\n\",","      \"time”.:1\\n\",","      \"The:4\\n\",","      \"website:1\\n\",","      \"longer:1\\n\",","      \"updated:1\\n\",","      \"links:1\\n\",","      \"external:1\\n\",","      \"websites:1\\n\",","      \"internal:1\\n\",","      \"pages:1\\n\",","      \"may:5\\n\",","      \"work.HomeBriefing:1\\n\",","      \"RoomFrom:2\\n\",","      \"News:2\\n\",","      \"RoomLatest:2\\n\",","      \"NewsRead:1\\n\",","      \"latest:1\\n\",","      \"blog:1\\n\",","      \"posts:1\\n\",","      \"1600:1\\n\",","      \"Pennsylvania:1\\n\",","      \"AveShare-WorthyCheck:1\\n\",","      \"popular:1\\n\",","      \"infographics:1\\n\",","      \"videosPhotosView:1\\n\",","      \"photo:1\\n\",","      \"day:1\\n\",","      \"galleriesVideo:1\\n\",","      \"GalleryWatch:1\\n\",","      \"behind-the-scenes:1\\n\",","      \"videos:1\\n\",","      \"moreLive:1\\n\",","      \"EventsTune:1\\n\",","      \"White:9\\n\",","      \"House:8\\n\",","      \"events:1\\n\",","      \"statements:1\\n\",","      \"happenMusic:1\\n\",","      \"\u0026:26\\n\",","      \"Arts:2\\n\",","      \"PerformancesSee:1\\n\",","      \"lineup:1\\n\",","      \"artists:1\\n\",","      \"performers:1\\n\",","      \"HouseFrom:1\\n\",","      \"Press:3\\n\",","      \"OfficeYour:2\\n\",","      \"Weekly:3\\n\",","      \"AddressSpeeches:3\\n\",","      \"RemarksPress:3\\n\",","      \"BriefingsStatements:3\\n\",","      \"ReleasesWhite:3\\n\",","      \"SchedulePresidential:3\\n\",","      \"ActionsLegislationNominations:2\\n\",","      \"AppointmentsDisclosuresIssuesPopular:2\\n\",","      \"TopicsThe:2\\n\",","      \"RecordCabinet:2\\n\",","      \"Exit:2\\n\",","      \"MemosCriminal:2\\n\",","      \"Justice:2\\n\",","      \"ReformCubaSee:2\\n\",","      \"AllTop:2\\n\",","      \"IssuesCivil:2\\n\",","      \"RightsClimate:2\\n\",","      \"ChangeEconomyEducationForeign:2\\n\",","      \"PolicyHealth:2\\n\",","      \"CareIran:2\\n\",","      \"DealImmigration:2\\n\",","      \"ActionMoreDefenseDisabilitiesEthicsEqual:2\\n\",","      \"PayHomeland:2\\n\",","      \"SecurityReducing:2\\n\",","      \"Gun:2\\n\",","      \"ViolenceRuralServiceMoreSeniors:2\\n\",","      \"Social:5\\n\",","      \"SecurityTaxesTechnologyTradeUrban:2\\n\",","      \"Economic:4\\n\",","      \"MobilityVeteransWomenThe:2\\n\",","      \"AdministrationPeoplePresident:2\\n\",","      \"ObamaVice:2\\n\",","      \"Joe:2\\n\",","      \"BidenFirst:2\\n\",","      \"Lady:2\\n\",","      \"Michelle:2\\n\",","      \"ObamaDr.:2\\n\",","      \"Jill:2\\n\",","      \"BidenThe:2\\n\",","      \"CabinetExecutive:2\\n\",","      \"Office:6\\n\",","      \"PresidentSenior:2\\n\",","      \"LeadershipOther:2\\n\",","      \"Advisory:2\\n\",","      \"BoardsExecutive:2\\n\",","      \"OfficesOffice:2\\n\",","      \"Management:2\\n\",","      \"BudgetOffice:2\\n\",","      \"Science:2\\n\",","      \"Technology:2\\n\",","      \"PolicyCouncil:2\\n\",","      \"AdvisersCouncil:2\\n\",","      \"Environmental:2\\n\",","      \"QualityNational:2\\n\",","      \"Security:2\\n\",","      \"CouncilSee:2\\n\",","      \"AllInitiativesLets:2\\n\",","      \"MoveJoining:2\\n\",","      \"ForcesReach:2\\n\",","      \"HigherMy:2\\n\",","      \"Brother's:2\\n\",","      \"KeeperPrecision:2\\n\",","      \"MedicineSpecial:2\\n\",","      \"EventsState:2\\n\",","      \"UnionInaugurationMedal:2\\n\",","      \"FreedomParticipateDigitalFollow:2\\n\",","      \"Us:2\\n\",","      \"MediaWe:2\\n\",","      \"Geeks:2\\n\",","      \"HangoutsMobile:2\\n\",","      \"AppsDeveloper:2\\n\",","      \"ToolsTools:2\\n\",","      \"You:4\\n\",","      \"Can:2\\n\",","      \"UseJoin:2\\n\",","      \"UsTours:2\\n\",","      \"EventsJobs:2\\n\",","      \"AdministrationInternshipsWhite:2\\n\",","      \"FellowsPresidential:2\\n\",","      \"Innovation:2\\n\",","      \"FellowsUnited:2\\n\",","      \"States:5\\n\",","      \"Digital:2\\n\",","      \"ServiceLeadership:2\\n\",","      \"Development:2\\n\",","      \"ProgramSpeak:2\\n\",","      \"OutWe:2\\n\",","      \"People:2\\n\",","      \"PetitionsContact:2\\n\",","      \"HouseCitizens:2\\n\",","      \"MedalChampions:2\\n\",","      \"Change1600:2\\n\",","      \"PennInside:2\\n\",","      \"HouseWest:2\\n\",","      \"Wing:2\\n\",","      \"TourEisenhower:2\\n\",","      \"Executive:6\\n\",","      \"Building:2\\n\",","      \"TourVideo:2\\n\",","      \"SeriesDécor:2\\n\",","      \"ArtHolidaysSee:2\\n\",","      \"AllHistory:2\\n\",","      \"GroundsPresidentsFirst:2\\n\",","      \"LadiesThe:2\\n\",","      \"Vice:3\\n\",","      \"President's:2\\n\",","      \"Residence:2\\n\",","      \"OfficeEisenhower:2\\n\",","      \"BuildingCamp:2\\n\",","      \"DavidAir:2\\n\",","      \"Force:2\\n\",","      \"OneOur:2\\n\",","      \"GovernmentThe:2\\n\",","      \"BranchThe:6\\n\",","      \"Legislative:2\\n\",","      \"Judicial:2\\n\",","      \"ConstitutionFederal:2\\n\",","      \"Agencies:2\\n\",","      \"CommissionsElections:2\\n\",","      \"VotingState:2\\n\",","      \"Local:2\\n\",","      \"GovernmentResourcesSearch:1\\n\",","      \"formSearchYou:1\\n\",","      \"hereHomeBriefing:1\\n\",","      \"RoomSpeeches:1\\n\",","      \"RemarksBriefing:1\\n\",","      \"RoomYour:1\\n\",","      \"ActionsExecutive:1\\n\",","      \"OrdersPresidential:1\\n\",","      \"MemorandaProclamationsLegislationPending:1\\n\",","      \"LegislationSigned:1\\n\",","      \"LegislationVetoed:1\\n\",","      \"LegislationNominations:1\\n\",","      \"AppointmentsDisclosuresThe:1\\n\",","      \"HouseOffice:1\\n\",","      \"SecretaryFor:1\\n\",","      \"Immediate:1\\n\",","      \"ReleaseJanuary:1\\n\",","      \"21,:1\\n\",","      \"2013Inaugural:1\\n\",","      \"ObamaUnited:1\\n\",","      \"Capitol11:55:1\\n\",","      \"A.M.:1\\n\",","      \"ESTTHE:1\\n\",","      \"PRESIDENT::1\\n\",","      \"Biden,:1\\n\",","      \"Mr.:1\\n\",","      \"Chief:1\\n\",","      \"Justice,members:1\\n\",","      \"United:2\\n\",","      \"Congress,:1\\n\",","      \"distinguished:1\\n\",","      \"guests,:1\\n\",","      \"fellow:3\\n\",","      \"citizens:Each:1\\n\",","      \"time:6\\n\",","      \"gather:1\\n\",","      \"inaugurate:1\\n\",","      \"bear:1\\n\",","      \"witness:1\\n\",","      \"enduring:3\\n\",","      \"strength:2\\n\",","      \"Constitution.:1\\n\",","      \"We:15\\n\",","      \"affirm:1\\n\",","      \"promise:1\\n\",","      \"democracy.:1\\n\",","      \"recall:1\\n\",","      \"binds:1\\n\",","      \"nation:5\\n\",","      \"together:1\\n\",","      \"colors:1\\n\",","      \"skin:1\\n\",","      \"tenets:1\\n\",","      \"faith:1\\n\",","      \"origins:1\\n\",","      \"names.:1\\n\",","      \"What:1\\n\",","      \"makes:2\\n\",","      \"us:18\\n\",","      \"exceptional:1\\n\",","      \"--:10\\n\",","      \"American:3\\n\",","      \"allegiance:1\\n\",","      \"idea:1\\n\",","      \"articulated:1\\n\",","      \"declaration:1\\n\",","      \"made:3\\n\",","      \"two:2\\n\",","      \"centuries:1\\n\",","      \"ago:“We:1\\n\",","      \"hold:1\\n\",","      \"truths:3\\n\",","      \"self-evident,:2\\n\",","      \"men:3\\n\",","      \"created:3\\n\",","      \"equal;:1\\n\",","      \"endowed:1\\n\",","      \"Creator:1\\n\",","      \"certain:1\\n\",","      \"unalienable:1\\n\",","      \"rights;:1\\n\",","      \"among:1\\n\",","      \"life,:1\\n\",","      \"liberty,:1\\n\",","      \"pursuit:2\\n\",","      \"happiness.”Today:1\\n\",","      \"continue:1\\n\",","      \"never-ending:1\\n\",","      \"journey:6\\n\",","      \"bridge:1\\n\",","      \"meaning:3\\n\",","      \"words:3\\n\",","      \"realities:1\\n\",","      \"time.:3\\n\",","      \"For:4\\n\",","      \"history:2\\n\",","      \"tells:1\\n\",","      \"they’ve:1\\n\",","      \"never:2\\n\",","      \"self-executing;:1\\n\",","      \"freedom:4\\n\",","      \"gift:2\\n\",","      \"God,:1\\n\",","      \"must:16\\n\",","      \"secured:1\\n\",","      \"His:1\\n\",","      \"people:4\\n\",","      \"Earth.:2\\n\",","      \"(Applause.):14\\n\",","      \"patriots:1\\n\",","      \"1776:1\\n\",","      \"fight:1\\n\",","      \"replace:1\\n\",","      \"tyranny:1\\n\",","      \"king:1\\n\",","      \"privileges:1\\n\",","      \"rule:2\\n\",","      \"mob.:1\\n\",","      \"They:2\\n\",","      \"gave:1\\n\",","      \"republic,:1\\n\",","      \"government:3\\n\",","      \"of,:1\\n\",","      \"by,:1\\n\",","      \"people,:6\\n\",","      \"entrusting:1\\n\",","      \"generation:4\\n\",","      \"keep:2\\n\",","      \"safe:2\\n\",","      \"founding:3\\n\",","      \"creed.And:1\\n\",","      \"hundred:1\\n\",","      \"years,:1\\n\",","      \"have.Through:1\\n\",","      \"blood:2\\n\",","      \"drawn:2\\n\",","      \"lash:1\\n\",","      \"sword,:1\\n\",","      \"learned:1\\n\",","      \"union:1\\n\",","      \"founded:1\\n\",","      \"principles:3\\n\",","      \"liberty:3\\n\",","      \"equality:1\\n\",","      \"could:2\\n\",","      \"survive:1\\n\",","      \"half-slave:1\\n\",","      \"half-free.:1\\n\",","      \"anew,:1\\n\",","      \"vowed:1\\n\",","      \"move:1\\n\",","      \"forward:1\\n\",","      \"together.Together,:1\\n\",","      \"determined:1\\n\",","      \"modern:1\\n\",","      \"economy:1\\n\",","      \"requires:4\\n\",","      \"railroads:1\\n\",","      \"highways:1\\n\",","      \"speed:1\\n\",","      \"travel:1\\n\",","      \"commerce,:1\\n\",","      \"schools:1\\n\",","      \"colleges:1\\n\",","      \"train:2\\n\",","      \"workers.Together,:1\\n\",","      \"discovered:1\\n\",","      \"free:2\\n\",","      \"market:1\\n\",","      \"thrives:2\\n\",","      \"rules:1\\n\",","      \"ensure:1\\n\",","      \"competition:1\\n\",","      \"fair:1\\n\",","      \"play.Together,:1\\n\",","      \"resolved:1\\n\",","      \"great:2\\n\",","      \"care:3\\n\",","      \"vulnerable,:1\\n\",","      \"protect:1\\n\",","      \"life’s:1\\n\",","      \"worst:1\\n\",","      \"hazards:1\\n\",","      \"misfortune.Through:1\\n\",","      \"all,:1\\n\",","      \"relinquished:1\\n\",","      \"skepticism:1\\n\",","      \"central:1\\n\",","      \"authority,:1\\n\",","      \"succumbed:1\\n\",","      \"fiction:1\\n\",","      \"society’s:1\\n\",","      \"ills:1\\n\",","      \"cured:1\\n\",","      \"alone.:1\\n\",","      \"Our:7\\n\",","      \"celebration:1\\n\",","      \"initiative:1\\n\",","      \"enterprise,:1\\n\",","      \"insistence:1\\n\",","      \"hard:2\\n\",","      \"work:3\\n\",","      \"personal:1\\n\",","      \"responsibility,:1\\n\",","      \"constants:1\\n\",","      \"character.But:1\\n\",","      \"always:2\\n\",","      \"understood:1\\n\",","      \"times:1\\n\",","      \"change,:3\\n\",","      \"we;:1\\n\",","      \"fidelity:1\\n\",","      \"new:6\\n\",","      \"responses:1\\n\",","      \"challenges;:1\\n\",","      \"preserving:1\\n\",","      \"individual:2\\n\",","      \"freedoms:1\\n\",","      \"ultimately:1\\n\",","      \"collective:1\\n\",","      \"action.:1\\n\",","      \"meet:1\\n\",","      \"demands:1\\n\",","      \"today’s:2\\n\",","      \"world:3\\n\",","      \"acting:1\\n\",","      \"alone:1\\n\",","      \"soldiers:1\\n\",","      \"met:1\\n\",","      \"forces:1\\n\",","      \"fascism:1\\n\",","      \"communism:1\\n\",","      \"muskets:1\\n\",","      \"militias.:1\\n\",","      \"No:1\\n\",","      \"single:2\\n\",","      \"person:2\\n\",","      \"math:1\\n\",","      \"science:1\\n\",","      \"teachers:1\\n\",","      \"we’ll:1\\n\",","      \"need:2\\n\",","      \"equip:1\\n\",","      \"children:2\\n\",","      \"future,:1\\n\",","      \"build:2\\n\",","      \"roads:1\\n\",","      \"networks:1\\n\",","      \"research:1\\n\",","      \"labs:1\\n\",","      \"bring:1\\n\",","      \"jobs:2\\n\",","      \"businesses:1\\n\",","      \"shores.:1\\n\",","      \"Now,:1\\n\",","      \"ever,:1\\n\",","      \"things:2\\n\",","      \"together,:1\\n\",","      \"one:6\\n\",","      \"people.:1\\n\",","      \"(Applause.)This:1\\n\",","      \"Americans:2\\n\",","      \"tested:1\\n\",","      \"crises:1\\n\",","      \"steeled:1\\n\",","      \"resolve:2\\n\",","      \"proved:1\\n\",","      \"resilience.:1\\n\",","      \"A:1\\n\",","      \"decade:1\\n\",","      \"war:1\\n\",","      \"ending.:1\\n\",","      \"An:1\\n\",","      \"economic:2\\n\",","      \"recovery:1\\n\",","      \"begun.:1\\n\",","      \"America’s:2\\n\",","      \"possibilities:1\\n\",","      \"limitless,:1\\n\",","      \"possess:1\\n\",","      \"qualities:1\\n\",","      \"without:1\\n\",","      \"boundaries:1\\n\",","      \"demands::1\\n\",","      \"youth:1\\n\",","      \"drive;:1\\n\",","      \"diversity:1\\n\",","      \"openness;:1\\n\",","      \"endless:1\\n\",","      \"capacity:2\\n\",","      \"risk:1\\n\",","      \"reinvention.:1\\n\",","      \"My:2\\n\",","      \"Americans,:2\\n\",","      \"moment,:1\\n\",","      \"seize:2\\n\",","      \"long:3\\n\",","      \"together.:1\\n\",","      \"(Applause.)For:2\\n\",","      \"we,:1\\n\",","      \"understand:2\\n\",","      \"country:4\\n\",","      \"cannot:6\\n\",","      \"succeed:2\\n\",","      \"shrinking:1\\n\",","      \"well:2\\n\",","      \"growing:1\\n\",","      \"many:1\\n\",","      \"barely:1\\n\",","      \"make:7\\n\",","      \"it.:2\\n\",","      \"believe:5\\n\",","      \"prosperity:1\\n\",","      \"rest:1\\n\",","      \"upon:2\\n\",","      \"broad:1\\n\",","      \"shoulders:1\\n\",","      \"rising:1\\n\",","      \"middle:1\\n\",","      \"class.:1\\n\",","      \"know:3\\n\",","      \"America:4\\n\",","      \"every:7\\n\",","      \"find:2\\n\",","      \"independence:1\\n\",","      \"pride:1\\n\",","      \"work;:1\\n\",","      \"wages:1\\n\",","      \"honest:1\\n\",","      \"labor:1\\n\",","      \"liberate:1\\n\",","      \"families:1\\n\",","      \"brink:1\\n\",","      \"hardship.:1\\n\",","      \"true:2\\n\",","      \"creed:3\\n\",","      \"little:1\\n\",","      \"girl:1\\n\",","      \"born:1\\n\",","      \"bleakest:1\\n\",","      \"poverty:2\\n\",","      \"knows:1\\n\",","      \"chance:1\\n\",","      \"anybody:1\\n\",","      \"else,:1\\n\",","      \"American;:1\\n\",","      \"free,:1\\n\",","      \"equal,:2\\n\",","      \"eyes:1\\n\",","      \"God:3\\n\",","      \"also:2\\n\",","      \"own.:1\\n\",","      \"(Applause.)We:1\\n\",","      \"outworn:1\\n\",","      \"programs:1\\n\",","      \"inadequate:1\\n\",","      \"needs:1\\n\",","      \"So:1\\n\",","      \"harness:1\\n\",","      \"ideas:1\\n\",","      \"technology:2\\n\",","      \"remake:1\\n\",","      \"government,:1\\n\",","      \"revamp:1\\n\",","      \"tax:1\\n\",","      \"code,:1\\n\",","      \"reform:1\\n\",","      \"schools,:1\\n\",","      \"empower:1\\n\",","      \"citizens:2\\n\",","      \"skills:1\\n\",","      \"harder,:1\\n\",","      \"learn:1\\n\",","      \"more,:1\\n\",","      \"reach:1\\n\",","      \"higher.:1\\n\",","      \"But:5\\n\",","      \"means:1\\n\",","      \"purpose:1\\n\",","      \"endures::1\\n\",","      \"rewards:1\\n\",","      \"effort:2\\n\",","      \"determination:1\\n\",","      \"American.:2\\n\",","      \"That:3\\n\",","      \"moment:1\\n\",","      \"requires.:1\\n\",","      \"give:1\\n\",","      \"real:2\\n\",","      \"creed.We,:1\\n\",","      \"still:5\\n\",","      \"citizen:2\\n\",","      \"deserves:1\\n\",","      \"basic:1\\n\",","      \"measure:1\\n\",","      \"security:2\\n\",","      \"dignity.:1\\n\",","      \"choices:1\\n\",","      \"reduce:1\\n\",","      \"cost:1\\n\",","      \"health:1\\n\",","      \"size:1\\n\",","      \"deficit.:1\\n\",","      \"reject:1\\n\",","      \"belief:1\\n\",","      \"choose:1\\n\",","      \"caring:1\\n\",","      \"built:1\\n\",","      \"investing:1\\n\",","      \"future.:1\\n\",","      \"remember:1\\n\",","      \"lessons:2\\n\",","      \"past,:1\\n\",","      \"twilight:1\\n\",","      \"years:4\\n\",","      \"spent:1\\n\",","      \"parents:1\\n\",","      \"child:1\\n\",","      \"disability:1\\n\",","      \"nowhere:1\\n\",","      \"turn.We:1\\n\",","      \"reserved:1\\n\",","      \"lucky,:1\\n\",","      \"happiness:2\\n\",","      \"few.:1\\n\",","      \"recognize:1\\n\",","      \"matter:1\\n\",","      \"responsibly:1\\n\",","      \"live:1\\n\",","      \"lives,:1\\n\",","      \"face:1\\n\",","      \"job:1\\n\",","      \"loss,:1\\n\",","      \"sudden:1\\n\",","      \"illness,:1\\n\",","      \"home:1\\n\",","      \"swept:1\\n\",","      \"away:1\\n\",","      \"terrible:1\\n\",","      \"storm.:1\\n\",","      \"commitments:1\\n\",","      \"Medicare:1\\n\",","      \"Medicaid:1\\n\",","      \"Security,:1\\n\",","      \"sap:1\\n\",","      \"initiative,:1\\n\",","      \"strengthen:1\\n\",","      \"us.:1\\n\",","      \"takers;:1\\n\",","      \"take:1\\n\",","      \"risks:1\\n\",","      \"great.:1\\n\",","      \"(Applause.)We,:1\\n\",","      \"obligations:1\\n\",","      \"ourselves,:1\\n\",","      \"posterity.:1\\n\",","      \"respond:1\\n\",","      \"threat:1\\n\",","      \"climate:1\\n\",","      \"knowing:3\\n\",","      \"failure:1\\n\",","      \"would:2\\n\",","      \"betray:1\\n\",","      \"future:2\\n\",","      \"generations.:1\\n\",","      \"Some:1\\n\",","      \"deny:1\\n\",","      \"overwhelming:1\\n\",","      \"judgment:1\\n\",","      \"science,:1\\n\",","      \"none:1\\n\",","      \"avoid:1\\n\",","      \"devastating:1\\n\",","      \"impact:1\\n\",","      \"raging:1\\n\",","      \"fires:1\\n\",","      \"crippling:1\\n\",","      \"drought:1\\n\",","      \"powerful:2\\n\",","      \"storms.The:1\\n\",","      \"path:2\\n\",","      \"towards:1\\n\",","      \"sustainable:1\\n\",","      \"energy:1\\n\",","      \"sources:1\\n\",","      \"sometimes:1\\n\",","      \"difficult.:1\\n\",","      \"resist:1\\n\",","      \"transition,:1\\n\",","      \"lead:1\\n\",","      \"cede:1\\n\",","      \"nations:2\\n\",","      \"power:2\\n\",","      \"industries,:1\\n\",","      \"claim:1\\n\",","      \"promise.:1\\n\",","      \"That’s:2\\n\",","      \"maintain:1\\n\",","      \"vitality:1\\n\",","      \"national:1\\n\",","      \"treasure:1\\n\",","      \"forests:1\\n\",","      \"waterways,:1\\n\",","      \"crop:1\\n\",","      \"lands:1\\n\",","      \"snow-capped:1\\n\",","      \"peaks.:1\\n\",","      \"preserve:1\\n\",","      \"planet,:1\\n\",","      \"commanded:1\\n\",","      \"God.:1\\n\",","      \"lend:1\\n\",","      \"fathers:1\\n\",","      \"declared.We,:1\\n\",","      \"lasting:2\\n\",","      \"peace:3\\n\",","      \"require:3\\n\",","      \"perpetual:1\\n\",","      \"war.:1\\n\",","      \"brave:1\\n\",","      \"women:1\\n\",","      \"uniform,:1\\n\",","      \"tempered:1\\n\",","      \"flames:1\\n\",","      \"battle,:1\\n\",","      \"unmatched:1\\n\",","      \"skill:1\\n\",","      \"courage.:1\\n\",","      \"citizens,:3\\n\",","      \"seared:1\\n\",","      \"memory:1\\n\",","      \"lost,:1\\n\",","      \"price:1\\n\",","      \"paid:1\\n\",","      \"liberty.:1\\n\",","      \"knowledge:1\\n\",","      \"sacrifice:1\\n\",","      \"forever:2\\n\",","      \"vigilant:1\\n\",","      \"harm.:1\\n\",","      \"heirs:1\\n\",","      \"war;:1\\n\",","      \"turned:1\\n\",","      \"sworn:2\\n\",","      \"enemies:1\\n\",","      \"surest:1\\n\",","      \"friends:1\\n\",","      \"carry:3\\n\",","      \"well.We:1\\n\",","      \"defend:1\\n\",","      \"uphold:1\\n\",","      \"values:3\\n\",","      \"arms:1\\n\",","      \"law.:1\\n\",","      \"show:1\\n\",","      \"courage:1\\n\",","      \"try:1\\n\",","      \"differences:1\\n\",","      \"peacefully:1\\n\",","      \"–-:5\\n\",","      \"naïve:1\\n\",","      \"dangers:1\\n\",","      \"face,:1\\n\",","      \"engagement:1\\n\",","      \"durably:1\\n\",","      \"lift:2\\n\",","      \"suspicion:1\\n\",","      \"fear.:1\\n\",","      \"(Applause.)America:1\\n\",","      \"remain:1\\n\",","      \"anchor:1\\n\",","      \"strong:1\\n\",","      \"alliances:1\\n\",","      \"corner:1\\n\",","      \"globe.:1\\n\",","      \"And:3\\n\",","      \"renew:1\\n\",","      \"institutions:1\\n\",","      \"extend:1\\n\",","      \"manage:1\\n\",","      \"crisis:1\\n\",","      \"abroad,:1\\n\",","      \"greater:1\\n\",","      \"stake:1\\n\",","      \"peaceful:1\\n\",","      \"nation.:1\\n\",","      \"support:1\\n\",","      \"democracy:1\\n\",","      \"Asia:1\\n\",","      \"Africa,:1\\n\",","      \"Americas:1\\n\",","      \"Middle:1\\n\",","      \"East,:1\\n\",","      \"interests:1\\n\",","      \"conscience:1\\n\",","      \"compel:2\\n\",","      \"act:2\\n\",","      \"behalf:1\\n\",","      \"freedom.:1\\n\",","      \"source:1\\n\",","      \"hope:1\\n\",","      \"poor,:1\\n\",","      \"sick,:1\\n\",","      \"marginalized,:1\\n\",","      \"victims:1\\n\",","      \"prejudice:1\\n\",","      \"mere:1\\n\",","      \"charity,:1\\n\",","      \"constant:1\\n\",","      \"advance:2\\n\",","      \"common:3\\n\",","      \"describes::1\\n\",","      \"tolerance:1\\n\",","      \"opportunity,:1\\n\",","      \"human:1\\n\",","      \"dignity:1\\n\",","      \"justice.We,:1\\n\",","      \"declare:1\\n\",","      \"today:2\\n\",","      \"evident:1\\n\",","      \"equal:3\\n\",","      \"star:1\\n\",","      \"guides:1\\n\",","      \"still;:1\\n\",","      \"guided:2\\n\",","      \"forebears:1\\n\",","      \"Seneca:1\\n\",","      \"Falls,:1\\n\",","      \"Selma,:1\\n\",","      \"Stonewall;:1\\n\",","      \"women,:1\\n\",","      \"sung:1\\n\",","      \"unsung,:1\\n\",","      \"left:1\\n\",","      \"footprints:1\\n\",","      \"along:1\\n\",","      \"Mall,:1\\n\",","      \"hear:2\\n\",","      \"preacher:1\\n\",","      \"say:1\\n\",","      \"walk:1\\n\",","      \"alone;:1\\n\",","      \"King:1\\n\",","      \"proclaim:1\\n\",","      \"inextricably:1\\n\",","      \"bound:1\\n\",","      \"soul:1\\n\",","      \"(Applause.)It:1\\n\",","      \"generation’s:2\\n\",","      \"task:2\\n\",","      \"pioneers:1\\n\",","      \"began.:1\\n\",","      \"complete:5\\n\",","      \"wives,:1\\n\",","      \"mothers:1\\n\",","      \"daughters:1\\n\",","      \"earn:1\\n\",","      \"living:1\\n\",","      \"efforts.:1\\n\",","      \"gay:1\\n\",","      \"brothers:1\\n\",","      \"sisters:1\\n\",","      \"treated:1\\n\",","      \"like:2\\n\",","      \"anyone:1\\n\",","      \"else:1\\n\",","      \"law:1\\n\",","      \"(applause):2\\n\",","      \"truly:1\\n\",","      \"surely:1\\n\",","      \"love:1\\n\",","      \"commit:1\\n\",","      \"another:1\\n\",","      \"well.:1\\n\",","      \"forced:1\\n\",","      \"wait:1\\n\",","      \"hours:1\\n\",","      \"exercise:1\\n\",","      \"right:1\\n\",","      \"vote.:1\\n\",","      \"better:1\\n\",","      \"way:2\\n\",","      \"welcome:1\\n\",","      \"striving,:1\\n\",","      \"hopeful:1\\n\",","      \"immigrants:1\\n\",","      \"see:1\\n\",","      \"land:1\\n\",","      \"opportunity:1\\n\",","      \"bright:1\\n\",","      \"young:1\\n\",","      \"students:1\\n\",","      \"engineers:1\\n\",","      \"enlisted:1\\n\",","      \"workforce:1\\n\",","      \"rather:1\\n\",","      \"expelled:1\\n\",","      \"country.:1\\n\",","      \"children,:1\\n\",","      \"streets:1\\n\",","      \"Detroit:1\\n\",","      \"hills:1\\n\",","      \"Appalachia,:1\\n\",","      \"quiet:1\\n\",","      \"lanes:1\\n\",","      \"Newtown,:1\\n\",","      \"cared:1\\n\",","      \"cherished:1\\n\",","      \"harm.That:1\\n\",","      \"words,:1\\n\",","      \"rights,:1\\n\",","      \"life:1\\n\",","      \"Being:1\\n\",","      \"documents:1\\n\",","      \"agree:1\\n\",","      \"contour:1\\n\",","      \"life.:1\\n\",","      \"It:1\\n\",","      \"mean:1\\n\",","      \"define:1\\n\",","      \"exactly:1\\n\",","      \"follow:1\\n\",","      \"precise:1\\n\",","      \"happiness.:1\\n\",","      \"Progress:1\\n\",","      \"settle:1\\n\",","      \"centuries-long:1\\n\",","      \"debates:2\\n\",","      \"role:1\\n\",","      \"time,:1\\n\",","      \"decisions:1\\n\",","      \"afford:1\\n\",","      \"delay.:1\\n\",","      \"mistake:1\\n\",","      \"absolutism:1\\n\",","      \"principle,:1\\n\",","      \"substitute:1\\n\",","      \"spectacle:1\\n\",","      \"politics,:1\\n\",","      \"treat:1\\n\",","      \"name-calling:1\\n\",","      \"reasoned:1\\n\",","      \"debate.:1\\n\",","      \"act,:2\\n\",","      \"imperfect.:1\\n\",","      \"victories:1\\n\",","      \"partial:1\\n\",","      \"stand:1\\n\",","      \"four:1\\n\",","      \"40:1\\n\",","      \"400:1\\n\",","      \"hence:1\\n\",","      \"timeless:1\\n\",","      \"spirit:1\\n\",","      \"conferred:1\\n\",","      \"spare:1\\n\",","      \"Philadelphia:1\\n\",","      \"hall.My:1\\n\",","      \"oath:4\\n\",","      \"I:2\\n\",","      \"today,:1\\n\",","      \"recited:1\\n\",","      \"others:1\\n\",","      \"serve:1\\n\",","      \"Capitol,:1\\n\",","      \"country,:1\\n\",","      \"party:1\\n\",","      \"faction.:1\\n\",","      \"faithfully:1\\n\",","      \"execute:1\\n\",","      \"pledge:2\\n\",","      \"duration:1\\n\",","      \"service.:1\\n\",","      \"spoke:1\\n\",","      \"different:2\\n\",","      \"taken:1\\n\",","      \"soldier:1\\n\",","      \"signs:1\\n\",","      \"duty:2\\n\",","      \"immigrant:1\\n\",","      \"realizes:1\\n\",","      \"dream.:1\\n\",","      \"flag:1\\n\",","      \"waves:1\\n\",","      \"fills:1\\n\",","      \"hearts:1\\n\",","      \"pride.They:1\\n\",","      \"represent:1\\n\",","      \"greatest:1\\n\",","      \"hope.:1\\n\",","      \"I,:2\\n\",","      \"set:1\\n\",","      \"country’s:1\\n\",","      \"course.:1\\n\",","      \"obligation:1\\n\",","      \"shape:1\\n\",","      \"votes:1\\n\",","      \"cast,:1\\n\",","      \"voices:1\\n\",","      \"defense:1\\n\",","      \"ancient:1\\n\",","      \"ideals.:1\\n\",","      \"(Applause.)Let:1\\n\",","      \"us,:2\\n\",","      \"embrace:1\\n\",","      \"solemn:1\\n\",","      \"awesome:1\\n\",","      \"joy:1\\n\",","      \"birthright.:1\\n\",","      \"With:1\\n\",","      \"purpose,:1\\n\",","      \"passion:1\\n\",","      \"dedication,:1\\n\",","      \"let:1\\n\",","      \"answer:1\\n\",","      \"call:1\\n\",","      \"uncertain:1\\n\",","      \"precious:1\\n\",","      \"light:1\\n\",","      \"freedom.Thank:1\\n\",","      \"you.:1\\n\",","      \"bless:2\\n\",","      \"you,:1\\n\",","      \"He:1\\n\",","      \"America.:1\\n\",","      \"(Applause.)END12:10:1\\n\",","      \"P.M.:1\\n\",","      \"ESTTwitterInstagramFacebookGoogle+YoutubeMore:1\\n\",","      \"ways:1\\n\",","      \"engageContact:1\\n\",","      \"UsEmailHomeBriefing:1\\n\",","      \"NewsShare-WorthyPhotosVideo:1\\n\",","      \"GalleryLive:1\\n\",","      \"EventsMusic:1\\n\",","      \"PerformancesFrom:1\\n\",","      \"GovernmentResourcesEn:1\\n\",","      \"EspañolAccessibilityCopyright:1\\n\",","      \"InformationPrivacy:1\\n\",","      \"PolicyUSA.gov:1\\n\"","     ]","    }","   ],","   \"source\": [","    \"freq = nltk.FreqDist(clean_tokens)\\n\",","    \"for key,val in freq.items():\\n\",","    \"    print(str(key) + ':' + str(val))\\n\"","   ]","  },","  {","   \"cell_type\": \"code\",","   \"execution_count\": 23,","   \"id\": \"704c2be6\",","   \"metadata\": {},","   \"outputs\": [","    {","     \"data\": {","      \"image/png\": \"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\\n\",","      \"text/plain\": [","       \"\u003cFigure size 432x288 with 1 Axes\u003e\"","      ]","     },","     \"metadata\": {","      \"needs_background\": \"light\"","     },","     \"output_type\": \"display_data\"","    },","    {","     \"data\": {","      \"text/plain\": [","       \"\u003cAxesSubplot:xlabel='Samples', ylabel='Counts'\u003e\"","      ]","     },","     \"execution_count\": 23,","     \"metadata\": {},","     \"output_type\": \"execute_result\"","    }","   ],","   \"source\": [","    \"freq.plot(20, cumulative=False)\"","   ]","  },","  {","   \"cell_type\": \"code\",","   \"execution_count\": null,","   \"id\": \"aefa0f94\",","   \"metadata\": {},","   \"outputs\": [],","   \"source\": []","  }"," ],"," \"metadata\": {","  \"kernelspec\": {","   \"display_name\": \"Python 3 (ipykernel)\",","   \"language\": \"python\",","   \"name\": \"python3\"","  },","  \"language_info\": {","   \"codemirror_mode\": {","    \"name\": \"ipython\",","    \"version\": 3","   },","   \"file_extension\": \".py\",","   \"mimetype\": \"text/x-python\",","   \"name\": \"python\",","   \"nbconvert_exporter\": \"python\",","   \"pygments_lexer\": \"ipython3\",","   \"version\": \"3.9.12\"","  }"," },"," \"nbformat\": 4,"," \"nbformat_minor\": 5","}"],"stylingDirectives":null,"csv":null,"csvError":null,"dependabotInfo":{"showConfigurationBanner":null,"configFilePath":null,"networkDependabotPath":"/zulkaidaakbar/NLP-STTCipasung2022/network/updates","dismissConfigurationNoticePath":"/settings/dismiss-notice/dependabot_configuration_notice","configurationNoticeDismissed":false,"repoAlertsPath":"/zulkaidaakbar/NLP-STTCipasung2022/security/dependabot","repoSecurityAndAnalysisPath":"/zulkaidaakbar/NLP-STTCipasung2022/settings/security_analysis","repoOwnerIsOrg":false,"currentUserCanAdminRepo":true},"displayName":"IntroNLPEnglish.ipynb","displayUrl":"https://notebooks.githubusercontent.com/view/ipynb?browser=chrome\u0026bypass_fastly=true\u0026color_mode=auto\u0026commit=610dd6af4315c5f184d6ce161078b45e59b85433\u0026device=unknown_device\u0026docs_host=https%3A%2F%2Fdocs.github.com\u0026enc_url=68747470733a2f2f7261772e67697468756275736572636f6e74656e742e636f6d2f7a756c6b61696461616b6261722f4e4c502d5354544369706173756e67323032322f363130646436616634333135633566313834643663653136313037386234356535396238353433332f32302d53657074656d6265722d323032322f496e74726f4e4c50456e676c6973682e6970796e62\u0026logged_in=true\u0026nwo=zulkaidaakbar%2FNLP-STTCipasung2022\u0026path=20-September-2022%2FIntroNLPEnglish.ipynb\u0026platform=windows\u0026repository_id=538342963\u0026repository_type=Repository\u0026version=116","headerInfo":{"blobSize":"224 KB","deleteInfo":{"deleteTooltip":"Delete this file"},"editInfo":{"editTooltip":"Edit this file"},"ghDesktopPath":"https://desktop.github.com","gitLfsPath":null,"onBranch":true,"shortPath":"a68836b","siteNavLoginPath":"/login?return_to=https%3A%2F%2Fgithub.com%2Fzulkaidaakbar%2FNLP-STTCipasung2022%2Fblob%2Fmain%2F20-September-2022%2FIntroNLPEnglish.ipynb","isCSV":false,"isRichtext":false,"toc":null,"lineInfo":{"truncatedLoc":"1283","truncatedSloc":"1283"},"mode":"file"},"image":false,"isCodeownersFile":null,"isPlain":false,"isValidLegacyIssueTemplate":false,"issueTemplateHelpUrl":"https://docs.github.com/articles/about-issue-and-pull-request-templates","issueTemplate":null,"discussionTemplate":null,"language":"Jupyter Notebook","languageID":185,"large":false,"loggedIn":true,"newDiscussionPath":"/zulkaidaakbar/NLP-STTCipasung2022/discussions/new","newIssuePath":"/zulkaidaakbar/NLP-STTCipasung2022/issues/new","planSupportInfo":{"repoIsFork":null,"repoOwnedByCurrentUser":null,"requestFullPath":"/zulkaidaakbar/NLP-STTCipasung2022/blob/main/20-September-2022/IntroNLPEnglish.ipynb","showFreeOrgGatedFeatureMessage":null,"showPlanSupportBanner":null,"upgradeDataAttributes":null,"upgradePath":null},"publishBannersInfo":{"dismissActionNoticePath":"/settings/dismiss-notice/publish_action_from_dockerfile","dismissStackNoticePath":"/settings/dismiss-notice/publish_stack_from_file","releasePath":"/zulkaidaakbar/NLP-STTCipasung2022/releases/new?marketplace=true","showPublishActionBanner":false,"showPublishStackBanner":false},"renderImageOrRaw":false,"richText":null,"renderedFileInfo":{"identityUUID":"9fdfb0d7-c1b6-430c-93fe-3f6dc266b0d0","renderFileType":"ipynb","size":228885},"shortPath":null,"tabSize":8,"topBannersInfo":{"overridingGlobalFundingFile":false,"globalPreferredFundingPath":null,"repoOwner":"zulkaidaakbar","repoName":"NLP-STTCipasung2022","showInvalidCitationWarning":false,"citationHelpUrl":"https://docs.github.com/en/github/creating-cloning-and-archiving-repositories/creating-a-repository-on-github/about-citation-files","showDependabotConfigurationBanner":null,"actionsOnboardingTip":null},"truncated":false,"viewable":true,"workflowRedirectUrl":null,"symbols":{"timedOut":false,"notAnalyzed":true,"symbols":[]}},"copilotInfo":{"documentationUrl":"https://docs.github.com/copilot/overview-of-github-copilot/about-github-copilot-for-business","notices":{"codeViewPopover":{"dismissed":false,"dismissPath":"/settings/dismiss-notice/code_view_copilot_popover"}},"userAccess":{"accessAllowed":false,"hasSubscriptionEnded":false,"orgHasCFBAccess":false,"userHasCFIAccess":false,"userHasOrgs":true,"userIsOrgAdmin":false,"userIsOrgMember":false,"business":null,"featureRequestInfo":null}},"csrf_tokens":{"/zulkaidaakbar/NLP-STTCipasung2022/branches":{"post":"un0vu5a2R6ga2Ybo03cKld2sUCy82bQe5-Js2F0DqFoGFHC7vzEAc-WcTVCNTP_Z5fst7kPbRYXTSJcGQLwKxg"},"/repos/preferences":{"post":"HUIHGufiCpT0dGLyUa7opmgX_B4DR4Jm_WGXJoZutzf6-eVevKdNHU7VPQIWr2kcouC3IzBDRq7xJrgiq_l59A"}}},"title":"NLP-STTCipasung2022/20-September-2022/IntroNLPEnglish.ipynb at main · zulkaidaakbar/NLP-STTCipasung2022","appPayload":{"helpUrl":"https://docs.github.com","findFileWorkerPath":"/assets-cdn/worker/find-file-worker-83d4418b406d.js","findInFileWorkerPath":"/assets-cdn/worker/find-in-file-worker-2dd6b5095052.js","githubDevUrl":"https://github.dev/","enabled_features":{"virtualize_file_tree":true,"react_repos_overview":true,"code_nav_ui_events":false,"ref_selector_v2":false,"blob_firefox_separate_characters":true,"copilot_conversational_ux":false,"copilot_conversational_ux_symbols":false,"copilot_popover_file_editor_header":true,"copilot_smell_icebreaker_ux":false,"lfs_download_button":true}}}</script>
  <div data-target="react-app.reactRoot"></div>
</react-app>
</turbo-frame>



  </div>

</turbo-frame>

    </main>
  </div>

  </div>

          <footer class="footer width-full container-xl p-responsive" role="contentinfo">
  <h2 class='sr-only'>Footer</h2>

  <div class="position-relative d-flex flex-items-center pb-2 f6 color-fg-muted border-top color-border-muted flex-column-reverse flex-lg-row flex-wrap flex-lg-nowrap mt-6 pt-6">
    <div class="list-style-none d-flex flex-wrap col-0 col-lg-2 flex-justify-start flex-lg-justify-between mb-2 mb-lg-0">
      <div class="mt-2 mt-lg-0 d-flex flex-items-center">
        <a aria-label="Homepage" title="GitHub" class="footer-octicon mr-2" href="https://github.com">
          <svg aria-hidden="true" height="24" viewBox="0 0 16 16" version="1.1" width="24" data-view-component="true" class="octicon octicon-mark-github">
    <path d="M8 0c4.42 0 8 3.58 8 8a8.013 8.013 0 0 1-5.45 7.59c-.4.08-.55-.17-.55-.38 0-.27.01-1.13.01-2.2 0-.75-.25-1.23-.54-1.48 1.78-.2 3.65-.88 3.65-3.95 0-.88-.31-1.59-.82-2.15.08-.2.36-1.02-.08-2.12 0 0-.67-.22-2.2.82-.64-.18-1.32-.27-2-.27-.68 0-1.36.09-2 .27-1.53-1.03-2.2-.82-2.2-.82-.44 1.1-.16 1.92-.08 2.12-.51.56-.82 1.28-.82 2.15 0 3.06 1.86 3.75 3.64 3.95-.23.2-.44.55-.51 1.07-.46.21-1.61.55-2.33-.66-.15-.24-.6-.83-1.23-.82-.67.01-.27.38.01.53.34.19.73.9.82 1.13.16.45.68 1.31 2.69.94 0 .67.01 1.3.01 1.49 0 .21-.15.45-.55.38A7.995 7.995 0 0 1 0 8c0-4.42 3.58-8 8-8Z"></path>
</svg>
</a>        <span>
        &copy; 2023 GitHub, Inc.
        </span>
      </div>
    </div>

    <nav aria-label='Footer' class="col-12 col-lg-8">
      <h3 class='sr-only' id='sr-footer-heading'>Footer navigation</h3>
      <ul class="list-style-none d-flex flex-wrap col-12 flex-justify-center flex-lg-justify-between mb-2 mb-lg-0" aria-labelledby='sr-footer-heading'>
          <li class="mr-3 mr-lg-0"><a href="https://docs.github.com/site-policy/github-terms/github-terms-of-service" data-analytics-event="{&quot;category&quot;:&quot;Footer&quot;,&quot;action&quot;:&quot;go to terms&quot;,&quot;label&quot;:&quot;text:terms&quot;}">Terms</a></li>
          <li class="mr-3 mr-lg-0"><a href="https://docs.github.com/site-policy/privacy-policies/github-privacy-statement" data-analytics-event="{&quot;category&quot;:&quot;Footer&quot;,&quot;action&quot;:&quot;go to privacy&quot;,&quot;label&quot;:&quot;text:privacy&quot;}">Privacy</a></li>
          <li class="mr-3 mr-lg-0"><a data-analytics-event="{&quot;category&quot;:&quot;Footer&quot;,&quot;action&quot;:&quot;go to security&quot;,&quot;label&quot;:&quot;text:security&quot;}" href="https://github.com/security">Security</a></li>
          <li class="mr-3 mr-lg-0"><a href="https://www.githubstatus.com/" data-analytics-event="{&quot;category&quot;:&quot;Footer&quot;,&quot;action&quot;:&quot;go to status&quot;,&quot;label&quot;:&quot;text:status&quot;}">Status</a></li>
          <li class="mr-3 mr-lg-0"><a data-ga-click="Footer, go to help, text:Docs" href="https://docs.github.com">Docs</a></li>
          <li class="mr-3 mr-lg-0"><a href="https://support.github.com?tags=dotcom-footer" data-analytics-event="{&quot;category&quot;:&quot;Footer&quot;,&quot;action&quot;:&quot;go to contact&quot;,&quot;label&quot;:&quot;text:contact&quot;}">Contact GitHub</a></li>
          <li class="mr-3 mr-lg-0"><a href="https://github.com/pricing" data-analytics-event="{&quot;category&quot;:&quot;Footer&quot;,&quot;action&quot;:&quot;go to Pricing&quot;,&quot;label&quot;:&quot;text:Pricing&quot;}">Pricing</a></li>
        <li class="mr-3 mr-lg-0"><a href="https://docs.github.com" data-analytics-event="{&quot;category&quot;:&quot;Footer&quot;,&quot;action&quot;:&quot;go to api&quot;,&quot;label&quot;:&quot;text:api&quot;}">API</a></li>
        <li class="mr-3 mr-lg-0"><a href="https://services.github.com" data-analytics-event="{&quot;category&quot;:&quot;Footer&quot;,&quot;action&quot;:&quot;go to training&quot;,&quot;label&quot;:&quot;text:training&quot;}">Training</a></li>
          <li class="mr-3 mr-lg-0"><a href="https://github.blog" data-analytics-event="{&quot;category&quot;:&quot;Footer&quot;,&quot;action&quot;:&quot;go to blog&quot;,&quot;label&quot;:&quot;text:blog&quot;}">Blog</a></li>
          <li><a data-ga-click="Footer, go to about, text:about" href="https://github.com/about">About</a></li>
      </ul>
    </nav>
  </div>

  <div class="d-flex flex-justify-center pb-6">
    <span class="f6 color-fg-muted"></span>
  </div>
</footer>




  <div id="ajax-error-message" class="ajax-error-message flash flash-error" hidden>
    <svg aria-hidden="true" height="16" viewBox="0 0 16 16" version="1.1" width="16" data-view-component="true" class="octicon octicon-alert">
    <path d="M6.457 1.047c.659-1.234 2.427-1.234 3.086 0l6.082 11.378A1.75 1.75 0 0 1 14.082 15H1.918a1.75 1.75 0 0 1-1.543-2.575Zm1.763.707a.25.25 0 0 0-.44 0L1.698 13.132a.25.25 0 0 0 .22.368h12.164a.25.25 0 0 0 .22-.368Zm.53 3.996v2.5a.75.75 0 0 1-1.5 0v-2.5a.75.75 0 0 1 1.5 0ZM9 11a1 1 0 1 1-2 0 1 1 0 0 1 2 0Z"></path>
</svg>
    <button type="button" class="flash-close js-ajax-error-dismiss" aria-label="Dismiss error">
      <svg aria-hidden="true" height="16" viewBox="0 0 16 16" version="1.1" width="16" data-view-component="true" class="octicon octicon-x">
    <path d="M3.72 3.72a.75.75 0 0 1 1.06 0L8 6.94l3.22-3.22a.749.749 0 0 1 1.275.326.749.749 0 0 1-.215.734L9.06 8l3.22 3.22a.749.749 0 0 1-.326 1.275.749.749 0 0 1-.734-.215L8 9.06l-3.22 3.22a.751.751 0 0 1-1.042-.018.751.751 0 0 1-.018-1.042L6.94 8 3.72 4.78a.75.75 0 0 1 0-1.06Z"></path>
</svg>
    </button>
    You can’t perform that action at this time.
  </div>

    <template id="site-details-dialog">
  <details class="details-reset details-overlay details-overlay-dark lh-default color-fg-default hx_rsm" open>
    <summary role="button" aria-label="Close dialog"></summary>
    <details-dialog class="Box Box--overlay d-flex flex-column anim-fade-in fast hx_rsm-dialog hx_rsm-modal">
      <button class="Box-btn-octicon m-0 btn-octicon position-absolute right-0 top-0" type="button" aria-label="Close dialog" data-close-dialog>
        <svg aria-hidden="true" height="16" viewBox="0 0 16 16" version="1.1" width="16" data-view-component="true" class="octicon octicon-x">
    <path d="M3.72 3.72a.75.75 0 0 1 1.06 0L8 6.94l3.22-3.22a.749.749 0 0 1 1.275.326.749.749 0 0 1-.215.734L9.06 8l3.22 3.22a.749.749 0 0 1-.326 1.275.749.749 0 0 1-.734-.215L8 9.06l-3.22 3.22a.751.751 0 0 1-1.042-.018.751.751 0 0 1-.018-1.042L6.94 8 3.72 4.78a.75.75 0 0 1 0-1.06Z"></path>
</svg>
      </button>
      <div class="octocat-spinner my-6 js-details-dialog-spinner"></div>
    </details-dialog>
  </details>
</template>

    <div class="Popover js-hovercard-content position-absolute" style="display: none; outline: none;" tabindex="0">
  <div class="Popover-message Popover-message--bottom-left Popover-message--large Box color-shadow-large" style="width:360px;">
  </div>
</div>

    <template id="snippet-clipboard-copy-button">
  <div class="zeroclipboard-container position-absolute right-0 top-0">
    <clipboard-copy aria-label="Copy" class="ClipboardButton btn js-clipboard-copy m-2 p-0 tooltipped-no-delay" data-copy-feedback="Copied!" data-tooltip-direction="w">
      <svg aria-hidden="true" height="16" viewBox="0 0 16 16" version="1.1" width="16" data-view-component="true" class="octicon octicon-copy js-clipboard-copy-icon m-2">
    <path d="M0 6.75C0 5.784.784 5 1.75 5h1.5a.75.75 0 0 1 0 1.5h-1.5a.25.25 0 0 0-.25.25v7.5c0 .138.112.25.25.25h7.5a.25.25 0 0 0 .25-.25v-1.5a.75.75 0 0 1 1.5 0v1.5A1.75 1.75 0 0 1 9.25 16h-7.5A1.75 1.75 0 0 1 0 14.25Z"></path><path d="M5 1.75C5 .784 5.784 0 6.75 0h7.5C15.216 0 16 .784 16 1.75v7.5A1.75 1.75 0 0 1 14.25 11h-7.5A1.75 1.75 0 0 1 5 9.25Zm1.75-.25a.25.25 0 0 0-.25.25v7.5c0 .138.112.25.25.25h7.5a.25.25 0 0 0 .25-.25v-7.5a.25.25 0 0 0-.25-.25Z"></path>
</svg>
      <svg aria-hidden="true" height="16" viewBox="0 0 16 16" version="1.1" width="16" data-view-component="true" class="octicon octicon-check js-clipboard-check-icon color-fg-success d-none m-2">
    <path d="M13.78 4.22a.75.75 0 0 1 0 1.06l-7.25 7.25a.75.75 0 0 1-1.06 0L2.22 9.28a.751.751 0 0 1 .018-1.042.751.751 0 0 1 1.042-.018L6 10.94l6.72-6.72a.75.75 0 0 1 1.06 0Z"></path>
</svg>
    </clipboard-copy>
  </div>
</template>
<template id="snippet-clipboard-copy-button-unpositioned">
  <div class="zeroclipboard-container">
    <clipboard-copy aria-label="Copy" class="ClipboardButton btn btn-invisible js-clipboard-copy m-2 p-0 tooltipped-no-delay d-flex flex-justify-center flex-items-center" data-copy-feedback="Copied!" data-tooltip-direction="w">
      <svg aria-hidden="true" height="16" viewBox="0 0 16 16" version="1.1" width="16" data-view-component="true" class="octicon octicon-copy js-clipboard-copy-icon">
    <path d="M0 6.75C0 5.784.784 5 1.75 5h1.5a.75.75 0 0 1 0 1.5h-1.5a.25.25 0 0 0-.25.25v7.5c0 .138.112.25.25.25h7.5a.25.25 0 0 0 .25-.25v-1.5a.75.75 0 0 1 1.5 0v1.5A1.75 1.75 0 0 1 9.25 16h-7.5A1.75 1.75 0 0 1 0 14.25Z"></path><path d="M5 1.75C5 .784 5.784 0 6.75 0h7.5C15.216 0 16 .784 16 1.75v7.5A1.75 1.75 0 0 1 14.25 11h-7.5A1.75 1.75 0 0 1 5 9.25Zm1.75-.25a.25.25 0 0 0-.25.25v7.5c0 .138.112.25.25.25h7.5a.25.25 0 0 0 .25-.25v-7.5a.25.25 0 0 0-.25-.25Z"></path>
</svg>
      <svg aria-hidden="true" height="16" viewBox="0 0 16 16" version="1.1" width="16" data-view-component="true" class="octicon octicon-check js-clipboard-check-icon color-fg-success d-none">
    <path d="M13.78 4.22a.75.75 0 0 1 0 1.06l-7.25 7.25a.75.75 0 0 1-1.06 0L2.22 9.28a.751.751 0 0 1 .018-1.042.751.751 0 0 1 1.042-.018L6 10.94l6.72-6.72a.75.75 0 0 1 1.06 0Z"></path>
</svg>
    </clipboard-copy>
  </div>
</template>


    <style>
      .user-mention[href$="/zulkaidaakbar"] {
        color: var(--color-user-mention-fg);
        background-color: var(--color-user-mention-bg);
        border-radius: 2px;
        margin-left: -2px;
        margin-right: -2px;
        padding: 0 2px;
      }
    </style>


    </div>

    <div id="js-global-screen-reader-notice" class="sr-only" aria-live="polite" ></div>
  </body>
</html>

