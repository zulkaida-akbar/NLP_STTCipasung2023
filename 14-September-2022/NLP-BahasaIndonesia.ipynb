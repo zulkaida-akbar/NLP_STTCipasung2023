





<!DOCTYPE html>
<html lang="en" data-color-mode="auto" data-light-theme="light" data-dark-theme="dark"  data-a11y-animated-images="system" data-a11y-link-underlines="false">


  <head>
    <meta charset="utf-8">
  <link rel="dns-prefetch" href="https://github.githubassets.com">
  <link rel="dns-prefetch" href="https://avatars.githubusercontent.com">
  <link rel="dns-prefetch" href="https://github-cloud.s3.amazonaws.com">
  <link rel="dns-prefetch" href="https://user-images.githubusercontent.com/">
  <link rel="preconnect" href="https://github.githubassets.com" crossorigin>
  <link rel="preconnect" href="https://avatars.githubusercontent.com">

  


  <link crossorigin="anonymous" media="all" rel="stylesheet" href="https://github.githubassets.com/assets/light-a09cef873428.css" /><link crossorigin="anonymous" media="all" rel="stylesheet" href="https://github.githubassets.com/assets/dark-5d486a4ede8e.css" /><link data-color-theme="dark_dimmed" crossorigin="anonymous" media="all" rel="stylesheet" data-href="https://github.githubassets.com/assets/dark_dimmed-27c8d635e4e5.css" /><link data-color-theme="dark_high_contrast" crossorigin="anonymous" media="all" rel="stylesheet" data-href="https://github.githubassets.com/assets/dark_high_contrast-8438e75afd36.css" /><link data-color-theme="dark_colorblind" crossorigin="anonymous" media="all" rel="stylesheet" data-href="https://github.githubassets.com/assets/dark_colorblind-bf5665b96628.css" /><link data-color-theme="light_colorblind" crossorigin="anonymous" media="all" rel="stylesheet" data-href="https://github.githubassets.com/assets/light_colorblind-c414b5ba1dce.css" /><link data-color-theme="light_high_contrast" crossorigin="anonymous" media="all" rel="stylesheet" data-href="https://github.githubassets.com/assets/light_high_contrast-e5868b7374db.css" /><link data-color-theme="light_tritanopia" crossorigin="anonymous" media="all" rel="stylesheet" data-href="https://github.githubassets.com/assets/light_tritanopia-299ac9c64ec0.css" /><link data-color-theme="dark_tritanopia" crossorigin="anonymous" media="all" rel="stylesheet" data-href="https://github.githubassets.com/assets/dark_tritanopia-3a26e78ad0ff.css" />
  
    <link crossorigin="anonymous" media="all" rel="stylesheet" href="https://github.githubassets.com/assets/primer-primitives-6143c8f97ed1.css" />
    <link crossorigin="anonymous" media="all" rel="stylesheet" href="https://github.githubassets.com/assets/primer-903aefe99058.css" />
    <link crossorigin="anonymous" media="all" rel="stylesheet" href="https://github.githubassets.com/assets/global-173da82a737b.css" />
    <link crossorigin="anonymous" media="all" rel="stylesheet" href="https://github.githubassets.com/assets/github-5636d019c151.css" />
  <link crossorigin="anonymous" media="all" rel="stylesheet" href="https://github.githubassets.com/assets/code-f68e2653d00d.css" />

  

  <script type="application/json" id="client-env">{"locale":"en","featureFlags":["failbot_handle_non_errors","fix_react_title","geojson_azure_maps","image_metric_tracking","turbo_experiment_risky","use_scroll_restoration","sample_network_conn_type"]}</script>
<script crossorigin="anonymous" defer="defer" type="application/javascript" src="https://github.githubassets.com/assets/wp-runtime-0f5a597610ec.js"></script>
<script crossorigin="anonymous" defer="defer" type="application/javascript" src="https://github.githubassets.com/assets/vendors-node_modules_dompurify_dist_purify_js-64d590970fa6.js"></script>
<script crossorigin="anonymous" defer="defer" type="application/javascript" src="https://github.githubassets.com/assets/vendors-node_modules_stacktrace-parser_dist_stack-trace-parser_esm_js-node_modules_github_bro-a4c183-18bf85b8e9f4.js"></script>
<script crossorigin="anonymous" defer="defer" type="application/javascript" src="https://github.githubassets.com/assets/ui_packages_soft-nav_soft-nav_ts-df17d5597d8f.js"></script>
<script crossorigin="anonymous" defer="defer" type="application/javascript" src="https://github.githubassets.com/assets/environment-509b58e05b9f.js"></script>
<script crossorigin="anonymous" defer="defer" type="application/javascript" src="https://github.githubassets.com/assets/vendors-node_modules_github_selector-observer_dist_index_esm_js-2646a2c533e3.js"></script>
<script crossorigin="anonymous" defer="defer" type="application/javascript" src="https://github.githubassets.com/assets/vendors-node_modules_primer_behaviors_dist_esm_focus-zone_js-d55308df5023.js"></script>
<script crossorigin="anonymous" defer="defer" type="application/javascript" src="https://github.githubassets.com/assets/vendors-node_modules_github_relative-time-element_dist_index_js-99e288659d4f.js"></script>
<script crossorigin="anonymous" defer="defer" type="application/javascript" src="https://github.githubassets.com/assets/vendors-node_modules_github_markdown-toolbar-element_dist_index_js-691f92ed710c.js"></script>
<script crossorigin="anonymous" defer="defer" type="application/javascript" src="https://github.githubassets.com/assets/vendors-node_modules_delegated-events_dist_index_js-node_modules_github_auto-complete-element-5b3870-9b38c0812424.js"></script>
<script crossorigin="anonymous" defer="defer" type="application/javascript" src="https://github.githubassets.com/assets/vendors-node_modules_github_filter-input-element_dist_index_js-node_modules_github_remote-inp-d1569f-eb0e0c1e5438.js"></script>
<script crossorigin="anonymous" defer="defer" type="application/javascript" src="https://github.githubassets.com/assets/vendors-node_modules_github_file-attachment-element_dist_index_js-node_modules_primer_view-co-bdc901-81f1e189072b.js"></script>
<script crossorigin="anonymous" defer="defer" type="application/javascript" src="https://github.githubassets.com/assets/github-elements-44d96edd9c30.js"></script>
<script crossorigin="anonymous" defer="defer" type="application/javascript" src="https://github.githubassets.com/assets/element-registry-631c5146145f.js"></script>
<script crossorigin="anonymous" defer="defer" type="application/javascript" src="https://github.githubassets.com/assets/vendors-node_modules_lit-html_lit-html_js-9d9fe1859ce5.js"></script>
<script crossorigin="anonymous" defer="defer" type="application/javascript" src="https://github.githubassets.com/assets/vendors-node_modules_github_hydro-analytics-client_dist_analytics-client_js-node_modules_gith-f3aee1-fd3c22610e40.js"></script>
<script crossorigin="anonymous" defer="defer" type="application/javascript" src="https://github.githubassets.com/assets/vendors-node_modules_morphdom_dist_morphdom-esm_js-b1fdd7158cf0.js"></script>
<script crossorigin="anonymous" defer="defer" type="application/javascript" src="https://github.githubassets.com/assets/vendors-node_modules_github_mini-throttle_dist_index_js-node_modules_github_alive-client_dist-bf5aa2-4aefce0fc3c8.js"></script>
<script crossorigin="anonymous" defer="defer" type="application/javascript" src="https://github.githubassets.com/assets/vendors-node_modules_github_turbo_dist_turbo_es2017-esm_js-1f4793023fcd.js"></script>
<script crossorigin="anonymous" defer="defer" type="application/javascript" src="https://github.githubassets.com/assets/vendors-node_modules_github_remote-form_dist_index_js-node_modules_scroll-anchoring_dist_scro-52dc4b-e1e33bfc0b7e.js"></script>
<script crossorigin="anonymous" defer="defer" type="application/javascript" src="https://github.githubassets.com/assets/vendors-node_modules_color-convert_index_js-35b3ae68c408.js"></script>
<script crossorigin="anonymous" defer="defer" type="application/javascript" src="https://github.githubassets.com/assets/vendors-node_modules_github_paste-markdown_dist_index_esm_js-node_modules_github_quote-select-426751-0153d059d677.js"></script>
<script crossorigin="anonymous" defer="defer" type="application/javascript" src="https://github.githubassets.com/assets/app_assets_modules_github_details-dialog_ts-app_assets_modules_github_fetch_ts-9ca164041015.js"></script>
<script crossorigin="anonymous" defer="defer" type="application/javascript" src="https://github.githubassets.com/assets/app_assets_modules_github_updatable-content_ts-ui_packages_hydro-analytics_hydro-analytics_ts-e4da304b75e7.js"></script>
<script crossorigin="anonymous" defer="defer" type="application/javascript" src="https://github.githubassets.com/assets/app_assets_modules_github_onfocus_ts-app_assets_modules_github_sticky-scroll-into-view_ts-b88dcdb1ae32.js"></script>
<script crossorigin="anonymous" defer="defer" type="application/javascript" src="https://github.githubassets.com/assets/app_assets_modules_github_behaviors_task-list_ts-app_assets_modules_github_sso_ts-ui_packages-7d50ad-9491f2be61ee.js"></script>
<script crossorigin="anonymous" defer="defer" type="application/javascript" src="https://github.githubassets.com/assets/app_assets_modules_github_behaviors_ajax-error_ts-app_assets_modules_github_behaviors_include-2e2258-f7b8ad0ef997.js"></script>
<script crossorigin="anonymous" defer="defer" type="application/javascript" src="https://github.githubassets.com/assets/app_assets_modules_github_behaviors_commenting_edit_ts-app_assets_modules_github_behaviors_ht-83c235-f22ac6b94445.js"></script>
<script crossorigin="anonymous" defer="defer" type="application/javascript" src="https://github.githubassets.com/assets/app_assets_modules_github_blob-anchor_ts-app_assets_modules_github_filter-sort_ts-app_assets_-c96432-b9f980134541.js"></script>
<script crossorigin="anonymous" defer="defer" type="application/javascript" src="https://github.githubassets.com/assets/behaviors-aee176930752.js"></script>
<script crossorigin="anonymous" defer="defer" type="application/javascript" src="https://github.githubassets.com/assets/vendors-node_modules_delegated-events_dist_index_js-node_modules_github_catalyst_lib_index_js-06ff531-fe0b8ccc90a5.js"></script>
<script crossorigin="anonymous" defer="defer" type="application/javascript" src="https://github.githubassets.com/assets/notifications-global-f57687007bfc.js"></script>
<script crossorigin="anonymous" defer="defer" type="application/javascript" src="https://github.githubassets.com/assets/code-menu-c743a13234fc.js"></script>
  
  <script crossorigin="anonymous" defer="defer" type="application/javascript" src="https://github.githubassets.com/assets/react-lib-210c4b5934c3.js"></script>
<script crossorigin="anonymous" defer="defer" type="application/javascript" src="https://github.githubassets.com/assets/vendors-node_modules_primer_octicons-react_dist_index_esm_js-node_modules_primer_react_lib-es-14a089-38d45acba361.js"></script>
<script crossorigin="anonymous" defer="defer" type="application/javascript" src="https://github.githubassets.com/assets/vendors-node_modules_primer_react_lib-esm_Box_Box_js-8d2713f90c9a.js"></script>
<script crossorigin="anonymous" defer="defer" type="application/javascript" src="https://github.githubassets.com/assets/vendors-node_modules_primer_react_lib-esm_Button_Button_js-node_modules_primer_react_lib-esm_-c2022e-70aff6ca05a9.js"></script>
<script crossorigin="anonymous" defer="defer" type="application/javascript" src="https://github.githubassets.com/assets/vendors-node_modules_primer_react_lib-esm_ActionList_index_js-7bad8659e7bd.js"></script>
<script crossorigin="anonymous" defer="defer" type="application/javascript" src="https://github.githubassets.com/assets/vendors-node_modules_primer_react_lib-esm_Button_index_js-node_modules_primer_react_lib-esm_O-133b0c-6f42d36f1de7.js"></script>
<script crossorigin="anonymous" defer="defer" type="application/javascript" src="https://github.githubassets.com/assets/vendors-node_modules_primer_react_lib-esm_TextInput_TextInput_js-47fe5c8a888d.js"></script>
<script crossorigin="anonymous" defer="defer" type="application/javascript" src="https://github.githubassets.com/assets/vendors-node_modules_primer_behaviors_dist_esm_scroll-into-view_js-node_modules_primer_react_-04bb1b-f1945840d2c2.js"></script>
<script crossorigin="anonymous" defer="defer" type="application/javascript" src="https://github.githubassets.com/assets/vendors-node_modules_primer_react_lib-esm_FormControl_FormControl_js-eadb97e299c8.js"></script>
<script crossorigin="anonymous" defer="defer" type="application/javascript" src="https://github.githubassets.com/assets/vendors-node_modules_primer_react_lib-esm_ActionMenu_js-f0cd24c33676.js"></script>
<script crossorigin="anonymous" defer="defer" type="application/javascript" src="https://github.githubassets.com/assets/vendors-node_modules_react-router-dom_dist_index_js-4a785319b497.js"></script>
<script crossorigin="anonymous" defer="defer" type="application/javascript" src="https://github.githubassets.com/assets/vendors-node_modules_primer_react_lib-esm_Heading_Heading_js-node_modules_primer_react_lib-es-20c766-83991b288f66.js"></script>
<script crossorigin="anonymous" defer="defer" type="application/javascript" src="https://github.githubassets.com/assets/vendors-node_modules_primer_react_lib-esm_Dialog_js-node_modules_primer_react_lib-esm_Flash_F-54f402-24f69910f932.js"></script>
<script crossorigin="anonymous" defer="defer" type="application/javascript" src="https://github.githubassets.com/assets/vendors-node_modules_primer_react_lib-esm_UnderlineNav2_index_js-f81b8e23600f.js"></script>
<script crossorigin="anonymous" defer="defer" type="application/javascript" src="https://github.githubassets.com/assets/vendors-node_modules_primer_react_lib-esm_TreeView_TreeView_js-d86950fa1004.js"></script>
<script crossorigin="anonymous" defer="defer" type="application/javascript" src="https://github.githubassets.com/assets/vendors-node_modules_primer_react_lib-esm_Avatar_Avatar_js-node_modules_primer_react_lib-esm_-82f032-5e0980cb7854.js"></script>
<script crossorigin="anonymous" defer="defer" type="application/javascript" src="https://github.githubassets.com/assets/vendors-node_modules_primer_react_lib-esm_AvatarStack_AvatarStack_js-node_modules_primer_reac-f992ce-dce1b34d3765.js"></script>
<script crossorigin="anonymous" defer="defer" type="application/javascript" src="https://github.githubassets.com/assets/ui_packages_react-core_create-browser-history_ts-ui_packages_react-core_deferred-registry_ts--ebbb92-6b5332bffa1d.js"></script>
<script crossorigin="anonymous" defer="defer" type="application/javascript" src="https://github.githubassets.com/assets/ui_packages_react-core_register-app_ts-3f96a0d371d8.js"></script>
<script crossorigin="anonymous" defer="defer" type="application/javascript" src="https://github.githubassets.com/assets/ui_packages_ref-selector_RefSelector_tsx-8f23b321a246.js"></script>
<script crossorigin="anonymous" defer="defer" type="application/javascript" src="https://github.githubassets.com/assets/app_assets_modules_react-shared_hooks_use-virtual-dynamic_ts-app_assets_modules_react-shared_-70720f-4f06c25f9a81.js"></script>
<script crossorigin="anonymous" defer="defer" type="application/javascript" src="https://github.githubassets.com/assets/ui_packages_commit-attribution_index_ts-ui_packages_copy-to-clipboard_index_ts-ui_packages_us-2ad097-bd8109374378.js"></script>
<script crossorigin="anonymous" defer="defer" type="application/javascript" src="https://github.githubassets.com/assets/ui_packages_alive_alive_ts-ui_packages_alive_connect-alive-subscription_ts-app_assets_modules-face4e-f27dc2e09803.js"></script>
<script crossorigin="anonymous" defer="defer" type="application/javascript" src="https://github.githubassets.com/assets/react-code-view-a8b07fad9e24.js"></script>


  <title>NLP-STTCipasung2022/20-September-2022/NLP-BahasaIndonesia.ipynb at main · zulkaidaakbar/NLP-STTCipasung2022</title>



  <meta name="route-pattern" content="/:user_id/:repository/blob/*name(/*path)">

    
  <meta name="current-catalog-service-hash" content="82c569b93da5c18ed649ebd4c2c79437db4611a6a1373e805a3cb001c64130b7">


  <meta name="request-id" content="DC85:334D:3FBC68E:43688C6:650237B0" data-turbo-transient="true" /><meta name="html-safe-nonce" content="e32cbc4876c8c5539797f93109cc194054cb18e3d58fae6448a6e3a8135d422f" data-turbo-transient="true" /><meta name="visitor-payload" content="eyJyZWZlcnJlciI6Imh0dHBzOi8vZ2l0aHViLmNvbS96dWxrYWlkYWFrYmFyL05MUC1TVFRDaXBhc3VuZzIwMjIvdHJlZS9tYWluLzIwLVNlcHRlbWJlci0yMDIyIiwicmVxdWVzdF9pZCI6IkRDODU6MzM0RDozRkJDNjhFOjQzNjg4QzY6NjUwMjM3QjAiLCJ2aXNpdG9yX2lkIjoiNDM4MjcyNjcyOTUyNjAzMTE4MSIsInJlZ2lvbl9lZGdlIjoic291dGhlYXN0YXNpYSIsInJlZ2lvbl9yZW5kZXIiOiJpYWQifQ==" data-turbo-transient="true" /><meta name="visitor-hmac" content="12bf2cc477df0ef422f4b56e2cf7eb0d3f71ba55a957ef31e91829fc301c40cf" data-turbo-transient="true" />


    <meta name="hovercard-subject-tag" content="repository:538342963" data-turbo-transient>


  <meta name="github-keyboard-shortcuts" content="repository,source-code,file-tree" data-turbo-transient="true" />
  

  <meta name="selected-link" value="repo_source" data-turbo-transient>
  <link rel="assets" href="https://github.githubassets.com/">

    <meta name="google-site-verification" content="c1kuD-K2HIVF635lypcsWPoD4kilo5-jA_wBFyT4uMY">
  <meta name="google-site-verification" content="KT5gs8h0wvaagLKAVWq8bbeNwnZZK1r1XQysX3xurLU">
  <meta name="google-site-verification" content="ZzhVyEFwb7w3e0-uOTltm8Jsck2F5StVihD0exw2fsA">
  <meta name="google-site-verification" content="GXs5KoUUkNCoaAZn7wPN-t01Pywp9M3sEjnt_3_ZWPc">
  <meta name="google-site-verification" content="Apib7-x98H0j5cPqHWwSMm6dNU4GmODRoqxLiDzdx9I">

<meta name="octolytics-url" content="https://collector.github.com/github/collect" /><meta name="octolytics-actor-id" content="68297438" /><meta name="octolytics-actor-login" content="zulkaidaakbar" /><meta name="octolytics-actor-hash" content="4a273a69bc4641fa6eb468a5251d34f14a0eb26113b5da023753aaa2d7b42a96" />

  <meta name="analytics-location" content="/&lt;user-name&gt;/&lt;repo-name&gt;/blob/show" data-turbo-transient="true" />

  




  

    <meta name="user-login" content="zulkaidaakbar">

  <link rel="sudo-modal" href="/sessions/sudo_modal">

    <meta name="viewport" content="width=device-width">
    
      <meta name="description" content="Contribute to zulkaidaakbar/NLP-STTCipasung2022 development by creating an account on GitHub.">
      <link rel="search" type="application/opensearchdescription+xml" href="/opensearch.xml" title="GitHub">
    <link rel="fluid-icon" href="https://github.com/fluidicon.png" title="GitHub">
    <meta property="fb:app_id" content="1401488693436528">
    <meta name="apple-itunes-app" content="app-id=1477376905, app-argument=https://github.com/zulkaidaakbar/NLP-STTCipasung2022/blob/main/20-September-2022/NLP-BahasaIndonesia.ipynb" />
      <meta name="twitter:image:src" content="https://opengraph.githubassets.com/cb6cf9f719cbc3c26a7d7fc1847d33c1d236189593b1f2a29df9f96bcc31f6fd/zulkaidaakbar/NLP-STTCipasung2022" /><meta name="twitter:site" content="@github" /><meta name="twitter:card" content="summary_large_image" /><meta name="twitter:title" content="NLP-STTCipasung2022/20-September-2022/NLP-BahasaIndonesia.ipynb at main · zulkaidaakbar/NLP-STTCipasung2022" /><meta name="twitter:description" content="Contribute to zulkaidaakbar/NLP-STTCipasung2022 development by creating an account on GitHub." />
      <meta property="og:image" content="https://opengraph.githubassets.com/cb6cf9f719cbc3c26a7d7fc1847d33c1d236189593b1f2a29df9f96bcc31f6fd/zulkaidaakbar/NLP-STTCipasung2022" /><meta property="og:image:alt" content="Contribute to zulkaidaakbar/NLP-STTCipasung2022 development by creating an account on GitHub." /><meta property="og:image:width" content="1200" /><meta property="og:image:height" content="600" /><meta property="og:site_name" content="GitHub" /><meta property="og:type" content="object" /><meta property="og:title" content="NLP-STTCipasung2022/20-September-2022/NLP-BahasaIndonesia.ipynb at main · zulkaidaakbar/NLP-STTCipasung2022" /><meta property="og:url" content="https://github.com/zulkaidaakbar/NLP-STTCipasung2022/blob/main/20-September-2022/NLP-BahasaIndonesia.ipynb" /><meta property="og:description" content="Contribute to zulkaidaakbar/NLP-STTCipasung2022 development by creating an account on GitHub." />
      

      <link rel="shared-web-socket" href="wss://alive.github.com/_sockets/u/68297438/ws?session=eyJ2IjoiVjMiLCJ1Ijo2ODI5NzQzOCwicyI6MTE5MzgyMjE1OCwiYyI6MTU3NTM5NzgwLCJ0IjoxNjk0NjQ0MTU5fQ==--0e27aec04e482bd1c56e09153cdbd9d3d3292f40639ed9420aff62211e7c9516" data-refresh-url="/_alive" data-session-id="94cda27f4cf564854d0ccdf4605ea146dedfef42d7cc3694ff76e3bc7215a291">
      <link rel="shared-web-socket-src" href="/assets-cdn/worker/socket-worker-71e98f781d79.js">


        <meta name="hostname" content="github.com">


      <meta name="keyboard-shortcuts-preference" content="all">

        <meta name="expected-hostname" content="github.com">


  <meta http-equiv="x-pjax-version" content="433ba0ab563602a33688cd0d2cf1ef5bb8729af57c4cf1fcd9ace238235e842b" data-turbo-track="reload">
  <meta http-equiv="x-pjax-csp-version" content="892c9b6e6279a06cccd6d1ca216dbd09218b81db6cf120890eda9982f4c21270" data-turbo-track="reload">
  <meta http-equiv="x-pjax-css-version" content="621d2fd40b3b7575700712a7a6b727800e538d82dc3e7148f775054e7c4d9d59" data-turbo-track="reload">
  <meta http-equiv="x-pjax-js-version" content="f5273cd1fbf297a021957e1ba9a7168455ec9f36faed69c10110170fa9f8a8b5" data-turbo-track="reload">

  <meta name="turbo-cache-control" content="no-preview" data-turbo-transient="">

      <meta name="turbo-cache-control" content="no-cache" data-turbo-transient>
    <meta data-hydrostats="publish">

  <meta name="go-import" content="github.com/zulkaidaakbar/NLP-STTCipasung2022 git https://github.com/zulkaidaakbar/NLP-STTCipasung2022.git">

  <meta name="octolytics-dimension-user_id" content="68297438" /><meta name="octolytics-dimension-user_login" content="zulkaidaakbar" /><meta name="octolytics-dimension-repository_id" content="538342963" /><meta name="octolytics-dimension-repository_nwo" content="zulkaidaakbar/NLP-STTCipasung2022" /><meta name="octolytics-dimension-repository_public" content="true" /><meta name="octolytics-dimension-repository_is_fork" content="false" /><meta name="octolytics-dimension-repository_network_root_id" content="538342963" /><meta name="octolytics-dimension-repository_network_root_nwo" content="zulkaidaakbar/NLP-STTCipasung2022" />



  <meta name="turbo-body-classes" content="logged-in env-production page-responsive">


  <meta name="browser-stats-url" content="https://api.github.com/_private/browser/stats">

  <meta name="browser-errors-url" content="https://api.github.com/_private/browser/errors">

  <meta name="browser-optimizely-client-errors-url" content="https://api.github.com/_private/browser/optimizely_client/errors">

  <link rel="mask-icon" href="https://github.githubassets.com/pinned-octocat.svg" color="#000000">
  <link rel="alternate icon" class="js-site-favicon" type="image/png" href="https://github.githubassets.com/favicons/favicon.png">
  <link rel="icon" class="js-site-favicon" type="image/svg+xml" href="https://github.githubassets.com/favicons/favicon.svg">

<meta name="theme-color" content="#1e2327">
<meta name="color-scheme" content="light dark" />


  <link rel="manifest" href="/manifest.json" crossOrigin="use-credentials">

  </head>

  <body class="logged-in env-production page-responsive" style="word-wrap: break-word;">
    <div data-turbo-body class="logged-in env-production page-responsive" style="word-wrap: break-word;">
      


    <div class="position-relative js-header-wrapper ">
      <a href="#start-of-content" class="p-3 color-bg-accent-emphasis color-fg-on-emphasis show-on-focus js-skip-to-content">Skip to content</a>
      <span data-view-component="true" class="progress-pjax-loader Progress position-fixed width-full">
    <span style="width: 0%;" data-view-component="true" class="Progress-item progress-pjax-loader-bar left-0 top-0 color-bg-accent-emphasis"></span>
</span>      
      


      

        <script crossorigin="anonymous" defer="defer" type="application/javascript" src="https://github.githubassets.com/assets/vendors-node_modules_allex_crc32_lib_crc32_esm_js-node_modules_github_clipboard-copy-element_-2da1d5-ca2e742c29fb.js"></script>
<script crossorigin="anonymous" defer="defer" type="application/javascript" src="https://github.githubassets.com/assets/app_assets_modules_github_command-palette_items_help-item_ts-app_assets_modules_github_comman-48ad9d-b83fa12e3a83.js"></script>
<script crossorigin="anonymous" defer="defer" type="application/javascript" src="https://github.githubassets.com/assets/command-palette-0ae4aa129961.js"></script>

            <header class="AppHeader">
    

    <div class="AppHeader-globalBar pb-2 js-global-bar">
      <div class="AppHeader-globalBar-start">
          <deferred-side-panel data-url="/_side-panels/global">
  <include-fragment data-target="deferred-side-panel.fragment">
      
  <button aria-label="Open global navigation menu" data-action="click:deferred-side-panel#loadPanel click:deferred-side-panel#panelOpened" data-show-dialog-id="dialog-25b278ec-c90d-4f0c-a6fe-8e76800ea419" id="dialog-show-dialog-25b278ec-c90d-4f0c-a6fe-8e76800ea419" type="button" data-view-component="true" class="Button Button--iconOnly Button--secondary Button--medium AppHeader-button color-bg-transparent p-0 color-fg-muted">    <svg aria-hidden="true" height="16" viewBox="0 0 16 16" version="1.1" width="16" data-view-component="true" class="octicon octicon-three-bars Button-visual">
    <path d="M1 2.75A.75.75 0 0 1 1.75 2h12.5a.75.75 0 0 1 0 1.5H1.75A.75.75 0 0 1 1 2.75Zm0 5A.75.75 0 0 1 1.75 7h12.5a.75.75 0 0 1 0 1.5H1.75A.75.75 0 0 1 1 7.75ZM1.75 12h12.5a.75.75 0 0 1 0 1.5H1.75a.75.75 0 0 1 0-1.5Z"></path>
</svg>
</button>  

<div class="Overlay--hidden Overlay-backdrop--side Overlay-backdrop--placement-left" data-modal-dialog-overlay>
  <modal-dialog data-target="deferred-side-panel.panel" role="dialog" id="dialog-25b278ec-c90d-4f0c-a6fe-8e76800ea419" aria-modal="true" aria-disabled="true" aria-labelledby="dialog-25b278ec-c90d-4f0c-a6fe-8e76800ea419-title" aria-describedby="dialog-25b278ec-c90d-4f0c-a6fe-8e76800ea419-description" data-view-component="true" class="Overlay Overlay-whenNarrow Overlay--size-small-portrait Overlay--motion-scaleFade SidePanel">
    <div styles="flex-direction: row;" data-view-component="true" class="Overlay-header">
  <div class="Overlay-headerContentWrap">
    <div class="Overlay-titleWrap">
      <h1 class="Overlay-title sr-only" id="dialog-25b278ec-c90d-4f0c-a6fe-8e76800ea419-title">
        Global navigation
      </h1>
            <div data-view-component="true" class="d-flex">
      <div data-view-component="true" class="AppHeader-logo position-relative">
        <svg aria-hidden="true" height="24" viewBox="0 0 16 16" version="1.1" width="24" data-view-component="true" class="octicon octicon-mark-github">
    <path d="M8 0c4.42 0 8 3.58 8 8a8.013 8.013 0 0 1-5.45 7.59c-.4.08-.55-.17-.55-.38 0-.27.01-1.13.01-2.2 0-.75-.25-1.23-.54-1.48 1.78-.2 3.65-.88 3.65-3.95 0-.88-.31-1.59-.82-2.15.08-.2.36-1.02-.08-2.12 0 0-.67-.22-2.2.82-.64-.18-1.32-.27-2-.27-.68 0-1.36.09-2 .27-1.53-1.03-2.2-.82-2.2-.82-.44 1.1-.16 1.92-.08 2.12-.51.56-.82 1.28-.82 2.15 0 3.06 1.86 3.75 3.64 3.95-.23.2-.44.55-.51 1.07-.46.21-1.61.55-2.33-.66-.15-.24-.6-.83-1.23-.82-.67.01-.27.38.01.53.34.19.73.9.82 1.13.16.45.68 1.31 2.69.94 0 .67.01 1.3.01 1.49 0 .21-.15.45-.55.38A7.995 7.995 0 0 1 0 8c0-4.42 3.58-8 8-8Z"></path>
</svg>
</div></div>
    </div>
    <div class="Overlay-actionWrap">
      <button data-close-dialog-id="dialog-25b278ec-c90d-4f0c-a6fe-8e76800ea419" aria-label="Close" type="button" data-view-component="true" class="close-button Overlay-closeButton"><svg aria-hidden="true" height="16" viewBox="0 0 16 16" version="1.1" width="16" data-view-component="true" class="octicon octicon-x">
    <path d="M3.72 3.72a.75.75 0 0 1 1.06 0L8 6.94l3.22-3.22a.749.749 0 0 1 1.275.326.749.749 0 0 1-.215.734L9.06 8l3.22 3.22a.749.749 0 0 1-.326 1.275.749.749 0 0 1-.734-.215L8 9.06l-3.22 3.22a.751.751 0 0 1-1.042-.018.751.751 0 0 1-.018-1.042L6.94 8 3.72 4.78a.75.75 0 0 1 0-1.06Z"></path>
</svg></button>
    </div>
  </div>
</div>
      <div data-view-component="true" class="Overlay-body d-flex flex-column height-full px-2">      <nav aria-label="Site navigation" data-view-component="true" class="ActionList">
  
  <nav-list>
    <ul data-view-component="true" class="ActionListWrap">
        
          
<li item_id="general" data-item-id="" data-targets="nav-list.items" data-view-component="true" class="ActionListItem">
    
    <a data-hotkey="g d" data-analytics-event="{&quot;category&quot;:&quot;Global navigation&quot;,&quot;action&quot;:&quot;HOME&quot;,&quot;label&quot;:null}" id="item-69918f50-e00b-44e1-9602-50bd1691dc7f" href="/dashboard" data-view-component="true" class="ActionListContent ActionListContent--visual16">
        <span class="ActionListItem-visual ActionListItem-visual--leading">
          <svg aria-hidden="true" height="16" viewBox="0 0 16 16" version="1.1" width="16" data-view-component="true" class="octicon octicon-home">
    <path d="M6.906.664a1.749 1.749 0 0 1 2.187 0l5.25 4.2c.415.332.657.835.657 1.367v7.019A1.75 1.75 0 0 1 13.25 15h-3.5a.75.75 0 0 1-.75-.75V9H7v5.25a.75.75 0 0 1-.75.75h-3.5A1.75 1.75 0 0 1 1 13.25V6.23c0-.531.242-1.034.657-1.366l5.25-4.2Zm1.25 1.171a.25.25 0 0 0-.312 0l-5.25 4.2a.25.25 0 0 0-.094.196v7.019c0 .138.112.25.25.25H5.5V8.25a.75.75 0 0 1 .75-.75h3.5a.75.75 0 0 1 .75.75v5.25h2.75a.25.25 0 0 0 .25-.25V6.23a.25.25 0 0 0-.094-.195Z"></path>
</svg>
        </span>
      
        <span data-view-component="true" class="ActionListItem-label">
          Home
</span></a>
  
  
</li>

        
          
<li item_id="personal_info" data-item-id="" data-targets="nav-list.items" data-view-component="true" class="ActionListItem">
    
    <a data-hotkey="g i" data-analytics-event="{&quot;category&quot;:&quot;Global navigation&quot;,&quot;action&quot;:&quot;ISSUES&quot;,&quot;label&quot;:null}" id="item-0b3dc02b-70b4-42b0-81d6-caedc1de3fdd" href="/issues" data-view-component="true" class="ActionListContent ActionListContent--visual16">
        <span class="ActionListItem-visual ActionListItem-visual--leading">
          <svg aria-hidden="true" height="16" viewBox="0 0 16 16" version="1.1" width="16" data-view-component="true" class="octicon octicon-issue-opened">
    <path d="M8 9.5a1.5 1.5 0 1 0 0-3 1.5 1.5 0 0 0 0 3Z"></path><path d="M8 0a8 8 0 1 1 0 16A8 8 0 0 1 8 0ZM1.5 8a6.5 6.5 0 1 0 13 0 6.5 6.5 0 0 0-13 0Z"></path>
</svg>
        </span>
      
        <span data-view-component="true" class="ActionListItem-label">
          Issues
</span></a>
  
  
</li>

        
          
<li item_id="password" data-item-id="" data-targets="nav-list.items" data-view-component="true" class="ActionListItem">
    
    <a data-hotkey="g p" data-analytics-event="{&quot;category&quot;:&quot;Global navigation&quot;,&quot;action&quot;:&quot;PULL_REQUESTS&quot;,&quot;label&quot;:null}" id="item-e4a7a5b1-2f1a-40bc-8ea3-e72a7d89dd25" href="/pulls" data-view-component="true" class="ActionListContent ActionListContent--visual16">
        <span class="ActionListItem-visual ActionListItem-visual--leading">
          <svg aria-hidden="true" height="16" viewBox="0 0 16 16" version="1.1" width="16" data-view-component="true" class="octicon octicon-git-pull-request">
    <path d="M1.5 3.25a2.25 2.25 0 1 1 3 2.122v5.256a2.251 2.251 0 1 1-1.5 0V5.372A2.25 2.25 0 0 1 1.5 3.25Zm5.677-.177L9.573.677A.25.25 0 0 1 10 .854V2.5h1A2.5 2.5 0 0 1 13.5 5v5.628a2.251 2.251 0 1 1-1.5 0V5a1 1 0 0 0-1-1h-1v1.646a.25.25 0 0 1-.427.177L7.177 3.427a.25.25 0 0 1 0-.354ZM3.75 2.5a.75.75 0 1 0 0 1.5.75.75 0 0 0 0-1.5Zm0 9.5a.75.75 0 1 0 0 1.5.75.75 0 0 0 0-1.5Zm8.25.75a.75.75 0 1 0 1.5 0 .75.75 0 0 0-1.5 0Z"></path>
</svg>
        </span>
      
        <span data-view-component="true" class="ActionListItem-label">
          Pull requests
</span></a>
  
  
</li>

        
          
<li item_id="billing" data-item-id="" data-targets="nav-list.items" data-view-component="true" class="ActionListItem">
    
    <a data-analytics-event="{&quot;category&quot;:&quot;Global navigation&quot;,&quot;action&quot;:&quot;DISCUSSIONS&quot;,&quot;label&quot;:null}" id="item-220c7997-16d7-462c-aca2-fdae9e34e8de" href="/discussions" data-view-component="true" class="ActionListContent ActionListContent--visual16">
        <span class="ActionListItem-visual ActionListItem-visual--leading">
          <svg aria-hidden="true" height="16" viewBox="0 0 16 16" version="1.1" width="16" data-view-component="true" class="octicon octicon-comment-discussion">
    <path d="M1.75 1h8.5c.966 0 1.75.784 1.75 1.75v5.5A1.75 1.75 0 0 1 10.25 10H7.061l-2.574 2.573A1.458 1.458 0 0 1 2 11.543V10h-.25A1.75 1.75 0 0 1 0 8.25v-5.5C0 1.784.784 1 1.75 1ZM1.5 2.75v5.5c0 .138.112.25.25.25h1a.75.75 0 0 1 .75.75v2.19l2.72-2.72a.749.749 0 0 1 .53-.22h3.5a.25.25 0 0 0 .25-.25v-5.5a.25.25 0 0 0-.25-.25h-8.5a.25.25 0 0 0-.25.25Zm13 2a.25.25 0 0 0-.25-.25h-.5a.75.75 0 0 1 0-1.5h.5c.966 0 1.75.784 1.75 1.75v5.5A1.75 1.75 0 0 1 14.25 12H14v1.543a1.458 1.458 0 0 1-2.487 1.03L9.22 12.28a.749.749 0 0 1 .326-1.275.749.749 0 0 1 .734.215l2.22 2.22v-2.19a.75.75 0 0 1 .75-.75h1a.25.25 0 0 0 .25-.25Z"></path>
</svg>
        </span>
      
        <span data-view-component="true" class="ActionListItem-label">
          Discussions
</span></a>
  
  
</li>

</ul>  </nav-list>
</nav>

      <div data-view-component="true" class="my-3 d-flex flex-justify-center height-full">
        <svg style="box-sizing: content-box; color: var(--color-icon-primary);" width="16" height="16" viewBox="0 0 16 16" fill="none" data-view-component="true" class="anim-rotate">
  <circle cx="8" cy="8" r="7" stroke="currentColor" stroke-opacity="0.25" stroke-width="2" vector-effect="non-scaling-stroke" />
  <path d="M15 8a7.002 7.002 0 00-7-7" stroke="currentColor" stroke-width="2" stroke-linecap="round" vector-effect="non-scaling-stroke" />
</svg>
</div>
</div>
      <div data-view-component="true" class="Overlay-footer Overlay-footer--alignEnd d-block pt-0">      <li role="presentation" aria-hidden="true" data-view-component="true" class="ActionList-sectionDivider mt-0 mb-1"></li>

        <nav aria-label="Additional navigation" data-view-component="true" class="ActionList px-0 flex-1">
  
  <nav-list>
    <ul data-view-component="true" class="ActionListWrap">
        
          
<li item_id="general" data-item-id="" data-targets="nav-list.items" data-view-component="true" class="ActionListItem">
    
    <a data-analytics-event="{&quot;category&quot;:&quot;Global navigation&quot;,&quot;action&quot;:&quot;EXPLORE&quot;,&quot;label&quot;:null}" id="item-9cf326c6-cc71-460b-ace9-301fa0fcc325" href="/explore" data-view-component="true" class="ActionListContent ActionListContent--visual16">
        <span class="ActionListItem-visual ActionListItem-visual--leading">
          <svg aria-hidden="true" height="16" viewBox="0 0 16 16" version="1.1" width="16" data-view-component="true" class="octicon octicon-telescope">
    <path d="M14.184 1.143v-.001l1.422 2.464a1.75 1.75 0 0 1-.757 2.451L3.104 11.713a1.75 1.75 0 0 1-2.275-.702l-.447-.775a1.75 1.75 0 0 1 .53-2.32L11.682.573a1.748 1.748 0 0 1 2.502.57Zm-4.709 9.32h-.001l2.644 3.863a.75.75 0 1 1-1.238.848l-1.881-2.75v2.826a.75.75 0 0 1-1.5 0v-2.826l-1.881 2.75a.75.75 0 1 1-1.238-.848l2.049-2.992a.746.746 0 0 1 .293-.253l1.809-.87a.749.749 0 0 1 .944.252ZM9.436 3.92h-.001l-4.97 3.39.942 1.63 5.42-2.61Zm3.091-2.108h.001l-1.85 1.26 1.505 2.605 2.016-.97a.247.247 0 0 0 .13-.151.247.247 0 0 0-.022-.199l-1.422-2.464a.253.253 0 0 0-.161-.119.254.254 0 0 0-.197.038ZM1.756 9.157a.25.25 0 0 0-.075.33l.447.775a.25.25 0 0 0 .325.1l1.598-.769-.83-1.436-1.465 1Z"></path>
</svg>
        </span>
      
        <span data-view-component="true" class="ActionListItem-label">
          Explore
</span></a>
  
  
</li>

        
          
<li item_id="general" data-item-id="" data-targets="nav-list.items" data-view-component="true" class="ActionListItem">
    
    <a data-analytics-event="{&quot;category&quot;:&quot;Global navigation&quot;,&quot;action&quot;:&quot;MARKETPLACE&quot;,&quot;label&quot;:null}" id="item-0ada12ef-a8f7-4269-a0c5-97ee763d3197" href="/marketplace" data-view-component="true" class="ActionListContent ActionListContent--visual16">
        <span class="ActionListItem-visual ActionListItem-visual--leading">
          <svg aria-hidden="true" height="16" viewBox="0 0 16 16" version="1.1" width="16" data-view-component="true" class="octicon octicon-gift">
    <path d="M2 2.75A2.75 2.75 0 0 1 4.75 0c.983 0 1.873.42 2.57 1.232.268.318.497.668.68 1.042.183-.375.411-.725.68-1.044C9.376.42 10.266 0 11.25 0a2.75 2.75 0 0 1 2.45 4h.55c.966 0 1.75.784 1.75 1.75v2c0 .698-.409 1.301-1 1.582v4.918A1.75 1.75 0 0 1 13.25 16H2.75A1.75 1.75 0 0 1 1 14.25V9.332C.409 9.05 0 8.448 0 7.75v-2C0 4.784.784 4 1.75 4h.55c-.192-.375-.3-.8-.3-1.25ZM7.25 9.5H2.5v4.75c0 .138.112.25.25.25h4.5Zm1.5 0v5h4.5a.25.25 0 0 0 .25-.25V9.5Zm0-4V8h5.5a.25.25 0 0 0 .25-.25v-2a.25.25 0 0 0-.25-.25Zm-7 0a.25.25 0 0 0-.25.25v2c0 .138.112.25.25.25h5.5V5.5h-5.5Zm3-4a1.25 1.25 0 0 0 0 2.5h2.309c-.233-.818-.542-1.401-.878-1.793-.43-.502-.915-.707-1.431-.707ZM8.941 4h2.309a1.25 1.25 0 0 0 0-2.5c-.516 0-1 .205-1.43.707-.337.392-.646.975-.879 1.793Z"></path>
</svg>
        </span>
      
        <span data-view-component="true" class="ActionListItem-label">
          Marketplace
</span></a>
  
  
</li>

        
          
<li item_id="feedback" data-item-id="" data-targets="nav-list.items" data-view-component="true" class="ActionListItem">
    
    <a data-analytics-event="{&quot;category&quot;:&quot;Global navigation&quot;,&quot;action&quot;:&quot;FEEDBACK&quot;,&quot;label&quot;:null}" id="item-1dba91c6-1c4d-4564-9cf7-b44187eb9dc2" href="https://gh.io/navigation-update" data-view-component="true" class="ActionListContent ActionListContent--visual16">
        <span class="ActionListItem-visual ActionListItem-visual--leading">
          <svg aria-hidden="true" height="16" viewBox="0 0 16 16" version="1.1" width="16" data-view-component="true" class="octicon octicon-comment-discussion">
    <path d="M1.75 1h8.5c.966 0 1.75.784 1.75 1.75v5.5A1.75 1.75 0 0 1 10.25 10H7.061l-2.574 2.573A1.458 1.458 0 0 1 2 11.543V10h-.25A1.75 1.75 0 0 1 0 8.25v-5.5C0 1.784.784 1 1.75 1ZM1.5 2.75v5.5c0 .138.112.25.25.25h1a.75.75 0 0 1 .75.75v2.19l2.72-2.72a.749.749 0 0 1 .53-.22h3.5a.25.25 0 0 0 .25-.25v-5.5a.25.25 0 0 0-.25-.25h-8.5a.25.25 0 0 0-.25.25Zm13 2a.25.25 0 0 0-.25-.25h-.5a.75.75 0 0 1 0-1.5h.5c.966 0 1.75.784 1.75 1.75v5.5A1.75 1.75 0 0 1 14.25 12H14v1.543a1.458 1.458 0 0 1-2.487 1.03L9.22 12.28a.749.749 0 0 1 .326-1.275.749.749 0 0 1 .734.215l2.22 2.22v-2.19a.75.75 0 0 1 .75-.75h1a.25.25 0 0 0 .25-.25Z"></path>
</svg>
        </span>
      
        <span data-view-component="true" class="ActionListItem-label">
          Give new navigation feedback
</span>        <span class="ActionListItem-visual ActionListItem-visual--trailing">
          <span title="Beta" data-view-component="true" class="Counter color-bg-default color-border-success-emphasis color-fg-success">Beta</span>
        </span>
</a>
  
  
</li>

</ul>  </nav-list>
</nav>

      <div data-view-component="true" class="px-2">      <p class="color-fg-subtle text-small text-light">&copy; 2023 GitHub, Inc.</p>

      <div data-view-component="true" class="d-flex text-small text-light">
          <a target="_blank" href="/about" data-view-component="true" class="Link no-underline mr-2">About</a>
          <a target="_blank" href="https://github.blog" data-view-component="true" class="Link no-underline mr-2">Blog</a>
          <a target="_blank" href="https://docs.github.com/site-policy/github-terms/github-terms-of-service" data-view-component="true" class="Link no-underline mr-2">Terms</a>
          <a target="_blank" href="https://docs.github.com/site-policy/privacy-policies/github-privacy-statement" data-view-component="true" class="Link no-underline mr-2">Privacy</a>
          <a target="_blank" href="/security" data-view-component="true" class="Link no-underline mr-2">Security</a>
        <a target="_blank" href="https://www.githubstatus.com/" data-view-component="true" class="Link no-underline mr-3">Status</a>
</div></div>
</div>
</modal-dialog></div>

  </include-fragment>
</deferred-side-panel>

        <a
          class="AppHeader-logo ml-2"
          href="https://github.com/"
          data-hotkey="g d"
          aria-label="Homepage "
          data-turbo="false"
          data-analytics-event="{&quot;category&quot;:&quot;Header&quot;,&quot;action&quot;:&quot;go to dashboard&quot;,&quot;label&quot;:&quot;icon:logo&quot;}"
        >
          <svg height="32" aria-hidden="true" viewBox="0 0 16 16" version="1.1" width="32" data-view-component="true" class="octicon octicon-mark-github v-align-middle color-fg-default">
    <path d="M8 0c4.42 0 8 3.58 8 8a8.013 8.013 0 0 1-5.45 7.59c-.4.08-.55-.17-.55-.38 0-.27.01-1.13.01-2.2 0-.75-.25-1.23-.54-1.48 1.78-.2 3.65-.88 3.65-3.95 0-.88-.31-1.59-.82-2.15.08-.2.36-1.02-.08-2.12 0 0-.67-.22-2.2.82-.64-.18-1.32-.27-2-.27-.68 0-1.36.09-2 .27-1.53-1.03-2.2-.82-2.2-.82-.44 1.1-.16 1.92-.08 2.12-.51.56-.82 1.28-.82 2.15 0 3.06 1.86 3.75 3.64 3.95-.23.2-.44.55-.51 1.07-.46.21-1.61.55-2.33-.66-.15-.24-.6-.83-1.23-.82-.67.01-.27.38.01.53.34.19.73.9.82 1.13.16.45.68 1.31 2.69.94 0 .67.01 1.3.01 1.49 0 .21-.15.45-.55.38A7.995 7.995 0 0 1 0 8c0-4.42 3.58-8 8-8Z"></path>
</svg>
        </a>

          <div class="AppHeader-context" >
  <div class="AppHeader-context-compact">
        <button aria-expanded="false" aria-haspopup="dialog" aria-label="Page context: zulkaidaakbar / NLP-STTCipasung2022" id="dialog-show-context-region-dialog" data-show-dialog-id="context-region-dialog" type="button" data-view-component="true" class="AppHeader-context-compact-trigger Truncate Button--secondary Button--medium Button box-shadow-none">    <span class="Button-content">
      <span class="Button-label"><span class="AppHeader-context-compact-lead">
                <span class="AppHeader-context-compact-parentItem">zulkaidaakbar</span>
                <span class="AppHeader-context-compact-separator">&nbsp;/</span>

            </span>

            <strong class="AppHeader-context-compact-mainItem d-flex flex-items-center Truncate" >
  <span class="Truncate-text ">NLP-STTCipasung2022</span>

</strong></span>
    </span>
</button>  

<div class="Overlay--hidden Overlay-backdrop--center" data-modal-dialog-overlay>
  <modal-dialog role="dialog" id="context-region-dialog" aria-modal="true" aria-disabled="true" aria-labelledby="context-region-dialog-title" aria-describedby="context-region-dialog-description" data-view-component="true" class="Overlay Overlay-whenNarrow Overlay--size-medium Overlay--motion-scaleFade">
    <div data-view-component="true" class="Overlay-header">
  <div class="Overlay-headerContentWrap">
    <div class="Overlay-titleWrap">
      <h1 class="Overlay-title " id="context-region-dialog-title">
        Navigate back to
      </h1>
    </div>
    <div class="Overlay-actionWrap">
      <button data-close-dialog-id="context-region-dialog" aria-label="Close" type="button" data-view-component="true" class="close-button Overlay-closeButton"><svg aria-hidden="true" height="16" viewBox="0 0 16 16" version="1.1" width="16" data-view-component="true" class="octicon octicon-x">
    <path d="M3.72 3.72a.75.75 0 0 1 1.06 0L8 6.94l3.22-3.22a.749.749 0 0 1 1.275.326.749.749 0 0 1-.215.734L9.06 8l3.22 3.22a.749.749 0 0 1-.326 1.275.749.749 0 0 1-.734-.215L8 9.06l-3.22 3.22a.751.751 0 0 1-1.042-.018.751.751 0 0 1-.018-1.042L6.94 8 3.72 4.78a.75.75 0 0 1 0-1.06Z"></path>
</svg></button>
    </div>
  </div>
</div>
      <div data-view-component="true" class="Overlay-body">          <ul role="list" class="list-style-none" >
    <li>
      <a data-analytics-event="{&quot;category&quot;:&quot;SiteHeaderComponent&quot;,&quot;action&quot;:&quot;context_region_crumb&quot;,&quot;label&quot;:&quot;zulkaidaakbar&quot;,&quot;screen_size&quot;:&quot;compact&quot;}" href="/zulkaidaakbar" data-view-component="true" class="Link--primary Truncate d-flex flex-items-center py-1">
        <span class="AppHeader-context-item-label Truncate-text ">
            <svg aria-hidden="true" height="12" viewBox="0 0 16 16" version="1.1" width="12" data-view-component="true" class="octicon octicon-person mr-1">
    <path d="M10.561 8.073a6.005 6.005 0 0 1 3.432 5.142.75.75 0 1 1-1.498.07 4.5 4.5 0 0 0-8.99 0 .75.75 0 0 1-1.498-.07 6.004 6.004 0 0 1 3.431-5.142 3.999 3.999 0 1 1 5.123 0ZM10.5 5a2.5 2.5 0 1 0-5 0 2.5 2.5 0 0 0 5 0Z"></path>
</svg>

          zulkaidaakbar
        </span>

</a>
    </li>
    <li>
      <a data-analytics-event="{&quot;category&quot;:&quot;SiteHeaderComponent&quot;,&quot;action&quot;:&quot;context_region_crumb&quot;,&quot;label&quot;:&quot;NLP-STTCipasung2022&quot;,&quot;screen_size&quot;:&quot;compact&quot;}" href="/zulkaidaakbar/NLP-STTCipasung2022" data-view-component="true" class="Link--primary Truncate d-flex flex-items-center py-1">
        <span class="AppHeader-context-item-label Truncate-text ">
            <svg aria-hidden="true" height="12" viewBox="0 0 16 16" version="1.1" width="12" data-view-component="true" class="octicon octicon-repo mr-1">
    <path d="M2 2.5A2.5 2.5 0 0 1 4.5 0h8.75a.75.75 0 0 1 .75.75v12.5a.75.75 0 0 1-.75.75h-2.5a.75.75 0 0 1 0-1.5h1.75v-2h-8a1 1 0 0 0-.714 1.7.75.75 0 1 1-1.072 1.05A2.495 2.495 0 0 1 2 11.5Zm10.5-1h-8a1 1 0 0 0-1 1v6.708A2.486 2.486 0 0 1 4.5 9h8ZM5 12.25a.25.25 0 0 1 .25-.25h3.5a.25.25 0 0 1 .25.25v3.25a.25.25 0 0 1-.4.2l-1.45-1.087a.249.249 0 0 0-.3 0L5.4 15.7a.25.25 0 0 1-.4-.2Z"></path>
</svg>

          NLP-STTCipasung2022
        </span>

</a>
    </li>
</ul>

</div>
      
</modal-dialog></div>
  </div>

  <div class="AppHeader-context-full">
    <nav role="navigation" aria-label="Page context">
      <ul role="list" class="list-style-none" >
    <li>
      <a data-analytics-event="{&quot;category&quot;:&quot;SiteHeaderComponent&quot;,&quot;action&quot;:&quot;context_region_crumb&quot;,&quot;label&quot;:&quot;zulkaidaakbar&quot;,&quot;screen_size&quot;:&quot;full&quot;}" data-hovercard-type="user" data-hovercard-url="/users/zulkaidaakbar/hovercard" data-octo-click="hovercard-link-click" data-octo-dimensions="link_type:self" href="/zulkaidaakbar" data-view-component="true" class="AppHeader-context-item">
        <span class="AppHeader-context-item-label  ">

          zulkaidaakbar
        </span>

</a>
        <span class="AppHeader-context-item-separator">/</span>
    </li>
    <li>
      <a data-analytics-event="{&quot;category&quot;:&quot;SiteHeaderComponent&quot;,&quot;action&quot;:&quot;context_region_crumb&quot;,&quot;label&quot;:&quot;NLP-STTCipasung2022&quot;,&quot;screen_size&quot;:&quot;full&quot;}" href="/zulkaidaakbar/NLP-STTCipasung2022" data-view-component="true" class="AppHeader-context-item">
        <span class="AppHeader-context-item-label  ">

          NLP-STTCipasung2022
        </span>

</a>
    </li>
</ul>

    </nav>
  </div>
</div>

      </div>
      <div class="AppHeader-globalBar-end">
          <div class="AppHeader-search" >
              


<qbsearch-input class="search-input" data-scope="repo:zulkaidaakbar/NLP-STTCipasung2022" data-custom-scopes-path="/search/custom_scopes" data-delete-custom-scopes-csrf="DQPoY4nYUe1yafen8xspIT55ZGN4Jfksk9EQrB0HdMigk_NFQCL6f2mseTkLSZyrNWpENnfu5T1XWgqYc-s7MA" data-max-custom-scopes="10" data-header-redesign-enabled="true" data-initial-value="" data-blackbird-suggestions-path="/search/suggestions" data-jump-to-suggestions-path="/_graphql/GetSuggestedNavigationDestinations" data-current-repository="zulkaidaakbar/NLP-STTCipasung2022" data-current-org="" data-current-owner="zulkaidaakbar" data-logged-in="true">
  <div
    class="search-input-container search-with-dialog position-relative d-flex flex-row flex-items-center height-auto color-bg-transparent border-0 color-fg-subtle mx-0"
    data-action="click:qbsearch-input#searchInputContainerClicked"
  >
      
            <button type="button" data-action="click:qbsearch-input#handleExpand" class="AppHeader-button AppHeader-search-whenNarrow" aria-label="Search or jump to…" aria-expanded="false" aria-haspopup="dialog">
            <svg aria-hidden="true" height="16" viewBox="0 0 16 16" version="1.1" width="16" data-view-component="true" class="octicon octicon-search">
    <path d="M10.68 11.74a6 6 0 0 1-7.922-8.982 6 6 0 0 1 8.982 7.922l3.04 3.04a.749.749 0 0 1-.326 1.275.749.749 0 0 1-.734-.215ZM11.5 7a4.499 4.499 0 1 0-8.997 0A4.499 4.499 0 0 0 11.5 7Z"></path>
</svg>
          </button>


<div class="AppHeader-search-whenRegular">
  <div class="AppHeader-search-wrap AppHeader-search-wrap--hasTrailing">
    <div class="AppHeader-search-control">
      <label
        for="AppHeader-searchInput"
        aria-label="Search or jump to…"
        class="AppHeader-search-visual--leading"
      >
        <svg aria-hidden="true" height="16" viewBox="0 0 16 16" version="1.1" width="16" data-view-component="true" class="octicon octicon-search">
    <path d="M10.68 11.74a6 6 0 0 1-7.922-8.982 6 6 0 0 1 8.982 7.922l3.04 3.04a.749.749 0 0 1-.326 1.275.749.749 0 0 1-.734-.215ZM11.5 7a4.499 4.499 0 1 0-8.997 0A4.499 4.499 0 0 0 11.5 7Z"></path>
</svg>
      </label>

                <button
            type="button"
            data-target="qbsearch-input.inputButton"
            data-action="click:qbsearch-input#handleExpand"
            class="AppHeader-searchButton form-control input-contrast text-left color-fg-subtle no-wrap"
            data-hotkey="s,/"
            data-analytics-event="{&quot;category&quot;:&quot;Global navigation&quot;,&quot;action&quot;:&quot;SEARCH&quot;,&quot;label&quot;:null}"
          >
            <div class="overflow-hidden">
              <span id="qb-input-query" data-target="qbsearch-input.inputButtonText">
                  Type <kbd class="AppHeader-search-kbd">/</kbd> to search
              </span>
            </div>
          </button>

    </div>


      <button type="button" id="AppHeader-commandPalette-button" class="AppHeader-search-action--trailing js-activate-command-palette" data-analytics-event="{&quot;category&quot;:&quot;SiteHeaderComponent&quot;,&quot;action&quot;:&quot;command_palette&quot;,&quot;label&quot;:&quot;open command palette&quot;}">
        <svg aria-hidden="true" height="16" viewBox="0 0 16 16" version="1.1" width="16" data-view-component="true" class="octicon octicon-command-palette">
    <path d="m6.354 8.04-4.773 4.773a.75.75 0 1 0 1.061 1.06L7.945 8.57a.75.75 0 0 0 0-1.06L2.642 2.206a.75.75 0 0 0-1.06 1.061L6.353 8.04ZM8.75 11.5a.75.75 0 0 0 0 1.5h5.5a.75.75 0 0 0 0-1.5h-5.5Z"></path>
</svg>
      </button>

      <tool-tip id="tooltip-766093d4-88dc-4c89-a10b-657e5f1fb728" for="AppHeader-commandPalette-button" popover="manual" data-direction="s" data-type="label" data-view-component="true" class="sr-only position-absolute">Command palette</tool-tip>
  </div>
</div>

    <input type="hidden" name="type" class="js-site-search-type-field">

    
<div class="Overlay--hidden " data-modal-dialog-overlay>
  <modal-dialog data-action="close:qbsearch-input#handleClose cancel:qbsearch-input#handleClose" data-target="qbsearch-input.searchSuggestionsDialog" role="dialog" id="search-suggestions-dialog" aria-modal="true" aria-labelledby="search-suggestions-dialog-header" data-view-component="true" class="Overlay Overlay--width-medium Overlay--height-auto">
      <h1 id="search-suggestions-dialog-header" class="sr-only">Search code, repositories, users, issues, pull requests...</h1>
    <div class="Overlay-body Overlay-body--paddingNone">
      
          <div data-view-component="true">        <div class="search-suggestions position-absolute width-full color-shadow-large border color-fg-default color-bg-default overflow-hidden d-flex flex-column query-builder-container"
          style="border-radius: 12px;"
          data-target="qbsearch-input.queryBuilderContainer"
          hidden
        >
          <!-- '"` --><!-- </textarea></xmp> --></option></form><form id="query-builder-test-form" action="" accept-charset="UTF-8" method="get">
  <query-builder data-target="qbsearch-input.queryBuilder" id="query-builder-query-builder-test" data-filter-key=":" data-view-component="true" class="QueryBuilder search-query-builder">
    <div class="FormControl FormControl--fullWidth">
      <label id="query-builder-test-label" for="query-builder-test" class="FormControl-label sr-only">
        Search
      </label>
      <div
        class="QueryBuilder-StyledInput width-fit "
        data-target="query-builder.styledInput"
      >
          <span id="query-builder-test-leadingvisual-wrap" class="FormControl-input-leadingVisualWrap QueryBuilder-leadingVisualWrap">
            <svg aria-hidden="true" height="16" viewBox="0 0 16 16" version="1.1" width="16" data-view-component="true" class="octicon octicon-search FormControl-input-leadingVisual">
    <path d="M10.68 11.74a6 6 0 0 1-7.922-8.982 6 6 0 0 1 8.982 7.922l3.04 3.04a.749.749 0 0 1-.326 1.275.749.749 0 0 1-.734-.215ZM11.5 7a4.499 4.499 0 1 0-8.997 0A4.499 4.499 0 0 0 11.5 7Z"></path>
</svg>
          </span>
        <div data-target="query-builder.styledInputContainer" class="QueryBuilder-StyledInputContainer">
          <div
            aria-hidden="true"
            class="QueryBuilder-StyledInputContent"
            data-target="query-builder.styledInputContent"
          ></div>
          <div class="QueryBuilder-InputWrapper">
            <div aria-hidden="true" class="QueryBuilder-Sizer" data-target="query-builder.sizer"></div>
            <input id="query-builder-test" name="query-builder-test" value="" autocomplete="off" type="text" role="combobox" spellcheck="false" aria-expanded="false" aria-describedby="validation-76458af2-b36f-43c3-b5ad-fee254987f4e" data-target="query-builder.input" data-action="
          input:query-builder#inputChange
          blur:query-builder#inputBlur
          keydown:query-builder#inputKeydown
          focus:query-builder#inputFocus
        " data-view-component="true" class="FormControl-input QueryBuilder-Input FormControl-medium" />
          </div>
        </div>
          <span class="sr-only" id="query-builder-test-clear">Clear</span>
          
  <button role="button" id="query-builder-test-clear-button" aria-labelledby="query-builder-test-clear query-builder-test-label" data-target="query-builder.clearButton" data-action="
                click:query-builder#clear
                focus:query-builder#clearButtonFocus
                blur:query-builder#clearButtonBlur
              " variant="small" hidden="hidden" type="button" data-view-component="true" class="Button Button--iconOnly Button--invisible Button--medium mr-1 px-2 py-0 d-flex flex-items-center rounded-1 color-fg-muted">    <svg aria-hidden="true" height="16" viewBox="0 0 16 16" version="1.1" width="16" data-view-component="true" class="octicon octicon-x-circle-fill Button-visual">
    <path d="M2.343 13.657A8 8 0 1 1 13.658 2.343 8 8 0 0 1 2.343 13.657ZM6.03 4.97a.751.751 0 0 0-1.042.018.751.751 0 0 0-.018 1.042L6.94 8 4.97 9.97a.749.749 0 0 0 .326 1.275.749.749 0 0 0 .734-.215L8 9.06l1.97 1.97a.749.749 0 0 0 1.275-.326.749.749 0 0 0-.215-.734L9.06 8l1.97-1.97a.749.749 0 0 0-.326-1.275.749.749 0 0 0-.734.215L8 6.94Z"></path>
</svg>
</button>  

      </div>
      <template id="search-icon">
  <svg aria-hidden="true" height="16" viewBox="0 0 16 16" version="1.1" width="16" data-view-component="true" class="octicon octicon-search">
    <path d="M10.68 11.74a6 6 0 0 1-7.922-8.982 6 6 0 0 1 8.982 7.922l3.04 3.04a.749.749 0 0 1-.326 1.275.749.749 0 0 1-.734-.215ZM11.5 7a4.499 4.499 0 1 0-8.997 0A4.499 4.499 0 0 0 11.5 7Z"></path>
</svg>
</template>

<template id="code-icon">
  <svg aria-hidden="true" height="16" viewBox="0 0 16 16" version="1.1" width="16" data-view-component="true" class="octicon octicon-code">
    <path d="m11.28 3.22 4.25 4.25a.75.75 0 0 1 0 1.06l-4.25 4.25a.749.749 0 0 1-1.275-.326.749.749 0 0 1 .215-.734L13.94 8l-3.72-3.72a.749.749 0 0 1 .326-1.275.749.749 0 0 1 .734.215Zm-6.56 0a.751.751 0 0 1 1.042.018.751.751 0 0 1 .018 1.042L2.06 8l3.72 3.72a.749.749 0 0 1-.326 1.275.749.749 0 0 1-.734-.215L.47 8.53a.75.75 0 0 1 0-1.06Z"></path>
</svg>
</template>

<template id="file-code-icon">
  <svg aria-hidden="true" height="16" viewBox="0 0 16 16" version="1.1" width="16" data-view-component="true" class="octicon octicon-file-code">
    <path d="M4 1.75C4 .784 4.784 0 5.75 0h5.586c.464 0 .909.184 1.237.513l2.914 2.914c.329.328.513.773.513 1.237v8.586A1.75 1.75 0 0 1 14.25 15h-9a.75.75 0 0 1 0-1.5h9a.25.25 0 0 0 .25-.25V6h-2.75A1.75 1.75 0 0 1 10 4.25V1.5H5.75a.25.25 0 0 0-.25.25v2.5a.75.75 0 0 1-1.5 0Zm1.72 4.97a.75.75 0 0 1 1.06 0l2 2a.75.75 0 0 1 0 1.06l-2 2a.749.749 0 0 1-1.275-.326.749.749 0 0 1 .215-.734l1.47-1.47-1.47-1.47a.75.75 0 0 1 0-1.06ZM3.28 7.78 1.81 9.25l1.47 1.47a.751.751 0 0 1-.018 1.042.751.751 0 0 1-1.042.018l-2-2a.75.75 0 0 1 0-1.06l2-2a.751.751 0 0 1 1.042.018.751.751 0 0 1 .018 1.042Zm8.22-6.218V4.25c0 .138.112.25.25.25h2.688l-.011-.013-2.914-2.914-.013-.011Z"></path>
</svg>
</template>

<template id="history-icon">
  <svg aria-hidden="true" height="16" viewBox="0 0 16 16" version="1.1" width="16" data-view-component="true" class="octicon octicon-history">
    <path d="m.427 1.927 1.215 1.215a8.002 8.002 0 1 1-1.6 5.685.75.75 0 1 1 1.493-.154 6.5 6.5 0 1 0 1.18-4.458l1.358 1.358A.25.25 0 0 1 3.896 6H.25A.25.25 0 0 1 0 5.75V2.104a.25.25 0 0 1 .427-.177ZM7.75 4a.75.75 0 0 1 .75.75v2.992l2.028.812a.75.75 0 0 1-.557 1.392l-2.5-1A.751.751 0 0 1 7 8.25v-3.5A.75.75 0 0 1 7.75 4Z"></path>
</svg>
</template>

<template id="repo-icon">
  <svg aria-hidden="true" height="16" viewBox="0 0 16 16" version="1.1" width="16" data-view-component="true" class="octicon octicon-repo">
    <path d="M2 2.5A2.5 2.5 0 0 1 4.5 0h8.75a.75.75 0 0 1 .75.75v12.5a.75.75 0 0 1-.75.75h-2.5a.75.75 0 0 1 0-1.5h1.75v-2h-8a1 1 0 0 0-.714 1.7.75.75 0 1 1-1.072 1.05A2.495 2.495 0 0 1 2 11.5Zm10.5-1h-8a1 1 0 0 0-1 1v6.708A2.486 2.486 0 0 1 4.5 9h8ZM5 12.25a.25.25 0 0 1 .25-.25h3.5a.25.25 0 0 1 .25.25v3.25a.25.25 0 0 1-.4.2l-1.45-1.087a.249.249 0 0 0-.3 0L5.4 15.7a.25.25 0 0 1-.4-.2Z"></path>
</svg>
</template>

<template id="bookmark-icon">
  <svg aria-hidden="true" height="16" viewBox="0 0 16 16" version="1.1" width="16" data-view-component="true" class="octicon octicon-bookmark">
    <path d="M3 2.75C3 1.784 3.784 1 4.75 1h6.5c.966 0 1.75.784 1.75 1.75v11.5a.75.75 0 0 1-1.227.579L8 11.722l-3.773 3.107A.751.751 0 0 1 3 14.25Zm1.75-.25a.25.25 0 0 0-.25.25v9.91l3.023-2.489a.75.75 0 0 1 .954 0l3.023 2.49V2.75a.25.25 0 0 0-.25-.25Z"></path>
</svg>
</template>

<template id="plus-circle-icon">
  <svg aria-hidden="true" height="16" viewBox="0 0 16 16" version="1.1" width="16" data-view-component="true" class="octicon octicon-plus-circle">
    <path d="M8 0a8 8 0 1 1 0 16A8 8 0 0 1 8 0ZM1.5 8a6.5 6.5 0 1 0 13 0 6.5 6.5 0 0 0-13 0Zm7.25-3.25v2.5h2.5a.75.75 0 0 1 0 1.5h-2.5v2.5a.75.75 0 0 1-1.5 0v-2.5h-2.5a.75.75 0 0 1 0-1.5h2.5v-2.5a.75.75 0 0 1 1.5 0Z"></path>
</svg>
</template>

<template id="circle-icon">
  <svg aria-hidden="true" height="16" viewBox="0 0 16 16" version="1.1" width="16" data-view-component="true" class="octicon octicon-dot-fill">
    <path d="M8 4a4 4 0 1 1 0 8 4 4 0 0 1 0-8Z"></path>
</svg>
</template>

<template id="trash-icon">
  <svg aria-hidden="true" height="16" viewBox="0 0 16 16" version="1.1" width="16" data-view-component="true" class="octicon octicon-trash">
    <path d="M11 1.75V3h2.25a.75.75 0 0 1 0 1.5H2.75a.75.75 0 0 1 0-1.5H5V1.75C5 .784 5.784 0 6.75 0h2.5C10.216 0 11 .784 11 1.75ZM4.496 6.675l.66 6.6a.25.25 0 0 0 .249.225h5.19a.25.25 0 0 0 .249-.225l.66-6.6a.75.75 0 0 1 1.492.149l-.66 6.6A1.748 1.748 0 0 1 10.595 15h-5.19a1.75 1.75 0 0 1-1.741-1.575l-.66-6.6a.75.75 0 1 1 1.492-.15ZM6.5 1.75V3h3V1.75a.25.25 0 0 0-.25-.25h-2.5a.25.25 0 0 0-.25.25Z"></path>
</svg>
</template>

<template id="team-icon">
  <svg aria-hidden="true" height="16" viewBox="0 0 16 16" version="1.1" width="16" data-view-component="true" class="octicon octicon-people">
    <path d="M2 5.5a3.5 3.5 0 1 1 5.898 2.549 5.508 5.508 0 0 1 3.034 4.084.75.75 0 1 1-1.482.235 4 4 0 0 0-7.9 0 .75.75 0 0 1-1.482-.236A5.507 5.507 0 0 1 3.102 8.05 3.493 3.493 0 0 1 2 5.5ZM11 4a3.001 3.001 0 0 1 2.22 5.018 5.01 5.01 0 0 1 2.56 3.012.749.749 0 0 1-.885.954.752.752 0 0 1-.549-.514 3.507 3.507 0 0 0-2.522-2.372.75.75 0 0 1-.574-.73v-.352a.75.75 0 0 1 .416-.672A1.5 1.5 0 0 0 11 5.5.75.75 0 0 1 11 4Zm-5.5-.5a2 2 0 1 0-.001 3.999A2 2 0 0 0 5.5 3.5Z"></path>
</svg>
</template>

<template id="project-icon">
  <svg aria-hidden="true" height="16" viewBox="0 0 16 16" version="1.1" width="16" data-view-component="true" class="octicon octicon-project">
    <path d="M1.75 0h12.5C15.216 0 16 .784 16 1.75v12.5A1.75 1.75 0 0 1 14.25 16H1.75A1.75 1.75 0 0 1 0 14.25V1.75C0 .784.784 0 1.75 0ZM1.5 1.75v12.5c0 .138.112.25.25.25h12.5a.25.25 0 0 0 .25-.25V1.75a.25.25 0 0 0-.25-.25H1.75a.25.25 0 0 0-.25.25ZM11.75 3a.75.75 0 0 1 .75.75v7.5a.75.75 0 0 1-1.5 0v-7.5a.75.75 0 0 1 .75-.75Zm-8.25.75a.75.75 0 0 1 1.5 0v5.5a.75.75 0 0 1-1.5 0ZM8 3a.75.75 0 0 1 .75.75v3.5a.75.75 0 0 1-1.5 0v-3.5A.75.75 0 0 1 8 3Z"></path>
</svg>
</template>

<template id="pencil-icon">
  <svg aria-hidden="true" height="16" viewBox="0 0 16 16" version="1.1" width="16" data-view-component="true" class="octicon octicon-pencil">
    <path d="M11.013 1.427a1.75 1.75 0 0 1 2.474 0l1.086 1.086a1.75 1.75 0 0 1 0 2.474l-8.61 8.61c-.21.21-.47.364-.756.445l-3.251.93a.75.75 0 0 1-.927-.928l.929-3.25c.081-.286.235-.547.445-.758l8.61-8.61Zm.176 4.823L9.75 4.81l-6.286 6.287a.253.253 0 0 0-.064.108l-.558 1.953 1.953-.558a.253.253 0 0 0 .108-.064Zm1.238-3.763a.25.25 0 0 0-.354 0L10.811 3.75l1.439 1.44 1.263-1.263a.25.25 0 0 0 0-.354Z"></path>
</svg>
</template>

        <div class="position-relative">
                <ul
                  role="listbox"
                  class="ActionListWrap QueryBuilder-ListWrap"
                  aria-label="Suggestions"
                  data-action="
                    combobox-commit:query-builder#comboboxCommit
                    mousedown:query-builder#resultsMousedown
                  "
                  data-target="query-builder.resultsList"
                  data-persist-list=false
                  id="query-builder-test-results"
                ></ul>
        </div>
      <div class="FormControl-inlineValidation" id="validation-76458af2-b36f-43c3-b5ad-fee254987f4e" hidden="hidden">
        <span class="FormControl-inlineValidation--visual">
          <svg aria-hidden="true" height="12" viewBox="0 0 12 12" version="1.1" width="12" data-view-component="true" class="octicon octicon-alert-fill">
    <path d="M4.855.708c.5-.896 1.79-.896 2.29 0l4.675 8.351a1.312 1.312 0 0 1-1.146 1.954H1.33A1.313 1.313 0 0 1 .183 9.058ZM7 7V3H5v4Zm-1 3a1 1 0 1 0 0-2 1 1 0 0 0 0 2Z"></path>
</svg>
        </span>
        <span></span>
</div>    </div>
    <div data-target="query-builder.screenReaderFeedback" aria-live="polite" aria-atomic="true" class="sr-only"></div>
</query-builder></form>
          <div class="d-flex flex-row color-fg-muted px-3 text-small color-bg-default search-feedback-prompt">
            <a target="_blank" href="https://docs.github.com/en/search-github/github-code-search/understanding-github-code-search-syntax" data-view-component="true" class="Link color-fg-accent text-normal ml-2">
              Search syntax tips
</a>            <div class="d-flex flex-1"></div>
                <button data-action="click:qbsearch-input#showFeedbackDialog" type="button" data-view-component="true" class="Button--link Button--medium Button color-fg-accent text-normal ml-2">    <span class="Button-content">
      <span class="Button-label">Give feedback</span>
    </span>
</button>  
          </div>
        </div>
</div>

    </div>
</modal-dialog></div>
  </div>
  <div data-action="click:qbsearch-input#retract" class="dark-backdrop position-fixed" hidden data-target="qbsearch-input.darkBackdrop"></div>
  <div class="color-fg-default">
    
<div class="Overlay--hidden Overlay-backdrop--center" data-modal-dialog-overlay>
  <modal-dialog data-target="qbsearch-input.feedbackDialog" data-action="close:qbsearch-input#handleDialogClose cancel:qbsearch-input#handleDialogClose" role="dialog" id="feedback-dialog" aria-modal="true" aria-disabled="true" aria-labelledby="feedback-dialog-title" aria-describedby="feedback-dialog-description" data-view-component="true" class="Overlay Overlay-whenNarrow Overlay--size-medium Overlay--motion-scaleFade">
    <div data-view-component="true" class="Overlay-header">
  <div class="Overlay-headerContentWrap">
    <div class="Overlay-titleWrap">
      <h1 class="Overlay-title " id="feedback-dialog-title">
        Provide feedback
      </h1>
    </div>
    <div class="Overlay-actionWrap">
      <button data-close-dialog-id="feedback-dialog" aria-label="Close" type="button" data-view-component="true" class="close-button Overlay-closeButton"><svg aria-hidden="true" height="16" viewBox="0 0 16 16" version="1.1" width="16" data-view-component="true" class="octicon octicon-x">
    <path d="M3.72 3.72a.75.75 0 0 1 1.06 0L8 6.94l3.22-3.22a.749.749 0 0 1 1.275.326.749.749 0 0 1-.215.734L9.06 8l3.22 3.22a.749.749 0 0 1-.326 1.275.749.749 0 0 1-.734-.215L8 9.06l-3.22 3.22a.751.751 0 0 1-1.042-.018.751.751 0 0 1-.018-1.042L6.94 8 3.72 4.78a.75.75 0 0 1 0-1.06Z"></path>
</svg></button>
    </div>
  </div>
</div>
      <div data-view-component="true" class="Overlay-body">        <!-- '"` --><!-- </textarea></xmp> --></option></form><form id="code-search-feedback-form" data-turbo="false" action="/search/feedback" accept-charset="UTF-8" method="post"><input type="hidden" name="authenticity_token" value="_qd9SMhsVcVGqxdoPHSsX6gOHHbrGOw3i012fqh6VN7rlg6vn8MPn_9WRZP-cNj9lpjWF44aBxO7yozdfFKn4w" />
          <p>We read every piece of feedback, and take your input very seriously.</p>
          <textarea name="feedback" class="form-control width-full mb-2" style="height: 120px" id="feedback"></textarea>
          <input name="include_email" id="include_email" aria-label="Include my email address so I can be contacted" class="form-control mr-2" type="checkbox">
          <label for="include_email" style="font-weight: normal">Include my email address so I can be contacted</label>
</form></div>
      <div data-view-component="true" class="Overlay-footer Overlay-footer--alignEnd">          <button data-close-dialog-id="feedback-dialog" type="button" data-view-component="true" class="btn">    Cancel
</button>
          <button form="code-search-feedback-form" data-action="click:qbsearch-input#submitFeedback" type="submit" data-view-component="true" class="btn-primary btn">    Submit feedback
</button>
</div>
</modal-dialog></div>

    <custom-scopes data-target="qbsearch-input.customScopesManager">
    
<div class="Overlay--hidden Overlay-backdrop--center" data-modal-dialog-overlay>
  <modal-dialog data-target="custom-scopes.customScopesModalDialog" data-action="close:qbsearch-input#handleDialogClose cancel:qbsearch-input#handleDialogClose" role="dialog" id="custom-scopes-dialog" aria-modal="true" aria-disabled="true" aria-labelledby="custom-scopes-dialog-title" aria-describedby="custom-scopes-dialog-description" data-view-component="true" class="Overlay Overlay-whenNarrow Overlay--size-medium Overlay--motion-scaleFade">
    <div data-view-component="true" class="Overlay-header Overlay-header--divided">
  <div class="Overlay-headerContentWrap">
    <div class="Overlay-titleWrap">
      <h1 class="Overlay-title " id="custom-scopes-dialog-title">
        Saved searches
      </h1>
        <h2 id="custom-scopes-dialog-description" class="Overlay-description">Use saved searches to filter your results more quickly</h2>
    </div>
    <div class="Overlay-actionWrap">
      <button data-close-dialog-id="custom-scopes-dialog" aria-label="Close" type="button" data-view-component="true" class="close-button Overlay-closeButton"><svg aria-hidden="true" height="16" viewBox="0 0 16 16" version="1.1" width="16" data-view-component="true" class="octicon octicon-x">
    <path d="M3.72 3.72a.75.75 0 0 1 1.06 0L8 6.94l3.22-3.22a.749.749 0 0 1 1.275.326.749.749 0 0 1-.215.734L9.06 8l3.22 3.22a.749.749 0 0 1-.326 1.275.749.749 0 0 1-.734-.215L8 9.06l-3.22 3.22a.751.751 0 0 1-1.042-.018.751.751 0 0 1-.018-1.042L6.94 8 3.72 4.78a.75.75 0 0 1 0-1.06Z"></path>
</svg></button>
    </div>
  </div>
</div>
      <div data-view-component="true" class="Overlay-body">        <div data-target="custom-scopes.customScopesModalDialogFlash"></div>

        <div hidden class="create-custom-scope-form" data-target="custom-scopes.createCustomScopeForm">
        <!-- '"` --><!-- </textarea></xmp> --></option></form><form id="custom-scopes-dialog-form" data-turbo="false" action="/search/custom_scopes" accept-charset="UTF-8" method="post"><input type="hidden" name="authenticity_token" value="IdChOlCW3smL1W58__s54SqS9tBIzCOLYwXFg2aqijhXqVxCVsUEnWefacrKC9NbA736KaLXYrSWky1N8WjxjA" />
          <div data-target="custom-scopes.customScopesModalDialogFlash"></div>

          <input type="hidden" id="custom_scope_id" name="custom_scope_id" data-target="custom-scopes.customScopesIdField">

          <div class="form-group">
            <label for="custom_scope_name">Name</label>
            <auto-check src="/search/custom_scopes/check_name" required>
              <input
                type="text"
                name="custom_scope_name"
                id="custom_scope_name"
                data-target="custom-scopes.customScopesNameField"
                class="form-control"
                autocomplete="off"
                placeholder="github-ruby"
                required
                maxlength="50">
              <input type="hidden" value="2ud5bLBGkA4mZnx9xpxaKr2R6lWyyyeI-gfzoaiKnupVf41MabogPaVFyfxYfWb_Hu3xO0MZZ3kDmuA9UzUmiw" data-csrf="true" />
            </auto-check>
          </div>

          <div class="form-group">
            <label for="custom_scope_query">Query</label>
            <input
              type="text"
              name="custom_scope_query"
              id="custom_scope_query"
              data-target="custom-scopes.customScopesQueryField"
              class="form-control"
              autocomplete="off"
              placeholder="(repo:mona/a OR repo:mona/b) AND lang:python"
              required
              maxlength="500">
          </div>

          <p class="text-small color-fg-muted">
            To see all available qualifiers, see our <a class="Link--inTextBlock" href="https://docs.github.com/en/search-github/github-code-search/understanding-github-code-search-syntax">documentation</a>.
          </p>
</form>        </div>

        <div data-target="custom-scopes.manageCustomScopesForm">
          <div data-target="custom-scopes.list"></div>
        </div>

</div>
      <div data-view-component="true" class="Overlay-footer Overlay-footer--alignEnd Overlay-footer--divided">          <button data-action="click:custom-scopes#customScopesCancel" type="button" data-view-component="true" class="btn">    Cancel
</button>
          <button form="custom-scopes-dialog-form" data-action="click:custom-scopes#customScopesSubmit" data-target="custom-scopes.customScopesSubmitButton" type="submit" data-view-component="true" class="btn-primary btn">    Create saved search
</button>
</div>
</modal-dialog></div>
    </custom-scopes>
  </div>
</qbsearch-input><input type="hidden" value="E2uOtvQSmFO1OPXSge4sPnGwfJllgXx_kJw_JCLQjd698NWlet5WHqgOplKExoA3IUpMDP3oPk4k-dD6kkmIIg" data-csrf="true" class="js-data-jump-to-suggestions-path-csrf" />

          </div>

        <div class="AppHeader-actions">
          <action-menu data-select-variant="none" data-view-component="true">
  <focus-group direction="vertical" mnemonics retain>
    <div data-view-component="true" class="Button-withTooltip">  <button id="global-create-menu-button" popovertarget="global-create-menu-overlay" aria-label="Create something new" aria-controls="global-create-menu-list" aria-haspopup="true" type="button" data-view-component="true" class="AppHeader-button Button--secondary Button--small Button width-auto color-fg-muted">    <span class="Button-content">
        <span class="Button-visual Button-leadingVisual">
          <svg aria-hidden="true" height="16" viewBox="0 0 16 16" version="1.1" width="16" data-view-component="true" class="octicon octicon-plus">
    <path d="M7.75 2a.75.75 0 0 1 .75.75V7h4.25a.75.75 0 0 1 0 1.5H8.5v4.25a.75.75 0 0 1-1.5 0V8.5H2.75a.75.75 0 0 1 0-1.5H7V2.75A.75.75 0 0 1 7.75 2Z"></path>
</svg>
        </span>
      <span class="Button-label"><svg aria-hidden="true" height="16" viewBox="0 0 16 16" version="1.1" width="16" data-view-component="true" class="octicon octicon-triangle-down">
    <path d="m4.427 7.427 3.396 3.396a.25.25 0 0 0 .354 0l3.396-3.396A.25.25 0 0 0 11.396 7H4.604a.25.25 0 0 0-.177.427Z"></path>
</svg></span>
    </span>
</button>  <tool-tip id="tooltip-5cf3677a-ef99-479e-bfaf-36bf8c91a6fc" for="global-create-menu-button" popover="manual" data-direction="s" data-type="description" data-view-component="true" class="sr-only position-absolute">Create new...</tool-tip>
</div>

<anchored-position id="global-create-menu-overlay" anchor="global-create-menu-button" align="end" side="outside-bottom" anchor-offset="normal" popover="auto" aria-label="Menu" data-view-component="true">
  <div data-view-component="true" class="Overlay Overlay--size-auto">
    
      
        <div data-view-component="true">
  <ul aria-labelledby="global-create-menu-button" id="global-create-menu-list" role="menu" data-view-component="true" class="ActionListWrap--inset ActionListWrap">
      <li data-analytics-event="{&quot;category&quot;:&quot;SiteHeaderComponent&quot;,&quot;action&quot;:&quot;add_dropdown&quot;,&quot;label&quot;:&quot;new repository&quot;}" data-targets="action-list.items" role="none" data-view-component="true" class="ActionListItem">
    
    <a href="/new" tabindex="-1" id="item-469b0355-3bb3-45e8-851a-1dc74fdb0149" role="menuitem" data-view-component="true" class="ActionListContent ActionListContent--visual16">
        <span class="ActionListItem-visual ActionListItem-visual--leading">
          <svg aria-hidden="true" height="16" viewBox="0 0 16 16" version="1.1" width="16" data-view-component="true" class="octicon octicon-repo">
    <path d="M2 2.5A2.5 2.5 0 0 1 4.5 0h8.75a.75.75 0 0 1 .75.75v12.5a.75.75 0 0 1-.75.75h-2.5a.75.75 0 0 1 0-1.5h1.75v-2h-8a1 1 0 0 0-.714 1.7.75.75 0 1 1-1.072 1.05A2.495 2.495 0 0 1 2 11.5Zm10.5-1h-8a1 1 0 0 0-1 1v6.708A2.486 2.486 0 0 1 4.5 9h8ZM5 12.25a.25.25 0 0 1 .25-.25h3.5a.25.25 0 0 1 .25.25v3.25a.25.25 0 0 1-.4.2l-1.45-1.087a.249.249 0 0 0-.3 0L5.4 15.7a.25.25 0 0 1-.4-.2Z"></path>
</svg>
        </span>
      
        <span data-view-component="true" class="ActionListItem-label">
              New repository

</span></a>
  
  
</li>
      <li data-analytics-event="{&quot;category&quot;:&quot;SiteHeaderComponent&quot;,&quot;action&quot;:&quot;add_dropdown&quot;,&quot;label&quot;:&quot;import repository&quot;}" data-targets="action-list.items" role="none" data-view-component="true" class="ActionListItem">
    
    <a href="/new/import" tabindex="-1" id="item-7f624aa5-a143-45a3-a93e-58a52b9ef45a" role="menuitem" data-view-component="true" class="ActionListContent ActionListContent--visual16">
        <span class="ActionListItem-visual ActionListItem-visual--leading">
          <svg aria-hidden="true" height="16" viewBox="0 0 16 16" version="1.1" width="16" data-view-component="true" class="octicon octicon-repo-push">
    <path d="M1 2.5A2.5 2.5 0 0 1 3.5 0h8.75a.75.75 0 0 1 .75.75v3.5a.75.75 0 0 1-1.5 0V1.5h-8a1 1 0 0 0-1 1v6.708A2.493 2.493 0 0 1 3.5 9h3.25a.75.75 0 0 1 0 1.5H3.5a1 1 0 0 0 0 2h5.75a.75.75 0 0 1 0 1.5H3.5A2.5 2.5 0 0 1 1 11.5Zm13.23 7.79h-.001l-1.224-1.224v6.184a.75.75 0 0 1-1.5 0V9.066L10.28 10.29a.75.75 0 0 1-1.06-1.061l2.505-2.504a.75.75 0 0 1 1.06 0L15.29 9.23a.751.751 0 0 1-.018 1.042.751.751 0 0 1-1.042.018Z"></path>
</svg>
        </span>
      
        <span data-view-component="true" class="ActionListItem-label">
                Import repository

</span></a>
  
  
</li>
      <li role="presentation" aria-hidden="true" data-view-component="true" class="ActionList-sectionDivider"></li>
      <li data-analytics-event="{&quot;category&quot;:&quot;SiteHeaderComponent&quot;,&quot;action&quot;:&quot;add_dropdown&quot;,&quot;label&quot;:&quot;new codespace&quot;}" data-targets="action-list.items" role="none" data-view-component="true" class="ActionListItem">
    
    <a href="/codespaces/new" tabindex="-1" id="item-b7532405-76d5-4b58-9fa3-c4bfe70946ae" role="menuitem" data-view-component="true" class="ActionListContent ActionListContent--visual16">
        <span class="ActionListItem-visual ActionListItem-visual--leading">
          <svg aria-hidden="true" height="16" viewBox="0 0 16 16" version="1.1" width="16" data-view-component="true" class="octicon octicon-codespaces">
    <path d="M0 11.25c0-.966.784-1.75 1.75-1.75h12.5c.966 0 1.75.784 1.75 1.75v3A1.75 1.75 0 0 1 14.25 16H1.75A1.75 1.75 0 0 1 0 14.25Zm2-9.5C2 .784 2.784 0 3.75 0h8.5C13.216 0 14 .784 14 1.75v5a1.75 1.75 0 0 1-1.75 1.75h-8.5A1.75 1.75 0 0 1 2 6.75Zm1.75-.25a.25.25 0 0 0-.25.25v5c0 .138.112.25.25.25h8.5a.25.25 0 0 0 .25-.25v-5a.25.25 0 0 0-.25-.25Zm-2 9.5a.25.25 0 0 0-.25.25v3c0 .138.112.25.25.25h12.5a.25.25 0 0 0 .25-.25v-3a.25.25 0 0 0-.25-.25Z"></path><path d="M7 12.75a.75.75 0 0 1 .75-.75h4.5a.75.75 0 0 1 0 1.5h-4.5a.75.75 0 0 1-.75-.75Zm-4 0a.75.75 0 0 1 .75-.75h.5a.75.75 0 0 1 0 1.5h-.5a.75.75 0 0 1-.75-.75Z"></path>
</svg>
        </span>
      
        <span data-view-component="true" class="ActionListItem-label">
                New codespace

</span></a>
  
  
</li>
      <li data-analytics-event="{&quot;category&quot;:&quot;SiteHeaderComponent&quot;,&quot;action&quot;:&quot;add_dropdown&quot;,&quot;label&quot;:&quot;new gist&quot;}" data-targets="action-list.items" role="none" data-view-component="true" class="ActionListItem">
    
    <a href="https://gist.github.com/" tabindex="-1" id="item-c638b181-fbba-4bb5-93da-15d7d9ca08aa" role="menuitem" data-view-component="true" class="ActionListContent ActionListContent--visual16">
        <span class="ActionListItem-visual ActionListItem-visual--leading">
          <svg aria-hidden="true" height="16" viewBox="0 0 16 16" version="1.1" width="16" data-view-component="true" class="octicon octicon-code">
    <path d="m11.28 3.22 4.25 4.25a.75.75 0 0 1 0 1.06l-4.25 4.25a.749.749 0 0 1-1.275-.326.749.749 0 0 1 .215-.734L13.94 8l-3.72-3.72a.749.749 0 0 1 .326-1.275.749.749 0 0 1 .734.215Zm-6.56 0a.751.751 0 0 1 1.042.018.751.751 0 0 1 .018 1.042L2.06 8l3.72 3.72a.749.749 0 0 1-.326 1.275.749.749 0 0 1-.734-.215L.47 8.53a.75.75 0 0 1 0-1.06Z"></path>
</svg>
        </span>
      
        <span data-view-component="true" class="ActionListItem-label">
              New gist

</span></a>
  
  
</li>
      <li role="presentation" aria-hidden="true" data-view-component="true" class="ActionList-sectionDivider"></li>
      <li data-analytics-event="{&quot;category&quot;:&quot;SiteHeaderComponent&quot;,&quot;action&quot;:&quot;add_dropdown&quot;,&quot;label&quot;:&quot;new organization&quot;}" data-targets="action-list.items" role="none" data-view-component="true" class="ActionListItem">
    
    <a href="/account/organizations/new" tabindex="-1" id="item-7c1f2f76-5d21-47ad-aec8-6ab2cdff9d0f" role="menuitem" data-view-component="true" class="ActionListContent ActionListContent--visual16">
        <span class="ActionListItem-visual ActionListItem-visual--leading">
          <svg aria-hidden="true" height="16" viewBox="0 0 16 16" version="1.1" width="16" data-view-component="true" class="octicon octicon-organization">
    <path d="M1.75 16A1.75 1.75 0 0 1 0 14.25V1.75C0 .784.784 0 1.75 0h8.5C11.216 0 12 .784 12 1.75v12.5c0 .085-.006.168-.018.25h2.268a.25.25 0 0 0 .25-.25V8.285a.25.25 0 0 0-.111-.208l-1.055-.703a.749.749 0 1 1 .832-1.248l1.055.703c.487.325.779.871.779 1.456v5.965A1.75 1.75 0 0 1 14.25 16h-3.5a.766.766 0 0 1-.197-.026c-.099.017-.2.026-.303.026h-3a.75.75 0 0 1-.75-.75V14h-1v1.25a.75.75 0 0 1-.75.75Zm-.25-1.75c0 .138.112.25.25.25H4v-1.25a.75.75 0 0 1 .75-.75h2.5a.75.75 0 0 1 .75.75v1.25h2.25a.25.25 0 0 0 .25-.25V1.75a.25.25 0 0 0-.25-.25h-8.5a.25.25 0 0 0-.25.25ZM3.75 6h.5a.75.75 0 0 1 0 1.5h-.5a.75.75 0 0 1 0-1.5ZM3 3.75A.75.75 0 0 1 3.75 3h.5a.75.75 0 0 1 0 1.5h-.5A.75.75 0 0 1 3 3.75Zm4 3A.75.75 0 0 1 7.75 6h.5a.75.75 0 0 1 0 1.5h-.5A.75.75 0 0 1 7 6.75ZM7.75 3h.5a.75.75 0 0 1 0 1.5h-.5a.75.75 0 0 1 0-1.5ZM3 9.75A.75.75 0 0 1 3.75 9h.5a.75.75 0 0 1 0 1.5h-.5A.75.75 0 0 1 3 9.75ZM7.75 9h.5a.75.75 0 0 1 0 1.5h-.5a.75.75 0 0 1 0-1.5Z"></path>
</svg>
        </span>
      
        <span data-view-component="true" class="ActionListItem-label">
                New organization

</span></a>
  
  
</li>
</ul>  
</div>

</div></anchored-position>  </focus-group>
</action-menu>

            <div data-view-component="true" class="Button-withTooltip">
  <a href="/issues" data-analytics-event="{&quot;category&quot;:&quot;Global navigation&quot;,&quot;action&quot;:&quot;ISSUES_HEADER&quot;,&quot;label&quot;:null}" id="icon-button-5e240f50-18d2-4dba-a129-06dd076f43a9" data-view-component="true" class="Button Button--iconOnly Button--secondary Button--medium AppHeader-button color-fg-muted">    <svg aria-hidden="true" height="16" viewBox="0 0 16 16" version="1.1" width="16" data-view-component="true" class="octicon octicon-issue-opened Button-visual">
    <path d="M8 9.5a1.5 1.5 0 1 0 0-3 1.5 1.5 0 0 0 0 3Z"></path><path d="M8 0a8 8 0 1 1 0 16A8 8 0 0 1 8 0ZM1.5 8a6.5 6.5 0 1 0 13 0 6.5 6.5 0 0 0-13 0Z"></path>
</svg>
</a>  <tool-tip id="tooltip-e98f043e-9589-4cc3-a092-1cd32046a369" for="icon-button-5e240f50-18d2-4dba-a129-06dd076f43a9" popover="manual" data-direction="s" data-type="label" data-view-component="true" class="sr-only position-absolute">Issues</tool-tip>
</div>
            <div data-view-component="true" class="Button-withTooltip">
  <a href="/pulls" data-analytics-event="{&quot;category&quot;:&quot;Global navigation&quot;,&quot;action&quot;:&quot;PULL_REQUESTS_HEADER&quot;,&quot;label&quot;:null}" id="icon-button-3b938553-9f73-4cdd-8053-7422e7df7a15" data-view-component="true" class="Button Button--iconOnly Button--secondary Button--medium AppHeader-button color-fg-muted">    <svg aria-hidden="true" height="16" viewBox="0 0 16 16" version="1.1" width="16" data-view-component="true" class="octicon octicon-git-pull-request Button-visual">
    <path d="M1.5 3.25a2.25 2.25 0 1 1 3 2.122v5.256a2.251 2.251 0 1 1-1.5 0V5.372A2.25 2.25 0 0 1 1.5 3.25Zm5.677-.177L9.573.677A.25.25 0 0 1 10 .854V2.5h1A2.5 2.5 0 0 1 13.5 5v5.628a2.251 2.251 0 1 1-1.5 0V5a1 1 0 0 0-1-1h-1v1.646a.25.25 0 0 1-.427.177L7.177 3.427a.25.25 0 0 1 0-.354ZM3.75 2.5a.75.75 0 1 0 0 1.5.75.75 0 0 0 0-1.5Zm0 9.5a.75.75 0 1 0 0 1.5.75.75 0 0 0 0-1.5Zm8.25.75a.75.75 0 1 0 1.5 0 .75.75 0 0 0-1.5 0Z"></path>
</svg>
</a>  <tool-tip id="tooltip-cb27b03b-b37a-46d8-b825-fd7cb4ca22ae" for="icon-button-3b938553-9f73-4cdd-8053-7422e7df7a15" popover="manual" data-direction="s" data-type="label" data-view-component="true" class="sr-only position-absolute">Pull requests</tool-tip>
</div>
        </div>

        

<notification-indicator data-channel="eyJjIjoibm90aWZpY2F0aW9uLWNoYW5nZWQ6NjgyOTc0MzgiLCJ0IjoxNjk0NjQ0MTU5fQ==--349aedae19a2a829b254786206ce0c48042a75b95d46b3213245355daa5ede02" data-indicator-mode="none" data-tooltip-global="You have unread notifications" data-tooltip-unavailable="Notifications are unavailable at the moment." data-tooltip-none="You have no unread notifications" data-header-redesign-enabled="true" data-fetch-indicator-src="/notifications/indicator" data-fetch-indicator-enabled="true" data-view-component="true" class="js-socket-channel">
  <a id="AppHeader-notifications-button" href="/notifications"
    class="AppHeader-button Button--secondary"

    style="width:32px;height:32px;"

    data-hotkey="g n"
    data-target="notification-indicator.link"
    aria-label="Notifications"

      data-analytics-event="{&quot;category&quot;:&quot;SiteHeaderComponent&quot;,&quot;action&quot;:&quot;notifications&quot;,&quot;label&quot;:null}"
  >

    <span
      data-target="notification-indicator.badge"
      class="mail-status unread d-none" hidden>
    </span>

      <svg aria-hidden="true" height="16" viewBox="0 0 16 16" version="1.1" width="16" data-view-component="true" class="octicon octicon-inbox color-fg-muted mr-0">
    <path d="M2.8 2.06A1.75 1.75 0 0 1 4.41 1h7.18c.7 0 1.333.417 1.61 1.06l2.74 6.395c.04.093.06.194.06.295v4.5A1.75 1.75 0 0 1 14.25 15H1.75A1.75 1.75 0 0 1 0 13.25v-4.5c0-.101.02-.202.06-.295Zm1.61.44a.25.25 0 0 0-.23.152L1.887 8H4.75a.75.75 0 0 1 .6.3L6.625 10h2.75l1.275-1.7a.75.75 0 0 1 .6-.3h2.863L11.82 2.652a.25.25 0 0 0-.23-.152Zm10.09 7h-2.875l-1.275 1.7a.75.75 0 0 1-.6.3h-3.5a.75.75 0 0 1-.6-.3L4.375 9.5H1.5v3.75c0 .138.112.25.25.25h12.5a.25.25 0 0 0 .25-.25Z"></path>
</svg>
  </a>

    <tool-tip data-target="notification-indicator.tooltip" id="tooltip-e1a1fbc6-94f2-4999-91c2-c6020ff4dc89" for="AppHeader-notifications-button" popover="manual" data-direction="s" data-type="description" data-view-component="true" class="sr-only position-absolute">Notifications</tool-tip>
</notification-indicator>

        

        <div class="AppHeader-user">
          <deferred-side-panel data-url="/_side-panels/user?memex_enabled=true&amp;repository=NLP-STTCipasung2022&amp;user=zulkaidaakbar&amp;user_can_create_organizations=true&amp;user_id=68297438">
  <include-fragment data-target="deferred-side-panel.fragment">
      <user-drawer-side-panel>
      <button aria-label="Open user account menu" data-action="click:deferred-side-panel#loadPanel click:deferred-side-panel#panelOpened" data-show-dialog-id="dialog-d80c1ed0-b206-48ed-afe8-ae12fd0220a5" id="dialog-show-dialog-d80c1ed0-b206-48ed-afe8-ae12fd0220a5" type="button" data-view-component="true" class="AppHeader-logo Button--invisible Button--medium Button Button--invisible-noVisuals color-bg-transparent p-0">    <span class="Button-content">
      <span class="Button-label"><img src="https://avatars.githubusercontent.com/u/68297438?v=4" alt="" size="32" height="32" width="32" data-view-component="true" class="avatar circle" /></span>
    </span>
</button>  

<div class="Overlay--hidden Overlay-backdrop--side Overlay-backdrop--placement-right" data-modal-dialog-overlay>
  <modal-dialog data-target="deferred-side-panel.panel" role="dialog" id="dialog-d80c1ed0-b206-48ed-afe8-ae12fd0220a5" aria-modal="true" aria-disabled="true" aria-labelledby="dialog-d80c1ed0-b206-48ed-afe8-ae12fd0220a5-title" aria-describedby="dialog-d80c1ed0-b206-48ed-afe8-ae12fd0220a5-description" data-view-component="true" class="Overlay Overlay-whenNarrow Overlay--size-small-portrait Overlay--motion-scaleFade SidePanel">
    <div styles="flex-direction: row;" data-view-component="true" class="Overlay-header">
  <div class="Overlay-headerContentWrap">
    <div class="Overlay-titleWrap">
      <h1 class="Overlay-title sr-only" id="dialog-d80c1ed0-b206-48ed-afe8-ae12fd0220a5-title">
        Account menu
      </h1>
            <div data-view-component="true" class="d-flex">
      <div data-view-component="true" class="AppHeader-logo position-relative">
        <img src="https://avatars.githubusercontent.com/u/68297438?v=4" alt="" size="32" height="32" width="32" data-view-component="true" class="avatar circle" />
</div>        <div data-view-component="true" class="overflow-hidden d-flex width-full">        <div data-view-component="true" class="lh-condensed overflow-hidden d-flex flex-column flex-justify-center ml-2 f5 mr-auto width-full">
          <span data-view-component="true" class="Truncate text-bold">
    <span data-view-component="true" class="Truncate-text">
            zulkaidaakbar
</span>
</span>          </div>
</div>
</div>
    </div>
    <div class="Overlay-actionWrap">
      <button data-close-dialog-id="dialog-d80c1ed0-b206-48ed-afe8-ae12fd0220a5" aria-label="Close" type="button" data-view-component="true" class="close-button Overlay-closeButton"><svg aria-hidden="true" height="16" viewBox="0 0 16 16" version="1.1" width="16" data-view-component="true" class="octicon octicon-x">
    <path d="M3.72 3.72a.75.75 0 0 1 1.06 0L8 6.94l3.22-3.22a.749.749 0 0 1 1.275.326.749.749 0 0 1-.215.734L9.06 8l3.22 3.22a.749.749 0 0 1-.326 1.275.749.749 0 0 1-.734-.215L8 9.06l-3.22 3.22a.751.751 0 0 1-1.042-.018.751.751 0 0 1-.018-1.042L6.94 8 3.72 4.78a.75.75 0 0 1 0-1.06Z"></path>
</svg></button>
    </div>
  </div>
</div>
      <div data-view-component="true" class="Overlay-body d-flex flex-column height-full px-2">      <nav aria-label="User navigation" data-view-component="true" class="ActionList">
  
  <nav-list>
    <ul data-view-component="true" class="ActionListWrap">
        
          
<li data-item-id="" data-targets="nav-list.items" data-view-component="true" class="ActionListItem">
    
    <button id="item-9591cb97-72f8-489b-b3f1-36bb179b344c" type="button" data-view-component="true" class="ActionListContent ActionListContent--visual16">
        <span class="ActionListItem-visual ActionListItem-visual--leading">
          <span data-view-component="true" class="d-flex flex-items-center">    <svg style="box-sizing: content-box; color: var(--color-icon-primary);" width="16" height="16" viewBox="0 0 16 16" fill="none" data-view-component="true" class="anim-rotate">
  <circle cx="8" cy="8" r="7" stroke="currentColor" stroke-opacity="0.25" stroke-width="2" vector-effect="non-scaling-stroke" />
  <path d="M15 8a7.002 7.002 0 00-7-7" stroke="currentColor" stroke-width="2" stroke-linecap="round" vector-effect="non-scaling-stroke" />
</svg>
</span>
        </span>
      
        <span data-view-component="true" class="ActionListItem-label">
          

  <span class="color-fg-muted">
    Loading...
  </span>

</span></button>
  
  
</li>

        
          <li role="presentation" aria-hidden="true" data-view-component="true" class="ActionList-sectionDivider"></li>
        
          
<li data-item-id="" data-targets="nav-list.items" data-view-component="true" class="ActionListItem">
    
    <a data-analytics-event="{&quot;category&quot;:&quot;Global navigation&quot;,&quot;action&quot;:&quot;PROFILE&quot;,&quot;label&quot;:null}" id="item-ea1a5918-0187-40fe-9a74-87eaa31586c8" href="https://github.com/zulkaidaakbar" data-view-component="true" class="ActionListContent ActionListContent--visual16">
        <span class="ActionListItem-visual ActionListItem-visual--leading">
          <svg aria-hidden="true" height="16" viewBox="0 0 16 16" version="1.1" width="16" data-view-component="true" class="octicon octicon-person">
    <path d="M10.561 8.073a6.005 6.005 0 0 1 3.432 5.142.75.75 0 1 1-1.498.07 4.5 4.5 0 0 0-8.99 0 .75.75 0 0 1-1.498-.07 6.004 6.004 0 0 1 3.431-5.142 3.999 3.999 0 1 1 5.123 0ZM10.5 5a2.5 2.5 0 1 0-5 0 2.5 2.5 0 0 0 5 0Z"></path>
</svg>
        </span>
      
        <span data-view-component="true" class="ActionListItem-label">
          Your profile
</span></a>
  
  
</li>

        
          <li role="presentation" aria-hidden="true" data-view-component="true" class="ActionList-sectionDivider"></li>
        
          
<li data-item-id="" data-targets="nav-list.items" data-view-component="true" class="ActionListItem">
    
    <a data-analytics-event="{&quot;category&quot;:&quot;Global navigation&quot;,&quot;action&quot;:&quot;YOUR_REPOSITORIES&quot;,&quot;label&quot;:null}" id="item-7cc62368-9775-41cb-ad11-8149d2075546" href="/zulkaidaakbar?tab=repositories" data-view-component="true" class="ActionListContent ActionListContent--visual16">
        <span class="ActionListItem-visual ActionListItem-visual--leading">
          <svg aria-hidden="true" height="16" viewBox="0 0 16 16" version="1.1" width="16" data-view-component="true" class="octicon octicon-repo">
    <path d="M2 2.5A2.5 2.5 0 0 1 4.5 0h8.75a.75.75 0 0 1 .75.75v12.5a.75.75 0 0 1-.75.75h-2.5a.75.75 0 0 1 0-1.5h1.75v-2h-8a1 1 0 0 0-.714 1.7.75.75 0 1 1-1.072 1.05A2.495 2.495 0 0 1 2 11.5Zm10.5-1h-8a1 1 0 0 0-1 1v6.708A2.486 2.486 0 0 1 4.5 9h8ZM5 12.25a.25.25 0 0 1 .25-.25h3.5a.25.25 0 0 1 .25.25v3.25a.25.25 0 0 1-.4.2l-1.45-1.087a.249.249 0 0 0-.3 0L5.4 15.7a.25.25 0 0 1-.4-.2Z"></path>
</svg>
        </span>
      
        <span data-view-component="true" class="ActionListItem-label">
          Your repositories
</span></a>
  
  
</li>

        
          
<li data-item-id="" data-targets="nav-list.items" data-view-component="true" class="ActionListItem">
    
    <a data-analytics-event="{&quot;category&quot;:&quot;Global navigation&quot;,&quot;action&quot;:&quot;YOUR_PROJECTS&quot;,&quot;label&quot;:null}" id="item-a85fcdc4-04b3-4892-8de8-69176b5c5c84" href="/zulkaidaakbar?tab=projects" data-view-component="true" class="ActionListContent ActionListContent--visual16">
        <span class="ActionListItem-visual ActionListItem-visual--leading">
          <svg aria-hidden="true" height="16" viewBox="0 0 16 16" version="1.1" width="16" data-view-component="true" class="octicon octicon-project">
    <path d="M1.75 0h12.5C15.216 0 16 .784 16 1.75v12.5A1.75 1.75 0 0 1 14.25 16H1.75A1.75 1.75 0 0 1 0 14.25V1.75C0 .784.784 0 1.75 0ZM1.5 1.75v12.5c0 .138.112.25.25.25h12.5a.25.25 0 0 0 .25-.25V1.75a.25.25 0 0 0-.25-.25H1.75a.25.25 0 0 0-.25.25ZM11.75 3a.75.75 0 0 1 .75.75v7.5a.75.75 0 0 1-1.5 0v-7.5a.75.75 0 0 1 .75-.75Zm-8.25.75a.75.75 0 0 1 1.5 0v5.5a.75.75 0 0 1-1.5 0ZM8 3a.75.75 0 0 1 .75.75v3.5a.75.75 0 0 1-1.5 0v-3.5A.75.75 0 0 1 8 3Z"></path>
</svg>
        </span>
      
        <span data-view-component="true" class="ActionListItem-label">
          Your projects
</span></a>
  
  
</li>

        
          
<li data-item-id="" data-targets="nav-list.items" data-view-component="true" class="ActionListItem">
    
    <a data-analytics-event="{&quot;category&quot;:&quot;Global navigation&quot;,&quot;action&quot;:&quot;YOUR_CODESPACES&quot;,&quot;label&quot;:null}" id="item-3c2bb7ea-902a-413a-99fc-c68019304586" href="/codespaces" data-view-component="true" class="ActionListContent ActionListContent--visual16">
        <span class="ActionListItem-visual ActionListItem-visual--leading">
          <svg aria-hidden="true" height="16" viewBox="0 0 16 16" version="1.1" width="16" data-view-component="true" class="octicon octicon-codespaces">
    <path d="M0 11.25c0-.966.784-1.75 1.75-1.75h12.5c.966 0 1.75.784 1.75 1.75v3A1.75 1.75 0 0 1 14.25 16H1.75A1.75 1.75 0 0 1 0 14.25Zm2-9.5C2 .784 2.784 0 3.75 0h8.5C13.216 0 14 .784 14 1.75v5a1.75 1.75 0 0 1-1.75 1.75h-8.5A1.75 1.75 0 0 1 2 6.75Zm1.75-.25a.25.25 0 0 0-.25.25v5c0 .138.112.25.25.25h8.5a.25.25 0 0 0 .25-.25v-5a.25.25 0 0 0-.25-.25Zm-2 9.5a.25.25 0 0 0-.25.25v3c0 .138.112.25.25.25h12.5a.25.25 0 0 0 .25-.25v-3a.25.25 0 0 0-.25-.25Z"></path><path d="M7 12.75a.75.75 0 0 1 .75-.75h4.5a.75.75 0 0 1 0 1.5h-4.5a.75.75 0 0 1-.75-.75Zm-4 0a.75.75 0 0 1 .75-.75h.5a.75.75 0 0 1 0 1.5h-.5a.75.75 0 0 1-.75-.75Z"></path>
</svg>
        </span>
      
        <span data-view-component="true" class="ActionListItem-label">
          Your codespaces
</span></a>
  
  
</li>

        
          
<li data-item-id="" data-targets="nav-list.items" data-view-component="true" class="ActionListItem">
    
    <button id="item-552c8997-bccf-4eb9-9d99-0e5269aefe9b" type="button" data-view-component="true" class="ActionListContent ActionListContent--visual16">
        <span class="ActionListItem-visual ActionListItem-visual--leading">
          <span data-view-component="true" class="d-flex flex-items-center">    <svg style="box-sizing: content-box; color: var(--color-icon-primary);" width="16" height="16" viewBox="0 0 16 16" fill="none" data-view-component="true" class="anim-rotate">
  <circle cx="8" cy="8" r="7" stroke="currentColor" stroke-opacity="0.25" stroke-width="2" vector-effect="non-scaling-stroke" />
  <path d="M15 8a7.002 7.002 0 00-7-7" stroke="currentColor" stroke-width="2" stroke-linecap="round" vector-effect="non-scaling-stroke" />
</svg>
</span>
        </span>
      
        <span data-view-component="true" class="ActionListItem-label">
          

  <span class="color-fg-muted">
    Loading...
  </span>

</span></button>
  
  
</li>

        
          
<li data-item-id="" data-targets="nav-list.items" data-view-component="true" class="ActionListItem">
    
    <a data-analytics-event="{&quot;category&quot;:&quot;Global navigation&quot;,&quot;action&quot;:&quot;YOUR_STARS&quot;,&quot;label&quot;:null}" id="item-353faca1-f702-4e98-b7ac-6fcb49da4792" href="/zulkaidaakbar?tab=stars" data-view-component="true" class="ActionListContent ActionListContent--visual16">
        <span class="ActionListItem-visual ActionListItem-visual--leading">
          <svg aria-hidden="true" height="16" viewBox="0 0 16 16" version="1.1" width="16" data-view-component="true" class="octicon octicon-star">
    <path d="M8 .25a.75.75 0 0 1 .673.418l1.882 3.815 4.21.612a.75.75 0 0 1 .416 1.279l-3.046 2.97.719 4.192a.751.751 0 0 1-1.088.791L8 12.347l-3.766 1.98a.75.75 0 0 1-1.088-.79l.72-4.194L.818 6.374a.75.75 0 0 1 .416-1.28l4.21-.611L7.327.668A.75.75 0 0 1 8 .25Zm0 2.445L6.615 5.5a.75.75 0 0 1-.564.41l-3.097.45 2.24 2.184a.75.75 0 0 1 .216.664l-.528 3.084 2.769-1.456a.75.75 0 0 1 .698 0l2.77 1.456-.53-3.084a.75.75 0 0 1 .216-.664l2.24-2.183-3.096-.45a.75.75 0 0 1-.564-.41L8 2.694Z"></path>
</svg>
        </span>
      
        <span data-view-component="true" class="ActionListItem-label">
          Your stars
</span></a>
  
  
</li>

        
          
<li data-item-id="" data-targets="nav-list.items" data-view-component="true" class="ActionListItem">
    
    <a data-analytics-event="{&quot;category&quot;:&quot;Global navigation&quot;,&quot;action&quot;:&quot;SPONSORS&quot;,&quot;label&quot;:null}" id="item-2f4393a5-cfe0-4bb1-b13f-941c9490b3b1" href="/sponsors/accounts" data-view-component="true" class="ActionListContent ActionListContent--visual16">
        <span class="ActionListItem-visual ActionListItem-visual--leading">
          <svg aria-hidden="true" height="16" viewBox="0 0 16 16" version="1.1" width="16" data-view-component="true" class="octicon octicon-heart">
    <path d="m8 14.25.345.666a.75.75 0 0 1-.69 0l-.008-.004-.018-.01a7.152 7.152 0 0 1-.31-.17 22.055 22.055 0 0 1-3.434-2.414C2.045 10.731 0 8.35 0 5.5 0 2.836 2.086 1 4.25 1 5.797 1 7.153 1.802 8 3.02 8.847 1.802 10.203 1 11.75 1 13.914 1 16 2.836 16 5.5c0 2.85-2.045 5.231-3.885 6.818a22.066 22.066 0 0 1-3.744 2.584l-.018.01-.006.003h-.002ZM4.25 2.5c-1.336 0-2.75 1.164-2.75 3 0 2.15 1.58 4.144 3.365 5.682A20.58 20.58 0 0 0 8 13.393a20.58 20.58 0 0 0 3.135-2.211C12.92 9.644 14.5 7.65 14.5 5.5c0-1.836-1.414-3-2.75-3-1.373 0-2.609.986-3.029 2.456a.749.749 0 0 1-1.442 0C6.859 3.486 5.623 2.5 4.25 2.5Z"></path>
</svg>
        </span>
      
        <span data-view-component="true" class="ActionListItem-label">
          Your sponsors
</span></a>
  
  
</li>

        
          
<li data-item-id="" data-targets="nav-list.items" data-view-component="true" class="ActionListItem">
    
    <a data-analytics-event="{&quot;category&quot;:&quot;Global navigation&quot;,&quot;action&quot;:&quot;YOUR_GISTS&quot;,&quot;label&quot;:null}" id="item-d6b9e73b-661f-44c8-bdcf-fb72a5b5c54c" href="https://gist.github.com/mine" data-view-component="true" class="ActionListContent ActionListContent--visual16">
        <span class="ActionListItem-visual ActionListItem-visual--leading">
          <svg aria-hidden="true" height="16" viewBox="0 0 16 16" version="1.1" width="16" data-view-component="true" class="octicon octicon-code-square">
    <path d="M0 1.75C0 .784.784 0 1.75 0h12.5C15.216 0 16 .784 16 1.75v12.5A1.75 1.75 0 0 1 14.25 16H1.75A1.75 1.75 0 0 1 0 14.25Zm1.75-.25a.25.25 0 0 0-.25.25v12.5c0 .138.112.25.25.25h12.5a.25.25 0 0 0 .25-.25V1.75a.25.25 0 0 0-.25-.25Zm7.47 3.97a.75.75 0 0 1 1.06 0l2 2a.75.75 0 0 1 0 1.06l-2 2a.749.749 0 0 1-1.275-.326.749.749 0 0 1 .215-.734L10.69 8 9.22 6.53a.75.75 0 0 1 0-1.06ZM6.78 6.53 5.31 8l1.47 1.47a.749.749 0 0 1-.326 1.275.749.749 0 0 1-.734-.215l-2-2a.75.75 0 0 1 0-1.06l2-2a.751.751 0 0 1 1.042.018.751.751 0 0 1 .018 1.042Z"></path>
</svg>
        </span>
      
        <span data-view-component="true" class="ActionListItem-label">
          Your gists
</span></a>
  
  
</li>

        
          <li role="presentation" aria-hidden="true" data-view-component="true" class="ActionList-sectionDivider"></li>
        
          
<li data-item-id="" data-targets="nav-list.items" data-view-component="true" class="ActionListItem">
    
    <button id="item-ce44a2bb-4182-4cbc-af4c-cd19c71017ee" type="button" data-view-component="true" class="ActionListContent ActionListContent--visual16">
        <span class="ActionListItem-visual ActionListItem-visual--leading">
          <span data-view-component="true" class="d-flex flex-items-center">    <svg style="box-sizing: content-box; color: var(--color-icon-primary);" width="16" height="16" viewBox="0 0 16 16" fill="none" data-view-component="true" class="anim-rotate">
  <circle cx="8" cy="8" r="7" stroke="currentColor" stroke-opacity="0.25" stroke-width="2" vector-effect="non-scaling-stroke" />
  <path d="M15 8a7.002 7.002 0 00-7-7" stroke="currentColor" stroke-width="2" stroke-linecap="round" vector-effect="non-scaling-stroke" />
</svg>
</span>
        </span>
      
        <span data-view-component="true" class="ActionListItem-label">
          

  <span class="color-fg-muted">
    Loading...
  </span>

</span></button>
  
  
</li>

        
          
<li data-item-id="" data-targets="nav-list.items" data-view-component="true" class="ActionListItem">
    
    <button id="item-7e73059e-79b2-4ba0-9a88-fd2ad4c64398" type="button" data-view-component="true" class="ActionListContent ActionListContent--visual16">
        <span class="ActionListItem-visual ActionListItem-visual--leading">
          <span data-view-component="true" class="d-flex flex-items-center">    <svg style="box-sizing: content-box; color: var(--color-icon-primary);" width="16" height="16" viewBox="0 0 16 16" fill="none" data-view-component="true" class="anim-rotate">
  <circle cx="8" cy="8" r="7" stroke="currentColor" stroke-opacity="0.25" stroke-width="2" vector-effect="non-scaling-stroke" />
  <path d="M15 8a7.002 7.002 0 00-7-7" stroke="currentColor" stroke-width="2" stroke-linecap="round" vector-effect="non-scaling-stroke" />
</svg>
</span>
        </span>
      
        <span data-view-component="true" class="ActionListItem-label">
          

  <span class="color-fg-muted">
    Loading...
  </span>

</span></button>
  
  
</li>

        
          
<li data-item-id="" data-targets="nav-list.items" data-view-component="true" class="ActionListItem">
    
    <button id="item-909a0aca-d804-4062-84e0-b8212e376f57" type="button" data-view-component="true" class="ActionListContent ActionListContent--visual16">
        <span class="ActionListItem-visual ActionListItem-visual--leading">
          <span data-view-component="true" class="d-flex flex-items-center">    <svg style="box-sizing: content-box; color: var(--color-icon-primary);" width="16" height="16" viewBox="0 0 16 16" fill="none" data-view-component="true" class="anim-rotate">
  <circle cx="8" cy="8" r="7" stroke="currentColor" stroke-opacity="0.25" stroke-width="2" vector-effect="non-scaling-stroke" />
  <path d="M15 8a7.002 7.002 0 00-7-7" stroke="currentColor" stroke-width="2" stroke-linecap="round" vector-effect="non-scaling-stroke" />
</svg>
</span>
        </span>
      
        <span data-view-component="true" class="ActionListItem-label">
          

  <span class="color-fg-muted">
    Loading...
  </span>

</span></button>
  
  
</li>

        
          
<li data-item-id="" data-targets="nav-list.items" data-view-component="true" class="ActionListItem">
    
    <a data-analytics-event="{&quot;category&quot;:&quot;Global navigation&quot;,&quot;action&quot;:&quot;SETTINGS&quot;,&quot;label&quot;:null}" id="item-63df9cb3-7dc0-4fa0-a260-ea81112cd5ce" href="/settings/profile" data-view-component="true" class="ActionListContent ActionListContent--visual16">
        <span class="ActionListItem-visual ActionListItem-visual--leading">
          <svg aria-hidden="true" height="16" viewBox="0 0 16 16" version="1.1" width="16" data-view-component="true" class="octicon octicon-gear">
    <path d="M8 0a8.2 8.2 0 0 1 .701.031C9.444.095 9.99.645 10.16 1.29l.288 1.107c.018.066.079.158.212.224.231.114.454.243.668.386.123.082.233.09.299.071l1.103-.303c.644-.176 1.392.021 1.82.63.27.385.506.792.704 1.218.315.675.111 1.422-.364 1.891l-.814.806c-.049.048-.098.147-.088.294.016.257.016.515 0 .772-.01.147.038.246.088.294l.814.806c.475.469.679 1.216.364 1.891a7.977 7.977 0 0 1-.704 1.217c-.428.61-1.176.807-1.82.63l-1.102-.302c-.067-.019-.177-.011-.3.071a5.909 5.909 0 0 1-.668.386c-.133.066-.194.158-.211.224l-.29 1.106c-.168.646-.715 1.196-1.458 1.26a8.006 8.006 0 0 1-1.402 0c-.743-.064-1.289-.614-1.458-1.26l-.289-1.106c-.018-.066-.079-.158-.212-.224a5.738 5.738 0 0 1-.668-.386c-.123-.082-.233-.09-.299-.071l-1.103.303c-.644.176-1.392-.021-1.82-.63a8.12 8.12 0 0 1-.704-1.218c-.315-.675-.111-1.422.363-1.891l.815-.806c.05-.048.098-.147.088-.294a6.214 6.214 0 0 1 0-.772c.01-.147-.038-.246-.088-.294l-.815-.806C.635 6.045.431 5.298.746 4.623a7.92 7.92 0 0 1 .704-1.217c.428-.61 1.176-.807 1.82-.63l1.102.302c.067.019.177.011.3-.071.214-.143.437-.272.668-.386.133-.066.194-.158.211-.224l.29-1.106C6.009.645 6.556.095 7.299.03 7.53.01 7.764 0 8 0Zm-.571 1.525c-.036.003-.108.036-.137.146l-.289 1.105c-.147.561-.549.967-.998 1.189-.173.086-.34.183-.5.29-.417.278-.97.423-1.529.27l-1.103-.303c-.109-.03-.175.016-.195.045-.22.312-.412.644-.573.99-.014.031-.021.11.059.19l.815.806c.411.406.562.957.53 1.456a4.709 4.709 0 0 0 0 .582c.032.499-.119 1.05-.53 1.456l-.815.806c-.081.08-.073.159-.059.19.162.346.353.677.573.989.02.03.085.076.195.046l1.102-.303c.56-.153 1.113-.008 1.53.27.161.107.328.204.501.29.447.222.85.629.997 1.189l.289 1.105c.029.109.101.143.137.146a6.6 6.6 0 0 0 1.142 0c.036-.003.108-.036.137-.146l.289-1.105c.147-.561.549-.967.998-1.189.173-.086.34-.183.5-.29.417-.278.97-.423 1.529-.27l1.103.303c.109.029.175-.016.195-.045.22-.313.411-.644.573-.99.014-.031.021-.11-.059-.19l-.815-.806c-.411-.406-.562-.957-.53-1.456a4.709 4.709 0 0 0 0-.582c-.032-.499.119-1.05.53-1.456l.815-.806c.081-.08.073-.159.059-.19a6.464 6.464 0 0 0-.573-.989c-.02-.03-.085-.076-.195-.046l-1.102.303c-.56.153-1.113.008-1.53-.27a4.44 4.44 0 0 0-.501-.29c-.447-.222-.85-.629-.997-1.189l-.289-1.105c-.029-.11-.101-.143-.137-.146a6.6 6.6 0 0 0-1.142 0ZM11 8a3 3 0 1 1-6 0 3 3 0 0 1 6 0ZM9.5 8a1.5 1.5 0 1 0-3.001.001A1.5 1.5 0 0 0 9.5 8Z"></path>
</svg>
        </span>
      
        <span data-view-component="true" class="ActionListItem-label">
          Settings
</span></a>
  
  
</li>

        
          <li role="presentation" aria-hidden="true" data-view-component="true" class="ActionList-sectionDivider"></li>
        
          
<li data-item-id="" data-targets="nav-list.items" data-view-component="true" class="ActionListItem">
    
    <a data-analytics-event="{&quot;category&quot;:&quot;Global navigation&quot;,&quot;action&quot;:&quot;DOCS&quot;,&quot;label&quot;:null}" id="item-e5202cbb-ab75-480e-8d8b-e9075a8cf493" href="https://docs.github.com" data-view-component="true" class="ActionListContent ActionListContent--visual16">
        <span class="ActionListItem-visual ActionListItem-visual--leading">
          <svg aria-hidden="true" height="16" viewBox="0 0 16 16" version="1.1" width="16" data-view-component="true" class="octicon octicon-book">
    <path d="M0 1.75A.75.75 0 0 1 .75 1h4.253c1.227 0 2.317.59 3 1.501A3.743 3.743 0 0 1 11.006 1h4.245a.75.75 0 0 1 .75.75v10.5a.75.75 0 0 1-.75.75h-4.507a2.25 2.25 0 0 0-1.591.659l-.622.621a.75.75 0 0 1-1.06 0l-.622-.621A2.25 2.25 0 0 0 5.258 13H.75a.75.75 0 0 1-.75-.75Zm7.251 10.324.004-5.073-.002-2.253A2.25 2.25 0 0 0 5.003 2.5H1.5v9h3.757a3.75 3.75 0 0 1 1.994.574ZM8.755 4.75l-.004 7.322a3.752 3.752 0 0 1 1.992-.572H14.5v-9h-3.495a2.25 2.25 0 0 0-2.25 2.25Z"></path>
</svg>
        </span>
      
        <span data-view-component="true" class="ActionListItem-label">
          GitHub Docs
</span></a>
  
  
</li>

        
          
<li data-item-id="" data-targets="nav-list.items" data-view-component="true" class="ActionListItem">
    
    <a data-analytics-event="{&quot;category&quot;:&quot;Global navigation&quot;,&quot;action&quot;:&quot;SUPPORT&quot;,&quot;label&quot;:null}" id="item-e0f06a59-59e0-4ed1-8cd0-9e24af1d8277" href="https://support.github.com" data-view-component="true" class="ActionListContent ActionListContent--visual16">
        <span class="ActionListItem-visual ActionListItem-visual--leading">
          <svg aria-hidden="true" height="16" viewBox="0 0 16 16" version="1.1" width="16" data-view-component="true" class="octicon octicon-people">
    <path d="M2 5.5a3.5 3.5 0 1 1 5.898 2.549 5.508 5.508 0 0 1 3.034 4.084.75.75 0 1 1-1.482.235 4 4 0 0 0-7.9 0 .75.75 0 0 1-1.482-.236A5.507 5.507 0 0 1 3.102 8.05 3.493 3.493 0 0 1 2 5.5ZM11 4a3.001 3.001 0 0 1 2.22 5.018 5.01 5.01 0 0 1 2.56 3.012.749.749 0 0 1-.885.954.752.752 0 0 1-.549-.514 3.507 3.507 0 0 0-2.522-2.372.75.75 0 0 1-.574-.73v-.352a.75.75 0 0 1 .416-.672A1.5 1.5 0 0 0 11 5.5.75.75 0 0 1 11 4Zm-5.5-.5a2 2 0 1 0-.001 3.999A2 2 0 0 0 5.5 3.5Z"></path>
</svg>
        </span>
      
        <span data-view-component="true" class="ActionListItem-label">
          GitHub Support
</span></a>
  
  
</li>

        
          <li role="presentation" aria-hidden="true" data-view-component="true" class="ActionList-sectionDivider"></li>
        
          
<li data-item-id="" data-targets="nav-list.items" data-view-component="true" class="ActionListItem">
    
    <a data-analytics-event="{&quot;category&quot;:&quot;Global navigation&quot;,&quot;action&quot;:&quot;LOGOUT&quot;,&quot;label&quot;:null}" id="item-896c3213-6d5a-467b-b145-143b5e6b0d3a" href="/logout" data-view-component="true" class="ActionListContent">
      
        <span data-view-component="true" class="ActionListItem-label">
          Sign out
</span></a>
  
  
</li>

</ul>  </nav-list>
</nav>


</div>
      
</modal-dialog></div>
  </user-drawer-side-panel>

  </include-fragment>
</deferred-side-panel>
        </div>

        <div class="position-absolute mt-2">
            
<site-header-logged-in-user-menu>

</site-header-logged-in-user-menu>

        </div>
      </div>
    </div>


      <div class="AppHeader-localBar" >
        <nav data-pjax="#js-repo-pjax-container" aria-label="Repository" data-view-component="true" class="js-repo-nav js-sidenav-container-pjax js-responsive-underlinenav overflow-hidden UnderlineNav">

  <ul data-view-component="true" class="UnderlineNav-body list-style-none">
      <li data-view-component="true" class="d-inline-flex">
  <a id="code-tab" href="/zulkaidaakbar/NLP-STTCipasung2022" data-tab-item="i0code-tab" data-selected-links="repo_source repo_downloads repo_commits repo_releases repo_tags repo_branches repo_packages repo_deployments /zulkaidaakbar/NLP-STTCipasung2022" data-pjax="#repo-content-pjax-container" data-turbo-frame="repo-content-turbo-frame" data-hotkey="g c" data-analytics-event="{&quot;category&quot;:&quot;Underline navbar&quot;,&quot;action&quot;:&quot;Click tab&quot;,&quot;label&quot;:&quot;Code&quot;,&quot;target&quot;:&quot;UNDERLINE_NAV.TAB&quot;}" data-view-component="true" class="UnderlineNav-item no-wrap js-responsive-underlinenav-item js-selected-navigation-item">
    
              <svg aria-hidden="true" height="16" viewBox="0 0 16 16" version="1.1" width="16" data-view-component="true" class="octicon octicon-code UnderlineNav-octicon d-none d-sm-inline">
    <path d="m11.28 3.22 4.25 4.25a.75.75 0 0 1 0 1.06l-4.25 4.25a.749.749 0 0 1-1.275-.326.749.749 0 0 1 .215-.734L13.94 8l-3.72-3.72a.749.749 0 0 1 .326-1.275.749.749 0 0 1 .734.215Zm-6.56 0a.751.751 0 0 1 1.042.018.751.751 0 0 1 .018 1.042L2.06 8l3.72 3.72a.749.749 0 0 1-.326 1.275.749.749 0 0 1-.734-.215L.47 8.53a.75.75 0 0 1 0-1.06Z"></path>
</svg>
        <span data-content="Code">Code</span>
          <span id="code-repo-tab-count" data-pjax-replace="" data-turbo-replace="" title="Not available" data-view-component="true" class="Counter"></span>


    
</a></li>
      <li data-view-component="true" class="d-inline-flex">
  <a id="issues-tab" href="/zulkaidaakbar/NLP-STTCipasung2022/issues" data-tab-item="i1issues-tab" data-selected-links="repo_issues repo_labels repo_milestones /zulkaidaakbar/NLP-STTCipasung2022/issues" data-pjax="#repo-content-pjax-container" data-turbo-frame="repo-content-turbo-frame" data-hotkey="g i" data-analytics-event="{&quot;category&quot;:&quot;Underline navbar&quot;,&quot;action&quot;:&quot;Click tab&quot;,&quot;label&quot;:&quot;Issues&quot;,&quot;target&quot;:&quot;UNDERLINE_NAV.TAB&quot;}" data-view-component="true" class="UnderlineNav-item no-wrap js-responsive-underlinenav-item js-selected-navigation-item">
    
              <svg aria-hidden="true" height="16" viewBox="0 0 16 16" version="1.1" width="16" data-view-component="true" class="octicon octicon-issue-opened UnderlineNav-octicon d-none d-sm-inline">
    <path d="M8 9.5a1.5 1.5 0 1 0 0-3 1.5 1.5 0 0 0 0 3Z"></path><path d="M8 0a8 8 0 1 1 0 16A8 8 0 0 1 8 0ZM1.5 8a6.5 6.5 0 1 0 13 0 6.5 6.5 0 0 0-13 0Z"></path>
</svg>
        <span data-content="Issues">Issues</span>
          <span id="issues-repo-tab-count" data-pjax-replace="" data-turbo-replace="" title="0" hidden="hidden" data-view-component="true" class="Counter">0</span>


    
</a></li>
      <li data-view-component="true" class="d-inline-flex">
  <a id="pull-requests-tab" href="/zulkaidaakbar/NLP-STTCipasung2022/pulls" data-tab-item="i2pull-requests-tab" data-selected-links="repo_pulls checks /zulkaidaakbar/NLP-STTCipasung2022/pulls" data-pjax="#repo-content-pjax-container" data-turbo-frame="repo-content-turbo-frame" data-hotkey="g p" data-analytics-event="{&quot;category&quot;:&quot;Underline navbar&quot;,&quot;action&quot;:&quot;Click tab&quot;,&quot;label&quot;:&quot;Pull requests&quot;,&quot;target&quot;:&quot;UNDERLINE_NAV.TAB&quot;}" data-view-component="true" class="UnderlineNav-item no-wrap js-responsive-underlinenav-item js-selected-navigation-item">
    
              <svg aria-hidden="true" height="16" viewBox="0 0 16 16" version="1.1" width="16" data-view-component="true" class="octicon octicon-git-pull-request UnderlineNav-octicon d-none d-sm-inline">
    <path d="M1.5 3.25a2.25 2.25 0 1 1 3 2.122v5.256a2.251 2.251 0 1 1-1.5 0V5.372A2.25 2.25 0 0 1 1.5 3.25Zm5.677-.177L9.573.677A.25.25 0 0 1 10 .854V2.5h1A2.5 2.5 0 0 1 13.5 5v5.628a2.251 2.251 0 1 1-1.5 0V5a1 1 0 0 0-1-1h-1v1.646a.25.25 0 0 1-.427.177L7.177 3.427a.25.25 0 0 1 0-.354ZM3.75 2.5a.75.75 0 1 0 0 1.5.75.75 0 0 0 0-1.5Zm0 9.5a.75.75 0 1 0 0 1.5.75.75 0 0 0 0-1.5Zm8.25.75a.75.75 0 1 0 1.5 0 .75.75 0 0 0-1.5 0Z"></path>
</svg>
        <span data-content="Pull requests">Pull requests</span>
          <span id="pull-requests-repo-tab-count" data-pjax-replace="" data-turbo-replace="" title="0" hidden="hidden" data-view-component="true" class="Counter">0</span>


    
</a></li>
      <li data-view-component="true" class="d-inline-flex">
  <a id="actions-tab" href="/zulkaidaakbar/NLP-STTCipasung2022/actions" data-tab-item="i3actions-tab" data-selected-links="repo_actions /zulkaidaakbar/NLP-STTCipasung2022/actions" data-pjax="#repo-content-pjax-container" data-turbo-frame="repo-content-turbo-frame" data-hotkey="g a" data-analytics-event="{&quot;category&quot;:&quot;Underline navbar&quot;,&quot;action&quot;:&quot;Click tab&quot;,&quot;label&quot;:&quot;Actions&quot;,&quot;target&quot;:&quot;UNDERLINE_NAV.TAB&quot;}" data-view-component="true" class="UnderlineNav-item no-wrap js-responsive-underlinenav-item js-selected-navigation-item">
    
              <svg aria-hidden="true" height="16" viewBox="0 0 16 16" version="1.1" width="16" data-view-component="true" class="octicon octicon-play UnderlineNav-octicon d-none d-sm-inline">
    <path d="M8 0a8 8 0 1 1 0 16A8 8 0 0 1 8 0ZM1.5 8a6.5 6.5 0 1 0 13 0 6.5 6.5 0 0 0-13 0Zm4.879-2.773 4.264 2.559a.25.25 0 0 1 0 .428l-4.264 2.559A.25.25 0 0 1 6 10.559V5.442a.25.25 0 0 1 .379-.215Z"></path>
</svg>
        <span data-content="Actions">Actions</span>
          <span id="actions-repo-tab-count" data-pjax-replace="" data-turbo-replace="" title="Not available" data-view-component="true" class="Counter"></span>


    
</a></li>
      <li data-view-component="true" class="d-inline-flex">
  <a id="projects-tab" href="/zulkaidaakbar/NLP-STTCipasung2022/projects" data-tab-item="i4projects-tab" data-selected-links="repo_projects new_repo_project repo_project /zulkaidaakbar/NLP-STTCipasung2022/projects" data-pjax="#repo-content-pjax-container" data-turbo-frame="repo-content-turbo-frame" data-hotkey="g b" data-analytics-event="{&quot;category&quot;:&quot;Underline navbar&quot;,&quot;action&quot;:&quot;Click tab&quot;,&quot;label&quot;:&quot;Projects&quot;,&quot;target&quot;:&quot;UNDERLINE_NAV.TAB&quot;}" data-view-component="true" class="UnderlineNav-item no-wrap js-responsive-underlinenav-item js-selected-navigation-item">
    
              <svg aria-hidden="true" height="16" viewBox="0 0 16 16" version="1.1" width="16" data-view-component="true" class="octicon octicon-table UnderlineNav-octicon d-none d-sm-inline">
    <path d="M0 1.75C0 .784.784 0 1.75 0h12.5C15.216 0 16 .784 16 1.75v12.5A1.75 1.75 0 0 1 14.25 16H1.75A1.75 1.75 0 0 1 0 14.25ZM6.5 6.5v8h7.75a.25.25 0 0 0 .25-.25V6.5Zm8-1.5V1.75a.25.25 0 0 0-.25-.25H6.5V5Zm-13 1.5v7.75c0 .138.112.25.25.25H5v-8ZM5 5V1.5H1.75a.25.25 0 0 0-.25.25V5Z"></path>
</svg>
        <span data-content="Projects">Projects</span>
          <span id="projects-repo-tab-count" data-pjax-replace="" data-turbo-replace="" title="0" hidden="hidden" data-view-component="true" class="Counter">0</span>


    
</a></li>
      <li data-view-component="true" class="d-inline-flex">
  <a id="wiki-tab" href="/zulkaidaakbar/NLP-STTCipasung2022/wiki" data-tab-item="i5wiki-tab" data-selected-links="repo_wiki /zulkaidaakbar/NLP-STTCipasung2022/wiki" data-pjax="#repo-content-pjax-container" data-turbo-frame="repo-content-turbo-frame" data-hotkey="g w" data-analytics-event="{&quot;category&quot;:&quot;Underline navbar&quot;,&quot;action&quot;:&quot;Click tab&quot;,&quot;label&quot;:&quot;Wiki&quot;,&quot;target&quot;:&quot;UNDERLINE_NAV.TAB&quot;}" data-view-component="true" class="UnderlineNav-item no-wrap js-responsive-underlinenav-item js-selected-navigation-item">
    
              <svg aria-hidden="true" height="16" viewBox="0 0 16 16" version="1.1" width="16" data-view-component="true" class="octicon octicon-book UnderlineNav-octicon d-none d-sm-inline">
    <path d="M0 1.75A.75.75 0 0 1 .75 1h4.253c1.227 0 2.317.59 3 1.501A3.743 3.743 0 0 1 11.006 1h4.245a.75.75 0 0 1 .75.75v10.5a.75.75 0 0 1-.75.75h-4.507a2.25 2.25 0 0 0-1.591.659l-.622.621a.75.75 0 0 1-1.06 0l-.622-.621A2.25 2.25 0 0 0 5.258 13H.75a.75.75 0 0 1-.75-.75Zm7.251 10.324.004-5.073-.002-2.253A2.25 2.25 0 0 0 5.003 2.5H1.5v9h3.757a3.75 3.75 0 0 1 1.994.574ZM8.755 4.75l-.004 7.322a3.752 3.752 0 0 1 1.992-.572H14.5v-9h-3.495a2.25 2.25 0 0 0-2.25 2.25Z"></path>
</svg>
        <span data-content="Wiki">Wiki</span>
          <span id="wiki-repo-tab-count" data-pjax-replace="" data-turbo-replace="" title="Not available" data-view-component="true" class="Counter"></span>


    
</a></li>
      <li data-view-component="true" class="d-inline-flex">
  <a id="security-tab" href="/zulkaidaakbar/NLP-STTCipasung2022/security" data-tab-item="i6security-tab" data-selected-links="security overview alerts policy token_scanning code_scanning /zulkaidaakbar/NLP-STTCipasung2022/security" data-pjax="#repo-content-pjax-container" data-turbo-frame="repo-content-turbo-frame" data-hotkey="g s" data-analytics-event="{&quot;category&quot;:&quot;Underline navbar&quot;,&quot;action&quot;:&quot;Click tab&quot;,&quot;label&quot;:&quot;Security&quot;,&quot;target&quot;:&quot;UNDERLINE_NAV.TAB&quot;}" data-view-component="true" class="UnderlineNav-item no-wrap js-responsive-underlinenav-item js-selected-navigation-item">
    
              <svg aria-hidden="true" height="16" viewBox="0 0 16 16" version="1.1" width="16" data-view-component="true" class="octicon octicon-shield UnderlineNav-octicon d-none d-sm-inline">
    <path d="M7.467.133a1.748 1.748 0 0 1 1.066 0l5.25 1.68A1.75 1.75 0 0 1 15 3.48V7c0 1.566-.32 3.182-1.303 4.682-.983 1.498-2.585 2.813-5.032 3.855a1.697 1.697 0 0 1-1.33 0c-2.447-1.042-4.049-2.357-5.032-3.855C1.32 10.182 1 8.566 1 7V3.48a1.75 1.75 0 0 1 1.217-1.667Zm.61 1.429a.25.25 0 0 0-.153 0l-5.25 1.68a.25.25 0 0 0-.174.238V7c0 1.358.275 2.666 1.057 3.86.784 1.194 2.121 2.34 4.366 3.297a.196.196 0 0 0 .154 0c2.245-.956 3.582-2.104 4.366-3.298C13.225 9.666 13.5 8.36 13.5 7V3.48a.251.251 0 0 0-.174-.237l-5.25-1.68ZM8.75 4.75v3a.75.75 0 0 1-1.5 0v-3a.75.75 0 0 1 1.5 0ZM9 10.5a1 1 0 1 1-2 0 1 1 0 0 1 2 0Z"></path>
</svg>
        <span data-content="Security">Security</span>
          <include-fragment src="/zulkaidaakbar/NLP-STTCipasung2022/security/overall-count" accept="text/fragment+html"></include-fragment>

    
</a></li>
      <li data-view-component="true" class="d-inline-flex">
  <a id="insights-tab" href="/zulkaidaakbar/NLP-STTCipasung2022/pulse" data-tab-item="i7insights-tab" data-selected-links="repo_graphs repo_contributors dependency_graph dependabot_updates pulse people community /zulkaidaakbar/NLP-STTCipasung2022/pulse" data-pjax="#repo-content-pjax-container" data-turbo-frame="repo-content-turbo-frame" data-analytics-event="{&quot;category&quot;:&quot;Underline navbar&quot;,&quot;action&quot;:&quot;Click tab&quot;,&quot;label&quot;:&quot;Insights&quot;,&quot;target&quot;:&quot;UNDERLINE_NAV.TAB&quot;}" data-view-component="true" class="UnderlineNav-item no-wrap js-responsive-underlinenav-item js-selected-navigation-item">
    
              <svg aria-hidden="true" height="16" viewBox="0 0 16 16" version="1.1" width="16" data-view-component="true" class="octicon octicon-graph UnderlineNav-octicon d-none d-sm-inline">
    <path d="M1.5 1.75V13.5h13.75a.75.75 0 0 1 0 1.5H.75a.75.75 0 0 1-.75-.75V1.75a.75.75 0 0 1 1.5 0Zm14.28 2.53-5.25 5.25a.75.75 0 0 1-1.06 0L7 7.06 4.28 9.78a.751.751 0 0 1-1.042-.018.751.751 0 0 1-.018-1.042l3.25-3.25a.75.75 0 0 1 1.06 0L10 7.94l4.72-4.72a.751.751 0 0 1 1.042.018.751.751 0 0 1 .018 1.042Z"></path>
</svg>
        <span data-content="Insights">Insights</span>
          <span id="insights-repo-tab-count" data-pjax-replace="" data-turbo-replace="" title="Not available" data-view-component="true" class="Counter"></span>


    
</a></li>
      <li data-view-component="true" class="d-inline-flex">
  <a id="settings-tab" href="/zulkaidaakbar/NLP-STTCipasung2022/settings" data-tab-item="i8settings-tab" data-selected-links="code_review_limits codespaces_repository_settings collaborators custom_tabs hooks integration_installations interaction_limits issue_template_editor key_links_settings notifications repo_actions_settings repo_announcements repo_branch_settings repo_keys_settings repo_pages_settings repo_issue_types repo_rule_insights repo_rulesets repo_protected_tags_settings repo_settings reported_content repo_custom_properties repository_actions_settings_add_new_runner repository_actions_settings_general repository_actions_settings_runners repository_environments role_details secrets secrets_settings_actions secrets_settings_codespaces secrets_settings_dependabot security_analysis /zulkaidaakbar/NLP-STTCipasung2022/settings" data-pjax="#repo-content-pjax-container" data-turbo-frame="repo-content-turbo-frame" data-analytics-event="{&quot;category&quot;:&quot;Underline navbar&quot;,&quot;action&quot;:&quot;Click tab&quot;,&quot;label&quot;:&quot;Settings&quot;,&quot;target&quot;:&quot;UNDERLINE_NAV.TAB&quot;}" data-view-component="true" class="UnderlineNav-item no-wrap js-responsive-underlinenav-item js-selected-navigation-item">
    
              <svg aria-hidden="true" height="16" viewBox="0 0 16 16" version="1.1" width="16" data-view-component="true" class="octicon octicon-gear UnderlineNav-octicon d-none d-sm-inline">
    <path d="M8 0a8.2 8.2 0 0 1 .701.031C9.444.095 9.99.645 10.16 1.29l.288 1.107c.018.066.079.158.212.224.231.114.454.243.668.386.123.082.233.09.299.071l1.103-.303c.644-.176 1.392.021 1.82.63.27.385.506.792.704 1.218.315.675.111 1.422-.364 1.891l-.814.806c-.049.048-.098.147-.088.294.016.257.016.515 0 .772-.01.147.038.246.088.294l.814.806c.475.469.679 1.216.364 1.891a7.977 7.977 0 0 1-.704 1.217c-.428.61-1.176.807-1.82.63l-1.102-.302c-.067-.019-.177-.011-.3.071a5.909 5.909 0 0 1-.668.386c-.133.066-.194.158-.211.224l-.29 1.106c-.168.646-.715 1.196-1.458 1.26a8.006 8.006 0 0 1-1.402 0c-.743-.064-1.289-.614-1.458-1.26l-.289-1.106c-.018-.066-.079-.158-.212-.224a5.738 5.738 0 0 1-.668-.386c-.123-.082-.233-.09-.299-.071l-1.103.303c-.644.176-1.392-.021-1.82-.63a8.12 8.12 0 0 1-.704-1.218c-.315-.675-.111-1.422.363-1.891l.815-.806c.05-.048.098-.147.088-.294a6.214 6.214 0 0 1 0-.772c.01-.147-.038-.246-.088-.294l-.815-.806C.635 6.045.431 5.298.746 4.623a7.92 7.92 0 0 1 .704-1.217c.428-.61 1.176-.807 1.82-.63l1.102.302c.067.019.177.011.3-.071.214-.143.437-.272.668-.386.133-.066.194-.158.211-.224l.29-1.106C6.009.645 6.556.095 7.299.03 7.53.01 7.764 0 8 0Zm-.571 1.525c-.036.003-.108.036-.137.146l-.289 1.105c-.147.561-.549.967-.998 1.189-.173.086-.34.183-.5.29-.417.278-.97.423-1.529.27l-1.103-.303c-.109-.03-.175.016-.195.045-.22.312-.412.644-.573.99-.014.031-.021.11.059.19l.815.806c.411.406.562.957.53 1.456a4.709 4.709 0 0 0 0 .582c.032.499-.119 1.05-.53 1.456l-.815.806c-.081.08-.073.159-.059.19.162.346.353.677.573.989.02.03.085.076.195.046l1.102-.303c.56-.153 1.113-.008 1.53.27.161.107.328.204.501.29.447.222.85.629.997 1.189l.289 1.105c.029.109.101.143.137.146a6.6 6.6 0 0 0 1.142 0c.036-.003.108-.036.137-.146l.289-1.105c.147-.561.549-.967.998-1.189.173-.086.34-.183.5-.29.417-.278.97-.423 1.529-.27l1.103.303c.109.029.175-.016.195-.045.22-.313.411-.644.573-.99.014-.031.021-.11-.059-.19l-.815-.806c-.411-.406-.562-.957-.53-1.456a4.709 4.709 0 0 0 0-.582c-.032-.499.119-1.05.53-1.456l.815-.806c.081-.08.073-.159.059-.19a6.464 6.464 0 0 0-.573-.989c-.02-.03-.085-.076-.195-.046l-1.102.303c-.56.153-1.113.008-1.53-.27a4.44 4.44 0 0 0-.501-.29c-.447-.222-.85-.629-.997-1.189l-.289-1.105c-.029-.11-.101-.143-.137-.146a6.6 6.6 0 0 0-1.142 0ZM11 8a3 3 0 1 1-6 0 3 3 0 0 1 6 0ZM9.5 8a1.5 1.5 0 1 0-3.001.001A1.5 1.5 0 0 0 9.5 8Z"></path>
</svg>
        <span data-content="Settings">Settings</span>
          <span id="settings-repo-tab-count" data-pjax-replace="" data-turbo-replace="" title="Not available" data-view-component="true" class="Counter"></span>


    
</a></li>
</ul>
    <div style="visibility:hidden;" data-view-component="true" class="UnderlineNav-actions js-responsive-underlinenav-overflow position-absolute pr-3 pr-md-4 pr-lg-5 right-0">        <details data-view-component="true" class="details-overlay details-reset position-relative">
    <summary role="button" data-view-component="true">          <div class="UnderlineNav-item mr-0 border-0">
            <svg aria-hidden="true" height="16" viewBox="0 0 16 16" version="1.1" width="16" data-view-component="true" class="octicon octicon-kebab-horizontal">
    <path d="M8 9a1.5 1.5 0 1 0 0-3 1.5 1.5 0 0 0 0 3ZM1.5 9a1.5 1.5 0 1 0 0-3 1.5 1.5 0 0 0 0 3Zm13 0a1.5 1.5 0 1 0 0-3 1.5 1.5 0 0 0 0 3Z"></path>
</svg>
            <span class="sr-only">More</span>
          </div>
</summary>
    <details-menu role="menu" data-view-component="true" class="dropdown-menu dropdown-menu-sw">
          <ul>
              <li data-menu-item="i0code-tab" hidden>
                <a role="menuitem" class="js-selected-navigation-item dropdown-item" data-selected-links="repo_source repo_downloads repo_commits repo_releases repo_tags repo_branches repo_packages repo_deployments /zulkaidaakbar/NLP-STTCipasung2022" href="/zulkaidaakbar/NLP-STTCipasung2022">
                  Code
</a>              </li>
              <li data-menu-item="i1issues-tab" hidden>
                <a role="menuitem" class="js-selected-navigation-item dropdown-item" data-selected-links="repo_issues repo_labels repo_milestones /zulkaidaakbar/NLP-STTCipasung2022/issues" href="/zulkaidaakbar/NLP-STTCipasung2022/issues">
                  Issues
</a>              </li>
              <li data-menu-item="i2pull-requests-tab" hidden>
                <a role="menuitem" class="js-selected-navigation-item dropdown-item" data-selected-links="repo_pulls checks /zulkaidaakbar/NLP-STTCipasung2022/pulls" href="/zulkaidaakbar/NLP-STTCipasung2022/pulls">
                  Pull requests
</a>              </li>
              <li data-menu-item="i3actions-tab" hidden>
                <a role="menuitem" class="js-selected-navigation-item dropdown-item" data-selected-links="repo_actions /zulkaidaakbar/NLP-STTCipasung2022/actions" href="/zulkaidaakbar/NLP-STTCipasung2022/actions">
                  Actions
</a>              </li>
              <li data-menu-item="i4projects-tab" hidden>
                <a role="menuitem" class="js-selected-navigation-item dropdown-item" data-selected-links="repo_projects new_repo_project repo_project /zulkaidaakbar/NLP-STTCipasung2022/projects" href="/zulkaidaakbar/NLP-STTCipasung2022/projects">
                  Projects
</a>              </li>
              <li data-menu-item="i5wiki-tab" hidden>
                <a role="menuitem" class="js-selected-navigation-item dropdown-item" data-selected-links="repo_wiki /zulkaidaakbar/NLP-STTCipasung2022/wiki" href="/zulkaidaakbar/NLP-STTCipasung2022/wiki">
                  Wiki
</a>              </li>
              <li data-menu-item="i6security-tab" hidden>
                <a role="menuitem" class="js-selected-navigation-item dropdown-item" data-selected-links="security overview alerts policy token_scanning code_scanning /zulkaidaakbar/NLP-STTCipasung2022/security" href="/zulkaidaakbar/NLP-STTCipasung2022/security">
                  Security
</a>              </li>
              <li data-menu-item="i7insights-tab" hidden>
                <a role="menuitem" class="js-selected-navigation-item dropdown-item" data-selected-links="repo_graphs repo_contributors dependency_graph dependabot_updates pulse people community /zulkaidaakbar/NLP-STTCipasung2022/pulse" href="/zulkaidaakbar/NLP-STTCipasung2022/pulse">
                  Insights
</a>              </li>
              <li data-menu-item="i8settings-tab" hidden>
                <a role="menuitem" class="js-selected-navigation-item dropdown-item" data-selected-links="code_review_limits codespaces_repository_settings collaborators custom_tabs hooks integration_installations interaction_limits issue_template_editor key_links_settings notifications repo_actions_settings repo_announcements repo_branch_settings repo_keys_settings repo_pages_settings repo_issue_types repo_rule_insights repo_rulesets repo_protected_tags_settings repo_settings reported_content repo_custom_properties repository_actions_settings_add_new_runner repository_actions_settings_general repository_actions_settings_runners repository_environments role_details secrets secrets_settings_actions secrets_settings_codespaces secrets_settings_dependabot security_analysis /zulkaidaakbar/NLP-STTCipasung2022/settings" href="/zulkaidaakbar/NLP-STTCipasung2022/settings">
                  Settings
</a>              </li>
          </ul>
</details-menu>
</details></div>
</nav>
      </div>
</header>


      <div hidden="hidden" data-view-component="true" class="js-stale-session-flash flash flash-warn mb-3">
  
        <svg aria-hidden="true" height="16" viewBox="0 0 16 16" version="1.1" width="16" data-view-component="true" class="octicon octicon-alert">
    <path d="M6.457 1.047c.659-1.234 2.427-1.234 3.086 0l6.082 11.378A1.75 1.75 0 0 1 14.082 15H1.918a1.75 1.75 0 0 1-1.543-2.575Zm1.763.707a.25.25 0 0 0-.44 0L1.698 13.132a.25.25 0 0 0 .22.368h12.164a.25.25 0 0 0 .22-.368Zm.53 3.996v2.5a.75.75 0 0 1-1.5 0v-2.5a.75.75 0 0 1 1.5 0ZM9 11a1 1 0 1 1-2 0 1 1 0 0 1 2 0Z"></path>
</svg>
        <span class="js-stale-session-flash-signed-in" hidden>You signed in with another tab or window. <a class="Link--inTextBlock" href="">Reload</a> to refresh your session.</span>
        <span class="js-stale-session-flash-signed-out" hidden>You signed out in another tab or window. <a class="Link--inTextBlock" href="">Reload</a> to refresh your session.</span>
        <span class="js-stale-session-flash-switched" hidden>You switched accounts on another tab or window. <a class="Link--inTextBlock" href="">Reload</a> to refresh your session.</span>

    <div data-view-component="true" class="flash-close">
  <button id="icon-button-8c6cc2b6-500c-4134-86fc-9e4f5e6a6a2a" type="button" data-view-component="true" class="Button Button--iconOnly Button--invisible Button--medium js-flash-close">    <svg aria-hidden="true" height="16" viewBox="0 0 16 16" version="1.1" width="16" data-view-component="true" class="octicon octicon-x Button-visual">
    <path d="M3.72 3.72a.75.75 0 0 1 1.06 0L8 6.94l3.22-3.22a.749.749 0 0 1 1.275.326.749.749 0 0 1-.215.734L9.06 8l3.22 3.22a.749.749 0 0 1-.326 1.275.749.749 0 0 1-.734-.215L8 9.06l-3.22 3.22a.751.751 0 0 1-1.042-.018.751.751 0 0 1-.018-1.042L6.94 8 3.72 4.78a.75.75 0 0 1 0-1.06Z"></path>
</svg>
</button>  <tool-tip id="tooltip-fc6180de-829a-4f60-9dfe-128cb10f5d39" for="icon-button-8c6cc2b6-500c-4134-86fc-9e4f5e6a6a2a" popover="manual" data-direction="s" data-type="label" data-view-component="true" class="sr-only position-absolute">Dismiss alert</tool-tip>
</div>

  
</div>
          
    </div>

  <div id="start-of-content" class="show-on-focus"></div>








    <div id="js-flash-container" data-turbo-replace>





  <template class="js-flash-template">
    
<div class="flash flash-full   {{ className }}">
  <div class="px-2" >
    <button autofocus class="flash-close js-flash-close" type="button" aria-label="Dismiss this message">
      <svg aria-hidden="true" height="16" viewBox="0 0 16 16" version="1.1" width="16" data-view-component="true" class="octicon octicon-x">
    <path d="M3.72 3.72a.75.75 0 0 1 1.06 0L8 6.94l3.22-3.22a.749.749 0 0 1 1.275.326.749.749 0 0 1-.215.734L9.06 8l3.22 3.22a.749.749 0 0 1-.326 1.275.749.749 0 0 1-.734-.215L8 9.06l-3.22 3.22a.751.751 0 0 1-1.042-.018.751.751 0 0 1-.018-1.042L6.94 8 3.72 4.78a.75.75 0 0 1 0-1.06Z"></path>
</svg>
    </button>
    <div aria-atomic="true" role="alert" class="js-flash-alert">
      
      <div>{{ message }}</div>

    </div>
  </div>
</div>
  </template>
</div>


    
    <notification-shelf-watcher data-base-url="https://github.com/notifications/beta/shelf" data-channel="eyJjIjoibm90aWZpY2F0aW9uLWNoYW5nZWQ6NjgyOTc0MzgiLCJ0IjoxNjk0NjQ0MTU5fQ==--349aedae19a2a829b254786206ce0c48042a75b95d46b3213245355daa5ede02" data-view-component="true" class="js-socket-channel"></notification-shelf-watcher>
  <div hidden data-initial data-target="notification-shelf-watcher.placeholder"></div>






      <details
  class="details-reset details-overlay details-overlay-dark js-command-palette-dialog"
  id="command-palette-pjax-container"
  data-turbo-replace
>
  <summary aria-label="command palette trigger" tabindex="-1"></summary>
  <details-dialog class="command-palette-details-dialog d-flex flex-column flex-justify-center height-fit" aria-label="command palette">
    <command-palette
      class="command-palette color-bg-default rounded-3 border color-shadow-small"
      return-to=/zulkaidaakbar/NLP-STTCipasung2022/blob/main/20-September-2022/NLP-BahasaIndonesia.ipynb
      user-id="68297438"
      activation-hotkey="Mod+k,Mod+Alt+k"
      command-mode-hotkey="Mod+Shift+k"
      data-action="
        command-palette-input-ready:command-palette#inputReady
        command-palette-page-stack-updated:command-palette#updateInputScope
        itemsUpdated:command-palette#itemsUpdated
        keydown:command-palette#onKeydown
        loadingStateChanged:command-palette#loadingStateChanged
        selectedItemChanged:command-palette#selectedItemChanged
        pageFetchError:command-palette#pageFetchError
      ">

        <command-palette-mode
          data-char="#"
            data-scope-types="[&quot;&quot;]"
            data-placeholder="Search issues and pull requests"
        ></command-palette-mode>
        <command-palette-mode
          data-char="#"
            data-scope-types="[&quot;owner&quot;,&quot;repository&quot;]"
            data-placeholder="Search issues, pull requests, discussions, and projects"
        ></command-palette-mode>
        <command-palette-mode
          data-char="!"
            data-scope-types="[&quot;owner&quot;,&quot;repository&quot;]"
            data-placeholder="Search projects"
        ></command-palette-mode>
        <command-palette-mode
          data-char="@"
            data-scope-types="[&quot;&quot;]"
            data-placeholder="Search or jump to a user, organization, or repository"
        ></command-palette-mode>
        <command-palette-mode
          data-char="@"
            data-scope-types="[&quot;owner&quot;]"
            data-placeholder="Search or jump to a repository"
        ></command-palette-mode>
        <command-palette-mode
          data-char="/"
            data-scope-types="[&quot;repository&quot;]"
            data-placeholder="Search files"
        ></command-palette-mode>
        <command-palette-mode
          data-char="?"
        ></command-palette-mode>
        <command-palette-mode
          data-char="&gt;"
            data-placeholder="Run a command"
        ></command-palette-mode>
        <command-palette-mode
          data-char=""
            data-scope-types="[&quot;&quot;]"
            data-placeholder="Search or jump to..."
        ></command-palette-mode>
        <command-palette-mode
          data-char=""
            data-scope-types="[&quot;owner&quot;]"
            data-placeholder="Search or jump to..."
        ></command-palette-mode>
      <command-palette-mode
        class="js-command-palette-default-mode"
        data-char=""
        data-placeholder="Search or jump to..."
      ></command-palette-mode>

      <command-palette-input placeholder="Search or jump to..."

        data-action="
          command-palette-input:command-palette#onInput
          command-palette-select:command-palette#onSelect
          command-palette-descope:command-palette#onDescope
          command-palette-cleared:command-palette#onInputClear
        "
      >
        <div class="js-search-icon d-flex flex-items-center mr-2" style="height: 26px">
          <svg aria-hidden="true" height="16" viewBox="0 0 16 16" version="1.1" width="16" data-view-component="true" class="octicon octicon-search color-fg-muted">
    <path d="M10.68 11.74a6 6 0 0 1-7.922-8.982 6 6 0 0 1 8.982 7.922l3.04 3.04a.749.749 0 0 1-.326 1.275.749.749 0 0 1-.734-.215ZM11.5 7a4.499 4.499 0 1 0-8.997 0A4.499 4.499 0 0 0 11.5 7Z"></path>
</svg>
        </div>
        <div class="js-spinner d-flex flex-items-center mr-2 color-fg-muted" hidden>
          <svg aria-label="Loading" class="anim-rotate" viewBox="0 0 16 16" fill="none" width="16" height="16">
            <circle
              cx="8"
              cy="8"
              r="7"
              stroke="currentColor"
              stroke-opacity="0.25"
              stroke-width="2"
              vector-effect="non-scaling-stroke"
            ></circle>
            <path
              d="M15 8a7.002 7.002 0 00-7-7"
              stroke="currentColor"
              stroke-width="2"
              stroke-linecap="round"
              vector-effect="non-scaling-stroke"
            ></path>
          </svg>
        </div>
        <command-palette-scope >
          <div data-target="command-palette-scope.placeholder" hidden class="color-fg-subtle">/&nbsp;&nbsp;<span class="text-semibold color-fg-default">...</span>&nbsp;&nbsp;/&nbsp;&nbsp;</div>
              <command-palette-token
                data-text="zulkaidaakbar"
                data-id="MDQ6VXNlcjY4Mjk3NDM4"
                data-type="owner"
                data-value="zulkaidaakbar"
                data-targets="command-palette-scope.tokens"
                class="color-fg-default text-semibold"
                style="white-space:nowrap;line-height:20px;"
                >zulkaidaakbar<span class="color-fg-subtle text-normal">&nbsp;&nbsp;/&nbsp;&nbsp;</span></command-palette-token>
              <command-palette-token
                data-text="NLP-STTCipasung2022"
                data-id="R_kgDOIBZ2Mw"
                data-type="repository"
                data-value="NLP-STTCipasung2022"
                data-targets="command-palette-scope.tokens"
                class="color-fg-default text-semibold"
                style="white-space:nowrap;line-height:20px;"
                >NLP-STTCipasung2022<span class="color-fg-subtle text-normal">&nbsp;&nbsp;/&nbsp;&nbsp;</span></command-palette-token>
        </command-palette-scope>
        <div class="command-palette-input-group flex-1 form-control border-0 box-shadow-none" style="z-index: 0">
          <div class="command-palette-typeahead position-absolute d-flex flex-items-center Truncate">
            <span class="typeahead-segment input-mirror" data-target="command-palette-input.mirror"></span>
            <span class="Truncate-text" data-target="command-palette-input.typeaheadText"></span>
            <span class="typeahead-segment" data-target="command-palette-input.typeaheadPlaceholder"></span>
          </div>
          <input
            class="js-overlay-input typeahead-input d-none"
            disabled
            tabindex="-1"
            aria-label="Hidden input for typeahead"
          >
          <input
            type="text"
            autocomplete="off"
            autocorrect="off"
            autocapitalize="off"
            spellcheck="false"
            class="js-input typeahead-input form-control border-0 box-shadow-none input-block width-full no-focus-indicator"
            aria-label="Command palette input"
            aria-haspopup="listbox"
            aria-expanded="false"
            aria-autocomplete="list"
            aria-controls="command-palette-page-stack"
            role="combobox"
            data-action="
              input:command-palette-input#onInput
              keydown:command-palette-input#onKeydown
            "
          >
        </div>
          <div data-view-component="true" class="position-relative d-inline-block">
    <button aria-keyshortcuts="Control+Backspace" data-action="click:command-palette-input#onClear keypress:command-palette-input#onClear" data-target="command-palette-input.clearButton" id="command-palette-clear-button" hidden="hidden" type="button" data-view-component="true" class="btn-octicon command-palette-input-clear-button">      <svg aria-hidden="true" height="16" viewBox="0 0 16 16" version="1.1" width="16" data-view-component="true" class="octicon octicon-x-circle-fill">
    <path d="M2.343 13.657A8 8 0 1 1 13.658 2.343 8 8 0 0 1 2.343 13.657ZM6.03 4.97a.751.751 0 0 0-1.042.018.751.751 0 0 0-.018 1.042L6.94 8 4.97 9.97a.749.749 0 0 0 .326 1.275.749.749 0 0 0 .734-.215L8 9.06l1.97 1.97a.749.749 0 0 0 1.275-.326.749.749 0 0 0-.215-.734L9.06 8l1.97-1.97a.749.749 0 0 0-.326-1.275.749.749 0 0 0-.734.215L8 6.94Z"></path>
</svg>
</button>    <tool-tip id="tooltip-d45572cc-024c-4578-a8c3-c89f74180795" for="command-palette-clear-button" popover="manual" data-direction="w" data-type="label" data-view-component="true" class="sr-only position-absolute">Clear Command Palette</tool-tip>
</div>
      </command-palette-input>

      <command-palette-page-stack
        data-default-scope-id="R_kgDOIBZ2Mw"
        data-default-scope-type="Repository"
        data-action="command-palette-page-octicons-cached:command-palette-page-stack#cacheOcticons"
      >
          <command-palette-tip
            class="color-fg-muted f6 px-3 py-1 my-2"
              data-scope-types="[&quot;&quot;,&quot;owner&quot;,&quot;repository&quot;]"
            data-mode=""
            data-value="">
            <div class="d-flex flex-items-start flex-justify-between">
              <div>
                <span class="text-bold">Tip:</span>
                  Type <kbd class="hx_kbd">#</kbd> to search pull requests
              </div>
              <div class="ml-2 flex-shrink-0">
                Type <kbd class="hx_kbd">?</kbd> for help and tips
              </div>
            </div>
          </command-palette-tip>
          <command-palette-tip
            class="color-fg-muted f6 px-3 py-1 my-2"
              data-scope-types="[&quot;&quot;,&quot;owner&quot;,&quot;repository&quot;]"
            data-mode=""
            data-value="">
            <div class="d-flex flex-items-start flex-justify-between">
              <div>
                <span class="text-bold">Tip:</span>
                  Type <kbd class="hx_kbd">#</kbd> to search issues
              </div>
              <div class="ml-2 flex-shrink-0">
                Type <kbd class="hx_kbd">?</kbd> for help and tips
              </div>
            </div>
          </command-palette-tip>
          <command-palette-tip
            class="color-fg-muted f6 px-3 py-1 my-2"
              data-scope-types="[&quot;owner&quot;,&quot;repository&quot;]"
            data-mode=""
            data-value="">
            <div class="d-flex flex-items-start flex-justify-between">
              <div>
                <span class="text-bold">Tip:</span>
                  Type <kbd class="hx_kbd">#</kbd> to search discussions
              </div>
              <div class="ml-2 flex-shrink-0">
                Type <kbd class="hx_kbd">?</kbd> for help and tips
              </div>
            </div>
          </command-palette-tip>
          <command-palette-tip
            class="color-fg-muted f6 px-3 py-1 my-2"
              data-scope-types="[&quot;owner&quot;,&quot;repository&quot;]"
            data-mode=""
            data-value="">
            <div class="d-flex flex-items-start flex-justify-between">
              <div>
                <span class="text-bold">Tip:</span>
                  Type <kbd class="hx_kbd">!</kbd> to search projects
              </div>
              <div class="ml-2 flex-shrink-0">
                Type <kbd class="hx_kbd">?</kbd> for help and tips
              </div>
            </div>
          </command-palette-tip>
          <command-palette-tip
            class="color-fg-muted f6 px-3 py-1 my-2"
              data-scope-types="[&quot;owner&quot;]"
            data-mode=""
            data-value="">
            <div class="d-flex flex-items-start flex-justify-between">
              <div>
                <span class="text-bold">Tip:</span>
                  Type <kbd class="hx_kbd">@</kbd> to search teams
              </div>
              <div class="ml-2 flex-shrink-0">
                Type <kbd class="hx_kbd">?</kbd> for help and tips
              </div>
            </div>
          </command-palette-tip>
          <command-palette-tip
            class="color-fg-muted f6 px-3 py-1 my-2"
              data-scope-types="[&quot;&quot;]"
            data-mode=""
            data-value="">
            <div class="d-flex flex-items-start flex-justify-between">
              <div>
                <span class="text-bold">Tip:</span>
                  Type <kbd class="hx_kbd">@</kbd> to search people and organizations
              </div>
              <div class="ml-2 flex-shrink-0">
                Type <kbd class="hx_kbd">?</kbd> for help and tips
              </div>
            </div>
          </command-palette-tip>
          <command-palette-tip
            class="color-fg-muted f6 px-3 py-1 my-2"
              data-scope-types="[&quot;&quot;,&quot;owner&quot;,&quot;repository&quot;]"
            data-mode=""
            data-value="">
            <div class="d-flex flex-items-start flex-justify-between">
              <div>
                <span class="text-bold">Tip:</span>
                  Type <kbd class="hx_kbd">&gt;</kbd> to activate command mode
              </div>
              <div class="ml-2 flex-shrink-0">
                Type <kbd class="hx_kbd">?</kbd> for help and tips
              </div>
            </div>
          </command-palette-tip>
          <command-palette-tip
            class="color-fg-muted f6 px-3 py-1 my-2"
              data-scope-types="[&quot;&quot;,&quot;owner&quot;,&quot;repository&quot;]"
            data-mode=""
            data-value="">
            <div class="d-flex flex-items-start flex-justify-between">
              <div>
                <span class="text-bold">Tip:</span>
                  Go to your accessibility settings to change your keyboard shortcuts
              </div>
              <div class="ml-2 flex-shrink-0">
                Type <kbd class="hx_kbd">?</kbd> for help and tips
              </div>
            </div>
          </command-palette-tip>
          <command-palette-tip
            class="color-fg-muted f6 px-3 py-1 my-2"
              data-scope-types="[&quot;&quot;,&quot;owner&quot;,&quot;repository&quot;]"
            data-mode="#"
            data-value="">
            <div class="d-flex flex-items-start flex-justify-between">
              <div>
                <span class="text-bold">Tip:</span>
                  Type author:@me to search your content
              </div>
              <div class="ml-2 flex-shrink-0">
                Type <kbd class="hx_kbd">?</kbd> for help and tips
              </div>
            </div>
          </command-palette-tip>
          <command-palette-tip
            class="color-fg-muted f6 px-3 py-1 my-2"
              data-scope-types="[&quot;&quot;,&quot;owner&quot;,&quot;repository&quot;]"
            data-mode="#"
            data-value="">
            <div class="d-flex flex-items-start flex-justify-between">
              <div>
                <span class="text-bold">Tip:</span>
                  Type is:pr to filter to pull requests
              </div>
              <div class="ml-2 flex-shrink-0">
                Type <kbd class="hx_kbd">?</kbd> for help and tips
              </div>
            </div>
          </command-palette-tip>
          <command-palette-tip
            class="color-fg-muted f6 px-3 py-1 my-2"
              data-scope-types="[&quot;&quot;,&quot;owner&quot;,&quot;repository&quot;]"
            data-mode="#"
            data-value="">
            <div class="d-flex flex-items-start flex-justify-between">
              <div>
                <span class="text-bold">Tip:</span>
                  Type is:issue to filter to issues
              </div>
              <div class="ml-2 flex-shrink-0">
                Type <kbd class="hx_kbd">?</kbd> for help and tips
              </div>
            </div>
          </command-palette-tip>
          <command-palette-tip
            class="color-fg-muted f6 px-3 py-1 my-2"
              data-scope-types="[&quot;owner&quot;,&quot;repository&quot;]"
            data-mode="#"
            data-value="">
            <div class="d-flex flex-items-start flex-justify-between">
              <div>
                <span class="text-bold">Tip:</span>
                  Type is:project to filter to projects
              </div>
              <div class="ml-2 flex-shrink-0">
                Type <kbd class="hx_kbd">?</kbd> for help and tips
              </div>
            </div>
          </command-palette-tip>
          <command-palette-tip
            class="color-fg-muted f6 px-3 py-1 my-2"
              data-scope-types="[&quot;&quot;,&quot;owner&quot;,&quot;repository&quot;]"
            data-mode="#"
            data-value="">
            <div class="d-flex flex-items-start flex-justify-between">
              <div>
                <span class="text-bold">Tip:</span>
                  Type is:open to filter to open content
              </div>
              <div class="ml-2 flex-shrink-0">
                Type <kbd class="hx_kbd">?</kbd> for help and tips
              </div>
            </div>
          </command-palette-tip>
        <command-palette-tip class="mx-3 my-2 flash flash-error d-flex flex-items-center" data-scope-types="*" data-on-error>
          <div>
            <svg aria-hidden="true" height="16" viewBox="0 0 16 16" version="1.1" width="16" data-view-component="true" class="octicon octicon-alert">
    <path d="M6.457 1.047c.659-1.234 2.427-1.234 3.086 0l6.082 11.378A1.75 1.75 0 0 1 14.082 15H1.918a1.75 1.75 0 0 1-1.543-2.575Zm1.763.707a.25.25 0 0 0-.44 0L1.698 13.132a.25.25 0 0 0 .22.368h12.164a.25.25 0 0 0 .22-.368Zm.53 3.996v2.5a.75.75 0 0 1-1.5 0v-2.5a.75.75 0 0 1 1.5 0ZM9 11a1 1 0 1 1-2 0 1 1 0 0 1 2 0Z"></path>
</svg>
          </div>
          <div class="px-2">
            We’ve encountered an error and some results aren't available at this time. Type a new search or try again later.
          </div>
        </command-palette-tip>
        <command-palette-tip class="h4 color-fg-default pl-3 pb-2 pt-3" data-on-empty data-scope-types="*" data-match-mode="[^?]|^$">
          No results matched your search
        </command-palette-tip>

        <div hidden>

            <div data-targets="command-palette-page-stack.localOcticons" data-octicon-id="arrow-right-color-fg-muted">
              <svg height="16" class="octicon octicon-arrow-right color-fg-muted" viewBox="0 0 16 16" version="1.1" width="16" aria-hidden="true"><path d="M8.22 2.97a.75.75 0 0 1 1.06 0l4.25 4.25a.75.75 0 0 1 0 1.06l-4.25 4.25a.751.751 0 0 1-1.042-.018.751.751 0 0 1-.018-1.042l2.97-2.97H3.75a.75.75 0 0 1 0-1.5h7.44L8.22 4.03a.75.75 0 0 1 0-1.06Z"></path></svg>
            </div>
            <div data-targets="command-palette-page-stack.localOcticons" data-octicon-id="arrow-right-color-fg-default">
              <svg height="16" class="octicon octicon-arrow-right color-fg-default" viewBox="0 0 16 16" version="1.1" width="16" aria-hidden="true"><path d="M8.22 2.97a.75.75 0 0 1 1.06 0l4.25 4.25a.75.75 0 0 1 0 1.06l-4.25 4.25a.751.751 0 0 1-1.042-.018.751.751 0 0 1-.018-1.042l2.97-2.97H3.75a.75.75 0 0 1 0-1.5h7.44L8.22 4.03a.75.75 0 0 1 0-1.06Z"></path></svg>
            </div>
            <div data-targets="command-palette-page-stack.localOcticons" data-octicon-id="codespaces-color-fg-muted">
              <svg height="16" class="octicon octicon-codespaces color-fg-muted" viewBox="0 0 16 16" version="1.1" width="16" aria-hidden="true"><path d="M0 11.25c0-.966.784-1.75 1.75-1.75h12.5c.966 0 1.75.784 1.75 1.75v3A1.75 1.75 0 0 1 14.25 16H1.75A1.75 1.75 0 0 1 0 14.25Zm2-9.5C2 .784 2.784 0 3.75 0h8.5C13.216 0 14 .784 14 1.75v5a1.75 1.75 0 0 1-1.75 1.75h-8.5A1.75 1.75 0 0 1 2 6.75Zm1.75-.25a.25.25 0 0 0-.25.25v5c0 .138.112.25.25.25h8.5a.25.25 0 0 0 .25-.25v-5a.25.25 0 0 0-.25-.25Zm-2 9.5a.25.25 0 0 0-.25.25v3c0 .138.112.25.25.25h12.5a.25.25 0 0 0 .25-.25v-3a.25.25 0 0 0-.25-.25Z"></path><path d="M7 12.75a.75.75 0 0 1 .75-.75h4.5a.75.75 0 0 1 0 1.5h-4.5a.75.75 0 0 1-.75-.75Zm-4 0a.75.75 0 0 1 .75-.75h.5a.75.75 0 0 1 0 1.5h-.5a.75.75 0 0 1-.75-.75Z"></path></svg>
            </div>
            <div data-targets="command-palette-page-stack.localOcticons" data-octicon-id="copy-color-fg-muted">
              <svg height="16" class="octicon octicon-copy color-fg-muted" viewBox="0 0 16 16" version="1.1" width="16" aria-hidden="true"><path d="M0 6.75C0 5.784.784 5 1.75 5h1.5a.75.75 0 0 1 0 1.5h-1.5a.25.25 0 0 0-.25.25v7.5c0 .138.112.25.25.25h7.5a.25.25 0 0 0 .25-.25v-1.5a.75.75 0 0 1 1.5 0v1.5A1.75 1.75 0 0 1 9.25 16h-7.5A1.75 1.75 0 0 1 0 14.25Z"></path><path d="M5 1.75C5 .784 5.784 0 6.75 0h7.5C15.216 0 16 .784 16 1.75v7.5A1.75 1.75 0 0 1 14.25 11h-7.5A1.75 1.75 0 0 1 5 9.25Zm1.75-.25a.25.25 0 0 0-.25.25v7.5c0 .138.112.25.25.25h7.5a.25.25 0 0 0 .25-.25v-7.5a.25.25 0 0 0-.25-.25Z"></path></svg>
            </div>
            <div data-targets="command-palette-page-stack.localOcticons" data-octicon-id="dash-color-fg-muted">
              <svg height="16" class="octicon octicon-dash color-fg-muted" viewBox="0 0 16 16" version="1.1" width="16" aria-hidden="true"><path d="M2 7.75A.75.75 0 0 1 2.75 7h10a.75.75 0 0 1 0 1.5h-10A.75.75 0 0 1 2 7.75Z"></path></svg>
            </div>
            <div data-targets="command-palette-page-stack.localOcticons" data-octicon-id="file-color-fg-muted">
              <svg height="16" class="octicon octicon-file color-fg-muted" viewBox="0 0 16 16" version="1.1" width="16" aria-hidden="true"><path d="M2 1.75C2 .784 2.784 0 3.75 0h6.586c.464 0 .909.184 1.237.513l2.914 2.914c.329.328.513.773.513 1.237v9.586A1.75 1.75 0 0 1 13.25 16h-9.5A1.75 1.75 0 0 1 2 14.25Zm1.75-.25a.25.25 0 0 0-.25.25v12.5c0 .138.112.25.25.25h9.5a.25.25 0 0 0 .25-.25V6h-2.75A1.75 1.75 0 0 1 9 4.25V1.5Zm6.75.062V4.25c0 .138.112.25.25.25h2.688l-.011-.013-2.914-2.914-.013-.011Z"></path></svg>
            </div>
            <div data-targets="command-palette-page-stack.localOcticons" data-octicon-id="gear-color-fg-muted">
              <svg height="16" class="octicon octicon-gear color-fg-muted" viewBox="0 0 16 16" version="1.1" width="16" aria-hidden="true"><path d="M8 0a8.2 8.2 0 0 1 .701.031C9.444.095 9.99.645 10.16 1.29l.288 1.107c.018.066.079.158.212.224.231.114.454.243.668.386.123.082.233.09.299.071l1.103-.303c.644-.176 1.392.021 1.82.63.27.385.506.792.704 1.218.315.675.111 1.422-.364 1.891l-.814.806c-.049.048-.098.147-.088.294.016.257.016.515 0 .772-.01.147.038.246.088.294l.814.806c.475.469.679 1.216.364 1.891a7.977 7.977 0 0 1-.704 1.217c-.428.61-1.176.807-1.82.63l-1.102-.302c-.067-.019-.177-.011-.3.071a5.909 5.909 0 0 1-.668.386c-.133.066-.194.158-.211.224l-.29 1.106c-.168.646-.715 1.196-1.458 1.26a8.006 8.006 0 0 1-1.402 0c-.743-.064-1.289-.614-1.458-1.26l-.289-1.106c-.018-.066-.079-.158-.212-.224a5.738 5.738 0 0 1-.668-.386c-.123-.082-.233-.09-.299-.071l-1.103.303c-.644.176-1.392-.021-1.82-.63a8.12 8.12 0 0 1-.704-1.218c-.315-.675-.111-1.422.363-1.891l.815-.806c.05-.048.098-.147.088-.294a6.214 6.214 0 0 1 0-.772c.01-.147-.038-.246-.088-.294l-.815-.806C.635 6.045.431 5.298.746 4.623a7.92 7.92 0 0 1 .704-1.217c.428-.61 1.176-.807 1.82-.63l1.102.302c.067.019.177.011.3-.071.214-.143.437-.272.668-.386.133-.066.194-.158.211-.224l.29-1.106C6.009.645 6.556.095 7.299.03 7.53.01 7.764 0 8 0Zm-.571 1.525c-.036.003-.108.036-.137.146l-.289 1.105c-.147.561-.549.967-.998 1.189-.173.086-.34.183-.5.29-.417.278-.97.423-1.529.27l-1.103-.303c-.109-.03-.175.016-.195.045-.22.312-.412.644-.573.99-.014.031-.021.11.059.19l.815.806c.411.406.562.957.53 1.456a4.709 4.709 0 0 0 0 .582c.032.499-.119 1.05-.53 1.456l-.815.806c-.081.08-.073.159-.059.19.162.346.353.677.573.989.02.03.085.076.195.046l1.102-.303c.56-.153 1.113-.008 1.53.27.161.107.328.204.501.29.447.222.85.629.997 1.189l.289 1.105c.029.109.101.143.137.146a6.6 6.6 0 0 0 1.142 0c.036-.003.108-.036.137-.146l.289-1.105c.147-.561.549-.967.998-1.189.173-.086.34-.183.5-.29.417-.278.97-.423 1.529-.27l1.103.303c.109.029.175-.016.195-.045.22-.313.411-.644.573-.99.014-.031.021-.11-.059-.19l-.815-.806c-.411-.406-.562-.957-.53-1.456a4.709 4.709 0 0 0 0-.582c-.032-.499.119-1.05.53-1.456l.815-.806c.081-.08.073-.159.059-.19a6.464 6.464 0 0 0-.573-.989c-.02-.03-.085-.076-.195-.046l-1.102.303c-.56.153-1.113.008-1.53-.27a4.44 4.44 0 0 0-.501-.29c-.447-.222-.85-.629-.997-1.189l-.289-1.105c-.029-.11-.101-.143-.137-.146a6.6 6.6 0 0 0-1.142 0ZM11 8a3 3 0 1 1-6 0 3 3 0 0 1 6 0ZM9.5 8a1.5 1.5 0 1 0-3.001.001A1.5 1.5 0 0 0 9.5 8Z"></path></svg>
            </div>
            <div data-targets="command-palette-page-stack.localOcticons" data-octicon-id="lock-color-fg-muted">
              <svg height="16" class="octicon octicon-lock color-fg-muted" viewBox="0 0 16 16" version="1.1" width="16" aria-hidden="true"><path d="M4 4a4 4 0 0 1 8 0v2h.25c.966 0 1.75.784 1.75 1.75v5.5A1.75 1.75 0 0 1 12.25 15h-8.5A1.75 1.75 0 0 1 2 13.25v-5.5C2 6.784 2.784 6 3.75 6H4Zm8.25 3.5h-8.5a.25.25 0 0 0-.25.25v5.5c0 .138.112.25.25.25h8.5a.25.25 0 0 0 .25-.25v-5.5a.25.25 0 0 0-.25-.25ZM10.5 6V4a2.5 2.5 0 1 0-5 0v2Z"></path></svg>
            </div>
            <div data-targets="command-palette-page-stack.localOcticons" data-octicon-id="moon-color-fg-muted">
              <svg height="16" class="octicon octicon-moon color-fg-muted" viewBox="0 0 16 16" version="1.1" width="16" aria-hidden="true"><path d="M9.598 1.591a.749.749 0 0 1 .785-.175 7.001 7.001 0 1 1-8.967 8.967.75.75 0 0 1 .961-.96 5.5 5.5 0 0 0 7.046-7.046.75.75 0 0 1 .175-.786Zm1.616 1.945a7 7 0 0 1-7.678 7.678 5.499 5.499 0 1 0 7.678-7.678Z"></path></svg>
            </div>
            <div data-targets="command-palette-page-stack.localOcticons" data-octicon-id="person-color-fg-muted">
              <svg height="16" class="octicon octicon-person color-fg-muted" viewBox="0 0 16 16" version="1.1" width="16" aria-hidden="true"><path d="M10.561 8.073a6.005 6.005 0 0 1 3.432 5.142.75.75 0 1 1-1.498.07 4.5 4.5 0 0 0-8.99 0 .75.75 0 0 1-1.498-.07 6.004 6.004 0 0 1 3.431-5.142 3.999 3.999 0 1 1 5.123 0ZM10.5 5a2.5 2.5 0 1 0-5 0 2.5 2.5 0 0 0 5 0Z"></path></svg>
            </div>
            <div data-targets="command-palette-page-stack.localOcticons" data-octicon-id="pencil-color-fg-muted">
              <svg height="16" class="octicon octicon-pencil color-fg-muted" viewBox="0 0 16 16" version="1.1" width="16" aria-hidden="true"><path d="M11.013 1.427a1.75 1.75 0 0 1 2.474 0l1.086 1.086a1.75 1.75 0 0 1 0 2.474l-8.61 8.61c-.21.21-.47.364-.756.445l-3.251.93a.75.75 0 0 1-.927-.928l.929-3.25c.081-.286.235-.547.445-.758l8.61-8.61Zm.176 4.823L9.75 4.81l-6.286 6.287a.253.253 0 0 0-.064.108l-.558 1.953 1.953-.558a.253.253 0 0 0 .108-.064Zm1.238-3.763a.25.25 0 0 0-.354 0L10.811 3.75l1.439 1.44 1.263-1.263a.25.25 0 0 0 0-.354Z"></path></svg>
            </div>
            <div data-targets="command-palette-page-stack.localOcticons" data-octicon-id="issue-opened-open">
              <svg height="16" class="octicon octicon-issue-opened open" viewBox="0 0 16 16" version="1.1" width="16" aria-hidden="true"><path d="M8 9.5a1.5 1.5 0 1 0 0-3 1.5 1.5 0 0 0 0 3Z"></path><path d="M8 0a8 8 0 1 1 0 16A8 8 0 0 1 8 0ZM1.5 8a6.5 6.5 0 1 0 13 0 6.5 6.5 0 0 0-13 0Z"></path></svg>
            </div>
            <div data-targets="command-palette-page-stack.localOcticons" data-octicon-id="git-pull-request-draft-color-fg-muted">
              <svg height="16" class="octicon octicon-git-pull-request-draft color-fg-muted" viewBox="0 0 16 16" version="1.1" width="16" aria-hidden="true"><path d="M3.25 1A2.25 2.25 0 0 1 4 5.372v5.256a2.251 2.251 0 1 1-1.5 0V5.372A2.251 2.251 0 0 1 3.25 1Zm9.5 14a2.25 2.25 0 1 1 0-4.5 2.25 2.25 0 0 1 0 4.5ZM2.5 3.25a.75.75 0 1 0 1.5 0 .75.75 0 0 0-1.5 0ZM3.25 12a.75.75 0 1 0 0 1.5.75.75 0 0 0 0-1.5Zm9.5 0a.75.75 0 1 0 0 1.5.75.75 0 0 0 0-1.5ZM14 7.5a1.25 1.25 0 1 1-2.5 0 1.25 1.25 0 0 1 2.5 0Zm0-4.25a1.25 1.25 0 1 1-2.5 0 1.25 1.25 0 0 1 2.5 0Z"></path></svg>
            </div>
            <div data-targets="command-palette-page-stack.localOcticons" data-octicon-id="search-color-fg-muted">
              <svg height="16" class="octicon octicon-search color-fg-muted" viewBox="0 0 16 16" version="1.1" width="16" aria-hidden="true"><path d="M10.68 11.74a6 6 0 0 1-7.922-8.982 6 6 0 0 1 8.982 7.922l3.04 3.04a.749.749 0 0 1-.326 1.275.749.749 0 0 1-.734-.215ZM11.5 7a4.499 4.499 0 1 0-8.997 0A4.499 4.499 0 0 0 11.5 7Z"></path></svg>
            </div>
            <div data-targets="command-palette-page-stack.localOcticons" data-octicon-id="sun-color-fg-muted">
              <svg height="16" class="octicon octicon-sun color-fg-muted" viewBox="0 0 16 16" version="1.1" width="16" aria-hidden="true"><path d="M8 12a4 4 0 1 1 0-8 4 4 0 0 1 0 8Zm0-1.5a2.5 2.5 0 1 0 0-5 2.5 2.5 0 0 0 0 5Zm5.657-8.157a.75.75 0 0 1 0 1.061l-1.061 1.06a.749.749 0 0 1-1.275-.326.749.749 0 0 1 .215-.734l1.06-1.06a.75.75 0 0 1 1.06 0Zm-9.193 9.193a.75.75 0 0 1 0 1.06l-1.06 1.061a.75.75 0 1 1-1.061-1.06l1.06-1.061a.75.75 0 0 1 1.061 0ZM8 0a.75.75 0 0 1 .75.75v1.5a.75.75 0 0 1-1.5 0V.75A.75.75 0 0 1 8 0ZM3 8a.75.75 0 0 1-.75.75H.75a.75.75 0 0 1 0-1.5h1.5A.75.75 0 0 1 3 8Zm13 0a.75.75 0 0 1-.75.75h-1.5a.75.75 0 0 1 0-1.5h1.5A.75.75 0 0 1 16 8Zm-8 5a.75.75 0 0 1 .75.75v1.5a.75.75 0 0 1-1.5 0v-1.5A.75.75 0 0 1 8 13Zm3.536-1.464a.75.75 0 0 1 1.06 0l1.061 1.06a.75.75 0 0 1-1.06 1.061l-1.061-1.06a.75.75 0 0 1 0-1.061ZM2.343 2.343a.75.75 0 0 1 1.061 0l1.06 1.061a.751.751 0 0 1-.018 1.042.751.751 0 0 1-1.042.018l-1.06-1.06a.75.75 0 0 1 0-1.06Z"></path></svg>
            </div>
            <div data-targets="command-palette-page-stack.localOcticons" data-octicon-id="sync-color-fg-muted">
              <svg height="16" class="octicon octicon-sync color-fg-muted" viewBox="0 0 16 16" version="1.1" width="16" aria-hidden="true"><path d="M1.705 8.005a.75.75 0 0 1 .834.656 5.5 5.5 0 0 0 9.592 2.97l-1.204-1.204a.25.25 0 0 1 .177-.427h3.646a.25.25 0 0 1 .25.25v3.646a.25.25 0 0 1-.427.177l-1.38-1.38A7.002 7.002 0 0 1 1.05 8.84a.75.75 0 0 1 .656-.834ZM8 2.5a5.487 5.487 0 0 0-4.131 1.869l1.204 1.204A.25.25 0 0 1 4.896 6H1.25A.25.25 0 0 1 1 5.75V2.104a.25.25 0 0 1 .427-.177l1.38 1.38A7.002 7.002 0 0 1 14.95 7.16a.75.75 0 0 1-1.49.178A5.5 5.5 0 0 0 8 2.5Z"></path></svg>
            </div>
            <div data-targets="command-palette-page-stack.localOcticons" data-octicon-id="trash-color-fg-muted">
              <svg height="16" class="octicon octicon-trash color-fg-muted" viewBox="0 0 16 16" version="1.1" width="16" aria-hidden="true"><path d="M11 1.75V3h2.25a.75.75 0 0 1 0 1.5H2.75a.75.75 0 0 1 0-1.5H5V1.75C5 .784 5.784 0 6.75 0h2.5C10.216 0 11 .784 11 1.75ZM4.496 6.675l.66 6.6a.25.25 0 0 0 .249.225h5.19a.25.25 0 0 0 .249-.225l.66-6.6a.75.75 0 0 1 1.492.149l-.66 6.6A1.748 1.748 0 0 1 10.595 15h-5.19a1.75 1.75 0 0 1-1.741-1.575l-.66-6.6a.75.75 0 1 1 1.492-.15ZM6.5 1.75V3h3V1.75a.25.25 0 0 0-.25-.25h-2.5a.25.25 0 0 0-.25.25Z"></path></svg>
            </div>
            <div data-targets="command-palette-page-stack.localOcticons" data-octicon-id="key-color-fg-muted">
              <svg height="16" class="octicon octicon-key color-fg-muted" viewBox="0 0 16 16" version="1.1" width="16" aria-hidden="true"><path d="M10.5 0a5.499 5.499 0 1 1-1.288 10.848l-.932.932a.749.749 0 0 1-.53.22H7v.75a.749.749 0 0 1-.22.53l-.5.5a.749.749 0 0 1-.53.22H5v.75a.749.749 0 0 1-.22.53l-.5.5a.749.749 0 0 1-.53.22h-2A1.75 1.75 0 0 1 0 14.25v-2c0-.199.079-.389.22-.53l4.932-4.932A5.5 5.5 0 0 1 10.5 0Zm-4 5.5c-.001.431.069.86.205 1.269a.75.75 0 0 1-.181.768L1.5 12.56v1.69c0 .138.112.25.25.25h1.69l.06-.06v-1.19a.75.75 0 0 1 .75-.75h1.19l.06-.06v-1.19a.75.75 0 0 1 .75-.75h1.19l1.023-1.025a.75.75 0 0 1 .768-.18A4 4 0 1 0 6.5 5.5ZM11 6a1 1 0 1 1 0-2 1 1 0 0 1 0 2Z"></path></svg>
            </div>
            <div data-targets="command-palette-page-stack.localOcticons" data-octicon-id="comment-discussion-color-fg-muted">
              <svg height="16" class="octicon octicon-comment-discussion color-fg-muted" viewBox="0 0 16 16" version="1.1" width="16" aria-hidden="true"><path d="M1.75 1h8.5c.966 0 1.75.784 1.75 1.75v5.5A1.75 1.75 0 0 1 10.25 10H7.061l-2.574 2.573A1.458 1.458 0 0 1 2 11.543V10h-.25A1.75 1.75 0 0 1 0 8.25v-5.5C0 1.784.784 1 1.75 1ZM1.5 2.75v5.5c0 .138.112.25.25.25h1a.75.75 0 0 1 .75.75v2.19l2.72-2.72a.749.749 0 0 1 .53-.22h3.5a.25.25 0 0 0 .25-.25v-5.5a.25.25 0 0 0-.25-.25h-8.5a.25.25 0 0 0-.25.25Zm13 2a.25.25 0 0 0-.25-.25h-.5a.75.75 0 0 1 0-1.5h.5c.966 0 1.75.784 1.75 1.75v5.5A1.75 1.75 0 0 1 14.25 12H14v1.543a1.458 1.458 0 0 1-2.487 1.03L9.22 12.28a.749.749 0 0 1 .326-1.275.749.749 0 0 1 .734.215l2.22 2.22v-2.19a.75.75 0 0 1 .75-.75h1a.25.25 0 0 0 .25-.25Z"></path></svg>
            </div>
            <div data-targets="command-palette-page-stack.localOcticons" data-octicon-id="bell-color-fg-muted">
              <svg height="16" class="octicon octicon-bell color-fg-muted" viewBox="0 0 16 16" version="1.1" width="16" aria-hidden="true"><path d="M8 16a2 2 0 0 0 1.985-1.75c.017-.137-.097-.25-.235-.25h-3.5c-.138 0-.252.113-.235.25A2 2 0 0 0 8 16ZM3 5a5 5 0 0 1 10 0v2.947c0 .05.015.098.042.139l1.703 2.555A1.519 1.519 0 0 1 13.482 13H2.518a1.516 1.516 0 0 1-1.263-2.36l1.703-2.554A.255.255 0 0 0 3 7.947Zm5-3.5A3.5 3.5 0 0 0 4.5 5v2.947c0 .346-.102.683-.294.97l-1.703 2.556a.017.017 0 0 0-.003.01l.001.006c0 .002.002.004.004.006l.006.004.007.001h10.964l.007-.001.006-.004.004-.006.001-.007a.017.017 0 0 0-.003-.01l-1.703-2.554a1.745 1.745 0 0 1-.294-.97V5A3.5 3.5 0 0 0 8 1.5Z"></path></svg>
            </div>
            <div data-targets="command-palette-page-stack.localOcticons" data-octicon-id="bell-slash-color-fg-muted">
              <svg height="16" class="octicon octicon-bell-slash color-fg-muted" viewBox="0 0 16 16" version="1.1" width="16" aria-hidden="true"><path d="m4.182 4.31.016.011 10.104 7.316.013.01 1.375.996a.75.75 0 1 1-.88 1.214L13.626 13H2.518a1.516 1.516 0 0 1-1.263-2.36l1.703-2.554A.255.255 0 0 0 3 7.947V5.305L.31 3.357a.75.75 0 1 1 .88-1.214Zm7.373 7.19L4.5 6.391v1.556c0 .346-.102.683-.294.97l-1.703 2.556a.017.017 0 0 0-.003.01c0 .005.002.009.005.012l.006.004.007.001ZM8 1.5c-.997 0-1.895.416-2.534 1.086A.75.75 0 1 1 4.38 1.55 5 5 0 0 1 13 5v2.373a.75.75 0 0 1-1.5 0V5A3.5 3.5 0 0 0 8 1.5ZM8 16a2 2 0 0 1-1.985-1.75c-.017-.137.097-.25.235-.25h3.5c.138 0 .252.113.235.25A2 2 0 0 1 8 16Z"></path></svg>
            </div>
            <div data-targets="command-palette-page-stack.localOcticons" data-octicon-id="paintbrush-color-fg-muted">
              <svg height="16" class="octicon octicon-paintbrush color-fg-muted" viewBox="0 0 16 16" version="1.1" width="16" aria-hidden="true"><path d="M11.134 1.535c.7-.509 1.416-.942 2.076-1.155.649-.21 1.463-.267 2.069.34.603.601.568 1.411.368 2.07-.202.668-.624 1.39-1.125 2.096-1.011 1.424-2.496 2.987-3.775 4.249-1.098 1.084-2.132 1.839-3.04 2.3a3.744 3.744 0 0 1-1.055 3.217c-.431.431-1.065.691-1.657.861-.614.177-1.294.287-1.914.357A21.151 21.151 0 0 1 .797 16H.743l.007-.75H.749L.742 16a.75.75 0 0 1-.743-.742l.743-.008-.742.007v-.054a21.25 21.25 0 0 1 .13-2.284c.067-.647.187-1.287.358-1.914.17-.591.43-1.226.86-1.657a3.746 3.746 0 0 1 3.227-1.054c.466-.893 1.225-1.907 2.314-2.982 1.271-1.255 2.833-2.75 4.245-3.777ZM1.62 13.089c-.051.464-.086.929-.104 1.395.466-.018.932-.053 1.396-.104a10.511 10.511 0 0 0 1.668-.309c.526-.151.856-.325 1.011-.48a2.25 2.25 0 1 0-3.182-3.182c-.155.155-.329.485-.48 1.01a10.515 10.515 0 0 0-.309 1.67Zm10.396-10.34c-1.224.89-2.605 2.189-3.822 3.384l1.718 1.718c1.21-1.205 2.51-2.597 3.387-3.833.47-.662.78-1.227.912-1.662.134-.444.032-.551.009-.575h-.001V1.78c-.014-.014-.113-.113-.548.027-.432.14-.995.462-1.655.942Zm-4.832 7.266-.001.001a9.859 9.859 0 0 0 1.63-1.142L7.155 7.216a9.7 9.7 0 0 0-1.161 1.607c.482.302.889.71 1.19 1.192Z"></path></svg>
            </div>

            <command-palette-item-group
              data-group-id="top"
              data-group-title="Top result"
              data-group-hint=""
              data-group-limits="{}"
              data-default-priority="0"
            >
            </command-palette-item-group>
            <command-palette-item-group
              data-group-id="commands"
              data-group-title="Commands"
              data-group-hint="Type &gt; to filter"
              data-group-limits="{&quot;static_items_page&quot;:50,&quot;issue&quot;:50,&quot;pull_request&quot;:50,&quot;discussion&quot;:50}"
              data-default-priority="1"
            >
            </command-palette-item-group>
            <command-palette-item-group
              data-group-id="global_commands"
              data-group-title="Global Commands"
              data-group-hint="Type &gt; to filter"
              data-group-limits="{&quot;issue&quot;:0,&quot;pull_request&quot;:0,&quot;discussion&quot;:0}"
              data-default-priority="2"
            >
            </command-palette-item-group>
            <command-palette-item-group
              data-group-id="this_page"
              data-group-title="This Page"
              data-group-hint=""
              data-group-limits="{}"
              data-default-priority="3"
            >
            </command-palette-item-group>
            <command-palette-item-group
              data-group-id="files"
              data-group-title="Files"
              data-group-hint=""
              data-group-limits="{}"
              data-default-priority="4"
            >
            </command-palette-item-group>
            <command-palette-item-group
              data-group-id="default"
              data-group-title="Default"
              data-group-hint=""
              data-group-limits="{&quot;static_items_page&quot;:50}"
              data-default-priority="5"
            >
            </command-palette-item-group>
            <command-palette-item-group
              data-group-id="pages"
              data-group-title="Pages"
              data-group-hint=""
              data-group-limits="{&quot;repository&quot;:10}"
              data-default-priority="6"
            >
            </command-palette-item-group>
            <command-palette-item-group
              data-group-id="access_policies"
              data-group-title="Access Policies"
              data-group-hint=""
              data-group-limits="{}"
              data-default-priority="7"
            >
            </command-palette-item-group>
            <command-palette-item-group
              data-group-id="organizations"
              data-group-title="Organizations"
              data-group-hint=""
              data-group-limits="{}"
              data-default-priority="8"
            >
            </command-palette-item-group>
            <command-palette-item-group
              data-group-id="repositories"
              data-group-title="Repositories"
              data-group-hint=""
              data-group-limits="{}"
              data-default-priority="9"
            >
            </command-palette-item-group>
            <command-palette-item-group
              data-group-id="references"
              data-group-title="Issues, pull requests, and discussions"
              data-group-hint="Type # to filter"
              data-group-limits="{}"
              data-default-priority="10"
            >
            </command-palette-item-group>
            <command-palette-item-group
              data-group-id="teams"
              data-group-title="Teams"
              data-group-hint=""
              data-group-limits="{}"
              data-default-priority="11"
            >
            </command-palette-item-group>
            <command-palette-item-group
              data-group-id="users"
              data-group-title="Users"
              data-group-hint=""
              data-group-limits="{}"
              data-default-priority="12"
            >
            </command-palette-item-group>
            <command-palette-item-group
              data-group-id="memex_projects"
              data-group-title="Projects"
              data-group-hint=""
              data-group-limits="{}"
              data-default-priority="13"
            >
            </command-palette-item-group>
            <command-palette-item-group
              data-group-id="projects"
              data-group-title="Projects (classic)"
              data-group-hint=""
              data-group-limits="{}"
              data-default-priority="14"
            >
            </command-palette-item-group>
            <command-palette-item-group
              data-group-id="footer"
              data-group-title="Footer"
              data-group-hint=""
              data-group-limits="{}"
              data-default-priority="15"
            >
            </command-palette-item-group>
            <command-palette-item-group
              data-group-id="modes_help"
              data-group-title="Modes"
              data-group-hint=""
              data-group-limits="{}"
              data-default-priority="16"
            >
            </command-palette-item-group>
            <command-palette-item-group
              data-group-id="filters_help"
              data-group-title="Use filters in issues, pull requests, discussions, and projects"
              data-group-hint=""
              data-group-limits="{}"
              data-default-priority="17"
            >
            </command-palette-item-group>

            <command-palette-page
              data-page-title="zulkaidaakbar"
              data-scope-id="MDQ6VXNlcjY4Mjk3NDM4"
              data-scope-type="owner"
              data-targets="command-palette-page-stack.defaultPages"
              hidden
            >
            </command-palette-page>
            <command-palette-page
              data-page-title="NLP-STTCipasung2022"
              data-scope-id="R_kgDOIBZ2Mw"
              data-scope-type="repository"
              data-targets="command-palette-page-stack.defaultPages"
              hidden
            >
            </command-palette-page>
        </div>

        <command-palette-page data-is-root>
        </command-palette-page>
          <command-palette-page
            data-page-title="zulkaidaakbar"
            data-scope-id="MDQ6VXNlcjY4Mjk3NDM4"
            data-scope-type="owner"
          >
          </command-palette-page>
          <command-palette-page
            data-page-title="NLP-STTCipasung2022"
            data-scope-id="R_kgDOIBZ2Mw"
            data-scope-type="repository"
          >
          </command-palette-page>
      </command-palette-page-stack>

      <server-defined-provider data-type="search-links" data-targets="command-palette.serverDefinedProviderElements"></server-defined-provider>
      <server-defined-provider data-type="help" data-targets="command-palette.serverDefinedProviderElements">
          <command-palette-help
            data-group="modes_help"
              data-prefix="#"
              data-scope-types="[&quot;&quot;]"
          >
            <span data-target="command-palette-help.titleElement">Search for <strong>issues</strong> and <strong>pull requests</strong></span>
              <span data-target="command-palette-help.hintElement">
                <kbd class="hx_kbd">#</kbd>
              </span>
          </command-palette-help>
          <command-palette-help
            data-group="modes_help"
              data-prefix="#"
              data-scope-types="[&quot;owner&quot;,&quot;repository&quot;]"
          >
            <span data-target="command-palette-help.titleElement">Search for <strong>issues, pull requests, discussions,</strong> and <strong>projects</strong></span>
              <span data-target="command-palette-help.hintElement">
                <kbd class="hx_kbd">#</kbd>
              </span>
          </command-palette-help>
          <command-palette-help
            data-group="modes_help"
              data-prefix="@"
              data-scope-types="[&quot;&quot;]"
          >
            <span data-target="command-palette-help.titleElement">Search for <strong>organizations, repositories,</strong> and <strong>users</strong></span>
              <span data-target="command-palette-help.hintElement">
                <kbd class="hx_kbd">@</kbd>
              </span>
          </command-palette-help>
          <command-palette-help
            data-group="modes_help"
              data-prefix="!"
              data-scope-types="[&quot;owner&quot;,&quot;repository&quot;]"
          >
            <span data-target="command-palette-help.titleElement">Search for <strong>projects</strong></span>
              <span data-target="command-palette-help.hintElement">
                <kbd class="hx_kbd">!</kbd>
              </span>
          </command-palette-help>
          <command-palette-help
            data-group="modes_help"
              data-prefix="/"
              data-scope-types="[&quot;repository&quot;]"
          >
            <span data-target="command-palette-help.titleElement">Search for <strong>files</strong></span>
              <span data-target="command-palette-help.hintElement">
                <kbd class="hx_kbd">/</kbd>
              </span>
          </command-palette-help>
          <command-palette-help
            data-group="modes_help"
              data-prefix="&gt;"
          >
            <span data-target="command-palette-help.titleElement">Activate <strong>command mode</strong></span>
              <span data-target="command-palette-help.hintElement">
                <kbd class="hx_kbd">&gt;</kbd>
              </span>
          </command-palette-help>
          <command-palette-help
            data-group="filters_help"
              data-prefix="# author:@me"
          >
            <span data-target="command-palette-help.titleElement">Search your issues, pull requests, and discussions</span>
              <span data-target="command-palette-help.hintElement">
                <kbd class="hx_kbd"># author:@me</kbd>
              </span>
          </command-palette-help>
          <command-palette-help
            data-group="filters_help"
              data-prefix="# author:@me"
          >
            <span data-target="command-palette-help.titleElement">Search your issues, pull requests, and discussions</span>
              <span data-target="command-palette-help.hintElement">
                <kbd class="hx_kbd"># author:@me</kbd>
              </span>
          </command-palette-help>
          <command-palette-help
            data-group="filters_help"
              data-prefix="# is:pr"
          >
            <span data-target="command-palette-help.titleElement">Filter to pull requests</span>
              <span data-target="command-palette-help.hintElement">
                <kbd class="hx_kbd"># is:pr</kbd>
              </span>
          </command-palette-help>
          <command-palette-help
            data-group="filters_help"
              data-prefix="# is:issue"
          >
            <span data-target="command-palette-help.titleElement">Filter to issues</span>
              <span data-target="command-palette-help.hintElement">
                <kbd class="hx_kbd"># is:issue</kbd>
              </span>
          </command-palette-help>
          <command-palette-help
            data-group="filters_help"
              data-prefix="# is:discussion"
              data-scope-types="[&quot;owner&quot;,&quot;repository&quot;]"
          >
            <span data-target="command-palette-help.titleElement">Filter to discussions</span>
              <span data-target="command-palette-help.hintElement">
                <kbd class="hx_kbd"># is:discussion</kbd>
              </span>
          </command-palette-help>
          <command-palette-help
            data-group="filters_help"
              data-prefix="# is:project"
              data-scope-types="[&quot;owner&quot;,&quot;repository&quot;]"
          >
            <span data-target="command-palette-help.titleElement">Filter to projects</span>
              <span data-target="command-palette-help.hintElement">
                <kbd class="hx_kbd"># is:project</kbd>
              </span>
          </command-palette-help>
          <command-palette-help
            data-group="filters_help"
              data-prefix="# is:open"
          >
            <span data-target="command-palette-help.titleElement">Filter to open issues, pull requests, and discussions</span>
              <span data-target="command-palette-help.hintElement">
                <kbd class="hx_kbd"># is:open</kbd>
              </span>
          </command-palette-help>
      </server-defined-provider>

        <server-defined-provider
          data-type="commands"
          data-fetch-debounce="0"
            data-src="/command_palette/commands"
          data-supported-modes="[]"
            data-supports-commands
          
          data-targets="command-palette.serverDefinedProviderElements"
          ></server-defined-provider>
        <server-defined-provider
          data-type="prefetched"
          data-fetch-debounce="0"
            data-src="/command_palette/jump_to_page_navigation"
          data-supported-modes="[&quot;&quot;]"
            data-supported-scope-types="[&quot;&quot;,&quot;owner&quot;,&quot;repository&quot;]"
          
          data-targets="command-palette.serverDefinedProviderElements"
          ></server-defined-provider>
        <server-defined-provider
          data-type="remote"
          data-fetch-debounce="200"
            data-src="/command_palette/issues"
          data-supported-modes="[&quot;#&quot;,&quot;#&quot;]"
            data-supported-scope-types="[&quot;owner&quot;,&quot;repository&quot;,&quot;&quot;]"
          
          data-targets="command-palette.serverDefinedProviderElements"
          ></server-defined-provider>
        <server-defined-provider
          data-type="remote"
          data-fetch-debounce="200"
            data-src="/command_palette/jump_to"
          data-supported-modes="[&quot;@&quot;,&quot;@&quot;]"
            data-supported-scope-types="[&quot;&quot;,&quot;owner&quot;]"
          
          data-targets="command-palette.serverDefinedProviderElements"
          ></server-defined-provider>
        <server-defined-provider
          data-type="remote"
          data-fetch-debounce="200"
            data-src="/command_palette/jump_to_members_only"
          data-supported-modes="[&quot;@&quot;,&quot;@&quot;,&quot;&quot;,&quot;&quot;]"
            data-supported-scope-types="[&quot;&quot;,&quot;owner&quot;]"
          
          data-targets="command-palette.serverDefinedProviderElements"
          ></server-defined-provider>
        <server-defined-provider
          data-type="prefetched"
          data-fetch-debounce="0"
            data-src="/command_palette/jump_to_members_only_prefetched"
          data-supported-modes="[&quot;@&quot;,&quot;@&quot;,&quot;&quot;,&quot;&quot;]"
            data-supported-scope-types="[&quot;&quot;,&quot;owner&quot;]"
          
          data-targets="command-palette.serverDefinedProviderElements"
          ></server-defined-provider>
        <server-defined-provider
          data-type="files"
          data-fetch-debounce="0"
            data-src="/command_palette/files"
          data-supported-modes="[&quot;/&quot;]"
            data-supported-scope-types="[&quot;repository&quot;]"
          
          data-targets="command-palette.serverDefinedProviderElements"
          ></server-defined-provider>
        <server-defined-provider
          data-type="remote"
          data-fetch-debounce="200"
            data-src="/command_palette/discussions"
          data-supported-modes="[&quot;#&quot;]"
            data-supported-scope-types="[&quot;owner&quot;,&quot;repository&quot;]"
          
          data-targets="command-palette.serverDefinedProviderElements"
          ></server-defined-provider>
        <server-defined-provider
          data-type="remote"
          data-fetch-debounce="200"
            data-src="/command_palette/projects"
          data-supported-modes="[&quot;#&quot;,&quot;!&quot;]"
            data-supported-scope-types="[&quot;owner&quot;,&quot;repository&quot;]"
          
          data-targets="command-palette.serverDefinedProviderElements"
          ></server-defined-provider>
        <server-defined-provider
          data-type="prefetched"
          data-fetch-debounce="0"
            data-src="/command_palette/recent_issues"
          data-supported-modes="[&quot;#&quot;,&quot;#&quot;]"
            data-supported-scope-types="[&quot;owner&quot;,&quot;repository&quot;,&quot;&quot;]"
          
          data-targets="command-palette.serverDefinedProviderElements"
          ></server-defined-provider>
        <server-defined-provider
          data-type="remote"
          data-fetch-debounce="200"
            data-src="/command_palette/teams"
          data-supported-modes="[&quot;@&quot;,&quot;&quot;]"
            data-supported-scope-types="[&quot;owner&quot;]"
          
          data-targets="command-palette.serverDefinedProviderElements"
          ></server-defined-provider>
        <server-defined-provider
          data-type="remote"
          data-fetch-debounce="200"
            data-src="/command_palette/name_with_owner_repository"
          data-supported-modes="[&quot;@&quot;,&quot;@&quot;,&quot;&quot;,&quot;&quot;]"
            data-supported-scope-types="[&quot;&quot;,&quot;owner&quot;]"
          
          data-targets="command-palette.serverDefinedProviderElements"
          ></server-defined-provider>
    </command-palette>
  </details-dialog>
</details>

<div class="position-fixed bottom-0 left-0 ml-5 mb-5 js-command-palette-toasts" style="z-index: 1000">
  <div hidden class="Toast Toast--loading">
    <span class="Toast-icon">
      <svg class="Toast--spinner" viewBox="0 0 32 32" width="18" height="18" aria-hidden="true">
        <path
          fill="#959da5"
          d="M16 0 A16 16 0 0 0 16 32 A16 16 0 0 0 16 0 M16 4 A12 12 0 0 1 16 28 A12 12 0 0 1 16 4"
        />
        <path fill="#ffffff" d="M16 0 A16 16 0 0 1 32 16 L28 16 A12 12 0 0 0 16 4z"></path>
      </svg>
    </span>
    <span class="Toast-content"></span>
  </div>

  <div hidden class="anim-fade-in fast Toast Toast--error">
    <span class="Toast-icon">
      <svg aria-hidden="true" height="16" viewBox="0 0 16 16" version="1.1" width="16" data-view-component="true" class="octicon octicon-stop">
    <path d="M4.47.22A.749.749 0 0 1 5 0h6c.199 0 .389.079.53.22l4.25 4.25c.141.14.22.331.22.53v6a.749.749 0 0 1-.22.53l-4.25 4.25A.749.749 0 0 1 11 16H5a.749.749 0 0 1-.53-.22L.22 11.53A.749.749 0 0 1 0 11V5c0-.199.079-.389.22-.53Zm.84 1.28L1.5 5.31v5.38l3.81 3.81h5.38l3.81-3.81V5.31L10.69 1.5ZM8 4a.75.75 0 0 1 .75.75v3.5a.75.75 0 0 1-1.5 0v-3.5A.75.75 0 0 1 8 4Zm0 8a1 1 0 1 1 0-2 1 1 0 0 1 0 2Z"></path>
</svg>
    </span>
    <span class="Toast-content"></span>
  </div>

  <div hidden class="anim-fade-in fast Toast Toast--warning">
    <span class="Toast-icon">
      <svg aria-hidden="true" height="16" viewBox="0 0 16 16" version="1.1" width="16" data-view-component="true" class="octicon octicon-alert">
    <path d="M6.457 1.047c.659-1.234 2.427-1.234 3.086 0l6.082 11.378A1.75 1.75 0 0 1 14.082 15H1.918a1.75 1.75 0 0 1-1.543-2.575Zm1.763.707a.25.25 0 0 0-.44 0L1.698 13.132a.25.25 0 0 0 .22.368h12.164a.25.25 0 0 0 .22-.368Zm.53 3.996v2.5a.75.75 0 0 1-1.5 0v-2.5a.75.75 0 0 1 1.5 0ZM9 11a1 1 0 1 1-2 0 1 1 0 0 1 2 0Z"></path>
</svg>
    </span>
    <span class="Toast-content"></span>
  </div>


  <div hidden class="anim-fade-in fast Toast Toast--success">
    <span class="Toast-icon">
      <svg aria-hidden="true" height="16" viewBox="0 0 16 16" version="1.1" width="16" data-view-component="true" class="octicon octicon-check">
    <path d="M13.78 4.22a.75.75 0 0 1 0 1.06l-7.25 7.25a.75.75 0 0 1-1.06 0L2.22 9.28a.751.751 0 0 1 .018-1.042.751.751 0 0 1 1.042-.018L6 10.94l6.72-6.72a.75.75 0 0 1 1.06 0Z"></path>
</svg>
    </span>
    <span class="Toast-content"></span>
  </div>

  <div hidden class="anim-fade-in fast Toast">
    <span class="Toast-icon">
      <svg aria-hidden="true" height="16" viewBox="0 0 16 16" version="1.1" width="16" data-view-component="true" class="octicon octicon-info">
    <path d="M0 8a8 8 0 1 1 16 0A8 8 0 0 1 0 8Zm8-6.5a6.5 6.5 0 1 0 0 13 6.5 6.5 0 0 0 0-13ZM6.5 7.75A.75.75 0 0 1 7.25 7h1a.75.75 0 0 1 .75.75v2.75h.25a.75.75 0 0 1 0 1.5h-2a.75.75 0 0 1 0-1.5h.25v-2h-.25a.75.75 0 0 1-.75-.75ZM8 6a1 1 0 1 1 0-2 1 1 0 0 1 0 2Z"></path>
</svg>
    </span>
    <span class="Toast-content"></span>
  </div>
</div>


  <div
    class="application-main "
    data-commit-hovercards-enabled
    data-discussion-hovercards-enabled
    data-issue-and-pr-hovercards-enabled
  >
        <div itemscope itemtype="http://schema.org/SoftwareSourceCode" class="">
    <main id="js-repo-pjax-container" >
      
      
      






    
  <div id="repository-container-header" data-turbo-replace hidden></div>




<turbo-frame id="repo-content-turbo-frame" target="_top" data-turbo-action="advance" class="">
    <div id="repo-content-pjax-container" class="repository-content " >
      <a href="https://github.dev/" class="d-none js-github-dev-shortcut" data-hotkey=".,Alt+Meta+≥,Control+Alt+.">Open in github.dev</a>
  <a href="https://github.dev/" class="d-none js-github-dev-new-tab-shortcut" data-hotkey="Shift+.,Shift+&gt;,&gt;" target="_blank" rel="noopener noreferrer">Open in a new github.dev tab</a>
    <a class="d-none" data-hotkey=",,Alt+Meta+≤,Control+Alt+," target="_blank" href="/codespaces/new/zulkaidaakbar/NLP-STTCipasung2022/tree/main?resume=1">Open in codespace</a>



    
      
    





<react-app
  app-name="react-code-view"
  initial-path="/zulkaidaakbar/NLP-STTCipasung2022/blob/main/20-September-2022/NLP-BahasaIndonesia.ipynb"
  style="min-height: calc(100vh - 62px)"
  data-ssr="false"
  data-lazy="false"
  data-alternate="false"
>
  
  <script type="application/json" data-target="react-app.embeddedData">{"payload":{"allShortcutsEnabled":true,"fileTree":{"20-September-2022":{"items":[{"name":"IntroNLPEnglish.ipynb","path":"20-September-2022/IntroNLPEnglish.ipynb","contentType":"file"},{"name":"JupyterNotebookTutorial.ipynb","path":"20-September-2022/JupyterNotebookTutorial.ipynb","contentType":"file"},{"name":"NLP-BahasaIndonesia.ipynb","path":"20-September-2022/NLP-BahasaIndonesia.ipynb","contentType":"file"},{"name":"NLP-Kuliah-1.pdf","path":"20-September-2022/NLP-Kuliah-1.pdf","contentType":"file"},{"name":"README.md","path":"20-September-2022/README.md","contentType":"file"},{"name":"SentimentAnalysisVader.ipynb","path":"20-September-2022/SentimentAnalysisVader.ipynb","contentType":"file"},{"name":"berita_feb_unpad.txt","path":"20-September-2022/berita_feb_unpad.txt","contentType":"file"},{"name":"fortune500.csv","path":"20-September-2022/fortune500.csv","contentType":"file"}],"totalCount":8},"":{"items":[{"name":"1-November-2022","path":"1-November-2022","contentType":"directory"},{"name":"15-November-2022","path":"15-November-2022","contentType":"directory"},{"name":"16-Desember-2022","path":"16-Desember-2022","contentType":"directory"},{"name":"18-Oktober-2022","path":"18-Oktober-2022","contentType":"directory"},{"name":"20-Desember-2022","path":"20-Desember-2022","contentType":"directory"},{"name":"20-September-2022","path":"20-September-2022","contentType":"directory"},{"name":"27-September-2022","path":"27-September-2022","contentType":"directory"},{"name":"29-November-2022","path":"29-November-2022","contentType":"directory"},{"name":"4-Oktober-2022","path":"4-Oktober-2022","contentType":"directory"},{"name":"8-Desember-2022","path":"8-Desember-2022","contentType":"directory"},{"name":"UAS","path":"UAS","contentType":"directory"},{"name":"UTS","path":"UTS","contentType":"directory"},{"name":"README.md","path":"README.md","contentType":"file"}],"totalCount":13}},"fileTreeProcessingTime":11.913808,"foldersToFetch":[],"reducedMotionEnabled":"system","repo":{"id":538342963,"defaultBranch":"main","name":"NLP-STTCipasung2022","ownerLogin":"zulkaidaakbar","currentUserCanPush":true,"isFork":false,"isEmpty":false,"createdAt":"2022-09-19T12:12:56.000+07:00","ownerAvatar":"https://avatars.githubusercontent.com/u/68297438?v=4","public":true,"private":false,"isOrgOwned":false},"symbolsExpanded":true,"treeExpanded":true,"refInfo":{"name":"main","listCacheKey":"v0:1671502701.1233861","canEdit":true,"refType":"branch","currentOid":"610dd6af4315c5f184d6ce161078b45e59b85433"},"path":"20-September-2022/NLP-BahasaIndonesia.ipynb","currentUser":{"id":68297438,"login":"zulkaidaakbar","userEmail":"za2hd@virginia.edu"},"blob":{"rawLines":["{"," \"cells\": [","  {","   \"cell_type\": \"markdown\",","   \"metadata\": {},","   \"source\": [","    \"# Pengantar NLP dalam Bahasa Indonesia\"","   ]","  },","  {","   \"cell_type\": \"markdown\",","   \"metadata\": {},","   \"source\": [","    \"## Import NLTK tools\"","   ]","  },","  {","   \"cell_type\": \"code\",","   \"execution_count\": 14,","   \"metadata\": {},","   \"outputs\": [","    {","     \"name\": \"stderr\",","     \"output_type\": \"stream\",","     \"text\": [","      \"[nltk_data] Downloading collection 'popular'\\n\",","      \"[nltk_data]    | \\n\",","      \"[nltk_data]    | Downloading package cmudict to\\n\",","      \"[nltk_data]    |     C:\\\\Users\\\\akbar\\\\AppData\\\\Roaming\\\\nltk_data...\\n\",","      \"[nltk_data]    |   Package cmudict is already up-to-date!\\n\",","      \"[nltk_data]    | Downloading package gazetteers to\\n\",","      \"[nltk_data]    |     C:\\\\Users\\\\akbar\\\\AppData\\\\Roaming\\\\nltk_data...\\n\",","      \"[nltk_data]    |   Package gazetteers is already up-to-date!\\n\",","      \"[nltk_data]    | Downloading package genesis to\\n\",","      \"[nltk_data]    |     C:\\\\Users\\\\akbar\\\\AppData\\\\Roaming\\\\nltk_data...\\n\",","      \"[nltk_data]    |   Package genesis is already up-to-date!\\n\",","      \"[nltk_data]    | Downloading package gutenberg to\\n\",","      \"[nltk_data]    |     C:\\\\Users\\\\akbar\\\\AppData\\\\Roaming\\\\nltk_data...\\n\",","      \"[nltk_data]    |   Package gutenberg is already up-to-date!\\n\",","      \"[nltk_data]    | Downloading package inaugural to\\n\",","      \"[nltk_data]    |     C:\\\\Users\\\\akbar\\\\AppData\\\\Roaming\\\\nltk_data...\\n\",","      \"[nltk_data]    |   Package inaugural is already up-to-date!\\n\",","      \"[nltk_data]    | Downloading package movie_reviews to\\n\",","      \"[nltk_data]    |     C:\\\\Users\\\\akbar\\\\AppData\\\\Roaming\\\\nltk_data...\\n\",","      \"[nltk_data]    |   Package movie_reviews is already up-to-date!\\n\",","      \"[nltk_data]    | Downloading package names to\\n\",","      \"[nltk_data]    |     C:\\\\Users\\\\akbar\\\\AppData\\\\Roaming\\\\nltk_data...\\n\",","      \"[nltk_data]    |   Package names is already up-to-date!\\n\",","      \"[nltk_data]    | Downloading package shakespeare to\\n\",","      \"[nltk_data]    |     C:\\\\Users\\\\akbar\\\\AppData\\\\Roaming\\\\nltk_data...\\n\",","      \"[nltk_data]    |   Package shakespeare is already up-to-date!\\n\",","      \"[nltk_data]    | Downloading package stopwords to\\n\",","      \"[nltk_data]    |     C:\\\\Users\\\\akbar\\\\AppData\\\\Roaming\\\\nltk_data...\\n\",","      \"[nltk_data]    |   Package stopwords is already up-to-date!\\n\",","      \"[nltk_data]    | Downloading package treebank to\\n\",","      \"[nltk_data]    |     C:\\\\Users\\\\akbar\\\\AppData\\\\Roaming\\\\nltk_data...\\n\",","      \"[nltk_data]    |   Package treebank is already up-to-date!\\n\",","      \"[nltk_data]    | Downloading package twitter_samples to\\n\",","      \"[nltk_data]    |     C:\\\\Users\\\\akbar\\\\AppData\\\\Roaming\\\\nltk_data...\\n\",","      \"[nltk_data]    |   Package twitter_samples is already up-to-date!\\n\",","      \"[nltk_data]    | Downloading package omw to\\n\",","      \"[nltk_data]    |     C:\\\\Users\\\\akbar\\\\AppData\\\\Roaming\\\\nltk_data...\\n\",","      \"[nltk_data]    |   Package omw is already up-to-date!\\n\",","      \"[nltk_data]    | Downloading package omw-1.4 to\\n\",","      \"[nltk_data]    |     C:\\\\Users\\\\akbar\\\\AppData\\\\Roaming\\\\nltk_data...\\n\",","      \"[nltk_data]    |   Package omw-1.4 is already up-to-date!\\n\",","      \"[nltk_data]    | Downloading package wordnet to\\n\",","      \"[nltk_data]    |     C:\\\\Users\\\\akbar\\\\AppData\\\\Roaming\\\\nltk_data...\\n\",","      \"[nltk_data]    |   Package wordnet is already up-to-date!\\n\",","      \"[nltk_data]    | Downloading package wordnet2021 to\\n\",","      \"[nltk_data]    |     C:\\\\Users\\\\akbar\\\\AppData\\\\Roaming\\\\nltk_data...\\n\",","      \"[nltk_data]    |   Package wordnet2021 is already up-to-date!\\n\",","      \"[nltk_data]    | Downloading package wordnet31 to\\n\",","      \"[nltk_data]    |     C:\\\\Users\\\\akbar\\\\AppData\\\\Roaming\\\\nltk_data...\\n\",","      \"[nltk_data]    |   Package wordnet31 is already up-to-date!\\n\",","      \"[nltk_data]    | Downloading package wordnet_ic to\\n\",","      \"[nltk_data]    |     C:\\\\Users\\\\akbar\\\\AppData\\\\Roaming\\\\nltk_data...\\n\",","      \"[nltk_data]    |   Package wordnet_ic is already up-to-date!\\n\",","      \"[nltk_data]    | Downloading package words to\\n\",","      \"[nltk_data]    |     C:\\\\Users\\\\akbar\\\\AppData\\\\Roaming\\\\nltk_data...\\n\",","      \"[nltk_data]    |   Package words is already up-to-date!\\n\",","      \"[nltk_data]    | Downloading package maxent_ne_chunker to\\n\",","      \"[nltk_data]    |     C:\\\\Users\\\\akbar\\\\AppData\\\\Roaming\\\\nltk_data...\\n\",","      \"[nltk_data]    |   Package maxent_ne_chunker is already up-to-date!\\n\",","      \"[nltk_data]    | Downloading package punkt to\\n\",","      \"[nltk_data]    |     C:\\\\Users\\\\akbar\\\\AppData\\\\Roaming\\\\nltk_data...\\n\",","      \"[nltk_data]    |   Package punkt is already up-to-date!\\n\",","      \"[nltk_data]    | Downloading package snowball_data to\\n\",","      \"[nltk_data]    |     C:\\\\Users\\\\akbar\\\\AppData\\\\Roaming\\\\nltk_data...\\n\",","      \"[nltk_data]    |   Package snowball_data is already up-to-date!\\n\",","      \"[nltk_data]    | Downloading package averaged_perceptron_tagger to\\n\",","      \"[nltk_data]    |     C:\\\\Users\\\\akbar\\\\AppData\\\\Roaming\\\\nltk_data...\\n\",","      \"[nltk_data]    |   Package averaged_perceptron_tagger is already up-\\n\",","      \"[nltk_data]    |       to-date!\\n\",","      \"[nltk_data]    | \\n\",","      \"[nltk_data]  Done downloading collection popular\\n\"","     ]","    },","    {","     \"data\": {","      \"text/plain\": [","       \"True\"","      ]","     },","     \"execution_count\": 14,","     \"metadata\": {},","     \"output_type\": \"execute_result\"","    }","   ],","   \"source\": [","    \"import nltk\\n\",","    \"nltk.download('popular')\"","   ]","  },","  {","   \"cell_type\": \"markdown\",","   \"metadata\": {},","   \"source\": [","    \"Instalasi Pysastrawi dan Sastrawi\"","   ]","  },","  {","   \"cell_type\": \"code\",","   \"execution_count\": 15,","   \"metadata\": {},","   \"outputs\": [","    {","     \"name\": \"stdout\",","     \"output_type\": \"stream\",","     \"text\": [","      \"Requirement already satisfied: PySastrawi in c:\\\\users\\\\akbar\\\\anaconda3\\\\lib\\\\site-packages (1.2.0)\\n\"","     ]","    }","   ],","   \"source\": [","    \"!pip install PySastrawi\"","   ]","  },","  {","   \"cell_type\": \"code\",","   \"execution_count\": 16,","   \"metadata\": {},","   \"outputs\": [","    {","     \"name\": \"stdout\",","     \"output_type\": \"stream\",","     \"text\": [","      \"Requirement already satisfied: Sastrawi in c:\\\\users\\\\akbar\\\\anaconda3\\\\lib\\\\site-packages (1.0.1)\\n\"","     ]","    }","   ],","   \"source\": [","    \"!pip install Sastrawi\"","   ]","  },","  {","   \"cell_type\": \"markdown\",","   \"metadata\": {},","   \"source\": [","    \"# Preproses Text Dengan NLTK dan Sastrawi\"","   ]","  },","  {","   \"cell_type\": \"code\",","   \"execution_count\": 17,","   \"metadata\": {},","   \"outputs\": [],","   \"source\": [","    \"import pandas as pd\\n\",","    \"import re\\n\",","    \"from nltk.corpus import stopwords\\n\",","    \"from nltk.tokenize import word_tokenize\"","   ]","  },","  {","   \"cell_type\": \"code\",","   \"execution_count\": 5,","   \"metadata\": {},","   \"outputs\": [","    {","     \"name\": \"stdout\",","     \"output_type\": \"stream\",","     \"text\": [","      \"menristek dorong unpad membangun sdm unggul melalui penciptaan ekosistem inovasi program doktor ilmu manajemen fakultas ekonomi dan bisnis universitas padjadjaran menggelar kuliah perdana virtual bagi mahasiswa baru tahun akademik dengan tema akselerasi penguatan sistem inovasi nasional peluang dan tantangan pasca pandemi jumat  prof bambang menteri riset dan teknologi ri atau menristek prof bambang brodjonegoro saat menjadi pembicara kunci dalam acara kuliah perdana program doktor ilmu manajemen fakultas ekonomi dan bisnis universitas padjadjaran secara virtual jumat  menteri riset dan teknologi ri atau menristek prof bambang brodjonegoro memaparkan strategi untuk mendorong indonesia keluar dari jurang negara pendapatan menengah menuju negara maju pada 2045 mendatang menurutnya perlu strategi khusus untuk mendukung pertumbuhan indonesia satu di antaranya adalah mengubah orientasi ekonomi yang semula berbasis sumber daya alam menjadi negara dengan perekonomian berbasis inovasi inovasi sendiri harus dikembangkan ekosistem yang mendorong inovasi harus dibentuk dijaga dan disempurnakan ungkap prof bambang saat menjadi pembicara kunci dalam acara kuliah perdana program doktor ilmu manajemen fakultas ekonomi dan bisnis universitas padjadjaran secara virtual jumat  meski demikian inovasi di indonesia belum banyak berkembang karena belum adanya kesepahaman antara dunia penelitian dan dunia usaha karena itu penguatan inovasi perlu menekankan pada strategi kolaborasi triple helix atau kolaborasi yang melibatkan tiga unsur pemangku kepentingan yaitu akademisi dunia usaha dan pemerintah kolaborasi ini kata prof bambang akan mendorong terciptanya kesepahaman antara aktivitas penelitian dan kebutuhan di pasar melalui fasilitasi penuh pemerintah tanpa kolaborasi ini dikhawatirkan sangat sedikit produk inovasi yang bisa diterima oleh pasar lebih lanjut prof bambang memaparkan inovasi indonesia perlu mempertimbangkan sejumlah hal pertama inovasi yang dilahirkan merupakan teknologi tepat guna yang mudah dipakai murah serta relevan dengan kondisi setempat selanjutnya inovasi bisa menggantikan peran impor mampu menciptakan nilai tambah dan komersialisasi beragam keankeragaman hayati di indonesia serta mengadopsi teknologi terkini dalam upaya mewujudkan strategi tersebut perguruan tinggi menjadi sektor yang terus didorong untuk menciptakan ekosistem inovasi prof bambang menjelaskan pendidikan menjadi kunci unutk melahirkan sumber daya manusia berkualitas yang akan menjadi penentu keberhasilan penguatan inovasi perguruan tinggi didorong untuk lebih sering lakukan riset dan interaksi dengan dunia luar kata prof bambang kuliah perdana bertajuk akselerasi penguatan sistem inovasi nasional: peluang dan tantangan pasca-pandemi ini dibuka secara resmi oleh rektor unpad prof rina indiastuti acara juga diisi dengan penyampaian materi kuliah oleh guru besar feb unpad yang juga atase pendidikan dan kebudayaan kbri washington dc amerika serikat prof popy rufaidah phd\\n\"","     ]","    }","   ],","   \"source\": [","    \"f = open('D:\\\\\\\\Book_and_Physics\\\\\\\\NLP\\\\\\\\Tutorial\\\\\\\\Sastrawi\\\\\\\\Praktek-NLP-Sederhana-main\\\\\\\\berita_feb_unpad.txt', 'r')\\n\",","    \"isi_berita = f.read()\\n\",","    \"print(isi_berita)\"","   ]","  },","  {","   \"cell_type\": \"code\",","   \"execution_count\": 6,","   \"metadata\": {},","   \"outputs\": [","    {","     \"name\": \"stdout\",","     \"output_type\": \"stream\",","     \"text\": [","      \"['menristek', 'dorong', 'unpad', 'membangun', 'sdm', 'unggul', 'melalui', 'penciptaan', 'ekosistem', 'inovasi', 'program', 'doktor', 'ilmu', 'manajemen', 'fakultas', 'ekonomi', 'dan', 'bisnis', 'universitas', 'padjadjaran', 'menggelar', 'kuliah', 'perdana', 'virtual', 'bagi', 'mahasiswa', 'baru', 'tahun', 'akademik', 'dengan', 'tema', 'akselerasi', 'penguatan', 'sistem', 'inovasi', 'nasional', 'peluang', 'dan', 'tantangan', 'pasca', 'pandemi', 'jumat', 'prof', 'bambang', 'menteri', 'riset', 'dan', 'teknologi', 'ri', 'atau', 'menristek', 'prof', 'bambang', 'brodjonegoro', 'saat', 'menjadi', 'pembicara', 'kunci', 'dalam', 'acara', 'kuliah', 'perdana', 'program', 'doktor', 'ilmu', 'manajemen', 'fakultas', 'ekonomi', 'dan', 'bisnis', 'universitas', 'padjadjaran', 'secara', 'virtual', 'jumat', 'menteri', 'riset', 'dan', 'teknologi', 'ri', 'atau', 'menristek', 'prof', 'bambang', 'brodjonegoro', 'memaparkan', 'strategi', 'untuk', 'mendorong', 'indonesia', 'keluar', 'dari', 'jurang', 'negara', 'pendapatan', 'menengah', 'menuju', 'negara', 'maju', 'pada', '2045', 'mendatang', 'menurutnya', 'perlu', 'strategi', 'khusus', 'untuk', 'mendukung', 'pertumbuhan', 'indonesia', 'satu', 'di', 'antaranya', 'adalah', 'mengubah', 'orientasi', 'ekonomi', 'yang', 'semula', 'berbasis', 'sumber', 'daya', 'alam', 'menjadi', 'negara', 'dengan', 'perekonomian', 'berbasis', 'inovasi', 'inovasi', 'sendiri', 'harus', 'dikembangkan', 'ekosistem', 'yang', 'mendorong', 'inovasi', 'harus', 'dibentuk', 'dijaga', 'dan', 'disempurnakan', 'ungkap', 'prof', 'bambang', 'saat', 'menjadi', 'pembicara', 'kunci', 'dalam', 'acara', 'kuliah', 'perdana', 'program', 'doktor', 'ilmu', 'manajemen', 'fakultas', 'ekonomi', 'dan', 'bisnis', 'universitas', 'padjadjaran', 'secara', 'virtual', 'jumat', 'meski', 'demikian', 'inovasi', 'di', 'indonesia', 'belum', 'banyak', 'berkembang', 'karena', 'belum', 'adanya', 'kesepahaman', 'antara', 'dunia', 'penelitian', 'dan', 'dunia', 'usaha', 'karena', 'itu', 'penguatan', 'inovasi', 'perlu', 'menekankan', 'pada', 'strategi', 'kolaborasi', 'triple', 'helix', 'atau', 'kolaborasi', 'yang', 'melibatkan', 'tiga', 'unsur', 'pemangku', 'kepentingan', 'yaitu', 'akademisi', 'dunia', 'usaha', 'dan', 'pemerintah', 'kolaborasi', 'ini', 'kata', 'prof', 'bambang', 'akan', 'mendorong', 'terciptanya', 'kesepahaman', 'antara', 'aktivitas', 'penelitian', 'dan', 'kebutuhan', 'di', 'pasar', 'melalui', 'fasilitasi', 'penuh', 'pemerintah', 'tanpa', 'kolaborasi', 'ini', 'dikhawatirkan', 'sangat', 'sedikit', 'produk', 'inovasi', 'yang', 'bisa', 'diterima', 'oleh', 'pasar', 'lebih', 'lanjut', 'prof', 'bambang', 'memaparkan', 'inovasi', 'indonesia', 'perlu', 'mempertimbangkan', 'sejumlah', 'hal', 'pertama', 'inovasi', 'yang', 'dilahirkan', 'merupakan', 'teknologi', 'tepat', 'guna', 'yang', 'mudah', 'dipakai', 'murah', 'serta', 'relevan', 'dengan', 'kondisi', 'setempat', 'selanjutnya', 'inovasi', 'bisa', 'menggantikan', 'peran', 'impor', 'mampu', 'menciptakan', 'nilai', 'tambah', 'dan', 'komersialisasi', 'beragam', 'keankeragaman', 'hayati', 'di', 'indonesia', 'serta', 'mengadopsi', 'teknologi', 'terkini', 'dalam', 'upaya', 'mewujudkan', 'strategi', 'tersebut', 'perguruan', 'tinggi', 'menjadi', 'sektor', 'yang', 'terus', 'didorong', 'untuk', 'menciptakan', 'ekosistem', 'inovasi', 'prof', 'bambang', 'menjelaskan', 'pendidikan', 'menjadi', 'kunci', 'unutk', 'melahirkan', 'sumber', 'daya', 'manusia', 'berkualitas', 'yang', 'akan', 'menjadi', 'penentu', 'keberhasilan', 'penguatan', 'inovasi', 'perguruan', 'tinggi', 'didorong', 'untuk', 'lebih', 'sering', 'lakukan', 'riset', 'dan', 'interaksi', 'dengan', 'dunia', 'luar', 'kata', 'prof', 'bambang', 'kuliah', 'perdana', 'bertajuk', 'akselerasi', 'penguatan', 'sistem', 'inovasi', 'nasional', ':', 'peluang', 'dan', 'tantangan', 'pasca-pandemi', 'ini', 'dibuka', 'secara', 'resmi', 'oleh', 'rektor', 'unpad', 'prof', 'rina', 'indiastuti', 'acara', 'juga', 'diisi', 'dengan', 'penyampaian', 'materi', 'kuliah', 'oleh', 'guru', 'besar', 'feb', 'unpad', 'yang', 'juga', 'atase', 'pendidikan', 'dan', 'kebudayaan', 'kbri', 'washington', 'dc', 'amerika', 'serikat', 'prof', 'popy', 'rufaidah', 'phd']\\n\"","     ]","    }","   ],","   \"source\": [","    \"word_tokens = word_tokenize(isi_berita)\\n\",","    \"print(word_tokens)\"","   ]","  },","  {","   \"cell_type\": \"code\",","   \"execution_count\": 7,","   \"metadata\": {},","   \"outputs\": [","    {","     \"name\": \"stdout\",","     \"output_type\": \"stream\",","     \"text\": [","      \"['menristek', 'dorong', 'unpad', 'membangun', 'sdm', 'unggul', 'penciptaan', 'ekosistem', 'inovasi', 'program', 'doktor', 'ilmu', 'manajemen', 'fakultas', 'ekonomi', 'bisnis', 'universitas', 'padjadjaran', 'menggelar', 'kuliah', 'perdana', 'virtual', 'mahasiswa', 'akademik', 'tema', 'akselerasi', 'penguatan', 'sistem', 'inovasi', 'nasional', 'peluang', 'tantangan', 'pasca', 'pandemi', 'jumat', 'prof', 'bambang', 'menteri', 'riset', 'teknologi', 'ri', 'menristek', 'prof', 'bambang', 'brodjonegoro', 'pembicara', 'kunci', 'acara', 'kuliah', 'perdana', 'program', 'doktor', 'ilmu', 'manajemen', 'fakultas', 'ekonomi', 'bisnis', 'universitas', 'padjadjaran', 'virtual', 'jumat', 'menteri', 'riset', 'teknologi', 'ri', 'menristek', 'prof', 'bambang', 'brodjonegoro', 'memaparkan', 'strategi', 'mendorong', 'indonesia', 'jurang', 'negara', 'pendapatan', 'menengah', 'negara', 'maju', '2045', 'menurutnya', 'strategi', 'khusus', 'mendukung', 'pertumbuhan', 'indonesia', 'mengubah', 'orientasi', 'ekonomi', 'berbasis', 'sumber', 'daya', 'alam', 'negara', 'perekonomian', 'berbasis', 'inovasi', 'inovasi', 'dikembangkan', 'ekosistem', 'mendorong', 'inovasi', 'dibentuk', 'dijaga', 'disempurnakan', 'prof', 'bambang', 'pembicara', 'kunci', 'acara', 'kuliah', 'perdana', 'program', 'doktor', 'ilmu', 'manajemen', 'fakultas', 'ekonomi', 'bisnis', 'universitas', 'padjadjaran', 'virtual', 'jumat', 'inovasi', 'indonesia', 'berkembang', 'kesepahaman', 'dunia', 'penelitian', 'dunia', 'usaha', 'penguatan', 'inovasi', 'menekankan', 'strategi', 'kolaborasi', 'triple', 'helix', 'kolaborasi', 'melibatkan', 'unsur', 'pemangku', 'kepentingan', 'akademisi', 'dunia', 'usaha', 'pemerintah', 'kolaborasi', 'prof', 'bambang', 'mendorong', 'terciptanya', 'kesepahaman', 'aktivitas', 'penelitian', 'kebutuhan', 'pasar', 'fasilitasi', 'penuh', 'pemerintah', 'kolaborasi', 'dikhawatirkan', 'produk', 'inovasi', 'diterima', 'pasar', 'prof', 'bambang', 'memaparkan', 'inovasi', 'indonesia', 'mempertimbangkan', 'inovasi', 'dilahirkan', 'teknologi', 'mudah', 'dipakai', 'murah', 'relevan', 'kondisi', 'inovasi', 'menggantikan', 'peran', 'impor', 'menciptakan', 'nilai', 'komersialisasi', 'beragam', 'keankeragaman', 'hayati', 'indonesia', 'mengadopsi', 'teknologi', 'terkini', 'upaya', 'mewujudkan', 'strategi', 'perguruan', 'sektor', 'didorong', 'menciptakan', 'ekosistem', 'inovasi', 'prof', 'bambang', 'pendidikan', 'kunci', 'unutk', 'melahirkan', 'sumber', 'daya', 'manusia', 'berkualitas', 'penentu', 'keberhasilan', 'penguatan', 'inovasi', 'perguruan', 'didorong', 'lakukan', 'riset', 'interaksi', 'dunia', 'prof', 'bambang', 'kuliah', 'perdana', 'bertajuk', 'akselerasi', 'penguatan', 'sistem', 'inovasi', 'nasional', ':', 'peluang', 'tantangan', 'pasca-pandemi', 'dibuka', 'resmi', 'rektor', 'unpad', 'prof', 'rina', 'indiastuti', 'acara', 'diisi', 'penyampaian', 'materi', 'kuliah', 'guru', 'feb', 'unpad', 'atase', 'pendidikan', 'kebudayaan', 'kbri', 'washington', 'dc', 'amerika', 'serikat', 'prof', 'popy', 'rufaidah', 'phd']\\n\"","     ]","    }","   ],","   \"source\": [","    \"stop_words = set(stopwords.words('indonesian'))\\n\",","    \"word_tokens_no_stopwords = [w for w in word_tokens if not w in stop_words]\\n\",","    \"print(word_tokens_no_stopwords)\"","   ]","  },","  {","   \"cell_type\": \"code\",","   \"execution_count\": 8,","   \"metadata\": {},","   \"outputs\": [","    {","     \"name\": \"stdout\",","     \"output_type\": \"stream\",","     \"text\": [","      \"[('inovasi', 14), ('dan', 14), ('prof', 10), ('yang', 9), ('bambang', 8), ('menjadi', 6), ('kuliah', 5), ('dengan', 5), ('indonesia', 5), ('ekonomi', 4), ('perdana', 4), ('penguatan', 4), ('teknologi', 4), ('strategi', 4), ('untuk', 4), ('di', 4), ('dunia', 4), ('kolaborasi', 4), ('menristek', 3), ('unpad', 3)]\\n\",","      \"\\n\",","      \"[('inovasi', 14), ('prof', 10), ('bambang', 8), ('kuliah', 5), ('indonesia', 5), ('ekonomi', 4), ('perdana', 4), ('penguatan', 4), ('teknologi', 4), ('strategi', 4), ('dunia', 4), ('kolaborasi', 4), ('menristek', 3), ('unpad', 3), ('ekosistem', 3), ('program', 3), ('doktor', 3), ('ilmu', 3), ('manajemen', 3), ('fakultas', 3)]\\n\"","     ]","    }","   ],","   \"source\": [","    \"freq_kata_1 = nltk.FreqDist(word_tokens)\\n\",","    \"freq_kata_2 = nltk.FreqDist(word_tokens_no_stopwords)\\n\",","    \"print(freq_kata_1.most_common(20))\\n\",","    \"print()\\n\",","    \"print(freq_kata_2.most_common(20))\"","   ]","  },","  {","   \"cell_type\": \"code\",","   \"execution_count\": 9,","   \"metadata\": {},","   \"outputs\": [],","   \"source\": [","    \"import matplotlib.pyplot as plt\"","   ]","  },","  {","   \"cell_type\": \"code\",","   \"execution_count\": 10,","   \"metadata\": {},","   \"outputs\": [","    {","     \"data\": {","      \"image/png\": \"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\\n\",","      \"text/plain\": [","       \"\u003cFigure size 432x288 with 1 Axes\u003e\"","      ]","     },","     \"metadata\": {","      \"needs_background\": \"light\"","     },","     \"output_type\": \"display_data\"","    },","    {","     \"data\": {","      \"image/png\": \"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\\n\",","      \"text/plain\": [","       \"\u003cFigure size 432x288 with 1 Axes\u003e\"","      ]","     },","     \"metadata\": {","      \"needs_background\": \"light\"","     },","     \"output_type\": \"display_data\"","    }","   ],","   \"source\": [","    \"freq_kata_1.plot(20)\\n\",","    \"freq_kata_2.plot(20)\\n\",","    \"plt.show()\"","   ]","  },","  {","   \"cell_type\": \"code\",","   \"execution_count\": 12,","   \"metadata\": {},","   \"outputs\": [","    {","     \"data\": {","      \"image/png\": \"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\\n\",","      \"text/plain\": [","       \"\u003cFigure size 432x288 with 1 Axes\u003e\"","      ]","     },","     \"metadata\": {},","     \"output_type\": \"display_data\"","    }","   ],","   \"source\": [","    \"#Import datavis libraries\\n\",","    \"import matplotlib.pyplot as plt\\n\",","    \"import seaborn as sns\\n\",","    \"\\n\",","    \"# Figures inline and set visualization style\\n\",","    \"%matplotlib inline\\n\",","    \"sns.set()\\n\",","    \"\\n\",","    \"# Create freq dist and plot\\n\",","    \"freqdist1 = nltk.FreqDist(word_tokens_no_stopwords)\\n\",","    \"freqdist1.plot(25)\\n\",","    \"plt.show()\"","   ]","  },","  {","   \"cell_type\": \"code\",","   \"execution_count\": null,","   \"metadata\": {},","   \"outputs\": [],","   \"source\": []","  },","  {","   \"cell_type\": \"code\",","   \"execution_count\": null,","   \"metadata\": {},","   \"outputs\": [],","   \"source\": []","  },","  {","   \"cell_type\": \"code\",","   \"execution_count\": null,","   \"metadata\": {},","   \"outputs\": [],","   \"source\": []","  },","  {","   \"cell_type\": \"code\",","   \"execution_count\": null,","   \"metadata\": {},","   \"outputs\": [],","   \"source\": []","  }"," ],"," \"metadata\": {","  \"kernelspec\": {","   \"display_name\": \"Python 3 (ipykernel)\",","   \"language\": \"python\",","   \"name\": \"python3\"","  },","  \"language_info\": {","   \"codemirror_mode\": {","    \"name\": \"ipython\",","    \"version\": 3","   },","   \"file_extension\": \".py\",","   \"mimetype\": \"text/x-python\",","   \"name\": \"python\",","   \"nbconvert_exporter\": \"python\",","   \"pygments_lexer\": \"ipython3\",","   \"version\": \"3.9.12\"","  }"," },"," \"nbformat\": 4,"," \"nbformat_minor\": 4","}"],"stylingDirectives":null,"csv":null,"csvError":null,"dependabotInfo":{"showConfigurationBanner":null,"configFilePath":null,"networkDependabotPath":"/zulkaidaakbar/NLP-STTCipasung2022/network/updates","dismissConfigurationNoticePath":"/settings/dismiss-notice/dependabot_configuration_notice","configurationNoticeDismissed":false,"repoAlertsPath":"/zulkaidaakbar/NLP-STTCipasung2022/security/dependabot","repoSecurityAndAnalysisPath":"/zulkaidaakbar/NLP-STTCipasung2022/settings/security_analysis","repoOwnerIsOrg":false,"currentUserCanAdminRepo":true},"displayName":"NLP-BahasaIndonesia.ipynb","displayUrl":"https://notebooks.githubusercontent.com/view/ipynb?browser=chrome\u0026bypass_fastly=true\u0026color_mode=auto\u0026commit=610dd6af4315c5f184d6ce161078b45e59b85433\u0026device=unknown_device\u0026docs_host=https%3A%2F%2Fdocs.github.com\u0026enc_url=68747470733a2f2f7261772e67697468756275736572636f6e74656e742e636f6d2f7a756c6b61696461616b6261722f4e4c502d5354544369706173756e67323032322f363130646436616634333135633566313834643663653136313037386234356535396238353433332f32302d53657074656d6265722d323032322f4e4c502d426168617361496e646f6e657369612e6970796e62\u0026logged_in=true\u0026nwo=zulkaidaakbar%2FNLP-STTCipasung2022\u0026path=20-September-2022%2FNLP-BahasaIndonesia.ipynb\u0026platform=windows\u0026repository_id=538342963\u0026repository_type=Repository\u0026version=116","headerInfo":{"blobSize":"86.7 KB","deleteInfo":{"deleteTooltip":"Delete this file"},"editInfo":{"editTooltip":"Edit this file"},"ghDesktopPath":"https://desktop.github.com","gitLfsPath":null,"onBranch":true,"shortPath":"d570b53","siteNavLoginPath":"/login?return_to=https%3A%2F%2Fgithub.com%2Fzulkaidaakbar%2FNLP-STTCipasung2022%2Fblob%2Fmain%2F20-September-2022%2FNLP-BahasaIndonesia.ipynb","isCSV":false,"isRichtext":false,"toc":null,"lineInfo":{"truncatedLoc":"380","truncatedSloc":"380"},"mode":"file"},"image":false,"isCodeownersFile":null,"isPlain":false,"isValidLegacyIssueTemplate":false,"issueTemplateHelpUrl":"https://docs.github.com/articles/about-issue-and-pull-request-templates","issueTemplate":null,"discussionTemplate":null,"language":"Jupyter Notebook","languageID":185,"large":false,"loggedIn":true,"newDiscussionPath":"/zulkaidaakbar/NLP-STTCipasung2022/discussions/new","newIssuePath":"/zulkaidaakbar/NLP-STTCipasung2022/issues/new","planSupportInfo":{"repoIsFork":null,"repoOwnedByCurrentUser":null,"requestFullPath":"/zulkaidaakbar/NLP-STTCipasung2022/blob/main/20-September-2022/NLP-BahasaIndonesia.ipynb","showFreeOrgGatedFeatureMessage":null,"showPlanSupportBanner":null,"upgradeDataAttributes":null,"upgradePath":null},"publishBannersInfo":{"dismissActionNoticePath":"/settings/dismiss-notice/publish_action_from_dockerfile","dismissStackNoticePath":"/settings/dismiss-notice/publish_stack_from_file","releasePath":"/zulkaidaakbar/NLP-STTCipasung2022/releases/new?marketplace=true","showPublishActionBanner":false,"showPublishStackBanner":false},"renderImageOrRaw":false,"richText":null,"renderedFileInfo":{"identityUUID":"54c09ddf-a0eb-491a-ad2b-5426a764e61a","renderFileType":"ipynb","size":88773},"shortPath":null,"tabSize":8,"topBannersInfo":{"overridingGlobalFundingFile":false,"globalPreferredFundingPath":null,"repoOwner":"zulkaidaakbar","repoName":"NLP-STTCipasung2022","showInvalidCitationWarning":false,"citationHelpUrl":"https://docs.github.com/en/github/creating-cloning-and-archiving-repositories/creating-a-repository-on-github/about-citation-files","showDependabotConfigurationBanner":null,"actionsOnboardingTip":null},"truncated":false,"viewable":true,"workflowRedirectUrl":null,"symbols":{"timedOut":false,"notAnalyzed":true,"symbols":[]}},"copilotInfo":{"documentationUrl":"https://docs.github.com/copilot/overview-of-github-copilot/about-github-copilot-for-business","notices":{"codeViewPopover":{"dismissed":false,"dismissPath":"/settings/dismiss-notice/code_view_copilot_popover"}},"userAccess":{"accessAllowed":false,"hasSubscriptionEnded":false,"orgHasCFBAccess":false,"userHasCFIAccess":false,"userHasOrgs":true,"userIsOrgAdmin":false,"userIsOrgMember":false,"business":null,"featureRequestInfo":null}},"csrf_tokens":{"/zulkaidaakbar/NLP-STTCipasung2022/branches":{"post":"3GfeJj1LHgmtVxKxHNXyi_-WwkyvlxrdlNmZnyFAtz5gDoEmFMxZ0lIS2QlC7gfHx8G_jlCV60agc2JBPP8Vog"},"/repos/preferences":{"post":"Z8ahbUKMrzTdqiDbmqOfB9f3JaXed6uRJ4J6UgeZkdOAfUMpGcnovWcLfyvdoh69HQBumO1zb1krxVVWKg5fEA"}}},"title":"NLP-STTCipasung2022/20-September-2022/NLP-BahasaIndonesia.ipynb at main · zulkaidaakbar/NLP-STTCipasung2022","appPayload":{"helpUrl":"https://docs.github.com","findFileWorkerPath":"/assets-cdn/worker/find-file-worker-83d4418b406d.js","findInFileWorkerPath":"/assets-cdn/worker/find-in-file-worker-2dd6b5095052.js","githubDevUrl":"https://github.dev/","enabled_features":{"virtualize_file_tree":true,"react_repos_overview":true,"code_nav_ui_events":false,"ref_selector_v2":false,"blob_firefox_separate_characters":true,"copilot_conversational_ux":false,"copilot_conversational_ux_symbols":false,"copilot_popover_file_editor_header":true,"copilot_smell_icebreaker_ux":false,"lfs_download_button":true}}}</script>
  <div data-target="react-app.reactRoot"></div>
</react-app>
</turbo-frame>



  </div>

</turbo-frame>

    </main>
  </div>

  </div>

          <footer class="footer width-full container-xl p-responsive" role="contentinfo">
  <h2 class='sr-only'>Footer</h2>

  <div class="position-relative d-flex flex-items-center pb-2 f6 color-fg-muted border-top color-border-muted flex-column-reverse flex-lg-row flex-wrap flex-lg-nowrap mt-6 pt-6">
    <div class="list-style-none d-flex flex-wrap col-0 col-lg-2 flex-justify-start flex-lg-justify-between mb-2 mb-lg-0">
      <div class="mt-2 mt-lg-0 d-flex flex-items-center">
        <a aria-label="Homepage" title="GitHub" class="footer-octicon mr-2" href="https://github.com">
          <svg aria-hidden="true" height="24" viewBox="0 0 16 16" version="1.1" width="24" data-view-component="true" class="octicon octicon-mark-github">
    <path d="M8 0c4.42 0 8 3.58 8 8a8.013 8.013 0 0 1-5.45 7.59c-.4.08-.55-.17-.55-.38 0-.27.01-1.13.01-2.2 0-.75-.25-1.23-.54-1.48 1.78-.2 3.65-.88 3.65-3.95 0-.88-.31-1.59-.82-2.15.08-.2.36-1.02-.08-2.12 0 0-.67-.22-2.2.82-.64-.18-1.32-.27-2-.27-.68 0-1.36.09-2 .27-1.53-1.03-2.2-.82-2.2-.82-.44 1.1-.16 1.92-.08 2.12-.51.56-.82 1.28-.82 2.15 0 3.06 1.86 3.75 3.64 3.95-.23.2-.44.55-.51 1.07-.46.21-1.61.55-2.33-.66-.15-.24-.6-.83-1.23-.82-.67.01-.27.38.01.53.34.19.73.9.82 1.13.16.45.68 1.31 2.69.94 0 .67.01 1.3.01 1.49 0 .21-.15.45-.55.38A7.995 7.995 0 0 1 0 8c0-4.42 3.58-8 8-8Z"></path>
</svg>
</a>        <span>
        &copy; 2023 GitHub, Inc.
        </span>
      </div>
    </div>

    <nav aria-label='Footer' class="col-12 col-lg-8">
      <h3 class='sr-only' id='sr-footer-heading'>Footer navigation</h3>
      <ul class="list-style-none d-flex flex-wrap col-12 flex-justify-center flex-lg-justify-between mb-2 mb-lg-0" aria-labelledby='sr-footer-heading'>
          <li class="mr-3 mr-lg-0"><a href="https://docs.github.com/site-policy/github-terms/github-terms-of-service" data-analytics-event="{&quot;category&quot;:&quot;Footer&quot;,&quot;action&quot;:&quot;go to terms&quot;,&quot;label&quot;:&quot;text:terms&quot;}">Terms</a></li>
          <li class="mr-3 mr-lg-0"><a href="https://docs.github.com/site-policy/privacy-policies/github-privacy-statement" data-analytics-event="{&quot;category&quot;:&quot;Footer&quot;,&quot;action&quot;:&quot;go to privacy&quot;,&quot;label&quot;:&quot;text:privacy&quot;}">Privacy</a></li>
          <li class="mr-3 mr-lg-0"><a data-analytics-event="{&quot;category&quot;:&quot;Footer&quot;,&quot;action&quot;:&quot;go to security&quot;,&quot;label&quot;:&quot;text:security&quot;}" href="https://github.com/security">Security</a></li>
          <li class="mr-3 mr-lg-0"><a href="https://www.githubstatus.com/" data-analytics-event="{&quot;category&quot;:&quot;Footer&quot;,&quot;action&quot;:&quot;go to status&quot;,&quot;label&quot;:&quot;text:status&quot;}">Status</a></li>
          <li class="mr-3 mr-lg-0"><a data-ga-click="Footer, go to help, text:Docs" href="https://docs.github.com">Docs</a></li>
          <li class="mr-3 mr-lg-0"><a href="https://support.github.com?tags=dotcom-footer" data-analytics-event="{&quot;category&quot;:&quot;Footer&quot;,&quot;action&quot;:&quot;go to contact&quot;,&quot;label&quot;:&quot;text:contact&quot;}">Contact GitHub</a></li>
          <li class="mr-3 mr-lg-0"><a href="https://github.com/pricing" data-analytics-event="{&quot;category&quot;:&quot;Footer&quot;,&quot;action&quot;:&quot;go to Pricing&quot;,&quot;label&quot;:&quot;text:Pricing&quot;}">Pricing</a></li>
        <li class="mr-3 mr-lg-0"><a href="https://docs.github.com" data-analytics-event="{&quot;category&quot;:&quot;Footer&quot;,&quot;action&quot;:&quot;go to api&quot;,&quot;label&quot;:&quot;text:api&quot;}">API</a></li>
        <li class="mr-3 mr-lg-0"><a href="https://services.github.com" data-analytics-event="{&quot;category&quot;:&quot;Footer&quot;,&quot;action&quot;:&quot;go to training&quot;,&quot;label&quot;:&quot;text:training&quot;}">Training</a></li>
          <li class="mr-3 mr-lg-0"><a href="https://github.blog" data-analytics-event="{&quot;category&quot;:&quot;Footer&quot;,&quot;action&quot;:&quot;go to blog&quot;,&quot;label&quot;:&quot;text:blog&quot;}">Blog</a></li>
          <li><a data-ga-click="Footer, go to about, text:about" href="https://github.com/about">About</a></li>
      </ul>
    </nav>
  </div>

  <div class="d-flex flex-justify-center pb-6">
    <span class="f6 color-fg-muted"></span>
  </div>
</footer>




  <div id="ajax-error-message" class="ajax-error-message flash flash-error" hidden>
    <svg aria-hidden="true" height="16" viewBox="0 0 16 16" version="1.1" width="16" data-view-component="true" class="octicon octicon-alert">
    <path d="M6.457 1.047c.659-1.234 2.427-1.234 3.086 0l6.082 11.378A1.75 1.75 0 0 1 14.082 15H1.918a1.75 1.75 0 0 1-1.543-2.575Zm1.763.707a.25.25 0 0 0-.44 0L1.698 13.132a.25.25 0 0 0 .22.368h12.164a.25.25 0 0 0 .22-.368Zm.53 3.996v2.5a.75.75 0 0 1-1.5 0v-2.5a.75.75 0 0 1 1.5 0ZM9 11a1 1 0 1 1-2 0 1 1 0 0 1 2 0Z"></path>
</svg>
    <button type="button" class="flash-close js-ajax-error-dismiss" aria-label="Dismiss error">
      <svg aria-hidden="true" height="16" viewBox="0 0 16 16" version="1.1" width="16" data-view-component="true" class="octicon octicon-x">
    <path d="M3.72 3.72a.75.75 0 0 1 1.06 0L8 6.94l3.22-3.22a.749.749 0 0 1 1.275.326.749.749 0 0 1-.215.734L9.06 8l3.22 3.22a.749.749 0 0 1-.326 1.275.749.749 0 0 1-.734-.215L8 9.06l-3.22 3.22a.751.751 0 0 1-1.042-.018.751.751 0 0 1-.018-1.042L6.94 8 3.72 4.78a.75.75 0 0 1 0-1.06Z"></path>
</svg>
    </button>
    You can’t perform that action at this time.
  </div>

    <template id="site-details-dialog">
  <details class="details-reset details-overlay details-overlay-dark lh-default color-fg-default hx_rsm" open>
    <summary role="button" aria-label="Close dialog"></summary>
    <details-dialog class="Box Box--overlay d-flex flex-column anim-fade-in fast hx_rsm-dialog hx_rsm-modal">
      <button class="Box-btn-octicon m-0 btn-octicon position-absolute right-0 top-0" type="button" aria-label="Close dialog" data-close-dialog>
        <svg aria-hidden="true" height="16" viewBox="0 0 16 16" version="1.1" width="16" data-view-component="true" class="octicon octicon-x">
    <path d="M3.72 3.72a.75.75 0 0 1 1.06 0L8 6.94l3.22-3.22a.749.749 0 0 1 1.275.326.749.749 0 0 1-.215.734L9.06 8l3.22 3.22a.749.749 0 0 1-.326 1.275.749.749 0 0 1-.734-.215L8 9.06l-3.22 3.22a.751.751 0 0 1-1.042-.018.751.751 0 0 1-.018-1.042L6.94 8 3.72 4.78a.75.75 0 0 1 0-1.06Z"></path>
</svg>
      </button>
      <div class="octocat-spinner my-6 js-details-dialog-spinner"></div>
    </details-dialog>
  </details>
</template>

    <div class="Popover js-hovercard-content position-absolute" style="display: none; outline: none;" tabindex="0">
  <div class="Popover-message Popover-message--bottom-left Popover-message--large Box color-shadow-large" style="width:360px;">
  </div>
</div>

    <template id="snippet-clipboard-copy-button">
  <div class="zeroclipboard-container position-absolute right-0 top-0">
    <clipboard-copy aria-label="Copy" class="ClipboardButton btn js-clipboard-copy m-2 p-0 tooltipped-no-delay" data-copy-feedback="Copied!" data-tooltip-direction="w">
      <svg aria-hidden="true" height="16" viewBox="0 0 16 16" version="1.1" width="16" data-view-component="true" class="octicon octicon-copy js-clipboard-copy-icon m-2">
    <path d="M0 6.75C0 5.784.784 5 1.75 5h1.5a.75.75 0 0 1 0 1.5h-1.5a.25.25 0 0 0-.25.25v7.5c0 .138.112.25.25.25h7.5a.25.25 0 0 0 .25-.25v-1.5a.75.75 0 0 1 1.5 0v1.5A1.75 1.75 0 0 1 9.25 16h-7.5A1.75 1.75 0 0 1 0 14.25Z"></path><path d="M5 1.75C5 .784 5.784 0 6.75 0h7.5C15.216 0 16 .784 16 1.75v7.5A1.75 1.75 0 0 1 14.25 11h-7.5A1.75 1.75 0 0 1 5 9.25Zm1.75-.25a.25.25 0 0 0-.25.25v7.5c0 .138.112.25.25.25h7.5a.25.25 0 0 0 .25-.25v-7.5a.25.25 0 0 0-.25-.25Z"></path>
</svg>
      <svg aria-hidden="true" height="16" viewBox="0 0 16 16" version="1.1" width="16" data-view-component="true" class="octicon octicon-check js-clipboard-check-icon color-fg-success d-none m-2">
    <path d="M13.78 4.22a.75.75 0 0 1 0 1.06l-7.25 7.25a.75.75 0 0 1-1.06 0L2.22 9.28a.751.751 0 0 1 .018-1.042.751.751 0 0 1 1.042-.018L6 10.94l6.72-6.72a.75.75 0 0 1 1.06 0Z"></path>
</svg>
    </clipboard-copy>
  </div>
</template>
<template id="snippet-clipboard-copy-button-unpositioned">
  <div class="zeroclipboard-container">
    <clipboard-copy aria-label="Copy" class="ClipboardButton btn btn-invisible js-clipboard-copy m-2 p-0 tooltipped-no-delay d-flex flex-justify-center flex-items-center" data-copy-feedback="Copied!" data-tooltip-direction="w">
      <svg aria-hidden="true" height="16" viewBox="0 0 16 16" version="1.1" width="16" data-view-component="true" class="octicon octicon-copy js-clipboard-copy-icon">
    <path d="M0 6.75C0 5.784.784 5 1.75 5h1.5a.75.75 0 0 1 0 1.5h-1.5a.25.25 0 0 0-.25.25v7.5c0 .138.112.25.25.25h7.5a.25.25 0 0 0 .25-.25v-1.5a.75.75 0 0 1 1.5 0v1.5A1.75 1.75 0 0 1 9.25 16h-7.5A1.75 1.75 0 0 1 0 14.25Z"></path><path d="M5 1.75C5 .784 5.784 0 6.75 0h7.5C15.216 0 16 .784 16 1.75v7.5A1.75 1.75 0 0 1 14.25 11h-7.5A1.75 1.75 0 0 1 5 9.25Zm1.75-.25a.25.25 0 0 0-.25.25v7.5c0 .138.112.25.25.25h7.5a.25.25 0 0 0 .25-.25v-7.5a.25.25 0 0 0-.25-.25Z"></path>
</svg>
      <svg aria-hidden="true" height="16" viewBox="0 0 16 16" version="1.1" width="16" data-view-component="true" class="octicon octicon-check js-clipboard-check-icon color-fg-success d-none">
    <path d="M13.78 4.22a.75.75 0 0 1 0 1.06l-7.25 7.25a.75.75 0 0 1-1.06 0L2.22 9.28a.751.751 0 0 1 .018-1.042.751.751 0 0 1 1.042-.018L6 10.94l6.72-6.72a.75.75 0 0 1 1.06 0Z"></path>
</svg>
    </clipboard-copy>
  </div>
</template>


    <style>
      .user-mention[href$="/zulkaidaakbar"] {
        color: var(--color-user-mention-fg);
        background-color: var(--color-user-mention-bg);
        border-radius: 2px;
        margin-left: -2px;
        margin-right: -2px;
        padding: 0 2px;
      }
    </style>


    </div>

    <div id="js-global-screen-reader-notice" class="sr-only" aria-live="polite" ></div>
  </body>
</html>

